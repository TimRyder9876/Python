{
 "cells": [
  {
   "cell_type": "markdown",
   "id": "a7b82fe2",
   "metadata": {},
   "source": [
    "## Popularity Based Recommendations"
   ]
  },
  {
   "cell_type": "code",
   "execution_count": 1,
   "id": "0e758717",
   "metadata": {},
   "outputs": [],
   "source": [
    "import pandas as pd\n",
    "import numpy as np"
   ]
  },
  {
   "cell_type": "code",
   "execution_count": 2,
   "id": "3729c16f",
   "metadata": {},
   "outputs": [
    {
     "name": "stdout",
     "output_type": "stream",
     "text": [
      "            user1  user2  user3  user4  user5\n",
      "Unnamed: 0                                   \n",
      "item1           1      1      0      1      1\n",
      "item2           1      0      1      1      0\n",
      "item3           1      1      0      1      1\n",
      "item4           1      0      1      0      1\n",
      "item5           1      1      0      0      1\n"
     ]
    }
   ],
   "source": [
    "interaction = pd.read_csv('https://bradfordtuckfield.com/purchasehistory1.csv')\n",
    "interaction.set_index(\"Unnamed: 0\", inplace=True)\n",
    "print(interaction)"
   ]
  },
  {
   "cell_type": "code",
   "execution_count": 9,
   "id": "b711655a",
   "metadata": {},
   "outputs": [],
   "source": [
    "# Create a function that will return the most popular items in order from the interaction matrix dataframe\n",
    "def popularity_based(interaction):\n",
    "    interaction_withcounts = interaction.copy()\n",
    "    interaction_withcounts['counts'] = interaction_withcounts.sum(axis=1)\n",
    "    sorted = interaction_withcounts.sort_values(by='counts',ascending=False)\n",
    "    most_popular = list(sorted.index)\n",
    "    return(most_popular)"
   ]
  },
  {
   "cell_type": "code",
   "execution_count": 10,
   "id": "9b9c0401",
   "metadata": {},
   "outputs": [
    {
     "data": {
      "text/plain": [
       "['item1', 'item3', 'item2', 'item4', 'item5']"
      ]
     },
     "execution_count": 10,
     "metadata": {},
     "output_type": "execute_result"
    }
   ],
   "source": [
    "popularity_based(interaction)"
   ]
  },
  {
   "cell_type": "markdown",
   "id": "52159a0c",
   "metadata": {},
   "source": [
    "## Item-Based Collaborative Filtering"
   ]
  },
  {
   "cell_type": "markdown",
   "id": "17df6407",
   "metadata": {},
   "source": [
    "### Measuring Vector Similarity"
   ]
  },
  {
   "cell_type": "markdown",
   "id": "8a6ef6e9",
   "metadata": {},
   "source": [
    "### Calculating Cosine Similarity"
   ]
  },
  {
   "cell_type": "markdown",
   "id": "530e40fe",
   "metadata": {},
   "source": [
    "## Document and save this one"
   ]
  },
  {
   "cell_type": "code",
   "execution_count": 18,
   "id": "e9287dea",
   "metadata": {},
   "outputs": [],
   "source": [
    "def dot_product(vector1, vector2):\n",
    "    thedotproduct = np.sum([vector1[k] * vector2[k] for k in range(0, len(vector1))])\n",
    "    return(thedotproduct)"
   ]
  },
  {
   "cell_type": "code",
   "execution_count": 19,
   "id": "d074c253",
   "metadata": {},
   "outputs": [],
   "source": [
    "def vector_norm(vector):\n",
    "    thenorm = np.sqrt(dot_product(vector,vector))\n",
    "    return (thenorm)"
   ]
  },
  {
   "cell_type": "code",
   "execution_count": 20,
   "id": "3093c934",
   "metadata": {},
   "outputs": [],
   "source": [
    "def cosine_similarity(vector1, vector2):\n",
    "    thedotproduct = dot_product(vector1,vector2)\n",
    "    thecosine = thedotproduct/(vector_norm(vector1)*vector_norm(vector2))\n",
    "    thecosine=np.round(thecosine,4)\n",
    "    return(thecosine)"
   ]
  },
  {
   "cell_type": "code",
   "execution_count": 23,
   "id": "c468a7f4",
   "metadata": {},
   "outputs": [],
   "source": [
    "def get_item_recommendations(interaction, itemname):\n",
    "    otherrows = [rowname for rowname in interaction.index if rowname!=itemname]\n",
    "    otheritems = interaction.loc[otherrows,:]\n",
    "    theitem = list(interaction.loc[itemname,:])\n",
    "    similarities = []\n",
    "    for items in otheritems.index:\n",
    "        similarities.append(cosine_similarity(theitem, list(otheritems.loc[items])))\n",
    "    otheritems['similarities'] = similarities\n",
    "    return list(otheritems.sort_values(by='similarities',ascending=False).index)"
   ]
  },
  {
   "cell_type": "code",
   "execution_count": 24,
   "id": "8c82e45c",
   "metadata": {},
   "outputs": [
    {
     "data": {
      "text/plain": [
       "['item3', 'item5', 'item2', 'item4']"
      ]
     },
     "execution_count": 24,
     "metadata": {},
     "output_type": "execute_result"
    }
   ],
   "source": [
    "get_item_recommendations(interaction,'item1')"
   ]
  },
  {
   "cell_type": "markdown",
   "id": "7391e14b",
   "metadata": {},
   "source": [
    "## User-Based Collaborative Filtering"
   ]
  },
  {
   "cell_type": "markdown",
   "id": "b078c94b",
   "metadata": {},
   "source": [
    "# Document this and save"
   ]
  },
  {
   "cell_type": "code",
   "execution_count": 34,
   "id": "1fbeabfb",
   "metadata": {},
   "outputs": [],
   "source": [
    "def get_similar_users(interaction, username):\n",
    "    othercolumns = [columnname for columnname in interaction.columns if columnname != username]\n",
    "    otherusers = interaction[othercolumns]\n",
    "    theuser = list(interaction[username])\n",
    "    similarities = []\n",
    "    for users in otherusers.columns:\n",
    "        similarities.append(cosine_similarity(theuser, list(otherusers.loc[:,users])))\n",
    "    otherusers.loc['similarities',:]=similarities\n",
    "    return list(otherusers.sort_values(by='similarities', axis=1, ascending=False).columns)"
   ]
  },
  {
   "cell_type": "code",
   "execution_count": 35,
   "id": "ccc5fb5b",
   "metadata": {},
   "outputs": [],
   "source": [
    "def get_user_recommendations(interaction, username):\n",
    "    similar_users = get_similar_users(interaction,username)\n",
    "    purchase_history = interaction[similar_users[0]]\n",
    "    purchased = list(purchase_history.loc[purchase_history==1].index)\n",
    "    purchased2 = list(interaction.loc[interaction[username]==1].index)\n",
    "    recs = sorted(list(set(purchased)-set(purchased2)))\n",
    "    return(recs)"
   ]
  },
  {
   "cell_type": "code",
   "execution_count": 36,
   "id": "e70c238c",
   "metadata": {},
   "outputs": [
    {
     "name": "stderr",
     "output_type": "stream",
     "text": [
      "C:\\Users\\timry\\AppData\\Local\\Temp\\ipykernel_20732\\1269150408.py:8: SettingWithCopyWarning: \n",
      "A value is trying to be set on a copy of a slice from a DataFrame\n",
      "\n",
      "See the caveats in the documentation: https://pandas.pydata.org/pandas-docs/stable/user_guide/indexing.html#returning-a-view-versus-a-copy\n",
      "  otherusers.loc['similarities',:]=similarities\n"
     ]
    },
    {
     "data": {
      "text/plain": [
       "['item4']"
      ]
     },
     "execution_count": 36,
     "metadata": {},
     "output_type": "execute_result"
    }
   ],
   "source": [
    "get_user_recommendations(interaction, 'user2')"
   ]
  },
  {
   "cell_type": "markdown",
   "id": "11555142",
   "metadata": {},
   "source": [
    "## Case Study: Music Recommendations"
   ]
  },
  {
   "cell_type": "code",
   "execution_count": 41,
   "id": "d991aa88",
   "metadata": {},
   "outputs": [
    {
     "data": {
      "text/html": [
       "<div>\n",
       "<style scoped>\n",
       "    .dataframe tbody tr th:only-of-type {\n",
       "        vertical-align: middle;\n",
       "    }\n",
       "\n",
       "    .dataframe tbody tr th {\n",
       "        vertical-align: top;\n",
       "    }\n",
       "\n",
       "    .dataframe thead th {\n",
       "        text-align: right;\n",
       "    }\n",
       "</style>\n",
       "<table border=\"1\" class=\"dataframe\">\n",
       "  <thead>\n",
       "    <tr style=\"text-align: right;\">\n",
       "      <th></th>\n",
       "      <th>user</th>\n",
       "      <th>a perfect circle</th>\n",
       "      <th>abba</th>\n",
       "      <th>ac/dc</th>\n",
       "      <th>adam green</th>\n",
       "      <th>aerosmith</th>\n",
       "      <th>afi</th>\n",
       "      <th>air</th>\n",
       "      <th>alanis morissette</th>\n",
       "      <th>alexisonfire</th>\n",
       "      <th>...</th>\n",
       "      <th>timbaland</th>\n",
       "      <th>tom waits</th>\n",
       "      <th>tool</th>\n",
       "      <th>tori amos</th>\n",
       "      <th>travis</th>\n",
       "      <th>trivium</th>\n",
       "      <th>u2</th>\n",
       "      <th>underoath</th>\n",
       "      <th>volbeat</th>\n",
       "      <th>yann tiersen</th>\n",
       "    </tr>\n",
       "  </thead>\n",
       "  <tbody>\n",
       "    <tr>\n",
       "      <th>0</th>\n",
       "      <td>1</td>\n",
       "      <td>0</td>\n",
       "      <td>0</td>\n",
       "      <td>0</td>\n",
       "      <td>0</td>\n",
       "      <td>0</td>\n",
       "      <td>0</td>\n",
       "      <td>0</td>\n",
       "      <td>0</td>\n",
       "      <td>0</td>\n",
       "      <td>...</td>\n",
       "      <td>0</td>\n",
       "      <td>0</td>\n",
       "      <td>0</td>\n",
       "      <td>0</td>\n",
       "      <td>0</td>\n",
       "      <td>0</td>\n",
       "      <td>0</td>\n",
       "      <td>0</td>\n",
       "      <td>0</td>\n",
       "      <td>0</td>\n",
       "    </tr>\n",
       "    <tr>\n",
       "      <th>1</th>\n",
       "      <td>33</td>\n",
       "      <td>0</td>\n",
       "      <td>0</td>\n",
       "      <td>0</td>\n",
       "      <td>1</td>\n",
       "      <td>0</td>\n",
       "      <td>0</td>\n",
       "      <td>0</td>\n",
       "      <td>0</td>\n",
       "      <td>0</td>\n",
       "      <td>...</td>\n",
       "      <td>0</td>\n",
       "      <td>0</td>\n",
       "      <td>0</td>\n",
       "      <td>0</td>\n",
       "      <td>0</td>\n",
       "      <td>0</td>\n",
       "      <td>0</td>\n",
       "      <td>0</td>\n",
       "      <td>0</td>\n",
       "      <td>0</td>\n",
       "    </tr>\n",
       "    <tr>\n",
       "      <th>2</th>\n",
       "      <td>42</td>\n",
       "      <td>0</td>\n",
       "      <td>0</td>\n",
       "      <td>0</td>\n",
       "      <td>0</td>\n",
       "      <td>0</td>\n",
       "      <td>0</td>\n",
       "      <td>0</td>\n",
       "      <td>0</td>\n",
       "      <td>0</td>\n",
       "      <td>...</td>\n",
       "      <td>0</td>\n",
       "      <td>0</td>\n",
       "      <td>0</td>\n",
       "      <td>0</td>\n",
       "      <td>0</td>\n",
       "      <td>0</td>\n",
       "      <td>0</td>\n",
       "      <td>0</td>\n",
       "      <td>0</td>\n",
       "      <td>0</td>\n",
       "    </tr>\n",
       "    <tr>\n",
       "      <th>3</th>\n",
       "      <td>51</td>\n",
       "      <td>0</td>\n",
       "      <td>0</td>\n",
       "      <td>0</td>\n",
       "      <td>0</td>\n",
       "      <td>0</td>\n",
       "      <td>0</td>\n",
       "      <td>0</td>\n",
       "      <td>0</td>\n",
       "      <td>0</td>\n",
       "      <td>...</td>\n",
       "      <td>0</td>\n",
       "      <td>0</td>\n",
       "      <td>0</td>\n",
       "      <td>0</td>\n",
       "      <td>0</td>\n",
       "      <td>0</td>\n",
       "      <td>0</td>\n",
       "      <td>0</td>\n",
       "      <td>0</td>\n",
       "      <td>0</td>\n",
       "    </tr>\n",
       "    <tr>\n",
       "      <th>4</th>\n",
       "      <td>62</td>\n",
       "      <td>0</td>\n",
       "      <td>0</td>\n",
       "      <td>0</td>\n",
       "      <td>0</td>\n",
       "      <td>0</td>\n",
       "      <td>0</td>\n",
       "      <td>0</td>\n",
       "      <td>0</td>\n",
       "      <td>0</td>\n",
       "      <td>...</td>\n",
       "      <td>0</td>\n",
       "      <td>0</td>\n",
       "      <td>0</td>\n",
       "      <td>0</td>\n",
       "      <td>0</td>\n",
       "      <td>0</td>\n",
       "      <td>0</td>\n",
       "      <td>0</td>\n",
       "      <td>0</td>\n",
       "      <td>0</td>\n",
       "    </tr>\n",
       "  </tbody>\n",
       "</table>\n",
       "<p>5 rows × 286 columns</p>\n",
       "</div>"
      ],
      "text/plain": [
       "   user  a perfect circle  abba  ac/dc  adam green  aerosmith  afi  air  \\\n",
       "0     1                 0     0      0           0          0    0    0   \n",
       "1    33                 0     0      0           1          0    0    0   \n",
       "2    42                 0     0      0           0          0    0    0   \n",
       "3    51                 0     0      0           0          0    0    0   \n",
       "4    62                 0     0      0           0          0    0    0   \n",
       "\n",
       "   alanis morissette  alexisonfire  ...  timbaland  tom waits  tool  \\\n",
       "0                  0             0  ...          0          0     0   \n",
       "1                  0             0  ...          0          0     0   \n",
       "2                  0             0  ...          0          0     0   \n",
       "3                  0             0  ...          0          0     0   \n",
       "4                  0             0  ...          0          0     0   \n",
       "\n",
       "   tori amos  travis  trivium  u2  underoath  volbeat  yann tiersen  \n",
       "0          0       0        0   0          0        0             0  \n",
       "1          0       0        0   0          0        0             0  \n",
       "2          0       0        0   0          0        0             0  \n",
       "3          0       0        0   0          0        0             0  \n",
       "4          0       0        0   0          0        0             0  \n",
       "\n",
       "[5 rows x 286 columns]"
      ]
     },
     "execution_count": 41,
     "metadata": {},
     "output_type": "execute_result"
    }
   ],
   "source": [
    "lastfm = pd.read_csv(\"https://bradfordtuckfield.com/lastfm-matrix-germany.csv\")\n",
    "lastfm.head(5)"
   ]
  },
  {
   "cell_type": "code",
   "execution_count": 42,
   "id": "247f4b56",
   "metadata": {},
   "outputs": [],
   "source": [
    "lastfm.drop(['user'],axis=1,inplace=True)"
   ]
  },
  {
   "cell_type": "code",
   "execution_count": 43,
   "id": "27467a38",
   "metadata": {},
   "outputs": [],
   "source": [
    "lastfm = lastfm.T"
   ]
  },
  {
   "cell_type": "code",
   "execution_count": 44,
   "id": "1a8cb03f",
   "metadata": {},
   "outputs": [
    {
     "data": {
      "text/plain": [
       "(285, 1257)"
      ]
     },
     "execution_count": 44,
     "metadata": {},
     "output_type": "execute_result"
    }
   ],
   "source": [
    "lastfm.shape"
   ]
  },
  {
   "cell_type": "code",
   "execution_count": 45,
   "id": "2392bf4c",
   "metadata": {},
   "outputs": [
    {
     "data": {
      "text/plain": [
       "['madonna',\n",
       " 'robbie williams',\n",
       " 'elvis presley',\n",
       " 'michael jackson',\n",
       " 'queen',\n",
       " 'the beatles',\n",
       " 'kelly clarkson',\n",
       " 'groove coverage',\n",
       " 'duffy',\n",
       " 'mika']"
      ]
     },
     "execution_count": 45,
     "metadata": {},
     "output_type": "execute_result"
    }
   ],
   "source": [
    "get_item_recommendations(lastfm, 'abba')[0:10]"
   ]
  },
  {
   "cell_type": "code",
   "execution_count": 46,
   "id": "fee68ce0",
   "metadata": {},
   "outputs": [
    {
     "name": "stderr",
     "output_type": "stream",
     "text": [
      "C:\\Users\\timry\\AppData\\Local\\Temp\\ipykernel_20732\\2384721475.py:3: RuntimeWarning: invalid value encountered in scalar divide\n",
      "  thecosine = thedotproduct/(vector_norm(vector1)*vector_norm(vector2))\n",
      "C:\\Users\\timry\\AppData\\Local\\Temp\\ipykernel_20732\\1269150408.py:8: SettingWithCopyWarning: \n",
      "A value is trying to be set on a copy of a slice from a DataFrame\n",
      "\n",
      "See the caveats in the documentation: https://pandas.pydata.org/pandas-docs/stable/user_guide/indexing.html#returning-a-view-versus-a-copy\n",
      "  otherusers.loc['similarities',:]=similarities\n"
     ]
    },
    {
     "data": {
      "text/plain": [
       "['billy talent', 'bob marley', 'die toten hosen']"
      ]
     },
     "execution_count": 46,
     "metadata": {},
     "output_type": "execute_result"
    }
   ],
   "source": [
    "get_user_recommendations(lastfm,0)[0:3]"
   ]
  },
  {
   "cell_type": "code",
   "execution_count": null,
   "id": "581cd531",
   "metadata": {},
   "outputs": [],
   "source": []
  }
 ],
 "metadata": {
  "kernelspec": {
   "display_name": "Python 3 (ipykernel)",
   "language": "python",
   "name": "python3"
  },
  "language_info": {
   "codemirror_mode": {
    "name": "ipython",
    "version": 3
   },
   "file_extension": ".py",
   "mimetype": "text/x-python",
   "name": "python",
   "nbconvert_exporter": "python",
   "pygments_lexer": "ipython3",
   "version": "3.11.7"
  }
 },
 "nbformat": 4,
 "nbformat_minor": 5
}
