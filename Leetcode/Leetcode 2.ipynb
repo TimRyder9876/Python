{
 "cells": [
  {
   "cell_type": "code",
   "execution_count": 122,
   "id": "b45bec61",
   "metadata": {},
   "outputs": [
    {
     "name": "stdout",
     "output_type": "stream",
     "text": [
      "[[2, 4, 3], [5, 6, 4]]\n"
     ]
    },
    {
     "data": {
      "text/plain": [
       "[7, 0, 8]"
      ]
     },
     "execution_count": 122,
     "metadata": {},
     "output_type": "execute_result"
    }
   ],
   "source": [
    "def addTwoNumbers(l1, l2):\n",
    "    #print(l1) \n",
    "    #print(l2)\n",
    "    sorted_lists = []\n",
    "    sorted_lists = sorted([l1, l2], key=len)\n",
    "    length_diff = len(sorted_lists[1])-len(sorted_lists[0])\n",
    "    #print(length_diff)                           \n",
    "    for i in range((length_diff)):\n",
    "        sorted_lists[0].append(0)\n",
    "    print(sorted_lists)\n",
    "    total = []\n",
    "    \n",
    "    \n",
    "    new_carry_value = 0\n",
    "    old_carry_value = 0\n",
    "    \n",
    "    for i in range(0,len(sorted_lists[0])):\n",
    "        new_carry_value = 0\n",
    "        #print(i)\n",
    "        #print(sorted_lists[0][i])\n",
    "        #print(sorted_lists[1][i])\n",
    "        new_carry_value = (sorted_lists[0][i] + sorted_lists[1][i] + old_carry_value)//10\n",
    "        #print(new_carry_value)\n",
    "        total.append((sorted_lists[0][i] + sorted_lists[1][i] + old_carry_value)%10)\n",
    "        old_carry_value = new_carry_value\n",
    "    if old_carry_value != 0:\n",
    "        total.append(old_carry_value)\n",
    "    if sum(total) == 0:\n",
    "        total = [0]\n",
    "    return total\n",
    "    \n",
    "addTwoNumbers([2,4,3],[5,6,4])\n",
    "#addTwoNumbers([0,0],[0])\n",
    "#addTwoNumbers([9,9,9,9,9,9,9],[9,9,9,9])\n"
   ]
  },
  {
   "cell_type": "code",
   "execution_count": 124,
   "id": "50a59430",
   "metadata": {},
   "outputs": [
    {
     "data": {
      "text/plain": [
       "[8, 9, 9, 9, 0, 0, 0, 1]"
      ]
     },
     "execution_count": 124,
     "metadata": {},
     "output_type": "execute_result"
    }
   ],
   "source": [
    "def addTwoNumbers(l1, l2):\n",
    "    length_diff = len(l1)-len(l2)\n",
    "    \n",
    "    for i in range(len(l1) - len(l2)):\n",
    "        if len(l1) > len(l2):\n",
    "            l2.append(0)\n",
    "        elif len(l2) > len(l1):\n",
    "            l1.append(0)\n",
    "\n",
    "    total = []\n",
    "       \n",
    "    new_carry_value = 0\n",
    "    old_carry_value = 0\n",
    "    \n",
    "    for i in range(0,len(l1)):\n",
    "        new_carry_value = 0\n",
    "        new_carry_value = (l1[i] + l2[i] + old_carry_value)//10\n",
    "        total.append((l1[i] + l2[i] + old_carry_value)%10)\n",
    "        old_carry_value = new_carry_value\n",
    "    if old_carry_value != 0:\n",
    "        total.append(old_carry_value)\n",
    "    if sum(total) == 0:\n",
    "        total = [0]\n",
    "    return total\n",
    "    \n",
    "#addTwoNumbers([2,4,3,1],[5,6,4])\n",
    "#addTwoNumbers([0,0],[0])\n",
    "addTwoNumbers([9,9,9,9,9,9,9],[9,9,9,9])\n"
   ]
  },
  {
   "cell_type": "code",
   "execution_count": 167,
   "id": "9a169d5d",
   "metadata": {},
   "outputs": [
    {
     "name": "stdout",
     "output_type": "stream",
     "text": [
      "[8]\n",
      "[8, 9]\n",
      "[8, 9, 9]\n",
      "[8, 9, 9, 9]\n",
      "[8, 9, 9, 9, 0]\n",
      "[8, 9, 9, 9, 0, 0]\n",
      "[8, 9, 9, 9, 0, 0, 0]\n"
     ]
    },
    {
     "data": {
      "text/plain": [
       "[8, 9, 9, 9, 0, 0, 0, 1]"
      ]
     },
     "execution_count": 167,
     "metadata": {},
     "output_type": "execute_result"
    }
   ],
   "source": [
    "def addTwoNumbers(l1, l2):\n",
    "    \n",
    "    total = []\n",
    "    old_carry_value = 0    \n",
    "    \n",
    "    while l1 or l2:\n",
    "        val1 = l1[0] if l1 else 0\n",
    "        val2 = l2[0] if l2 else 0\n",
    "        new_carry_value = 0\n",
    "        new_carry_value = (val1 + val2 + old_carry_value)//10\n",
    "        total.append((val1 + val2 + old_carry_value)%10)\n",
    "        old_carry_value = new_carry_value\n",
    "        print(total)\n",
    "        if l1:\n",
    "            l1.pop()\n",
    "        if l2:\n",
    "            l2.pop()\n",
    "    if old_carry_value != 0:\n",
    "        total.append(old_carry_value)\n",
    "    if sum(total) == 0:\n",
    "        total = [0]\n",
    "    return total\n",
    "    \n",
    "#addTwoNumbers([2,4,3,1],[5,6,4])\n",
    "#addTwoNumbers([0,0],[0])\n",
    "addTwoNumbers([9,9,9,9,9,9,9],[9,9,9,9])"
   ]
  },
  {
   "cell_type": "code",
   "execution_count": null,
   "id": "059ca4f9",
   "metadata": {},
   "outputs": [],
   "source": [
    "# Definition for singly-linked list.\n",
    "#class ListNode:\n",
    "#    def __init__(self, val=0, next=None):\n",
    "#        self.val = val\n",
    "#        self.next = next\n",
    "\n",
    "class Solution:\n",
    "    def addTwoNumbers(self, l1: ListNode, l2: ListNode) -> ListNode:\n",
    "        dummy = ListNode()\n",
    "        current = dummy\n",
    "        carry = 0\n",
    "\n",
    "        while l1 or l2 or carry:\n",
    "            val1 = l1.val if l1 else 0\n",
    "            val2 = l2.val if l2 else 0\n",
    "\n",
    "            sum = val1 + val2 + carry\n",
    "            carry = sum // 10\n",
    "            current.next = ListNode(sum % 10)\n",
    "\n",
    "            current = current.next\n",
    "            l1 = l1.next if l1 else None\n",
    "            l2 = l2.next if l2 else None\n",
    "\n",
    "        return dummy.next\n"
   ]
  },
  {
   "cell_type": "code",
   "execution_count": null,
   "id": "8124de9d",
   "metadata": {},
   "outputs": [],
   "source": []
  }
 ],
 "metadata": {
  "kernelspec": {
   "display_name": "Python 3 (ipykernel)",
   "language": "python",
   "name": "python3"
  },
  "language_info": {
   "codemirror_mode": {
    "name": "ipython",
    "version": 3
   },
   "file_extension": ".py",
   "mimetype": "text/x-python",
   "name": "python",
   "nbconvert_exporter": "python",
   "pygments_lexer": "ipython3",
   "version": "3.11.7"
  }
 },
 "nbformat": 4,
 "nbformat_minor": 5
}
