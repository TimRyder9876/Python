{
 "cells": [
  {
   "cell_type": "markdown",
   "id": "1b5db255",
   "metadata": {},
   "source": [
    "## Creating Your First Web Scraper"
   ]
  },
  {
   "cell_type": "code",
   "execution_count": 1,
   "id": "26453e4e",
   "metadata": {},
   "outputs": [],
   "source": [
    "import requests"
   ]
  },
  {
   "cell_type": "code",
   "execution_count": 3,
   "id": "eea20833",
   "metadata": {},
   "outputs": [
    {
     "name": "stdout",
     "output_type": "stream",
     "text": [
      "<?xml version=\"1.0\" encoding=\"utf-8\"?>\n",
      "<!DOCTYPE html PUBLIC \"-//W3C//DTD XHTML 1.0 Strict//EN\" \"http://www.w3.org/TR/xhtml1/DTD/xhtml1-strict.dtd\">\n",
      "<html xmlns=\"http://www.w3.org/1999/xhtml\" xml:lang=\"en-US\" lang=\"en-US\">\n",
      "  <head><meta http-equiv=\"Content-Type\" content=\"text/html; charset=utf-8\">\n",
      "\n",
      "    <title>Bradford Tuckfield</title>\n",
      "    <meta name=\"description\" content=\"Bradford Tuckfield\" />\n",
      "    <meta name=\"keywords\" content=\"Bradford Tuckfield\" />\n",
      "    <meta name=\"google-site-verification\" content=\"eNw-LEFxVf71e-ZlYnv5tGSxTZ7V32coMCV9bxS3MGY\" />\n",
      "<link rel=\"stylesheet\" type=\"text/css\" href=\n"
     ]
    }
   ],
   "source": [
    "urltoget = \"https://bradfordtuckfield.com/indexarchive20210903.html\"\n",
    "pagecode = requests.get(urltoget)\n",
    "print(pagecode.text[0:600])"
   ]
  },
  {
   "cell_type": "markdown",
   "id": "7804e2ee",
   "metadata": {},
   "source": [
    "## Scraping an email address"
   ]
  },
  {
   "cell_type": "code",
   "execution_count": 7,
   "id": "b7edeb83",
   "metadata": {},
   "outputs": [
    {
     "name": "stdout",
     "output_type": "stream",
     "text": [
      "511\n"
     ]
    }
   ],
   "source": [
    "urltoget = \"https://bradfordtuckfield.com/contactscrape.html\"\n",
    "pagecode = requests.get(urltoget)\n",
    "\n",
    "mail_beginning=pagecode.text.find(\"Email:\")\n",
    "print(mail_beginnings)"
   ]
  },
  {
   "cell_type": "code",
   "execution_count": 8,
   "id": "2f10d0b5",
   "metadata": {},
   "outputs": [
    {
     "name": "stdout",
     "output_type": "stream",
     "text": [
      "Email:  <label class=\"email\" href=\"#\">demo@bradfordtuckfield.com</label>\r\n",
      "</div>\n"
     ]
    }
   ],
   "source": [
    "print(pagecode.text[(mail_beginning):(mail_beginning+80)])"
   ]
  },
  {
   "cell_type": "code",
   "execution_count": 9,
   "id": "db88287b",
   "metadata": {},
   "outputs": [
    {
     "name": "stdout",
     "output_type": "stream",
     "text": [
      "demo@bradfordtuckfield.com\n"
     ]
    }
   ],
   "source": [
    "print(pagecode.text[(mail_beginning+38):(mail_beginning+64)])"
   ]
  },
  {
   "cell_type": "markdown",
   "id": "bd494cdf",
   "metadata": {},
   "source": [
    "## Searching for Addresses Directly"
   ]
  },
  {
   "cell_type": "code",
   "execution_count": 10,
   "id": "948066e3",
   "metadata": {},
   "outputs": [
    {
     "name": "stdout",
     "output_type": "stream",
     "text": [
      "553\n"
     ]
    }
   ],
   "source": [
    "urltoget = \"https://bradfordtuckfield.com/contactscrape.html\"\n",
    "pagecode = requests.get(urltoget)\n",
    "\n",
    "at_beginning=pagecode.text.find('@')\n",
    "print(at_beginning)"
   ]
  },
  {
   "cell_type": "code",
   "execution_count": 11,
   "id": "8fc357e3",
   "metadata": {},
   "outputs": [
    {
     "name": "stdout",
     "output_type": "stream",
     "text": [
      "demo@bradfordtuckfield.com\n"
     ]
    }
   ],
   "source": [
    "print(pagecode.text[(at_beginning-4):(at_beginning+22)])"
   ]
  },
  {
   "cell_type": "markdown",
   "id": "54ccc0d1",
   "metadata": {},
   "source": [
    "## Performing Searches with Regular Expressions"
   ]
  },
  {
   "cell_type": "code",
   "execution_count": 12,
   "id": "13819b12",
   "metadata": {},
   "outputs": [],
   "source": [
    "import re"
   ]
  },
  {
   "cell_type": "code",
   "execution_count": 31,
   "id": "a2e236a4",
   "metadata": {},
   "outputs": [
    {
     "name": "stdout",
     "output_type": "stream",
     "text": [
      "(18, 27)\n"
     ]
    }
   ],
   "source": [
    "# if matching does not occur, an error will be returned\n",
    "\n",
    "# the \"r\" before the \" ' \" tells Python to look for the string in ' ' as a raw string \n",
    "# that is not to be changed in the search\n",
    "\n",
    "# span provides the beginning and end locations of the substring\n",
    "\n",
    "print(re.search(r'recommend','irrelevant text I recommend irrelevant text').span())"
   ]
  },
  {
   "cell_type": "code",
   "execution_count": 32,
   "id": "59686851",
   "metadata": {},
   "outputs": [
    {
     "name": "stdout",
     "output_type": "stream",
     "text": [
      "(18, 27)\n"
     ]
    }
   ],
   "source": [
    "# The \"+\" looks for one or more times the preceeding character\n",
    "print(re.search(r'rec+om+end','irrelevant text I recommend irrelevant text').span())"
   ]
  },
  {
   "cell_type": "code",
   "execution_count": 33,
   "id": "139d7e4a",
   "metadata": {},
   "outputs": [
    {
     "name": "stdout",
     "output_type": "stream",
     "text": [
      "(18, 26)\n",
      "(18, 28)\n"
     ]
    },
    {
     "ename": "AttributeError",
     "evalue": "'NoneType' object has no attribute 'span'",
     "output_type": "error",
     "traceback": [
      "\u001b[1;31m---------------------------------------------------------------------------\u001b[0m",
      "\u001b[1;31mAttributeError\u001b[0m                            Traceback (most recent call last)",
      "Cell \u001b[1;32mIn[33], line 3\u001b[0m\n\u001b[0;32m      1\u001b[0m \u001b[38;5;28mprint\u001b[39m(re\u001b[38;5;241m.\u001b[39msearch(\u001b[38;5;124mr\u001b[39m\u001b[38;5;124m'\u001b[39m\u001b[38;5;124mrec+om+end\u001b[39m\u001b[38;5;124m'\u001b[39m,\u001b[38;5;124m'\u001b[39m\u001b[38;5;124mirrelevant text I recomend irrelevant text\u001b[39m\u001b[38;5;124m'\u001b[39m)\u001b[38;5;241m.\u001b[39mspan())\n\u001b[0;32m      2\u001b[0m \u001b[38;5;28mprint\u001b[39m(re\u001b[38;5;241m.\u001b[39msearch(\u001b[38;5;124mr\u001b[39m\u001b[38;5;124m'\u001b[39m\u001b[38;5;124mrec+om+end\u001b[39m\u001b[38;5;124m'\u001b[39m,\u001b[38;5;124m'\u001b[39m\u001b[38;5;124mirrelevant text I reccommend irrelevant text\u001b[39m\u001b[38;5;124m'\u001b[39m)\u001b[38;5;241m.\u001b[39mspan())\n\u001b[1;32m----> 3\u001b[0m \u001b[38;5;28mprint\u001b[39m(re\u001b[38;5;241m.\u001b[39msearch(\u001b[38;5;124mr\u001b[39m\u001b[38;5;124m'\u001b[39m\u001b[38;5;124mrec+om+end\u001b[39m\u001b[38;5;124m'\u001b[39m,\u001b[38;5;124m'\u001b[39m\u001b[38;5;124mirrelevant text I reommend irrelevant text\u001b[39m\u001b[38;5;124m'\u001b[39m)\u001b[38;5;241m.\u001b[39mspan())\n\u001b[0;32m      4\u001b[0m \u001b[38;5;28mprint\u001b[39m(re\u001b[38;5;241m.\u001b[39msearch(\u001b[38;5;124mr\u001b[39m\u001b[38;5;124m'\u001b[39m\u001b[38;5;124mrec+om+end\u001b[39m\u001b[38;5;124m'\u001b[39m,\u001b[38;5;124m'\u001b[39m\u001b[38;5;124mirrelevant text I recomment irrelevant text\u001b[39m\u001b[38;5;124m'\u001b[39m)\u001b[38;5;241m.\u001b[39mspan())\n",
      "\u001b[1;31mAttributeError\u001b[0m: 'NoneType' object has no attribute 'span'"
     ]
    }
   ],
   "source": [
    "print(re.search(r'rec+om+end','irrelevant text I recomend irrelevant text').span())\n",
    "print(re.search(r'rec+om+end','irrelevant text I reccommend irrelevant text').span())\n",
    "print(re.search(r'rec+om+end','irrelevant text I reommend irrelevant text').span())\n",
    "print(re.search(r'rec+om+end','irrelevant text I recomment irrelevant text').span())"
   ]
  },
  {
   "cell_type": "markdown",
   "id": "d0c71583",
   "metadata": {},
   "source": [
    "## Using Metacharacters for Flexible Searches"
   ]
  },
  {
   "cell_type": "code",
   "execution_count": 34,
   "id": "efbaff03",
   "metadata": {},
   "outputs": [
    {
     "data": {
      "text/plain": [
       "(19, 22)"
      ]
     },
     "execution_count": 34,
     "metadata": {},
     "output_type": "execute_result"
    }
   ],
   "source": [
    "# The '*' looks for zero or mor times the preceeding character\n",
    "re.search('10*','My bank balance is 100').span()"
   ]
  },
  {
   "cell_type": "code",
   "execution_count": 35,
   "id": "bd149713",
   "metadata": {},
   "outputs": [
    {
     "ename": "AttributeError",
     "evalue": "'NoneType' object has no attribute 'span'",
     "output_type": "error",
     "traceback": [
      "\u001b[1;31m---------------------------------------------------------------------------\u001b[0m",
      "\u001b[1;31mAttributeError\u001b[0m                            Traceback (most recent call last)",
      "Cell \u001b[1;32mIn[35], line 3\u001b[0m\n\u001b[0;32m      1\u001b[0m re\u001b[38;5;241m.\u001b[39msearch(\u001b[38;5;124m'\u001b[39m\u001b[38;5;124m10*\u001b[39m\u001b[38;5;124m'\u001b[39m,\u001b[38;5;124m'\u001b[39m\u001b[38;5;124mMy bank balance is 1\u001b[39m\u001b[38;5;124m'\u001b[39m)\u001b[38;5;241m.\u001b[39mspan()\n\u001b[0;32m      2\u001b[0m re\u001b[38;5;241m.\u001b[39msearch(\u001b[38;5;124m'\u001b[39m\u001b[38;5;124m10*\u001b[39m\u001b[38;5;124m'\u001b[39m,\u001b[38;5;124m'\u001b[39m\u001b[38;5;124mMy bank balance is 1000\u001b[39m\u001b[38;5;124m'\u001b[39m)\u001b[38;5;241m.\u001b[39mspan()\n\u001b[1;32m----> 3\u001b[0m re\u001b[38;5;241m.\u001b[39msearch(\u001b[38;5;124m'\u001b[39m\u001b[38;5;124m10*\u001b[39m\u001b[38;5;124m'\u001b[39m,\u001b[38;5;124m'\u001b[39m\u001b[38;5;124mMy bank balance is 9000\u001b[39m\u001b[38;5;124m'\u001b[39m)\u001b[38;5;241m.\u001b[39mspan()\n\u001b[0;32m      4\u001b[0m re\u001b[38;5;241m.\u001b[39msearch(\u001b[38;5;124m'\u001b[39m\u001b[38;5;124m10*\u001b[39m\u001b[38;5;124m'\u001b[39m,\u001b[38;5;124m'\u001b[39m\u001b[38;5;124mMy bank balance is 1000000\u001b[39m\u001b[38;5;124m'\u001b[39m)\u001b[38;5;241m.\u001b[39mspan()\n",
      "\u001b[1;31mAttributeError\u001b[0m: 'NoneType' object has no attribute 'span'"
     ]
    }
   ],
   "source": [
    "re.search('10*','My bank balance is 1').span()\n",
    "re.search('10*','My bank balance is 1000').span()\n",
    "re.search('10*','My bank balance is 9000').span()\n",
    "re.search('10*','My bank balance is 1000000').span()"
   ]
  },
  {
   "cell_type": "code",
   "execution_count": 36,
   "id": "91e41092",
   "metadata": {},
   "outputs": [
    {
     "name": "stdout",
     "output_type": "stream",
     "text": [
      "(29, 34)\n"
     ]
    }
   ],
   "source": [
    "# The '?' character looks for either zero or one times the preceeding character\n",
    "print(re.search('Clarke?','Please refer questions to Mr.Clark').span())"
   ]
  },
  {
   "cell_type": "markdown",
   "id": "8d6d482c",
   "metadata": {},
   "source": [
    "## Fine-Tuning Searches with Escape Sequences"
   ]
  },
  {
   "cell_type": "code",
   "execution_count": 37,
   "id": "eb7c407b",
   "metadata": {},
   "outputs": [
    {
     "ename": "AttributeError",
     "evalue": "'NoneType' object has no attribute 'span'",
     "output_type": "error",
     "traceback": [
      "\u001b[1;31m---------------------------------------------------------------------------\u001b[0m",
      "\u001b[1;31mAttributeError\u001b[0m                            Traceback (most recent call last)",
      "Cell \u001b[1;32mIn[37], line 1\u001b[0m\n\u001b[1;32m----> 1\u001b[0m re\u001b[38;5;241m.\u001b[39msearch(\u001b[38;5;124m'\u001b[39m\u001b[38;5;124m99+12=111\u001b[39m\u001b[38;5;124m'\u001b[39m,\u001b[38;5;124m'\u001b[39m\u001b[38;5;124mExample addition: 99+12=111\u001b[39m\u001b[38;5;124m'\u001b[39m)\u001b[38;5;241m.\u001b[39mspan()\n",
      "\u001b[1;31mAttributeError\u001b[0m: 'NoneType' object has no attribute 'span'"
     ]
    }
   ],
   "source": [
    "re.search('99+12=111','Example addition: 99+12=111').span()"
   ]
  },
  {
   "cell_type": "code",
   "execution_count": 38,
   "id": "809a0db0",
   "metadata": {},
   "outputs": [
    {
     "data": {
      "text/plain": [
       "(16, 26)"
      ]
     },
     "execution_count": 38,
     "metadata": {},
     "output_type": "execute_result"
    }
   ],
   "source": [
    "re.search('99+12=111','Incorrect fact: 999912=111').span()"
   ]
  },
  {
   "cell_type": "code",
   "execution_count": 39,
   "id": "708679f6",
   "metadata": {},
   "outputs": [
    {
     "data": {
      "text/plain": [
       "(18, 27)"
      ]
     },
     "execution_count": 39,
     "metadata": {},
     "output_type": "execute_result"
    }
   ],
   "source": [
    "# Use \"\\\" as an escape character to not use \"+\" as a special character\n",
    "re.search('99\\+12=111','Example addition: 99+12=111').span()"
   ]
  },
  {
   "cell_type": "code",
   "execution_count": 40,
   "id": "7030f5f2",
   "metadata": {},
   "outputs": [
    {
     "data": {
      "text/plain": [
       "(21, 28)"
      ]
     },
     "execution_count": 40,
     "metadata": {},
     "output_type": "execute_result"
    }
   ],
   "source": [
    "# Use \"\\\" as an escape character to not use \"?\" as a special character\n",
    "re.search('Clarke\\?','Is anyone here named Clarke?').span()"
   ]
  },
  {
   "cell_type": "code",
   "execution_count": 42,
   "id": "da16f14d",
   "metadata": {},
   "outputs": [
    {
     "data": {
      "text/plain": [
       "(24, 25)"
      ]
     },
     "execution_count": 42,
     "metadata": {},
     "output_type": "execute_result"
    }
   ],
   "source": [
    "# To search search for a backslash, you need 2 '\\\\' in the search\n",
    "re.search(r'\\\\', r'The escape character is \\\\').span()"
   ]
  },
  {
   "cell_type": "code",
   "execution_count": 49,
   "id": "e9c9171b",
   "metadata": {},
   "outputs": [
    {
     "data": {
      "text/plain": [
       "(24, 25)"
      ]
     },
     "execution_count": 49,
     "metadata": {},
     "output_type": "execute_result"
    }
   ],
   "source": [
    "# The '\\d' will search for any digit in a string. only 1 digit here not multiple\n",
    "re.search('\\d','The loneliest number is 1234').span()"
   ]
  },
  {
   "cell_type": "code",
   "execution_count": 50,
   "id": "009e82c3",
   "metadata": {},
   "outputs": [
    {
     "data": {
      "text/plain": [
       "(1, 2)"
      ]
     },
     "execution_count": 50,
     "metadata": {},
     "output_type": "execute_result"
    }
   ],
   "source": [
    "# search for lowercase letters\n",
    "re.search('[a-z]','My twitter is @fake; my email is abc@def.com').span()"
   ]
  },
  {
   "cell_type": "code",
   "execution_count": 51,
   "id": "4c23d31b",
   "metadata": {},
   "outputs": [
    {
     "data": {
      "text/plain": [
       "(0, 1)"
      ]
     },
     "execution_count": 51,
     "metadata": {},
     "output_type": "execute_result"
    }
   ],
   "source": [
    "# search for uppercase letters\n",
    "re.search('[A-Z]','My twitter is @fake; my email is abc@def.com').span()"
   ]
  },
  {
   "cell_type": "code",
   "execution_count": 53,
   "id": "8a4350f3",
   "metadata": {},
   "outputs": [
    {
     "data": {
      "text/plain": [
       "(14, 22)"
      ]
     },
     "execution_count": 53,
     "metadata": {},
     "output_type": "execute_result"
    }
   ],
   "source": [
    "# use \"|\" character to perform an OR logical expression. Put in brackets too.\n",
    "re.search('Manchac[a|k]', 'Lets drive on Manchaca.').span()"
   ]
  },
  {
   "cell_type": "code",
   "execution_count": 57,
   "id": "1bb05589",
   "metadata": {},
   "outputs": [
    {
     "data": {
      "text/plain": [
       "(0, 23)"
      ]
     },
     "execution_count": 57,
     "metadata": {},
     "output_type": "execute_result"
    }
   ],
   "source": [
    "# the \".\" is a wildcard for any character except the end of a line (\\n)\n",
    "# the \".*\" will search for any number of characters coming after school\n",
    "# the \"\\.\" will search for a period (.) and not a wildcard\n",
    "# the \"pdf$\" searched for \"pdf\" but ONLY if it is located at the end of a line \n",
    "# if there was a space after \"pdf\", an error message for return\n",
    "re.search('school.*\\.pdf$','schoolforgottenname.pdf').span()"
   ]
  },
  {
   "cell_type": "code",
   "execution_count": 58,
   "id": "3a8f4e18",
   "metadata": {},
   "outputs": [
    {
     "name": "stdout",
     "output_type": "stream",
     "text": [
      "(0, 23)\n"
     ]
    }
   ],
   "source": [
    "print(re.search('school.*\\.pdf$','schoolforgottenname.pdf').span())"
   ]
  },
  {
   "cell_type": "code",
   "execution_count": 59,
   "id": "18ae4b45",
   "metadata": {},
   "outputs": [
    {
     "name": "stdout",
     "output_type": "stream",
     "text": [
      "(0, 10)\n"
     ]
    }
   ],
   "source": [
    "print(re.search('school.*\\.pdf$','school.pdf').span())"
   ]
  },
  {
   "cell_type": "code",
   "execution_count": 60,
   "id": "d0bcdcaa",
   "metadata": {},
   "outputs": [
    {
     "name": "stdout",
     "output_type": "stream",
     "text": [
      "(0, 19)\n"
     ]
    }
   ],
   "source": [
    "print(re.search('school.*\\.pdf$','schoolothername.pdf').span())"
   ]
  },
  {
   "cell_type": "code",
   "execution_count": 62,
   "id": "92e6b68e",
   "metadata": {},
   "outputs": [
    {
     "ename": "AttributeError",
     "evalue": "'NoneType' object has no attribute 'span'",
     "output_type": "error",
     "traceback": [
      "\u001b[1;31m---------------------------------------------------------------------------\u001b[0m",
      "\u001b[1;31mAttributeError\u001b[0m                            Traceback (most recent call last)",
      "Cell \u001b[1;32mIn[62], line 2\u001b[0m\n\u001b[0;32m      1\u001b[0m \u001b[38;5;66;03m# Errors out because school is not found\u001b[39;00m\n\u001b[1;32m----> 2\u001b[0m \u001b[38;5;28mprint\u001b[39m(re\u001b[38;5;241m.\u001b[39msearch(\u001b[38;5;124m'\u001b[39m\u001b[38;5;124mschool.*\u001b[39m\u001b[38;5;124m\\\u001b[39m\u001b[38;5;124m.pdf$\u001b[39m\u001b[38;5;124m'\u001b[39m,\u001b[38;5;124m'\u001b[39m\u001b[38;5;124mothername.pdf\u001b[39m\u001b[38;5;124m'\u001b[39m)\u001b[38;5;241m.\u001b[39mspan())\n",
      "\u001b[1;31mAttributeError\u001b[0m: 'NoneType' object has no attribute 'span'"
     ]
    }
   ],
   "source": [
    "# Errors out because school is not found\n",
    "print(re.search('school.*\\.pdf$','othername.pdf').span())"
   ]
  },
  {
   "cell_type": "code",
   "execution_count": 63,
   "id": "96518afa",
   "metadata": {},
   "outputs": [
    {
     "ename": "AttributeError",
     "evalue": "'NoneType' object has no attribute 'span'",
     "output_type": "error",
     "traceback": [
      "\u001b[1;31m---------------------------------------------------------------------------\u001b[0m",
      "\u001b[1;31mAttributeError\u001b[0m                            Traceback (most recent call last)",
      "Cell \u001b[1;32mIn[63], line 1\u001b[0m\n\u001b[1;32m----> 1\u001b[0m \u001b[38;5;28mprint\u001b[39m(re\u001b[38;5;241m.\u001b[39msearch(\u001b[38;5;124m'\u001b[39m\u001b[38;5;124mschool.*\u001b[39m\u001b[38;5;124m\\\u001b[39m\u001b[38;5;124m.pdf$\u001b[39m\u001b[38;5;124m'\u001b[39m,\u001b[38;5;124m'\u001b[39m\u001b[38;5;124mschoolforgottennamepdf\u001b[39m\u001b[38;5;124m'\u001b[39m)\u001b[38;5;241m.\u001b[39mspan())\n",
      "\u001b[1;31mAttributeError\u001b[0m: 'NoneType' object has no attribute 'span'"
     ]
    }
   ],
   "source": [
    "# Errors out because the period \".\" is not found\n",
    "print(re.search('school.*\\.pdf$','schoolforgottennamepdf').span())"
   ]
  },
  {
   "cell_type": "code",
   "execution_count": 65,
   "id": "8a2abc1f",
   "metadata": {},
   "outputs": [
    {
     "ename": "AttributeError",
     "evalue": "'NoneType' object has no attribute 'span'",
     "output_type": "error",
     "traceback": [
      "\u001b[1;31m---------------------------------------------------------------------------\u001b[0m",
      "\u001b[1;31mAttributeError\u001b[0m                            Traceback (most recent call last)",
      "Cell \u001b[1;32mIn[65], line 2\u001b[0m\n\u001b[0;32m      1\u001b[0m \u001b[38;5;66;03m# Errors out because pdf is not at the end of the line\u001b[39;00m\n\u001b[1;32m----> 2\u001b[0m \u001b[38;5;28mprint\u001b[39m(re\u001b[38;5;241m.\u001b[39msearch(\u001b[38;5;124m'\u001b[39m\u001b[38;5;124mschool.*\u001b[39m\u001b[38;5;124m\\\u001b[39m\u001b[38;5;124m.pdf$\u001b[39m\u001b[38;5;124m'\u001b[39m,\u001b[38;5;124m'\u001b[39m\u001b[38;5;124mschoolforgottenname.pdf.exe\u001b[39m\u001b[38;5;124m'\u001b[39m)\u001b[38;5;241m.\u001b[39mspan())\n",
      "\u001b[1;31mAttributeError\u001b[0m: 'NoneType' object has no attribute 'span'"
     ]
    }
   ],
   "source": [
    "# Errors out because pdf is not at the end of the line\n",
    "print(re.search('school.*\\.pdf$','schoolforgottenname.pdf.exe').span())"
   ]
  },
  {
   "cell_type": "markdown",
   "id": "6639970d",
   "metadata": {},
   "source": [
    "## Using Regular Expressions to Search for Email Addresses"
   ]
  },
  {
   "cell_type": "code",
   "execution_count": 66,
   "id": "56070e24",
   "metadata": {},
   "outputs": [
    {
     "data": {
      "text/plain": [
       "(33, 44)"
      ]
     },
     "execution_count": 66,
     "metadata": {},
     "output_type": "execute_result"
    }
   ],
   "source": [
    "text = 'My twitter is @fake; my email is abc@def.com'\n",
    "re.search('[a-zA-Z]+@[a-zA-Z]+\\.[a-zA-Z]+',text).span()"
   ]
  },
  {
   "cell_type": "markdown",
   "id": "1955d1a5",
   "metadata": {},
   "source": [
    "## Converting Results to Usable Data"
   ]
  },
  {
   "cell_type": "code",
   "execution_count": 68,
   "id": "a9ea49fe",
   "metadata": {},
   "outputs": [],
   "source": [
    "import requests"
   ]
  },
  {
   "cell_type": "code",
   "execution_count": 69,
   "id": "ddd2409e",
   "metadata": {},
   "outputs": [],
   "source": [
    "urltoget = \"https://bradfordtuckfield.com/contactscrape2.html\"\n",
    "pagecode = requests.get(urltoget)"
   ]
  },
  {
   "cell_type": "code",
   "execution_count": 75,
   "id": "3debaa53",
   "metadata": {},
   "outputs": [
    {
     "name": "stdout",
     "output_type": "stream",
     "text": [
      "{'Date': 'Sat, 15 Feb 2025 20:48:32 GMT', 'Server': 'Apache/2.4.53 (Debian)', 'Last-Modified': 'Sun, 05 Jun 2022 23:11:00 GMT', 'ETag': '\"29e-5e0bb78095140-gzip\"', 'Accept-Ranges': 'bytes', 'Vary': 'Accept-Encoding', 'Content-Encoding': 'gzip', 'Content-Length': '378', 'Keep-Alive': 'timeout=5, max=100', 'Connection': 'Keep-Alive', 'Content-Type': 'text/html'}\n"
     ]
    }
   ],
   "source": [
    "# Print the headers request object\n",
    "print(pagecode.headers)"
   ]
  },
  {
   "cell_type": "code",
   "execution_count": 76,
   "id": "240646d3",
   "metadata": {},
   "outputs": [
    {
     "name": "stdout",
     "output_type": "stream",
     "text": [
      "b'<!DOCTYPE html>\\r\\n<html lang=\"en\">\\r\\n<head>\\r\\n    <meta charset=\"UTF-8\">\\r\\n    <meta http-equiv=\"X-UA-Compatible\" content=\"IE=edge\">\\r\\n    <meta name=\"viewport\" content=\"width=device-width, initial-scale=1.0\">\\r\\n    <title>contact scraping</title>\\r\\n</head>\\r\\n<body>\\r\\n    \\r\\n<h2>Demo website for contact scraping</h2>\\r\\n\\r\\n<p>\\r\\nHere is some irrelevant text. A contact email is abc@abc.com. Another email is def@def.com. You can also try to email ghi@ghi.com. There\\'s also jkl@jkl.org, and also mno@mno.net. Here is some more irrelevant text. Another email address is pqr@pqr.edu. More irrelevant text. stu@stu.com is another example email address.\\r\\n</p>\\r\\n\\r\\n    \\r\\n</body>\\r\\n</html>\\r\\n'\n"
     ]
    }
   ],
   "source": [
    "# print content of the request object\n",
    "print(pagecode.content)"
   ]
  },
  {
   "cell_type": "code",
   "execution_count": 78,
   "id": "7f942058",
   "metadata": {},
   "outputs": [
    {
     "name": "stdout",
     "output_type": "stream",
     "text": [
      "https://bradfordtuckfield.com/contactscrape2.html\n"
     ]
    }
   ],
   "source": [
    "# print url of the request object as a URL link you can click on\n",
    "print(pagecode.url)"
   ]
  },
  {
   "cell_type": "code",
   "execution_count": 79,
   "id": "8a33423f",
   "metadata": {},
   "outputs": [
    {
     "name": "stdout",
     "output_type": "stream",
     "text": [
      "<!DOCTYPE html>\r\n",
      "<html lang=\"en\">\r\n",
      "<head>\r\n",
      "    <meta charset=\"UTF-8\">\r\n",
      "    <meta http-equiv=\"X-UA-Compatible\" content=\"IE=edge\">\r\n",
      "    <meta name=\"viewport\" content=\"width=device-width, initial-scale=1.0\">\r\n",
      "    <title>contact scraping</title>\r\n",
      "</head>\r\n",
      "<body>\r\n",
      "    \r\n",
      "<h2>Demo website for contact scraping</h2>\r\n",
      "\r\n",
      "<p>\r\n",
      "Here is some irrelevant text. A contact email is abc@abc.com. Another email is def@def.com. You can also try to email ghi@ghi.com. There's also jkl@jkl.org, and also mno@mno.net. Here is some more irrelevant text. Another email address is pqr@pqr.edu. More irrelevant text. stu@stu.com is another example email address.\r\n",
      "</p>\r\n",
      "\r\n",
      "    \r\n",
      "</body>\r\n",
      "</html>\r\n",
      "\n"
     ]
    }
   ],
   "source": [
    "print(pagecode.text)"
   ]
  },
  {
   "cell_type": "code",
   "execution_count": 100,
   "id": "23f972cb",
   "metadata": {},
   "outputs": [],
   "source": [
    "# create an iterator object to find possible multiple matches. re.search only find the first match\n",
    "allmatches = re.finditer('[a-zA-z]+@[a-zA-Z]+\\.[a-zA-Z]+',pagecode.text)"
   ]
  },
  {
   "cell_type": "code",
   "execution_count": 101,
   "id": "3c26e284",
   "metadata": {},
   "outputs": [
    {
     "name": "stdout",
     "output_type": "stream",
     "text": [
      "['abc@abc.com', 'def@def.com', 'ghi@ghi.com', 'jkl@jkl.org', 'mno@mno.net', 'pqr@pqr.edu', 'stu@stu.com']\n"
     ]
    }
   ],
   "source": [
    "# take the matches and append them to a dataframe\n",
    "alladdresses = []\n",
    "for match in allmatches:\n",
    "    alladdresses.append(match[0])\n",
    "print(alladdresses)"
   ]
  },
  {
   "cell_type": "code",
   "execution_count": 87,
   "id": "404316e7",
   "metadata": {},
   "outputs": [],
   "source": [
    "import pandas as pd"
   ]
  },
  {
   "cell_type": "code",
   "execution_count": 88,
   "id": "0bbbfe2b",
   "metadata": {},
   "outputs": [
    {
     "name": "stdout",
     "output_type": "stream",
     "text": [
      "             0\n",
      "0  abc@abc.com\n",
      "1  def@def.com\n",
      "2  ghi@ghi.com\n",
      "3  jkl@jkl.org\n",
      "4  mno@mno.net\n",
      "5  pqr@pqr.edu\n",
      "6  stu@stu.com\n"
     ]
    }
   ],
   "source": [
    "alladdpd = pd.DataFrame(alladdresses)\n",
    "print(alladdpd)"
   ]
  },
  {
   "cell_type": "code",
   "execution_count": 98,
   "id": "baf6a8eb",
   "metadata": {},
   "outputs": [],
   "source": [
    "# Export to csv file\n",
    "alladdpd = alladdpd.sort_values(0,ascending=False)\n",
    "alladdpd.to_csv('alladdpd20220720.csv')"
   ]
  },
  {
   "cell_type": "markdown",
   "id": "10c280dc",
   "metadata": {},
   "source": [
    " ## Using Beautiful Soup"
   ]
  },
  {
   "cell_type": "code",
   "execution_count": 102,
   "id": "4f66f952",
   "metadata": {},
   "outputs": [],
   "source": [
    "import requests\n",
    "from bs4 import BeautifulSoup"
   ]
  },
  {
   "cell_type": "code",
   "execution_count": 108,
   "id": "69ebad0e",
   "metadata": {},
   "outputs": [
    {
     "name": "stdout",
     "output_type": "stream",
     "text": [
      "https://nostarch.com/Dive-Into-Algorithms\n",
      "https://www.penguinrandomhouse.com/books/645953/dive-into-algorithms-by-bradford-tuckfield/9781718500686/\n",
      "https://www.amazon.com/dp/1718500688\n",
      "https://www.amazon.com/Applied-Unsupervised-Learning-relationships-hierarchical/dp/1789956390/\n",
      "final20190428.pdf\n",
      "http://thedreamtigers.com/\n",
      "https://kmbara.com\n",
      "https://www.theamericanconservative.com/author/bradford-tuckfield/\n",
      "http://www.the-american-interest.com/byline/bradford-tuckfield/\n",
      "tai.pdf\n",
      "tai2018.pdf\n",
      "https://www.nationalaffairs.com/authors/detail/bradford-tuckfield\n",
      "nationalaffairs.pdf\n",
      "https://americanaffairsjournal.org/2017/10/the-incoherence-of-the-economists/\n",
      "borges.pdf\n",
      "https://quillette.com/author/bradford-tuckfield/\n",
      "https://vitadabrutto.wordpress.com/2019/03/13/disuguaglianze-estetiche-ed-economia-del-sesso/\n",
      "https://nas.org/blogs/dicta/avoiding_scholarships_dead_ends\n",
      "http://www.newenglishreview.org/custpage.cfm/frm/167043/sec_id/167043\n",
      "https://web.archive.org/web/20170705161916/http://www.tasteofcinema.com/2016/10-great-movies-every-conservative-should-see/\n",
      "http://www.theimaginativeconservative.org/author/bradford-tuckfield\n",
      "https://www.estibordo.org/post/68221\n",
      "http://www.datasciencecentral.com/profiles/blog/list?user=2zu0dmefus2gu\n",
      "http://interpreterfoundation.org/gods-laughter/\n",
      "https://patft.uspto.gov/netacgi/nph-Parser?Sect1=PTO1&Sect2=HITOFF&p=1&u=/netahtml/PTO/srchnum.html&r=1&f=G&l=50&d=PALL&s1=11068477.PN.\n",
      "https://www.udacity.com/course/machine-learning-dev-ops-engineer-nanodegree--nd0821\n",
      "jordan.pdf\n",
      "http://amj.aom.org/content/early/2017/08/23/amj.2014.1045.abstract\n",
      "https://papers.ssrn.com/sol3/papers.cfm?abstract_id=3022656\n",
      "https://journals.aom.org/doi/abs/10.5465/ambpp.2014.17102symposium\n",
      "https://jamanetwork.com/journals/jamanetworkopen/fullarticle/2748659\n",
      "https://hbswk.hbs.edu/item/the-role-of-incentive-salience-in-habit-formation\n",
      "https://iopscience.iop.org/article/10.1088/1742-6596/1642/1/012014/meta\n",
      "http://petalokasi.org/\n",
      "http://harga-emas.net/\n",
      "http://198.58.101.44/sidebylado/\n",
      "http://media2.ldscdn.org/assets/general-conference/april-2011-general-conference/2011-04-1010-president-thomas-s-monson-64k-msa.mp3\n",
      "http://media2.ldscdn.org/assets/general-conference/april-2011-general-conference/2011-04-2040-president-boyd-k-packer-64k-msa.mp3\n",
      "http://media2.ldscdn.org/assets/general-conference/october-2010-general-conference/2010-10-3060-president-thomas-s-monson-64k-msa.mp3\n",
      "https://www.youtube.com/watch?v=2PjTrcxLa-I\n",
      "https://www.youtube.com/watch?v=eUjXAO81FCA&t=29s\n",
      "http://bradfordtuckfield.com/iban.html\n"
     ]
    }
   ],
   "source": [
    " # Pulls and prints all anchor references out of the URL\n",
    "URL = 'http://bradfordtuckfield.com/indexarchive20210903.html'\n",
    "response = requests.get(URL)\n",
    "soup = BeautifulSoup(response.text, 'lxml')\n",
    "\n",
    "all_urls = soup.find_all('a')\n",
    "for each in all_urls:\n",
    "    print(each['href'])"
   ]
  },
  {
   "cell_type": "markdown",
   "id": "28c5eb5d",
   "metadata": {},
   "source": [
    "## Parsing HTML Label Elements"
   ]
  },
  {
   "cell_type": "code",
   "execution_count": 112,
   "id": "d377516c",
   "metadata": {},
   "outputs": [
    {
     "name": "stdout",
     "output_type": "stream",
     "text": [
      "Email: demo@bradfordtuckfield.com\n",
      "Mobile: +1 879-890-9767\n",
      "Website: www.bradfordtuckfield.com\n"
     ]
    }
   ],
   "source": [
    "URL = 'https://bradfordtuckfield.com/contactscrape.html'\n",
    "response = requests.get(URL)\n",
    "soup = BeautifulSoup(response.text, 'lxml')\n",
    "\n",
    "email = soup.find('label',{'class':'email'}).text\n",
    "mobile = soup.find('label',{'class':'mobile'}).text\n",
    "website = soup.find('a',{'class':'website'}).text\n",
    "\n",
    "print(f\"Email: {email}\")\n",
    "print(f\"Mobile: {mobile}\")\n",
    "print(f\"Website: {website}\")"
   ]
  },
  {
   "cell_type": "markdown",
   "id": "f3c1e9dc",
   "metadata": {},
   "source": [
    "## Scraping and parsing HTML Tables"
   ]
  },
  {
   "cell_type": "code",
   "execution_count": 116,
   "id": "0c4615fd",
   "metadata": {},
   "outputs": [
    {
     "name": "stdout",
     "output_type": "stream",
     "text": [
      "User Firstname: Jill, Lastname: Smith, Age: 50\n",
      "User Firstname: Eve, Lastname: Jackson, Age: 44\n",
      "User Firstname: John, Lastname: Jackson, Age: 24\n",
      "User Firstname: Kevin, Lastname: Snow, Age: 34\n"
     ]
    }
   ],
   "source": [
    "URL = 'https://bradfordtuckfield.com/user_detailsscrape.html'\n",
    "response = requests.get(URL)\n",
    "soup = BeautifulSoup(response.text, 'lxml')\n",
    "\n",
    "all_user_entries = soup.find_all('tr',{'class':'user-details'})\n",
    "for each_user in all_user_entries:\n",
    "    user = each_user.find_all(\"td\")\n",
    "    print(f\"User Firstname: {user[0].text}, Lastname: {user[1].text}, Age: {user[2].text}\")"
   ]
  },
  {
   "cell_type": "code",
   "execution_count": null,
   "id": "c54c29ea",
   "metadata": {},
   "outputs": [],
   "source": []
  }
 ],
 "metadata": {
  "kernelspec": {
   "display_name": "Python 3 (ipykernel)",
   "language": "python",
   "name": "python3"
  },
  "language_info": {
   "codemirror_mode": {
    "name": "ipython",
    "version": 3
   },
   "file_extension": ".py",
   "mimetype": "text/x-python",
   "name": "python",
   "nbconvert_exporter": "python",
   "pygments_lexer": "ipython3",
   "version": "3.11.7"
  }
 },
 "nbformat": 4,
 "nbformat_minor": 5
}
