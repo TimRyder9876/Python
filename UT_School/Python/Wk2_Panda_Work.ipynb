{
 "cells": [
  {
   "cell_type": "code",
   "execution_count": 1,
   "id": "ce4c1f05",
   "metadata": {},
   "outputs": [],
   "source": [
    "import pandas as pd\n",
    "import numpy as np"
   ]
  },
  {
   "cell_type": "code",
   "execution_count": 2,
   "id": "8c5e727d",
   "metadata": {},
   "outputs": [],
   "source": [
    "med_price_list = [55,25,75,40,90]"
   ]
  },
  {
   "cell_type": "code",
   "execution_count": 3,
   "id": "7aa9cce0",
   "metadata": {},
   "outputs": [],
   "source": [
    "med_price_arr = np.array(med_price_list)"
   ]
  },
  {
   "cell_type": "code",
   "execution_count": 4,
   "id": "8b5273ca",
   "metadata": {},
   "outputs": [
    {
     "data": {
      "text/plain": [
       "array([55, 25, 75, 40, 90])"
      ]
     },
     "execution_count": 4,
     "metadata": {},
     "output_type": "execute_result"
    }
   ],
   "source": [
    "med_price_arr"
   ]
  },
  {
   "cell_type": "code",
   "execution_count": 5,
   "id": "5b4fb938",
   "metadata": {},
   "outputs": [],
   "source": [
    "series_list = pd.Series(med_price_list)"
   ]
  },
  {
   "cell_type": "code",
   "execution_count": 6,
   "id": "84f6d840",
   "metadata": {},
   "outputs": [],
   "source": [
    "series_arr = pd.Series(med_price_arr)"
   ]
  },
  {
   "cell_type": "code",
   "execution_count": 7,
   "id": "fe73e791",
   "metadata": {},
   "outputs": [
    {
     "name": "stdout",
     "output_type": "stream",
     "text": [
      "0    55\n",
      "1    25\n",
      "2    75\n",
      "3    40\n",
      "4    90\n",
      "dtype: int64\n",
      "0    55\n",
      "1    25\n",
      "2    75\n",
      "3    40\n",
      "4    90\n",
      "dtype: int32\n"
     ]
    }
   ],
   "source": [
    "print(series_list)\n",
    "print(series_arr)"
   ]
  },
  {
   "cell_type": "code",
   "execution_count": 8,
   "id": "e0e7d927",
   "metadata": {},
   "outputs": [],
   "source": [
    "med_price_list_labeled = pd.Series(med_price_list, index = ['Omeprazole','Azithromycin','Metformin','Ibuprofen','Cetirizine'])"
   ]
  },
  {
   "cell_type": "code",
   "execution_count": 9,
   "id": "ccabf190",
   "metadata": {},
   "outputs": [
    {
     "name": "stdout",
     "output_type": "stream",
     "text": [
      "Omeprazole      55\n",
      "Azithromycin    25\n",
      "Metformin       75\n",
      "Ibuprofen       40\n",
      "Cetirizine      90\n",
      "dtype: int64\n"
     ]
    }
   ],
   "source": [
    "print(med_price_list_labeled)"
   ]
  },
  {
   "cell_type": "code",
   "execution_count": 10,
   "id": "9be777ca",
   "metadata": {},
   "outputs": [],
   "source": [
    "med_price_list_updated = med_price_list_labeled + 2.5"
   ]
  },
  {
   "cell_type": "code",
   "execution_count": 11,
   "id": "d9d61cc9",
   "metadata": {},
   "outputs": [
    {
     "name": "stdout",
     "output_type": "stream",
     "text": [
      "Omeprazole      57.5\n",
      "Azithromycin    27.5\n",
      "Metformin       77.5\n",
      "Ibuprofen       42.5\n",
      "Cetirizine      92.5\n",
      "dtype: float64\n"
     ]
    }
   ],
   "source": [
    "print(med_price_list_updated)"
   ]
  },
  {
   "cell_type": "code",
   "execution_count": 12,
   "id": "239672a5",
   "metadata": {},
   "outputs": [],
   "source": [
    "new_price_list = [75, 45.5, 100, 50, 80]"
   ]
  },
  {
   "cell_type": "code",
   "execution_count": 13,
   "id": "6b2b26a3",
   "metadata": {},
   "outputs": [],
   "source": [
    "new_price_list_labeled = pd.Series(new_price_list, index = ['Omeprazole','Azithromycin','Metformin','Ibuprofen','Cetirizine'])"
   ]
  },
  {
   "cell_type": "code",
   "execution_count": 14,
   "id": "7fa0e5d9",
   "metadata": {},
   "outputs": [
    {
     "name": "stdout",
     "output_type": "stream",
     "text": [
      "Omeprazole       75.0\n",
      "Azithromycin     45.5\n",
      "Metformin       100.0\n",
      "Ibuprofen        50.0\n",
      "Cetirizine       80.0\n",
      "dtype: float64\n"
     ]
    }
   ],
   "source": [
    "print(new_price_list_labeled)"
   ]
  },
  {
   "cell_type": "code",
   "execution_count": 15,
   "id": "19eddf84",
   "metadata": {},
   "outputs": [
    {
     "name": "stdout",
     "output_type": "stream",
     "text": [
      "Difference between the new price and old price - \n",
      "Omeprazole      17.5\n",
      "Azithromycin    18.0\n",
      "Metformin       22.5\n",
      "Ibuprofen        7.5\n",
      "Cetirizine     -12.5\n",
      "dtype: float64\n"
     ]
    }
   ],
   "source": [
    "print('Difference between the new price and old price - ')\n",
    "print(new_price_list_labeled - med_price_list_updated)"
   ]
  },
  {
   "cell_type": "code",
   "execution_count": 16,
   "id": "a7593c22",
   "metadata": {},
   "outputs": [],
   "source": [
    "student = ['Mary','Peter','Susan','Toby','Vishal']"
   ]
  },
  {
   "cell_type": "code",
   "execution_count": 17,
   "id": "7a20b667",
   "metadata": {},
   "outputs": [],
   "source": [
    "df1 = pd.DataFrame(student, columns =['Student'])"
   ]
  },
  {
   "cell_type": "code",
   "execution_count": 18,
   "id": "4651086d",
   "metadata": {},
   "outputs": [
    {
     "name": "stdout",
     "output_type": "stream",
     "text": [
      "  Student\n",
      "0    Mary\n",
      "1   Peter\n",
      "2   Susan\n",
      "3    Toby\n",
      "4  Vishal\n"
     ]
    }
   ],
   "source": [
    "print(df1)"
   ]
  },
  {
   "cell_type": "code",
   "execution_count": 20,
   "id": "c77333dc",
   "metadata": {},
   "outputs": [
    {
     "data": {
      "text/html": [
       "<div>\n",
       "<style scoped>\n",
       "    .dataframe tbody tr th:only-of-type {\n",
       "        vertical-align: middle;\n",
       "    }\n",
       "\n",
       "    .dataframe tbody tr th {\n",
       "        vertical-align: top;\n",
       "    }\n",
       "\n",
       "    .dataframe thead th {\n",
       "        text-align: right;\n",
       "    }\n",
       "</style>\n",
       "<table border=\"1\" class=\"dataframe\">\n",
       "  <thead>\n",
       "    <tr style=\"text-align: right;\">\n",
       "      <th></th>\n",
       "      <th>Student</th>\n",
       "      <th>Grade</th>\n",
       "    </tr>\n",
       "  </thead>\n",
       "  <tbody>\n",
       "    <tr>\n",
       "      <th>0</th>\n",
       "      <td>Mary</td>\n",
       "      <td>B-</td>\n",
       "    </tr>\n",
       "    <tr>\n",
       "      <th>1</th>\n",
       "      <td>Peter</td>\n",
       "      <td>A+</td>\n",
       "    </tr>\n",
       "    <tr>\n",
       "      <th>2</th>\n",
       "      <td>Susan</td>\n",
       "      <td>A-</td>\n",
       "    </tr>\n",
       "    <tr>\n",
       "      <th>3</th>\n",
       "      <td>Toby</td>\n",
       "      <td>B+</td>\n",
       "    </tr>\n",
       "    <tr>\n",
       "      <th>4</th>\n",
       "      <td>Vishal</td>\n",
       "      <td>C</td>\n",
       "    </tr>\n",
       "  </tbody>\n",
       "</table>\n",
       "</div>"
      ],
      "text/plain": [
       "  Student Grade\n",
       "0    Mary    B-\n",
       "1   Peter    A+\n",
       "2   Susan    A-\n",
       "3    Toby    B+\n",
       "4  Vishal     C"
      ]
     },
     "execution_count": 20,
     "metadata": {},
     "output_type": "execute_result"
    }
   ],
   "source": [
    "# defining another list\n",
    "grades = ['B-','A+','A-', 'B+', 'C']\n",
    "\n",
    "# creating the dataframe using a dictionary\n",
    "df2 = pd.DataFrame({'Student':student,'Grade':grades})\n",
    "df2"
   ]
  },
  {
   "cell_type": "code",
   "execution_count": 24,
   "id": "67b607bf",
   "metadata": {},
   "outputs": [
    {
     "data": {
      "text/html": [
       "<div>\n",
       "<style scoped>\n",
       "    .dataframe tbody tr th:only-of-type {\n",
       "        vertical-align: middle;\n",
       "    }\n",
       "\n",
       "    .dataframe tbody tr th {\n",
       "        vertical-align: top;\n",
       "    }\n",
       "\n",
       "    .dataframe thead th {\n",
       "        text-align: right;\n",
       "    }\n",
       "</style>\n",
       "<table border=\"1\" class=\"dataframe\">\n",
       "  <thead>\n",
       "    <tr style=\"text-align: right;\">\n",
       "      <th></th>\n",
       "      <th>Year</th>\n",
       "      <th>Energy Consumption(Mtoe)</th>\n",
       "    </tr>\n",
       "  </thead>\n",
       "  <tbody>\n",
       "    <tr>\n",
       "      <th>0</th>\n",
       "      <td>2012</td>\n",
       "      <td>2152</td>\n",
       "    </tr>\n",
       "    <tr>\n",
       "      <th>1</th>\n",
       "      <td>2013</td>\n",
       "      <td>2196</td>\n",
       "    </tr>\n",
       "    <tr>\n",
       "      <th>2</th>\n",
       "      <td>2014</td>\n",
       "      <td>2217</td>\n",
       "    </tr>\n",
       "    <tr>\n",
       "      <th>3</th>\n",
       "      <td>2015</td>\n",
       "      <td>2194</td>\n",
       "    </tr>\n",
       "    <tr>\n",
       "      <th>4</th>\n",
       "      <td>2016</td>\n",
       "      <td>2172</td>\n",
       "    </tr>\n",
       "    <tr>\n",
       "      <th>5</th>\n",
       "      <td>2017</td>\n",
       "      <td>2180</td>\n",
       "    </tr>\n",
       "    <tr>\n",
       "      <th>6</th>\n",
       "      <td>2018</td>\n",
       "      <td>2258</td>\n",
       "    </tr>\n",
       "  </tbody>\n",
       "</table>\n",
       "</div>"
      ],
      "text/plain": [
       "   Year  Energy Consumption(Mtoe)\n",
       "0  2012                      2152\n",
       "1  2013                      2196\n",
       "2  2014                      2217\n",
       "3  2015                      2194\n",
       "4  2016                      2172\n",
       "5  2017                      2180\n",
       "6  2018                      2258"
      ]
     },
     "execution_count": 24,
     "metadata": {},
     "output_type": "execute_result"
    }
   ],
   "source": [
    "year = pd.Series([2012,2013,2014,2015,2016,2017,2018])\n",
    "energy_consumption = pd.Series([2152,2196,2217,2194,2172,2180,2258])\n",
    "df3 = pd.DataFrame({'Year':year, 'Energy Consumption(Mtoe)':energy_consumption})\n",
    "df3"
   ]
  },
  {
   "cell_type": "code",
   "execution_count": 25,
   "id": "0ee59344",
   "metadata": {},
   "outputs": [
    {
     "data": {
      "text/html": [
       "<div>\n",
       "<style scoped>\n",
       "    .dataframe tbody tr th:only-of-type {\n",
       "        vertical-align: middle;\n",
       "    }\n",
       "\n",
       "    .dataframe tbody tr th {\n",
       "        vertical-align: top;\n",
       "    }\n",
       "\n",
       "    .dataframe thead th {\n",
       "        text-align: right;\n",
       "    }\n",
       "</style>\n",
       "<table border=\"1\" class=\"dataframe\">\n",
       "  <thead>\n",
       "    <tr style=\"text-align: right;\">\n",
       "      <th></th>\n",
       "      <th>Trial 1</th>\n",
       "      <th>Trial 2</th>\n",
       "    </tr>\n",
       "  </thead>\n",
       "  <tbody>\n",
       "    <tr>\n",
       "      <th>0</th>\n",
       "      <td>-1.218111</td>\n",
       "      <td>-1.537175</td>\n",
       "    </tr>\n",
       "    <tr>\n",
       "      <th>1</th>\n",
       "      <td>0.481381</td>\n",
       "      <td>1.900863</td>\n",
       "    </tr>\n",
       "    <tr>\n",
       "      <th>2</th>\n",
       "      <td>-1.395238</td>\n",
       "      <td>1.168815</td>\n",
       "    </tr>\n",
       "    <tr>\n",
       "      <th>3</th>\n",
       "      <td>1.289690</td>\n",
       "      <td>-1.148281</td>\n",
       "    </tr>\n",
       "    <tr>\n",
       "      <th>4</th>\n",
       "      <td>-0.651158</td>\n",
       "      <td>0.491002</td>\n",
       "    </tr>\n",
       "  </tbody>\n",
       "</table>\n",
       "</div>"
      ],
      "text/plain": [
       "    Trial 1   Trial 2\n",
       "0 -1.218111 -1.537175\n",
       "1  0.481381  1.900863\n",
       "2 -1.395238  1.168815\n",
       "3  1.289690 -1.148281\n",
       "4 -0.651158  0.491002"
      ]
     },
     "execution_count": 25,
     "metadata": {},
     "output_type": "execute_result"
    }
   ],
   "source": [
    "df4 = pd.DataFrame(np.random.randn(5,2), columns = ['Trial 1','Trial 2'])\n",
    "df4"
   ]
  },
  {
   "cell_type": "code",
   "execution_count": 26,
   "id": "55a3817f",
   "metadata": {},
   "outputs": [
    {
     "data": {
      "text/plain": [
       "AT&T           171.76\n",
       "Verizon        128.29\n",
       "T-Mobile US     68.40\n",
       "US Cellular      4.04\n",
       "dtype: float64"
      ]
     },
     "execution_count": 26,
     "metadata": {},
     "output_type": "execute_result"
    }
   ],
   "source": [
    "operators = ['AT&T','Verizon','T-Mobile US','US Cellular']\n",
    "revenue = [171.76,128.29,68.4,4.04]\n",
    "telecom = pd.Series(revenue, index = operators)\n",
    "telecom"
   ]
  },
  {
   "cell_type": "code",
   "execution_count": 28,
   "id": "57c36b49",
   "metadata": {},
   "outputs": [
    {
     "data": {
      "text/plain": [
       "AT&T           171.76\n",
       "Verizon        128.29\n",
       "T-Mobile US     68.40\n",
       "dtype: float64"
      ]
     },
     "execution_count": 28,
     "metadata": {},
     "output_type": "execute_result"
    }
   ],
   "source": [
    "telecom[0:3]"
   ]
  },
  {
   "cell_type": "code",
   "execution_count": 29,
   "id": "41011921",
   "metadata": {},
   "outputs": [
    {
     "data": {
      "text/plain": [
       "68.4"
      ]
     },
     "execution_count": 29,
     "metadata": {},
     "output_type": "execute_result"
    }
   ],
   "source": [
    "telecom[-2]"
   ]
  },
  {
   "cell_type": "code",
   "execution_count": 31,
   "id": "2faf92e7",
   "metadata": {},
   "outputs": [
    {
     "data": {
      "text/plain": [
       "AT&T           171.76\n",
       "T-Mobile US     68.40\n",
       "US Cellular      4.04\n",
       "dtype: float64"
      ]
     },
     "execution_count": 31,
     "metadata": {},
     "output_type": "execute_result"
    }
   ],
   "source": [
    "telecom[[0,2,3]]"
   ]
  },
  {
   "cell_type": "code",
   "execution_count": 32,
   "id": "a1803320",
   "metadata": {},
   "outputs": [
    {
     "data": {
      "text/plain": [
       "171.76"
      ]
     },
     "execution_count": 32,
     "metadata": {},
     "output_type": "execute_result"
    }
   ],
   "source": [
    "telecom['AT&T']"
   ]
  },
  {
   "cell_type": "code",
   "execution_count": 33,
   "id": "a776a485",
   "metadata": {},
   "outputs": [
    {
     "data": {
      "text/plain": [
       "AT&T           171.76\n",
       "Verizon        128.29\n",
       "T-Mobile US     68.40\n",
       "dtype: float64"
      ]
     },
     "execution_count": 33,
     "metadata": {},
     "output_type": "execute_result"
    }
   ],
   "source": [
    "telecom[:'T-Mobile US']"
   ]
  },
  {
   "cell_type": "code",
   "execution_count": 34,
   "id": "a8e488fc",
   "metadata": {},
   "outputs": [
    {
     "data": {
      "text/plain": [
       "AT&T           171.76\n",
       "US Cellular      4.04\n",
       "Verizon        128.29\n",
       "dtype: float64"
      ]
     },
     "execution_count": 34,
     "metadata": {},
     "output_type": "execute_result"
    }
   ],
   "source": [
    "telecom[['AT&T','US Cellular','Verizon']]"
   ]
  },
  {
   "cell_type": "code",
   "execution_count": 36,
   "id": "e4786add",
   "metadata": {},
   "outputs": [
    {
     "data": {
      "text/html": [
       "<div>\n",
       "<style scoped>\n",
       "    .dataframe tbody tr th:only-of-type {\n",
       "        vertical-align: middle;\n",
       "    }\n",
       "\n",
       "    .dataframe tbody tr th {\n",
       "        vertical-align: top;\n",
       "    }\n",
       "\n",
       "    .dataframe thead th {\n",
       "        text-align: right;\n",
       "    }\n",
       "</style>\n",
       "<table border=\"1\" class=\"dataframe\">\n",
       "  <thead>\n",
       "    <tr style=\"text-align: right;\">\n",
       "      <th></th>\n",
       "      <th>Customer Id</th>\n",
       "      <th>Location</th>\n",
       "      <th>Gender</th>\n",
       "      <th>Type</th>\n",
       "      <th>Quantity</th>\n",
       "      <th>Total Bill</th>\n",
       "    </tr>\n",
       "  </thead>\n",
       "  <tbody>\n",
       "    <tr>\n",
       "      <th>0</th>\n",
       "      <td>CustID00</td>\n",
       "      <td>Chicago</td>\n",
       "      <td>M</td>\n",
       "      <td>Electronics</td>\n",
       "      <td>1</td>\n",
       "      <td>100</td>\n",
       "    </tr>\n",
       "    <tr>\n",
       "      <th>1</th>\n",
       "      <td>CustID01</td>\n",
       "      <td>Boston</td>\n",
       "      <td>M</td>\n",
       "      <td>Food &amp; Beverages</td>\n",
       "      <td>3</td>\n",
       "      <td>75</td>\n",
       "    </tr>\n",
       "    <tr>\n",
       "      <th>2</th>\n",
       "      <td>CustID02</td>\n",
       "      <td>Seattle</td>\n",
       "      <td>F</td>\n",
       "      <td>Food &amp; Beverages</td>\n",
       "      <td>4</td>\n",
       "      <td>125</td>\n",
       "    </tr>\n",
       "    <tr>\n",
       "      <th>3</th>\n",
       "      <td>CustID03</td>\n",
       "      <td>San Francisco</td>\n",
       "      <td>M</td>\n",
       "      <td>Medicine</td>\n",
       "      <td>2</td>\n",
       "      <td>50</td>\n",
       "    </tr>\n",
       "    <tr>\n",
       "      <th>4</th>\n",
       "      <td>CustID04</td>\n",
       "      <td>Austin</td>\n",
       "      <td>F</td>\n",
       "      <td>Beauty</td>\n",
       "      <td>1</td>\n",
       "      <td>80</td>\n",
       "    </tr>\n",
       "  </tbody>\n",
       "</table>\n",
       "</div>"
      ],
      "text/plain": [
       "  Customer Id       Location Gender              Type  Quantity  Total Bill\n",
       "0    CustID00        Chicago      M       Electronics         1         100\n",
       "1    CustID01         Boston      M  Food & Beverages         3          75\n",
       "2    CustID02        Seattle      F  Food & Beverages         4         125\n",
       "3    CustID03  San Francisco      M          Medicine         2          50\n",
       "4    CustID04         Austin      F            Beauty         1          80"
      ]
     },
     "execution_count": 36,
     "metadata": {},
     "output_type": "execute_result"
    }
   ],
   "source": [
    "store_data = pd.DataFrame({'Customer Id':['CustID00','CustID01','CustID02','CustID03','CustID04'],\n",
    "                           'Location':['Chicago','Boston','Seattle','San Francisco','Austin'],\n",
    "                           'Gender':['M','M','F','M','F'],\n",
    "                           'Type':['Electronics','Food & Beverages','Food & Beverages','Medicine','Beauty'],\n",
    "                           'Quantity':[1,3,4,2,1],\n",
    "                           'Total Bill':[100,75,125,50,80]})\n",
    "store_data"
   ]
  },
  {
   "cell_type": "code",
   "execution_count": 42,
   "id": "22842eb6",
   "metadata": {},
   "outputs": [
    {
     "data": {
      "text/html": [
       "<div>\n",
       "<style scoped>\n",
       "    .dataframe tbody tr th:only-of-type {\n",
       "        vertical-align: middle;\n",
       "    }\n",
       "\n",
       "    .dataframe tbody tr th {\n",
       "        vertical-align: top;\n",
       "    }\n",
       "\n",
       "    .dataframe thead th {\n",
       "        text-align: right;\n",
       "    }\n",
       "</style>\n",
       "<table border=\"1\" class=\"dataframe\">\n",
       "  <thead>\n",
       "    <tr style=\"text-align: right;\">\n",
       "      <th></th>\n",
       "      <th>Customer Id</th>\n",
       "      <th>Location</th>\n",
       "      <th>Gender</th>\n",
       "      <th>Type</th>\n",
       "      <th>Quantity</th>\n",
       "      <th>Total Bill</th>\n",
       "    </tr>\n",
       "  </thead>\n",
       "  <tbody>\n",
       "    <tr>\n",
       "      <th>0</th>\n",
       "      <td>CustID00</td>\n",
       "      <td>Chicago</td>\n",
       "      <td>M</td>\n",
       "      <td>Electronics</td>\n",
       "      <td>1</td>\n",
       "      <td>100</td>\n",
       "    </tr>\n",
       "  </tbody>\n",
       "</table>\n",
       "</div>"
      ],
      "text/plain": [
       "  Customer Id Location Gender         Type  Quantity  Total Bill\n",
       "0    CustID00  Chicago      M  Electronics         1         100"
      ]
     },
     "execution_count": 42,
     "metadata": {},
     "output_type": "execute_result"
    }
   ],
   "source": [
    "store_data[:1]"
   ]
  },
  {
   "cell_type": "code",
   "execution_count": 43,
   "id": "6dcc3af6",
   "metadata": {},
   "outputs": [
    {
     "data": {
      "text/plain": [
       "0          Chicago\n",
       "1           Boston\n",
       "2          Seattle\n",
       "3    San Francisco\n",
       "4           Austin\n",
       "Name: Location, dtype: object"
      ]
     },
     "execution_count": 43,
     "metadata": {},
     "output_type": "execute_result"
    }
   ],
   "source": [
    "store_data['Location']"
   ]
  },
  {
   "cell_type": "code",
   "execution_count": 44,
   "id": "5ae90ab5",
   "metadata": {},
   "outputs": [
    {
     "name": "stdout",
     "output_type": "stream",
     "text": [
      "<class 'pandas.core.frame.DataFrame'>\n",
      "RangeIndex: 5 entries, 0 to 4\n",
      "Data columns (total 6 columns):\n",
      " #   Column       Non-Null Count  Dtype \n",
      "---  ------       --------------  ----- \n",
      " 0   Customer Id  5 non-null      object\n",
      " 1   Location     5 non-null      object\n",
      " 2   Gender       5 non-null      object\n",
      " 3   Type         5 non-null      object\n",
      " 4   Quantity     5 non-null      int64 \n",
      " 5   Total Bill   5 non-null      int64 \n",
      "dtypes: int64(2), object(4)\n",
      "memory usage: 372.0+ bytes\n"
     ]
    }
   ],
   "source": [
    "store_data.info()"
   ]
  },
  {
   "cell_type": "code",
   "execution_count": 45,
   "id": "3eb816e6",
   "metadata": {},
   "outputs": [
    {
     "data": {
      "text/html": [
       "<div>\n",
       "<style scoped>\n",
       "    .dataframe tbody tr th:only-of-type {\n",
       "        vertical-align: middle;\n",
       "    }\n",
       "\n",
       "    .dataframe tbody tr th {\n",
       "        vertical-align: top;\n",
       "    }\n",
       "\n",
       "    .dataframe thead th {\n",
       "        text-align: right;\n",
       "    }\n",
       "</style>\n",
       "<table border=\"1\" class=\"dataframe\">\n",
       "  <thead>\n",
       "    <tr style=\"text-align: right;\">\n",
       "      <th></th>\n",
       "      <th>Customer Id</th>\n",
       "      <th>Location</th>\n",
       "      <th>Gender</th>\n",
       "      <th>Type</th>\n",
       "      <th>Quantity</th>\n",
       "      <th>Total Bill</th>\n",
       "    </tr>\n",
       "  </thead>\n",
       "  <tbody>\n",
       "    <tr>\n",
       "      <th>0</th>\n",
       "      <td>CustID00</td>\n",
       "      <td>Chicago</td>\n",
       "      <td>M</td>\n",
       "      <td>Electronics</td>\n",
       "      <td>1</td>\n",
       "      <td>100</td>\n",
       "    </tr>\n",
       "    <tr>\n",
       "      <th>2</th>\n",
       "      <td>CustID02</td>\n",
       "      <td>Seattle</td>\n",
       "      <td>F</td>\n",
       "      <td>Food &amp; Beverages</td>\n",
       "      <td>4</td>\n",
       "      <td>125</td>\n",
       "    </tr>\n",
       "    <tr>\n",
       "      <th>4</th>\n",
       "      <td>CustID04</td>\n",
       "      <td>Austin</td>\n",
       "      <td>F</td>\n",
       "      <td>Beauty</td>\n",
       "      <td>1</td>\n",
       "      <td>80</td>\n",
       "    </tr>\n",
       "  </tbody>\n",
       "</table>\n",
       "</div>"
      ],
      "text/plain": [
       "  Customer Id Location Gender              Type  Quantity  Total Bill\n",
       "0    CustID00  Chicago      M       Electronics         1         100\n",
       "2    CustID02  Seattle      F  Food & Beverages         4         125\n",
       "4    CustID04   Austin      F            Beauty         1          80"
      ]
     },
     "execution_count": 45,
     "metadata": {},
     "output_type": "execute_result"
    }
   ],
   "source": [
    "store_data[::2]"
   ]
  },
  {
   "cell_type": "code",
   "execution_count": 47,
   "id": "aff579a2",
   "metadata": {},
   "outputs": [
    {
     "data": {
      "text/html": [
       "<div>\n",
       "<style scoped>\n",
       "    .dataframe tbody tr th:only-of-type {\n",
       "        vertical-align: middle;\n",
       "    }\n",
       "\n",
       "    .dataframe tbody tr th {\n",
       "        vertical-align: top;\n",
       "    }\n",
       "\n",
       "    .dataframe thead th {\n",
       "        text-align: right;\n",
       "    }\n",
       "</style>\n",
       "<table border=\"1\" class=\"dataframe\">\n",
       "  <thead>\n",
       "    <tr style=\"text-align: right;\">\n",
       "      <th></th>\n",
       "      <th>Customer Id</th>\n",
       "      <th>Location</th>\n",
       "      <th>Gender</th>\n",
       "      <th>Type</th>\n",
       "      <th>Quantity</th>\n",
       "      <th>Total Bill</th>\n",
       "    </tr>\n",
       "  </thead>\n",
       "  <tbody>\n",
       "    <tr>\n",
       "      <th>4</th>\n",
       "      <td>CustID04</td>\n",
       "      <td>Austin</td>\n",
       "      <td>F</td>\n",
       "      <td>Beauty</td>\n",
       "      <td>1</td>\n",
       "      <td>80</td>\n",
       "    </tr>\n",
       "    <tr>\n",
       "      <th>3</th>\n",
       "      <td>CustID03</td>\n",
       "      <td>San Francisco</td>\n",
       "      <td>M</td>\n",
       "      <td>Medicine</td>\n",
       "      <td>2</td>\n",
       "      <td>50</td>\n",
       "    </tr>\n",
       "    <tr>\n",
       "      <th>2</th>\n",
       "      <td>CustID02</td>\n",
       "      <td>Seattle</td>\n",
       "      <td>F</td>\n",
       "      <td>Food &amp; Beverages</td>\n",
       "      <td>4</td>\n",
       "      <td>125</td>\n",
       "    </tr>\n",
       "    <tr>\n",
       "      <th>1</th>\n",
       "      <td>CustID01</td>\n",
       "      <td>Boston</td>\n",
       "      <td>M</td>\n",
       "      <td>Food &amp; Beverages</td>\n",
       "      <td>3</td>\n",
       "      <td>75</td>\n",
       "    </tr>\n",
       "    <tr>\n",
       "      <th>0</th>\n",
       "      <td>CustID00</td>\n",
       "      <td>Chicago</td>\n",
       "      <td>M</td>\n",
       "      <td>Electronics</td>\n",
       "      <td>1</td>\n",
       "      <td>100</td>\n",
       "    </tr>\n",
       "  </tbody>\n",
       "</table>\n",
       "</div>"
      ],
      "text/plain": [
       "  Customer Id       Location Gender              Type  Quantity  Total Bill\n",
       "4    CustID04         Austin      F            Beauty         1          80\n",
       "3    CustID03  San Francisco      M          Medicine         2          50\n",
       "2    CustID02        Seattle      F  Food & Beverages         4         125\n",
       "1    CustID01         Boston      M  Food & Beverages         3          75\n",
       "0    CustID00        Chicago      M       Electronics         1         100"
      ]
     },
     "execution_count": 47,
     "metadata": {},
     "output_type": "execute_result"
    }
   ],
   "source": [
    "store_data[::-1]"
   ]
  },
  {
   "cell_type": "code",
   "execution_count": 48,
   "id": "433380ae",
   "metadata": {},
   "outputs": [
    {
     "data": {
      "text/plain": [
       "Customer Id            CustID01\n",
       "Location                 Boston\n",
       "Gender                        M\n",
       "Type           Food & Beverages\n",
       "Quantity                      3\n",
       "Total Bill                   75\n",
       "Name: 1, dtype: object"
      ]
     },
     "execution_count": 48,
     "metadata": {},
     "output_type": "execute_result"
    }
   ],
   "source": [
    "store_data.loc[1]"
   ]
  },
  {
   "cell_type": "code",
   "execution_count": 212,
   "id": "b4f8b3ea",
   "metadata": {},
   "outputs": [
    {
     "data": {
      "text/html": [
       "<div>\n",
       "<style scoped>\n",
       "    .dataframe tbody tr th:only-of-type {\n",
       "        vertical-align: middle;\n",
       "    }\n",
       "\n",
       "    .dataframe tbody tr th {\n",
       "        vertical-align: top;\n",
       "    }\n",
       "\n",
       "    .dataframe thead th {\n",
       "        text-align: right;\n",
       "    }\n",
       "</style>\n",
       "<table border=\"1\" class=\"dataframe\">\n",
       "  <thead>\n",
       "    <tr style=\"text-align: right;\">\n",
       "      <th></th>\n",
       "      <th>Location</th>\n",
       "      <th>Type</th>\n",
       "    </tr>\n",
       "  </thead>\n",
       "  <tbody>\n",
       "    <tr>\n",
       "      <th>1</th>\n",
       "      <td>Boston</td>\n",
       "      <td>Food &amp; Beverages</td>\n",
       "    </tr>\n",
       "    <tr>\n",
       "      <th>2</th>\n",
       "      <td>Seattle</td>\n",
       "      <td>Food &amp; Beverages</td>\n",
       "    </tr>\n",
       "  </tbody>\n",
       "</table>\n",
       "</div>"
      ],
      "text/plain": [
       "  Location              Type\n",
       "1   Boston  Food & Beverages\n",
       "2  Seattle  Food & Beverages"
      ]
     },
     "execution_count": 212,
     "metadata": {},
     "output_type": "execute_result"
    }
   ],
   "source": [
    "store_data.loc[[1,2],['Location','Type']]"
   ]
  },
  {
   "cell_type": "code",
   "execution_count": 62,
   "id": "fc8b9405",
   "metadata": {},
   "outputs": [
    {
     "data": {
      "text/html": [
       "<div>\n",
       "<style scoped>\n",
       "    .dataframe tbody tr th:only-of-type {\n",
       "        vertical-align: middle;\n",
       "    }\n",
       "\n",
       "    .dataframe tbody tr th {\n",
       "        vertical-align: top;\n",
       "    }\n",
       "\n",
       "    .dataframe thead th {\n",
       "        text-align: right;\n",
       "    }\n",
       "</style>\n",
       "<table border=\"1\" class=\"dataframe\">\n",
       "  <thead>\n",
       "    <tr style=\"text-align: right;\">\n",
       "      <th></th>\n",
       "      <th>Customer Id</th>\n",
       "      <th>Gender</th>\n",
       "    </tr>\n",
       "  </thead>\n",
       "  <tbody>\n",
       "    <tr>\n",
       "      <th>1</th>\n",
       "      <td>CustID01</td>\n",
       "      <td>M</td>\n",
       "    </tr>\n",
       "    <tr>\n",
       "      <th>4</th>\n",
       "      <td>CustID04</td>\n",
       "      <td>F</td>\n",
       "    </tr>\n",
       "  </tbody>\n",
       "</table>\n",
       "</div>"
      ],
      "text/plain": [
       "  Customer Id Gender\n",
       "1    CustID01      M\n",
       "4    CustID04      F"
      ]
     },
     "execution_count": 62,
     "metadata": {},
     "output_type": "execute_result"
    }
   ],
   "source": [
    "store_data.iloc[[1,4],[0,2]]"
   ]
  },
  {
   "cell_type": "code",
   "execution_count": 61,
   "id": "83287824",
   "metadata": {},
   "outputs": [
    {
     "data": {
      "text/html": [
       "<div>\n",
       "<style scoped>\n",
       "    .dataframe tbody tr th:only-of-type {\n",
       "        vertical-align: middle;\n",
       "    }\n",
       "\n",
       "    .dataframe tbody tr th {\n",
       "        vertical-align: top;\n",
       "    }\n",
       "\n",
       "    .dataframe thead th {\n",
       "        text-align: right;\n",
       "    }\n",
       "</style>\n",
       "<table border=\"1\" class=\"dataframe\">\n",
       "  <thead>\n",
       "    <tr style=\"text-align: right;\">\n",
       "      <th></th>\n",
       "      <th>Customer Id</th>\n",
       "      <th>Location</th>\n",
       "      <th>Gender</th>\n",
       "      <th>Type</th>\n",
       "    </tr>\n",
       "  </thead>\n",
       "  <tbody>\n",
       "    <tr>\n",
       "      <th>0</th>\n",
       "      <td>CustID00</td>\n",
       "      <td>Chicago</td>\n",
       "      <td>M</td>\n",
       "      <td>Electronics</td>\n",
       "    </tr>\n",
       "    <tr>\n",
       "      <th>1</th>\n",
       "      <td>CustID01</td>\n",
       "      <td>Boston</td>\n",
       "      <td>M</td>\n",
       "      <td>Food &amp; Beverages</td>\n",
       "    </tr>\n",
       "    <tr>\n",
       "      <th>2</th>\n",
       "      <td>CustID02</td>\n",
       "      <td>Seattle</td>\n",
       "      <td>F</td>\n",
       "      <td>Food &amp; Beverages</td>\n",
       "    </tr>\n",
       "    <tr>\n",
       "      <th>3</th>\n",
       "      <td>CustID03</td>\n",
       "      <td>San Francisco</td>\n",
       "      <td>M</td>\n",
       "      <td>Medicine</td>\n",
       "    </tr>\n",
       "  </tbody>\n",
       "</table>\n",
       "</div>"
      ],
      "text/plain": [
       "  Customer Id       Location Gender              Type\n",
       "0    CustID00        Chicago      M       Electronics\n",
       "1    CustID01         Boston      M  Food & Beverages\n",
       "2    CustID02        Seattle      F  Food & Beverages\n",
       "3    CustID03  San Francisco      M          Medicine"
      ]
     },
     "execution_count": 61,
     "metadata": {},
     "output_type": "execute_result"
    }
   ],
   "source": [
    "store_data.iloc[:4, 0:4]"
   ]
  },
  {
   "cell_type": "code",
   "execution_count": 63,
   "id": "b644f444",
   "metadata": {},
   "outputs": [
    {
     "ename": "IndexError",
     "evalue": ".iloc requires numeric indexers, got ['location' 'type']",
     "output_type": "error",
     "traceback": [
      "\u001b[1;31m---------------------------------------------------------------------------\u001b[0m",
      "\u001b[1;31mIndexError\u001b[0m                                Traceback (most recent call last)",
      "Cell \u001b[1;32mIn[63], line 1\u001b[0m\n\u001b[1;32m----> 1\u001b[0m store_data\u001b[38;5;241m.\u001b[39miloc[[\u001b[38;5;241m1\u001b[39m,\u001b[38;5;241m4\u001b[39m],[\u001b[38;5;124m'\u001b[39m\u001b[38;5;124mlocation\u001b[39m\u001b[38;5;124m'\u001b[39m,\u001b[38;5;124m'\u001b[39m\u001b[38;5;124mtype\u001b[39m\u001b[38;5;124m'\u001b[39m]]\n",
      "File \u001b[1;32m~\\anaconda3\\Lib\\site-packages\\pandas\\core\\indexing.py:1067\u001b[0m, in \u001b[0;36m_LocationIndexer.__getitem__\u001b[1;34m(self, key)\u001b[0m\n\u001b[0;32m   1065\u001b[0m     \u001b[38;5;28;01mif\u001b[39;00m \u001b[38;5;28mself\u001b[39m\u001b[38;5;241m.\u001b[39m_is_scalar_access(key):\n\u001b[0;32m   1066\u001b[0m         \u001b[38;5;28;01mreturn\u001b[39;00m \u001b[38;5;28mself\u001b[39m\u001b[38;5;241m.\u001b[39mobj\u001b[38;5;241m.\u001b[39m_get_value(\u001b[38;5;241m*\u001b[39mkey, takeable\u001b[38;5;241m=\u001b[39m\u001b[38;5;28mself\u001b[39m\u001b[38;5;241m.\u001b[39m_takeable)\n\u001b[1;32m-> 1067\u001b[0m     \u001b[38;5;28;01mreturn\u001b[39;00m \u001b[38;5;28mself\u001b[39m\u001b[38;5;241m.\u001b[39m_getitem_tuple(key)\n\u001b[0;32m   1068\u001b[0m \u001b[38;5;28;01melse\u001b[39;00m:\n\u001b[0;32m   1069\u001b[0m     \u001b[38;5;66;03m# we by definition only have the 0th axis\u001b[39;00m\n\u001b[0;32m   1070\u001b[0m     axis \u001b[38;5;241m=\u001b[39m \u001b[38;5;28mself\u001b[39m\u001b[38;5;241m.\u001b[39maxis \u001b[38;5;129;01mor\u001b[39;00m \u001b[38;5;241m0\u001b[39m\n",
      "File \u001b[1;32m~\\anaconda3\\Lib\\site-packages\\pandas\\core\\indexing.py:1563\u001b[0m, in \u001b[0;36m_iLocIndexer._getitem_tuple\u001b[1;34m(self, tup)\u001b[0m\n\u001b[0;32m   1561\u001b[0m \u001b[38;5;28;01mdef\u001b[39;00m \u001b[38;5;21m_getitem_tuple\u001b[39m(\u001b[38;5;28mself\u001b[39m, tup: \u001b[38;5;28mtuple\u001b[39m):\n\u001b[1;32m-> 1563\u001b[0m     tup \u001b[38;5;241m=\u001b[39m \u001b[38;5;28mself\u001b[39m\u001b[38;5;241m.\u001b[39m_validate_tuple_indexer(tup)\n\u001b[0;32m   1564\u001b[0m     \u001b[38;5;28;01mwith\u001b[39;00m suppress(IndexingError):\n\u001b[0;32m   1565\u001b[0m         \u001b[38;5;28;01mreturn\u001b[39;00m \u001b[38;5;28mself\u001b[39m\u001b[38;5;241m.\u001b[39m_getitem_lowerdim(tup)\n",
      "File \u001b[1;32m~\\anaconda3\\Lib\\site-packages\\pandas\\core\\indexing.py:873\u001b[0m, in \u001b[0;36m_LocationIndexer._validate_tuple_indexer\u001b[1;34m(self, key)\u001b[0m\n\u001b[0;32m    871\u001b[0m \u001b[38;5;28;01mfor\u001b[39;00m i, k \u001b[38;5;129;01min\u001b[39;00m \u001b[38;5;28menumerate\u001b[39m(key):\n\u001b[0;32m    872\u001b[0m     \u001b[38;5;28;01mtry\u001b[39;00m:\n\u001b[1;32m--> 873\u001b[0m         \u001b[38;5;28mself\u001b[39m\u001b[38;5;241m.\u001b[39m_validate_key(k, i)\n\u001b[0;32m    874\u001b[0m     \u001b[38;5;28;01mexcept\u001b[39;00m \u001b[38;5;167;01mValueError\u001b[39;00m \u001b[38;5;28;01mas\u001b[39;00m err:\n\u001b[0;32m    875\u001b[0m         \u001b[38;5;28;01mraise\u001b[39;00m \u001b[38;5;167;01mValueError\u001b[39;00m(\n\u001b[0;32m    876\u001b[0m             \u001b[38;5;124m\"\u001b[39m\u001b[38;5;124mLocation based indexing can only have \u001b[39m\u001b[38;5;124m\"\u001b[39m\n\u001b[0;32m    877\u001b[0m             \u001b[38;5;124mf\u001b[39m\u001b[38;5;124m\"\u001b[39m\u001b[38;5;124m[\u001b[39m\u001b[38;5;132;01m{\u001b[39;00m\u001b[38;5;28mself\u001b[39m\u001b[38;5;241m.\u001b[39m_valid_types\u001b[38;5;132;01m}\u001b[39;00m\u001b[38;5;124m] types\u001b[39m\u001b[38;5;124m\"\u001b[39m\n\u001b[0;32m    878\u001b[0m         ) \u001b[38;5;28;01mfrom\u001b[39;00m \u001b[38;5;21;01merr\u001b[39;00m\n",
      "File \u001b[1;32m~\\anaconda3\\Lib\\site-packages\\pandas\\core\\indexing.py:1477\u001b[0m, in \u001b[0;36m_iLocIndexer._validate_key\u001b[1;34m(self, key, axis)\u001b[0m\n\u001b[0;32m   1475\u001b[0m \u001b[38;5;66;03m# check that the key has a numeric dtype\u001b[39;00m\n\u001b[0;32m   1476\u001b[0m \u001b[38;5;28;01mif\u001b[39;00m \u001b[38;5;129;01mnot\u001b[39;00m is_numeric_dtype(arr\u001b[38;5;241m.\u001b[39mdtype):\n\u001b[1;32m-> 1477\u001b[0m     \u001b[38;5;28;01mraise\u001b[39;00m \u001b[38;5;167;01mIndexError\u001b[39;00m(\u001b[38;5;124mf\u001b[39m\u001b[38;5;124m\"\u001b[39m\u001b[38;5;124m.iloc requires numeric indexers, got \u001b[39m\u001b[38;5;132;01m{\u001b[39;00marr\u001b[38;5;132;01m}\u001b[39;00m\u001b[38;5;124m\"\u001b[39m)\n\u001b[0;32m   1479\u001b[0m \u001b[38;5;66;03m# check that the key does not exceed the maximum size of the index\u001b[39;00m\n\u001b[0;32m   1480\u001b[0m \u001b[38;5;28;01mif\u001b[39;00m \u001b[38;5;28mlen\u001b[39m(arr) \u001b[38;5;129;01mand\u001b[39;00m (arr\u001b[38;5;241m.\u001b[39mmax() \u001b[38;5;241m>\u001b[39m\u001b[38;5;241m=\u001b[39m len_axis \u001b[38;5;129;01mor\u001b[39;00m arr\u001b[38;5;241m.\u001b[39mmin() \u001b[38;5;241m<\u001b[39m \u001b[38;5;241m-\u001b[39mlen_axis):\n",
      "\u001b[1;31mIndexError\u001b[0m: .iloc requires numeric indexers, got ['location' 'type']"
     ]
    }
   ],
   "source": [
    "store_data.iloc[[1,4],['location','type']]"
   ]
  },
  {
   "cell_type": "code",
   "execution_count": 64,
   "id": "8abc3af6",
   "metadata": {},
   "outputs": [
    {
     "data": {
      "text/html": [
       "<div>\n",
       "<style scoped>\n",
       "    .dataframe tbody tr th:only-of-type {\n",
       "        vertical-align: middle;\n",
       "    }\n",
       "\n",
       "    .dataframe tbody tr th {\n",
       "        vertical-align: top;\n",
       "    }\n",
       "\n",
       "    .dataframe thead th {\n",
       "        text-align: right;\n",
       "    }\n",
       "</style>\n",
       "<table border=\"1\" class=\"dataframe\">\n",
       "  <thead>\n",
       "    <tr style=\"text-align: right;\">\n",
       "      <th></th>\n",
       "      <th>Customer Id</th>\n",
       "      <th>Location</th>\n",
       "      <th>Gender</th>\n",
       "      <th>Type</th>\n",
       "      <th>Quantity</th>\n",
       "      <th>Total Bill</th>\n",
       "    </tr>\n",
       "  </thead>\n",
       "  <tbody>\n",
       "    <tr>\n",
       "      <th>0</th>\n",
       "      <td>CustID00</td>\n",
       "      <td>Chicago</td>\n",
       "      <td>M</td>\n",
       "      <td>Electronics</td>\n",
       "      <td>1</td>\n",
       "      <td>100</td>\n",
       "    </tr>\n",
       "    <tr>\n",
       "      <th>1</th>\n",
       "      <td>CustID01</td>\n",
       "      <td>Boston</td>\n",
       "      <td>M</td>\n",
       "      <td>Food &amp; Beverages</td>\n",
       "      <td>3</td>\n",
       "      <td>75</td>\n",
       "    </tr>\n",
       "    <tr>\n",
       "      <th>2</th>\n",
       "      <td>CustID02</td>\n",
       "      <td>Seattle</td>\n",
       "      <td>F</td>\n",
       "      <td>Food &amp; Beverages</td>\n",
       "      <td>4</td>\n",
       "      <td>125</td>\n",
       "    </tr>\n",
       "    <tr>\n",
       "      <th>3</th>\n",
       "      <td>CustID03</td>\n",
       "      <td>San Francisco</td>\n",
       "      <td>M</td>\n",
       "      <td>Medicine</td>\n",
       "      <td>2</td>\n",
       "      <td>50</td>\n",
       "    </tr>\n",
       "    <tr>\n",
       "      <th>4</th>\n",
       "      <td>CustID04</td>\n",
       "      <td>Austin</td>\n",
       "      <td>F</td>\n",
       "      <td>Beauty</td>\n",
       "      <td>1</td>\n",
       "      <td>80</td>\n",
       "    </tr>\n",
       "  </tbody>\n",
       "</table>\n",
       "</div>"
      ],
      "text/plain": [
       "  Customer Id       Location Gender              Type  Quantity  Total Bill\n",
       "0    CustID00        Chicago      M       Electronics         1         100\n",
       "1    CustID01         Boston      M  Food & Beverages         3          75\n",
       "2    CustID02        Seattle      F  Food & Beverages         4         125\n",
       "3    CustID03  San Francisco      M          Medicine         2          50\n",
       "4    CustID04         Austin      F            Beauty         1          80"
      ]
     },
     "execution_count": 64,
     "metadata": {},
     "output_type": "execute_result"
    }
   ],
   "source": [
    "store_data"
   ]
  },
  {
   "cell_type": "code",
   "execution_count": 69,
   "id": "723f2031",
   "metadata": {},
   "outputs": [
    {
     "name": "stdout",
     "output_type": "stream",
     "text": [
      "Electronics\n",
      "  Customer Id       Location Gender              Type  Quantity  Total Bill\n",
      "0    CustID00        Chicago      M       Electronics         1         100\n",
      "1    CustID01         Boston      M  Food & Beverages         3          75\n",
      "2    CustID02        Seattle      F  Food & Beverages         4         125\n",
      "3    CustID03  San Francisco      M          Medicine         2          50\n",
      "4    CustID04         Austin      F       Electronics         1          80\n"
     ]
    }
   ],
   "source": [
    "print(store_data.loc[4,'Type'])\n",
    "store_data.loc[4,'Type']='Electronics'\n",
    "print(store_data)"
   ]
  },
  {
   "cell_type": "code",
   "execution_count": 70,
   "id": "20e0bdfd",
   "metadata": {},
   "outputs": [],
   "source": [
    "store_data.iloc[4,3]='Beauty'"
   ]
  },
  {
   "cell_type": "code",
   "execution_count": 71,
   "id": "907cf5df",
   "metadata": {},
   "outputs": [
    {
     "data": {
      "text/html": [
       "<div>\n",
       "<style scoped>\n",
       "    .dataframe tbody tr th:only-of-type {\n",
       "        vertical-align: middle;\n",
       "    }\n",
       "\n",
       "    .dataframe tbody tr th {\n",
       "        vertical-align: top;\n",
       "    }\n",
       "\n",
       "    .dataframe thead th {\n",
       "        text-align: right;\n",
       "    }\n",
       "</style>\n",
       "<table border=\"1\" class=\"dataframe\">\n",
       "  <thead>\n",
       "    <tr style=\"text-align: right;\">\n",
       "      <th></th>\n",
       "      <th>Customer Id</th>\n",
       "      <th>Location</th>\n",
       "      <th>Gender</th>\n",
       "      <th>Type</th>\n",
       "      <th>Quantity</th>\n",
       "      <th>Total Bill</th>\n",
       "    </tr>\n",
       "  </thead>\n",
       "  <tbody>\n",
       "    <tr>\n",
       "      <th>0</th>\n",
       "      <td>CustID00</td>\n",
       "      <td>Chicago</td>\n",
       "      <td>M</td>\n",
       "      <td>Electronics</td>\n",
       "      <td>1</td>\n",
       "      <td>100</td>\n",
       "    </tr>\n",
       "    <tr>\n",
       "      <th>1</th>\n",
       "      <td>CustID01</td>\n",
       "      <td>Boston</td>\n",
       "      <td>M</td>\n",
       "      <td>Food &amp; Beverages</td>\n",
       "      <td>3</td>\n",
       "      <td>75</td>\n",
       "    </tr>\n",
       "    <tr>\n",
       "      <th>2</th>\n",
       "      <td>CustID02</td>\n",
       "      <td>Seattle</td>\n",
       "      <td>F</td>\n",
       "      <td>Food &amp; Beverages</td>\n",
       "      <td>4</td>\n",
       "      <td>125</td>\n",
       "    </tr>\n",
       "    <tr>\n",
       "      <th>3</th>\n",
       "      <td>CustID03</td>\n",
       "      <td>San Francisco</td>\n",
       "      <td>M</td>\n",
       "      <td>Medicine</td>\n",
       "      <td>2</td>\n",
       "      <td>50</td>\n",
       "    </tr>\n",
       "    <tr>\n",
       "      <th>4</th>\n",
       "      <td>CustID04</td>\n",
       "      <td>Austin</td>\n",
       "      <td>F</td>\n",
       "      <td>Beauty</td>\n",
       "      <td>1</td>\n",
       "      <td>80</td>\n",
       "    </tr>\n",
       "  </tbody>\n",
       "</table>\n",
       "</div>"
      ],
      "text/plain": [
       "  Customer Id       Location Gender              Type  Quantity  Total Bill\n",
       "0    CustID00        Chicago      M       Electronics         1         100\n",
       "1    CustID01         Boston      M  Food & Beverages         3          75\n",
       "2    CustID02        Seattle      F  Food & Beverages         4         125\n",
       "3    CustID03  San Francisco      M          Medicine         2          50\n",
       "4    CustID04         Austin      F            Beauty         1          80"
      ]
     },
     "execution_count": 71,
     "metadata": {},
     "output_type": "execute_result"
    }
   ],
   "source": [
    "store_data"
   ]
  },
  {
   "cell_type": "code",
   "execution_count": 72,
   "id": "44115d61",
   "metadata": {},
   "outputs": [
    {
     "data": {
      "text/plain": [
       "0    False\n",
       "1     True\n",
       "2     True\n",
       "3     True\n",
       "4    False\n",
       "Name: Quantity, dtype: bool"
      ]
     },
     "execution_count": 72,
     "metadata": {},
     "output_type": "execute_result"
    }
   ],
   "source": [
    "store_data['Quantity']>1"
   ]
  },
  {
   "cell_type": "code",
   "execution_count": 73,
   "id": "f53d90ce",
   "metadata": {},
   "outputs": [
    {
     "data": {
      "text/html": [
       "<div>\n",
       "<style scoped>\n",
       "    .dataframe tbody tr th:only-of-type {\n",
       "        vertical-align: middle;\n",
       "    }\n",
       "\n",
       "    .dataframe tbody tr th {\n",
       "        vertical-align: top;\n",
       "    }\n",
       "\n",
       "    .dataframe thead th {\n",
       "        text-align: right;\n",
       "    }\n",
       "</style>\n",
       "<table border=\"1\" class=\"dataframe\">\n",
       "  <thead>\n",
       "    <tr style=\"text-align: right;\">\n",
       "      <th></th>\n",
       "      <th>Customer Id</th>\n",
       "      <th>Location</th>\n",
       "      <th>Gender</th>\n",
       "      <th>Type</th>\n",
       "      <th>Quantity</th>\n",
       "      <th>Total Bill</th>\n",
       "    </tr>\n",
       "  </thead>\n",
       "  <tbody>\n",
       "    <tr>\n",
       "      <th>1</th>\n",
       "      <td>CustID01</td>\n",
       "      <td>Boston</td>\n",
       "      <td>M</td>\n",
       "      <td>Food &amp; Beverages</td>\n",
       "      <td>3</td>\n",
       "      <td>75</td>\n",
       "    </tr>\n",
       "    <tr>\n",
       "      <th>2</th>\n",
       "      <td>CustID02</td>\n",
       "      <td>Seattle</td>\n",
       "      <td>F</td>\n",
       "      <td>Food &amp; Beverages</td>\n",
       "      <td>4</td>\n",
       "      <td>125</td>\n",
       "    </tr>\n",
       "    <tr>\n",
       "      <th>3</th>\n",
       "      <td>CustID03</td>\n",
       "      <td>San Francisco</td>\n",
       "      <td>M</td>\n",
       "      <td>Medicine</td>\n",
       "      <td>2</td>\n",
       "      <td>50</td>\n",
       "    </tr>\n",
       "  </tbody>\n",
       "</table>\n",
       "</div>"
      ],
      "text/plain": [
       "  Customer Id       Location Gender              Type  Quantity  Total Bill\n",
       "1    CustID01         Boston      M  Food & Beverages         3          75\n",
       "2    CustID02        Seattle      F  Food & Beverages         4         125\n",
       "3    CustID03  San Francisco      M          Medicine         2          50"
      ]
     },
     "execution_count": 73,
     "metadata": {},
     "output_type": "execute_result"
    }
   ],
   "source": [
    "store_data.loc[store_data['Quantity']>1]"
   ]
  },
  {
   "cell_type": "code",
   "execution_count": 74,
   "id": "43dd0ec3",
   "metadata": {},
   "outputs": [
    {
     "data": {
      "text/html": [
       "<div>\n",
       "<style scoped>\n",
       "    .dataframe tbody tr th:only-of-type {\n",
       "        vertical-align: middle;\n",
       "    }\n",
       "\n",
       "    .dataframe tbody tr th {\n",
       "        vertical-align: top;\n",
       "    }\n",
       "\n",
       "    .dataframe thead th {\n",
       "        text-align: right;\n",
       "    }\n",
       "</style>\n",
       "<table border=\"1\" class=\"dataframe\">\n",
       "  <thead>\n",
       "    <tr style=\"text-align: right;\">\n",
       "      <th></th>\n",
       "      <th>Customer Id</th>\n",
       "      <th>Location</th>\n",
       "      <th>Gender</th>\n",
       "      <th>Type</th>\n",
       "      <th>Quantity</th>\n",
       "      <th>Total Bill</th>\n",
       "    </tr>\n",
       "  </thead>\n",
       "  <tbody>\n",
       "    <tr>\n",
       "      <th>0</th>\n",
       "      <td>CustID00</td>\n",
       "      <td>Chicago</td>\n",
       "      <td>M</td>\n",
       "      <td>Electronics</td>\n",
       "      <td>1</td>\n",
       "      <td>100</td>\n",
       "    </tr>\n",
       "    <tr>\n",
       "      <th>1</th>\n",
       "      <td>CustID01</td>\n",
       "      <td>Boston</td>\n",
       "      <td>M</td>\n",
       "      <td>Food &amp; Beverages</td>\n",
       "      <td>3</td>\n",
       "      <td>75</td>\n",
       "    </tr>\n",
       "    <tr>\n",
       "      <th>2</th>\n",
       "      <td>CustID02</td>\n",
       "      <td>Seattle</td>\n",
       "      <td>F</td>\n",
       "      <td>Food &amp; Beverages</td>\n",
       "      <td>4</td>\n",
       "      <td>125</td>\n",
       "    </tr>\n",
       "    <tr>\n",
       "      <th>3</th>\n",
       "      <td>CustID03</td>\n",
       "      <td>San Francisco</td>\n",
       "      <td>M</td>\n",
       "      <td>Medicine</td>\n",
       "      <td>2</td>\n",
       "      <td>50</td>\n",
       "    </tr>\n",
       "    <tr>\n",
       "      <th>4</th>\n",
       "      <td>CustID04</td>\n",
       "      <td>Austin</td>\n",
       "      <td>F</td>\n",
       "      <td>Beauty</td>\n",
       "      <td>1</td>\n",
       "      <td>80</td>\n",
       "    </tr>\n",
       "  </tbody>\n",
       "</table>\n",
       "</div>"
      ],
      "text/plain": [
       "  Customer Id       Location Gender              Type  Quantity  Total Bill\n",
       "0    CustID00        Chicago      M       Electronics         1         100\n",
       "1    CustID01         Boston      M  Food & Beverages         3          75\n",
       "2    CustID02        Seattle      F  Food & Beverages         4         125\n",
       "3    CustID03  San Francisco      M          Medicine         2          50\n",
       "4    CustID04         Austin      F            Beauty         1          80"
      ]
     },
     "execution_count": 74,
     "metadata": {},
     "output_type": "execute_result"
    }
   ],
   "source": [
    "store_data"
   ]
  },
  {
   "cell_type": "code",
   "execution_count": 77,
   "id": "9aaaaab0",
   "metadata": {},
   "outputs": [],
   "source": [
    "store_data['Rating'] = [2,5,3,4,4]"
   ]
  },
  {
   "cell_type": "code",
   "execution_count": 84,
   "id": "8fe8c654",
   "metadata": {},
   "outputs": [],
   "source": [
    "store_data.drop('rating', axis=1, inplace = True)"
   ]
  },
  {
   "cell_type": "code",
   "execution_count": 85,
   "id": "466a570a",
   "metadata": {},
   "outputs": [
    {
     "data": {
      "text/html": [
       "<div>\n",
       "<style scoped>\n",
       "    .dataframe tbody tr th:only-of-type {\n",
       "        vertical-align: middle;\n",
       "    }\n",
       "\n",
       "    .dataframe tbody tr th {\n",
       "        vertical-align: top;\n",
       "    }\n",
       "\n",
       "    .dataframe thead th {\n",
       "        text-align: right;\n",
       "    }\n",
       "</style>\n",
       "<table border=\"1\" class=\"dataframe\">\n",
       "  <thead>\n",
       "    <tr style=\"text-align: right;\">\n",
       "      <th></th>\n",
       "      <th>Customer Id</th>\n",
       "      <th>Location</th>\n",
       "      <th>Gender</th>\n",
       "      <th>Type</th>\n",
       "      <th>Quantity</th>\n",
       "      <th>Total Bill</th>\n",
       "      <th>Rating</th>\n",
       "    </tr>\n",
       "  </thead>\n",
       "  <tbody>\n",
       "    <tr>\n",
       "      <th>0</th>\n",
       "      <td>CustID00</td>\n",
       "      <td>Chicago</td>\n",
       "      <td>M</td>\n",
       "      <td>Electronics</td>\n",
       "      <td>1</td>\n",
       "      <td>100</td>\n",
       "      <td>2</td>\n",
       "    </tr>\n",
       "    <tr>\n",
       "      <th>1</th>\n",
       "      <td>CustID01</td>\n",
       "      <td>Boston</td>\n",
       "      <td>M</td>\n",
       "      <td>Food &amp; Beverages</td>\n",
       "      <td>3</td>\n",
       "      <td>75</td>\n",
       "      <td>5</td>\n",
       "    </tr>\n",
       "    <tr>\n",
       "      <th>2</th>\n",
       "      <td>CustID02</td>\n",
       "      <td>Seattle</td>\n",
       "      <td>F</td>\n",
       "      <td>Food &amp; Beverages</td>\n",
       "      <td>4</td>\n",
       "      <td>125</td>\n",
       "      <td>3</td>\n",
       "    </tr>\n",
       "    <tr>\n",
       "      <th>3</th>\n",
       "      <td>CustID03</td>\n",
       "      <td>San Francisco</td>\n",
       "      <td>M</td>\n",
       "      <td>Medicine</td>\n",
       "      <td>2</td>\n",
       "      <td>50</td>\n",
       "      <td>4</td>\n",
       "    </tr>\n",
       "    <tr>\n",
       "      <th>4</th>\n",
       "      <td>CustID04</td>\n",
       "      <td>Austin</td>\n",
       "      <td>F</td>\n",
       "      <td>Beauty</td>\n",
       "      <td>1</td>\n",
       "      <td>80</td>\n",
       "      <td>4</td>\n",
       "    </tr>\n",
       "  </tbody>\n",
       "</table>\n",
       "</div>"
      ],
      "text/plain": [
       "  Customer Id       Location Gender              Type  Quantity  Total Bill  \\\n",
       "0    CustID00        Chicago      M       Electronics         1         100   \n",
       "1    CustID01         Boston      M  Food & Beverages         3          75   \n",
       "2    CustID02        Seattle      F  Food & Beverages         4         125   \n",
       "3    CustID03  San Francisco      M          Medicine         2          50   \n",
       "4    CustID04         Austin      F            Beauty         1          80   \n",
       "\n",
       "   Rating  \n",
       "0       2  \n",
       "1       5  \n",
       "2       3  \n",
       "3       4  \n",
       "4       4  "
      ]
     },
     "execution_count": 85,
     "metadata": {},
     "output_type": "execute_result"
    }
   ],
   "source": [
    "store_data"
   ]
  },
  {
   "cell_type": "code",
   "execution_count": 86,
   "id": "96b7b74b",
   "metadata": {},
   "outputs": [],
   "source": [
    "new_store_data = store_data.copy()"
   ]
  },
  {
   "cell_type": "code",
   "execution_count": 87,
   "id": "611c72b4",
   "metadata": {},
   "outputs": [
    {
     "data": {
      "text/html": [
       "<div>\n",
       "<style scoped>\n",
       "    .dataframe tbody tr th:only-of-type {\n",
       "        vertical-align: middle;\n",
       "    }\n",
       "\n",
       "    .dataframe tbody tr th {\n",
       "        vertical-align: top;\n",
       "    }\n",
       "\n",
       "    .dataframe thead th {\n",
       "        text-align: right;\n",
       "    }\n",
       "</style>\n",
       "<table border=\"1\" class=\"dataframe\">\n",
       "  <thead>\n",
       "    <tr style=\"text-align: right;\">\n",
       "      <th></th>\n",
       "      <th>Customer Id</th>\n",
       "      <th>Location</th>\n",
       "      <th>Gender</th>\n",
       "      <th>Type</th>\n",
       "      <th>Quantity</th>\n",
       "      <th>Total Bill</th>\n",
       "      <th>Rating</th>\n",
       "    </tr>\n",
       "  </thead>\n",
       "  <tbody>\n",
       "    <tr>\n",
       "      <th>0</th>\n",
       "      <td>CustID00</td>\n",
       "      <td>Chicago</td>\n",
       "      <td>M</td>\n",
       "      <td>Electronics</td>\n",
       "      <td>1</td>\n",
       "      <td>100</td>\n",
       "      <td>2</td>\n",
       "    </tr>\n",
       "    <tr>\n",
       "      <th>1</th>\n",
       "      <td>CustID01</td>\n",
       "      <td>Boston</td>\n",
       "      <td>M</td>\n",
       "      <td>Food &amp; Beverages</td>\n",
       "      <td>3</td>\n",
       "      <td>75</td>\n",
       "      <td>5</td>\n",
       "    </tr>\n",
       "    <tr>\n",
       "      <th>2</th>\n",
       "      <td>CustID02</td>\n",
       "      <td>Seattle</td>\n",
       "      <td>F</td>\n",
       "      <td>Food &amp; Beverages</td>\n",
       "      <td>4</td>\n",
       "      <td>125</td>\n",
       "      <td>3</td>\n",
       "    </tr>\n",
       "    <tr>\n",
       "      <th>3</th>\n",
       "      <td>CustID03</td>\n",
       "      <td>San Francisco</td>\n",
       "      <td>M</td>\n",
       "      <td>Medicine</td>\n",
       "      <td>2</td>\n",
       "      <td>50</td>\n",
       "      <td>4</td>\n",
       "    </tr>\n",
       "    <tr>\n",
       "      <th>4</th>\n",
       "      <td>CustID04</td>\n",
       "      <td>Austin</td>\n",
       "      <td>F</td>\n",
       "      <td>Beauty</td>\n",
       "      <td>1</td>\n",
       "      <td>80</td>\n",
       "      <td>4</td>\n",
       "    </tr>\n",
       "  </tbody>\n",
       "</table>\n",
       "</div>"
      ],
      "text/plain": [
       "  Customer Id       Location Gender              Type  Quantity  Total Bill  \\\n",
       "0    CustID00        Chicago      M       Electronics         1         100   \n",
       "1    CustID01         Boston      M  Food & Beverages         3          75   \n",
       "2    CustID02        Seattle      F  Food & Beverages         4         125   \n",
       "3    CustID03  San Francisco      M          Medicine         2          50   \n",
       "4    CustID04         Austin      F            Beauty         1          80   \n",
       "\n",
       "   Rating  \n",
       "0       2  \n",
       "1       5  \n",
       "2       3  \n",
       "3       4  \n",
       "4       4  "
      ]
     },
     "execution_count": 87,
     "metadata": {},
     "output_type": "execute_result"
    }
   ],
   "source": [
    "new_store_data"
   ]
  },
  {
   "cell_type": "code",
   "execution_count": 91,
   "id": "5c951074",
   "metadata": {},
   "outputs": [],
   "source": [
    "new_store_data.drop(['Location','Rating'],axis = 1,inplace=True)"
   ]
  },
  {
   "cell_type": "code",
   "execution_count": 92,
   "id": "6806291d",
   "metadata": {},
   "outputs": [
    {
     "data": {
      "text/html": [
       "<div>\n",
       "<style scoped>\n",
       "    .dataframe tbody tr th:only-of-type {\n",
       "        vertical-align: middle;\n",
       "    }\n",
       "\n",
       "    .dataframe tbody tr th {\n",
       "        vertical-align: top;\n",
       "    }\n",
       "\n",
       "    .dataframe thead th {\n",
       "        text-align: right;\n",
       "    }\n",
       "</style>\n",
       "<table border=\"1\" class=\"dataframe\">\n",
       "  <thead>\n",
       "    <tr style=\"text-align: right;\">\n",
       "      <th></th>\n",
       "      <th>Customer Id</th>\n",
       "      <th>Gender</th>\n",
       "      <th>Type</th>\n",
       "      <th>Quantity</th>\n",
       "      <th>Total Bill</th>\n",
       "    </tr>\n",
       "  </thead>\n",
       "  <tbody>\n",
       "    <tr>\n",
       "      <th>0</th>\n",
       "      <td>CustID00</td>\n",
       "      <td>M</td>\n",
       "      <td>Electronics</td>\n",
       "      <td>1</td>\n",
       "      <td>100</td>\n",
       "    </tr>\n",
       "    <tr>\n",
       "      <th>1</th>\n",
       "      <td>CustID01</td>\n",
       "      <td>M</td>\n",
       "      <td>Food &amp; Beverages</td>\n",
       "      <td>3</td>\n",
       "      <td>75</td>\n",
       "    </tr>\n",
       "    <tr>\n",
       "      <th>2</th>\n",
       "      <td>CustID02</td>\n",
       "      <td>F</td>\n",
       "      <td>Food &amp; Beverages</td>\n",
       "      <td>4</td>\n",
       "      <td>125</td>\n",
       "    </tr>\n",
       "    <tr>\n",
       "      <th>3</th>\n",
       "      <td>CustID03</td>\n",
       "      <td>M</td>\n",
       "      <td>Medicine</td>\n",
       "      <td>2</td>\n",
       "      <td>50</td>\n",
       "    </tr>\n",
       "    <tr>\n",
       "      <th>4</th>\n",
       "      <td>CustID04</td>\n",
       "      <td>F</td>\n",
       "      <td>Beauty</td>\n",
       "      <td>1</td>\n",
       "      <td>80</td>\n",
       "    </tr>\n",
       "  </tbody>\n",
       "</table>\n",
       "</div>"
      ],
      "text/plain": [
       "  Customer Id Gender              Type  Quantity  Total Bill\n",
       "0    CustID00      M       Electronics         1         100\n",
       "1    CustID01      M  Food & Beverages         3          75\n",
       "2    CustID02      F  Food & Beverages         4         125\n",
       "3    CustID03      M          Medicine         2          50\n",
       "4    CustID04      F            Beauty         1          80"
      ]
     },
     "execution_count": 92,
     "metadata": {},
     "output_type": "execute_result"
    }
   ],
   "source": [
    "new_store_data"
   ]
  },
  {
   "cell_type": "code",
   "execution_count": 93,
   "id": "fb67be7e",
   "metadata": {},
   "outputs": [
    {
     "data": {
      "text/html": [
       "<div>\n",
       "<style scoped>\n",
       "    .dataframe tbody tr th:only-of-type {\n",
       "        vertical-align: middle;\n",
       "    }\n",
       "\n",
       "    .dataframe tbody tr th {\n",
       "        vertical-align: top;\n",
       "    }\n",
       "\n",
       "    .dataframe thead th {\n",
       "        text-align: right;\n",
       "    }\n",
       "</style>\n",
       "<table border=\"1\" class=\"dataframe\">\n",
       "  <thead>\n",
       "    <tr style=\"text-align: right;\">\n",
       "      <th></th>\n",
       "      <th>Customer Id</th>\n",
       "      <th>Location</th>\n",
       "      <th>Gender</th>\n",
       "      <th>Type</th>\n",
       "      <th>Quantity</th>\n",
       "      <th>Total Bill</th>\n",
       "      <th>Rating</th>\n",
       "    </tr>\n",
       "  </thead>\n",
       "  <tbody>\n",
       "    <tr>\n",
       "      <th>0</th>\n",
       "      <td>CustID00</td>\n",
       "      <td>Chicago</td>\n",
       "      <td>M</td>\n",
       "      <td>Electronics</td>\n",
       "      <td>1</td>\n",
       "      <td>100</td>\n",
       "      <td>2</td>\n",
       "    </tr>\n",
       "    <tr>\n",
       "      <th>1</th>\n",
       "      <td>CustID01</td>\n",
       "      <td>Boston</td>\n",
       "      <td>M</td>\n",
       "      <td>Food &amp; Beverages</td>\n",
       "      <td>3</td>\n",
       "      <td>75</td>\n",
       "      <td>5</td>\n",
       "    </tr>\n",
       "    <tr>\n",
       "      <th>2</th>\n",
       "      <td>CustID02</td>\n",
       "      <td>Seattle</td>\n",
       "      <td>F</td>\n",
       "      <td>Food &amp; Beverages</td>\n",
       "      <td>4</td>\n",
       "      <td>125</td>\n",
       "      <td>3</td>\n",
       "    </tr>\n",
       "    <tr>\n",
       "      <th>3</th>\n",
       "      <td>CustID03</td>\n",
       "      <td>San Francisco</td>\n",
       "      <td>M</td>\n",
       "      <td>Medicine</td>\n",
       "      <td>2</td>\n",
       "      <td>50</td>\n",
       "      <td>4</td>\n",
       "    </tr>\n",
       "    <tr>\n",
       "      <th>4</th>\n",
       "      <td>CustID04</td>\n",
       "      <td>Austin</td>\n",
       "      <td>F</td>\n",
       "      <td>Beauty</td>\n",
       "      <td>1</td>\n",
       "      <td>80</td>\n",
       "      <td>4</td>\n",
       "    </tr>\n",
       "  </tbody>\n",
       "</table>\n",
       "</div>"
      ],
      "text/plain": [
       "  Customer Id       Location Gender              Type  Quantity  Total Bill  \\\n",
       "0    CustID00        Chicago      M       Electronics         1         100   \n",
       "1    CustID01         Boston      M  Food & Beverages         3          75   \n",
       "2    CustID02        Seattle      F  Food & Beverages         4         125   \n",
       "3    CustID03  San Francisco      M          Medicine         2          50   \n",
       "4    CustID04         Austin      F            Beauty         1          80   \n",
       "\n",
       "   Rating  \n",
       "0       2  \n",
       "1       5  \n",
       "2       3  \n",
       "3       4  \n",
       "4       4  "
      ]
     },
     "execution_count": 93,
     "metadata": {},
     "output_type": "execute_result"
    }
   ],
   "source": [
    "store_data"
   ]
  },
  {
   "cell_type": "code",
   "execution_count": 94,
   "id": "8b201925",
   "metadata": {},
   "outputs": [
    {
     "data": {
      "text/html": [
       "<div>\n",
       "<style scoped>\n",
       "    .dataframe tbody tr th:only-of-type {\n",
       "        vertical-align: middle;\n",
       "    }\n",
       "\n",
       "    .dataframe tbody tr th {\n",
       "        vertical-align: top;\n",
       "    }\n",
       "\n",
       "    .dataframe thead th {\n",
       "        text-align: right;\n",
       "    }\n",
       "</style>\n",
       "<table border=\"1\" class=\"dataframe\">\n",
       "  <thead>\n",
       "    <tr style=\"text-align: right;\">\n",
       "      <th></th>\n",
       "      <th>Customer Id</th>\n",
       "      <th>Location</th>\n",
       "      <th>Gender</th>\n",
       "      <th>Type</th>\n",
       "      <th>Quantity</th>\n",
       "      <th>Total Bill</th>\n",
       "      <th>Rating</th>\n",
       "    </tr>\n",
       "  </thead>\n",
       "  <tbody>\n",
       "    <tr>\n",
       "      <th>0</th>\n",
       "      <td>CustID00</td>\n",
       "      <td>Chicago</td>\n",
       "      <td>M</td>\n",
       "      <td>Electronics</td>\n",
       "      <td>1</td>\n",
       "      <td>100</td>\n",
       "      <td>2</td>\n",
       "    </tr>\n",
       "    <tr>\n",
       "      <th>2</th>\n",
       "      <td>CustID02</td>\n",
       "      <td>Seattle</td>\n",
       "      <td>F</td>\n",
       "      <td>Food &amp; Beverages</td>\n",
       "      <td>4</td>\n",
       "      <td>125</td>\n",
       "      <td>3</td>\n",
       "    </tr>\n",
       "    <tr>\n",
       "      <th>3</th>\n",
       "      <td>CustID03</td>\n",
       "      <td>San Francisco</td>\n",
       "      <td>M</td>\n",
       "      <td>Medicine</td>\n",
       "      <td>2</td>\n",
       "      <td>50</td>\n",
       "      <td>4</td>\n",
       "    </tr>\n",
       "    <tr>\n",
       "      <th>4</th>\n",
       "      <td>CustID04</td>\n",
       "      <td>Austin</td>\n",
       "      <td>F</td>\n",
       "      <td>Beauty</td>\n",
       "      <td>1</td>\n",
       "      <td>80</td>\n",
       "      <td>4</td>\n",
       "    </tr>\n",
       "  </tbody>\n",
       "</table>\n",
       "</div>"
      ],
      "text/plain": [
       "  Customer Id       Location Gender              Type  Quantity  Total Bill  \\\n",
       "0    CustID00        Chicago      M       Electronics         1         100   \n",
       "2    CustID02        Seattle      F  Food & Beverages         4         125   \n",
       "3    CustID03  San Francisco      M          Medicine         2          50   \n",
       "4    CustID04         Austin      F            Beauty         1          80   \n",
       "\n",
       "   Rating  \n",
       "0       2  \n",
       "2       3  \n",
       "3       4  \n",
       "4       4  "
      ]
     },
     "execution_count": 94,
     "metadata": {},
     "output_type": "execute_result"
    }
   ],
   "source": [
    "store_data.drop(1, axis=0)"
   ]
  },
  {
   "cell_type": "code",
   "execution_count": 95,
   "id": "9a9e9f3f",
   "metadata": {},
   "outputs": [
    {
     "data": {
      "text/html": [
       "<div>\n",
       "<style scoped>\n",
       "    .dataframe tbody tr th:only-of-type {\n",
       "        vertical-align: middle;\n",
       "    }\n",
       "\n",
       "    .dataframe tbody tr th {\n",
       "        vertical-align: top;\n",
       "    }\n",
       "\n",
       "    .dataframe thead th {\n",
       "        text-align: right;\n",
       "    }\n",
       "</style>\n",
       "<table border=\"1\" class=\"dataframe\">\n",
       "  <thead>\n",
       "    <tr style=\"text-align: right;\">\n",
       "      <th></th>\n",
       "      <th>Customer Id</th>\n",
       "      <th>Location</th>\n",
       "      <th>Gender</th>\n",
       "      <th>Type</th>\n",
       "      <th>Quantity</th>\n",
       "      <th>Total Bill</th>\n",
       "      <th>Rating</th>\n",
       "    </tr>\n",
       "  </thead>\n",
       "  <tbody>\n",
       "    <tr>\n",
       "      <th>0</th>\n",
       "      <td>CustID00</td>\n",
       "      <td>Chicago</td>\n",
       "      <td>M</td>\n",
       "      <td>Electronics</td>\n",
       "      <td>1</td>\n",
       "      <td>100</td>\n",
       "      <td>2</td>\n",
       "    </tr>\n",
       "    <tr>\n",
       "      <th>1</th>\n",
       "      <td>CustID01</td>\n",
       "      <td>Boston</td>\n",
       "      <td>M</td>\n",
       "      <td>Food &amp; Beverages</td>\n",
       "      <td>3</td>\n",
       "      <td>75</td>\n",
       "      <td>5</td>\n",
       "    </tr>\n",
       "    <tr>\n",
       "      <th>2</th>\n",
       "      <td>CustID02</td>\n",
       "      <td>Seattle</td>\n",
       "      <td>F</td>\n",
       "      <td>Food &amp; Beverages</td>\n",
       "      <td>4</td>\n",
       "      <td>125</td>\n",
       "      <td>3</td>\n",
       "    </tr>\n",
       "    <tr>\n",
       "      <th>3</th>\n",
       "      <td>CustID03</td>\n",
       "      <td>San Francisco</td>\n",
       "      <td>M</td>\n",
       "      <td>Medicine</td>\n",
       "      <td>2</td>\n",
       "      <td>50</td>\n",
       "      <td>4</td>\n",
       "    </tr>\n",
       "    <tr>\n",
       "      <th>4</th>\n",
       "      <td>CustID04</td>\n",
       "      <td>Austin</td>\n",
       "      <td>F</td>\n",
       "      <td>Beauty</td>\n",
       "      <td>1</td>\n",
       "      <td>80</td>\n",
       "      <td>4</td>\n",
       "    </tr>\n",
       "  </tbody>\n",
       "</table>\n",
       "</div>"
      ],
      "text/plain": [
       "  Customer Id       Location Gender              Type  Quantity  Total Bill  \\\n",
       "0    CustID00        Chicago      M       Electronics         1         100   \n",
       "1    CustID01         Boston      M  Food & Beverages         3          75   \n",
       "2    CustID02        Seattle      F  Food & Beverages         4         125   \n",
       "3    CustID03  San Francisco      M          Medicine         2          50   \n",
       "4    CustID04         Austin      F            Beauty         1          80   \n",
       "\n",
       "   Rating  \n",
       "0       2  \n",
       "1       5  \n",
       "2       3  \n",
       "3       4  \n",
       "4       4  "
      ]
     },
     "execution_count": 95,
     "metadata": {},
     "output_type": "execute_result"
    }
   ],
   "source": [
    "store_data"
   ]
  },
  {
   "cell_type": "code",
   "execution_count": 96,
   "id": "df3e607b",
   "metadata": {},
   "outputs": [],
   "source": [
    "store_data_new =store_data.drop(1,axis = 0)"
   ]
  },
  {
   "cell_type": "code",
   "execution_count": 97,
   "id": "80d727f6",
   "metadata": {},
   "outputs": [
    {
     "data": {
      "text/html": [
       "<div>\n",
       "<style scoped>\n",
       "    .dataframe tbody tr th:only-of-type {\n",
       "        vertical-align: middle;\n",
       "    }\n",
       "\n",
       "    .dataframe tbody tr th {\n",
       "        vertical-align: top;\n",
       "    }\n",
       "\n",
       "    .dataframe thead th {\n",
       "        text-align: right;\n",
       "    }\n",
       "</style>\n",
       "<table border=\"1\" class=\"dataframe\">\n",
       "  <thead>\n",
       "    <tr style=\"text-align: right;\">\n",
       "      <th></th>\n",
       "      <th>Customer Id</th>\n",
       "      <th>Location</th>\n",
       "      <th>Gender</th>\n",
       "      <th>Type</th>\n",
       "      <th>Quantity</th>\n",
       "      <th>Total Bill</th>\n",
       "      <th>Rating</th>\n",
       "    </tr>\n",
       "  </thead>\n",
       "  <tbody>\n",
       "    <tr>\n",
       "      <th>0</th>\n",
       "      <td>CustID00</td>\n",
       "      <td>Chicago</td>\n",
       "      <td>M</td>\n",
       "      <td>Electronics</td>\n",
       "      <td>1</td>\n",
       "      <td>100</td>\n",
       "      <td>2</td>\n",
       "    </tr>\n",
       "    <tr>\n",
       "      <th>2</th>\n",
       "      <td>CustID02</td>\n",
       "      <td>Seattle</td>\n",
       "      <td>F</td>\n",
       "      <td>Food &amp; Beverages</td>\n",
       "      <td>4</td>\n",
       "      <td>125</td>\n",
       "      <td>3</td>\n",
       "    </tr>\n",
       "    <tr>\n",
       "      <th>3</th>\n",
       "      <td>CustID03</td>\n",
       "      <td>San Francisco</td>\n",
       "      <td>M</td>\n",
       "      <td>Medicine</td>\n",
       "      <td>2</td>\n",
       "      <td>50</td>\n",
       "      <td>4</td>\n",
       "    </tr>\n",
       "    <tr>\n",
       "      <th>4</th>\n",
       "      <td>CustID04</td>\n",
       "      <td>Austin</td>\n",
       "      <td>F</td>\n",
       "      <td>Beauty</td>\n",
       "      <td>1</td>\n",
       "      <td>80</td>\n",
       "      <td>4</td>\n",
       "    </tr>\n",
       "  </tbody>\n",
       "</table>\n",
       "</div>"
      ],
      "text/plain": [
       "  Customer Id       Location Gender              Type  Quantity  Total Bill  \\\n",
       "0    CustID00        Chicago      M       Electronics         1         100   \n",
       "2    CustID02        Seattle      F  Food & Beverages         4         125   \n",
       "3    CustID03  San Francisco      M          Medicine         2          50   \n",
       "4    CustID04         Austin      F            Beauty         1          80   \n",
       "\n",
       "   Rating  \n",
       "0       2  \n",
       "2       3  \n",
       "3       4  \n",
       "4       4  "
      ]
     },
     "execution_count": 97,
     "metadata": {},
     "output_type": "execute_result"
    }
   ],
   "source": [
    "store_data_new"
   ]
  },
  {
   "cell_type": "code",
   "execution_count": 101,
   "id": "123e6722",
   "metadata": {},
   "outputs": [],
   "source": [
    "store_data_new.reset_index(inplace = True)"
   ]
  },
  {
   "cell_type": "code",
   "execution_count": 102,
   "id": "6c64bb34",
   "metadata": {},
   "outputs": [
    {
     "data": {
      "text/html": [
       "<div>\n",
       "<style scoped>\n",
       "    .dataframe tbody tr th:only-of-type {\n",
       "        vertical-align: middle;\n",
       "    }\n",
       "\n",
       "    .dataframe tbody tr th {\n",
       "        vertical-align: top;\n",
       "    }\n",
       "\n",
       "    .dataframe thead th {\n",
       "        text-align: right;\n",
       "    }\n",
       "</style>\n",
       "<table border=\"1\" class=\"dataframe\">\n",
       "  <thead>\n",
       "    <tr style=\"text-align: right;\">\n",
       "      <th></th>\n",
       "      <th>index</th>\n",
       "      <th>Customer Id</th>\n",
       "      <th>Location</th>\n",
       "      <th>Gender</th>\n",
       "      <th>Type</th>\n",
       "      <th>Quantity</th>\n",
       "      <th>Total Bill</th>\n",
       "      <th>Rating</th>\n",
       "    </tr>\n",
       "  </thead>\n",
       "  <tbody>\n",
       "    <tr>\n",
       "      <th>0</th>\n",
       "      <td>0</td>\n",
       "      <td>CustID00</td>\n",
       "      <td>Chicago</td>\n",
       "      <td>M</td>\n",
       "      <td>Electronics</td>\n",
       "      <td>1</td>\n",
       "      <td>100</td>\n",
       "      <td>2</td>\n",
       "    </tr>\n",
       "    <tr>\n",
       "      <th>1</th>\n",
       "      <td>2</td>\n",
       "      <td>CustID02</td>\n",
       "      <td>Seattle</td>\n",
       "      <td>F</td>\n",
       "      <td>Food &amp; Beverages</td>\n",
       "      <td>4</td>\n",
       "      <td>125</td>\n",
       "      <td>3</td>\n",
       "    </tr>\n",
       "    <tr>\n",
       "      <th>2</th>\n",
       "      <td>3</td>\n",
       "      <td>CustID03</td>\n",
       "      <td>San Francisco</td>\n",
       "      <td>M</td>\n",
       "      <td>Medicine</td>\n",
       "      <td>2</td>\n",
       "      <td>50</td>\n",
       "      <td>4</td>\n",
       "    </tr>\n",
       "    <tr>\n",
       "      <th>3</th>\n",
       "      <td>4</td>\n",
       "      <td>CustID04</td>\n",
       "      <td>Austin</td>\n",
       "      <td>F</td>\n",
       "      <td>Beauty</td>\n",
       "      <td>1</td>\n",
       "      <td>80</td>\n",
       "      <td>4</td>\n",
       "    </tr>\n",
       "  </tbody>\n",
       "</table>\n",
       "</div>"
      ],
      "text/plain": [
       "   index Customer Id       Location Gender              Type  Quantity  \\\n",
       "0      0    CustID00        Chicago      M       Electronics         1   \n",
       "1      2    CustID02        Seattle      F  Food & Beverages         4   \n",
       "2      3    CustID03  San Francisco      M          Medicine         2   \n",
       "3      4    CustID04         Austin      F            Beauty         1   \n",
       "\n",
       "   Total Bill  Rating  \n",
       "0         100       2  \n",
       "1         125       3  \n",
       "2          50       4  \n",
       "3          80       4  "
      ]
     },
     "execution_count": 102,
     "metadata": {},
     "output_type": "execute_result"
    }
   ],
   "source": [
    "store_data_new"
   ]
  },
  {
   "cell_type": "code",
   "execution_count": 105,
   "id": "02fb020a",
   "metadata": {},
   "outputs": [],
   "source": [
    "store_data_new.drop(['index'], axis=1, inplace=True)"
   ]
  },
  {
   "cell_type": "code",
   "execution_count": 106,
   "id": "2d0ee0ed",
   "metadata": {},
   "outputs": [
    {
     "data": {
      "text/html": [
       "<div>\n",
       "<style scoped>\n",
       "    .dataframe tbody tr th:only-of-type {\n",
       "        vertical-align: middle;\n",
       "    }\n",
       "\n",
       "    .dataframe tbody tr th {\n",
       "        vertical-align: top;\n",
       "    }\n",
       "\n",
       "    .dataframe thead th {\n",
       "        text-align: right;\n",
       "    }\n",
       "</style>\n",
       "<table border=\"1\" class=\"dataframe\">\n",
       "  <thead>\n",
       "    <tr style=\"text-align: right;\">\n",
       "      <th></th>\n",
       "      <th>Customer Id</th>\n",
       "      <th>Location</th>\n",
       "      <th>Gender</th>\n",
       "      <th>Type</th>\n",
       "      <th>Quantity</th>\n",
       "      <th>Total Bill</th>\n",
       "      <th>Rating</th>\n",
       "    </tr>\n",
       "  </thead>\n",
       "  <tbody>\n",
       "    <tr>\n",
       "      <th>0</th>\n",
       "      <td>CustID00</td>\n",
       "      <td>Chicago</td>\n",
       "      <td>M</td>\n",
       "      <td>Electronics</td>\n",
       "      <td>1</td>\n",
       "      <td>100</td>\n",
       "      <td>2</td>\n",
       "    </tr>\n",
       "    <tr>\n",
       "      <th>1</th>\n",
       "      <td>CustID02</td>\n",
       "      <td>Seattle</td>\n",
       "      <td>F</td>\n",
       "      <td>Food &amp; Beverages</td>\n",
       "      <td>4</td>\n",
       "      <td>125</td>\n",
       "      <td>3</td>\n",
       "    </tr>\n",
       "    <tr>\n",
       "      <th>2</th>\n",
       "      <td>CustID03</td>\n",
       "      <td>San Francisco</td>\n",
       "      <td>M</td>\n",
       "      <td>Medicine</td>\n",
       "      <td>2</td>\n",
       "      <td>50</td>\n",
       "      <td>4</td>\n",
       "    </tr>\n",
       "    <tr>\n",
       "      <th>3</th>\n",
       "      <td>CustID04</td>\n",
       "      <td>Austin</td>\n",
       "      <td>F</td>\n",
       "      <td>Beauty</td>\n",
       "      <td>1</td>\n",
       "      <td>80</td>\n",
       "      <td>4</td>\n",
       "    </tr>\n",
       "  </tbody>\n",
       "</table>\n",
       "</div>"
      ],
      "text/plain": [
       "  Customer Id       Location Gender              Type  Quantity  Total Bill  \\\n",
       "0    CustID00        Chicago      M       Electronics         1         100   \n",
       "1    CustID02        Seattle      F  Food & Beverages         4         125   \n",
       "2    CustID03  San Francisco      M          Medicine         2          50   \n",
       "3    CustID04         Austin      F            Beauty         1          80   \n",
       "\n",
       "   Rating  \n",
       "0       2  \n",
       "1       3  \n",
       "2       4  \n",
       "3       4  "
      ]
     },
     "execution_count": 106,
     "metadata": {},
     "output_type": "execute_result"
    }
   ],
   "source": [
    "store_data_new"
   ]
  },
  {
   "cell_type": "code",
   "execution_count": 111,
   "id": "da637bbf",
   "metadata": {},
   "outputs": [],
   "source": [
    "data_cust = pd.DataFrame({'CustomerID':['101','102','103','104'],\n",
    "                          'Category':['Medium','Medium','High','Low'],\n",
    "                          'First Visit':['yes','no','yes','yes'],\n",
    "                          'Sales':[123,52,214,663]}, index=[0,1,2,3])"
   ]
  },
  {
   "cell_type": "code",
   "execution_count": 125,
   "id": "02b10336",
   "metadata": {},
   "outputs": [],
   "source": [
    "data_cust_new = pd.DataFrame({'CustomerID':['101','102','103','105'],\n",
    "                              'Distance':[12,9,44,21],\n",
    "                              'Sales':[123,214,663,331]},index=[4,5,6,7])"
   ]
  },
  {
   "cell_type": "code",
   "execution_count": 126,
   "id": "0d88fa28",
   "metadata": {},
   "outputs": [
    {
     "data": {
      "text/html": [
       "<div>\n",
       "<style scoped>\n",
       "    .dataframe tbody tr th:only-of-type {\n",
       "        vertical-align: middle;\n",
       "    }\n",
       "\n",
       "    .dataframe tbody tr th {\n",
       "        vertical-align: top;\n",
       "    }\n",
       "\n",
       "    .dataframe thead th {\n",
       "        text-align: right;\n",
       "    }\n",
       "</style>\n",
       "<table border=\"1\" class=\"dataframe\">\n",
       "  <thead>\n",
       "    <tr style=\"text-align: right;\">\n",
       "      <th></th>\n",
       "      <th>CustomerID</th>\n",
       "      <th>Category</th>\n",
       "      <th>First Visit</th>\n",
       "      <th>Sales</th>\n",
       "    </tr>\n",
       "  </thead>\n",
       "  <tbody>\n",
       "    <tr>\n",
       "      <th>0</th>\n",
       "      <td>101</td>\n",
       "      <td>Medium</td>\n",
       "      <td>yes</td>\n",
       "      <td>123</td>\n",
       "    </tr>\n",
       "    <tr>\n",
       "      <th>1</th>\n",
       "      <td>102</td>\n",
       "      <td>Medium</td>\n",
       "      <td>no</td>\n",
       "      <td>52</td>\n",
       "    </tr>\n",
       "    <tr>\n",
       "      <th>2</th>\n",
       "      <td>103</td>\n",
       "      <td>High</td>\n",
       "      <td>yes</td>\n",
       "      <td>214</td>\n",
       "    </tr>\n",
       "    <tr>\n",
       "      <th>3</th>\n",
       "      <td>104</td>\n",
       "      <td>Low</td>\n",
       "      <td>yes</td>\n",
       "      <td>663</td>\n",
       "    </tr>\n",
       "  </tbody>\n",
       "</table>\n",
       "</div>"
      ],
      "text/plain": [
       "  CustomerID Category First Visit  Sales\n",
       "0        101   Medium         yes    123\n",
       "1        102   Medium          no     52\n",
       "2        103     High         yes    214\n",
       "3        104      Low         yes    663"
      ]
     },
     "execution_count": 126,
     "metadata": {},
     "output_type": "execute_result"
    }
   ],
   "source": [
    "data_cust"
   ]
  },
  {
   "cell_type": "code",
   "execution_count": 127,
   "id": "474887f5",
   "metadata": {},
   "outputs": [
    {
     "data": {
      "text/html": [
       "<div>\n",
       "<style scoped>\n",
       "    .dataframe tbody tr th:only-of-type {\n",
       "        vertical-align: middle;\n",
       "    }\n",
       "\n",
       "    .dataframe tbody tr th {\n",
       "        vertical-align: top;\n",
       "    }\n",
       "\n",
       "    .dataframe thead th {\n",
       "        text-align: right;\n",
       "    }\n",
       "</style>\n",
       "<table border=\"1\" class=\"dataframe\">\n",
       "  <thead>\n",
       "    <tr style=\"text-align: right;\">\n",
       "      <th></th>\n",
       "      <th>CustomerID</th>\n",
       "      <th>Distance</th>\n",
       "      <th>Sales</th>\n",
       "    </tr>\n",
       "  </thead>\n",
       "  <tbody>\n",
       "    <tr>\n",
       "      <th>4</th>\n",
       "      <td>101</td>\n",
       "      <td>12</td>\n",
       "      <td>123</td>\n",
       "    </tr>\n",
       "    <tr>\n",
       "      <th>5</th>\n",
       "      <td>102</td>\n",
       "      <td>9</td>\n",
       "      <td>214</td>\n",
       "    </tr>\n",
       "    <tr>\n",
       "      <th>6</th>\n",
       "      <td>103</td>\n",
       "      <td>44</td>\n",
       "      <td>663</td>\n",
       "    </tr>\n",
       "    <tr>\n",
       "      <th>7</th>\n",
       "      <td>105</td>\n",
       "      <td>21</td>\n",
       "      <td>331</td>\n",
       "    </tr>\n",
       "  </tbody>\n",
       "</table>\n",
       "</div>"
      ],
      "text/plain": [
       "  CustomerID  Distance  Sales\n",
       "4        101        12    123\n",
       "5        102         9    214\n",
       "6        103        44    663\n",
       "7        105        21    331"
      ]
     },
     "execution_count": 127,
     "metadata": {},
     "output_type": "execute_result"
    }
   ],
   "source": [
    "data_cust_new"
   ]
  },
  {
   "cell_type": "code",
   "execution_count": 128,
   "id": "c1f9ad58",
   "metadata": {},
   "outputs": [
    {
     "data": {
      "text/html": [
       "<div>\n",
       "<style scoped>\n",
       "    .dataframe tbody tr th:only-of-type {\n",
       "        vertical-align: middle;\n",
       "    }\n",
       "\n",
       "    .dataframe tbody tr th {\n",
       "        vertical-align: top;\n",
       "    }\n",
       "\n",
       "    .dataframe thead th {\n",
       "        text-align: right;\n",
       "    }\n",
       "</style>\n",
       "<table border=\"1\" class=\"dataframe\">\n",
       "  <thead>\n",
       "    <tr style=\"text-align: right;\">\n",
       "      <th></th>\n",
       "      <th>CustomerID</th>\n",
       "      <th>Category</th>\n",
       "      <th>First Visit</th>\n",
       "      <th>Sales</th>\n",
       "      <th>Distance</th>\n",
       "    </tr>\n",
       "  </thead>\n",
       "  <tbody>\n",
       "    <tr>\n",
       "      <th>0</th>\n",
       "      <td>101</td>\n",
       "      <td>Medium</td>\n",
       "      <td>yes</td>\n",
       "      <td>123</td>\n",
       "      <td>NaN</td>\n",
       "    </tr>\n",
       "    <tr>\n",
       "      <th>1</th>\n",
       "      <td>102</td>\n",
       "      <td>Medium</td>\n",
       "      <td>no</td>\n",
       "      <td>52</td>\n",
       "      <td>NaN</td>\n",
       "    </tr>\n",
       "    <tr>\n",
       "      <th>2</th>\n",
       "      <td>103</td>\n",
       "      <td>High</td>\n",
       "      <td>yes</td>\n",
       "      <td>214</td>\n",
       "      <td>NaN</td>\n",
       "    </tr>\n",
       "    <tr>\n",
       "      <th>3</th>\n",
       "      <td>104</td>\n",
       "      <td>Low</td>\n",
       "      <td>yes</td>\n",
       "      <td>663</td>\n",
       "      <td>NaN</td>\n",
       "    </tr>\n",
       "    <tr>\n",
       "      <th>4</th>\n",
       "      <td>101</td>\n",
       "      <td>NaN</td>\n",
       "      <td>NaN</td>\n",
       "      <td>123</td>\n",
       "      <td>12.0</td>\n",
       "    </tr>\n",
       "    <tr>\n",
       "      <th>5</th>\n",
       "      <td>102</td>\n",
       "      <td>NaN</td>\n",
       "      <td>NaN</td>\n",
       "      <td>214</td>\n",
       "      <td>9.0</td>\n",
       "    </tr>\n",
       "    <tr>\n",
       "      <th>6</th>\n",
       "      <td>103</td>\n",
       "      <td>NaN</td>\n",
       "      <td>NaN</td>\n",
       "      <td>663</td>\n",
       "      <td>44.0</td>\n",
       "    </tr>\n",
       "    <tr>\n",
       "      <th>7</th>\n",
       "      <td>105</td>\n",
       "      <td>NaN</td>\n",
       "      <td>NaN</td>\n",
       "      <td>331</td>\n",
       "      <td>21.0</td>\n",
       "    </tr>\n",
       "  </tbody>\n",
       "</table>\n",
       "</div>"
      ],
      "text/plain": [
       "  CustomerID Category First Visit  Sales  Distance\n",
       "0        101   Medium         yes    123       NaN\n",
       "1        102   Medium          no     52       NaN\n",
       "2        103     High         yes    214       NaN\n",
       "3        104      Low         yes    663       NaN\n",
       "4        101      NaN         NaN    123      12.0\n",
       "5        102      NaN         NaN    214       9.0\n",
       "6        103      NaN         NaN    663      44.0\n",
       "7        105      NaN         NaN    331      21.0"
      ]
     },
     "execution_count": 128,
     "metadata": {},
     "output_type": "execute_result"
    }
   ],
   "source": [
    "pd.concat([data_cust, data_cust_new], axis=0)"
   ]
  },
  {
   "cell_type": "code",
   "execution_count": 129,
   "id": "c71f0d39",
   "metadata": {},
   "outputs": [
    {
     "data": {
      "text/html": [
       "<div>\n",
       "<style scoped>\n",
       "    .dataframe tbody tr th:only-of-type {\n",
       "        vertical-align: middle;\n",
       "    }\n",
       "\n",
       "    .dataframe tbody tr th {\n",
       "        vertical-align: top;\n",
       "    }\n",
       "\n",
       "    .dataframe thead th {\n",
       "        text-align: right;\n",
       "    }\n",
       "</style>\n",
       "<table border=\"1\" class=\"dataframe\">\n",
       "  <thead>\n",
       "    <tr style=\"text-align: right;\">\n",
       "      <th></th>\n",
       "      <th>CustomerID</th>\n",
       "      <th>Category</th>\n",
       "      <th>First Visit</th>\n",
       "      <th>Sales_x</th>\n",
       "      <th>Distance</th>\n",
       "      <th>Sales_y</th>\n",
       "    </tr>\n",
       "  </thead>\n",
       "  <tbody>\n",
       "    <tr>\n",
       "      <th>0</th>\n",
       "      <td>101</td>\n",
       "      <td>Medium</td>\n",
       "      <td>yes</td>\n",
       "      <td>123.0</td>\n",
       "      <td>12.0</td>\n",
       "      <td>123.0</td>\n",
       "    </tr>\n",
       "    <tr>\n",
       "      <th>1</th>\n",
       "      <td>102</td>\n",
       "      <td>Medium</td>\n",
       "      <td>no</td>\n",
       "      <td>52.0</td>\n",
       "      <td>9.0</td>\n",
       "      <td>214.0</td>\n",
       "    </tr>\n",
       "    <tr>\n",
       "      <th>2</th>\n",
       "      <td>103</td>\n",
       "      <td>High</td>\n",
       "      <td>yes</td>\n",
       "      <td>214.0</td>\n",
       "      <td>44.0</td>\n",
       "      <td>663.0</td>\n",
       "    </tr>\n",
       "    <tr>\n",
       "      <th>3</th>\n",
       "      <td>104</td>\n",
       "      <td>Low</td>\n",
       "      <td>yes</td>\n",
       "      <td>663.0</td>\n",
       "      <td>NaN</td>\n",
       "      <td>NaN</td>\n",
       "    </tr>\n",
       "    <tr>\n",
       "      <th>4</th>\n",
       "      <td>105</td>\n",
       "      <td>NaN</td>\n",
       "      <td>NaN</td>\n",
       "      <td>NaN</td>\n",
       "      <td>21.0</td>\n",
       "      <td>331.0</td>\n",
       "    </tr>\n",
       "  </tbody>\n",
       "</table>\n",
       "</div>"
      ],
      "text/plain": [
       "  CustomerID Category First Visit  Sales_x  Distance  Sales_y\n",
       "0        101   Medium         yes    123.0      12.0    123.0\n",
       "1        102   Medium          no     52.0       9.0    214.0\n",
       "2        103     High         yes    214.0      44.0    663.0\n",
       "3        104      Low         yes    663.0       NaN      NaN\n",
       "4        105      NaN         NaN      NaN      21.0    331.0"
      ]
     },
     "execution_count": 129,
     "metadata": {},
     "output_type": "execute_result"
    }
   ],
   "source": [
    "pd.merge(data_cust, data_cust_new, how='outer',on='CustomerID')"
   ]
  },
  {
   "cell_type": "code",
   "execution_count": 130,
   "id": "0fb135f8",
   "metadata": {},
   "outputs": [
    {
     "data": {
      "text/html": [
       "<div>\n",
       "<style scoped>\n",
       "    .dataframe tbody tr th:only-of-type {\n",
       "        vertical-align: middle;\n",
       "    }\n",
       "\n",
       "    .dataframe tbody tr th {\n",
       "        vertical-align: top;\n",
       "    }\n",
       "\n",
       "    .dataframe thead th {\n",
       "        text-align: right;\n",
       "    }\n",
       "</style>\n",
       "<table border=\"1\" class=\"dataframe\">\n",
       "  <thead>\n",
       "    <tr style=\"text-align: right;\">\n",
       "      <th></th>\n",
       "      <th>CustomerID</th>\n",
       "      <th>Category</th>\n",
       "      <th>First Visit</th>\n",
       "      <th>Sales_x</th>\n",
       "      <th>Distance</th>\n",
       "      <th>Sales_y</th>\n",
       "    </tr>\n",
       "  </thead>\n",
       "  <tbody>\n",
       "    <tr>\n",
       "      <th>0</th>\n",
       "      <td>101</td>\n",
       "      <td>Medium</td>\n",
       "      <td>yes</td>\n",
       "      <td>123</td>\n",
       "      <td>12</td>\n",
       "      <td>123</td>\n",
       "    </tr>\n",
       "    <tr>\n",
       "      <th>1</th>\n",
       "      <td>102</td>\n",
       "      <td>Medium</td>\n",
       "      <td>no</td>\n",
       "      <td>52</td>\n",
       "      <td>9</td>\n",
       "      <td>214</td>\n",
       "    </tr>\n",
       "    <tr>\n",
       "      <th>2</th>\n",
       "      <td>103</td>\n",
       "      <td>High</td>\n",
       "      <td>yes</td>\n",
       "      <td>214</td>\n",
       "      <td>44</td>\n",
       "      <td>663</td>\n",
       "    </tr>\n",
       "  </tbody>\n",
       "</table>\n",
       "</div>"
      ],
      "text/plain": [
       "  CustomerID Category First Visit  Sales_x  Distance  Sales_y\n",
       "0        101   Medium         yes      123        12      123\n",
       "1        102   Medium          no       52         9      214\n",
       "2        103     High         yes      214        44      663"
      ]
     },
     "execution_count": 130,
     "metadata": {},
     "output_type": "execute_result"
    }
   ],
   "source": [
    "pd.merge(data_cust, data_cust_new, how='inner', on='CustomerID')"
   ]
  },
  {
   "cell_type": "code",
   "execution_count": 131,
   "id": "e3b688da",
   "metadata": {},
   "outputs": [
    {
     "data": {
      "text/html": [
       "<div>\n",
       "<style scoped>\n",
       "    .dataframe tbody tr th:only-of-type {\n",
       "        vertical-align: middle;\n",
       "    }\n",
       "\n",
       "    .dataframe tbody tr th {\n",
       "        vertical-align: top;\n",
       "    }\n",
       "\n",
       "    .dataframe thead th {\n",
       "        text-align: right;\n",
       "    }\n",
       "</style>\n",
       "<table border=\"1\" class=\"dataframe\">\n",
       "  <thead>\n",
       "    <tr style=\"text-align: right;\">\n",
       "      <th></th>\n",
       "      <th>CustomerID</th>\n",
       "      <th>Category</th>\n",
       "      <th>First Visit</th>\n",
       "      <th>Sales_x</th>\n",
       "      <th>Distance</th>\n",
       "      <th>Sales_y</th>\n",
       "    </tr>\n",
       "  </thead>\n",
       "  <tbody>\n",
       "    <tr>\n",
       "      <th>0</th>\n",
       "      <td>101</td>\n",
       "      <td>Medium</td>\n",
       "      <td>yes</td>\n",
       "      <td>123.0</td>\n",
       "      <td>12</td>\n",
       "      <td>123</td>\n",
       "    </tr>\n",
       "    <tr>\n",
       "      <th>1</th>\n",
       "      <td>102</td>\n",
       "      <td>Medium</td>\n",
       "      <td>no</td>\n",
       "      <td>52.0</td>\n",
       "      <td>9</td>\n",
       "      <td>214</td>\n",
       "    </tr>\n",
       "    <tr>\n",
       "      <th>2</th>\n",
       "      <td>103</td>\n",
       "      <td>High</td>\n",
       "      <td>yes</td>\n",
       "      <td>214.0</td>\n",
       "      <td>44</td>\n",
       "      <td>663</td>\n",
       "    </tr>\n",
       "    <tr>\n",
       "      <th>3</th>\n",
       "      <td>105</td>\n",
       "      <td>NaN</td>\n",
       "      <td>NaN</td>\n",
       "      <td>NaN</td>\n",
       "      <td>21</td>\n",
       "      <td>331</td>\n",
       "    </tr>\n",
       "  </tbody>\n",
       "</table>\n",
       "</div>"
      ],
      "text/plain": [
       "  CustomerID Category First Visit  Sales_x  Distance  Sales_y\n",
       "0        101   Medium         yes    123.0        12      123\n",
       "1        102   Medium          no     52.0         9      214\n",
       "2        103     High         yes    214.0        44      663\n",
       "3        105      NaN         NaN      NaN        21      331"
      ]
     },
     "execution_count": 131,
     "metadata": {},
     "output_type": "execute_result"
    }
   ],
   "source": [
    "pd.merge(data_cust, data_cust_new, how='right', on='CustomerID')"
   ]
  },
  {
   "cell_type": "code",
   "execution_count": 132,
   "id": "c68b9a31",
   "metadata": {},
   "outputs": [
    {
     "data": {
      "text/html": [
       "<div>\n",
       "<style scoped>\n",
       "    .dataframe tbody tr th:only-of-type {\n",
       "        vertical-align: middle;\n",
       "    }\n",
       "\n",
       "    .dataframe tbody tr th {\n",
       "        vertical-align: top;\n",
       "    }\n",
       "\n",
       "    .dataframe thead th {\n",
       "        text-align: right;\n",
       "    }\n",
       "</style>\n",
       "<table border=\"1\" class=\"dataframe\">\n",
       "  <thead>\n",
       "    <tr style=\"text-align: right;\">\n",
       "      <th></th>\n",
       "      <th>CustomerID</th>\n",
       "      <th>Category</th>\n",
       "      <th>First Visit</th>\n",
       "      <th>Sales_x</th>\n",
       "      <th>Distance</th>\n",
       "      <th>Sales_y</th>\n",
       "    </tr>\n",
       "  </thead>\n",
       "  <tbody>\n",
       "    <tr>\n",
       "      <th>0</th>\n",
       "      <td>101</td>\n",
       "      <td>Medium</td>\n",
       "      <td>yes</td>\n",
       "      <td>123</td>\n",
       "      <td>12.0</td>\n",
       "      <td>123.0</td>\n",
       "    </tr>\n",
       "    <tr>\n",
       "      <th>1</th>\n",
       "      <td>102</td>\n",
       "      <td>Medium</td>\n",
       "      <td>no</td>\n",
       "      <td>52</td>\n",
       "      <td>9.0</td>\n",
       "      <td>214.0</td>\n",
       "    </tr>\n",
       "    <tr>\n",
       "      <th>2</th>\n",
       "      <td>103</td>\n",
       "      <td>High</td>\n",
       "      <td>yes</td>\n",
       "      <td>214</td>\n",
       "      <td>44.0</td>\n",
       "      <td>663.0</td>\n",
       "    </tr>\n",
       "    <tr>\n",
       "      <th>3</th>\n",
       "      <td>104</td>\n",
       "      <td>Low</td>\n",
       "      <td>yes</td>\n",
       "      <td>663</td>\n",
       "      <td>NaN</td>\n",
       "      <td>NaN</td>\n",
       "    </tr>\n",
       "  </tbody>\n",
       "</table>\n",
       "</div>"
      ],
      "text/plain": [
       "  CustomerID Category First Visit  Sales_x  Distance  Sales_y\n",
       "0        101   Medium         yes      123      12.0    123.0\n",
       "1        102   Medium          no       52       9.0    214.0\n",
       "2        103     High         yes      214      44.0    663.0\n",
       "3        104      Low         yes      663       NaN      NaN"
      ]
     },
     "execution_count": 132,
     "metadata": {},
     "output_type": "execute_result"
    }
   ],
   "source": [
    "pd.merge(data_cust, data_cust_new, how='left', on='CustomerID')"
   ]
  },
  {
   "cell_type": "code",
   "execution_count": 134,
   "id": "ed788db3",
   "metadata": {},
   "outputs": [],
   "source": [
    "data_quarters = pd.DataFrame({'Q1':[101,102,103],\n",
    "                              'Q2':[201,202,203]},\n",
    "                              index = ['I0','I1','I2'])"
   ]
  },
  {
   "cell_type": "code",
   "execution_count": 135,
   "id": "c91e01ac",
   "metadata": {},
   "outputs": [],
   "source": [
    "data_quarters_new = pd.DataFrame({'Q3':[301,302,303],\n",
    "                                  'Q4':[401,402,403]},\n",
    "                                  index = ['I0','I1','I2'])"
   ]
  },
  {
   "cell_type": "code",
   "execution_count": 136,
   "id": "d536b734",
   "metadata": {},
   "outputs": [
    {
     "data": {
      "text/html": [
       "<div>\n",
       "<style scoped>\n",
       "    .dataframe tbody tr th:only-of-type {\n",
       "        vertical-align: middle;\n",
       "    }\n",
       "\n",
       "    .dataframe tbody tr th {\n",
       "        vertical-align: top;\n",
       "    }\n",
       "\n",
       "    .dataframe thead th {\n",
       "        text-align: right;\n",
       "    }\n",
       "</style>\n",
       "<table border=\"1\" class=\"dataframe\">\n",
       "  <thead>\n",
       "    <tr style=\"text-align: right;\">\n",
       "      <th></th>\n",
       "      <th>Q1</th>\n",
       "      <th>Q2</th>\n",
       "    </tr>\n",
       "  </thead>\n",
       "  <tbody>\n",
       "    <tr>\n",
       "      <th>I0</th>\n",
       "      <td>101</td>\n",
       "      <td>201</td>\n",
       "    </tr>\n",
       "    <tr>\n",
       "      <th>I1</th>\n",
       "      <td>102</td>\n",
       "      <td>202</td>\n",
       "    </tr>\n",
       "    <tr>\n",
       "      <th>I2</th>\n",
       "      <td>103</td>\n",
       "      <td>203</td>\n",
       "    </tr>\n",
       "  </tbody>\n",
       "</table>\n",
       "</div>"
      ],
      "text/plain": [
       "     Q1   Q2\n",
       "I0  101  201\n",
       "I1  102  202\n",
       "I2  103  203"
      ]
     },
     "execution_count": 136,
     "metadata": {},
     "output_type": "execute_result"
    }
   ],
   "source": [
    "data_quarters"
   ]
  },
  {
   "cell_type": "code",
   "execution_count": 137,
   "id": "1468717b",
   "metadata": {},
   "outputs": [
    {
     "data": {
      "text/html": [
       "<div>\n",
       "<style scoped>\n",
       "    .dataframe tbody tr th:only-of-type {\n",
       "        vertical-align: middle;\n",
       "    }\n",
       "\n",
       "    .dataframe tbody tr th {\n",
       "        vertical-align: top;\n",
       "    }\n",
       "\n",
       "    .dataframe thead th {\n",
       "        text-align: right;\n",
       "    }\n",
       "</style>\n",
       "<table border=\"1\" class=\"dataframe\">\n",
       "  <thead>\n",
       "    <tr style=\"text-align: right;\">\n",
       "      <th></th>\n",
       "      <th>Q3</th>\n",
       "      <th>Q4</th>\n",
       "    </tr>\n",
       "  </thead>\n",
       "  <tbody>\n",
       "    <tr>\n",
       "      <th>I0</th>\n",
       "      <td>301</td>\n",
       "      <td>401</td>\n",
       "    </tr>\n",
       "    <tr>\n",
       "      <th>I1</th>\n",
       "      <td>302</td>\n",
       "      <td>402</td>\n",
       "    </tr>\n",
       "    <tr>\n",
       "      <th>I2</th>\n",
       "      <td>303</td>\n",
       "      <td>403</td>\n",
       "    </tr>\n",
       "  </tbody>\n",
       "</table>\n",
       "</div>"
      ],
      "text/plain": [
       "     Q3   Q4\n",
       "I0  301  401\n",
       "I1  302  402\n",
       "I2  303  403"
      ]
     },
     "execution_count": 137,
     "metadata": {},
     "output_type": "execute_result"
    }
   ],
   "source": [
    "data_quarters_new"
   ]
  },
  {
   "cell_type": "code",
   "execution_count": 140,
   "id": "4be46c91",
   "metadata": {},
   "outputs": [
    {
     "data": {
      "text/html": [
       "<div>\n",
       "<style scoped>\n",
       "    .dataframe tbody tr th:only-of-type {\n",
       "        vertical-align: middle;\n",
       "    }\n",
       "\n",
       "    .dataframe tbody tr th {\n",
       "        vertical-align: top;\n",
       "    }\n",
       "\n",
       "    .dataframe thead th {\n",
       "        text-align: right;\n",
       "    }\n",
       "</style>\n",
       "<table border=\"1\" class=\"dataframe\">\n",
       "  <thead>\n",
       "    <tr style=\"text-align: right;\">\n",
       "      <th></th>\n",
       "      <th>Q1</th>\n",
       "      <th>Q2</th>\n",
       "      <th>Q3</th>\n",
       "      <th>Q4</th>\n",
       "    </tr>\n",
       "  </thead>\n",
       "  <tbody>\n",
       "    <tr>\n",
       "      <th>I0</th>\n",
       "      <td>101</td>\n",
       "      <td>201</td>\n",
       "      <td>301</td>\n",
       "      <td>401</td>\n",
       "    </tr>\n",
       "    <tr>\n",
       "      <th>I1</th>\n",
       "      <td>102</td>\n",
       "      <td>202</td>\n",
       "      <td>302</td>\n",
       "      <td>402</td>\n",
       "    </tr>\n",
       "    <tr>\n",
       "      <th>I2</th>\n",
       "      <td>103</td>\n",
       "      <td>203</td>\n",
       "      <td>303</td>\n",
       "      <td>403</td>\n",
       "    </tr>\n",
       "  </tbody>\n",
       "</table>\n",
       "</div>"
      ],
      "text/plain": [
       "     Q1   Q2   Q3   Q4\n",
       "I0  101  201  301  401\n",
       "I1  102  202  302  402\n",
       "I2  103  203  303  403"
      ]
     },
     "execution_count": 140,
     "metadata": {},
     "output_type": "execute_result"
    }
   ],
   "source": [
    "data_quarters.join(data_quarters_new, how='outer')"
   ]
  },
  {
   "cell_type": "code",
   "execution_count": 141,
   "id": "66f969cf",
   "metadata": {},
   "outputs": [
    {
     "data": {
      "text/html": [
       "<div>\n",
       "<style scoped>\n",
       "    .dataframe tbody tr th:only-of-type {\n",
       "        vertical-align: middle;\n",
       "    }\n",
       "\n",
       "    .dataframe tbody tr th {\n",
       "        vertical-align: top;\n",
       "    }\n",
       "\n",
       "    .dataframe thead th {\n",
       "        text-align: right;\n",
       "    }\n",
       "</style>\n",
       "<table border=\"1\" class=\"dataframe\">\n",
       "  <thead>\n",
       "    <tr style=\"text-align: right;\">\n",
       "      <th></th>\n",
       "      <th>Q1</th>\n",
       "      <th>Q2</th>\n",
       "    </tr>\n",
       "  </thead>\n",
       "  <tbody>\n",
       "    <tr>\n",
       "      <th>I0</th>\n",
       "      <td>101</td>\n",
       "      <td>201</td>\n",
       "    </tr>\n",
       "    <tr>\n",
       "      <th>I1</th>\n",
       "      <td>102</td>\n",
       "      <td>202</td>\n",
       "    </tr>\n",
       "    <tr>\n",
       "      <th>I2</th>\n",
       "      <td>103</td>\n",
       "      <td>203</td>\n",
       "    </tr>\n",
       "  </tbody>\n",
       "</table>\n",
       "</div>"
      ],
      "text/plain": [
       "     Q1   Q2\n",
       "I0  101  201\n",
       "I1  102  202\n",
       "I2  103  203"
      ]
     },
     "execution_count": 141,
     "metadata": {},
     "output_type": "execute_result"
    }
   ],
   "source": [
    "data_quarters"
   ]
  },
  {
   "cell_type": "code",
   "execution_count": 142,
   "id": "565fdfa1",
   "metadata": {},
   "outputs": [],
   "source": [
    "data = pd.read_csv('StockData (1).csv')"
   ]
  },
  {
   "cell_type": "code",
   "execution_count": 144,
   "id": "611e56da",
   "metadata": {},
   "outputs": [
    {
     "data": {
      "text/html": [
       "<div>\n",
       "<style scoped>\n",
       "    .dataframe tbody tr th:only-of-type {\n",
       "        vertical-align: middle;\n",
       "    }\n",
       "\n",
       "    .dataframe tbody tr th {\n",
       "        vertical-align: top;\n",
       "    }\n",
       "\n",
       "    .dataframe thead th {\n",
       "        text-align: right;\n",
       "    }\n",
       "</style>\n",
       "<table border=\"1\" class=\"dataframe\">\n",
       "  <thead>\n",
       "    <tr style=\"text-align: right;\">\n",
       "      <th></th>\n",
       "      <th>stock</th>\n",
       "      <th>date</th>\n",
       "      <th>price</th>\n",
       "    </tr>\n",
       "  </thead>\n",
       "  <tbody>\n",
       "    <tr>\n",
       "      <th>0</th>\n",
       "      <td>AAPL</td>\n",
       "      <td>08-02-2013</td>\n",
       "      <td>67.8542</td>\n",
       "    </tr>\n",
       "    <tr>\n",
       "      <th>1</th>\n",
       "      <td>AAPL</td>\n",
       "      <td>11-02-2013</td>\n",
       "      <td>68.5614</td>\n",
       "    </tr>\n",
       "    <tr>\n",
       "      <th>2</th>\n",
       "      <td>AAPL</td>\n",
       "      <td>12-02-2013</td>\n",
       "      <td>66.8428</td>\n",
       "    </tr>\n",
       "    <tr>\n",
       "      <th>3</th>\n",
       "      <td>AAPL</td>\n",
       "      <td>13-02-2013</td>\n",
       "      <td>66.7156</td>\n",
       "    </tr>\n",
       "    <tr>\n",
       "      <th>4</th>\n",
       "      <td>AAPL</td>\n",
       "      <td>14-02-2013</td>\n",
       "      <td>66.6556</td>\n",
       "    </tr>\n",
       "  </tbody>\n",
       "</table>\n",
       "</div>"
      ],
      "text/plain": [
       "  stock        date    price\n",
       "0  AAPL  08-02-2013  67.8542\n",
       "1  AAPL  11-02-2013  68.5614\n",
       "2  AAPL  12-02-2013  66.8428\n",
       "3  AAPL  13-02-2013  66.7156\n",
       "4  AAPL  14-02-2013  66.6556"
      ]
     },
     "execution_count": 144,
     "metadata": {},
     "output_type": "execute_result"
    }
   ],
   "source": [
    "data.head()"
   ]
  },
  {
   "cell_type": "code",
   "execution_count": 145,
   "id": "6d562b97",
   "metadata": {},
   "outputs": [],
   "source": [
    "data.to_csv('StockDataSaved.csv')"
   ]
  },
  {
   "cell_type": "code",
   "execution_count": 146,
   "id": "c419f78d",
   "metadata": {},
   "outputs": [],
   "source": [
    "data.to_excel('StockDataSavedExcel.xlsx')"
   ]
  },
  {
   "cell_type": "code",
   "execution_count": 147,
   "id": "6d60c2db",
   "metadata": {},
   "outputs": [
    {
     "data": {
      "text/html": [
       "<div>\n",
       "<style scoped>\n",
       "    .dataframe tbody tr th:only-of-type {\n",
       "        vertical-align: middle;\n",
       "    }\n",
       "\n",
       "    .dataframe tbody tr th {\n",
       "        vertical-align: top;\n",
       "    }\n",
       "\n",
       "    .dataframe thead th {\n",
       "        text-align: right;\n",
       "    }\n",
       "</style>\n",
       "<table border=\"1\" class=\"dataframe\">\n",
       "  <thead>\n",
       "    <tr style=\"text-align: right;\">\n",
       "      <th></th>\n",
       "      <th>stock</th>\n",
       "      <th>date</th>\n",
       "      <th>price</th>\n",
       "    </tr>\n",
       "  </thead>\n",
       "  <tbody>\n",
       "    <tr>\n",
       "      <th>5031</th>\n",
       "      <td>ZTS</td>\n",
       "      <td>01-02-2018</td>\n",
       "      <td>77.82</td>\n",
       "    </tr>\n",
       "    <tr>\n",
       "      <th>5032</th>\n",
       "      <td>ZTS</td>\n",
       "      <td>02-02-2018</td>\n",
       "      <td>76.78</td>\n",
       "    </tr>\n",
       "    <tr>\n",
       "      <th>5033</th>\n",
       "      <td>ZTS</td>\n",
       "      <td>05-02-2018</td>\n",
       "      <td>73.83</td>\n",
       "    </tr>\n",
       "    <tr>\n",
       "      <th>5034</th>\n",
       "      <td>ZTS</td>\n",
       "      <td>06-02-2018</td>\n",
       "      <td>73.27</td>\n",
       "    </tr>\n",
       "    <tr>\n",
       "      <th>5035</th>\n",
       "      <td>ZTS</td>\n",
       "      <td>07-02-2018</td>\n",
       "      <td>73.86</td>\n",
       "    </tr>\n",
       "  </tbody>\n",
       "</table>\n",
       "</div>"
      ],
      "text/plain": [
       "     stock        date  price\n",
       "5031   ZTS  01-02-2018  77.82\n",
       "5032   ZTS  02-02-2018  76.78\n",
       "5033   ZTS  05-02-2018  73.83\n",
       "5034   ZTS  06-02-2018  73.27\n",
       "5035   ZTS  07-02-2018  73.86"
      ]
     },
     "execution_count": 147,
     "metadata": {},
     "output_type": "execute_result"
    }
   ],
   "source": [
    "data.tail()"
   ]
  },
  {
   "cell_type": "code",
   "execution_count": 148,
   "id": "2ff83c3e",
   "metadata": {},
   "outputs": [
    {
     "data": {
      "text/plain": [
       "(5036, 3)"
      ]
     },
     "execution_count": 148,
     "metadata": {},
     "output_type": "execute_result"
    }
   ],
   "source": [
    "data.shape"
   ]
  },
  {
   "cell_type": "code",
   "execution_count": 149,
   "id": "144a3ff3",
   "metadata": {},
   "outputs": [
    {
     "name": "stdout",
     "output_type": "stream",
     "text": [
      "<class 'pandas.core.frame.DataFrame'>\n",
      "RangeIndex: 5036 entries, 0 to 5035\n",
      "Data columns (total 3 columns):\n",
      " #   Column  Non-Null Count  Dtype  \n",
      "---  ------  --------------  -----  \n",
      " 0   stock   5036 non-null   object \n",
      " 1   date    5036 non-null   object \n",
      " 2   price   5036 non-null   float64\n",
      "dtypes: float64(1), object(2)\n",
      "memory usage: 118.2+ KB\n"
     ]
    }
   ],
   "source": [
    "data.info()"
   ]
  },
  {
   "cell_type": "code",
   "execution_count": 150,
   "id": "beb6e596",
   "metadata": {},
   "outputs": [
    {
     "data": {
      "text/plain": [
       "28.4"
      ]
     },
     "execution_count": 150,
     "metadata": {},
     "output_type": "execute_result"
    }
   ],
   "source": [
    "data['price'].min()"
   ]
  },
  {
   "cell_type": "code",
   "execution_count": 151,
   "id": "553790b6",
   "metadata": {},
   "outputs": [
    {
     "data": {
      "text/plain": [
       "stock          AAPL\n",
       "date     01-02-2016\n",
       "price          28.4\n",
       "dtype: object"
      ]
     },
     "execution_count": 151,
     "metadata": {},
     "output_type": "execute_result"
    }
   ],
   "source": [
    "data.min()"
   ]
  },
  {
   "cell_type": "code",
   "execution_count": 152,
   "id": "15a6c4f4",
   "metadata": {},
   "outputs": [
    {
     "data": {
      "text/plain": [
       "179.26"
      ]
     },
     "execution_count": 152,
     "metadata": {},
     "output_type": "execute_result"
    }
   ],
   "source": [
    "data['price'].max()"
   ]
  },
  {
   "cell_type": "code",
   "execution_count": 153,
   "id": "2b819836",
   "metadata": {},
   "outputs": [
    {
     "data": {
      "text/plain": [
       "stock           ZTS\n",
       "date     31-12-2015\n",
       "price        179.26\n",
       "dtype: object"
      ]
     },
     "execution_count": 153,
     "metadata": {},
     "output_type": "execute_result"
    }
   ],
   "source": [
    "data.max()"
   ]
  },
  {
   "cell_type": "code",
   "execution_count": 154,
   "id": "7199de30",
   "metadata": {},
   "outputs": [
    {
     "data": {
      "text/plain": [
       "array(['AAPL', 'SNI', 'TJX', 'ZTS'], dtype=object)"
      ]
     },
     "execution_count": 154,
     "metadata": {},
     "output_type": "execute_result"
    }
   ],
   "source": [
    "data['stock'].unique()"
   ]
  },
  {
   "cell_type": "code",
   "execution_count": 155,
   "id": "8013936e",
   "metadata": {},
   "outputs": [
    {
     "data": {
      "text/plain": [
       "AAPL    1259\n",
       "SNI     1259\n",
       "TJX     1259\n",
       "ZTS     1259\n",
       "Name: stock, dtype: int64"
      ]
     },
     "execution_count": 155,
     "metadata": {},
     "output_type": "execute_result"
    }
   ],
   "source": [
    "data['stock'].value_counts()"
   ]
  },
  {
   "cell_type": "code",
   "execution_count": 157,
   "id": "2b2bcda9",
   "metadata": {},
   "outputs": [
    {
     "data": {
      "text/plain": [
       "AAPL    0.25\n",
       "SNI     0.25\n",
       "TJX     0.25\n",
       "ZTS     0.25\n",
       "Name: stock, dtype: float64"
      ]
     },
     "execution_count": 157,
     "metadata": {},
     "output_type": "execute_result"
    }
   ],
   "source": [
    "data['stock'].value_counts(normalize=True)"
   ]
  },
  {
   "cell_type": "code",
   "execution_count": 158,
   "id": "a8285c51",
   "metadata": {},
   "outputs": [
    {
     "data": {
      "text/plain": [
       "73.05702966640192"
      ]
     },
     "execution_count": 158,
     "metadata": {},
     "output_type": "execute_result"
    }
   ],
   "source": [
    "data['price'].mean()"
   ]
  },
  {
   "cell_type": "code",
   "execution_count": 167,
   "id": "d989b95b",
   "metadata": {},
   "outputs": [
    {
     "data": {
      "text/plain": [
       "0    AAPL\n",
       "1     SNI\n",
       "2     TJX\n",
       "3     ZTS\n",
       "Name: stock, dtype: object"
      ]
     },
     "execution_count": 167,
     "metadata": {},
     "output_type": "execute_result"
    }
   ],
   "source": [
    "data['stock'].mode()"
   ]
  },
  {
   "cell_type": "code",
   "execution_count": 168,
   "id": "c798dc87",
   "metadata": {},
   "outputs": [
    {
     "data": {
      "text/plain": [
       "0    74.59\n",
       "Name: price, dtype: float64"
      ]
     },
     "execution_count": 168,
     "metadata": {},
     "output_type": "execute_result"
    }
   ],
   "source": [
    "data['price'].mode()"
   ]
  },
  {
   "cell_type": "code",
   "execution_count": 172,
   "id": "00fcda7b",
   "metadata": {},
   "outputs": [
    {
     "data": {
      "text/plain": [
       "stock\n",
       "AAPL    109.066698\n",
       "SNI      71.319206\n",
       "TJX      66.743566\n",
       "ZTS      45.098648\n",
       "Name: price, dtype: float64"
      ]
     },
     "execution_count": 172,
     "metadata": {},
     "output_type": "execute_result"
    }
   ],
   "source": [
    "data.groupby(['stock'])['price'].mean()"
   ]
  },
  {
   "cell_type": "code",
   "execution_count": 173,
   "id": "cad5643b",
   "metadata": {},
   "outputs": [
    {
     "data": {
      "text/plain": [
       "stock\n",
       "AAPL    109.01\n",
       "SNI      72.31\n",
       "TJX      68.85\n",
       "ZTS      45.62\n",
       "Name: price, dtype: float64"
      ]
     },
     "execution_count": 173,
     "metadata": {},
     "output_type": "execute_result"
    }
   ],
   "source": [
    "data.groupby(['stock'])['price'].median()"
   ]
  },
  {
   "cell_type": "code",
   "execution_count": 174,
   "id": "09b8992e",
   "metadata": {},
   "outputs": [],
   "source": [
    "def profit(s):\n",
    "    return s + s*0.1"
   ]
  },
  {
   "cell_type": "code",
   "execution_count": 175,
   "id": "c26e92a1",
   "metadata": {},
   "outputs": [
    {
     "data": {
      "text/plain": [
       "0       74.63962\n",
       "1       75.41754\n",
       "2       73.52708\n",
       "3       73.38716\n",
       "4       73.32116\n",
       "          ...   \n",
       "5031    85.60200\n",
       "5032    84.45800\n",
       "5033    81.21300\n",
       "5034    80.59700\n",
       "5035    81.24600\n",
       "Name: price, Length: 5036, dtype: float64"
      ]
     },
     "execution_count": 175,
     "metadata": {},
     "output_type": "execute_result"
    }
   ],
   "source": [
    "data['price'].apply(profit)"
   ]
  },
  {
   "cell_type": "code",
   "execution_count": 176,
   "id": "b4ce58e5",
   "metadata": {},
   "outputs": [
    {
     "data": {
      "text/html": [
       "<div>\n",
       "<style scoped>\n",
       "    .dataframe tbody tr th:only-of-type {\n",
       "        vertical-align: middle;\n",
       "    }\n",
       "\n",
       "    .dataframe tbody tr th {\n",
       "        vertical-align: top;\n",
       "    }\n",
       "\n",
       "    .dataframe thead th {\n",
       "        text-align: right;\n",
       "    }\n",
       "</style>\n",
       "<table border=\"1\" class=\"dataframe\">\n",
       "  <thead>\n",
       "    <tr style=\"text-align: right;\">\n",
       "      <th></th>\n",
       "      <th>stock</th>\n",
       "      <th>date</th>\n",
       "      <th>price</th>\n",
       "    </tr>\n",
       "  </thead>\n",
       "  <tbody>\n",
       "    <tr>\n",
       "      <th>0</th>\n",
       "      <td>AAPL</td>\n",
       "      <td>08-02-2013</td>\n",
       "      <td>67.8542</td>\n",
       "    </tr>\n",
       "    <tr>\n",
       "      <th>1</th>\n",
       "      <td>AAPL</td>\n",
       "      <td>11-02-2013</td>\n",
       "      <td>68.5614</td>\n",
       "    </tr>\n",
       "    <tr>\n",
       "      <th>2</th>\n",
       "      <td>AAPL</td>\n",
       "      <td>12-02-2013</td>\n",
       "      <td>66.8428</td>\n",
       "    </tr>\n",
       "    <tr>\n",
       "      <th>3</th>\n",
       "      <td>AAPL</td>\n",
       "      <td>13-02-2013</td>\n",
       "      <td>66.7156</td>\n",
       "    </tr>\n",
       "    <tr>\n",
       "      <th>4</th>\n",
       "      <td>AAPL</td>\n",
       "      <td>14-02-2013</td>\n",
       "      <td>66.6556</td>\n",
       "    </tr>\n",
       "  </tbody>\n",
       "</table>\n",
       "</div>"
      ],
      "text/plain": [
       "  stock        date    price\n",
       "0  AAPL  08-02-2013  67.8542\n",
       "1  AAPL  11-02-2013  68.5614\n",
       "2  AAPL  12-02-2013  66.8428\n",
       "3  AAPL  13-02-2013  66.7156\n",
       "4  AAPL  14-02-2013  66.6556"
      ]
     },
     "execution_count": 176,
     "metadata": {},
     "output_type": "execute_result"
    }
   ],
   "source": [
    "data.head()"
   ]
  },
  {
   "cell_type": "code",
   "execution_count": 177,
   "id": "4bfcde28",
   "metadata": {},
   "outputs": [
    {
     "data": {
      "text/html": [
       "<div>\n",
       "<style scoped>\n",
       "    .dataframe tbody tr th:only-of-type {\n",
       "        vertical-align: middle;\n",
       "    }\n",
       "\n",
       "    .dataframe tbody tr th {\n",
       "        vertical-align: top;\n",
       "    }\n",
       "\n",
       "    .dataframe thead th {\n",
       "        text-align: right;\n",
       "    }\n",
       "</style>\n",
       "<table border=\"1\" class=\"dataframe\">\n",
       "  <thead>\n",
       "    <tr style=\"text-align: right;\">\n",
       "      <th></th>\n",
       "      <th>stock</th>\n",
       "      <th>date</th>\n",
       "      <th>price</th>\n",
       "      <th>new_price</th>\n",
       "    </tr>\n",
       "  </thead>\n",
       "  <tbody>\n",
       "    <tr>\n",
       "      <th>0</th>\n",
       "      <td>AAPL</td>\n",
       "      <td>08-02-2013</td>\n",
       "      <td>67.8542</td>\n",
       "      <td>74.63962</td>\n",
       "    </tr>\n",
       "    <tr>\n",
       "      <th>1</th>\n",
       "      <td>AAPL</td>\n",
       "      <td>11-02-2013</td>\n",
       "      <td>68.5614</td>\n",
       "      <td>75.41754</td>\n",
       "    </tr>\n",
       "    <tr>\n",
       "      <th>2</th>\n",
       "      <td>AAPL</td>\n",
       "      <td>12-02-2013</td>\n",
       "      <td>66.8428</td>\n",
       "      <td>73.52708</td>\n",
       "    </tr>\n",
       "    <tr>\n",
       "      <th>3</th>\n",
       "      <td>AAPL</td>\n",
       "      <td>13-02-2013</td>\n",
       "      <td>66.7156</td>\n",
       "      <td>73.38716</td>\n",
       "    </tr>\n",
       "    <tr>\n",
       "      <th>4</th>\n",
       "      <td>AAPL</td>\n",
       "      <td>14-02-2013</td>\n",
       "      <td>66.6556</td>\n",
       "      <td>73.32116</td>\n",
       "    </tr>\n",
       "  </tbody>\n",
       "</table>\n",
       "</div>"
      ],
      "text/plain": [
       "  stock        date    price  new_price\n",
       "0  AAPL  08-02-2013  67.8542   74.63962\n",
       "1  AAPL  11-02-2013  68.5614   75.41754\n",
       "2  AAPL  12-02-2013  66.8428   73.52708\n",
       "3  AAPL  13-02-2013  66.7156   73.38716\n",
       "4  AAPL  14-02-2013  66.6556   73.32116"
      ]
     },
     "execution_count": 177,
     "metadata": {},
     "output_type": "execute_result"
    }
   ],
   "source": [
    "data['new_price'] =data['price'].apply(profit)\n",
    "data.head()"
   ]
  },
  {
   "cell_type": "code",
   "execution_count": 178,
   "id": "df552f92",
   "metadata": {},
   "outputs": [
    {
     "data": {
      "text/html": [
       "<div>\n",
       "<style scoped>\n",
       "    .dataframe tbody tr th:only-of-type {\n",
       "        vertical-align: middle;\n",
       "    }\n",
       "\n",
       "    .dataframe tbody tr th {\n",
       "        vertical-align: top;\n",
       "    }\n",
       "\n",
       "    .dataframe thead th {\n",
       "        text-align: right;\n",
       "    }\n",
       "</style>\n",
       "<table border=\"1\" class=\"dataframe\">\n",
       "  <thead>\n",
       "    <tr style=\"text-align: right;\">\n",
       "      <th></th>\n",
       "      <th>stock</th>\n",
       "      <th>date</th>\n",
       "      <th>price</th>\n",
       "      <th>new_price</th>\n",
       "    </tr>\n",
       "  </thead>\n",
       "  <tbody>\n",
       "    <tr>\n",
       "      <th>0</th>\n",
       "      <td>AAPL</td>\n",
       "      <td>08-02-2013</td>\n",
       "      <td>67.8542</td>\n",
       "      <td>74.63962</td>\n",
       "    </tr>\n",
       "    <tr>\n",
       "      <th>1</th>\n",
       "      <td>AAPL</td>\n",
       "      <td>11-02-2013</td>\n",
       "      <td>68.5614</td>\n",
       "      <td>75.41754</td>\n",
       "    </tr>\n",
       "    <tr>\n",
       "      <th>2</th>\n",
       "      <td>AAPL</td>\n",
       "      <td>12-02-2013</td>\n",
       "      <td>66.8428</td>\n",
       "      <td>73.52708</td>\n",
       "    </tr>\n",
       "    <tr>\n",
       "      <th>3</th>\n",
       "      <td>AAPL</td>\n",
       "      <td>13-02-2013</td>\n",
       "      <td>66.7156</td>\n",
       "      <td>73.38716</td>\n",
       "    </tr>\n",
       "    <tr>\n",
       "      <th>4</th>\n",
       "      <td>AAPL</td>\n",
       "      <td>14-02-2013</td>\n",
       "      <td>66.6556</td>\n",
       "      <td>73.32116</td>\n",
       "    </tr>\n",
       "    <tr>\n",
       "      <th>...</th>\n",
       "      <td>...</td>\n",
       "      <td>...</td>\n",
       "      <td>...</td>\n",
       "      <td>...</td>\n",
       "    </tr>\n",
       "    <tr>\n",
       "      <th>5031</th>\n",
       "      <td>ZTS</td>\n",
       "      <td>01-02-2018</td>\n",
       "      <td>77.8200</td>\n",
       "      <td>85.60200</td>\n",
       "    </tr>\n",
       "    <tr>\n",
       "      <th>5032</th>\n",
       "      <td>ZTS</td>\n",
       "      <td>02-02-2018</td>\n",
       "      <td>76.7800</td>\n",
       "      <td>84.45800</td>\n",
       "    </tr>\n",
       "    <tr>\n",
       "      <th>5033</th>\n",
       "      <td>ZTS</td>\n",
       "      <td>05-02-2018</td>\n",
       "      <td>73.8300</td>\n",
       "      <td>81.21300</td>\n",
       "    </tr>\n",
       "    <tr>\n",
       "      <th>5034</th>\n",
       "      <td>ZTS</td>\n",
       "      <td>06-02-2018</td>\n",
       "      <td>73.2700</td>\n",
       "      <td>80.59700</td>\n",
       "    </tr>\n",
       "    <tr>\n",
       "      <th>5035</th>\n",
       "      <td>ZTS</td>\n",
       "      <td>07-02-2018</td>\n",
       "      <td>73.8600</td>\n",
       "      <td>81.24600</td>\n",
       "    </tr>\n",
       "  </tbody>\n",
       "</table>\n",
       "<p>5036 rows × 4 columns</p>\n",
       "</div>"
      ],
      "text/plain": [
       "     stock        date    price  new_price\n",
       "0     AAPL  08-02-2013  67.8542   74.63962\n",
       "1     AAPL  11-02-2013  68.5614   75.41754\n",
       "2     AAPL  12-02-2013  66.8428   73.52708\n",
       "3     AAPL  13-02-2013  66.7156   73.38716\n",
       "4     AAPL  14-02-2013  66.6556   73.32116\n",
       "...    ...         ...      ...        ...\n",
       "5031   ZTS  01-02-2018  77.8200   85.60200\n",
       "5032   ZTS  02-02-2018  76.7800   84.45800\n",
       "5033   ZTS  05-02-2018  73.8300   81.21300\n",
       "5034   ZTS  06-02-2018  73.2700   80.59700\n",
       "5035   ZTS  07-02-2018  73.8600   81.24600\n",
       "\n",
       "[5036 rows x 4 columns]"
      ]
     },
     "execution_count": 178,
     "metadata": {},
     "output_type": "execute_result"
    }
   ],
   "source": [
    "data"
   ]
  },
  {
   "cell_type": "code",
   "execution_count": 179,
   "id": "b7823962",
   "metadata": {},
   "outputs": [
    {
     "data": {
      "text/html": [
       "<div>\n",
       "<style scoped>\n",
       "    .dataframe tbody tr th:only-of-type {\n",
       "        vertical-align: middle;\n",
       "    }\n",
       "\n",
       "    .dataframe tbody tr th {\n",
       "        vertical-align: top;\n",
       "    }\n",
       "\n",
       "    .dataframe thead th {\n",
       "        text-align: right;\n",
       "    }\n",
       "</style>\n",
       "<table border=\"1\" class=\"dataframe\">\n",
       "  <thead>\n",
       "    <tr style=\"text-align: right;\">\n",
       "      <th></th>\n",
       "      <th>stock</th>\n",
       "      <th>date</th>\n",
       "      <th>price</th>\n",
       "      <th>new_price</th>\n",
       "    </tr>\n",
       "  </thead>\n",
       "  <tbody>\n",
       "    <tr>\n",
       "      <th>1244</th>\n",
       "      <td>AAPL</td>\n",
       "      <td>18-01-2018</td>\n",
       "      <td>179.26</td>\n",
       "      <td>197.186</td>\n",
       "    </tr>\n",
       "    <tr>\n",
       "      <th>1243</th>\n",
       "      <td>AAPL</td>\n",
       "      <td>17-01-2018</td>\n",
       "      <td>179.10</td>\n",
       "      <td>197.010</td>\n",
       "    </tr>\n",
       "    <tr>\n",
       "      <th>1245</th>\n",
       "      <td>AAPL</td>\n",
       "      <td>19-01-2018</td>\n",
       "      <td>178.46</td>\n",
       "      <td>196.306</td>\n",
       "    </tr>\n",
       "    <tr>\n",
       "      <th>1241</th>\n",
       "      <td>AAPL</td>\n",
       "      <td>12-01-2018</td>\n",
       "      <td>177.09</td>\n",
       "      <td>194.799</td>\n",
       "    </tr>\n",
       "    <tr>\n",
       "      <th>1247</th>\n",
       "      <td>AAPL</td>\n",
       "      <td>23-01-2018</td>\n",
       "      <td>177.04</td>\n",
       "      <td>194.744</td>\n",
       "    </tr>\n",
       "    <tr>\n",
       "      <th>...</th>\n",
       "      <td>...</td>\n",
       "      <td>...</td>\n",
       "      <td>...</td>\n",
       "      <td>...</td>\n",
       "    </tr>\n",
       "    <tr>\n",
       "      <th>4076</th>\n",
       "      <td>ZTS</td>\n",
       "      <td>17-04-2014</td>\n",
       "      <td>28.60</td>\n",
       "      <td>31.460</td>\n",
       "    </tr>\n",
       "    <tr>\n",
       "      <th>4074</th>\n",
       "      <td>ZTS</td>\n",
       "      <td>15-04-2014</td>\n",
       "      <td>28.55</td>\n",
       "      <td>31.405</td>\n",
       "    </tr>\n",
       "    <tr>\n",
       "      <th>4075</th>\n",
       "      <td>ZTS</td>\n",
       "      <td>16-04-2014</td>\n",
       "      <td>28.53</td>\n",
       "      <td>31.383</td>\n",
       "    </tr>\n",
       "    <tr>\n",
       "      <th>4073</th>\n",
       "      <td>ZTS</td>\n",
       "      <td>14-04-2014</td>\n",
       "      <td>28.48</td>\n",
       "      <td>31.328</td>\n",
       "    </tr>\n",
       "    <tr>\n",
       "      <th>4072</th>\n",
       "      <td>ZTS</td>\n",
       "      <td>11-04-2014</td>\n",
       "      <td>28.40</td>\n",
       "      <td>31.240</td>\n",
       "    </tr>\n",
       "  </tbody>\n",
       "</table>\n",
       "<p>5036 rows × 4 columns</p>\n",
       "</div>"
      ],
      "text/plain": [
       "     stock        date   price  new_price\n",
       "1244  AAPL  18-01-2018  179.26    197.186\n",
       "1243  AAPL  17-01-2018  179.10    197.010\n",
       "1245  AAPL  19-01-2018  178.46    196.306\n",
       "1241  AAPL  12-01-2018  177.09    194.799\n",
       "1247  AAPL  23-01-2018  177.04    194.744\n",
       "...    ...         ...     ...        ...\n",
       "4076   ZTS  17-04-2014   28.60     31.460\n",
       "4074   ZTS  15-04-2014   28.55     31.405\n",
       "4075   ZTS  16-04-2014   28.53     31.383\n",
       "4073   ZTS  14-04-2014   28.48     31.328\n",
       "4072   ZTS  11-04-2014   28.40     31.240\n",
       "\n",
       "[5036 rows x 4 columns]"
      ]
     },
     "execution_count": 179,
     "metadata": {},
     "output_type": "execute_result"
    }
   ],
   "source": [
    "data.sort_values(by='new_price', ascending=False)"
   ]
  },
  {
   "cell_type": "code",
   "execution_count": 180,
   "id": "38b5ee7a",
   "metadata": {},
   "outputs": [
    {
     "data": {
      "text/html": [
       "<div>\n",
       "<style scoped>\n",
       "    .dataframe tbody tr th:only-of-type {\n",
       "        vertical-align: middle;\n",
       "    }\n",
       "\n",
       "    .dataframe tbody tr th {\n",
       "        vertical-align: top;\n",
       "    }\n",
       "\n",
       "    .dataframe thead th {\n",
       "        text-align: right;\n",
       "    }\n",
       "</style>\n",
       "<table border=\"1\" class=\"dataframe\">\n",
       "  <thead>\n",
       "    <tr style=\"text-align: right;\">\n",
       "      <th></th>\n",
       "      <th>stock</th>\n",
       "      <th>date</th>\n",
       "      <th>price</th>\n",
       "      <th>new_price</th>\n",
       "    </tr>\n",
       "  </thead>\n",
       "  <tbody>\n",
       "    <tr>\n",
       "      <th>0</th>\n",
       "      <td>AAPL</td>\n",
       "      <td>08-02-2013</td>\n",
       "      <td>67.8542</td>\n",
       "      <td>74.63962</td>\n",
       "    </tr>\n",
       "    <tr>\n",
       "      <th>1</th>\n",
       "      <td>AAPL</td>\n",
       "      <td>11-02-2013</td>\n",
       "      <td>68.5614</td>\n",
       "      <td>75.41754</td>\n",
       "    </tr>\n",
       "    <tr>\n",
       "      <th>2</th>\n",
       "      <td>AAPL</td>\n",
       "      <td>12-02-2013</td>\n",
       "      <td>66.8428</td>\n",
       "      <td>73.52708</td>\n",
       "    </tr>\n",
       "    <tr>\n",
       "      <th>3</th>\n",
       "      <td>AAPL</td>\n",
       "      <td>13-02-2013</td>\n",
       "      <td>66.7156</td>\n",
       "      <td>73.38716</td>\n",
       "    </tr>\n",
       "    <tr>\n",
       "      <th>4</th>\n",
       "      <td>AAPL</td>\n",
       "      <td>14-02-2013</td>\n",
       "      <td>66.6556</td>\n",
       "      <td>73.32116</td>\n",
       "    </tr>\n",
       "    <tr>\n",
       "      <th>...</th>\n",
       "      <td>...</td>\n",
       "      <td>...</td>\n",
       "      <td>...</td>\n",
       "      <td>...</td>\n",
       "    </tr>\n",
       "    <tr>\n",
       "      <th>5031</th>\n",
       "      <td>ZTS</td>\n",
       "      <td>01-02-2018</td>\n",
       "      <td>77.8200</td>\n",
       "      <td>85.60200</td>\n",
       "    </tr>\n",
       "    <tr>\n",
       "      <th>5032</th>\n",
       "      <td>ZTS</td>\n",
       "      <td>02-02-2018</td>\n",
       "      <td>76.7800</td>\n",
       "      <td>84.45800</td>\n",
       "    </tr>\n",
       "    <tr>\n",
       "      <th>5033</th>\n",
       "      <td>ZTS</td>\n",
       "      <td>05-02-2018</td>\n",
       "      <td>73.8300</td>\n",
       "      <td>81.21300</td>\n",
       "    </tr>\n",
       "    <tr>\n",
       "      <th>5034</th>\n",
       "      <td>ZTS</td>\n",
       "      <td>06-02-2018</td>\n",
       "      <td>73.2700</td>\n",
       "      <td>80.59700</td>\n",
       "    </tr>\n",
       "    <tr>\n",
       "      <th>5035</th>\n",
       "      <td>ZTS</td>\n",
       "      <td>07-02-2018</td>\n",
       "      <td>73.8600</td>\n",
       "      <td>81.24600</td>\n",
       "    </tr>\n",
       "  </tbody>\n",
       "</table>\n",
       "<p>5036 rows × 4 columns</p>\n",
       "</div>"
      ],
      "text/plain": [
       "     stock        date    price  new_price\n",
       "0     AAPL  08-02-2013  67.8542   74.63962\n",
       "1     AAPL  11-02-2013  68.5614   75.41754\n",
       "2     AAPL  12-02-2013  66.8428   73.52708\n",
       "3     AAPL  13-02-2013  66.7156   73.38716\n",
       "4     AAPL  14-02-2013  66.6556   73.32116\n",
       "...    ...         ...      ...        ...\n",
       "5031   ZTS  01-02-2018  77.8200   85.60200\n",
       "5032   ZTS  02-02-2018  76.7800   84.45800\n",
       "5033   ZTS  05-02-2018  73.8300   81.21300\n",
       "5034   ZTS  06-02-2018  73.2700   80.59700\n",
       "5035   ZTS  07-02-2018  73.8600   81.24600\n",
       "\n",
       "[5036 rows x 4 columns]"
      ]
     },
     "execution_count": 180,
     "metadata": {},
     "output_type": "execute_result"
    }
   ],
   "source": [
    "data"
   ]
  },
  {
   "cell_type": "code",
   "execution_count": 183,
   "id": "d57ca13d",
   "metadata": {},
   "outputs": [],
   "source": [
    "path = \"StockData (1).csv\""
   ]
  },
  {
   "cell_type": "code",
   "execution_count": 184,
   "id": "1168ee42",
   "metadata": {},
   "outputs": [],
   "source": [
    "data2 = pd.read_csv(path)"
   ]
  },
  {
   "cell_type": "code",
   "execution_count": 185,
   "id": "43ee0df5",
   "metadata": {},
   "outputs": [
    {
     "data": {
      "text/html": [
       "<div>\n",
       "<style scoped>\n",
       "    .dataframe tbody tr th:only-of-type {\n",
       "        vertical-align: middle;\n",
       "    }\n",
       "\n",
       "    .dataframe tbody tr th {\n",
       "        vertical-align: top;\n",
       "    }\n",
       "\n",
       "    .dataframe thead th {\n",
       "        text-align: right;\n",
       "    }\n",
       "</style>\n",
       "<table border=\"1\" class=\"dataframe\">\n",
       "  <thead>\n",
       "    <tr style=\"text-align: right;\">\n",
       "      <th></th>\n",
       "      <th>stock</th>\n",
       "      <th>date</th>\n",
       "      <th>price</th>\n",
       "    </tr>\n",
       "  </thead>\n",
       "  <tbody>\n",
       "    <tr>\n",
       "      <th>0</th>\n",
       "      <td>AAPL</td>\n",
       "      <td>08-02-2013</td>\n",
       "      <td>67.8542</td>\n",
       "    </tr>\n",
       "    <tr>\n",
       "      <th>1</th>\n",
       "      <td>AAPL</td>\n",
       "      <td>11-02-2013</td>\n",
       "      <td>68.5614</td>\n",
       "    </tr>\n",
       "    <tr>\n",
       "      <th>2</th>\n",
       "      <td>AAPL</td>\n",
       "      <td>12-02-2013</td>\n",
       "      <td>66.8428</td>\n",
       "    </tr>\n",
       "    <tr>\n",
       "      <th>3</th>\n",
       "      <td>AAPL</td>\n",
       "      <td>13-02-2013</td>\n",
       "      <td>66.7156</td>\n",
       "    </tr>\n",
       "    <tr>\n",
       "      <th>4</th>\n",
       "      <td>AAPL</td>\n",
       "      <td>14-02-2013</td>\n",
       "      <td>66.6556</td>\n",
       "    </tr>\n",
       "    <tr>\n",
       "      <th>...</th>\n",
       "      <td>...</td>\n",
       "      <td>...</td>\n",
       "      <td>...</td>\n",
       "    </tr>\n",
       "    <tr>\n",
       "      <th>5031</th>\n",
       "      <td>ZTS</td>\n",
       "      <td>01-02-2018</td>\n",
       "      <td>77.8200</td>\n",
       "    </tr>\n",
       "    <tr>\n",
       "      <th>5032</th>\n",
       "      <td>ZTS</td>\n",
       "      <td>02-02-2018</td>\n",
       "      <td>76.7800</td>\n",
       "    </tr>\n",
       "    <tr>\n",
       "      <th>5033</th>\n",
       "      <td>ZTS</td>\n",
       "      <td>05-02-2018</td>\n",
       "      <td>73.8300</td>\n",
       "    </tr>\n",
       "    <tr>\n",
       "      <th>5034</th>\n",
       "      <td>ZTS</td>\n",
       "      <td>06-02-2018</td>\n",
       "      <td>73.2700</td>\n",
       "    </tr>\n",
       "    <tr>\n",
       "      <th>5035</th>\n",
       "      <td>ZTS</td>\n",
       "      <td>07-02-2018</td>\n",
       "      <td>73.8600</td>\n",
       "    </tr>\n",
       "  </tbody>\n",
       "</table>\n",
       "<p>5036 rows × 3 columns</p>\n",
       "</div>"
      ],
      "text/plain": [
       "     stock        date    price\n",
       "0     AAPL  08-02-2013  67.8542\n",
       "1     AAPL  11-02-2013  68.5614\n",
       "2     AAPL  12-02-2013  66.8428\n",
       "3     AAPL  13-02-2013  66.7156\n",
       "4     AAPL  14-02-2013  66.6556\n",
       "...    ...         ...      ...\n",
       "5031   ZTS  01-02-2018  77.8200\n",
       "5032   ZTS  02-02-2018  76.7800\n",
       "5033   ZTS  05-02-2018  73.8300\n",
       "5034   ZTS  06-02-2018  73.2700\n",
       "5035   ZTS  07-02-2018  73.8600\n",
       "\n",
       "[5036 rows x 3 columns]"
      ]
     },
     "execution_count": 185,
     "metadata": {},
     "output_type": "execute_result"
    }
   ],
   "source": [
    "data2"
   ]
  },
  {
   "cell_type": "code",
   "execution_count": 186,
   "id": "c71563c5",
   "metadata": {},
   "outputs": [],
   "source": [
    "data2['date'] = pd.to_datetime(data2['date'], dayfirst=True)"
   ]
  },
  {
   "cell_type": "code",
   "execution_count": 188,
   "id": "3aa5b9b7",
   "metadata": {},
   "outputs": [
    {
     "name": "stdout",
     "output_type": "stream",
     "text": [
      "<class 'pandas.core.frame.DataFrame'>\n",
      "RangeIndex: 5036 entries, 0 to 5035\n",
      "Data columns (total 3 columns):\n",
      " #   Column  Non-Null Count  Dtype         \n",
      "---  ------  --------------  -----         \n",
      " 0   stock   5036 non-null   object        \n",
      " 1   date    5036 non-null   datetime64[ns]\n",
      " 2   price   5036 non-null   float64       \n",
      "dtypes: datetime64[ns](1), float64(1), object(1)\n",
      "memory usage: 118.2+ KB\n"
     ]
    }
   ],
   "source": [
    "data2.info()"
   ]
  },
  {
   "cell_type": "code",
   "execution_count": 189,
   "id": "2c7abd4a",
   "metadata": {},
   "outputs": [
    {
     "data": {
      "text/plain": [
       "<bound method NDFrame.head of      stock       date    price\n",
       "0     AAPL 2013-02-08  67.8542\n",
       "1     AAPL 2013-02-11  68.5614\n",
       "2     AAPL 2013-02-12  66.8428\n",
       "3     AAPL 2013-02-13  66.7156\n",
       "4     AAPL 2013-02-14  66.6556\n",
       "...    ...        ...      ...\n",
       "5031   ZTS 2018-02-01  77.8200\n",
       "5032   ZTS 2018-02-02  76.7800\n",
       "5033   ZTS 2018-02-05  73.8300\n",
       "5034   ZTS 2018-02-06  73.2700\n",
       "5035   ZTS 2018-02-07  73.8600\n",
       "\n",
       "[5036 rows x 3 columns]>"
      ]
     },
     "execution_count": 189,
     "metadata": {},
     "output_type": "execute_result"
    }
   ],
   "source": [
    "data2.head"
   ]
  },
  {
   "cell_type": "code",
   "execution_count": 190,
   "id": "fffd3798",
   "metadata": {},
   "outputs": [
    {
     "data": {
      "text/plain": [
       "0       02/08/13\n",
       "1       02/11/13\n",
       "2       02/12/13\n",
       "3       02/13/13\n",
       "4       02/14/13\n",
       "          ...   \n",
       "5031    02/01/18\n",
       "5032    02/02/18\n",
       "5033    02/05/18\n",
       "5034    02/06/18\n",
       "5035    02/07/18\n",
       "Name: date, Length: 5036, dtype: object"
      ]
     },
     "execution_count": 190,
     "metadata": {},
     "output_type": "execute_result"
    }
   ],
   "source": [
    "data2['date'].dt.strftime('%m/%d/%y')"
   ]
  },
  {
   "cell_type": "code",
   "execution_count": 191,
   "id": "dd7c2bb2",
   "metadata": {},
   "outputs": [
    {
     "data": {
      "text/plain": [
       "0       02-08-13\n",
       "1       02-11-13\n",
       "2       02-12-13\n",
       "3       02-13-13\n",
       "4       02-14-13\n",
       "          ...   \n",
       "5031    02-01-18\n",
       "5032    02-02-18\n",
       "5033    02-05-18\n",
       "5034    02-06-18\n",
       "5035    02-07-18\n",
       "Name: date, Length: 5036, dtype: object"
      ]
     },
     "execution_count": 191,
     "metadata": {},
     "output_type": "execute_result"
    }
   ],
   "source": [
    "data2['date'].dt.strftime('%m-%d-%y')"
   ]
  },
  {
   "cell_type": "code",
   "execution_count": 192,
   "id": "b74fb66f",
   "metadata": {},
   "outputs": [],
   "source": [
    "demo_matrix = np.array(([13,35,74,48], [23,37,37,38],[73,39,93,39]))"
   ]
  },
  {
   "cell_type": "code",
   "execution_count": 193,
   "id": "e7afd472",
   "metadata": {},
   "outputs": [
    {
     "data": {
      "text/plain": [
       "array([[13, 35, 74, 48],\n",
       "       [23, 37, 37, 38],\n",
       "       [73, 39, 93, 39]])"
      ]
     },
     "execution_count": 193,
     "metadata": {},
     "output_type": "execute_result"
    }
   ],
   "source": [
    "demo_matrix"
   ]
  },
  {
   "cell_type": "code",
   "execution_count": 194,
   "id": "64951575",
   "metadata": {},
   "outputs": [
    {
     "data": {
      "text/plain": [
       "array([[35, 74],\n",
       "       [37, 37],\n",
       "       [39, 93]])"
      ]
     },
     "execution_count": 194,
     "metadata": {},
     "output_type": "execute_result"
    }
   ],
   "source": [
    "demo_matrix[0:3, 1:3]"
   ]
  },
  {
   "cell_type": "code",
   "execution_count": 199,
   "id": "a453cadc",
   "metadata": {},
   "outputs": [],
   "source": [
    "demo_array = np.array([1,2,3,4,5,6,7,8,9,10])"
   ]
  },
  {
   "cell_type": "code",
   "execution_count": 200,
   "id": "30e88781",
   "metadata": {},
   "outputs": [
    {
     "data": {
      "text/plain": [
       "array([ 1,  2,  3,  4,  5,  6,  7,  8,  9, 10])"
      ]
     },
     "execution_count": 200,
     "metadata": {},
     "output_type": "execute_result"
    }
   ],
   "source": [
    "demo_array"
   ]
  },
  {
   "cell_type": "code",
   "execution_count": 201,
   "id": "72633cb6",
   "metadata": {},
   "outputs": [],
   "source": [
    "demo_array[0:7]=5"
   ]
  },
  {
   "cell_type": "code",
   "execution_count": 202,
   "id": "763efff4",
   "metadata": {},
   "outputs": [
    {
     "data": {
      "text/plain": [
       "array([ 5,  5,  5,  5,  5,  5,  5,  8,  9, 10])"
      ]
     },
     "execution_count": 202,
     "metadata": {},
     "output_type": "execute_result"
    }
   ],
   "source": [
    "demo_array"
   ]
  },
  {
   "cell_type": "code",
   "execution_count": 203,
   "id": "77a1ed87",
   "metadata": {},
   "outputs": [
    {
     "data": {
      "text/plain": [
       "array([ True,  True,  True, False, False, False, False, False, False,\n",
       "       False])"
      ]
     },
     "execution_count": 203,
     "metadata": {},
     "output_type": "execute_result"
    }
   ],
   "source": [
    "import numpy as np\n",
    "demo_array = np.arange(0,10)\n",
    "demo_array<3"
   ]
  },
  {
   "cell_type": "code",
   "execution_count": 204,
   "id": "57500f69",
   "metadata": {},
   "outputs": [
    {
     "data": {
      "text/plain": [
       "5"
      ]
     },
     "execution_count": 204,
     "metadata": {},
     "output_type": "execute_result"
    }
   ],
   "source": [
    "flowers = pd.Series([2, 3, 5, 4], index=['lily', 'rose', 'daisy', 'lotus'])\n",
    "flowers['daisy']"
   ]
  },
  {
   "cell_type": "code",
   "execution_count": null,
   "id": "a216e3d1",
   "metadata": {},
   "outputs": [],
   "source": []
  }
 ],
 "metadata": {
  "kernelspec": {
   "display_name": "Python 3 (ipykernel)",
   "language": "python",
   "name": "python3"
  },
  "language_info": {
   "codemirror_mode": {
    "name": "ipython",
    "version": 3
   },
   "file_extension": ".py",
   "mimetype": "text/x-python",
   "name": "python",
   "nbconvert_exporter": "python",
   "pygments_lexer": "ipython3",
   "version": "3.11.7"
  }
 },
 "nbformat": 4,
 "nbformat_minor": 5
}
