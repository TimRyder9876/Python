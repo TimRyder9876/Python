{
 "cells": [
  {
   "cell_type": "code",
   "execution_count": 1,
   "id": "0f8d120f",
   "metadata": {},
   "outputs": [
    {
     "data": {
      "text/html": [
       "<div>\n",
       "<style scoped>\n",
       "    .dataframe tbody tr th:only-of-type {\n",
       "        vertical-align: middle;\n",
       "    }\n",
       "\n",
       "    .dataframe tbody tr th {\n",
       "        vertical-align: top;\n",
       "    }\n",
       "\n",
       "    .dataframe thead th {\n",
       "        text-align: right;\n",
       "    }\n",
       "</style>\n",
       "<table border=\"1\" class=\"dataframe\">\n",
       "  <thead>\n",
       "    <tr style=\"text-align: right;\">\n",
       "      <th></th>\n",
       "      <th>P_Football_Performance</th>\n",
       "      <th>SMAn2</th>\n",
       "      <th>N_Applications</th>\n",
       "    </tr>\n",
       "    <tr>\n",
       "      <th>Year</th>\n",
       "      <th></th>\n",
       "      <th></th>\n",
       "      <th></th>\n",
       "    </tr>\n",
       "  </thead>\n",
       "  <tbody>\n",
       "    <tr>\n",
       "      <th>2006</th>\n",
       "      <td>0.273</td>\n",
       "      <td>5778.0</td>\n",
       "      <td>5778</td>\n",
       "    </tr>\n",
       "    <tr>\n",
       "      <th>2007</th>\n",
       "      <td>0.273</td>\n",
       "      <td>5778.0</td>\n",
       "      <td>5140</td>\n",
       "    </tr>\n",
       "    <tr>\n",
       "      <th>2008</th>\n",
       "      <td>0.250</td>\n",
       "      <td>5459.0</td>\n",
       "      <td>6141</td>\n",
       "    </tr>\n",
       "    <tr>\n",
       "      <th>2009</th>\n",
       "      <td>0.615</td>\n",
       "      <td>5640.5</td>\n",
       "      <td>7429</td>\n",
       "    </tr>\n",
       "    <tr>\n",
       "      <th>2010</th>\n",
       "      <td>0.333</td>\n",
       "      <td>6785.0</td>\n",
       "      <td>7839</td>\n",
       "    </tr>\n",
       "    <tr>\n",
       "      <th>2011</th>\n",
       "      <td>0.417</td>\n",
       "      <td>7634.0</td>\n",
       "      <td>9300</td>\n",
       "    </tr>\n",
       "    <tr>\n",
       "      <th>2012</th>\n",
       "      <td>0.692</td>\n",
       "      <td>8569.5</td>\n",
       "      <td>9864</td>\n",
       "    </tr>\n",
       "    <tr>\n",
       "      <th>2013</th>\n",
       "      <td>0.538</td>\n",
       "      <td>9582.0</td>\n",
       "      <td>10449</td>\n",
       "    </tr>\n",
       "    <tr>\n",
       "      <th>2014</th>\n",
       "      <td>0.615</td>\n",
       "      <td>10156.5</td>\n",
       "      <td>11117</td>\n",
       "    </tr>\n",
       "    <tr>\n",
       "      <th>2015</th>\n",
       "      <td>0.538</td>\n",
       "      <td>10783.0</td>\n",
       "      <td>10766</td>\n",
       "    </tr>\n",
       "    <tr>\n",
       "      <th>2016</th>\n",
       "      <td>0.769</td>\n",
       "      <td>10941.5</td>\n",
       "      <td>12701</td>\n",
       "    </tr>\n",
       "    <tr>\n",
       "      <th>2017</th>\n",
       "      <td>0.692</td>\n",
       "      <td>11733.5</td>\n",
       "      <td>13930</td>\n",
       "    </tr>\n",
       "    <tr>\n",
       "      <th>2018</th>\n",
       "      <td>0.462</td>\n",
       "      <td>13315.5</td>\n",
       "      <td>13817</td>\n",
       "    </tr>\n",
       "    <tr>\n",
       "      <th>2019</th>\n",
       "      <td>0.692</td>\n",
       "      <td>13873.5</td>\n",
       "      <td>17363</td>\n",
       "    </tr>\n",
       "    <tr>\n",
       "      <th>2020</th>\n",
       "      <td>0.615</td>\n",
       "      <td>15590.0</td>\n",
       "      <td>18269</td>\n",
       "    </tr>\n",
       "    <tr>\n",
       "      <th>2021</th>\n",
       "      <td>0.462</td>\n",
       "      <td>17816.0</td>\n",
       "      <td>16127</td>\n",
       "    </tr>\n",
       "  </tbody>\n",
       "</table>\n",
       "</div>"
      ],
      "text/plain": [
       "      P_Football_Performance    SMAn2  N_Applications\n",
       "Year                                                 \n",
       "2006                   0.273   5778.0            5778\n",
       "2007                   0.273   5778.0            5140\n",
       "2008                   0.250   5459.0            6141\n",
       "2009                   0.615   5640.5            7429\n",
       "2010                   0.333   6785.0            7839\n",
       "2011                   0.417   7634.0            9300\n",
       "2012                   0.692   8569.5            9864\n",
       "2013                   0.538   9582.0           10449\n",
       "2014                   0.615  10156.5           11117\n",
       "2015                   0.538  10783.0           10766\n",
       "2016                   0.769  10941.5           12701\n",
       "2017                   0.692  11733.5           13930\n",
       "2018                   0.462  13315.5           13817\n",
       "2019                   0.692  13873.5           17363\n",
       "2020                   0.615  15590.0           18269\n",
       "2021                   0.462  17816.0           16127"
      ]
     },
     "execution_count": 1,
     "metadata": {},
     "output_type": "execute_result"
    }
   ],
   "source": [
    "import pandas as pd\n",
    "msu_df = pd.read_csv('MSU applications.csv')\n",
    "msu_df.set_index('Year', drop=True, inplace=True)\n",
    "msu_df"
   ]
  },
  {
   "cell_type": "code",
   "execution_count": 7,
   "id": "99a8eb5b",
   "metadata": {},
   "outputs": [
    {
     "name": "stdout",
     "output_type": "stream",
     "text": [
      "intercept (b0)  -890.7106225983371\n",
      "                Predictor coefficient Name  coefficient Value\n",
      "0  P_Football_Performance               b1        5544.961933\n",
      "1                   SMAn2               b2           0.907032\n"
     ]
    }
   ],
   "source": [
    "from sklearn.linear_model import LinearRegression\n",
    "\n",
    "x = ['P_Football_Performance','SMAn2']\n",
    "y = 'N_Applications'\n",
    "\n",
    "#x contains the independent attributes\n",
    "data_x = msu_df[x]\n",
    "#y contains the dependent attribute\n",
    "data_y = msu_df[y]\n",
    "\n",
    "lm = LinearRegression()\n",
    "lm.fit(data_x, data_y)\n",
    "\n",
    "print('intercept (b0) ', lm.intercept_)\n",
    "coef_names = ['b1','b2']\n",
    "print(pd.DataFrame({'Predictor': data_x.columns,\n",
    "                    'coefficient Name': coef_names,\n",
    "                    'coefficient Value': lm.coef_}))\n",
    "\n"
   ]
  },
  {
   "cell_type": "code",
   "execution_count": 8,
   "id": "fc756efa",
   "metadata": {},
   "outputs": [
    {
     "data": {
      "text/html": [
       "<div>\n",
       "<style scoped>\n",
       "    .dataframe tbody tr th:only-of-type {\n",
       "        vertical-align: middle;\n",
       "    }\n",
       "\n",
       "    .dataframe tbody tr th {\n",
       "        vertical-align: top;\n",
       "    }\n",
       "\n",
       "    .dataframe thead th {\n",
       "        text-align: right;\n",
       "    }\n",
       "</style>\n",
       "<table border=\"1\" class=\"dataframe\">\n",
       "  <thead>\n",
       "    <tr style=\"text-align: right;\">\n",
       "      <th></th>\n",
       "      <th>P_Football_Performance</th>\n",
       "      <th>SMAn2</th>\n",
       "    </tr>\n",
       "  </thead>\n",
       "  <tbody>\n",
       "    <tr>\n",
       "      <th>2022</th>\n",
       "      <td>0.364</td>\n",
       "      <td>17198</td>\n",
       "    </tr>\n",
       "  </tbody>\n",
       "</table>\n",
       "</div>"
      ],
      "text/plain": [
       "      P_Football_Performance  SMAn2\n",
       "2022                   0.364  17198"
      ]
     },
     "execution_count": 8,
     "metadata": {},
     "output_type": "execute_result"
    }
   ],
   "source": [
    "newData = pd.DataFrame({'P_Football_Performance':0.364,'SMAn2':17198},\n",
    "                       index=[2022])\n",
    "newData"
   ]
  },
  {
   "cell_type": "code",
   "execution_count": 9,
   "id": "44f5d6a8",
   "metadata": {},
   "outputs": [
    {
     "data": {
      "text/plain": [
       "array([16726.78787061])"
      ]
     },
     "execution_count": 9,
     "metadata": {},
     "output_type": "execute_result"
    }
   ],
   "source": [
    "lm.predict(newData)"
   ]
  },
  {
   "cell_type": "code",
   "execution_count": 16,
   "id": "3ae04891",
   "metadata": {},
   "outputs": [
    {
     "name": "stderr",
     "output_type": "stream",
     "text": [
      "C:\\Users\\timry\\anaconda3\\Lib\\site-packages\\sklearn\\neural_network\\_multilayer_perceptron.py:686: ConvergenceWarning: Stochastic Optimizer: Maximum iterations (15000) reached and the optimization hasn't converged yet.\n",
      "  warnings.warn(\n"
     ]
    },
    {
     "data": {
      "text/plain": [
       "array([18810.41482295])"
      ]
     },
     "execution_count": 16,
     "metadata": {},
     "output_type": "execute_result"
    }
   ],
   "source": [
    "from sklearn.neural_network import MLPRegressor\n",
    "\n",
    "X = ['P_Football_Performance','SMAn2']\n",
    "y = 'N_Applications'\n",
    "\n",
    "data_X = msu_df[X]\n",
    "data_y = msu_df[y]\n",
    "\n",
    "mlp = MLPRegressor(hidden_layer_sizes=6, max_iter=15000)\n",
    "mlp.fit(data_X, data_y)\n",
    "\n",
    "mlp.predict(newData)"
   ]
  },
  {
   "cell_type": "code",
   "execution_count": null,
   "id": "ba373a60",
   "metadata": {},
   "outputs": [],
   "source": []
  },
  {
   "cell_type": "code",
   "execution_count": null,
   "id": "99131660",
   "metadata": {},
   "outputs": [],
   "source": []
  }
 ],
 "metadata": {
  "kernelspec": {
   "display_name": "Python 3 (ipykernel)",
   "language": "python",
   "name": "python3"
  },
  "language_info": {
   "codemirror_mode": {
    "name": "ipython",
    "version": 3
   },
   "file_extension": ".py",
   "mimetype": "text/x-python",
   "name": "python",
   "nbconvert_exporter": "python",
   "pygments_lexer": "ipython3",
   "version": "3.11.7"
  }
 },
 "nbformat": 4,
 "nbformat_minor": 5
}
