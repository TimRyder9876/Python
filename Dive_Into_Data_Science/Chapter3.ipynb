{
 "cells": [
  {
   "cell_type": "code",
   "execution_count": 1,
   "id": "792b341a",
   "metadata": {},
   "outputs": [],
   "source": [
    "import pandas as pd"
   ]
  },
  {
   "cell_type": "markdown",
   "id": "125eee8a",
   "metadata": {},
   "source": [
    "## Reading Population Data"
   ]
  },
  {
   "cell_type": "code",
   "execution_count": 2,
   "id": "dca0bc6a",
   "metadata": {},
   "outputs": [
    {
     "data": {
      "text/html": [
       "<div>\n",
       "<style scoped>\n",
       "    .dataframe tbody tr th:only-of-type {\n",
       "        vertical-align: middle;\n",
       "    }\n",
       "\n",
       "    .dataframe tbody tr th {\n",
       "        vertical-align: top;\n",
       "    }\n",
       "\n",
       "    .dataframe thead th {\n",
       "        text-align: right;\n",
       "    }\n",
       "</style>\n",
       "<table border=\"1\" class=\"dataframe\">\n",
       "  <thead>\n",
       "    <tr style=\"text-align: right;\">\n",
       "      <th></th>\n",
       "      <th>name</th>\n",
       "      <th>team</th>\n",
       "      <th>position</th>\n",
       "      <th>height</th>\n",
       "      <th>weight</th>\n",
       "      <th>age</th>\n",
       "    </tr>\n",
       "  </thead>\n",
       "  <tbody>\n",
       "    <tr>\n",
       "      <th>0</th>\n",
       "      <td>Adam_Donachie</td>\n",
       "      <td>BAL</td>\n",
       "      <td>Catcher</td>\n",
       "      <td>74</td>\n",
       "      <td>180.0</td>\n",
       "      <td>22.99</td>\n",
       "    </tr>\n",
       "    <tr>\n",
       "      <th>1</th>\n",
       "      <td>Paul_Bako</td>\n",
       "      <td>BAL</td>\n",
       "      <td>Catcher</td>\n",
       "      <td>74</td>\n",
       "      <td>215.0</td>\n",
       "      <td>34.69</td>\n",
       "    </tr>\n",
       "    <tr>\n",
       "      <th>2</th>\n",
       "      <td>Ramon_Hernandez</td>\n",
       "      <td>BAL</td>\n",
       "      <td>Catcher</td>\n",
       "      <td>72</td>\n",
       "      <td>210.0</td>\n",
       "      <td>30.78</td>\n",
       "    </tr>\n",
       "    <tr>\n",
       "      <th>3</th>\n",
       "      <td>Kevin_Millar</td>\n",
       "      <td>BAL</td>\n",
       "      <td>First_Baseman</td>\n",
       "      <td>72</td>\n",
       "      <td>210.0</td>\n",
       "      <td>35.43</td>\n",
       "    </tr>\n",
       "    <tr>\n",
       "      <th>4</th>\n",
       "      <td>Chris_Gomez</td>\n",
       "      <td>BAL</td>\n",
       "      <td>First_Baseman</td>\n",
       "      <td>73</td>\n",
       "      <td>188.0</td>\n",
       "      <td>35.71</td>\n",
       "    </tr>\n",
       "  </tbody>\n",
       "</table>\n",
       "</div>"
      ],
      "text/plain": [
       "              name team       position  height  weight    age\n",
       "0    Adam_Donachie  BAL        Catcher      74   180.0  22.99\n",
       "1        Paul_Bako  BAL        Catcher      74   215.0  34.69\n",
       "2  Ramon_Hernandez  BAL        Catcher      72   210.0  30.78\n",
       "3     Kevin_Millar  BAL  First_Baseman      72   210.0  35.43\n",
       "4      Chris_Gomez  BAL  First_Baseman      73   188.0  35.71"
      ]
     },
     "execution_count": 2,
     "metadata": {},
     "output_type": "execute_result"
    }
   ],
   "source": [
    "mlb = pd.read_csv('mlb.csv')\n",
    "mlb.head()"
   ]
  },
  {
   "cell_type": "code",
   "execution_count": 4,
   "id": "e4dc595b",
   "metadata": {},
   "outputs": [
    {
     "data": {
      "text/plain": [
       "(1034, 6)"
      ]
     },
     "execution_count": 4,
     "metadata": {},
     "output_type": "execute_result"
    }
   ],
   "source": [
    "mlb.shape"
   ]
  },
  {
   "cell_type": "markdown",
   "id": "522e8a2e",
   "metadata": {},
   "source": [
    "## Summary Stats"
   ]
  },
  {
   "cell_type": "code",
   "execution_count": 9,
   "id": "d1463666",
   "metadata": {},
   "outputs": [
    {
     "data": {
      "text/html": [
       "<div>\n",
       "<style scoped>\n",
       "    .dataframe tbody tr th:only-of-type {\n",
       "        vertical-align: middle;\n",
       "    }\n",
       "\n",
       "    .dataframe tbody tr th {\n",
       "        vertical-align: top;\n",
       "    }\n",
       "\n",
       "    .dataframe thead th {\n",
       "        text-align: right;\n",
       "    }\n",
       "</style>\n",
       "<table border=\"1\" class=\"dataframe\">\n",
       "  <thead>\n",
       "    <tr style=\"text-align: right;\">\n",
       "      <th></th>\n",
       "      <th>count</th>\n",
       "      <th>mean</th>\n",
       "      <th>std</th>\n",
       "      <th>min</th>\n",
       "      <th>25%</th>\n",
       "      <th>50%</th>\n",
       "      <th>75%</th>\n",
       "      <th>max</th>\n",
       "    </tr>\n",
       "  </thead>\n",
       "  <tbody>\n",
       "    <tr>\n",
       "      <th>height</th>\n",
       "      <td>1034.0</td>\n",
       "      <td>73.697292</td>\n",
       "      <td>2.305818</td>\n",
       "      <td>67.0</td>\n",
       "      <td>72.00</td>\n",
       "      <td>74.000</td>\n",
       "      <td>75.0000</td>\n",
       "      <td>83.00</td>\n",
       "    </tr>\n",
       "    <tr>\n",
       "      <th>weight</th>\n",
       "      <td>1033.0</td>\n",
       "      <td>201.689255</td>\n",
       "      <td>20.991491</td>\n",
       "      <td>150.0</td>\n",
       "      <td>187.00</td>\n",
       "      <td>200.000</td>\n",
       "      <td>215.0000</td>\n",
       "      <td>290.00</td>\n",
       "    </tr>\n",
       "    <tr>\n",
       "      <th>age</th>\n",
       "      <td>1034.0</td>\n",
       "      <td>28.736712</td>\n",
       "      <td>4.320310</td>\n",
       "      <td>20.9</td>\n",
       "      <td>25.44</td>\n",
       "      <td>27.925</td>\n",
       "      <td>31.2325</td>\n",
       "      <td>48.52</td>\n",
       "    </tr>\n",
       "  </tbody>\n",
       "</table>\n",
       "</div>"
      ],
      "text/plain": [
       "         count        mean        std    min     25%      50%       75%  \\\n",
       "height  1034.0   73.697292   2.305818   67.0   72.00   74.000   75.0000   \n",
       "weight  1033.0  201.689255  20.991491  150.0  187.00  200.000  215.0000   \n",
       "age     1034.0   28.736712   4.320310   20.9   25.44   27.925   31.2325   \n",
       "\n",
       "           max  \n",
       "height   83.00  \n",
       "weight  290.00  \n",
       "age      48.52  "
      ]
     },
     "execution_count": 9,
     "metadata": {},
     "output_type": "execute_result"
    }
   ],
   "source": [
    "mlb.describe().T"
   ]
  },
  {
   "cell_type": "code",
   "execution_count": 10,
   "id": "361c8666",
   "metadata": {},
   "outputs": [],
   "source": [
    "import matplotlib.pyplot as plt"
   ]
  },
  {
   "cell_type": "code",
   "execution_count": 16,
   "id": "373fabce",
   "metadata": {},
   "outputs": [
    {
     "data": {
      "image/png": "[encoded data removed]",
      "text/plain": [
       "<Figure size 400x400 with 1 Axes>"
      ]
     },
     "metadata": {},
     "output_type": "display_data"
    }
   ],
   "source": [
    "fig, ax = plt.subplots(figsize=(4,4))\n",
    "ax.boxplot(mlb['height'])\n",
    "ax.set_ylabel(\"Height (inches)\")\n",
    "plt.title(\"MLB Player Weights\")\n",
    "\n",
    "# change the X ticks to say 'Full Population' \n",
    "# not sure this was needed\n",
    "plt.xticks([1], ['Full Population'])\n",
    "plt.show()"
   ]
  },
  {
   "cell_type": "markdown",
   "id": "58831f66",
   "metadata": {},
   "source": [
    "## Random Samples"
   ]
  },
  {
   "cell_type": "code",
   "execution_count": 17,
   "id": "90b163a1",
   "metadata": {},
   "outputs": [],
   "source": [
    "sample1=mlb.sample(n=30, random_state=8675309)\n",
    "sample2=mlb.sample(n=30, random_state=1729)\n",
    "sample3 = [71,72,73,74,74,\n",
    "           76,75,75,75,76,\n",
    "           75,77,76,75,77,\n",
    "           76,75,76,76,75,\n",
    "           75,81,77,75,77,\n",
    "           75,77,77,75,75]"
   ]
  },
  {
   "cell_type": "code",
   "execution_count": 18,
   "id": "9fd65f1b",
   "metadata": {},
   "outputs": [],
   "source": [
    "import numpy as np"
   ]
  },
  {
   "cell_type": "code",
   "execution_count": 21,
   "id": "6c80441f",
   "metadata": {},
   "outputs": [
    {
     "data": {
      "image/png": "[encoded data removed]",
      "text/plain": [
       "<Figure size 600x600 with 1 Axes>"
      ]
     },
     "metadata": {},
     "output_type": "display_data"
    }
   ],
   "source": [
    "fig, ax = plt.subplots(figsize=(6,6))\n",
    "ax.boxplot([mlb['height'], sample1['height'], sample2['height'], np.array(sample3)])\n",
    "ax.set_ylabel('Height (Inches)')\n",
    "plt.title(\"MLB Player Heights\")\n",
    "\n",
    "# This adds labels to the 4 ticks\n",
    "plt.xticks([1,2,3,4], ['Full Population','Sample 1', 'Sample 2', 'Sample 3'])\n",
    "plt.show()"
   ]
  },
  {
   "cell_type": "code",
   "execution_count": 22,
   "id": "65e620d5",
   "metadata": {},
   "outputs": [
    {
     "name": "stdout",
     "output_type": "stream",
     "text": [
      "73.8\n",
      "74.36666666666666\n",
      "75.43333333333334\n"
     ]
    }
   ],
   "source": [
    "print(np.mean(sample1['height']))\n",
    "print(np.mean(sample2['height']))\n",
    "print(np.mean(sample3))"
   ]
  },
  {
   "cell_type": "markdown",
   "id": "7515b4ba",
   "metadata": {},
   "source": [
    "## Differences Between Sample Data"
   ]
  },
  {
   "cell_type": "code",
   "execution_count": 24,
   "id": "b0df10d9",
   "metadata": {},
   "outputs": [
    {
     "name": "stdout",
     "output_type": "stream",
     "text": [
      "[0.8333333333333286, -0.30000000000001137, -0.10000000000000853, -0.1666666666666572, 0.06666666666667709, -0.9666666666666686, 0.7999999999999972, 0.9333333333333371, -0.5333333333333314, -0.20000000000000284]\n"
     ]
    }
   ],
   "source": [
    "alldifferences = []\n",
    "for i in range(1000):\n",
    "    newsample1=mlb.sample(n=30, random_state=i*2)\n",
    "    newsample2=mlb.sample(n=30, random_state=i*2+1)\n",
    "    alldifferences.append(newsample1['height'].mean()-newsample2['height'].mean())\n",
    "print(alldifferences[:10])"
   ]
  },
  {
   "cell_type": "code",
   "execution_count": 25,
   "id": "20e108e3",
   "metadata": {},
   "outputs": [],
   "source": [
    "import seaborn as sns"
   ]
  },
  {
   "cell_type": "code",
   "execution_count": 27,
   "id": "f0e7628b",
   "metadata": {},
   "outputs": [
    {
     "name": "stderr",
     "output_type": "stream",
     "text": [
      "C:\\Users\\timry\\AppData\\Local\\Temp\\ipykernel_17304\\3323752581.py:2: UserWarning: \n",
      "\n",
      "`distplot` is a deprecated function and will be removed in seaborn v0.14.0.\n",
      "\n",
      "Please adapt your code to use either `displot` (a figure-level function with\n",
      "similar flexibility) or `histplot` (an axes-level function for histograms).\n",
      "\n",
      "For a guide to updating your code to use the new functions, please see\n",
      "https://gist.github.com/mwaskom/de44147ed2974457ad6372750bbe5751\n",
      "\n",
      "  ax =sns.distplot(alldifferences).set_title(\"Differences Between SAmple Means\")\n"
     ]
    },
    {
     "data": {
      "image/png": "[encoded data removed]",
      "text/plain": [
       "<Figure size 640x480 with 1 Axes>"
      ]
     },
     "metadata": {},
     "output_type": "display_data"
    }
   ],
   "source": [
    "sns.set()\n",
    "ax =sns.distplot(alldifferences).set_title(\"Differences Between SAmple Means\")\n",
    "plt.xlabel(\"Difference Between Means (Inches)\")\n",
    "plt.ylabel(\"Relative Frequency\")\n",
    "plt.show()"
   ]
  },
  {
   "cell_type": "code",
   "execution_count": 28,
   "id": "69fb1476",
   "metadata": {},
   "outputs": [
    {
     "name": "stdout",
     "output_type": "stream",
     "text": [
      "8\n"
     ]
    }
   ],
   "source": [
    "# Check exactly how many of the differences have magnitude >= 1.6 inches\n",
    "# this \"8\" translates into a p-value of 0.8 percent\n",
    "largedifferences=[diff for diff in alldifferences if abs(diff)>=1.6]\n",
    "print(len(largedifferences))"
   ]
  },
  {
   "cell_type": "code",
   "execution_count": 29,
   "id": "fdb5aca2",
   "metadata": {},
   "outputs": [
    {
     "name": "stdout",
     "output_type": "stream",
     "text": [
      "163\n"
     ]
    }
   ],
   "source": [
    "# this \"163\" translates into a p-values of 16.3 percent\n",
    "smalldifferences=[diff for diff in alldifferences if abs(diff>=0.6)]\n",
    "print(len(smalldifferences))"
   ]
  },
  {
   "cell_type": "markdown",
   "id": "20440a34",
   "metadata": {},
   "source": [
    "## The t-test"
   ]
  },
  {
   "cell_type": "code",
   "execution_count": 34,
   "id": "ee0dbb39",
   "metadata": {},
   "outputs": [],
   "source": [
    "from scipy.stats import ttest_ind, mannwhitneyu"
   ]
  },
  {
   "cell_type": "code",
   "execution_count": 35,
   "id": "9883740e",
   "metadata": {},
   "outputs": [
    {
     "data": {
      "text/plain": [
       "TtestResult(statistic=-1.0839563860213952, pvalue=0.2828695892305152, df=58.0)"
      ]
     },
     "execution_count": 35,
     "metadata": {},
     "output_type": "execute_result"
    }
   ],
   "source": [
    "ttest_ind(sample1['height'],sample2['height'])"
   ]
  },
  {
   "cell_type": "markdown",
   "id": "a1c5fd36",
   "metadata": {},
   "source": [
    "## Mann - Whitney U test"
   ]
  },
  {
   "cell_type": "code",
   "execution_count": 36,
   "id": "1d8a8183",
   "metadata": {},
   "outputs": [
    {
     "data": {
      "text/plain": [
       "MannwhitneyuResult(statistic=392.0, pvalue=0.38913738408151577)"
      ]
     },
     "execution_count": 36,
     "metadata": {},
     "output_type": "execute_result"
    }
   ],
   "source": [
    "mannwhitneyu(sample1['height'], sample2['height'])"
   ]
  },
  {
   "cell_type": "markdown",
   "id": "6eea369e",
   "metadata": {},
   "source": [
    "## Comparing Groups in a Practical Context"
   ]
  },
  {
   "cell_type": "code",
   "execution_count": 37,
   "id": "2611710c",
   "metadata": {},
   "outputs": [],
   "source": [
    "desktop = pd.read_csv('desktop.csv')\n",
    "laptop = pd.read_csv('laptop.csv')"
   ]
  },
  {
   "cell_type": "code",
   "execution_count": 38,
   "id": "3ee04d03",
   "metadata": {},
   "outputs": [
    {
     "data": {
      "text/html": [
       "<div>\n",
       "<style scoped>\n",
       "    .dataframe tbody tr th:only-of-type {\n",
       "        vertical-align: middle;\n",
       "    }\n",
       "\n",
       "    .dataframe tbody tr th {\n",
       "        vertical-align: top;\n",
       "    }\n",
       "\n",
       "    .dataframe thead th {\n",
       "        text-align: right;\n",
       "    }\n",
       "</style>\n",
       "<table border=\"1\" class=\"dataframe\">\n",
       "  <thead>\n",
       "    <tr style=\"text-align: right;\">\n",
       "      <th></th>\n",
       "      <th>userid</th>\n",
       "      <th>spending</th>\n",
       "      <th>age</th>\n",
       "      <th>visits</th>\n",
       "    </tr>\n",
       "  </thead>\n",
       "  <tbody>\n",
       "    <tr>\n",
       "      <th>0</th>\n",
       "      <td>1</td>\n",
       "      <td>1250</td>\n",
       "      <td>31</td>\n",
       "      <td>126</td>\n",
       "    </tr>\n",
       "    <tr>\n",
       "      <th>1</th>\n",
       "      <td>2</td>\n",
       "      <td>900</td>\n",
       "      <td>27</td>\n",
       "      <td>5</td>\n",
       "    </tr>\n",
       "    <tr>\n",
       "      <th>2</th>\n",
       "      <td>3</td>\n",
       "      <td>0</td>\n",
       "      <td>30</td>\n",
       "      <td>459</td>\n",
       "    </tr>\n",
       "  </tbody>\n",
       "</table>\n",
       "</div>"
      ],
      "text/plain": [
       "   userid  spending  age  visits\n",
       "0       1      1250   31     126\n",
       "1       2       900   27       5\n",
       "2       3         0   30     459"
      ]
     },
     "execution_count": 38,
     "metadata": {},
     "output_type": "execute_result"
    }
   ],
   "source": [
    "desktop.head(3)"
   ]
  },
  {
   "cell_type": "code",
   "execution_count": 39,
   "id": "fb1e5f90",
   "metadata": {},
   "outputs": [
    {
     "data": {
      "text/html": [
       "<div>\n",
       "<style scoped>\n",
       "    .dataframe tbody tr th:only-of-type {\n",
       "        vertical-align: middle;\n",
       "    }\n",
       "\n",
       "    .dataframe tbody tr th {\n",
       "        vertical-align: top;\n",
       "    }\n",
       "\n",
       "    .dataframe thead th {\n",
       "        text-align: right;\n",
       "    }\n",
       "</style>\n",
       "<table border=\"1\" class=\"dataframe\">\n",
       "  <thead>\n",
       "    <tr style=\"text-align: right;\">\n",
       "      <th></th>\n",
       "      <th>userid</th>\n",
       "      <th>spending</th>\n",
       "      <th>age</th>\n",
       "      <th>visits</th>\n",
       "    </tr>\n",
       "  </thead>\n",
       "  <tbody>\n",
       "    <tr>\n",
       "      <th>0</th>\n",
       "      <td>31</td>\n",
       "      <td>1499</td>\n",
       "      <td>32</td>\n",
       "      <td>12</td>\n",
       "    </tr>\n",
       "    <tr>\n",
       "      <th>1</th>\n",
       "      <td>32</td>\n",
       "      <td>799</td>\n",
       "      <td>23</td>\n",
       "      <td>40</td>\n",
       "    </tr>\n",
       "    <tr>\n",
       "      <th>2</th>\n",
       "      <td>33</td>\n",
       "      <td>1200</td>\n",
       "      <td>45</td>\n",
       "      <td>22</td>\n",
       "    </tr>\n",
       "  </tbody>\n",
       "</table>\n",
       "</div>"
      ],
      "text/plain": [
       "   userid  spending  age  visits\n",
       "0      31      1499   32      12\n",
       "1      32       799   23      40\n",
       "2      33      1200   45      22"
      ]
     },
     "execution_count": 39,
     "metadata": {},
     "output_type": "execute_result"
    }
   ],
   "source": [
    "laptop.head(3)"
   ]
  },
  {
   "cell_type": "code",
   "execution_count": 40,
   "id": "744a2ad9",
   "metadata": {},
   "outputs": [],
   "source": [
    "import matplotlib.pyplot as plt"
   ]
  },
  {
   "cell_type": "code",
   "execution_count": 43,
   "id": "dc8bea7d",
   "metadata": {},
   "outputs": [
    {
     "data": {
      "image/png": "[encoded data removed]",
      "text/plain": [
       "<Figure size 600x600 with 1 Axes>"
      ]
     },
     "metadata": {},
     "output_type": "display_data"
    }
   ],
   "source": [
    "sns.reset_orig()\n",
    "fig, ax = plt.subplots(figsize=(6,6))\n",
    "ax.set_title(\"Spending by Desktop and Laptop Subscribers\")\n",
    "ax.boxplot([desktop['spending'].values, laptop['spending'].values])\n",
    "ax.set_ylabel('Spending ($)')\n",
    "plt.xticks([1,2],['Desktop Subscribers','Laptop Subscribers'])\n",
    "plt.show()"
   ]
  },
  {
   "cell_type": "code",
   "execution_count": 44,
   "id": "da74e1c2",
   "metadata": {},
   "outputs": [
    {
     "data": {
      "text/html": [
       "<div>\n",
       "<style scoped>\n",
       "    .dataframe tbody tr th:only-of-type {\n",
       "        vertical-align: middle;\n",
       "    }\n",
       "\n",
       "    .dataframe tbody tr th {\n",
       "        vertical-align: top;\n",
       "    }\n",
       "\n",
       "    .dataframe thead th {\n",
       "        text-align: right;\n",
       "    }\n",
       "</style>\n",
       "<table border=\"1\" class=\"dataframe\">\n",
       "  <thead>\n",
       "    <tr style=\"text-align: right;\">\n",
       "      <th></th>\n",
       "      <th>count</th>\n",
       "      <th>mean</th>\n",
       "      <th>std</th>\n",
       "      <th>min</th>\n",
       "      <th>25%</th>\n",
       "      <th>50%</th>\n",
       "      <th>75%</th>\n",
       "      <th>max</th>\n",
       "    </tr>\n",
       "  </thead>\n",
       "  <tbody>\n",
       "    <tr>\n",
       "      <th>userid</th>\n",
       "      <td>30.0</td>\n",
       "      <td>15.500000</td>\n",
       "      <td>8.803408</td>\n",
       "      <td>1.0</td>\n",
       "      <td>8.25</td>\n",
       "      <td>15.5</td>\n",
       "      <td>22.75</td>\n",
       "      <td>30.0</td>\n",
       "    </tr>\n",
       "    <tr>\n",
       "      <th>spending</th>\n",
       "      <td>30.0</td>\n",
       "      <td>1028.666667</td>\n",
       "      <td>907.411032</td>\n",
       "      <td>0.0</td>\n",
       "      <td>127.50</td>\n",
       "      <td>925.0</td>\n",
       "      <td>1528.25</td>\n",
       "      <td>3400.0</td>\n",
       "    </tr>\n",
       "    <tr>\n",
       "      <th>age</th>\n",
       "      <td>30.0</td>\n",
       "      <td>35.766667</td>\n",
       "      <td>15.199100</td>\n",
       "      <td>14.0</td>\n",
       "      <td>25.50</td>\n",
       "      <td>32.0</td>\n",
       "      <td>44.25</td>\n",
       "      <td>79.0</td>\n",
       "    </tr>\n",
       "    <tr>\n",
       "      <th>visits</th>\n",
       "      <td>30.0</td>\n",
       "      <td>210.800000</td>\n",
       "      <td>311.468203</td>\n",
       "      <td>5.0</td>\n",
       "      <td>46.75</td>\n",
       "      <td>100.0</td>\n",
       "      <td>145.00</td>\n",
       "      <td>1256.0</td>\n",
       "    </tr>\n",
       "  </tbody>\n",
       "</table>\n",
       "</div>"
      ],
      "text/plain": [
       "          count         mean         std   min     25%    50%      75%     max\n",
       "userid     30.0    15.500000    8.803408   1.0    8.25   15.5    22.75    30.0\n",
       "spending   30.0  1028.666667  907.411032   0.0  127.50  925.0  1528.25  3400.0\n",
       "age        30.0    35.766667   15.199100  14.0   25.50   32.0    44.25    79.0\n",
       "visits     30.0   210.800000  311.468203   5.0   46.75  100.0   145.00  1256.0"
      ]
     },
     "execution_count": 44,
     "metadata": {},
     "output_type": "execute_result"
    }
   ],
   "source": [
    "desktop.describe().T"
   ]
  },
  {
   "cell_type": "code",
   "execution_count": 45,
   "id": "91297b4d",
   "metadata": {},
   "outputs": [
    {
     "data": {
      "text/html": [
       "<div>\n",
       "<style scoped>\n",
       "    .dataframe tbody tr th:only-of-type {\n",
       "        vertical-align: middle;\n",
       "    }\n",
       "\n",
       "    .dataframe tbody tr th {\n",
       "        vertical-align: top;\n",
       "    }\n",
       "\n",
       "    .dataframe thead th {\n",
       "        text-align: right;\n",
       "    }\n",
       "</style>\n",
       "<table border=\"1\" class=\"dataframe\">\n",
       "  <thead>\n",
       "    <tr style=\"text-align: right;\">\n",
       "      <th></th>\n",
       "      <th>count</th>\n",
       "      <th>mean</th>\n",
       "      <th>std</th>\n",
       "      <th>min</th>\n",
       "      <th>25%</th>\n",
       "      <th>50%</th>\n",
       "      <th>75%</th>\n",
       "      <th>max</th>\n",
       "    </tr>\n",
       "  </thead>\n",
       "  <tbody>\n",
       "    <tr>\n",
       "      <th>userid</th>\n",
       "      <td>30.0</td>\n",
       "      <td>45.500000</td>\n",
       "      <td>8.803408</td>\n",
       "      <td>31.0</td>\n",
       "      <td>38.25</td>\n",
       "      <td>45.5</td>\n",
       "      <td>52.75</td>\n",
       "      <td>60.0</td>\n",
       "    </tr>\n",
       "    <tr>\n",
       "      <th>spending</th>\n",
       "      <td>30.0</td>\n",
       "      <td>1624.566667</td>\n",
       "      <td>1252.884222</td>\n",
       "      <td>0.0</td>\n",
       "      <td>957.50</td>\n",
       "      <td>1419.5</td>\n",
       "      <td>2199.75</td>\n",
       "      <td>4600.0</td>\n",
       "    </tr>\n",
       "    <tr>\n",
       "      <th>age</th>\n",
       "      <td>30.0</td>\n",
       "      <td>38.733333</td>\n",
       "      <td>17.104009</td>\n",
       "      <td>16.0</td>\n",
       "      <td>25.00</td>\n",
       "      <td>33.0</td>\n",
       "      <td>49.75</td>\n",
       "      <td>79.0</td>\n",
       "    </tr>\n",
       "    <tr>\n",
       "      <th>visits</th>\n",
       "      <td>30.0</td>\n",
       "      <td>193.900000</td>\n",
       "      <td>323.071611</td>\n",
       "      <td>6.0</td>\n",
       "      <td>39.25</td>\n",
       "      <td>77.5</td>\n",
       "      <td>126.00</td>\n",
       "      <td>1250.0</td>\n",
       "    </tr>\n",
       "  </tbody>\n",
       "</table>\n",
       "</div>"
      ],
      "text/plain": [
       "          count         mean          std   min     25%     50%      75%  \\\n",
       "userid     30.0    45.500000     8.803408  31.0   38.25    45.5    52.75   \n",
       "spending   30.0  1624.566667  1252.884222   0.0  957.50  1419.5  2199.75   \n",
       "age        30.0    38.733333    17.104009  16.0   25.00    33.0    49.75   \n",
       "visits     30.0   193.900000   323.071611   6.0   39.25    77.5   126.00   \n",
       "\n",
       "             max  \n",
       "userid      60.0  \n",
       "spending  4600.0  \n",
       "age         79.0  \n",
       "visits    1250.0  "
      ]
     },
     "execution_count": 45,
     "metadata": {},
     "output_type": "execute_result"
    }
   ],
   "source": [
    "laptop.describe().T"
   ]
  },
  {
   "cell_type": "code",
   "execution_count": 46,
   "id": "db2aca5f",
   "metadata": {},
   "outputs": [
    {
     "data": {
      "text/plain": [
       "TtestResult(statistic=-2.109853741030508, pvalue=0.03919630411621095, df=58.0)"
      ]
     },
     "execution_count": 46,
     "metadata": {},
     "output_type": "execute_result"
    }
   ],
   "source": [
    "ttest_ind(desktop['spending'],laptop['spending'])"
   ]
  },
  {
   "cell_type": "code",
   "execution_count": null,
   "id": "b6b07107",
   "metadata": {},
   "outputs": [],
   "source": []
  }
 ],
 "metadata": {
  "kernelspec": {
   "display_name": "Python 3 (ipykernel)",
   "language": "python",
   "name": "python3"
  },
  "language_info": {
   "codemirror_mode": {
    "name": "ipython",
    "version": 3
   },
   "file_extension": ".py",
   "mimetype": "text/x-python",
   "name": "python",
   "nbconvert_exporter": "python",
   "pygments_lexer": "ipython3",
   "version": "3.11.7"
  }
 },
 "nbformat": 4,
 "nbformat_minor": 5
}
