{
 "cells": [
  {
   "cell_type": "code",
   "execution_count": 1,
   "id": "40dc496b",
   "metadata": {},
   "outputs": [
    {
     "data": {
      "text/plain": [
       "321"
      ]
     },
     "execution_count": 1,
     "metadata": {},
     "output_type": "execute_result"
    }
   ],
   "source": [
    "def reverse(x: int) -> int:\n",
    "    x = str(x)\n",
    "    sign = 1 \n",
    "    if x[0] == '-':\n",
    "        sign = -1\n",
    "        x = x[:0:-1]\n",
    "    else:\n",
    "        x = x[::-1]\n",
    "    x = int(x)*sign\n",
    "    if x > 2**31-1 or x < -2**31:\n",
    "        return 0\n",
    "    return x \n",
    "\n",
    "reverse(123)"
   ]
  },
  {
   "cell_type": "code",
   "execution_count": 44,
   "id": "4b2eeaca",
   "metadata": {},
   "outputs": [
    {
     "name": "stdout",
     "output_type": "stream",
     "text": [
      "1534236469\n"
     ]
    },
    {
     "data": {
      "text/plain": [
       "0"
      ]
     },
     "execution_count": 44,
     "metadata": {},
     "output_type": "execute_result"
    }
   ],
   "source": [
    "def reverse(x: int) -> int:\n",
    "    numstr = list(str(abs(x)))\n",
    "    print(x)\n",
    "    length=len(numstr)\n",
    "    #print(length)\n",
    "    i = 0\n",
    "    y = []\n",
    "    for num in range(length,0,-1):\n",
    "        #print(num)\n",
    "        y.append(numstr[num-1])\n",
    "    newnum = \"\".join(y) \n",
    "    if x < 0:\n",
    "        newnum = int(newnum)*-1\n",
    "    else:\n",
    "        newnum = int(newnum)\n",
    "    if newnum > 2**31-1 or newnum < -2**31:\n",
    "        return 0    \n",
    "    \n",
    "    #print(newnum)\n",
    "\n",
    "#reverse(-123)\n",
    "#reverse(123)\n",
    "reverse(1534236469)"
   ]
  },
  {
   "cell_type": "code",
   "execution_count": 97,
   "id": "0097418c",
   "metadata": {},
   "outputs": [
    {
     "data": {
      "text/plain": [
       "0"
      ]
     },
     "execution_count": 97,
     "metadata": {},
     "output_type": "execute_result"
    }
   ],
   "source": [
    "def reverse(x: int) -> int:\n",
    "    length=len(str(abs(x)))\n",
    "    new_x = abs(x)\n",
    "    #print(length)\n",
    "    #print(x)\n",
    "    y = []\n",
    "    #for i in range(length,0,-1):\n",
    "    for i in range(length):\n",
    "        #print(i)\n",
    "        #print(length)\n",
    "        #print(x)\n",
    "        #print(new_x%10)\n",
    "        y.append(new_x%10)\n",
    "        new_x = new_x//10\n",
    "        #print(y)\n",
    "   \n",
    "    newnum = \"\".join(map(str,y)) \n",
    "    if x < 0:\n",
    "        newnum = int(newnum)*-1\n",
    "    else:\n",
    "        newnum = int(newnum)\n",
    "    if newnum > 2**31-1 or newnum < -2**31:\n",
    "        return 0    \n",
    "    return(newnum)\n",
    "    #print(newnum)\n",
    "\n",
    "#reverse(-123)\n",
    "#reverse(123)\n",
    "reverse(1534236469)"
   ]
  },
  {
   "cell_type": "code",
   "execution_count": 93,
   "id": "cd5d55cb",
   "metadata": {},
   "outputs": [
    {
     "data": {
      "text/plain": [
       "4"
      ]
     },
     "execution_count": 93,
     "metadata": {},
     "output_type": "execute_result"
    }
   ],
   "source": [
    "-123456%10"
   ]
  },
  {
   "cell_type": "code",
   "execution_count": 71,
   "id": "1fac5a22",
   "metadata": {},
   "outputs": [
    {
     "data": {
      "text/plain": [
       "12345"
      ]
     },
     "execution_count": 71,
     "metadata": {},
     "output_type": "execute_result"
    }
   ],
   "source": [
    "123456//10"
   ]
  },
  {
   "cell_type": "code",
   "execution_count": null,
   "id": "55eb7e5a",
   "metadata": {},
   "outputs": [],
   "source": []
  }
 ],
 "metadata": {
  "kernelspec": {
   "display_name": "Python 3 (ipykernel)",
   "language": "python",
   "name": "python3"
  },
  "language_info": {
   "codemirror_mode": {
    "name": "ipython",
    "version": 3
   },
   "file_extension": ".py",
   "mimetype": "text/x-python",
   "name": "python",
   "nbconvert_exporter": "python",
   "pygments_lexer": "ipython3",
   "version": "3.11.7"
  }
 },
 "nbformat": 4,
 "nbformat_minor": 5
}
