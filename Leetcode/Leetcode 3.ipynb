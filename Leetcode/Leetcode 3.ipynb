{
 "cells": [
  {
   "cell_type": "code",
   "execution_count": 59,
   "id": "05921df6",
   "metadata": {},
   "outputs": [
    {
     "data": {
      "text/plain": [
       "14"
      ]
     },
     "execution_count": 59,
     "metadata": {},
     "output_type": "execute_result"
    }
   ],
   "source": [
    "len(\"djub0123456789\")"
   ]
  },
  {
   "cell_type": "code",
   "execution_count": 84,
   "id": "7f099da6",
   "metadata": {},
   "outputs": [
    {
     "name": "stdout",
     "output_type": "stream",
     "text": [
      "0\n",
      "{'p'}\n",
      "{'p', 'w'}\n",
      "1\n",
      "{'w'}\n",
      "2\n",
      "{'w'}\n",
      "{'k', 'w'}\n",
      "{'k', 'e', 'w'}\n"
     ]
    },
    {
     "data": {
      "text/plain": [
       "3"
      ]
     },
     "execution_count": 84,
     "metadata": {},
     "output_type": "execute_result"
    }
   ],
   "source": [
    "def lengthOfLongestSubstring(s: str) -> int:\n",
    "    s = list(s)\n",
    "    length = 0\n",
    "    character = set()\n",
    "    for i in range(len(s)):\n",
    "        print(i)\n",
    "        pointer = i\n",
    "        cur_length = 0\n",
    "        while pointer < len(s):\n",
    "            if s[pointer] not in character:\n",
    "                cur_length +=1\n",
    "                character.update(s[pointer])\n",
    "            else:\n",
    "                break\n",
    "            print(character)    \n",
    "            pointer += 1            \n",
    "        length = max(length, cur_length)\n",
    "        if length + i +1 > len(s)-1:\n",
    "            break\n",
    "        character.clear()          \n",
    "    return max(length, cur_length)\n",
    "\n",
    "#lengthOfLongestSubstring(\"abcdabceffff\")    \n",
    "lengthOfLongestSubstring(\"pwwkew\")   "
   ]
  },
  {
   "cell_type": "code",
   "execution_count": null,
   "id": "01b192c7",
   "metadata": {},
   "outputs": [],
   "source": []
  }
 ],
 "metadata": {
  "kernelspec": {
   "display_name": "Python 3 (ipykernel)",
   "language": "python",
   "name": "python3"
  },
  "language_info": {
   "codemirror_mode": {
    "name": "ipython",
    "version": 3
   },
   "file_extension": ".py",
   "mimetype": "text/x-python",
   "name": "python",
   "nbconvert_exporter": "python",
   "pygments_lexer": "ipython3",
   "version": "3.11.7"
  }
 },
 "nbformat": 4,
 "nbformat_minor": 5
}
