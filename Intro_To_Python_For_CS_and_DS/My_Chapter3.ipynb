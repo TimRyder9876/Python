{
 "cells": [
  {
   "cell_type": "code",
   "execution_count": 3,
   "id": "1a258b03",
   "metadata": {},
   "outputs": [
    {
     "name": "stdout",
     "output_type": "stream",
     "text": [
      "a =  7 \n",
      "b =  7\n"
     ]
    }
   ],
   "source": [
    "# Ex 3.2\n",
    "a = b = 7\n",
    "print('a = ',a, '\\nb = ',b)"
   ]
  },
  {
   "cell_type": "code",
   "execution_count": 6,
   "id": "26af31c2",
   "metadata": {},
   "outputs": [
    {
     "name": "stdout",
     "output_type": "stream",
     "text": [
      "What is your problem?hot\n",
      "Have you had this problem before (yes or no) ?no\n",
      "Well, you have it now\n"
     ]
    }
   ],
   "source": [
    "# Ex 3.6\n",
    "input('What is your problem?')\n",
    "answer = input('Have you had this problem before (yes or no) ?')\n",
    "if answer == 'yes':\n",
    "    print('Well, you have it again')\n",
    "else: print('Well, you have it now')"
   ]
  },
  {
   "cell_type": "code",
   "execution_count": 37,
   "id": "27d8516a",
   "metadata": {},
   "outputs": [
    {
     "name": "stdout",
     "output_type": "stream",
     "text": [
      "number \tsquare \t cube\n",
      "     0       0      0\n",
      "     1       1      1\n",
      "     2       4      8\n",
      "     3       9     27\n",
      "     4      16     64\n",
      "     5      25    125\n"
     ]
    }
   ],
   "source": [
    "# Ex 3.7\n",
    "print(f'number','\\tsquare','\\t cube')\n",
    "for i in range(6):\n",
    "    print('{:>6} {:>7} {:>6}'.format(i, i**2, i**3))"
   ]
  },
  {
   "cell_type": "code",
   "execution_count": 43,
   "id": "666ae90f",
   "metadata": {},
   "outputs": [
    {
     "name": "stdout",
     "output_type": "stream",
     "text": [
      "Enter an integer: 4\n",
      "Enter an integer: 1\n",
      "Enter an integer: 5\n",
      "Enter an integer: 7\n",
      "Sum: 17\n",
      "Average: 4.25\n",
      "Product: 140\n",
      "Minimum: 1\n",
      "Maximum: 7\n"
     ]
    }
   ],
   "source": [
    "#Ex 3.8\n",
    "import numpy as np\n",
    "x = []\n",
    "for i in range(0,4):\n",
    "    response = int(input('Enter an integer: '))\n",
    "    x.append(response)\n",
    "print('Sum:',sum(x))\n",
    "print('Average:', sum(x)/len(x))\n",
    "print('Product:', np.prod(x))\n",
    "print('Minimum:', min(x))\n",
    "print('Maximum:', max(x))"
   ]
  },
  {
   "cell_type": "code",
   "execution_count": 63,
   "id": "e1c92910",
   "metadata": {},
   "outputs": [
    {
     "name": "stdout",
     "output_type": "stream",
     "text": [
      "15823\n",
      "15823\n",
      "5823\n",
      "823\n",
      "23\n",
      "3\n"
     ]
    }
   ],
   "source": [
    "# Ex 3.9\n",
    "x = np.random.randint(10000,99999)\n",
    "print(x)\n",
    "for i in range(len(str(x)),0,-1):\n",
    "    y = 10**i\n",
    "    print(x%y)"
   ]
  },
  {
   "cell_type": "code",
   "execution_count": 69,
   "id": "234a2ebc",
   "metadata": {},
   "outputs": [
    {
     "name": "stdout",
     "output_type": "stream",
     "text": [
      "Enter the gallons used (-1 to end): 8\n",
      "Enter the miles driven: 100\n",
      "The miles/gallonn for this tank is 12.5\n",
      "Enter the gallons used (-1 to end): 12\n",
      "Enter the miles driven: 120\n",
      "The miles/gallonn for this tank is 10.0\n",
      "Enter the gallons used (-1 to end): -1\n",
      "The overall average miles/gallon is 11.0\n"
     ]
    }
   ],
   "source": [
    "# Ex 3.11\n",
    "total_gallons = 0\n",
    "total_miles = 0\n",
    "\n",
    "gallons_used = int(input('Enter the gallons used (-1 to end): '))\n",
    "while gallons_used != -1:\n",
    "    miles_driven = int(input('Enter the miles driven: '))\n",
    "    print('The miles/gallonn for this tank is {}'.format(miles_driven/gallons_used))\n",
    "    total_gallons += gallons_used\n",
    "    total_miles += miles_driven\n",
    "    gallons_used = int(input('Enter the gallons used (-1 to end): '))\n",
    "if total_gallons != 0:\n",
    "    print('The overall average miles/gallon is {}'.format(total_miles/total_gallons))"
   ]
  },
  {
   "cell_type": "code",
   "execution_count": 86,
   "id": "9ecaae47",
   "metadata": {},
   "outputs": [
    {
     "name": "stdout",
     "output_type": "stream",
     "text": [
      "Number 90834 is not a palindrome\n",
      "9\n",
      "0\n",
      "3\n",
      "4\n"
     ]
    }
   ],
   "source": [
    "# Ex 3.12\n",
    "a = 90834\n",
    "val1 = a//10000\n",
    "val2 = a%10000//1000\n",
    "val4 = a%100//10\n",
    "val5 = a%10\n",
    "if val1 == val5 and val2 == val4:\n",
    "    print('Number {} is a palindrome'.format(a))\n",
    "else:\n",
    "    print('Number {} is not a palindrome'.format(a))\n",
    "print(val1)\n",
    "print(val2)\n",
    "print(val4)\n",
    "print(val5)"
   ]
  },
  {
   "cell_type": "code",
   "execution_count": 89,
   "id": "00711a61",
   "metadata": {},
   "outputs": [
    {
     "name": "stdout",
     "output_type": "stream",
     "text": [
      "n=1, factorial = 1\n",
      "n=2, factorial = 2\n",
      "n=3, factorial = 6\n",
      "n=4, factorial = 24\n",
      "n=5, factorial = 120\n",
      "n=6, factorial = 720\n",
      "n=7, factorial = 5040\n",
      "n=8, factorial = 40320\n",
      "n=9, factorial = 362880\n",
      "n=10, factorial = 3628800\n"
     ]
    }
   ],
   "source": [
    "# Ex 3.13\n",
    "a = 10\n",
    "fact = 1\n",
    "for i in range(1,a+1):\n",
    "    fact *= i\n",
    "    print('n={}, factorial = {}'.format(i,fact))"
   ]
  },
  {
   "cell_type": "code",
   "execution_count": 140,
   "id": "1147e584",
   "metadata": {},
   "outputs": [
    {
     "name": "stdout",
     "output_type": "stream",
     "text": [
      "3.1414500002381582\n"
     ]
    }
   ],
   "source": [
    "# Ex 3.14\n",
    "a = 7011\n",
    "pi = 0\n",
    "for i in range(1,a):\n",
    "    x = i*2-1\n",
    "    if i%2 == 1:\n",
    "        pi+= 4/x\n",
    "    else: \n",
    "        pi-=4/x\n",
    "print(pi)    "
   ]
  },
  {
   "cell_type": "code",
   "execution_count": 139,
   "id": "f8c94af1",
   "metadata": {},
   "outputs": [
    {
     "name": "stdout",
     "output_type": "stream",
     "text": [
      "3.141450000238165206309295322\n",
      "7011\n"
     ]
    }
   ],
   "source": [
    "# Ex 3.14\n",
    "from decimal import Decimal\n",
    "\n",
    "const = Decimal('4')\n",
    "count = 1\n",
    "x = 0\n",
    "\n",
    "while round(x,4) != Decimal('3.1415'):\n",
    "    if count%2 == 0:\n",
    "        x -= (const/((count*2)-1))\n",
    "    else:\n",
    "        x += (const/((count*2)-1))\n",
    "    count += 1\n",
    "print(x)\n",
    "print(count)"
   ]
  },
  {
   "cell_type": "code",
   "execution_count": 151,
   "id": "b2bba264",
   "metadata": {},
   "outputs": [
    {
     "name": "stdout",
     "output_type": "stream",
     "text": [
      "Mean: 23.444444444444443\n",
      "Median: 22.0\n",
      "Mode: 22\n",
      "Mean: 25.363636363636363\n",
      "Median: 22.0\n",
      "Mode: 34\n"
     ]
    }
   ],
   "source": [
    "# Ex 3.28\n",
    "import statistics\n",
    "x = [9,11,22,34,17,22,34,22,40]\n",
    "\n",
    "print('Mean: {}'.format(np.mean(x)))\n",
    "print('Median: {}'.format(np.median(x)))\n",
    "print('Mode: {}'.format(statistics.mode(x)))\n",
    "\n",
    "\n",
    "y = [9,11,22,34,17,22,34,22,40,34]\n",
    "\n",
    "print('Mean: {}'.format(np.mean(y)))\n",
    "print('Median: {}'.format(np.median(y)))0\n",
    "print('Mode: {}'.format(statistics.mode(y)))"
   ]
  },
  {
   "cell_type": "code",
   "execution_count": 159,
   "id": "af5d9c99",
   "metadata": {},
   "outputs": [
    {
     "name": "stdout",
     "output_type": "stream",
     "text": [
      "Purchase Price: 53\n",
      "Change 47\n",
      "Quarters:1\n",
      "Dimes:2\n",
      "Nickels:0\n",
      "Pennies:2\n"
     ]
    }
   ],
   "source": [
    "# Ex 3.21\n",
    "\n",
    "purchase_price = np.random.randint(1,101)\n",
    "print('Purchase Price:',purchase_price)\n",
    "\n",
    "change = 100-purchase_price\n",
    "print('Change',change)\n",
    "\n",
    "\n",
    "quarters = change//25\n",
    "print('Quarters:{}'.format(quarters))\n",
    "\n",
    "dimes = change%25//10\n",
    "print('Dimes:{}'.format(dimes))  \n",
    "\n",
    "nickels = change%25%10//5\n",
    "print('Nickels:{}'.format(nickels))\n",
    "\n",
    "pennies = change%5\n",
    "print('Pennies:{}'.format(pennies))\n",
    "    "
   ]
  },
  {
   "cell_type": "code",
   "execution_count": 160,
   "id": "d30357d0",
   "metadata": {},
   "outputs": [
    {
     "name": "stdout",
     "output_type": "stream",
     "text": [
      "Collecting prospector\n",
      "  Downloading prospector-1.12.1-py3-none-any.whl.metadata (9.9 kB)\n",
      "Requirement already satisfied: GitPython<4.0.0,>=3.1.27 in c:\\users\\timry\\anaconda3\\lib\\site-packages (from prospector) (3.1.37)\n",
      "Requirement already satisfied: PyYAML in c:\\users\\timry\\anaconda3\\lib\\site-packages (from prospector) (6.0.1)\n",
      "Collecting dodgy<0.3.0,>=0.2.1 (from prospector)\n",
      "  Downloading dodgy-0.2.1-py3-none-any.whl.metadata (819 bytes)\n",
      "Requirement already satisfied: flake8 in c:\\users\\timry\\anaconda3\\lib\\site-packages (from prospector) (6.0.0)\n",
      "Requirement already satisfied: mccabe<0.8.0,>=0.7.0 in c:\\users\\timry\\anaconda3\\lib\\site-packages (from prospector) (0.7.0)\n",
      "Requirement already satisfied: packaging in c:\\users\\timry\\anaconda3\\lib\\site-packages (from prospector) (23.1)\n",
      "Collecting pep8-naming<=0.10.0,>=0.3.3 (from prospector)\n",
      "  Downloading pep8_naming-0.10.0-py2.py3-none-any.whl.metadata (4.7 kB)\n",
      "Requirement already satisfied: pycodestyle>=2.9.0 in c:\\users\\timry\\anaconda3\\lib\\site-packages (from prospector) (2.10.0)\n",
      "Requirement already satisfied: pydocstyle>=2.0.0 in c:\\users\\timry\\anaconda3\\lib\\site-packages (from prospector) (6.3.0)\n",
      "Requirement already satisfied: pyflakes>=2.2.0 in c:\\users\\timry\\anaconda3\\lib\\site-packages (from prospector) (3.0.1)\n",
      "Collecting pylint>=3.0 (from prospector)\n",
      "  Downloading pylint-3.3.1-py3-none-any.whl.metadata (12 kB)\n",
      "Collecting pylint-celery==0.3 (from prospector)\n",
      "  Downloading pylint-celery-0.3.tar.gz (1.9 kB)\n",
      "  Preparing metadata (setup.py): started\n",
      "  Preparing metadata (setup.py): finished with status 'done'\n",
      "Collecting pylint-django>=2.6.1 (from prospector)\n",
      "  Downloading pylint_django-2.6.1-py3-none-any.whl.metadata (7.1 kB)\n",
      "Collecting pylint-flask==0.6 (from prospector)\n",
      "  Downloading pylint-flask-0.6.tar.gz (10.0 kB)\n",
      "  Preparing metadata (setup.py): started\n",
      "  Preparing metadata (setup.py): finished with status 'done'\n",
      "Collecting requirements-detector>=1.3.1 (from prospector)\n",
      "  Downloading requirements_detector-1.3.1-py3-none-any.whl.metadata (3.7 kB)\n",
      "Collecting setoptconf-tmp<0.4.0,>=0.3.1 (from prospector)\n",
      "  Downloading setoptconf_tmp-0.3.1-py3-none-any.whl.metadata (3.2 kB)\n",
      "Requirement already satisfied: toml<0.11.0,>=0.10.2 in c:\\users\\timry\\anaconda3\\lib\\site-packages (from prospector) (0.10.2)\n",
      "Requirement already satisfied: astroid>=1.0 in c:\\users\\timry\\anaconda3\\lib\\site-packages (from pylint-celery==0.3->prospector) (2.14.2)\n",
      "Collecting pylint-plugin-utils>=0.2.1 (from pylint-celery==0.3->prospector)\n",
      "  Downloading pylint_plugin_utils-0.8.2-py3-none-any.whl.metadata (3.0 kB)\n",
      "Requirement already satisfied: gitdb<5,>=4.0.1 in c:\\users\\timry\\anaconda3\\lib\\site-packages (from GitPython<4.0.0,>=3.1.27->prospector) (4.0.7)\n",
      "Collecting flake8-polyfill<2,>=1.0.2 (from pep8-naming<=0.10.0,>=0.3.3->prospector)\n",
      "  Downloading flake8_polyfill-1.0.2-py2.py3-none-any.whl.metadata (4.0 kB)\n",
      "Requirement already satisfied: snowballstemmer>=2.2.0 in c:\\users\\timry\\anaconda3\\lib\\site-packages (from pydocstyle>=2.0.0->prospector) (2.2.0)\n",
      "Requirement already satisfied: platformdirs>=2.2.0 in c:\\users\\timry\\anaconda3\\lib\\site-packages (from pylint>=3.0->prospector) (3.10.0)\n",
      "Collecting astroid>=1.0 (from pylint-celery==0.3->prospector)\n",
      "  Downloading astroid-3.3.5-py3-none-any.whl.metadata (4.5 kB)\n",
      "Requirement already satisfied: isort!=5.13.0,<6,>=4.2.5 in c:\\users\\timry\\anaconda3\\lib\\site-packages (from pylint>=3.0->prospector) (5.9.3)\n",
      "Requirement already satisfied: tomlkit>=0.10.1 in c:\\users\\timry\\anaconda3\\lib\\site-packages (from pylint>=3.0->prospector) (0.11.1)\n",
      "Requirement already satisfied: dill>=0.3.6 in c:\\users\\timry\\anaconda3\\lib\\site-packages (from pylint>=3.0->prospector) (0.3.7)\n",
      "Requirement already satisfied: colorama>=0.4.5 in c:\\users\\timry\\anaconda3\\lib\\site-packages (from pylint>=3.0->prospector) (0.4.6)\n",
      "Collecting semver<4.0.0,>=3.0.0 (from requirements-detector>=1.3.1->prospector)\n",
      "  Downloading semver-3.0.2-py3-none-any.whl.metadata (5.0 kB)\n",
      "Requirement already satisfied: smmap<5,>=3.0.1 in c:\\users\\timry\\anaconda3\\lib\\site-packages (from gitdb<5,>=4.0.1->GitPython<4.0.0,>=3.1.27->prospector) (4.0.0)\n",
      "Downloading prospector-1.12.1-py3-none-any.whl (77 kB)\n",
      "   ---------------------------------------- 0.0/77.9 kB ? eta -:--:--\n",
      "   ---------------------------------------- 77.9/77.9 kB 1.4 MB/s eta 0:00:00\n",
      "Downloading dodgy-0.2.1-py3-none-any.whl (5.4 kB)\n",
      "Downloading pep8_naming-0.10.0-py2.py3-none-any.whl (8.1 kB)\n",
      "Downloading pylint-3.3.1-py3-none-any.whl (521 kB)\n",
      "   ---------------------------------------- 0.0/521.8 kB ? eta -:--:--\n",
      "   ------------------------- ------------- 337.9/521.8 kB 20.5 MB/s eta 0:00:01\n",
      "   ---------------------------------------- 521.8/521.8 kB 8.1 MB/s eta 0:00:00\n",
      "Downloading pylint_django-2.6.1-py3-none-any.whl (42 kB)\n",
      "   ---------------------------------------- 0.0/42.9 kB ? eta -:--:--\n",
      "   ---------------------------------------- 42.9/42.9 kB ? eta 0:00:00\n",
      "Downloading requirements_detector-1.3.1-py3-none-any.whl (20 kB)\n",
      "Downloading setoptconf_tmp-0.3.1-py3-none-any.whl (32 kB)\n",
      "Downloading astroid-3.3.5-py3-none-any.whl (274 kB)\n",
      "   ---------------------------------------- 0.0/274.6 kB ? eta -:--:--\n",
      "   --------------------------------------- 274.6/274.6 kB 16.5 MB/s eta 0:00:00\n",
      "Downloading flake8_polyfill-1.0.2-py2.py3-none-any.whl (7.3 kB)\n",
      "Downloading pylint_plugin_utils-0.8.2-py3-none-any.whl (11 kB)\n",
      "Downloading semver-3.0.2-py3-none-any.whl (17 kB)\n",
      "Building wheels for collected packages: pylint-celery, pylint-flask\n",
      "  Building wheel for pylint-celery (setup.py): started\n",
      "  Building wheel for pylint-celery (setup.py): finished with status 'done'\n",
      "  Created wheel for pylint-celery: filename=pylint_celery-0.3-py3-none-any.whl size=1718 sha256=6d90fa6d1818bf1ee762005977374a7aa7e272c6ec24a3153e18e9d1d49bdcd1\n",
      "  Stored in directory: c:\\users\\timry\\appdata\\local\\pip\\cache\\wheels\\a4\\92\\24\\a9598b2b0c55eee702cafd5ec44b7d54b56e577bf0e6101d2c\n",
      "  Building wheel for pylint-flask (setup.py): started\n",
      "  Building wheel for pylint-flask (setup.py): finished with status 'done'\n",
      "  Created wheel for pylint-flask: filename=pylint_flask-0.6-py3-none-any.whl size=9779 sha256=f6f8ce25433a02fba1efafc9459692b723c084ac78427af8c4866b31acf5c48c\n",
      "  Stored in directory: c:\\users\\timry\\appdata\\local\\pip\\cache\\wheels\\af\\53\\e5\\7a3639192c385f5a8489715a19c930307f12aabda47eacbeaf\n",
      "Successfully built pylint-celery pylint-flask\n",
      "Installing collected packages: setoptconf-tmp, dodgy, semver, astroid, requirements-detector, pylint, flake8-polyfill, pylint-plugin-utils, pep8-naming, pylint-flask, pylint-django, pylint-celery, prospector\n",
      "  Attempting uninstall: semver\n",
      "    Found existing installation: semver 2.13.0\n",
      "    Uninstalling semver-2.13.0:\n",
      "      Successfully uninstalled semver-2.13.0\n",
      "  Attempting uninstall: astroid\n",
      "    Found existing installation: astroid 2.14.2\n",
      "    Uninstalling astroid-2.14.2:\n",
      "      Successfully uninstalled astroid-2.14.2\n",
      "  Attempting uninstall: pylint\n",
      "    Found existing installation: pylint 2.16.2\n",
      "    Uninstalling pylint-2.16.2:\n",
      "      Successfully uninstalled pylint-2.16.2\n",
      "Successfully installed astroid-3.3.5 dodgy-0.2.1 flake8-polyfill-1.0.2 pep8-naming-0.10.0 prospector-1.12.1 pylint-3.3.1 pylint-celery-0.3 pylint-django-2.6.1 pylint-flask-0.6 pylint-plugin-utils-0.8.2 requirements-detector-1.3.1 semver-3.0.2 setoptconf-tmp-0.3.1\n",
      "Note: you may need to restart the kernel to use updated packages.\n"
     ]
    },
    {
     "name": "stderr",
     "output_type": "stream",
     "text": [
      "ERROR: pip's dependency resolver does not currently take into account all the packages that are installed. This behaviour is the source of the following dependency conflicts.\n",
      "spyder 5.4.3 requires pylint<3.0,>=2.5.0, but you have pylint 3.3.1 which is incompatible.\n"
     ]
    }
   ],
   "source": [
    "pip install prospector"
   ]
  },
  {
   "cell_type": "code",
   "execution_count": 161,
   "id": "3e764816",
   "metadata": {},
   "outputs": [
    {
     "ename": "NameError",
     "evalue": "name 'prospector' is not defined",
     "output_type": "error",
     "traceback": [
      "\u001b[1;31m---------------------------------------------------------------------------\u001b[0m",
      "\u001b[1;31mNameError\u001b[0m                                 Traceback (most recent call last)",
      "Cell \u001b[1;32mIn[161], line 1\u001b[0m\n\u001b[1;32m----> 1\u001b[0m prospector\n",
      "\u001b[1;31mNameError\u001b[0m: name 'prospector' is not defined"
     ]
    }
   ],
   "source": [
    "prospector"
   ]
  },
  {
   "cell_type": "code",
   "execution_count": null,
   "id": "a7f65a1e",
   "metadata": {},
   "outputs": [],
   "source": []
  }
 ],
 "metadata": {
  "kernelspec": {
   "display_name": "Python 3 (ipykernel)",
   "language": "python",
   "name": "python3"
  },
  "language_info": {
   "codemirror_mode": {
    "name": "ipython",
    "version": 3
   },
   "file_extension": ".py",
   "mimetype": "text/x-python",
   "name": "python",
   "nbconvert_exporter": "python",
   "pygments_lexer": "ipython3",
   "version": "3.11.7"
  }
 },
 "nbformat": 4,
 "nbformat_minor": 5
}
