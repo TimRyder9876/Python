{
 "cells": [
  {
   "cell_type": "code",
   "execution_count": 2,
   "id": "da5c4655-7666-4796-8288-28ff28c912c3",
   "metadata": {},
   "outputs": [],
   "source": [
    "x = [[3, 7, 9],\n",
    "     [9,5,2]]"
   ]
  },
  {
   "cell_type": "code",
   "execution_count": 6,
   "id": "ec3a9038-72ed-41bf-8104-9e1784ab01c3",
   "metadata": {},
   "outputs": [
    {
     "name": "stdout",
     "output_type": "stream",
     "text": [
      "0:3 1:7 2:9 \n",
      "0:9 1:5 2:2 \n"
     ]
    }
   ],
   "source": [
    "for i, row in enumerate(x):\n",
    "    for j, item in enumerate(row):\n",
    "        print(f'{j}:{item}', end=' ')\n",
    "    print()"
   ]
  },
  {
   "cell_type": "code",
   "execution_count": 7,
   "id": "f3883625-c41f-4601-9d8c-2f2ee21fc662",
   "metadata": {},
   "outputs": [],
   "source": [
    "#exercise 5.5\n",
    "alpha = 'abcdefghijklmnopqrstuvwxyz'"
   ]
  },
  {
   "cell_type": "code",
   "execution_count": 14,
   "id": "05b32a3e-212c-4ab2-9e2b-f09926a16c9d",
   "metadata": {},
   "outputs": [
    {
     "name": "stdout",
     "output_type": "stream",
     "text": [
      "26\n"
     ]
    }
   ],
   "source": [
    "print (len(alpha))"
   ]
  },
  {
   "cell_type": "code",
   "execution_count": 18,
   "id": "850c499d-d6b6-4361-b3d8-677cdd582142",
   "metadata": {},
   "outputs": [
    {
     "name": "stdout",
     "output_type": "stream",
     "text": [
      "abcdefghijklmnopqrstuvwxyz\n"
     ]
    }
   ],
   "source": [
    "first_alpha = alpha[0:len(alpha)]\n",
    "print(first_alpha)"
   ]
  },
  {
   "cell_type": "code",
   "execution_count": 22,
   "id": "c37a7589-0609-4d9a-96c6-9511bd1b0d8e",
   "metadata": {},
   "outputs": [
    {
     "data": {
      "text/plain": [
       "'abcdefghijklm'"
      ]
     },
     "execution_count": 22,
     "metadata": {},
     "output_type": "execute_result"
    }
   ],
   "source": [
    "alpha[0:round(len(alpha)/2)]"
   ]
  },
  {
   "cell_type": "code",
   "execution_count": 23,
   "id": "de393857-cdea-4559-95b7-dabb02f21f62",
   "metadata": {},
   "outputs": [
    {
     "data": {
      "text/plain": [
       "'abcdefghijklm'"
      ]
     },
     "execution_count": 23,
     "metadata": {},
     "output_type": "execute_result"
    }
   ],
   "source": [
    "alpha[:round(len(alpha)/2)]"
   ]
  },
  {
   "cell_type": "raw",
   "id": "44d5992b-5279-4e8b-87b3-0d52bcabdafa",
   "metadata": {},
   "source": [
    "alpha[round(len(alpha)/2):26]"
   ]
  },
  {
   "cell_type": "code",
   "execution_count": 28,
   "id": "3856582d-3c7f-4738-a826-80645fea7b3e",
   "metadata": {},
   "outputs": [
    {
     "data": {
      "text/plain": [
       "'nopqrstuvwxyz'"
      ]
     },
     "execution_count": 28,
     "metadata": {},
     "output_type": "execute_result"
    }
   ],
   "source": [
    "alpha[round(len(alpha)/2):]"
   ]
  },
  {
   "cell_type": "code",
   "execution_count": 29,
   "id": "23308382-ab6c-494c-8dff-ed122cf8ca97",
   "metadata": {},
   "outputs": [
    {
     "data": {
      "text/plain": [
       "'acegikmoqsuwy'"
      ]
     },
     "execution_count": 29,
     "metadata": {},
     "output_type": "execute_result"
    }
   ],
   "source": [
    "alpha[0::2]"
   ]
  },
  {
   "cell_type": "code",
   "execution_count": 35,
   "id": "5d9fbc1b-014d-4e63-a7df-9bd2c4565ffb",
   "metadata": {},
   "outputs": [
    {
     "data": {
      "text/plain": [
       "'zyxwvutsrqponmlkjihgfedcba'"
      ]
     },
     "execution_count": 35,
     "metadata": {},
     "output_type": "execute_result"
    }
   ],
   "source": [
    "alpha[-1::-1]"
   ]
  },
  {
   "cell_type": "code",
   "execution_count": 36,
   "id": "9b707be6-4c0b-46b3-ba59-d53e32f871d9",
   "metadata": {},
   "outputs": [
    {
     "data": {
      "text/plain": [
       "'zwtqnkheb'"
      ]
     },
     "execution_count": 36,
     "metadata": {},
     "output_type": "execute_result"
    }
   ],
   "source": [
    "alpha[-1::-3]"
   ]
  },
  {
   "cell_type": "code",
   "execution_count": 1,
   "id": "9a4161b8-c75a-48c8-8648-2ee1c833bc68",
   "metadata": {},
   "outputs": [
    {
     "data": {
      "text/plain": [
       "(1984, 'Doug', 22)"
      ]
     },
     "execution_count": 1,
     "metadata": {},
     "output_type": "execute_result"
    }
   ],
   "source": [
    "#exercise 5.6\n",
    "def rotate(a,b,c):\n",
    "    return(c, a, b)\n",
    "rotate('Doug', 22, 1984)    "
   ]
  },
  {
   "cell_type": "code",
   "execution_count": 62,
   "id": "d86081d5-098f-460e-be2a-74f08b0118ff",
   "metadata": {},
   "outputs": [
    {
     "name": "stdout",
     "output_type": "stream",
     "text": [
      "a\n",
      "j\n",
      "g\n",
      "e\n",
      "o\n",
      "k\n",
      "l\n",
      "w\n",
      "['a', 'j', 'g', 'e', 'o', 'k', 'l', 'w']\n"
     ]
    }
   ],
   "source": [
    "#exercise 5.7\n",
    "def get_unique_values(input_list):\n",
    "    list_of_unique_values = []\n",
    "    for item in input_list:\n",
    "        if item not in list_of_unique_values:\n",
    "            list_of_unique_values.append(item)\n",
    "            print(item)\n",
    "    return list_of_unique_values\n",
    "    \n",
    "#input_list = [5, 8, 5, 3, 12, 4, 9, 32]\n",
    "input_list = 'aajgeokjelw'\n",
    "print(get_unique_values(input_list))    \n",
    "    "
   ]
  },
  {
   "cell_type": "code",
   "execution_count": 41,
   "id": "94d5fdb1-81ac-4670-9139-6ff494a75ed8",
   "metadata": {},
   "outputs": [
    {
     "name": "stdout",
     "output_type": "stream",
     "text": [
      "[2, 3, 5, 7, 11, 13, 17, 19, 23, 29, 31, 37, 41, 43, 47, 53, 59, 61, 67, 71, 73, 79, 83, 89, 97, 101, 103, 107, 109, 113, 127, 131, 137, 139, 149, 151, 157, 163, 167, 173, 179, 181, 191, 193, 197, 199, 211, 223, 227, 229, 233, 239, 241, 251, 257, 263, 269, 271, 277, 281, 283, 293, 307, 311, 313, 317, 331, 337, 347, 349, 353, 359, 367, 373, 379, 383, 389, 397, 401, 409, 419, 421, 431, 433, 439, 443, 449, 457, 461, 463, 467, 479, 487, 491, 499, 503, 509, 521, 523, 541, 547, 557, 563, 569, 571, 577, 587, 593, 599, 601, 607, 613, 617, 619, 631, 641, 643, 647, 653, 659, 661, 673, 677, 683, 691, 701, 709, 719, 727, 733, 739, 743, 751, 757, 761, 769, 773, 787, 797, 809, 811, 821, 823, 827, 829, 839, 853, 857, 859, 863, 877, 881, 883, 887, 907, 911, 919, 929, 937, 941, 947, 953, 967, 971, 977, 983, 991, 997]\n"
     ]
    }
   ],
   "source": [
    "def prime_list(numbers):\n",
    "    primes = [True] * numbers\n",
    "    # print(f'{primes}', end='')\n",
    "\n",
    "    for num in range(2, int(numbers**0.5)+1):\n",
    "        if primes[num] == True:\n",
    "            for multiple in range(num * num, numbers, num):\n",
    "                primes[multiple] = False\n",
    "\n",
    "    # Collect and display the prime numbers\n",
    "    prime_numbers = [num for num, is_prime in enumerate(primes) if is_prime and num > 1]\n",
    "    return prime_numbers\n",
    "\n",
    "\n",
    "numbers = 1000\n",
    "prime_numbers = prime_list(numbers)\n",
    "print(prime_numbers)\n",
    "\n",
    "        \n",
    "    "
   ]
  },
  {
   "cell_type": "code",
   "execution_count": 87,
   "id": "577bb61e-4137-403a-9941-86e67ed2a2b1",
   "metadata": {},
   "outputs": [
    {
     "name": "stdout",
     "output_type": "stream",
     "text": [
      "NAYAN\n",
      "['N']\n",
      "['N', 'A']\n",
      "['N', 'A', 'Y']\n",
      "['N', 'A', 'Y', 'A']\n",
      "['N', 'A', 'Y', 'A', 'N']\n",
      "Palindrome\n"
     ]
    }
   ],
   "source": [
    "#5.9 Palindrome test\n",
    "# Create the palindrome test\n",
    "def is_palindrome(palindrome_test):\n",
    "    stack = []\n",
    "    print(palindrome_test)\n",
    "    #create a stack of the list\n",
    "    for i in range(0, len(palindrome_test)):\n",
    "        stack.append(palindrome_test[i])\n",
    "        print(stack)\n",
    "    if stack[:]==stack[::-1]:\n",
    "        return 'Palindrome'\n",
    "    else: \n",
    "        return 'Not a palindrome'\n",
    "        \n",
    "    \n",
    "#make a list of the string\n",
    "\n",
    "\n",
    "\n",
    "#provide string\n",
    "input_string = []\n",
    "x = 'nayaN'\n",
    "#ignore case sensitivity\n",
    "palindrome_test = x.upper()\n",
    "result = is_palindrome(palindrome_test)\n",
    "print(result)\n",
    "#input_string"
   ]
  },
  {
   "cell_type": "code",
   "execution_count": 103,
   "id": "0e68d6ee-539b-4ff2-a6d3-6efbaa74d497",
   "metadata": {},
   "outputs": [
    {
     "name": "stdout",
     "output_type": "stream",
     "text": [
      "('a', 'p', 'p', 'l', 'e')\n",
      "5\n"
     ]
    }
   ],
   "source": [
    "#ex 5.10 anagram\n",
    "#Find all combinations of a string input for anagrams\n",
    "\n",
    "\n",
    "#put anagram into list\n",
    "#goes through list re-ordering strin\n",
    "\n",
    "def permutations(iterable, start = 0):\n",
    "\n",
    "    pool = tuple(iterable)\n",
    "    print(pool)            \n",
    "    n = len(pool)\n",
    "    print(n)\n",
    "    r = n\n",
    "\n",
    "    #if start == len(iterable) - 1:\n",
    "    #    print(\"\".\n",
    "\n",
    "#for i in range(start, n):\n",
    "        \n",
    "    \n",
    "#input anagram\n",
    "input_string = 'apple'\n",
    "input_list = list(input_string)\n",
    "anagrams = permutations(input_string)\n",
    "                 "
   ]
  },
  {
   "cell_type": "code",
   "execution_count": 110,
   "id": "45ae7767-71f3-4206-92ce-fafe56ba44ed",
   "metadata": {},
   "outputs": [
    {
     "name": "stdout",
     "output_type": "stream",
     "text": [
      "abc ['a', 'b', 'c']\n",
      "acb ['a', 'c', 'b']\n",
      "bac ['b', 'a', 'c']\n",
      "bca ['b', 'c', 'a']\n",
      "cba ['c', 'b', 'a']\n",
      "cab ['c', 'a', 'b']\n"
     ]
    }
   ],
   "source": [
    "#ex 5.10 anagram\n",
    "#Find all combinations of a string input for anagrams\n",
    "\n",
    "def generate_anagrams(s, start=0):\n",
    "    if start == len(s) - 1:\n",
    "        print(\"\".join(s), end=' ')\n",
    "        print(s)\n",
    "        return\n",
    "    \n",
    "    for i in range(start, len(s)):\n",
    "        # Swap the characters at indices 'start' and 'i'\n",
    "        s[start], s[i] = s[i], s[start]\n",
    "        \n",
    "        # Recur with the next character\n",
    "        generate_anagrams(s, start + 1)\n",
    "        \n",
    "        # Backtrack: Swap the characters back to their original positions\n",
    "        s[start], s[i] = s[i], s[start]\n",
    "\n",
    "# Input string\n",
    "input_string = \"abc\"\n",
    "\n",
    "# Convert the input string to a list of characters for easy manipulation\n",
    "input_list = list(input_string)\n",
    "\n",
    "# Generate and print all anagrams\n",
    "generate_anagrams(input_list)"
   ]
  },
  {
   "cell_type": "code",
   "execution_count": null,
   "id": "656a6600-bd12-4232-a4cc-0714fd86f926",
   "metadata": {},
   "outputs": [],
   "source": []
  }
 ],
 "metadata": {
  "kernelspec": {
   "display_name": "Python 3 (ipykernel)",
   "language": "python",
   "name": "python3"
  },
  "language_info": {
   "codemirror_mode": {
    "name": "ipython",
    "version": 3
   },
   "file_extension": ".py",
   "mimetype": "text/x-python",
   "name": "python",
   "nbconvert_exporter": "python",
   "pygments_lexer": "ipython3",
   "version": "3.12.2"
  }
 },
 "nbformat": 4,
 "nbformat_minor": 5
}
