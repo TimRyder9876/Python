{
 "cells": [
  {
   "cell_type": "markdown",
   "id": "fbf5927e",
   "metadata": {},
   "source": [
    "## Creating a System of Equations"
   ]
  },
  {
   "cell_type": "code",
   "execution_count": 1,
   "id": "89d3f03e",
   "metadata": {},
   "outputs": [],
   "source": [
    "sword = [10,1,5,1]\n",
    "knife = [10,1,5,9]\n",
    "herring = [2,2,2,6]"
   ]
  },
  {
   "cell_type": "code",
   "execution_count": 2,
   "id": "9464643b",
   "metadata": {},
   "outputs": [],
   "source": [
    "import numpy as np"
   ]
  },
  {
   "cell_type": "code",
   "execution_count": 3,
   "id": "cf913306",
   "metadata": {},
   "outputs": [],
   "source": [
    "# Calculates the Euclidean distance between 2 vectors\n",
    "def euclidean(vector1, vector2):\n",
    "    distance = np.array(vector1) - np.array(vector2)\n",
    "    squared_sum = np.sum(distance**2)\n",
    "    return np.sqrt(squared_sum)"
   ]
  },
  {
   "cell_type": "code",
   "execution_count": 4,
   "id": "41d3736d",
   "metadata": {},
   "outputs": [
    {
     "name": "stdout",
     "output_type": "stream",
     "text": [
      "8.0\n",
      "9.9498743710662\n",
      "9.1104335791443\n"
     ]
    }
   ],
   "source": [
    "print(euclidean(sword,knife))\n",
    "print(euclidean(sword,herring))\n",
    "print(euclidean(knife,herring))"
   ]
  },
  {
   "cell_type": "code",
   "execution_count": 5,
   "id": "8acd8ea9",
   "metadata": {},
   "outputs": [],
   "source": [
    "# This needed an older version of numpy 1.26.4 and not the most recent version of numpy 2.2.3 \n",
    "import gensim.downloader as api"
   ]
  },
  {
   "cell_type": "code",
   "execution_count": 8,
   "id": "f41cddec",
   "metadata": {},
   "outputs": [
    {
     "name": "stdout",
     "output_type": "stream",
     "text": [
      "[=================================================-] 99.1% 1647.1/1662.8MB downloaded\n"
     ]
    }
   ],
   "source": [
    "# download the vectors for word2vec that used google news\n",
    "vectors = api.load('word2vec-google-news-300')"
   ]
  },
  {
   "cell_type": "code",
   "execution_count": 10,
   "id": "bee307d1",
   "metadata": {},
   "outputs": [
    {
     "name": "stdout",
     "output_type": "stream",
     "text": [
      "[ 0.51953125  0.1875      0.31445312 -0.20605469 -0.0078125   0.375\n",
      "  0.22558594 -0.02441406 -0.06445312  0.27929688  0.02746582 -0.24511719\n",
      " -0.21582031  0.13574219 -0.27148438 -0.09130859 -0.06884766 -0.08349609\n",
      "  0.14160156 -0.14160156  0.24316406 -0.23730469  0.32421875 -0.00582886\n",
      " -0.12792969  0.0201416   0.07617188 -0.10742188  0.16894531 -0.12988281\n",
      "  0.07958984  0.2265625   0.11035156  0.12792969  0.02856445  0.01965332\n",
      " -0.06933594  0.21875    -0.06738281 -0.04370117  0.23046875  0.07714844\n",
      "  0.49804688 -0.14550781  0.23632812 -0.10009766  0.02893066 -0.16699219\n",
      "  0.09814453 -0.24804688 -0.09082031  0.3515625  -0.00439453 -0.29296875\n",
      "  0.00793457 -0.140625   -0.10888672  0.00212097 -0.13476562 -0.02575684\n",
      " -0.02148438  0.10888672  0.07324219  0.15332031 -0.06835938 -0.01831055\n",
      "  0.08544922 -0.39257812  0.03979492  0.12890625  0.10595703 -0.13476562\n",
      "  0.05224609 -0.25       -0.16113281 -0.11523438  0.00117493 -0.17480469\n",
      "  0.04248047 -0.42382812  0.03710938 -0.02770996 -0.06445312 -0.12011719\n",
      " -0.18261719  0.24023438 -0.45117188 -0.12109375  0.06933594 -0.00668335\n",
      " -0.13574219  0.07666016 -0.19726562 -0.19042969  0.27148438 -0.20898438\n",
      "  0.05102539 -0.15722656  0.10644531 -0.22851562 -0.11962891 -0.29492188\n",
      "  0.10400391 -0.20605469  0.13671875 -0.11132812  0.14746094 -0.13085938\n",
      "  0.34765625 -0.24707031 -0.12890625  0.07714844  0.34179688  0.08691406\n",
      " -0.20703125  0.07666016 -0.05224609  0.09716797  0.11621094  0.08349609\n",
      "  0.15722656 -0.02478027  0.01855469 -0.28125     0.02636719 -0.22753906\n",
      "  0.1171875  -0.10449219 -0.06835938  0.05004883 -0.07177734 -0.15625\n",
      " -0.72265625 -0.06640625  0.01324463  0.35742188 -0.06396484  0.00259399\n",
      " -0.15917969  0.23925781  0.08691406 -0.0324707  -0.00646973 -0.15917969\n",
      " -0.07275391  0.15234375 -0.05126953 -0.05224609  0.1796875   0.05834961\n",
      "  0.29296875  0.265625    0.01794434  0.25195312 -0.125       0.07080078\n",
      " -0.10058594 -0.03857422  0.02954102 -0.08642578  0.11425781  0.03588867\n",
      "  0.22949219 -0.21191406 -0.35546875 -0.30664062  0.24023438 -0.3046875\n",
      " -0.20996094  0.03271484  0.12402344 -0.24511719 -0.00230408 -0.15820312\n",
      "  0.08886719 -0.43945312 -0.14746094 -0.13085938 -0.08642578 -0.18261719\n",
      " -0.43945312 -0.19921875  0.15136719  0.01782227 -0.09570312  0.03881836\n",
      "  0.40234375 -0.09472656  0.15625    -0.07128906  0.13085938  0.00775146\n",
      " -0.39257812  0.11621094  0.12402344 -0.18554688 -0.02478027  0.13183594\n",
      "  0.08056641 -0.27148438 -0.05712891 -0.3046875  -0.19433594 -0.14453125\n",
      " -0.08349609  0.03613281 -0.125       0.00704956 -0.21972656 -0.11914062\n",
      " -0.21484375  0.12109375 -0.21777344 -0.3359375  -0.18066406 -0.36523438\n",
      " -0.390625    0.12158203 -0.078125    0.51171875  0.09375    -0.22167969\n",
      "  0.12109375 -0.1328125  -0.01843262 -0.02233887  0.08496094  0.04101562\n",
      "  0.07763672 -0.10400391 -0.08544922 -0.15136719 -0.01452637  0.19824219\n",
      "  0.43945312  0.06933594 -0.08203125  0.10693359  0.47851562  0.21777344\n",
      " -0.0267334  -0.24511719 -0.02197266 -0.26367188  0.18554688 -0.23632812\n",
      "  0.19628906 -0.19238281  0.17285156 -0.13867188 -0.2890625   0.0859375\n",
      " -0.05761719  0.09423828 -0.02978516 -0.11230469 -0.34179688 -0.12792969\n",
      " -0.04638672 -0.03076172 -0.00317383  0.359375   -0.1015625  -0.40234375\n",
      " -0.16308594  0.2734375  -0.02734375 -0.14648438 -0.00805664  0.08203125\n",
      "  0.13378906  0.1953125  -0.12402344 -0.03637695  0.5859375  -0.03295898\n",
      " -0.08056641 -0.17480469 -0.13574219  0.47265625 -0.04711914  0.18945312\n",
      "  0.26953125  0.10742188  0.01483154  0.15039062 -0.16113281 -0.09326172\n",
      " -0.13964844  0.04052734 -0.16308594 -0.14453125 -0.20996094  0.16699219\n",
      "  0.02001953 -0.28125     0.15722656 -0.03344727 -0.2734375   0.28125   ]\n"
     ]
    }
   ],
   "source": [
    "print(vectors['sword'])"
   ]
  },
  {
   "cell_type": "code",
   "execution_count": 11,
   "id": "9209d2e9",
   "metadata": {},
   "outputs": [
    {
     "name": "stdout",
     "output_type": "stream",
     "text": [
      "3.2766972\n",
      "4.9384727\n",
      "2.608656\n"
     ]
    }
   ],
   "source": [
    "print(euclidean(vectors['sword'],vectors['knife']))\n",
    "print(euclidean(vectors['sword'],vectors['herring']))\n",
    "print(euclidean(vectors['car'],vectors['van']))"
   ]
  },
  {
   "cell_type": "code",
   "execution_count": 12,
   "id": "8e6c9a7f",
   "metadata": {},
   "outputs": [],
   "source": [
    "def dot_product(vector1,vector2):\n",
    "    thedotproduct=np.sum([vector1[k]*vector2[k] for k in range(0,len(vector1))])\n",
    "    return(thedotproduct)\n",
    "\n",
    "def vector_norm(vector):\n",
    "    thenorm = np.sqrt(dot_product(vector,vector))\n",
    "    return(thenorm)\n",
    "\n",
    "def cosine_similarity(vector1,vector2):\n",
    "    thecosine=0\n",
    "    thedotproduct = dot_product(vector1,vector2)\n",
    "    thecosine = thedotproduct/(vector_norm(vector1)*vector_norm(vector2))\n",
    "    thecosine=np.round(thecosine,4)\n",
    "    return(thecosine)"
   ]
  },
  {
   "cell_type": "code",
   "execution_count": 13,
   "id": "3baa8b26",
   "metadata": {},
   "outputs": [
    {
     "name": "stdout",
     "output_type": "stream",
     "text": [
      "0.5576\n",
      "0.0529\n",
      "0.6116\n"
     ]
    }
   ],
   "source": [
    "print(cosine_similarity(vectors['sword'],vectors['knife']))\n",
    "print(cosine_similarity(vectors['sword'],vectors['herring']))\n",
    "print(cosine_similarity(vectors['car'],vectors['van']))"
   ]
  },
  {
   "cell_type": "markdown",
   "id": "b72108c2",
   "metadata": {},
   "source": [
    "## Manipulating Vectors with Mathematical Calculations"
   ]
  },
  {
   "cell_type": "code",
   "execution_count": 14,
   "id": "f35fcbf2",
   "metadata": {},
   "outputs": [],
   "source": [
    "king = vectors['king']\n",
    "queen = vectors['queen']\n",
    "man = vectors['man']\n",
    "woman = vectors['woman']"
   ]
  },
  {
   "cell_type": "code",
   "execution_count": 15,
   "id": "fa0f405b",
   "metadata": {},
   "outputs": [],
   "source": [
    "newvector = king-man+woman"
   ]
  },
  {
   "cell_type": "code",
   "execution_count": 17,
   "id": "4d640296",
   "metadata": {},
   "outputs": [
    {
     "name": "stdout",
     "output_type": "stream",
     "text": [
      "0.7301\n",
      "2.298658\n"
     ]
    }
   ],
   "source": [
    "print(cosine_similarity(newvector, queen))\n",
    "print(euclidean(newvector, queen))"
   ]
  },
  {
   "cell_type": "code",
   "execution_count": 18,
   "id": "7b454691",
   "metadata": {},
   "outputs": [
    {
     "name": "stdout",
     "output_type": "stream",
     "text": [
      "0.6992\n",
      "2.7537737\n"
     ]
    }
   ],
   "source": [
    "print(cosine_similarity(vectors['fish'], vectors['herring']))\n",
    "print(euclidean(vectors['fish'], vectors['herring']))"
   ]
  },
  {
   "cell_type": "markdown",
   "id": "797b0a62",
   "metadata": {},
   "source": [
    "## Detecting Plagiarism With word2vec"
   ]
  },
  {
   "cell_type": "code",
   "execution_count": 19,
   "id": "0d96e619",
   "metadata": {},
   "outputs": [
    {
     "name": "stdout",
     "output_type": "stream",
     "text": [
      "1.0\n",
      "0.0\n"
     ]
    }
   ],
   "source": [
    "# These are the results when vectors are the same\n",
    "print(cosine_similarity(vectors['the'], vectors['the']))\n",
    "print(euclidean(vectors['having'], vectors['having']))"
   ]
  },
  {
   "cell_type": "code",
   "execution_count": 20,
   "id": "efaf5cb1",
   "metadata": {},
   "outputs": [
    {
     "name": "stdout",
     "output_type": "stream",
     "text": [
      "0.5327\n",
      "2.9844923\n",
      "0.3435\n"
     ]
    }
   ],
   "source": [
    "print(cosine_similarity(vectors['trouble'], vectors['problem']))\n",
    "print(euclidean(vectors['come'], vectors['approach']))\n",
    "print(cosine_similarity(vectors['put'], vectors['insert']))"
   ]
  },
  {
   "cell_type": "markdown",
   "id": "1abeffae",
   "metadata": {},
   "source": [
    "## Using Skip-Thoughts"
   ]
  },
  {
   "cell_type": "code",
   "execution_count": 22,
   "id": "e2d5e1f5",
   "metadata": {},
   "outputs": [
    {
     "name": "stdout",
     "output_type": "stream",
     "text": [
      "WARNING:tensorflow:From C:\\Users\\timry\\anaconda3\\Lib\\site-packages\\tf_keras\\src\\losses.py:2976: The name tf.losses.sparse_softmax_cross_entropy is deprecated. Please use tf.compat.v1.losses.sparse_softmax_cross_entropy instead.\n",
      "\n",
      "WARNING:tensorflow:From C:\\Users\\timry\\anaconda3\\Lib\\site-packages\\tensorflow_hub\\resolver.py:120: The name tf.gfile.MakeDirs is deprecated. Please use tf.io.gfile.makedirs instead.\n",
      "\n"
     ]
    },
    {
     "name": "stderr",
     "output_type": "stream",
     "text": [
      "WARNING:tensorflow:From C:\\Users\\timry\\anaconda3\\Lib\\site-packages\\tensorflow_hub\\resolver.py:120: The name tf.gfile.MakeDirs is deprecated. Please use tf.io.gfile.makedirs instead.\n",
      "\n"
     ]
    },
    {
     "name": "stdout",
     "output_type": "stream",
     "text": [
      "WARNING:tensorflow:From C:\\Users\\timry\\anaconda3\\Lib\\site-packages\\tensorflow_hub\\module_v2.py:126: The name tf.saved_model.load_v2 is deprecated. Please use tf.compat.v2.saved_model.load instead.\n",
      "\n"
     ]
    },
    {
     "name": "stderr",
     "output_type": "stream",
     "text": [
      "WARNING:tensorflow:From C:\\Users\\timry\\anaconda3\\Lib\\site-packages\\tensorflow_hub\\module_v2.py:126: The name tf.saved_model.load_v2 is deprecated. Please use tf.compat.v2.saved_model.load instead.\n",
      "\n"
     ]
    }
   ],
   "source": [
    "import tensorflow_hub as hub\n",
    "embed = hub.load('https://tfhub.dev/google/universal-sentence-encoder-large/5')"
   ]
  },
  {
   "cell_type": "code",
   "execution_count": 23,
   "id": "813f17da",
   "metadata": {},
   "outputs": [],
   "source": [
    "Sentences = [\n",
    "    \"The trouble with having an open mind, of course, is that people will insist on coming along and trying to put things in it.\",\\\n",
    "    \"The problem with having an open mind is that people will insist on approaching and trying to insert things into your mind.\",\\\n",
    "    \"To be or not to be, that is the question\",\\\n",
    "    \"Call me Ishmael\"\n",
    "]"
   ]
  },
  {
   "cell_type": "code",
   "execution_count": 24,
   "id": "ed441202",
   "metadata": {},
   "outputs": [],
   "source": [
    "embeddings=embed(Sentences)"
   ]
  },
  {
   "cell_type": "code",
   "execution_count": 25,
   "id": "67628043",
   "metadata": {},
   "outputs": [
    {
     "name": "stdout",
     "output_type": "stream",
     "text": [
      "tf.Tensor(\n",
      "[ 9.70248657e-04 -5.99743053e-02 -2.84198509e-03  7.49066239e-03\n",
      "  7.74949491e-02 -1.00518751e-03 -7.75496513e-02  4.12208289e-02\n",
      " -1.55480194e-03 -1.11693345e-01  2.58275699e-02 -1.15299895e-02\n",
      " -3.84846426e-05 -4.07183729e-02  3.69430296e-02  6.66357949e-02\n",
      " -2.35660914e-02  8.99885036e-03 -2.71403249e-02 -5.69594046e-03\n",
      "  5.81006221e-02 -7.52891833e-03 -1.46736680e-02  3.34217250e-02\n",
      " -2.83413939e-02 -2.66162232e-02  8.27136561e-02  2.97723804e-02\n",
      " -6.22679852e-02 -1.03822220e-02 -2.17885282e-02 -6.10623099e-02\n",
      " -1.82683337e-02 -1.00083120e-01 -4.11456749e-02  1.05086416e-02\n",
      "  5.70789874e-02  2.31803339e-02  1.20034218e-02 -7.01201381e-03\n",
      "  1.10151106e-02  2.03509480e-02  6.42644241e-02 -3.29411551e-02\n",
      "  1.36516206e-02 -3.94356735e-02 -2.31789015e-02  3.67378853e-02\n",
      " -4.63136248e-02 -8.05744082e-02  3.57695073e-02  7.44108036e-02\n",
      "  4.48199958e-02  7.86103867e-03  1.17291128e-02  7.10513117e-03\n",
      " -3.36441658e-02 -2.01602671e-02  2.59170309e-02 -2.25279741e-02\n",
      " -6.86499402e-02  3.12200449e-02 -6.12286329e-02  4.56264094e-02\n",
      " -8.34534410e-03 -6.52796775e-02  5.57004437e-02  5.03131822e-02\n",
      " -2.91452836e-03  9.04143043e-03 -5.34391813e-02 -3.32410149e-02\n",
      " -6.06129225e-03  4.10819314e-02 -7.21714646e-02  2.96450090e-02\n",
      " -4.22945693e-02 -2.14660317e-02  1.55433249e-02 -1.15349935e-02\n",
      " -2.62626708e-02  4.52730171e-02 -5.02717718e-02 -3.15809320e-03\n",
      "  3.38779315e-02  6.41152496e-03  2.34204903e-02  9.62008908e-03\n",
      "  1.22694923e-02 -2.16998085e-02  6.02377430e-02  2.30888892e-02\n",
      "  1.43612139e-02  6.26451820e-02  2.34872643e-02  7.57240206e-02\n",
      "  5.53672053e-02  2.73302216e-02 -4.61426377e-02  1.70651283e-02\n",
      " -3.02217938e-02  1.85129512e-03  3.70283984e-02 -6.36844337e-02\n",
      " -7.61072487e-02 -1.22697428e-02 -3.38829705e-03  3.18626352e-02\n",
      "  7.73803052e-03  1.00817587e-02 -5.02482280e-02  1.11433282e-01\n",
      "  2.11311448e-02 -6.46046475e-02 -5.81049137e-02  2.72927782e-03\n",
      "  2.57360879e-02  6.34748936e-02 -5.74485771e-02  7.26706982e-02\n",
      " -1.30339824e-02 -4.02337760e-02  6.23944812e-02  5.61217312e-03\n",
      " -3.62421274e-02 -2.79459581e-02 -1.47320852e-02 -5.65961301e-02\n",
      "  3.68624628e-02 -1.54216774e-02 -3.13499868e-02  8.62492844e-02\n",
      " -7.40652159e-02 -2.26289462e-02 -1.64112337e-02 -9.42809135e-02\n",
      "  2.25900821e-02 -4.39405739e-02  2.67029461e-02 -4.38184626e-02\n",
      " -1.80224655e-03  4.24297377e-02  7.90519342e-02  3.05620348e-03\n",
      " -6.20347857e-02 -2.70659477e-02  7.92534575e-02 -2.89021935e-02\n",
      "  6.27259258e-04  2.93278713e-02 -5.92093393e-02 -2.91852746e-02\n",
      " -5.80403954e-02 -7.93084055e-02  6.25482993e-04  1.45020592e-03\n",
      "  2.68066712e-02  3.05392817e-02 -8.37102253e-03  6.29298389e-02\n",
      "  3.48844915e-03  2.92148758e-02 -5.84160127e-02  1.27997622e-02\n",
      "  4.14555669e-02  1.19555853e-02  5.05237235e-03 -1.60815753e-02\n",
      "  1.85803454e-02  9.78267565e-03 -1.11562451e-02 -3.17177325e-02\n",
      "  2.57938057e-02 -2.65929159e-02 -1.06882323e-02 -7.41224065e-02\n",
      " -1.09192403e-03 -1.30813876e-02  5.58793694e-02 -1.51369758e-02\n",
      " -4.18859906e-03  5.33982106e-02  4.85822596e-02  3.25322486e-02\n",
      "  5.54782385e-03  5.40812165e-02 -2.35237032e-02  2.07454618e-02\n",
      " -3.94433327e-02 -4.83681820e-02  2.15599430e-03 -3.30262855e-02\n",
      " -7.00945035e-03 -2.90680453e-02 -1.77805889e-02 -5.76171987e-02\n",
      "  3.50533649e-02  8.58586058e-02  2.49600178e-03  2.84678768e-02\n",
      "  1.32384345e-01 -4.31096256e-02 -4.08125743e-02  1.32237393e-02\n",
      " -5.26458919e-02 -2.29150392e-02 -9.05699283e-03 -7.94319287e-02\n",
      " -6.20631762e-02 -1.91500492e-03  4.04751189e-02 -5.75836077e-02\n",
      " -1.22806188e-02 -9.45009477e-03 -3.77810635e-02 -3.09574138e-02\n",
      " -2.94235186e-03 -2.68631410e-02  5.61114401e-02  3.44393402e-02\n",
      " -6.80001155e-02  1.25721514e-01 -4.57371883e-02 -1.69039667e-02\n",
      "  5.58754951e-02 -4.18181457e-02 -3.70178521e-02  1.34551050e-02\n",
      "  4.86026006e-03 -5.67979505e-03 -2.57159211e-02  1.57157108e-02\n",
      " -4.05749157e-02 -1.88964047e-02  8.56171101e-02 -4.92836174e-04\n",
      "  4.56089005e-02  3.59854996e-02 -5.00683002e-02  1.64916255e-02\n",
      "  2.89407931e-02  1.02974005e-01  2.55214162e-02 -1.02631636e-02\n",
      " -4.51292172e-02 -6.14789426e-02  1.55711891e-02  5.95894046e-02\n",
      " -1.79369319e-02 -1.30043868e-02 -3.90276872e-02 -1.92330836e-03\n",
      "  4.72637713e-02 -3.88915055e-02 -7.98583776e-03  4.24118228e-02\n",
      " -1.85017604e-02  3.58783966e-03 -3.16199698e-02  7.78939053e-02\n",
      "  1.57363643e-03  3.52033786e-02  7.18346622e-04 -3.19432281e-02\n",
      "  7.06805736e-02 -7.49136880e-02  7.48898908e-02 -3.41639966e-02\n",
      "  2.49520782e-02 -3.06118131e-02  2.55639036e-03 -1.06642172e-01\n",
      " -9.05019715e-02  5.71497791e-02  3.07829194e-02 -2.38648374e-02\n",
      " -2.35500070e-03 -9.73040834e-02 -6.92953616e-02 -3.46506760e-03\n",
      "  3.73308584e-02 -1.55269299e-02 -3.69212334e-03 -2.72299070e-02\n",
      " -6.34426298e-03  1.11780897e-01  1.84937790e-02  4.70187403e-02\n",
      "  7.21602887e-02  2.11318210e-02  2.20222510e-02  3.11703794e-02\n",
      " -1.50396517e-02 -2.98872478e-02  6.25286251e-02 -2.94153374e-02\n",
      " -2.99024880e-02  3.05611603e-02  9.01093706e-03  2.99634114e-02\n",
      "  9.46124420e-02 -6.93611428e-02 -4.99695465e-02  7.80219138e-02\n",
      "  2.49604210e-02 -1.56179583e-02 -1.01395823e-01 -4.04890403e-02\n",
      " -1.19670434e-02  1.66876838e-02  6.43390343e-02  4.12706770e-02\n",
      "  4.97409925e-02  6.88990951e-03 -1.26729146e-01  2.23888531e-02\n",
      "  4.48343344e-02 -3.82168926e-02  1.46074984e-02 -7.93807879e-02\n",
      "  1.83046535e-02  5.37566766e-02  7.84360170e-02 -1.57472901e-02\n",
      " -5.09504676e-02  3.13296281e-02  1.34216240e-02  3.34632471e-02\n",
      "  3.11683565e-02  5.23486547e-02 -6.35559037e-02 -3.37245464e-02\n",
      "  8.79783835e-03  2.82302126e-02 -4.35866183e-03  2.49453611e-03\n",
      "  5.92205068e-03 -7.95412436e-02 -3.98350954e-02 -1.14130773e-01\n",
      "  3.07973307e-02  3.65302246e-03 -8.17807857e-03 -8.20992067e-02\n",
      " -2.49486323e-02  5.85937826e-03 -1.99229103e-02 -4.68588434e-02\n",
      " -2.08927318e-02 -2.15141457e-02 -3.43634710e-02  2.00344808e-02\n",
      " -2.53076255e-02  2.20779441e-02 -3.38364728e-02 -5.18912673e-02\n",
      "  4.02167402e-02 -3.33425007e-03 -5.27512692e-02 -2.67082956e-02\n",
      "  4.04716143e-03  2.28343196e-02  1.08969845e-01  5.55841848e-02\n",
      "  7.14900270e-02  1.93922501e-02  3.39621603e-02 -7.38305002e-02\n",
      "  2.37125959e-02  4.86510582e-02 -2.28744075e-02  2.70820986e-02\n",
      "  1.21876262e-02 -7.24764466e-02  2.53225770e-02  3.17273363e-02\n",
      "  8.70423950e-03 -9.19542834e-03 -4.32915874e-02 -2.95870304e-02\n",
      " -6.97586127e-03 -8.59670155e-03  6.94525754e-03  3.38133089e-02\n",
      "  7.12532029e-02  2.47619916e-02  1.41364774e-02  3.26551273e-02\n",
      " -3.56458984e-02  2.21443456e-02  4.67570089e-02  8.57447982e-02\n",
      "  3.76798883e-02 -4.13492061e-02 -1.08022457e-02 -1.30151495e-01\n",
      " -5.07919751e-02 -1.77865773e-02  4.78034765e-02 -1.89196728e-02\n",
      " -1.29245538e-02 -1.78934447e-02 -6.53341487e-02 -2.95057124e-03\n",
      "  5.09436354e-02 -4.99482974e-02 -3.26090418e-02 -9.47060622e-03\n",
      "  8.34911503e-03  4.71282797e-03  1.39808767e-02 -7.08216876e-02\n",
      "  4.88249138e-02  2.58295555e-02 -7.49671878e-03 -8.40383843e-02\n",
      " -2.48396583e-02  8.29818100e-03  5.65552264e-02  4.24903333e-02\n",
      " -7.38228261e-02  3.07658445e-02 -7.96774924e-02 -8.58333856e-02\n",
      "  6.93277121e-02  2.50971727e-02 -4.09678593e-02 -7.14039989e-03\n",
      "  1.01578914e-01 -2.66638789e-02 -4.30526920e-02 -4.45692847e-03\n",
      " -1.52608752e-02  3.92531604e-02 -3.41243818e-02 -5.37247881e-02\n",
      " -9.94678587e-03 -6.97218627e-02 -3.42576168e-02  6.25455892e-03\n",
      "  2.87956465e-02 -2.73931678e-02  1.88508090e-02  7.97912776e-02\n",
      "  1.52913225e-03  6.78732097e-02  1.39363622e-02  4.79820110e-02\n",
      " -8.91414881e-02 -1.21299485e-02 -2.64794044e-02  1.43494352e-03\n",
      "  1.56961493e-02  8.60031545e-02 -2.32932549e-02 -4.41982411e-02\n",
      " -1.48751792e-02  2.12702388e-03 -4.47475612e-02  5.87497279e-03\n",
      " -5.63837364e-02  1.79543830e-02 -1.09695578e-02  5.16302288e-02\n",
      "  7.67534673e-02 -3.70433442e-02  5.47212996e-02 -7.10915104e-02\n",
      "  2.10150927e-02 -1.86210815e-02  2.90584024e-02  3.10233906e-02\n",
      " -1.32660230e-03  4.94536199e-02  2.40199622e-02 -2.46655438e-02\n",
      " -2.28673127e-02  4.14920487e-02  7.13930931e-03 -4.17819340e-03\n",
      "  6.18529581e-02  1.53893093e-02  2.93689836e-02 -3.62300761e-02\n",
      " -5.13631515e-02 -3.63353379e-02 -1.25818327e-01 -3.70632075e-02\n",
      " -2.08840892e-02 -2.85322312e-02  9.64062288e-03 -3.96579038e-03\n",
      "  2.73591913e-02  2.45564673e-02  2.08424870e-02  3.48037928e-02\n",
      " -1.16539188e-02 -1.01968674e-02 -5.43352216e-02  5.71582429e-02\n",
      "  1.88409239e-02 -2.76054181e-02  1.40067097e-02 -5.03204428e-02\n",
      " -8.15871917e-03 -1.43642500e-02  3.13680507e-02 -2.23778025e-03\n",
      "  1.49831781e-02 -3.06693669e-02  5.80385551e-02  1.03938365e-02], shape=(512,), dtype=float32)\n"
     ]
    }
   ],
   "source": [
    "print(embeddings[0])"
   ]
  },
  {
   "cell_type": "code",
   "execution_count": 26,
   "id": "0245b7d9",
   "metadata": {},
   "outputs": [
    {
     "name": "stdout",
     "output_type": "stream",
     "text": [
      "0.8525\n"
     ]
    }
   ],
   "source": [
    "print(cosine_similarity(embeddings[0],embeddings[1]))"
   ]
  },
  {
   "cell_type": "code",
   "execution_count": 27,
   "id": "f5903ace",
   "metadata": {},
   "outputs": [
    {
     "name": "stdout",
     "output_type": "stream",
     "text": [
      "0.0656\n",
      "-0.0705\n"
     ]
    }
   ],
   "source": [
    "print(cosine_similarity(embeddings[0],embeddings[2]))\n",
    "print(cosine_similarity(embeddings[0],embeddings[3]))"
   ]
  },
  {
   "cell_type": "markdown",
   "id": "9542b8ab",
   "metadata": {},
   "source": [
    "## Topic Modeling"
   ]
  },
  {
   "cell_type": "code",
   "execution_count": 31,
   "id": "13c928a0",
   "metadata": {},
   "outputs": [],
   "source": [
    "Sentences = [\n",
    "    \"The corn and cheese are delicious when they're roasted together\",\n",
    "    \"Several of the scenes have rich settings but weak characterization\",\n",
    "    \"Consider adding extra seasoning to the pork\",\n",
    "    \"The prose was overwrought and pretentious\",\n",
    "    \"There are some nice brisket slices on the menu\",\n",
    "    \"It would be better to have a chapter to introduce your main plot ideas\",\n",
    "    \"Everything was cold when the waiter brought it to the table\",\n",
    "    \"You can probably find it at a cheaper price in bookstores\"\n",
    "]"
   ]
  },
  {
   "cell_type": "code",
   "execution_count": 44,
   "id": "a5b93baf",
   "metadata": {},
   "outputs": [],
   "source": [
    "embeddings = embed(Sentences)"
   ]
  },
  {
   "cell_type": "code",
   "execution_count": 36,
   "id": "ac905986",
   "metadata": {},
   "outputs": [],
   "source": [
    "import pandas as pd"
   ]
  },
  {
   "cell_type": "code",
   "execution_count": 45,
   "id": "338f4469",
   "metadata": {},
   "outputs": [],
   "source": [
    "arrays = []\n",
    "for i in range(len(Sentences)):\n",
    "    arrays.append(np.array(embeddings[i]))\n",
    "\n",
    "sentencematrix = np.empty((len(Sentences),512,), order=\"F\")\n",
    "\n",
    "for i in range(len(Sentences)):\n",
    "    sentencematrix[i] = arrays[i]\n",
    "\n",
    "pandasmatrix = pd.DataFrame(sentencematrix)"
   ]
  },
  {
   "cell_type": "code",
   "execution_count": 46,
   "id": "6eb34c36",
   "metadata": {},
   "outputs": [],
   "source": [
    "from sklearn.cluster import KMeans"
   ]
  },
  {
   "cell_type": "code",
   "execution_count": 47,
   "id": "ee09f31a",
   "metadata": {},
   "outputs": [
    {
     "data": {
      "text/html": [
       "<style>#sk-container-id-2 {\n",
       "  /* Definition of color scheme common for light and dark mode */\n",
       "  --sklearn-color-text: #000;\n",
       "  --sklearn-color-text-muted: #666;\n",
       "  --sklearn-color-line: gray;\n",
       "  /* Definition of color scheme for unfitted estimators */\n",
       "  --sklearn-color-unfitted-level-0: #fff5e6;\n",
       "  --sklearn-color-unfitted-level-1: #f6e4d2;\n",
       "  --sklearn-color-unfitted-level-2: #ffe0b3;\n",
       "  --sklearn-color-unfitted-level-3: chocolate;\n",
       "  /* Definition of color scheme for fitted estimators */\n",
       "  --sklearn-color-fitted-level-0: #f0f8ff;\n",
       "  --sklearn-color-fitted-level-1: #d4ebff;\n",
       "  --sklearn-color-fitted-level-2: #b3dbfd;\n",
       "  --sklearn-color-fitted-level-3: cornflowerblue;\n",
       "\n",
       "  /* Specific color for light theme */\n",
       "  --sklearn-color-text-on-default-background: var(--sg-text-color, var(--theme-code-foreground, var(--jp-content-font-color1, black)));\n",
       "  --sklearn-color-background: var(--sg-background-color, var(--theme-background, var(--jp-layout-color0, white)));\n",
       "  --sklearn-color-border-box: var(--sg-text-color, var(--theme-code-foreground, var(--jp-content-font-color1, black)));\n",
       "  --sklearn-color-icon: #696969;\n",
       "\n",
       "  @media (prefers-color-scheme: dark) {\n",
       "    /* Redefinition of color scheme for dark theme */\n",
       "    --sklearn-color-text-on-default-background: var(--sg-text-color, var(--theme-code-foreground, var(--jp-content-font-color1, white)));\n",
       "    --sklearn-color-background: var(--sg-background-color, var(--theme-background, var(--jp-layout-color0, #111)));\n",
       "    --sklearn-color-border-box: var(--sg-text-color, var(--theme-code-foreground, var(--jp-content-font-color1, white)));\n",
       "    --sklearn-color-icon: #878787;\n",
       "  }\n",
       "}\n",
       "\n",
       "#sk-container-id-2 {\n",
       "  color: var(--sklearn-color-text);\n",
       "}\n",
       "\n",
       "#sk-container-id-2 pre {\n",
       "  padding: 0;\n",
       "}\n",
       "\n",
       "#sk-container-id-2 input.sk-hidden--visually {\n",
       "  border: 0;\n",
       "  clip: rect(1px 1px 1px 1px);\n",
       "  clip: rect(1px, 1px, 1px, 1px);\n",
       "  height: 1px;\n",
       "  margin: -1px;\n",
       "  overflow: hidden;\n",
       "  padding: 0;\n",
       "  position: absolute;\n",
       "  width: 1px;\n",
       "}\n",
       "\n",
       "#sk-container-id-2 div.sk-dashed-wrapped {\n",
       "  border: 1px dashed var(--sklearn-color-line);\n",
       "  margin: 0 0.4em 0.5em 0.4em;\n",
       "  box-sizing: border-box;\n",
       "  padding-bottom: 0.4em;\n",
       "  background-color: var(--sklearn-color-background);\n",
       "}\n",
       "\n",
       "#sk-container-id-2 div.sk-container {\n",
       "  /* jupyter's `normalize.less` sets `[hidden] { display: none; }`\n",
       "     but bootstrap.min.css set `[hidden] { display: none !important; }`\n",
       "     so we also need the `!important` here to be able to override the\n",
       "     default hidden behavior on the sphinx rendered scikit-learn.org.\n",
       "     See: https://github.com/scikit-learn/scikit-learn/issues/21755 */\n",
       "  display: inline-block !important;\n",
       "  position: relative;\n",
       "}\n",
       "\n",
       "#sk-container-id-2 div.sk-text-repr-fallback {\n",
       "  display: none;\n",
       "}\n",
       "\n",
       "div.sk-parallel-item,\n",
       "div.sk-serial,\n",
       "div.sk-item {\n",
       "  /* draw centered vertical line to link estimators */\n",
       "  background-image: linear-gradient(var(--sklearn-color-text-on-default-background), var(--sklearn-color-text-on-default-background));\n",
       "  background-size: 2px 100%;\n",
       "  background-repeat: no-repeat;\n",
       "  background-position: center center;\n",
       "}\n",
       "\n",
       "/* Parallel-specific style estimator block */\n",
       "\n",
       "#sk-container-id-2 div.sk-parallel-item::after {\n",
       "  content: \"\";\n",
       "  width: 100%;\n",
       "  border-bottom: 2px solid var(--sklearn-color-text-on-default-background);\n",
       "  flex-grow: 1;\n",
       "}\n",
       "\n",
       "#sk-container-id-2 div.sk-parallel {\n",
       "  display: flex;\n",
       "  align-items: stretch;\n",
       "  justify-content: center;\n",
       "  background-color: var(--sklearn-color-background);\n",
       "  position: relative;\n",
       "}\n",
       "\n",
       "#sk-container-id-2 div.sk-parallel-item {\n",
       "  display: flex;\n",
       "  flex-direction: column;\n",
       "}\n",
       "\n",
       "#sk-container-id-2 div.sk-parallel-item:first-child::after {\n",
       "  align-self: flex-end;\n",
       "  width: 50%;\n",
       "}\n",
       "\n",
       "#sk-container-id-2 div.sk-parallel-item:last-child::after {\n",
       "  align-self: flex-start;\n",
       "  width: 50%;\n",
       "}\n",
       "\n",
       "#sk-container-id-2 div.sk-parallel-item:only-child::after {\n",
       "  width: 0;\n",
       "}\n",
       "\n",
       "/* Serial-specific style estimator block */\n",
       "\n",
       "#sk-container-id-2 div.sk-serial {\n",
       "  display: flex;\n",
       "  flex-direction: column;\n",
       "  align-items: center;\n",
       "  background-color: var(--sklearn-color-background);\n",
       "  padding-right: 1em;\n",
       "  padding-left: 1em;\n",
       "}\n",
       "\n",
       "\n",
       "/* Toggleable style: style used for estimator/Pipeline/ColumnTransformer box that is\n",
       "clickable and can be expanded/collapsed.\n",
       "- Pipeline and ColumnTransformer use this feature and define the default style\n",
       "- Estimators will overwrite some part of the style using the `sk-estimator` class\n",
       "*/\n",
       "\n",
       "/* Pipeline and ColumnTransformer style (default) */\n",
       "\n",
       "#sk-container-id-2 div.sk-toggleable {\n",
       "  /* Default theme specific background. It is overwritten whether we have a\n",
       "  specific estimator or a Pipeline/ColumnTransformer */\n",
       "  background-color: var(--sklearn-color-background);\n",
       "}\n",
       "\n",
       "/* Toggleable label */\n",
       "#sk-container-id-2 label.sk-toggleable__label {\n",
       "  cursor: pointer;\n",
       "  display: flex;\n",
       "  width: 100%;\n",
       "  margin-bottom: 0;\n",
       "  padding: 0.5em;\n",
       "  box-sizing: border-box;\n",
       "  text-align: center;\n",
       "  align-items: start;\n",
       "  justify-content: space-between;\n",
       "  gap: 0.5em;\n",
       "}\n",
       "\n",
       "#sk-container-id-2 label.sk-toggleable__label .caption {\n",
       "  font-size: 0.6rem;\n",
       "  font-weight: lighter;\n",
       "  color: var(--sklearn-color-text-muted);\n",
       "}\n",
       "\n",
       "#sk-container-id-2 label.sk-toggleable__label-arrow:before {\n",
       "  /* Arrow on the left of the label */\n",
       "  content: \"▸\";\n",
       "  float: left;\n",
       "  margin-right: 0.25em;\n",
       "  color: var(--sklearn-color-icon);\n",
       "}\n",
       "\n",
       "#sk-container-id-2 label.sk-toggleable__label-arrow:hover:before {\n",
       "  color: var(--sklearn-color-text);\n",
       "}\n",
       "\n",
       "/* Toggleable content - dropdown */\n",
       "\n",
       "#sk-container-id-2 div.sk-toggleable__content {\n",
       "  max-height: 0;\n",
       "  max-width: 0;\n",
       "  overflow: hidden;\n",
       "  text-align: left;\n",
       "  /* unfitted */\n",
       "  background-color: var(--sklearn-color-unfitted-level-0);\n",
       "}\n",
       "\n",
       "#sk-container-id-2 div.sk-toggleable__content.fitted {\n",
       "  /* fitted */\n",
       "  background-color: var(--sklearn-color-fitted-level-0);\n",
       "}\n",
       "\n",
       "#sk-container-id-2 div.sk-toggleable__content pre {\n",
       "  margin: 0.2em;\n",
       "  border-radius: 0.25em;\n",
       "  color: var(--sklearn-color-text);\n",
       "  /* unfitted */\n",
       "  background-color: var(--sklearn-color-unfitted-level-0);\n",
       "}\n",
       "\n",
       "#sk-container-id-2 div.sk-toggleable__content.fitted pre {\n",
       "  /* unfitted */\n",
       "  background-color: var(--sklearn-color-fitted-level-0);\n",
       "}\n",
       "\n",
       "#sk-container-id-2 input.sk-toggleable__control:checked~div.sk-toggleable__content {\n",
       "  /* Expand drop-down */\n",
       "  max-height: 200px;\n",
       "  max-width: 100%;\n",
       "  overflow: auto;\n",
       "}\n",
       "\n",
       "#sk-container-id-2 input.sk-toggleable__control:checked~label.sk-toggleable__label-arrow:before {\n",
       "  content: \"▾\";\n",
       "}\n",
       "\n",
       "/* Pipeline/ColumnTransformer-specific style */\n",
       "\n",
       "#sk-container-id-2 div.sk-label input.sk-toggleable__control:checked~label.sk-toggleable__label {\n",
       "  color: var(--sklearn-color-text);\n",
       "  background-color: var(--sklearn-color-unfitted-level-2);\n",
       "}\n",
       "\n",
       "#sk-container-id-2 div.sk-label.fitted input.sk-toggleable__control:checked~label.sk-toggleable__label {\n",
       "  background-color: var(--sklearn-color-fitted-level-2);\n",
       "}\n",
       "\n",
       "/* Estimator-specific style */\n",
       "\n",
       "/* Colorize estimator box */\n",
       "#sk-container-id-2 div.sk-estimator input.sk-toggleable__control:checked~label.sk-toggleable__label {\n",
       "  /* unfitted */\n",
       "  background-color: var(--sklearn-color-unfitted-level-2);\n",
       "}\n",
       "\n",
       "#sk-container-id-2 div.sk-estimator.fitted input.sk-toggleable__control:checked~label.sk-toggleable__label {\n",
       "  /* fitted */\n",
       "  background-color: var(--sklearn-color-fitted-level-2);\n",
       "}\n",
       "\n",
       "#sk-container-id-2 div.sk-label label.sk-toggleable__label,\n",
       "#sk-container-id-2 div.sk-label label {\n",
       "  /* The background is the default theme color */\n",
       "  color: var(--sklearn-color-text-on-default-background);\n",
       "}\n",
       "\n",
       "/* On hover, darken the color of the background */\n",
       "#sk-container-id-2 div.sk-label:hover label.sk-toggleable__label {\n",
       "  color: var(--sklearn-color-text);\n",
       "  background-color: var(--sklearn-color-unfitted-level-2);\n",
       "}\n",
       "\n",
       "/* Label box, darken color on hover, fitted */\n",
       "#sk-container-id-2 div.sk-label.fitted:hover label.sk-toggleable__label.fitted {\n",
       "  color: var(--sklearn-color-text);\n",
       "  background-color: var(--sklearn-color-fitted-level-2);\n",
       "}\n",
       "\n",
       "/* Estimator label */\n",
       "\n",
       "#sk-container-id-2 div.sk-label label {\n",
       "  font-family: monospace;\n",
       "  font-weight: bold;\n",
       "  display: inline-block;\n",
       "  line-height: 1.2em;\n",
       "}\n",
       "\n",
       "#sk-container-id-2 div.sk-label-container {\n",
       "  text-align: center;\n",
       "}\n",
       "\n",
       "/* Estimator-specific */\n",
       "#sk-container-id-2 div.sk-estimator {\n",
       "  font-family: monospace;\n",
       "  border: 1px dotted var(--sklearn-color-border-box);\n",
       "  border-radius: 0.25em;\n",
       "  box-sizing: border-box;\n",
       "  margin-bottom: 0.5em;\n",
       "  /* unfitted */\n",
       "  background-color: var(--sklearn-color-unfitted-level-0);\n",
       "}\n",
       "\n",
       "#sk-container-id-2 div.sk-estimator.fitted {\n",
       "  /* fitted */\n",
       "  background-color: var(--sklearn-color-fitted-level-0);\n",
       "}\n",
       "\n",
       "/* on hover */\n",
       "#sk-container-id-2 div.sk-estimator:hover {\n",
       "  /* unfitted */\n",
       "  background-color: var(--sklearn-color-unfitted-level-2);\n",
       "}\n",
       "\n",
       "#sk-container-id-2 div.sk-estimator.fitted:hover {\n",
       "  /* fitted */\n",
       "  background-color: var(--sklearn-color-fitted-level-2);\n",
       "}\n",
       "\n",
       "/* Specification for estimator info (e.g. \"i\" and \"?\") */\n",
       "\n",
       "/* Common style for \"i\" and \"?\" */\n",
       "\n",
       ".sk-estimator-doc-link,\n",
       "a:link.sk-estimator-doc-link,\n",
       "a:visited.sk-estimator-doc-link {\n",
       "  float: right;\n",
       "  font-size: smaller;\n",
       "  line-height: 1em;\n",
       "  font-family: monospace;\n",
       "  background-color: var(--sklearn-color-background);\n",
       "  border-radius: 1em;\n",
       "  height: 1em;\n",
       "  width: 1em;\n",
       "  text-decoration: none !important;\n",
       "  margin-left: 0.5em;\n",
       "  text-align: center;\n",
       "  /* unfitted */\n",
       "  border: var(--sklearn-color-unfitted-level-1) 1pt solid;\n",
       "  color: var(--sklearn-color-unfitted-level-1);\n",
       "}\n",
       "\n",
       ".sk-estimator-doc-link.fitted,\n",
       "a:link.sk-estimator-doc-link.fitted,\n",
       "a:visited.sk-estimator-doc-link.fitted {\n",
       "  /* fitted */\n",
       "  border: var(--sklearn-color-fitted-level-1) 1pt solid;\n",
       "  color: var(--sklearn-color-fitted-level-1);\n",
       "}\n",
       "\n",
       "/* On hover */\n",
       "div.sk-estimator:hover .sk-estimator-doc-link:hover,\n",
       ".sk-estimator-doc-link:hover,\n",
       "div.sk-label-container:hover .sk-estimator-doc-link:hover,\n",
       ".sk-estimator-doc-link:hover {\n",
       "  /* unfitted */\n",
       "  background-color: var(--sklearn-color-unfitted-level-3);\n",
       "  color: var(--sklearn-color-background);\n",
       "  text-decoration: none;\n",
       "}\n",
       "\n",
       "div.sk-estimator.fitted:hover .sk-estimator-doc-link.fitted:hover,\n",
       ".sk-estimator-doc-link.fitted:hover,\n",
       "div.sk-label-container:hover .sk-estimator-doc-link.fitted:hover,\n",
       ".sk-estimator-doc-link.fitted:hover {\n",
       "  /* fitted */\n",
       "  background-color: var(--sklearn-color-fitted-level-3);\n",
       "  color: var(--sklearn-color-background);\n",
       "  text-decoration: none;\n",
       "}\n",
       "\n",
       "/* Span, style for the box shown on hovering the info icon */\n",
       ".sk-estimator-doc-link span {\n",
       "  display: none;\n",
       "  z-index: 9999;\n",
       "  position: relative;\n",
       "  font-weight: normal;\n",
       "  right: .2ex;\n",
       "  padding: .5ex;\n",
       "  margin: .5ex;\n",
       "  width: min-content;\n",
       "  min-width: 20ex;\n",
       "  max-width: 50ex;\n",
       "  color: var(--sklearn-color-text);\n",
       "  box-shadow: 2pt 2pt 4pt #999;\n",
       "  /* unfitted */\n",
       "  background: var(--sklearn-color-unfitted-level-0);\n",
       "  border: .5pt solid var(--sklearn-color-unfitted-level-3);\n",
       "}\n",
       "\n",
       ".sk-estimator-doc-link.fitted span {\n",
       "  /* fitted */\n",
       "  background: var(--sklearn-color-fitted-level-0);\n",
       "  border: var(--sklearn-color-fitted-level-3);\n",
       "}\n",
       "\n",
       ".sk-estimator-doc-link:hover span {\n",
       "  display: block;\n",
       "}\n",
       "\n",
       "/* \"?\"-specific style due to the `<a>` HTML tag */\n",
       "\n",
       "#sk-container-id-2 a.estimator_doc_link {\n",
       "  float: right;\n",
       "  font-size: 1rem;\n",
       "  line-height: 1em;\n",
       "  font-family: monospace;\n",
       "  background-color: var(--sklearn-color-background);\n",
       "  border-radius: 1rem;\n",
       "  height: 1rem;\n",
       "  width: 1rem;\n",
       "  text-decoration: none;\n",
       "  /* unfitted */\n",
       "  color: var(--sklearn-color-unfitted-level-1);\n",
       "  border: var(--sklearn-color-unfitted-level-1) 1pt solid;\n",
       "}\n",
       "\n",
       "#sk-container-id-2 a.estimator_doc_link.fitted {\n",
       "  /* fitted */\n",
       "  border: var(--sklearn-color-fitted-level-1) 1pt solid;\n",
       "  color: var(--sklearn-color-fitted-level-1);\n",
       "}\n",
       "\n",
       "/* On hover */\n",
       "#sk-container-id-2 a.estimator_doc_link:hover {\n",
       "  /* unfitted */\n",
       "  background-color: var(--sklearn-color-unfitted-level-3);\n",
       "  color: var(--sklearn-color-background);\n",
       "  text-decoration: none;\n",
       "}\n",
       "\n",
       "#sk-container-id-2 a.estimator_doc_link.fitted:hover {\n",
       "  /* fitted */\n",
       "  background-color: var(--sklearn-color-fitted-level-3);\n",
       "}\n",
       "</style><div id=\"sk-container-id-2\" class=\"sk-top-container\"><div class=\"sk-text-repr-fallback\"><pre>KMeans(n_clusters=2)</pre><b>In a Jupyter environment, please rerun this cell to show the HTML representation or trust the notebook. <br />On GitHub, the HTML representation is unable to render, please try loading this page with nbviewer.org.</b></div><div class=\"sk-container\" hidden><div class=\"sk-item\"><div class=\"sk-estimator fitted sk-toggleable\"><input class=\"sk-toggleable__control sk-hidden--visually\" id=\"sk-estimator-id-2\" type=\"checkbox\" checked><label for=\"sk-estimator-id-2\" class=\"sk-toggleable__label fitted sk-toggleable__label-arrow\"><div><div>KMeans</div></div><div><a class=\"sk-estimator-doc-link fitted\" rel=\"noreferrer\" target=\"_blank\" href=\"https://scikit-learn.org/1.6/modules/generated/sklearn.cluster.KMeans.html\">?<span>Documentation for KMeans</span></a><span class=\"sk-estimator-doc-link fitted\">i<span>Fitted</span></span></div></label><div class=\"sk-toggleable__content fitted\"><pre>KMeans(n_clusters=2)</pre></div> </div></div></div></div>"
      ],
      "text/plain": [
       "KMeans(n_clusters=2)"
      ]
     },
     "execution_count": 47,
     "metadata": {},
     "output_type": "execute_result"
    }
   ],
   "source": [
    "m=KMeans(2)\n",
    "m.fit(pandasmatrix)"
   ]
  },
  {
   "cell_type": "code",
   "execution_count": 48,
   "id": "d1fce86d",
   "metadata": {},
   "outputs": [],
   "source": [
    "pandasmatrix['topic'] = m.labels_\n",
    "pandasmatrix['sentences'] = Sentences"
   ]
  },
  {
   "cell_type": "code",
   "execution_count": 49,
   "id": "bc986536",
   "metadata": {},
   "outputs": [
    {
     "name": "stdout",
     "output_type": "stream",
     "text": [
      "1    Several of the scenes have rich settings but w...\n",
      "3            The prose was overwrought and pretentious\n",
      "5    It would be better to have a chapter to introd...\n",
      "7    You can probably find it at a cheaper price in...\n",
      "Name: sentences, dtype: object\n",
      "0    The corn and cheese are delicious when they're...\n",
      "2          Consider adding extra seasoning to the pork\n",
      "4       There are some nice brisket slices on the menu\n",
      "6    Everything was cold when the waiter brought it...\n",
      "Name: sentences, dtype: object\n"
     ]
    }
   ],
   "source": [
    "# These clusters can change in contents. Remember KMeans picks spots at random to begin the cluster\n",
    "print(pandasmatrix.loc[pandasmatrix['topic']==0,'sentences'])\n",
    "print(pandasmatrix.loc[pandasmatrix['topic']==1,'sentences'])"
   ]
  },
  {
   "cell_type": "code",
   "execution_count": null,
   "id": "b8c97c7f",
   "metadata": {},
   "outputs": [],
   "source": []
  }
 ],
 "metadata": {
  "kernelspec": {
   "display_name": "Python 3 (ipykernel)",
   "language": "python",
   "name": "python3"
  },
  "language_info": {
   "codemirror_mode": {
    "name": "ipython",
    "version": 3
   },
   "file_extension": ".py",
   "mimetype": "text/x-python",
   "name": "python",
   "nbconvert_exporter": "python",
   "pygments_lexer": "ipython3",
   "version": "3.11.7"
  }
 },
 "nbformat": 4,
 "nbformat_minor": 5
}
