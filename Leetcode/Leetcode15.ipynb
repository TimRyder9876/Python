{
 "cells": [
  {
   "cell_type": "code",
   "execution_count": 50,
   "id": "d7d10a84",
   "metadata": {},
   "outputs": [
    {
     "name": "stdout",
     "output_type": "stream",
     "text": [
      "{0: -1, 1: 0, 2: 1, 3: 2, 4: -1, 5: -4}\n",
      "[-1, 0, 1]\n",
      "[-1, -1, 2]\n",
      "[-1, 0, 1]\n"
     ]
    },
    {
     "data": {
      "text/plain": [
       "[[-1, 0, 1], [-1, -1, 2]]"
      ]
     },
     "execution_count": 50,
     "metadata": {},
     "output_type": "execute_result"
    }
   ],
   "source": [
    "# too slow\n",
    "def threeSum(nums):\n",
    "    #dict_list = {str(ele) : i, ele for ele in nums}\n",
    "    #dict_list = {(k,v) for k, v in enumerate(nums)}\n",
    "    dict_list = dict(sorted({(k,v) for k, v in enumerate(nums)}))\n",
    "    length = len(nums)\n",
    "    results = []\n",
    "    print(dict_list)\n",
    "    for key1, value1 in dict_list.items():\n",
    "        if key1 < length-2:\n",
    "            #print(key1)\n",
    "            for key2, value2 in dict_list.items():\n",
    "                    if key2 > key1 and key2 < length-1:\n",
    "                        #print(key2)\n",
    "                        for key3, value3 in dict_list.items():\n",
    "                            if key3 > key2: \n",
    "                                if value1 + value2 + value3 == 0:\n",
    "                                    new_list = []\n",
    "                                    new_list.append(value1)\n",
    "                                    new_list.append(value2)\n",
    "                                    new_list.append(value3)\n",
    "                                    new_list.sort()\n",
    "                                    print(new_list)\n",
    "                                    if new_list in results:\n",
    "                                        continue\n",
    "                                    results.append(new_list)\n",
    "    return results\n",
    "            \n",
    "    \n",
    "threeSum([-1,0,1,2,-1,-4])    "
   ]
  },
  {
   "cell_type": "code",
   "execution_count": null,
   "id": "ad843152",
   "metadata": {},
   "outputs": [],
   "source": [
    "    "
   ]
  },
  {
   "cell_type": "code",
   "execution_count": null,
   "id": "e1a5b8fe",
   "metadata": {},
   "outputs": [],
   "source": []
  }
 ],
 "metadata": {
  "kernelspec": {
   "display_name": "Python 3 (ipykernel)",
   "language": "python",
   "name": "python3"
  },
  "language_info": {
   "codemirror_mode": {
    "name": "ipython",
    "version": 3
   },
   "file_extension": ".py",
   "mimetype": "text/x-python",
   "name": "python",
   "nbconvert_exporter": "python",
   "pygments_lexer": "ipython3",
   "version": "3.11.7"
  }
 },
 "nbformat": 4,
 "nbformat_minor": 5
}
