{
 "cells": [
  {
   "cell_type": "markdown",
   "id": "6yDxo9u0d9Na",
   "metadata": {
    "id": "6yDxo9u0d9Na"
   },
   "source": [
    "# Project Business Statistics: E-news Express\n"
   ]
  },
  {
   "cell_type": "markdown",
   "id": "SrLd-ICEmPSD",
   "metadata": {
    "id": "SrLd-ICEmPSD"
   },
   "source": [
    "## Define Problem Statement and Objectives\n",
    "\n",
    "### Objective\n",
    "E-news Express has requested an analysis of their new online portal vs the existing portal and desires to perform A/B testing of the two landing pages. A randomly selected sample of 50 users was obtained from both the new and existing online portals. I have been asked to examine data within the samples and provide univariate and multivariate analysis. The business also has requested answers to the following questions:\n",
    "\n",
    "* Do the users spend more time on the new landing page than on the existing landing page?\n",
    "* Is the conversion rate (the proportion of users who visit the landing page and get converted) for the new page greater than the conversion rate for the old page?\n",
    "* Does the converted status depend on the preferred language?\n",
    "* Is the time spent on the new page the same for the different language users?\n",
    "\n",
    "When performing statistical analysis for the above questions, assume a 5% significance level when determining answers.\n",
    "\n",
    "Provide recommendations to the company based the analysis given.\n",
    "\n",
    "### Data Dictionary\n",
    "The data contains information regarding the interaction of users in both groups with the two versions of the landing page.\n",
    "\n",
    "* user_id - Unique user ID of the person visiting the website\n",
    "* group - Whether the user belongs to the first group (control) or the second group (treatment)\n",
    "* landing_page - Whether the landing page is new or old\n",
    "* time_spent_on_the_page - Time (in minutes) spent by the user on the landing page\n",
    "* converted - Whether the user gets converted to a subscriber of the news portal or not\n",
    "* language_preferred - Language chosen by the user to view the landing page"
   ]
  },
  {
   "cell_type": "markdown",
   "id": "a6a3d218",
   "metadata": {
    "id": "a6a3d218"
   },
   "source": [
    "## Import all the necessary libraries"
   ]
  },
  {
   "cell_type": "code",
   "execution_count": 1,
   "id": "r_5zUIePGS-1",
   "metadata": {
    "id": "r_5zUIePGS-1"
   },
   "outputs": [],
   "source": [
    "# Installing the libraries with the specified version.\n",
    "#!pip install numpy==1.25.2 pandas==1.5.3 matplotlib==3.7.1 seaborn==0.13.1 scipy==1.11.4 -q --user"
   ]
  },
  {
   "cell_type": "markdown",
   "id": "DAaycw-QP-j9",
   "metadata": {
    "id": "DAaycw-QP-j9"
   },
   "source": [
    "**Note**: *After running the above cell, kindly restart the notebook kernel and run all cells sequentially from the start again.*"
   ]
  },
  {
   "cell_type": "code",
   "execution_count": 2,
   "id": "658c5dec",
   "metadata": {
    "id": "658c5dec"
   },
   "outputs": [],
   "source": [
    "# Import various modules needed to perform analysis\n",
    "import numpy as np\n",
    "import pandas as pd\n",
    "import matplotlib.pyplot as plt\n",
    "import seaborn as sns\n",
    "%matplotlib inline\n",
    "import scipy.stats as stats"
   ]
  },
  {
   "cell_type": "markdown",
   "id": "6970dd99",
   "metadata": {
    "id": "6970dd99"
   },
   "source": [
    "## Reading the Data into a DataFrame"
   ]
  },
  {
   "cell_type": "code",
   "execution_count": 3,
   "id": "d3b95640",
   "metadata": {
    "id": "d3b95640"
   },
   "outputs": [],
   "source": [
    "# Load the abtest.csv file\n",
    "abtest = pd.read_csv('abtest.csv')"
   ]
  },
  {
   "cell_type": "markdown",
   "id": "9d75cfa2",
   "metadata": {
    "id": "9d75cfa2"
   },
   "source": [
    "## Explore the dataset and extract insights using Exploratory Data Analysis"
   ]
  },
  {
   "cell_type": "markdown",
   "id": "27201534",
   "metadata": {
    "id": "27201534"
   },
   "source": [
    "- Data Overview\n",
    "  - Viewing the first and last few rows of the dataset\n",
    "  - Checking the shape of the dataset\n",
    "  - Getting the statistical summary for the variables\n",
    "- Check for missing values\n",
    "- Check for duplicates"
   ]
  },
  {
   "cell_type": "code",
   "execution_count": 4,
   "id": "e1ad11d4",
   "metadata": {
    "id": "e1ad11d4"
   },
   "outputs": [
    {
     "data": {
      "text/html": [
       "<div>\n",
       "<style scoped>\n",
       "    .dataframe tbody tr th:only-of-type {\n",
       "        vertical-align: middle;\n",
       "    }\n",
       "\n",
       "    .dataframe tbody tr th {\n",
       "        vertical-align: top;\n",
       "    }\n",
       "\n",
       "    .dataframe thead th {\n",
       "        text-align: right;\n",
       "    }\n",
       "</style>\n",
       "<table border=\"1\" class=\"dataframe\">\n",
       "  <thead>\n",
       "    <tr style=\"text-align: right;\">\n",
       "      <th></th>\n",
       "      <th>user_id</th>\n",
       "      <th>group</th>\n",
       "      <th>landing_page</th>\n",
       "      <th>time_spent_on_the_page</th>\n",
       "      <th>converted</th>\n",
       "      <th>language_preferred</th>\n",
       "    </tr>\n",
       "  </thead>\n",
       "  <tbody>\n",
       "    <tr>\n",
       "      <th>0</th>\n",
       "      <td>546592</td>\n",
       "      <td>control</td>\n",
       "      <td>old</td>\n",
       "      <td>3.48</td>\n",
       "      <td>no</td>\n",
       "      <td>Spanish</td>\n",
       "    </tr>\n",
       "    <tr>\n",
       "      <th>1</th>\n",
       "      <td>546468</td>\n",
       "      <td>treatment</td>\n",
       "      <td>new</td>\n",
       "      <td>7.13</td>\n",
       "      <td>yes</td>\n",
       "      <td>English</td>\n",
       "    </tr>\n",
       "    <tr>\n",
       "      <th>2</th>\n",
       "      <td>546462</td>\n",
       "      <td>treatment</td>\n",
       "      <td>new</td>\n",
       "      <td>4.40</td>\n",
       "      <td>no</td>\n",
       "      <td>Spanish</td>\n",
       "    </tr>\n",
       "    <tr>\n",
       "      <th>3</th>\n",
       "      <td>546567</td>\n",
       "      <td>control</td>\n",
       "      <td>old</td>\n",
       "      <td>3.02</td>\n",
       "      <td>no</td>\n",
       "      <td>French</td>\n",
       "    </tr>\n",
       "    <tr>\n",
       "      <th>4</th>\n",
       "      <td>546459</td>\n",
       "      <td>treatment</td>\n",
       "      <td>new</td>\n",
       "      <td>4.75</td>\n",
       "      <td>yes</td>\n",
       "      <td>Spanish</td>\n",
       "    </tr>\n",
       "  </tbody>\n",
       "</table>\n",
       "</div>"
      ],
      "text/plain": [
       "   user_id      group landing_page  time_spent_on_the_page converted  \\\n",
       "0   546592    control          old                    3.48        no   \n",
       "1   546468  treatment          new                    7.13       yes   \n",
       "2   546462  treatment          new                    4.40        no   \n",
       "3   546567    control          old                    3.02        no   \n",
       "4   546459  treatment          new                    4.75       yes   \n",
       "\n",
       "  language_preferred  \n",
       "0            Spanish  \n",
       "1            English  \n",
       "2            Spanish  \n",
       "3             French  \n",
       "4            Spanish  "
      ]
     },
     "execution_count": 4,
     "metadata": {},
     "output_type": "execute_result"
    }
   ],
   "source": [
    "# Show the first five rows of the dataframe\n",
    "abtest.head()"
   ]
  },
  {
   "cell_type": "code",
   "execution_count": 5,
   "id": "833f8b4c",
   "metadata": {},
   "outputs": [
    {
     "data": {
      "text/html": [
       "<div>\n",
       "<style scoped>\n",
       "    .dataframe tbody tr th:only-of-type {\n",
       "        vertical-align: middle;\n",
       "    }\n",
       "\n",
       "    .dataframe tbody tr th {\n",
       "        vertical-align: top;\n",
       "    }\n",
       "\n",
       "    .dataframe thead th {\n",
       "        text-align: right;\n",
       "    }\n",
       "</style>\n",
       "<table border=\"1\" class=\"dataframe\">\n",
       "  <thead>\n",
       "    <tr style=\"text-align: right;\">\n",
       "      <th></th>\n",
       "      <th>user_id</th>\n",
       "      <th>group</th>\n",
       "      <th>landing_page</th>\n",
       "      <th>time_spent_on_the_page</th>\n",
       "      <th>converted</th>\n",
       "      <th>language_preferred</th>\n",
       "    </tr>\n",
       "  </thead>\n",
       "  <tbody>\n",
       "    <tr>\n",
       "      <th>95</th>\n",
       "      <td>546446</td>\n",
       "      <td>treatment</td>\n",
       "      <td>new</td>\n",
       "      <td>5.15</td>\n",
       "      <td>no</td>\n",
       "      <td>Spanish</td>\n",
       "    </tr>\n",
       "    <tr>\n",
       "      <th>96</th>\n",
       "      <td>546544</td>\n",
       "      <td>control</td>\n",
       "      <td>old</td>\n",
       "      <td>6.52</td>\n",
       "      <td>yes</td>\n",
       "      <td>English</td>\n",
       "    </tr>\n",
       "    <tr>\n",
       "      <th>97</th>\n",
       "      <td>546472</td>\n",
       "      <td>treatment</td>\n",
       "      <td>new</td>\n",
       "      <td>7.07</td>\n",
       "      <td>yes</td>\n",
       "      <td>Spanish</td>\n",
       "    </tr>\n",
       "    <tr>\n",
       "      <th>98</th>\n",
       "      <td>546481</td>\n",
       "      <td>treatment</td>\n",
       "      <td>new</td>\n",
       "      <td>6.20</td>\n",
       "      <td>yes</td>\n",
       "      <td>Spanish</td>\n",
       "    </tr>\n",
       "    <tr>\n",
       "      <th>99</th>\n",
       "      <td>546483</td>\n",
       "      <td>treatment</td>\n",
       "      <td>new</td>\n",
       "      <td>5.86</td>\n",
       "      <td>yes</td>\n",
       "      <td>English</td>\n",
       "    </tr>\n",
       "  </tbody>\n",
       "</table>\n",
       "</div>"
      ],
      "text/plain": [
       "    user_id      group landing_page  time_spent_on_the_page converted  \\\n",
       "95   546446  treatment          new                    5.15        no   \n",
       "96   546544    control          old                    6.52       yes   \n",
       "97   546472  treatment          new                    7.07       yes   \n",
       "98   546481  treatment          new                    6.20       yes   \n",
       "99   546483  treatment          new                    5.86       yes   \n",
       "\n",
       "   language_preferred  \n",
       "95            Spanish  \n",
       "96            English  \n",
       "97            Spanish  \n",
       "98            Spanish  \n",
       "99            English  "
      ]
     },
     "execution_count": 5,
     "metadata": {},
     "output_type": "execute_result"
    }
   ],
   "source": [
    "# Show the last five rows of the dataframe\n",
    "abtest.tail()"
   ]
  },
  {
   "cell_type": "code",
   "execution_count": 6,
   "id": "686db3db",
   "metadata": {},
   "outputs": [
    {
     "name": "stdout",
     "output_type": "stream",
     "text": [
      "There are 100 rows and 6 columns\n"
     ]
    }
   ],
   "source": [
    "# Show the number of rows and columns of the dataframe\n",
    "abtest_shape = np.array(abtest.shape) \n",
    "print('There are', abtest_shape[0],'rows and', abtest_shape[1], 'columns')"
   ]
  },
  {
   "cell_type": "markdown",
   "id": "68d68f2e",
   "metadata": {},
   "source": [
    "#### Observations:\n",
    "There are 100 rows and 6 columns"
   ]
  },
  {
   "cell_type": "code",
   "execution_count": 7,
   "id": "03aff1f1",
   "metadata": {},
   "outputs": [
    {
     "data": {
      "text/html": [
       "<div>\n",
       "<style scoped>\n",
       "    .dataframe tbody tr th:only-of-type {\n",
       "        vertical-align: middle;\n",
       "    }\n",
       "\n",
       "    .dataframe tbody tr th {\n",
       "        vertical-align: top;\n",
       "    }\n",
       "\n",
       "    .dataframe thead th {\n",
       "        text-align: right;\n",
       "    }\n",
       "</style>\n",
       "<table border=\"1\" class=\"dataframe\">\n",
       "  <thead>\n",
       "    <tr style=\"text-align: right;\">\n",
       "      <th></th>\n",
       "      <th>count</th>\n",
       "      <th>mean</th>\n",
       "      <th>std</th>\n",
       "      <th>min</th>\n",
       "      <th>25%</th>\n",
       "      <th>50%</th>\n",
       "      <th>75%</th>\n",
       "      <th>max</th>\n",
       "    </tr>\n",
       "  </thead>\n",
       "  <tbody>\n",
       "    <tr>\n",
       "      <th>user_id</th>\n",
       "      <td>100.0</td>\n",
       "      <td>546517.0000</td>\n",
       "      <td>52.295779</td>\n",
       "      <td>546443.00</td>\n",
       "      <td>546467.75</td>\n",
       "      <td>546492.500</td>\n",
       "      <td>546567.2500</td>\n",
       "      <td>546592.00</td>\n",
       "    </tr>\n",
       "    <tr>\n",
       "      <th>time_spent_on_the_page</th>\n",
       "      <td>100.0</td>\n",
       "      <td>5.3778</td>\n",
       "      <td>2.378166</td>\n",
       "      <td>0.19</td>\n",
       "      <td>3.88</td>\n",
       "      <td>5.415</td>\n",
       "      <td>7.0225</td>\n",
       "      <td>10.71</td>\n",
       "    </tr>\n",
       "  </tbody>\n",
       "</table>\n",
       "</div>"
      ],
      "text/plain": [
       "                        count         mean        std        min        25%  \\\n",
       "user_id                 100.0  546517.0000  52.295779  546443.00  546467.75   \n",
       "time_spent_on_the_page  100.0       5.3778   2.378166       0.19       3.88   \n",
       "\n",
       "                               50%          75%        max  \n",
       "user_id                 546492.500  546567.2500  546592.00  \n",
       "time_spent_on_the_page       5.415       7.0225      10.71  "
      ]
     },
     "execution_count": 7,
     "metadata": {},
     "output_type": "execute_result"
    }
   ],
   "source": [
    "# Describe the numerical variables\n",
    "abtest.describe().T"
   ]
  },
  {
   "cell_type": "markdown",
   "id": "e000606e",
   "metadata": {},
   "source": [
    "#### Observations:\n",
    "* The average time spent on the landing pages is 5.3 minutes\n",
    "* The minimum time spent on the landing pages is 0.2 minutes\n",
    "* The maximum time spent on the landing pages is 10.7 minutes\n",
    "* The user id information does not provide any meaningful statistical information "
   ]
  },
  {
   "cell_type": "code",
   "execution_count": 8,
   "id": "6af15e57",
   "metadata": {},
   "outputs": [
    {
     "data": {
      "text/html": [
       "<div>\n",
       "<style scoped>\n",
       "    .dataframe tbody tr th:only-of-type {\n",
       "        vertical-align: middle;\n",
       "    }\n",
       "\n",
       "    .dataframe tbody tr th {\n",
       "        vertical-align: top;\n",
       "    }\n",
       "\n",
       "    .dataframe thead th {\n",
       "        text-align: right;\n",
       "    }\n",
       "</style>\n",
       "<table border=\"1\" class=\"dataframe\">\n",
       "  <thead>\n",
       "    <tr style=\"text-align: right;\">\n",
       "      <th></th>\n",
       "      <th>count</th>\n",
       "      <th>unique</th>\n",
       "      <th>top</th>\n",
       "      <th>freq</th>\n",
       "    </tr>\n",
       "  </thead>\n",
       "  <tbody>\n",
       "    <tr>\n",
       "      <th>group</th>\n",
       "      <td>100</td>\n",
       "      <td>2</td>\n",
       "      <td>control</td>\n",
       "      <td>50</td>\n",
       "    </tr>\n",
       "    <tr>\n",
       "      <th>landing_page</th>\n",
       "      <td>100</td>\n",
       "      <td>2</td>\n",
       "      <td>old</td>\n",
       "      <td>50</td>\n",
       "    </tr>\n",
       "    <tr>\n",
       "      <th>converted</th>\n",
       "      <td>100</td>\n",
       "      <td>2</td>\n",
       "      <td>yes</td>\n",
       "      <td>54</td>\n",
       "    </tr>\n",
       "    <tr>\n",
       "      <th>language_preferred</th>\n",
       "      <td>100</td>\n",
       "      <td>3</td>\n",
       "      <td>Spanish</td>\n",
       "      <td>34</td>\n",
       "    </tr>\n",
       "  </tbody>\n",
       "</table>\n",
       "</div>"
      ],
      "text/plain": [
       "                   count unique      top freq\n",
       "group                100      2  control   50\n",
       "landing_page         100      2      old   50\n",
       "converted            100      2      yes   54\n",
       "language_preferred   100      3  Spanish   34"
      ]
     },
     "execution_count": 8,
     "metadata": {},
     "output_type": "execute_result"
    }
   ],
   "source": [
    "# Describe the categorical variables\n",
    "abtest.describe(include='object').T"
   ]
  },
  {
   "cell_type": "markdown",
   "id": "65f96e90",
   "metadata": {},
   "source": [
    "#### Observations:\n",
    "* There are 100 records in the sample dataset\n",
    "* The group and landing_page columns represent essentially the same information\n",
    "* Out of the 100 samples, 54 users have been converted to subscribers\n",
    "* There are 3 preferred languages in the dataset"
   ]
  },
  {
   "cell_type": "code",
   "execution_count": 9,
   "id": "86f608a8",
   "metadata": {},
   "outputs": [
    {
     "name": "stdout",
     "output_type": "stream",
     "text": [
      "<class 'pandas.core.frame.DataFrame'>\n",
      "RangeIndex: 100 entries, 0 to 99\n",
      "Data columns (total 6 columns):\n",
      " #   Column                  Non-Null Count  Dtype  \n",
      "---  ------                  --------------  -----  \n",
      " 0   user_id                 100 non-null    int64  \n",
      " 1   group                   100 non-null    object \n",
      " 2   landing_page            100 non-null    object \n",
      " 3   time_spent_on_the_page  100 non-null    float64\n",
      " 4   converted               100 non-null    object \n",
      " 5   language_preferred      100 non-null    object \n",
      "dtypes: float64(1), int64(1), object(4)\n",
      "memory usage: 4.8+ KB\n"
     ]
    }
   ],
   "source": [
    "# List the column datatypes and check to see if there are any null values in the dataframe\n",
    "abtest.info()"
   ]
  },
  {
   "cell_type": "markdown",
   "id": "0085620c",
   "metadata": {},
   "source": [
    "#### Observations:\n",
    "* Of the 100 rows, there are no null values\n",
    "* User_id is an integer\n",
    "* Time_spent_on_the_page is a floating value\n",
    "* Group, landing_page, converted, and language_preferred are of the object type"
   ]
  },
  {
   "cell_type": "code",
   "execution_count": 10,
   "id": "b0ec99b1",
   "metadata": {},
   "outputs": [
    {
     "data": {
      "text/html": [
       "<div>\n",
       "<style scoped>\n",
       "    .dataframe tbody tr th:only-of-type {\n",
       "        vertical-align: middle;\n",
       "    }\n",
       "\n",
       "    .dataframe tbody tr th {\n",
       "        vertical-align: top;\n",
       "    }\n",
       "\n",
       "    .dataframe thead th {\n",
       "        text-align: right;\n",
       "    }\n",
       "</style>\n",
       "<table border=\"1\" class=\"dataframe\">\n",
       "  <thead>\n",
       "    <tr style=\"text-align: right;\">\n",
       "      <th></th>\n",
       "      <th>user_id</th>\n",
       "      <th>group</th>\n",
       "      <th>landing_page</th>\n",
       "      <th>time_spent_on_the_page</th>\n",
       "      <th>converted</th>\n",
       "      <th>language_preferred</th>\n",
       "    </tr>\n",
       "  </thead>\n",
       "  <tbody>\n",
       "  </tbody>\n",
       "</table>\n",
       "</div>"
      ],
      "text/plain": [
       "Empty DataFrame\n",
       "Columns: [user_id, group, landing_page, time_spent_on_the_page, converted, language_preferred]\n",
       "Index: []"
      ]
     },
     "execution_count": 10,
     "metadata": {},
     "output_type": "execute_result"
    }
   ],
   "source": [
    "# Check the dataframe for any duplicate records\n",
    "abtest_dup = abtest[abtest.duplicated()]\n",
    "abtest_dup"
   ]
  },
  {
   "cell_type": "markdown",
   "id": "13e97f16",
   "metadata": {},
   "source": [
    "#### Observations:\n",
    "* There are no duplicate rows in the data"
   ]
  },
  {
   "cell_type": "code",
   "execution_count": 11,
   "id": "26d2c6a8",
   "metadata": {},
   "outputs": [
    {
     "name": "stdout",
     "output_type": "stream",
     "text": [
      "Evaluation of missing values in DataFrame:\n",
      "-------------------------------------------------------\n",
      "Column                        Result\n",
      "user_id                       has no missing values\n",
      "group                         has no missing values\n",
      "landing_page                  has no missing values\n",
      "time_spent_on_the_page        has no missing values\n",
      "converted                     has no missing values\n",
      "language_preferred            has no missing values\n",
      "There are no missing values in the DataFrame\n"
     ]
    }
   ],
   "source": [
    "# Determine null values within the DataFrame and sum the counts into column buckets\n",
    "df_null = pd.DataFrame(abtest.isnull().sum()).reset_index()\n",
    "\n",
    "# Print the results of the missing value analysis\n",
    "# Declare report variables\n",
    "issues=0\n",
    "text1 = 'Column'\n",
    "text2 = 'Result'\n",
    "\n",
    "# Print report framework\n",
    "print('Evaluation of missing values in DataFrame:')\n",
    "print('-'*55)\n",
    "print(f'{text1:<30}{text2}')\n",
    "\n",
    "# Print results of missing value analysis by column\n",
    "for i in range(len(df_null)):\n",
    "    if df_null.iloc[i,1] != 0:\n",
    "        print(f'{df_null.iloc[i,0]:<30}{df_null.iloc[i,1]} missing values')\n",
    "        issues += df_null.iloc[i,1]\n",
    "    else:\n",
    "        print(f'{df_null.iloc[i,0]:<30}has no missing values')\n",
    "        \n",
    "# Print total number, if exists, of missing values in DataFrame        \n",
    "if issues == 0:\n",
    "    print('There are no missing values in the DataFrame')\n",
    "else:\n",
    "    print('There are', issues, 'missing values in the DataFrame')"
   ]
  },
  {
   "cell_type": "markdown",
   "id": "25936dd4",
   "metadata": {},
   "source": [
    "#### Observations:\n",
    "* There are no missing values in the dataset."
   ]
  },
  {
   "cell_type": "markdown",
   "id": "68f3b2c9",
   "metadata": {
    "id": "68f3b2c9"
   },
   "source": [
    "### Univariate Analysis"
   ]
  },
  {
   "cell_type": "code",
   "execution_count": 12,
   "id": "ed41f781",
   "metadata": {},
   "outputs": [
    {
     "data": {
      "image/png": "[encoded data removed]",
      "text/plain": [
       "<Figure size 600x400 with 1 Axes>"
      ]
     },
     "metadata": {},
     "output_type": "display_data"
    },
    {
     "data": {
      "image/png": "[encoded data removed]",
      "text/plain": [
       "<Figure size 600x400 with 1 Axes>"
      ]
     },
     "metadata": {},
     "output_type": "display_data"
    },
    {
     "data": {
      "image/png": "[encoded data removed]",
      "text/plain": [
       "<Figure size 600x400 with 1 Axes>"
      ]
     },
     "metadata": {},
     "output_type": "display_data"
    },
    {
     "data": {
      "image/png": "[encoded data removed]",
      "text/plain": [
       "<Figure size 600x400 with 1 Axes>"
      ]
     },
     "metadata": {},
     "output_type": "display_data"
    }
   ],
   "source": [
    "# Create bar charts for the group, landing_page, converted, and language_preferred categorical fields\n",
    "# User id is not included\n",
    "\n",
    "# Create a list of columns to create bar charts\n",
    "categorical_attributes = ['group','landing_page','converted','language_preferred']\n",
    "\n",
    "# For each value in the list of categories, create a bar chart\n",
    "for att in categorical_attributes:\n",
    "    plt.figure(figsize=(6,4))\n",
    "    z = abtest[att].value_counts().sort_values(ascending=True)\n",
    "    ax = abtest[att].value_counts().sort_values(ascending=True).plot.bar()\n",
    "    plt.title(att.capitalize().replace('_',' '), fontsize=12, pad=10, loc='left')\n",
    "    plt.ylabel('Record Count', fontsize=10, labelpad=5)\n",
    "    plt.xticks(rotation=0, fontsize=8)\n",
    "    plt.yticks(np.arange(0,60,10),fontsize=8)\n",
    "    plt.tight_layout()\n",
    "        labels = [item.get_text().capitalize() for item in ax.get_xticklabels()]\n",
    "        ax.set_xticklabels(labels)\n",
    "    ax.spines['top'].set_visible(False)\n",
    "    ax.spines['right'].set_visible(False)\n",
    "    for i in range(len(z)):\n",
    "        plt.text(i,z[i],z[i], horizontalalignment='center')\n",
    "    plt.show()"
   ]
  },
  {
   "cell_type": "markdown",
   "id": "5682a82b",
   "metadata": {},
   "source": [
    "#### Observations:\n",
    "* The group and landing_page columns both have 50 records in the treatment(new) and control(old) landing pages. The values appear to represent the same information\n",
    "* Customers subscribing to the business represent 54% of the sample\n",
    "* The numbers of users preferring either English, Spanish, or French is evenly distributed within the sample\n"
   ]
  },
  {
   "cell_type": "code",
   "execution_count": 13,
   "id": "b299d876",
   "metadata": {},
   "outputs": [
    {
     "data": {
      "image/png": "[encoded data removed]",
      "text/plain": [
       "<Figure size 800x400 with 1 Axes>"
      ]
     },
     "metadata": {},
     "output_type": "display_data"
    },
    {
     "data": {
      "image/png": "[encoded data removed]",
      "text/plain": [
       "<Figure size 800x400 with 1 Axes>"
      ]
     },
     "metadata": {},
     "output_type": "display_data"
    }
   ],
   "source": [
    "# Create a histogram of the column time_spent_on_the_page\n",
    "plt.figure(figsize=(8,4))\n",
    "plt.title('Time Spent Record Count', fontsize=12, pad=10)\n",
    "plt.xlabel('Time (minutes)', fontsize=10, labelpad=5, )\n",
    "plt.ylabel('Record Count', fontsize=10, labelpad=10)\n",
    "plt.xticks(fontsize=8)\n",
    "plt.yticks(np.arange(0,30,5),fontsize=8)\n",
    "ax = sns.histplot(data = abtest, x='time_spent_on_the_page', kde=True)\n",
    "ax.spines['top'].set_visible(False)\n",
    "ax.spines['right'].set_visible(False)\n",
    "plt.show()           \n",
    "\n",
    "# Create a boxplot of the column time_spent_on_the_page\n",
    "plt.figure(figsize=(8,4))\n",
    "plt.title('Box Plot: Time Spent', fontsize=12, pad=10)\n",
    "plt.xlabel('Time (minutes)', fontsize=10, labelpad=10)\n",
    "plt.xticks(np.arange(0, 15, step=1), fontsize=10)\n",
    "ax = sns.boxplot(data = abtest, x='time_spent_on_the_page')\n",
    "ax.spines['top'].set_visible(False)\n",
    "ax.spines['right'].set_visible(False)\n",
    "ax.spines['left'].set_visible(False)\n",
    "plt.show()"
   ]
  },
  {
   "cell_type": "markdown",
   "id": "90375e17",
   "metadata": {},
   "source": [
    "#### Observations\n",
    "* The time spent on the landing pages appears to be normally distributed\n",
    "* The middle 50% of users spend between 4 and 7 on the landing page"
   ]
  },
  {
   "cell_type": "markdown",
   "id": "fad2de2f",
   "metadata": {
    "id": "fad2de2f"
   },
   "source": [
    "### Bivariate Analysis"
   ]
  },
  {
   "cell_type": "code",
   "execution_count": 14,
   "id": "33367ff1",
   "metadata": {},
   "outputs": [
    {
     "data": {
      "image/png": "[encoded data removed]",
      "text/plain": [
       "<Figure size 600x400 with 1 Axes>"
      ]
     },
     "metadata": {},
     "output_type": "display_data"
    },
    {
     "data": {
      "image/png": "[encoded data removed]",
      "text/plain": [
       "<Figure size 600x400 with 1 Axes>"
      ]
     },
     "metadata": {},
     "output_type": "display_data"
    },
    {
     "data": {
      "image/png": "[encoded data removed]",
      "text/plain": [
       "<Figure size 600x400 with 1 Axes>"
      ]
     },
     "metadata": {},
     "output_type": "display_data"
    }
   ],
   "source": [
    "# Create 3 boxplots each comparing landing_page, converted, and language_preferred columns\n",
    "# to the time_spent_on_the page column\n",
    "\n",
    "# Create a list of columns to create box plots\n",
    "categorical_attributes = ['landing_page','converted','language_preferred']\n",
    "\n",
    "# For each value in the list of categories, create a bar chart\n",
    "for att in categorical_attributes:\n",
    "    plt.figure(figsize=(6,4))\n",
    "    flierprops = dict(marker='o', markerfacecolor='Red', markersize=10)\n",
    "    ax = sns.boxplot(data=abtest,x=att,y='time_spent_on_the_page', flierprops=flierprops)\n",
    "    plt.title(att.capitalize().replace('_',' ')+' vs Time spent on page', fontsize=12, pad=10, loc='left')\n",
    "    plt.ylabel('Time Spent On Page', fontsize=10, labelpad=10)\n",
    "    plt.xlabel(att.capitalize().replace('_',' '), fontsize=10, labelpad=10)\n",
    "    plt.xticks(rotation=0, fontsize=8)\n",
    "    plt.yticks(np.arange(0,14,2),fontsize=8)\n",
    "    plt.tight_layout()\n",
    "    ax.set_xticks(ax.get_xticks()) \n",
    "    ax.set_xticklabels(item.get_text().capitalize() for item in ax.get_xticklabels())\n",
    "    ax.spines['top'].set_visible(False)\n",
    "    ax.spines['right'].set_visible(False)\n",
    "    plt.show()"
   ]
  },
  {
   "cell_type": "markdown",
   "id": "48c4b9eb",
   "metadata": {},
   "source": [
    "#### Observations\n",
    "* There is a wider dispersion of time spent on the old landing page vs the new landing page\n",
    "* The old landing page had times ranging from less than one minute to about 10 minutes\n",
    "* The new landing page had times ranging from 3 minutes to 9 minutes with some outliers on both sides of the distribution\n",
    "* While the new landing page does show a noticeable increase on the lower end of time spent in the landing page, it does not indicate much improvement on the higher end of time spent vs the old landing page\n",
    "* For subscription converted users, they spend more time overall in the landing page vs non-subscribers\n",
    "* English and French users have a higher range of time spent online than Spanish users.\n",
    "* All of the boxplots indicate a normal distribution of data with only a small number of outliers"
   ]
  },
  {
   "cell_type": "code",
   "execution_count": 15,
   "id": "58e9a1d0",
   "metadata": {
    "id": "58e9a1d0"
   },
   "outputs": [
    {
     "data": {
      "text/html": [
       "<div>\n",
       "<style scoped>\n",
       "    .dataframe tbody tr th:only-of-type {\n",
       "        vertical-align: middle;\n",
       "    }\n",
       "\n",
       "    .dataframe tbody tr th {\n",
       "        vertical-align: top;\n",
       "    }\n",
       "\n",
       "    .dataframe thead th {\n",
       "        text-align: right;\n",
       "    }\n",
       "</style>\n",
       "<table border=\"1\" class=\"dataframe\">\n",
       "  <thead>\n",
       "    <tr style=\"text-align: right;\">\n",
       "      <th></th>\n",
       "      <th>landing_page</th>\n",
       "      <th>converted</th>\n",
       "      <th>language_preferred</th>\n",
       "      <th>total_time_spent</th>\n",
       "      <th>record_count</th>\n",
       "    </tr>\n",
       "  </thead>\n",
       "  <tbody>\n",
       "    <tr>\n",
       "      <th>0</th>\n",
       "      <td>new</td>\n",
       "      <td>no</td>\n",
       "      <td>English</td>\n",
       "      <td>33.04</td>\n",
       "      <td>6</td>\n",
       "    </tr>\n",
       "    <tr>\n",
       "      <th>1</th>\n",
       "      <td>new</td>\n",
       "      <td>no</td>\n",
       "      <td>French</td>\n",
       "      <td>22.00</td>\n",
       "      <td>5</td>\n",
       "    </tr>\n",
       "    <tr>\n",
       "      <th>2</th>\n",
       "      <td>new</td>\n",
       "      <td>no</td>\n",
       "      <td>Spanish</td>\n",
       "      <td>27.96</td>\n",
       "      <td>6</td>\n",
       "    </tr>\n",
       "    <tr>\n",
       "      <th>3</th>\n",
       "      <td>new</td>\n",
       "      <td>yes</td>\n",
       "      <td>English</td>\n",
       "      <td>73.58</td>\n",
       "      <td>10</td>\n",
       "    </tr>\n",
       "    <tr>\n",
       "      <th>4</th>\n",
       "      <td>new</td>\n",
       "      <td>yes</td>\n",
       "      <td>French</td>\n",
       "      <td>83.34</td>\n",
       "      <td>12</td>\n",
       "    </tr>\n",
       "  </tbody>\n",
       "</table>\n",
       "</div>"
      ],
      "text/plain": [
       "  landing_page converted language_preferred  total_time_spent  record_count\n",
       "0          new        no            English             33.04             6\n",
       "1          new        no             French             22.00             5\n",
       "2          new        no            Spanish             27.96             6\n",
       "3          new       yes            English             73.58            10\n",
       "4          new       yes             French             83.34            12"
      ]
     },
     "execution_count": 15,
     "metadata": {},
     "output_type": "execute_result"
    }
   ],
   "source": [
    "# Drop the columns group and user_id. Group is essentially the same as landing_page. User id not needed\n",
    "abtest_new = abtest.drop(['group', 'user_id'], axis=1).copy(deep=True)\n",
    "\n",
    "# Summarize the data by time spent on page and record count\n",
    "abtest_new_summary = abtest_new.groupby(by=['landing_page','converted','language_preferred']) \\\n",
    "                                        .agg({'time_spent_on_the_page':['sum','count']}).reset_index()\n",
    "\n",
    "# Join the summary column name and operation into one\n",
    "abtest_new_summary.columns = abtest_new_summary.columns.map(''.join)\n",
    "\n",
    "# Rename the summary columns\n",
    "abtest_new_summary.rename(columns={'time_spent_on_the_pagesum':'total_time_spent', \n",
    "                                   'time_spent_on_the_pagecount':'record_count'\n",
    "                                  }, inplace=True)\n",
    "\n",
    "# Show the first five rows of the summary\n",
    "abtest_new_summary.head()"
   ]
  },
  {
   "cell_type": "code",
   "execution_count": 16,
   "id": "b48df7d4",
   "metadata": {},
   "outputs": [
    {
     "data": {
      "image/png": "[encoded data removed]",
      "text/plain": [
       "<Figure size 1604.61x500 with 3 Axes>"
      ]
     },
     "metadata": {},
     "output_type": "display_data"
    }
   ],
   "source": [
    "# Create bar chart of the preferred languages by conversion count\n",
    "# Include landing page as the hue\n",
    "ax = sns.catplot(data=abtest_new_summary, x='converted', y='record_count', hue='landing_page',\n",
    "                 col='language_preferred', kind='bar', palette=\"Blues\", hue_order=['old','new'])\n",
    "ax.fig.suptitle('Conversions by Preferred Languages', fontsize=14)\n",
    "ax.set_titles('Preferred Language - {col_name}')\n",
    "ax.set_axis_labels('Converted','Count')\n",
    "ax._legend.set_title('Landing Page')\n",
    "plt.subplots_adjust(top=.85)\n",
    "plt.show()"
   ]
  },
  {
   "cell_type": "markdown",
   "id": "8ea9c343",
   "metadata": {},
   "source": [
    "#### Observations:\n",
    "* English users had a higher subscription conversion rate under the old landing page vs the new landing page\n",
    "* French and Spanish had a higher subscription conversion rate under the new landing page vs the old landing page"
   ]
  },
  {
   "cell_type": "code",
   "execution_count": 17,
   "id": "9b0ae973",
   "metadata": {},
   "outputs": [
    {
     "data": {
      "image/png": "[encoded data removed]",
      "text/plain": [
       "<Figure size 1604.61x500 with 3 Axes>"
      ]
     },
     "metadata": {},
     "output_type": "display_data"
    }
   ],
   "source": [
    "# Create bar chart of the preferred languages by conversion and time spent on the landing page\n",
    "# Include landing page as the hue\n",
    "ax = sns.catplot(data=abtest_new_summary, x='converted', y='total_time_spent', hue='landing_page',\n",
    "                 col='language_preferred', kind='bar', palette=\"Blues\", hue_order=['old','new'])\n",
    "ax.fig.suptitle('Conversions by Preferred Languages on Time Spent in Sites', fontsize=14)\n",
    "ax.set_titles('Preferred Language - {col_name}')\n",
    "ax.set_axis_labels('Converted','Total Time Spent')\n",
    "ax._legend.set_title('Landing Page')\n",
    "plt.subplots_adjust(top=.85)\n",
    "plt.show()"
   ]
  },
  {
   "cell_type": "markdown",
   "id": "217a2647",
   "metadata": {},
   "source": [
    "#### Observations:\n",
    "* French subscription users spent 4 times the amount of time on the new landing page than the old page\n",
    "* English non-subscription users spent 3 times the amount of time on the new landing page than the old page\n",
    "* Spanish subscription users had about a 50% increase in time spent on the new landing page than the old page"
   ]
  },
  {
   "cell_type": "markdown",
   "id": "27906576",
   "metadata": {
    "id": "27906576"
   },
   "source": [
    "## 1. Do the users spend more time on the new landing page than the existing landing page?"
   ]
  },
  {
   "cell_type": "markdown",
   "id": "e5fdf0c8",
   "metadata": {
    "id": "e5fdf0c8"
   },
   "source": [
    "### Perform Visual Analysis"
   ]
  },
  {
   "cell_type": "code",
   "execution_count": 18,
   "id": "6eZJa41eg21n",
   "metadata": {
    "id": "6eZJa41eg21n"
   },
   "outputs": [
    {
     "data": {
      "image/png": "[encoded data removed]",
      "text/plain": [
       "<Figure size 600x400 with 1 Axes>"
      ]
     },
     "metadata": {},
     "output_type": "display_data"
    }
   ],
   "source": [
    "# Create a boxplot of the landing page version vs the time spent on a webpage\n",
    "plt.figure(figsize=(6,4))\n",
    "flierprops = dict(marker='o', markerfacecolor='Red', markersize=10)\n",
    "ax = sns.boxplot(data=abtest, x='landing_page', y='time_spent_on_the_page', flierprops = flierprops)\n",
    "plt.title('Landing Page Vs Time Spent on Page', fontsize=12, pad=10, loc='left')\n",
    "plt.xlabel('Landing Page', fontsize=10, labelpad=10)\n",
    "plt.ylabel('Time Spent', fontsize=10, labelpad=10)\n",
    "plt.xticks(rotation=0, fontsize=8)\n",
    "plt.yticks(np.arange(0,14,2),fontsize=8)\n",
    "plt.tight_layout()\n",
    "ax.set_xticks(ax.get_xticks()) \n",
    "ax.set_xticklabels(item.get_text().capitalize() for item in ax.get_xticklabels())\n",
    "ax.spines['top'].set_visible(False)\n",
    "ax.spines['right'].set_visible(False)\n",
    "plt.show()"
   ]
  },
  {
   "cell_type": "markdown",
   "id": "56b3dafd",
   "metadata": {
    "id": "56b3dafd"
   },
   "source": [
    "### Step 1: Define the null and alternate hypotheses"
   ]
  },
  {
   "cell_type": "markdown",
   "id": "bfafb90c",
   "metadata": {},
   "source": [
    "Let $\\mu_1, \\mu_2$ be the mean time spent for the new and old landing pages \n",
    "respectively.\n",
    "\n",
    "We will test the null hypothesis\n",
    "\n",
    ">$H_0:\\mu_1=\\mu_2$\n",
    "\n",
    "against the alternate hypothesis\n",
    "\n",
    ">$H_a:\\mu_1>\\mu_2$\n"
   ]
  },
  {
   "cell_type": "markdown",
   "id": "c7ee4907",
   "metadata": {
    "id": "c7ee4907"
   },
   "source": [
    "### Step 2: Select Appropriate test"
   ]
  },
  {
   "cell_type": "markdown",
   "id": "2c183cd7",
   "metadata": {
    "id": "2c183cd7"
   },
   "source": [
    "* Continuous data - The time spent on a page is measured on a continuous scale\n",
    "* Normally distributed data and sample sizes > 30 - The sample sizes for both the new and old landing pages are greater than 30, so the Central Limit Theorem states that the distribution of sample means will be normal\n",
    "* Independent populations - The samples are taken from two different landing pages, the 2 samples are independent\n",
    "* Unequal population standard deviations - Since the sample standard deviations are different, the population standard deviations for both landing pages is assumed to be different\n",
    "* Random sampling from the population - We are informed the collected samples are simple random samples \n",
    "\n",
    "Perform a 2 sample independent t-test for equality of means when unequal standard deviations"
   ]
  },
  {
   "cell_type": "markdown",
   "id": "3f58c9a7",
   "metadata": {
    "id": "3f58c9a7"
   },
   "source": [
    "### Step 3: Decide the significance level"
   ]
  },
  {
   "cell_type": "markdown",
   "id": "92d7d7ee",
   "metadata": {
    "id": "92d7d7ee"
   },
   "source": [
    "The significance level is α = 0.05"
   ]
  },
  {
   "cell_type": "markdown",
   "id": "5fed2eac",
   "metadata": {
    "id": "5fed2eac"
   },
   "source": [
    "### Step 4: Collect and prepare data"
   ]
  },
  {
   "cell_type": "code",
   "execution_count": 19,
   "id": "d8e300ca",
   "metadata": {},
   "outputs": [
    {
     "name": "stdout",
     "output_type": "stream",
     "text": [
      "The mean time spent on the pages for the new landing is 6.22\n",
      "The mean time spent on the pages for the old landing is 4.53\n",
      "The standard deviation of the time spent on the pages for the new landing is 1.82\n",
      "The standard deviation of the time spent on the pages for the old landing is 2.58\n"
     ]
    }
   ],
   "source": [
    "# Load the abtest.csv data with only the landing_page and time_spent_on_the_page columns\n",
    "abtest_lt = pd.read_csv('abtest.csv', usecols=['landing_page', 'time_spent_on_the_page'])\n",
    "\n",
    "# Create a filtered dataframe of only the new landing_page\n",
    "abtest_new = abtest_lt[abtest_lt['landing_page']=='new']\n",
    "\n",
    "# Create a filtered dataframe of only the old landing_page\n",
    "abtest_old = abtest_lt[abtest_lt['landing_page']=='old']\n",
    "\n",
    "# Calculate the mean and standard deviations for the time spent within the new/old landing page dataframes\n",
    "print('The mean time spent on the pages for the new landing is ' + \\\n",
    "      str(round(abtest_new['time_spent_on_the_page'].mean(),2)))\n",
    "print('The mean time spent on the pages for the old landing is ' + \\\n",
    "      str(round(abtest_old['time_spent_on_the_page'].mean(),2)))\n",
    "print('The standard deviation of the time spent on the pages for the new landing is ' + \\\n",
    "      str(round(abtest_new['time_spent_on_the_page'].std(),2)))\n",
    "print('The standard deviation of the time spent on the pages for the old landing is ' + \\\n",
    "      str(round(abtest_old['time_spent_on_the_page'].std(),2)))"
   ]
  },
  {
   "cell_type": "markdown",
   "id": "f5c5258d",
   "metadata": {
    "id": "f5c5258d"
   },
   "source": [
    "### Step 5: Calculate the p-value"
   ]
  },
  {
   "cell_type": "code",
   "execution_count": 20,
   "id": "fac8594a",
   "metadata": {
    "id": "fac8594a"
   },
   "outputs": [
    {
     "name": "stdout",
     "output_type": "stream",
     "text": [
      "The p-value is  0.000139\n"
     ]
    }
   ],
   "source": [
    "# Import the ttest_ind from scipy\n",
    "from scipy.stats import ttest_ind\n",
    "\n",
    "# Calculate the t-stat and p-values\n",
    "test_stat, p_value = ttest_ind(abtest_new['time_spent_on_the_page'], \\\n",
    "                               abtest_old['time_spent_on_the_page'],  \\\n",
    "                               equal_var = False, alternative = 'greater')\n",
    "print('The p-value is ', str(round(p_value,6)))"
   ]
  },
  {
   "cell_type": "markdown",
   "id": "359b12f8",
   "metadata": {
    "id": "359b12f8"
   },
   "source": [
    "### Step 6: Compare the p-value with $\\alpha$"
   ]
  },
  {
   "cell_type": "code",
   "execution_count": 21,
   "id": "7be47289",
   "metadata": {
    "id": "7be47289"
   },
   "outputs": [
    {
     "name": "stdout",
     "output_type": "stream",
     "text": [
      "The p-value of 0.00014 is less than level of significance of 5%, therefore we reject the null hypothesis\n"
     ]
    }
   ],
   "source": [
    "# Determine if the hypothesis is rejected or failed to reject based on the p-value and level of significance\n",
    "if p_value < 0.05:\n",
    "    print('The p-value of {0} is less than level of significance of 5%, therefore we reject the null hypothesis'.format(round(p_value,5)))\n",
    "else:\n",
    "    print('The p-value of {0} is greater than or equal to the level of significance of 5%, therefore we fail to reject the null hypothesis'.format(round(p_value,5)))"
   ]
  },
  {
   "cell_type": "markdown",
   "id": "d9affc84",
   "metadata": {
    "id": "d9affc84"
   },
   "source": [
    "### Step 7:  Draw inference"
   ]
  },
  {
   "cell_type": "markdown",
   "id": "6b16dd4b",
   "metadata": {
    "id": "6b16dd4b"
   },
   "source": [
    "As the p-value is much less than the level of significance, we reject the null hypothesis. Hence, we have enough statistical evidence to conclude that users spend more time on the new landing page than the existing landing page."
   ]
  },
  {
   "cell_type": "markdown",
   "id": "0b0f8eb3",
   "metadata": {},
   "source": [
    "## 2. Is the conversion rate (the proportion of users who visit the landing page and get converted) for the new page greater than the conversion rate for the old page?"
   ]
  },
  {
   "cell_type": "markdown",
   "id": "ZmZfv9znHmuI",
   "metadata": {
    "id": "ZmZfv9znHmuI"
   },
   "source": [
    "### Perform Visual Analysis"
   ]
  },
  {
   "cell_type": "code",
   "execution_count": 22,
   "id": "d61fd1fd",
   "metadata": {},
   "outputs": [
    {
     "name": "stdout",
     "output_type": "stream",
     "text": [
      "converted       no   yes\n",
      "landing_page            \n",
      "new           0.34  0.66\n",
      "old           0.58  0.42\n"
     ]
    },
    {
     "data": {
      "image/png": "[encoded data removed]",
      "text/plain": [
       "<Figure size 640x480 with 1 Axes>"
      ]
     },
     "metadata": {},
     "output_type": "display_data"
    }
   ],
   "source": [
    "# Read in the abtest.csv file. use only the landing_page and converted columns\n",
    "abtest_lc = pd.read_csv('abtest.csv', usecols=['landing_page', 'converted'])\n",
    "\n",
    "# Print the count values for the landing_page and converted columns\n",
    "print(pd.crosstab(abtest_lc['landing_page'],abtest_lc['converted'],normalize='index'))\n",
    "\n",
    "# Create a stacked bar chart showing the conversions based on the landing page\n",
    "plt.figsize=(6,4)\n",
    "ax = pd.crosstab(abtest_lc['landing_page'],abtest_lc['converted'],normalize='index').plot(kind=\"bar\", stacked=True)\n",
    "plt.title('Landing Page Conversions', fontsize=12, pad=10, loc='left')\n",
    "plt.ylabel('Count', fontsize=10, labelpad=10)\n",
    "plt.xlabel('Landing Page', fontsize=10, labelpad=5)\n",
    "plt.xticks(rotation=0, fontsize=8)\n",
    "plt.yticks(np.arange(0,1.1, 0.2),fontsize=8)\n",
    "plt.tight_layout\n",
    "plt.legend(title='Conversion', loc='upper right', bbox_to_anchor=(1.2, 1))\n",
    "labels = [item.get_text().capitalize() for item in ax.get_xticklabels()]\n",
    "ax.set_xticklabels(labels)\n",
    "ax.spines['top'].set_visible(False)\n",
    "ax.spines['right'].set_visible(False)\n",
    "    for c in ax.containers:\n",
    "        for v in c:\n",
    "            plt.text(v.get_x() + v.get_width() / 2,\n",
    "                     v.get_y() + v.get_height() / 2,\n",
    "                     str(round(v.get_height()*100,2)) + '%', horizontalalignment='center')\n",
    "plt.show()"
   ]
  },
  {
   "cell_type": "markdown",
   "id": "749014ff",
   "metadata": {},
   "source": [
    "### Step 1: Define the null and alternate hypotheses\n",
    "\n",
    "Let $p_1, p_2$ be the conversion rates for users who visit the new and old landing pages\n",
    "respectively.\n",
    "\n",
    "We will test the null hypothesis\n",
    "\n",
    ">$H_0: p_1 = p_2$\n",
    "\n",
    "against the alternate hypothesis\n",
    "\n",
    ">$H_a: p_1> p_2$\n"
   ]
  },
  {
   "cell_type": "markdown",
   "id": "b773c1a5",
   "metadata": {
    "id": "b7f52898"
   },
   "source": [
    "### Step 2: Select Appropriate test\n",
    "*   Binomially distributed population - A user on a landing page is either converted or not converted.\n",
    "*   Random sampling from the population - We are informed that the collected sample is a simple random sample.  \n",
    "*   Binomial distribution approximates the normal distribution - The standard thing is to check whether np and n(1-p) are greater than or equal to 10. Here, n and p refer to the sample size and sample proportion respectively.\n",
    ">$np_1 = 50\\cdot \\frac{33}{50} =33 \\geq 10\\\\\n",
    "n(1-p_1) = 50 \\cdot \\frac{50-33}{50} =17 \\geq 10 \\\\\n",
    "np_2 = 50\\cdot \\frac{21}{50} =21 \\geq 10\\\\\n",
    "n(1-p_2) = 50 \\cdot \\frac{50-21}{50} =29 \\geq 10 $\n",
    "\n",
    "Perform a two proportion z-test"
   ]
  },
  {
   "cell_type": "markdown",
   "id": "3d0a6f4c",
   "metadata": {},
   "source": [
    "### Step 3: Decide the significance level\n",
    "\n",
    "The significance level is α = 0.05"
   ]
  },
  {
   "cell_type": "markdown",
   "id": "bc9037fb",
   "metadata": {},
   "source": [
    "### Step 4: Collect and prepare data"
   ]
  },
  {
   "cell_type": "code",
   "execution_count": 23,
   "id": "218ecfb8",
   "metadata": {},
   "outputs": [
    {
     "name": "stdout",
     "output_type": "stream",
     "text": [
      "The numbers of users in the new and old landing page samples are 50 and 50 respectively\n"
     ]
    }
   ],
   "source": [
    "# Read in the abtest.csv file. use only the landing_page and converted columns\n",
    "abtest_lc = pd.read_csv('abtest.csv', usecols=['landing_page', 'converted'])\n",
    "\n",
    "# Get the count values for the landing page and converted columns\n",
    "abtest_new = abtest_lc.value_counts()\n",
    "\n",
    "# Get the array for defect_count. new landpage is the first value, old landpage is the second value\n",
    "defect_count = [abtest_new.loc['new','yes'], abtest_new.loc['old','yes']]\n",
    "\n",
    "# Get the array for nobs. new landpage total is the first value, old landpage total is the second value\n",
    "nobs = [abtest_new.loc['new',:].sum(), abtest_new.loc['old',:].sum()]\n",
    "\n",
    "print('The numbers of users in the new and old landing page samples are {0} and {1} respectively'. \n",
    "      format(abtest_new.loc['new',:].sum(), abtest_new.loc['old',:].sum()))"
   ]
  },
  {
   "cell_type": "markdown",
   "id": "3c18128a",
   "metadata": {},
   "source": [
    "### Step 5: Calculate the p-value"
   ]
  },
  {
   "cell_type": "code",
   "execution_count": 24,
   "id": "d799a475",
   "metadata": {},
   "outputs": [
    {
     "name": "stdout",
     "output_type": "stream",
     "text": [
      "The p-value is 0.008026308204056278\n"
     ]
    }
   ],
   "source": [
    "# Import the proportions_ztest from statsmodel\n",
    "from statsmodels.stats.proportion import proportions_ztest\n",
    "\n",
    "# Calculate the t-stat and p-values\n",
    "test_stat, p_value = proportions_ztest(defect_count, nobs, alternative ='larger')\n",
    "print('The p-value is ' + str(p_value))"
   ]
  },
  {
   "cell_type": "markdown",
   "id": "0a7f87fa",
   "metadata": {},
   "source": [
    "### Step 6: Compare the p-value with $\\alpha$\n"
   ]
  },
  {
   "cell_type": "code",
   "execution_count": 25,
   "id": "671bdf7c",
   "metadata": {},
   "outputs": [
    {
     "name": "stdout",
     "output_type": "stream",
     "text": [
      "The p-value of 0.00803 is less than level of significance of 5%, therefore we reject the null hypothesis\n"
     ]
    }
   ],
   "source": [
    "# Determine if the hypothesis is rejected or failed to reject based on the p-value and level of significance\n",
    "if p_value < 0.05:\n",
    "    print('The p-value of {0} is less than level of significance of 5%, therefore we reject the null hypothesis'.format(round(p_value,5)))\n",
    "else:\n",
    "    print('The p-value of {0} is greater than or equal to the level of significance of 5%, therefore we fail to reject the null hypothesis'.format(round(p_value,5)))"
   ]
  },
  {
   "cell_type": "markdown",
   "id": "2d0e54c8",
   "metadata": {},
   "source": [
    "### Step 7:  Draw inference\n",
    "\n",
    "As the p-value is much less than the level of significance, we reject the null hypothesis. Hence, we have enough statistical evidence to conclude that users who visit the new landing page have a higher conversion rate than those users who visit the old landing page."
   ]
  },
  {
   "cell_type": "markdown",
   "id": "d49bfa2d",
   "metadata": {
    "id": "d49bfa2d"
   },
   "source": [
    "## 3. Is the conversion and preferred language are independent or related?"
   ]
  },
  {
   "cell_type": "markdown",
   "id": "e24feb6e",
   "metadata": {
    "id": "b0e63f17"
   },
   "source": [
    "### Perform Visual Analysis"
   ]
  },
  {
   "cell_type": "code",
   "execution_count": 26,
   "id": "623c3c1d",
   "metadata": {},
   "outputs": [
    {
     "name": "stdout",
     "output_type": "stream",
     "text": [
      "language_preferred  English  French  Spanish\n",
      "converted                                   \n",
      "no                       11      19       16\n",
      "yes                      21      15       18\n"
     ]
    },
    {
     "data": {
      "image/png": "[encoded data removed]",
      "text/plain": [
       "<Figure size 640x480 with 1 Axes>"
      ]
     },
     "metadata": {},
     "output_type": "display_data"
    }
   ],
   "source": [
    "# Read in the abtest.csv file. use only the language_preferred and converted columns\n",
    "abtest_lc = pd.read_csv('abtest.csv', usecols=['language_preferred', 'converted'])\n",
    "\n",
    "# Print the count values for the preferred language and converted columns\n",
    "print(abtest_lc.value_counts().unstack())\n",
    "\n",
    "# Create a stacked bar chart of the conversion rates by language \n",
    "plt.figsize=(6,4)\n",
    "ax = abtest_lc.value_counts().unstack().plot(kind=\"bar\", stacked=True)\n",
    "plt.title('Preferred Language Conversions', fontsize=12, pad=10, loc='left')\n",
    "plt.ylabel('Count', fontsize=10, labelpad=10)\n",
    "plt.xlabel('Conversion', fontsize=10, labelpad=5)\n",
    "plt.xticks(rotation=0, fontsize=8)\n",
    "plt.yticks(np.arange(0,60,10),fontsize=8)\n",
    "plt.tight_layout()\n",
    "labels = [item.get_text().capitalize() for item in ax.get_xticklabels()]\n",
    "ax.set_xticklabels(labels)\n",
    "plt.legend(loc='upper right', bbox_to_anchor=(1.25, 1))\n",
    "ax.spines['top'].set_visible(False)\n",
    "ax.spines['right'].set_visible(False)\n",
    "for c in ax.containers:\n",
    "    for v in c:\n",
    "        plt.text(v.get_x() + v.get_width() / 2,\n",
    "                 v.get_y() + v.get_height() / 2,\n",
    "                 int(v.get_height()), horizontalalignment='center')\n",
    "plt.show()"
   ]
  },
  {
   "cell_type": "markdown",
   "id": "4b797116",
   "metadata": {},
   "source": [
    "### Step 1: Define the null and alternate hypotheses\n",
    "\n",
    "We will test the null hypothesis\n",
    "\n",
    ">$H_0:$ Conversion is independent of preferred language.\n",
    "\n",
    "against the alternate hypothesis\n",
    "\n",
    ">$H_a:$ Conversion depends on preferred language."
   ]
  },
  {
   "cell_type": "markdown",
   "id": "a996e12b",
   "metadata": {
    "id": "b7f52898"
   },
   "source": [
    "### Step 2: Select Appropriate test\n",
    "\n",
    "* Categorical variables - Yes both the preferred language and conversion variables are categorical\n",
    "* Expected value of the number of sample observations in each level of the variable is at least 5 - Yes, the number of observations in each level is greater than 5.\n",
    "* Random sampling from the population - Yes, we are informed that the collected sample is a simple random sample.\n",
    "\n",
    "The test to perform is the Chi-Square test of independence"
   ]
  },
  {
   "cell_type": "markdown",
   "id": "df5ca0aa",
   "metadata": {},
   "source": [
    "### Step 3: Decide the significance level\n",
    "\n",
    "The significance level is α = 0.05"
   ]
  },
  {
   "cell_type": "markdown",
   "id": "091fb572",
   "metadata": {},
   "source": [
    "### Step 4: Collect and prepare data"
   ]
  },
  {
   "cell_type": "code",
   "execution_count": 27,
   "id": "1287183c",
   "metadata": {},
   "outputs": [
    {
     "data": {
      "text/html": [
       "<div>\n",
       "<style scoped>\n",
       "    .dataframe tbody tr th:only-of-type {\n",
       "        vertical-align: middle;\n",
       "    }\n",
       "\n",
       "    .dataframe tbody tr th {\n",
       "        vertical-align: top;\n",
       "    }\n",
       "\n",
       "    .dataframe thead th {\n",
       "        text-align: right;\n",
       "    }\n",
       "</style>\n",
       "<table border=\"1\" class=\"dataframe\">\n",
       "  <thead>\n",
       "    <tr style=\"text-align: right;\">\n",
       "      <th>language_preferred</th>\n",
       "      <th>English</th>\n",
       "      <th>French</th>\n",
       "      <th>Spanish</th>\n",
       "    </tr>\n",
       "    <tr>\n",
       "      <th>converted</th>\n",
       "      <th></th>\n",
       "      <th></th>\n",
       "      <th></th>\n",
       "    </tr>\n",
       "  </thead>\n",
       "  <tbody>\n",
       "    <tr>\n",
       "      <th>no</th>\n",
       "      <td>11</td>\n",
       "      <td>19</td>\n",
       "      <td>16</td>\n",
       "    </tr>\n",
       "    <tr>\n",
       "      <th>yes</th>\n",
       "      <td>21</td>\n",
       "      <td>15</td>\n",
       "      <td>18</td>\n",
       "    </tr>\n",
       "  </tbody>\n",
       "</table>\n",
       "</div>"
      ],
      "text/plain": [
       "language_preferred  English  French  Spanish\n",
       "converted                                   \n",
       "no                       11      19       16\n",
       "yes                      21      15       18"
      ]
     },
     "execution_count": 27,
     "metadata": {},
     "output_type": "execute_result"
    }
   ],
   "source": [
    "# Create the contingency dataframe of conversion and languages_preferred columns\n",
    "    contingency_tbl = abtest_lc.value_counts().unstack()\n",
    "contingency_tbl"
   ]
  },
  {
   "cell_type": "markdown",
   "id": "a3400f92",
   "metadata": {},
   "source": [
    "### Step 5: Calculate the p-value"
   ]
  },
  {
   "cell_type": "code",
   "execution_count": 28,
   "id": "0c44416f",
   "metadata": {},
   "outputs": [
    {
     "name": "stdout",
     "output_type": "stream",
     "text": [
      "The p-value is 0.21298887487543447\n"
     ]
    }
   ],
   "source": [
    "# Import the required function\n",
    "from scipy.stats import chi2_contingency\n",
    "\n",
    "# Find the p-value\n",
    "chi, p_value, dof, expected = chi2_contingency(contingency_tbl)\n",
    "print('The p-value is', p_value)"
   ]
  },
  {
   "cell_type": "markdown",
   "id": "678e3840",
   "metadata": {},
   "source": [
    "### Step 6: Compare the p-value with $\\alpha$"
   ]
  },
  {
   "cell_type": "code",
   "execution_count": 29,
   "id": "b0f84b87",
   "metadata": {},
   "outputs": [
    {
     "name": "stdout",
     "output_type": "stream",
     "text": [
      "The p-value of 0.21299 is greater than or equal to the level of significance of 5%, therefore we fail to reject the null hypothesis\n"
     ]
    }
   ],
   "source": [
    "# Determine if the hypothesis is rejected or failed to reject based on the p-value and level of significance\n",
    "if p_value < 0.05:\n",
    "    print('The p-value of {0} is less than level of significance of 5%, therefore we reject the null hypothesis'.format(round(p_value,5)))\n",
    "else:\n",
    "    print('The p-value of {0} is greater than or equal to the level of significance of 5%, therefore we fail to reject the null hypothesis'.format(round(p_value,5)))"
   ]
  },
  {
   "cell_type": "markdown",
   "id": "ac12cacc",
   "metadata": {},
   "source": [
    "### Step 7:  Draw inference\n",
    "\n",
    "As the p-value is higher than the significance level, we cannot reject the null hypothesis. We do not have sufficient statistical evidence to conclude conversion is independent of the preferred language at a 5% significance level."
   ]
  },
  {
   "cell_type": "markdown",
   "id": "8d585a90",
   "metadata": {
    "id": "8d585a90"
   },
   "source": [
    "## 4. Is the time spent on the new page same for the different language users?"
   ]
  },
  {
   "cell_type": "markdown",
   "id": "006155b6",
   "metadata": {
    "id": "b422f395"
   },
   "source": [
    "### Perform Visual Analysis"
   ]
  },
  {
   "cell_type": "code",
   "execution_count": 30,
   "id": "e24e68fe",
   "metadata": {},
   "outputs": [],
   "source": [
    "# Read in the abtest.csv file. use only the language_preferred, landing_page and time_spent_on_the_page columns\n",
    "abtest_llt = pd.read_csv('abtest.csv', usecols=['language_preferred', 'landing_page','time_spent_on_the_page'])\n",
    "abtest_llt_new = abtest_llt[abtest_llt['landing_page']=='new']"
   ]
  },
  {
   "cell_type": "code",
   "execution_count": 31,
   "id": "410a86af",
   "metadata": {},
   "outputs": [
    {
     "data": {
      "image/png": "[encoded data removed]",
      "text/plain": [
       "<Figure size 600x400 with 1 Axes>"
      ]
     },
     "metadata": {},
     "output_type": "display_data"
    }
   ],
   "source": [
    "# Create a list of columns to create box plots\n",
    "categorical_attributes = ['language_preferred']\n",
    "\n",
    "# For each value in the list of categories, create a bar chart\n",
    "for att in categorical_attributes:\n",
    "    plt.figure(figsize=(6,4))\n",
    "    flierprops = dict(marker='o', markerfacecolor='Red', markersize=10)\n",
    "    ax = sns.boxplot(data=abtest_llt_new,x=att,y='time_spent_on_the_page', flierprops=flierprops)\n",
    "    plt.title(att.capitalize().replace('_',' ')+' vs time spent on page for new landing', fontsize=12, pad=10, loc='left')\n",
    "    plt.ylabel('Time Spent On Page', fontsize=10, labelpad=10)\n",
    "    plt.xlabel(att.capitalize().replace('_',' '), fontsize=10, labelpad=10)\n",
    "    plt.xticks(rotation=0, fontsize=8)\n",
    "    plt.yticks(np.arange(0,14,2),fontsize=8)\n",
    "    plt.tight_layout()\n",
    "    ax.set_xticks(ax.get_xticks()) \n",
    "    ax.set_xticklabels(item.get_text().capitalize() for item in ax.get_xticklabels())\n",
    "    ax.spines['top'].set_visible(False)\n",
    "    ax.spines['right'].set_visible(False)\n",
    "    plt.show()"
   ]
  },
  {
   "cell_type": "code",
   "execution_count": 32,
   "id": "8356b169",
   "metadata": {},
   "outputs": [
    {
     "name": "stdout",
     "output_type": "stream",
     "text": [
      "language_preferred\n",
      "English    6.663750\n",
      "French     6.196471\n",
      "Spanish    5.835294\n",
      "Name: time_spent_on_the_page, dtype: float64\n"
     ]
    }
   ],
   "source": [
    "print(abtest_llt_new.groupby('language_preferred')['time_spent_on_the_page'].mean())"
   ]
  },
  {
   "cell_type": "markdown",
   "id": "75afea4b",
   "metadata": {},
   "source": [
    "### Step 1: Define the null and alternate hypotheses"
   ]
  },
  {
   "cell_type": "markdown",
   "id": "b07b6e69",
   "metadata": {},
   "source": [
    "Let $\\mu_1, \\mu_2, \\mu_3$ be the means of time spent on a page for the languages preferred of English, Spanish and French respectively.\n",
    "\n",
    "$H_0: \\mu_1 = \\mu_2$ and $\\mu_1 = \\mu_3$ and $\\mu_2 = \\mu_3$\n",
    "\n",
    "$H_a: \\mu_1 ≠ \\mu_2$ or $\\mu_1 ≠ \\mu_3$ or $\\mu_2 ≠ \\mu_3$\n"
   ]
  },
  {
   "cell_type": "markdown",
   "id": "ef4ed32c",
   "metadata": {},
   "source": [
    "### Step 2: Select Appropriate test"
   ]
  },
  {
   "cell_type": "markdown",
   "id": "7b5783c1",
   "metadata": {},
   "source": [
    "### Shapiro-Wilk’s test\n",
    "\n",
    "We will test the null hypothesis\n",
    "\n",
    ">$H_0:$ Time spend on a page for the new landing page follows a normal distribution\n",
    "\n",
    "against the alternative hypothesis\n",
    "\n",
    ">$H_a:$ Time spend on a page for the new landing page does not follow a normal distribution"
   ]
  },
  {
   "cell_type": "code",
   "execution_count": 33,
   "id": "c28d0298",
   "metadata": {},
   "outputs": [
    {
     "name": "stdout",
     "output_type": "stream",
     "text": [
      "The p-value is 0.8040016293525696\n"
     ]
    }
   ],
   "source": [
    "# Assumption 1: Normality\n",
    "# Import the required function\n",
    "from scipy import stats\n",
    "\n",
    "# Find the p-value\n",
    "w, p_value = stats.shapiro(abtest_llt_new['time_spent_on_the_page']) \n",
    "print('The p-value is', p_value)"
   ]
  },
  {
   "cell_type": "markdown",
   "id": "012ac947",
   "metadata": {},
   "source": [
    "Since p-value of the test is very large, we fail to reject the null hypothesis that the response follows the normal distribution."
   ]
  },
  {
   "cell_type": "markdown",
   "id": "15ef5e2b",
   "metadata": {},
   "source": [
    "### Levene’s test\n",
    "\n",
    "We will test the null hypothesis\n",
    "\n",
    ">$H_0$: All the population variances are equal\n",
    "\n",
    "against the alternative hypothesis\n",
    "\n",
    ">$H_a$: At least one variance is different from the rest"
   ]
  },
  {
   "cell_type": "code",
   "execution_count": 34,
   "id": "ce66f58f",
   "metadata": {},
   "outputs": [
    {
     "name": "stdout",
     "output_type": "stream",
     "text": [
      "The p-value is 0.46711357711340173\n"
     ]
    }
   ],
   "source": [
    "# Assumption 2: Homogeneity of Variance\n",
    "# Import the required function\n",
    "from scipy.stats import levene\n",
    "statistic, p_value = levene(abtest_llt_new['time_spent_on_the_page'][abtest_llt_new['language_preferred']==\"English\"], \n",
    "                            abtest_llt_new['time_spent_on_the_page'][abtest_llt_new['language_preferred']==\"French\"], \n",
    "                            abtest_llt_new['time_spent_on_the_page'][abtest_llt_new['language_preferred']==\"Spanish\"])\n",
    "# Find the p-value\n",
    "print('The p-value is', p_value)"
   ]
  },
  {
   "cell_type": "markdown",
   "id": "7ef00b27",
   "metadata": {},
   "source": [
    "Since the p-value is large, we fail to reject the null hypothesis of homogeneity of variances."
   ]
  },
  {
   "cell_type": "markdown",
   "id": "331fbd04",
   "metadata": {},
   "source": [
    "* The populations are normally distributed using Shapiro-Wilk's Test\n",
    "* Population variances(std) are equal using the Levene's Test\n",
    "* Random sampling from the population - Yes, we are informed that the collected sample is a simple random sample.\n",
    "\n",
    "The test to perform is the ANOVA test"
   ]
  },
  {
   "cell_type": "markdown",
   "id": "e4830fd6",
   "metadata": {},
   "source": [
    "### Step 3: Decide the significance level\n",
    "\n",
    "The significance level is α = 0.05"
   ]
  },
  {
   "cell_type": "markdown",
   "id": "1502ac0f",
   "metadata": {},
   "source": [
    "### Step 4: Collect and prepare data"
   ]
  },
  {
   "cell_type": "code",
   "execution_count": 35,
   "id": "228f8fe6",
   "metadata": {},
   "outputs": [],
   "source": [
    "# Retrieve 3 individual datasets for English, French, and Spanish records including the time spent on the page\n",
    "english_data = abtest_llt_new[abtest_llt_new['language_preferred']=='English']['time_spent_on_the_page']\n",
    "french_data = abtest_llt_new[abtest_llt_new['language_preferred']=='French']['time_spent_on_the_page']\n",
    "spanish_data = abtest_llt_new[abtest_llt_new['language_preferred']=='Spanish']['time_spent_on_the_page']"
   ]
  },
  {
   "cell_type": "markdown",
   "id": "868466a0",
   "metadata": {},
   "source": [
    "### Step 5: Calculate the p-value"
   ]
  },
  {
   "cell_type": "code",
   "execution_count": 36,
   "id": "561f901d",
   "metadata": {},
   "outputs": [
    {
     "name": "stdout",
     "output_type": "stream",
     "text": [
      "The p-value is 0.43204138694325955\n"
     ]
    }
   ],
   "source": [
    "# Import the required function\n",
    "from scipy.stats import f_oneway\n",
    "\n",
    "# Perform one-way anova test\n",
    "test_stat, p_value = f_oneway(english_data,\n",
    "                              french_data,\n",
    "                              spanish_data)\n",
    "print('The p-value is ' + str(p_value))"
   ]
  },
  {
   "cell_type": "markdown",
   "id": "74ad60b3",
   "metadata": {},
   "source": [
    "### Step 6: Compare the p-value with $\\alpha$"
   ]
  },
  {
   "cell_type": "code",
   "execution_count": 37,
   "id": "c3463a38",
   "metadata": {},
   "outputs": [
    {
     "name": "stdout",
     "output_type": "stream",
     "text": [
      "The p-value of 0.43204 is greater than or equal to the level of significance of 5%, therefore we fail to reject the null hypothesis\n"
     ]
    }
   ],
   "source": [
    "# Determine if the hypothesis is rejected or failed to reject based on the p-value and level of significance\n",
    "if p_value < 0.05:\n",
    "    print('The p-value of {0} is less than level of significance of 5%, therefore we reject the null hypothesis'.format(round(p_value,5)))\n",
    "else:\n",
    "    print('The p-value of {0} is greater than or equal to the level of significance of 5%, therefore we fail to reject the null hypothesis'.format(round(p_value,5)))"
   ]
  },
  {
   "cell_type": "markdown",
   "id": "64ffbdae",
   "metadata": {},
   "source": [
    "### Step 7:  Draw inference\n",
    "As the p-value is higher than the significance level, we cannot reject the null hypothesis. Hence, we do not have sufficient statistical evidence to conclude the average time spent on pages by different language users is the same at a 5% significance level."
   ]
  },
  {
   "cell_type": "markdown",
   "id": "3acbc947",
   "metadata": {
    "id": "3acbc947"
   },
   "source": [
    "## Conclusion and Business Recommendations"
   ]
  },
  {
   "cell_type": "markdown",
   "id": "21fb1063",
   "metadata": {
    "id": "21fb1063"
   },
   "source": [
    "* Customers subscribing to the business represent 54% of the sample\n",
    "* The number of users preferring either English, Spanish, or French is evenly distributed within the sample\n",
    "\n",
    "* While the new landing page does show a noticeable increase on the lower end of time spent in the landing page, it does not indicate much improvement on the higher end of time spent vs the old landing page\n",
    "\n",
    "* Subscription users spend more time overall in the landing pages vs non-subscribers\n",
    "* English and French users spend more time on the landing pages than the Spanish users.\n",
    "* French subscription users spent 4 times the amount of time on the new landing page vs the old page\n",
    "* Spanish subscription users showed approximately a 50% increase in time spent on the new landing page vs the old page\n",
    "* English subscription users did not have a significantly greater time spent in the new landing page vs the old page\n",
    "\n",
    "* French and Spanish had a higher subscription conversion rate under the new landing page vs the old landing page\n",
    "* English users had a higher subscription conversion rate under the old landing page vs the new landing page\n",
    "\n",
    "* There was enough statistical evidence to conclude that users spend more time on the new landing page than the existing landing page.\n",
    "* There was enough statistical evidence to conclude that users who visit the new landing page have a higher conversion rate than those users who visit the old landing page.\n",
    "* There was not sufficient statistical evidence to conclude conversion rates are independent of the preferred language\n",
    "* There was not sufficient statistical evidence to conclude the average time spent on pages by different language users is the same."
   ]
  },
  {
   "cell_type": "markdown",
   "id": "9fa8578c",
   "metadata": {},
   "source": [
    "### Recommendations:\n",
    "* Investigate how to migrate French and Spanish users over to the new portal through geolocation methods. Wait on migrating the English users\n",
    "* Obtain more samples from the English users to better determine if the new landing page is a marked improvement over the old landing page\n",
    "* Survey English users to gain more understanding of why they are not as receptive to the new landing page as the French and Spanish users\n",
    "* Investigate why French subscription users were spending 4 times the amount of time on the new landing page than the old page. Survey a new sample of French subscription users as to how they rate the new landing page and why. Use the survey to better promote the business in France\n",
    "* Investigate ways to increase the amount of time spent on the new landing page (e.g. videos, improved headlines)\n",
    "* Investigate ways to convert users into subscribers (e.g. promotions, incentives, advertising)\n",
    "* Investigate ways to obtain third party advertising revenues when non-subscribers use the new portal"
   ]
  }
 ],
 "metadata": {
  "colab": {
   "collapsed_sections": [
    "6970dd99",
    "9d75cfa2",
    "68f3b2c9",
    "fad2de2f",
    "27906576",
    "e5fdf0c8",
    "56b3dafd",
    "c7ee4907",
    "3f58c9a7",
    "5fed2eac",
    "f5c5258d",
    "359b12f8",
    "d9affc84",
    "353e9d24",
    "d49bfa2d",
    "8d585a90",
    "3acbc947"
   ],
   "provenance": []
  },
  "kernelspec": {
   "display_name": "Python 3 (ipykernel)",
   "language": "python",
   "name": "python3"
  },
  "language_info": {
   "codemirror_mode": {
    "name": "ipython",
    "version": 3
   },
   "file_extension": ".py",
   "mimetype": "text/x-python",
   "name": "python",
   "nbconvert_exporter": "python",
   "pygments_lexer": "ipython3",
   "version": "3.11.7"
  }
 },
 "nbformat": 4,
 "nbformat_minor": 5
}
