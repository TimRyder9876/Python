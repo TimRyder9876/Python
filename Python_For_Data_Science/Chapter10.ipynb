{
 "cells": [
  {
   "cell_type": "markdown",
   "id": "a5dd5e1a",
   "metadata": {},
   "source": [
    " ## Common Time Series Analysis Techniques"
   ]
  },
  {
   "cell_type": "code",
   "execution_count": 2,
   "id": "b3040ee7",
   "metadata": {},
   "outputs": [],
   "source": [
    "import yfinance as yf\n",
    "ticker = 'TSLA'\n",
    "tkr = yf.Ticker(ticker)\n",
    "df=tkr.history(period='5d')"
   ]
  },
  {
   "cell_type": "code",
   "execution_count": 3,
   "id": "94a5b702",
   "metadata": {},
   "outputs": [
    {
     "data": {
      "text/html": [
       "<div>\n",
       "<style scoped>\n",
       "    .dataframe tbody tr th:only-of-type {\n",
       "        vertical-align: middle;\n",
       "    }\n",
       "\n",
       "    .dataframe tbody tr th {\n",
       "        vertical-align: top;\n",
       "    }\n",
       "\n",
       "    .dataframe thead th {\n",
       "        text-align: right;\n",
       "    }\n",
       "</style>\n",
       "<table border=\"1\" class=\"dataframe\">\n",
       "  <thead>\n",
       "    <tr style=\"text-align: right;\">\n",
       "      <th></th>\n",
       "      <th>Open</th>\n",
       "      <th>High</th>\n",
       "      <th>Low</th>\n",
       "      <th>Close</th>\n",
       "      <th>Volume</th>\n",
       "      <th>Dividends</th>\n",
       "      <th>Stock Splits</th>\n",
       "    </tr>\n",
       "    <tr>\n",
       "      <th>Date</th>\n",
       "      <th></th>\n",
       "      <th></th>\n",
       "      <th></th>\n",
       "      <th></th>\n",
       "      <th></th>\n",
       "      <th></th>\n",
       "      <th></th>\n",
       "    </tr>\n",
       "  </thead>\n",
       "  <tbody>\n",
       "    <tr>\n",
       "      <th>2025-02-03 00:00:00-05:00</th>\n",
       "      <td>386.679993</td>\n",
       "      <td>389.170013</td>\n",
       "      <td>374.359985</td>\n",
       "      <td>383.679993</td>\n",
       "      <td>93732100</td>\n",
       "      <td>0.0</td>\n",
       "      <td>0.0</td>\n",
       "    </tr>\n",
       "    <tr>\n",
       "      <th>2025-02-04 00:00:00-05:00</th>\n",
       "      <td>382.630005</td>\n",
       "      <td>394.000000</td>\n",
       "      <td>381.399994</td>\n",
       "      <td>392.209991</td>\n",
       "      <td>57072200</td>\n",
       "      <td>0.0</td>\n",
       "      <td>0.0</td>\n",
       "    </tr>\n",
       "    <tr>\n",
       "      <th>2025-02-05 00:00:00-05:00</th>\n",
       "      <td>387.510010</td>\n",
       "      <td>388.390015</td>\n",
       "      <td>375.529999</td>\n",
       "      <td>378.170013</td>\n",
       "      <td>57223300</td>\n",
       "      <td>0.0</td>\n",
       "      <td>0.0</td>\n",
       "    </tr>\n",
       "    <tr>\n",
       "      <th>2025-02-06 00:00:00-05:00</th>\n",
       "      <td>373.029999</td>\n",
       "      <td>375.399994</td>\n",
       "      <td>363.179993</td>\n",
       "      <td>374.320007</td>\n",
       "      <td>77650100</td>\n",
       "      <td>0.0</td>\n",
       "      <td>0.0</td>\n",
       "    </tr>\n",
       "    <tr>\n",
       "      <th>2025-02-07 00:00:00-05:00</th>\n",
       "      <td>370.179993</td>\n",
       "      <td>380.545898</td>\n",
       "      <td>365.630005</td>\n",
       "      <td>365.970001</td>\n",
       "      <td>46862722</td>\n",
       "      <td>0.0</td>\n",
       "      <td>0.0</td>\n",
       "    </tr>\n",
       "  </tbody>\n",
       "</table>\n",
       "</div>"
      ],
      "text/plain": [
       "                                 Open        High         Low       Close  \\\n",
       "Date                                                                        \n",
       "2025-02-03 00:00:00-05:00  386.679993  389.170013  374.359985  383.679993   \n",
       "2025-02-04 00:00:00-05:00  382.630005  394.000000  381.399994  392.209991   \n",
       "2025-02-05 00:00:00-05:00  387.510010  388.390015  375.529999  378.170013   \n",
       "2025-02-06 00:00:00-05:00  373.029999  375.399994  363.179993  374.320007   \n",
       "2025-02-07 00:00:00-05:00  370.179993  380.545898  365.630005  365.970001   \n",
       "\n",
       "                             Volume  Dividends  Stock Splits  \n",
       "Date                                                          \n",
       "2025-02-03 00:00:00-05:00  93732100        0.0           0.0  \n",
       "2025-02-04 00:00:00-05:00  57072200        0.0           0.0  \n",
       "2025-02-05 00:00:00-05:00  57223300        0.0           0.0  \n",
       "2025-02-06 00:00:00-05:00  77650100        0.0           0.0  \n",
       "2025-02-07 00:00:00-05:00  46862722        0.0           0.0  "
      ]
     },
     "execution_count": 3,
     "metadata": {},
     "output_type": "execute_result"
    }
   ],
   "source": [
    "df"
   ]
  },
  {
   "cell_type": "code",
   "execution_count": 4,
   "id": "ad6eb962",
   "metadata": {},
   "outputs": [
    {
     "name": "stdout",
     "output_type": "stream",
     "text": [
      "Date\n",
      "2025-02-03 00:00:00-05:00    383.679993\n",
      "2025-02-04 00:00:00-05:00    392.209991\n",
      "2025-02-05 00:00:00-05:00    378.170013\n",
      "2025-02-06 00:00:00-05:00    374.320007\n",
      "2025-02-07 00:00:00-05:00    365.970001\n",
      "Name: Close, dtype: float64\n"
     ]
    }
   ],
   "source": [
    "print(df[\"Close\"])"
   ]
  },
  {
   "cell_type": "markdown",
   "id": "f749bee8",
   "metadata": {},
   "source": [
    "## Calculating Percentage Changes"
   ]
  },
  {
   "cell_type": "code",
   "execution_count": 7,
   "id": "c870e0df",
   "metadata": {},
   "outputs": [
    {
     "name": "stdout",
     "output_type": "stream",
     "text": [
      "                                Close  2DaysShift\n",
      "Date                                             \n",
      "2025-02-03 00:00:00-05:00  383.679993         NaN\n",
      "2025-02-04 00:00:00-05:00  392.209991         NaN\n",
      "2025-02-05 00:00:00-05:00  378.170013  383.679993\n",
      "2025-02-06 00:00:00-05:00  374.320007  392.209991\n",
      "2025-02-07 00:00:00-05:00  365.970001  378.170013\n"
     ]
    }
   ],
   "source": [
    "import pandas as pd\n",
    "print(pd.concat([df[\"Close\"], df[\"Close\"].shift(2)], axis=1, keys=[\"Close\",\"2DaysShift\"]))"
   ]
  },
  {
   "cell_type": "code",
   "execution_count": 8,
   "id": "d422657d",
   "metadata": {},
   "outputs": [
    {
     "data": {
      "text/plain": [
       "Date\n",
       "2025-02-03 00:00:00-05:00         NaN\n",
       "2025-02-04 00:00:00-05:00         NaN\n",
       "2025-02-05 00:00:00-05:00   -0.014361\n",
       "2025-02-06 00:00:00-05:00   -0.045613\n",
       "2025-02-07 00:00:00-05:00   -0.032261\n",
       "Name: Close, dtype: float64"
      ]
     },
     "execution_count": 8,
     "metadata": {},
     "output_type": "execute_result"
    }
   ],
   "source": [
    "(df[\"Close\"]-df[\"Close\"].shift(2))/df[\"Close\"].shift(2)"
   ]
  },
  {
   "cell_type": "code",
   "execution_count": 10,
   "id": "8d67b58c",
   "metadata": {},
   "outputs": [],
   "source": [
    "import numpy as np\n",
    "df['2DaysRise'] = np.log(df[\"Close\"]/df[\"Close\"].shift(2))"
   ]
  },
  {
   "cell_type": "code",
   "execution_count": 11,
   "id": "42811579",
   "metadata": {},
   "outputs": [
    {
     "name": "stdout",
     "output_type": "stream",
     "text": [
      "                                Close  2DaysRise\n",
      "Date                                            \n",
      "2025-02-03 00:00:00-05:00  383.679993        NaN\n",
      "2025-02-04 00:00:00-05:00  392.209991        NaN\n",
      "2025-02-05 00:00:00-05:00  378.170013  -0.014465\n",
      "2025-02-06 00:00:00-05:00  374.320007  -0.046686\n",
      "2025-02-07 00:00:00-05:00  365.970001  -0.032792\n"
     ]
    }
   ],
   "source": [
    "print(df[[\"Close\",'2DaysRise']])"
   ]
  },
  {
   "cell_type": "markdown",
   "id": "aa3b049e",
   "metadata": {},
   "source": [
    "## Rolling Window Calculations"
   ]
  },
  {
   "cell_type": "code",
   "execution_count": 15,
   "id": "7b7c53ed",
   "metadata": {},
   "outputs": [
    {
     "name": "stdout",
     "output_type": "stream",
     "text": [
      "                                Close    2DaysAvg\n",
      "Date                                             \n",
      "2025-02-03 00:00:00-05:00  383.679993         NaN\n",
      "2025-02-04 00:00:00-05:00  392.209991         NaN\n",
      "2025-02-05 00:00:00-05:00  378.170013  387.944992\n",
      "2025-02-06 00:00:00-05:00  374.320007  385.190002\n",
      "2025-02-07 00:00:00-05:00  365.970001  376.245010\n"
     ]
    }
   ],
   "source": [
    "#pg 166\n",
    "df[\"2DaysAvg\"] = df[\"Close\"].shift(1).rolling(2).mean()\n",
    "print(df[[\"Close\",\"2DaysAvg\"]])"
   ]
  },
  {
   "cell_type": "markdown",
   "id": "3031c39c",
   "metadata": {},
   "source": [
    "## Calculating the Percentage Change of a Rolling Average"
   ]
  },
  {
   "cell_type": "code",
   "execution_count": 17,
   "id": "7e9fb888",
   "metadata": {},
   "outputs": [
    {
     "name": "stdout",
     "output_type": "stream",
     "text": [
      "                                Close    2DaysAvg  2DaysAvgRise\n",
      "Date                                                           \n",
      "2025-02-03 00:00:00-05:00  383.679993         NaN           NaN\n",
      "2025-02-04 00:00:00-05:00  392.209991         NaN           NaN\n",
      "2025-02-05 00:00:00-05:00  378.170013  387.944992     -0.025520\n",
      "2025-02-06 00:00:00-05:00  374.320007  385.190002     -0.028626\n",
      "2025-02-07 00:00:00-05:00  365.970001  376.245010     -0.027689\n"
     ]
    }
   ],
   "source": [
    "df['2DaysAvgRise'] = np.log(df[\"Close\"]/df[\"Close\"].shift(1).rolling(2).mean())\n",
    "print(df[[\"Close\",\"2DaysAvg\",\"2DaysAvgRise\"]])"
   ]
  },
  {
   "cell_type": "markdown",
   "id": "b1193e5e",
   "metadata": {},
   "source": [
    "## Multivariate Time Series"
   ]
  },
  {
   "cell_type": "code",
   "execution_count": 18,
   "id": "c044e304",
   "metadata": {},
   "outputs": [],
   "source": [
    "stocks = pd.DataFrame()\n",
    "tickers = [\"MSFT\",\"TSLA\",\"GM\",\"AAPL\",\"ORCL\",\"AMZN\"]\n",
    "for ticker in tickers:\n",
    "    tkr = yf.Ticker(ticker)\n",
    "    hist = tkr.history(period='5d')\n",
    "    hist = pd.DataFrame(hist[[\"Close\"]].rename(columns={\"Close\":ticker}))\n",
    "    if stocks.empty:\n",
    "        stocks=hist\n",
    "    else:\n",
    "        stocks=stocks.join(hist)"
   ]
  },
  {
   "cell_type": "code",
   "execution_count": 19,
   "id": "24234e4e",
   "metadata": {},
   "outputs": [
    {
     "data": {
      "text/html": [
       "<div>\n",
       "<style scoped>\n",
       "    .dataframe tbody tr th:only-of-type {\n",
       "        vertical-align: middle;\n",
       "    }\n",
       "\n",
       "    .dataframe tbody tr th {\n",
       "        vertical-align: top;\n",
       "    }\n",
       "\n",
       "    .dataframe thead th {\n",
       "        text-align: right;\n",
       "    }\n",
       "</style>\n",
       "<table border=\"1\" class=\"dataframe\">\n",
       "  <thead>\n",
       "    <tr style=\"text-align: right;\">\n",
       "      <th></th>\n",
       "      <th>MSFT</th>\n",
       "      <th>TSLA</th>\n",
       "      <th>GM</th>\n",
       "      <th>AAPL</th>\n",
       "      <th>ORCL</th>\n",
       "      <th>AMZN</th>\n",
       "    </tr>\n",
       "    <tr>\n",
       "      <th>Date</th>\n",
       "      <th></th>\n",
       "      <th></th>\n",
       "      <th></th>\n",
       "      <th></th>\n",
       "      <th></th>\n",
       "      <th></th>\n",
       "    </tr>\n",
       "  </thead>\n",
       "  <tbody>\n",
       "    <tr>\n",
       "      <th>2025-02-03 00:00:00-05:00</th>\n",
       "      <td>410.920013</td>\n",
       "      <td>383.679993</td>\n",
       "      <td>47.900002</td>\n",
       "      <td>228.009995</td>\n",
       "      <td>168.600006</td>\n",
       "      <td>237.419998</td>\n",
       "    </tr>\n",
       "    <tr>\n",
       "      <th>2025-02-04 00:00:00-05:00</th>\n",
       "      <td>412.369995</td>\n",
       "      <td>392.209991</td>\n",
       "      <td>48.570000</td>\n",
       "      <td>232.800003</td>\n",
       "      <td>167.889999</td>\n",
       "      <td>242.059998</td>\n",
       "    </tr>\n",
       "    <tr>\n",
       "      <th>2025-02-05 00:00:00-05:00</th>\n",
       "      <td>413.290009</td>\n",
       "      <td>378.170013</td>\n",
       "      <td>47.810001</td>\n",
       "      <td>232.470001</td>\n",
       "      <td>171.660004</td>\n",
       "      <td>236.169998</td>\n",
       "    </tr>\n",
       "    <tr>\n",
       "      <th>2025-02-06 00:00:00-05:00</th>\n",
       "      <td>415.820007</td>\n",
       "      <td>374.320007</td>\n",
       "      <td>47.930000</td>\n",
       "      <td>233.220001</td>\n",
       "      <td>172.350006</td>\n",
       "      <td>238.830002</td>\n",
       "    </tr>\n",
       "    <tr>\n",
       "      <th>2025-02-07 00:00:00-05:00</th>\n",
       "      <td>408.459900</td>\n",
       "      <td>364.202789</td>\n",
       "      <td>47.389999</td>\n",
       "      <td>227.970001</td>\n",
       "      <td>173.800003</td>\n",
       "      <td>228.699997</td>\n",
       "    </tr>\n",
       "  </tbody>\n",
       "</table>\n",
       "</div>"
      ],
      "text/plain": [
       "                                 MSFT        TSLA         GM        AAPL  \\\n",
       "Date                                                                       \n",
       "2025-02-03 00:00:00-05:00  410.920013  383.679993  47.900002  228.009995   \n",
       "2025-02-04 00:00:00-05:00  412.369995  392.209991  48.570000  232.800003   \n",
       "2025-02-05 00:00:00-05:00  413.290009  378.170013  47.810001  232.470001   \n",
       "2025-02-06 00:00:00-05:00  415.820007  374.320007  47.930000  233.220001   \n",
       "2025-02-07 00:00:00-05:00  408.459900  364.202789  47.389999  227.970001   \n",
       "\n",
       "                                 ORCL        AMZN  \n",
       "Date                                               \n",
       "2025-02-03 00:00:00-05:00  168.600006  237.419998  \n",
       "2025-02-04 00:00:00-05:00  167.889999  242.059998  \n",
       "2025-02-05 00:00:00-05:00  171.660004  236.169998  \n",
       "2025-02-06 00:00:00-05:00  172.350006  238.830002  \n",
       "2025-02-07 00:00:00-05:00  173.800003  228.699997  "
      ]
     },
     "execution_count": 19,
     "metadata": {},
     "output_type": "execute_result"
    }
   ],
   "source": [
    "stocks"
   ]
  },
  {
   "cell_type": "markdown",
   "id": "23417a53",
   "metadata": {},
   "source": [
    "## Processing Multivariate Time Series"
   ]
  },
  {
   "cell_type": "code",
   "execution_count": 21,
   "id": "08c3c386",
   "metadata": {},
   "outputs": [
    {
     "name": "stdout",
     "output_type": "stream",
     "text": [
      "['MSFT', 'GM', 'AAPL', 'ORCL']\n"
     ]
    }
   ],
   "source": [
    "stocks_to_keep = []\n",
    "for i in stocks.columns:\n",
    "    if stocks[stocks[i]/stocks[i].shift(1)<0.97].empty:\n",
    "        stocks_to_keep.append(i)\n",
    "print(stocks_to_keep)"
   ]
  },
  {
   "cell_type": "markdown",
   "id": "55998e81",
   "metadata": {},
   "source": [
    "## Analyzing Dependencies Between Variable"
   ]
  },
  {
   "cell_type": "code",
   "execution_count": 24,
   "id": "5a8f3307",
   "metadata": {},
   "outputs": [],
   "source": [
    "import yfinance as yf\n",
    "import numpy as np\n",
    "ticker = 'TSLA'\n",
    "tkr = yf.Ticker(ticker)\n",
    "df = tkr.history(period='1mo')\n"
   ]
  },
  {
   "cell_type": "code",
   "execution_count": 26,
   "id": "5ecd08d9",
   "metadata": {},
   "outputs": [],
   "source": [
    "df = df[[\"Close\",\"Volume\"]].rename(columns={\"Close\":\"Price\"})"
   ]
  },
  {
   "cell_type": "code",
   "execution_count": 27,
   "id": "240811fc",
   "metadata": {},
   "outputs": [],
   "source": [
    "df[\"priceRise\"] = np.log(df[\"Price\"]/df[\"Price\"].shift(1))"
   ]
  },
  {
   "cell_type": "code",
   "execution_count": 28,
   "id": "2581f9f2",
   "metadata": {},
   "outputs": [],
   "source": [
    "df[\"volumeRise\"] = np.log(df[\"Volume\"]/df[\"Volume\"].shift(1))"
   ]
  },
  {
   "cell_type": "code",
   "execution_count": 30,
   "id": "6c691b92",
   "metadata": {},
   "outputs": [
    {
     "data": {
      "text/html": [
       "<div>\n",
       "<style scoped>\n",
       "    .dataframe tbody tr th:only-of-type {\n",
       "        vertical-align: middle;\n",
       "    }\n",
       "\n",
       "    .dataframe tbody tr th {\n",
       "        vertical-align: top;\n",
       "    }\n",
       "\n",
       "    .dataframe thead th {\n",
       "        text-align: right;\n",
       "    }\n",
       "</style>\n",
       "<table border=\"1\" class=\"dataframe\">\n",
       "  <thead>\n",
       "    <tr style=\"text-align: right;\">\n",
       "      <th></th>\n",
       "      <th>Price</th>\n",
       "      <th>Volume</th>\n",
       "      <th>priceRise</th>\n",
       "      <th>volumeRise</th>\n",
       "    </tr>\n",
       "    <tr>\n",
       "      <th>Date</th>\n",
       "      <th></th>\n",
       "      <th></th>\n",
       "      <th></th>\n",
       "      <th></th>\n",
       "    </tr>\n",
       "  </thead>\n",
       "  <tbody>\n",
       "    <tr>\n",
       "      <th>2025-01-07 00:00:00-05:00</th>\n",
       "      <td>394.359985</td>\n",
       "      <td>75699500</td>\n",
       "      <td>NaN</td>\n",
       "      <td>NaN</td>\n",
       "    </tr>\n",
       "    <tr>\n",
       "      <th>2025-01-08 00:00:00-05:00</th>\n",
       "      <td>394.940002</td>\n",
       "      <td>73038800</td>\n",
       "      <td>0.001470</td>\n",
       "      <td>-0.035781</td>\n",
       "    </tr>\n",
       "    <tr>\n",
       "      <th>2025-01-10 00:00:00-05:00</th>\n",
       "      <td>394.739990</td>\n",
       "      <td>62287300</td>\n",
       "      <td>-0.000507</td>\n",
       "      <td>-0.159233</td>\n",
       "    </tr>\n",
       "    <tr>\n",
       "      <th>2025-01-13 00:00:00-05:00</th>\n",
       "      <td>403.309998</td>\n",
       "      <td>67580500</td>\n",
       "      <td>0.021478</td>\n",
       "      <td>0.081562</td>\n",
       "    </tr>\n",
       "    <tr>\n",
       "      <th>2025-01-14 00:00:00-05:00</th>\n",
       "      <td>396.359985</td>\n",
       "      <td>84565000</td>\n",
       "      <td>-0.017383</td>\n",
       "      <td>0.224201</td>\n",
       "    </tr>\n",
       "  </tbody>\n",
       "</table>\n",
       "</div>"
      ],
      "text/plain": [
       "                                Price    Volume  priceRise  volumeRise\n",
       "Date                                                                  \n",
       "2025-01-07 00:00:00-05:00  394.359985  75699500        NaN         NaN\n",
       "2025-01-08 00:00:00-05:00  394.940002  73038800   0.001470   -0.035781\n",
       "2025-01-10 00:00:00-05:00  394.739990  62287300  -0.000507   -0.159233\n",
       "2025-01-13 00:00:00-05:00  403.309998  67580500   0.021478    0.081562\n",
       "2025-01-14 00:00:00-05:00  396.359985  84565000  -0.017383    0.224201"
      ]
     },
     "execution_count": 30,
     "metadata": {},
     "output_type": "execute_result"
    }
   ],
   "source": [
    "df.head(5)"
   ]
  },
  {
   "cell_type": "code",
   "execution_count": 34,
   "id": "5aa4a3a1",
   "metadata": {},
   "outputs": [
    {
     "name": "stdout",
     "output_type": "stream",
     "text": [
      "                                Price    Volume  priceRise  volumeRise\n",
      "Date                                                                  \n",
      "2025-01-13 00:00:00-05:00  403.309998  67580500   0.021478    0.081562\n",
      "2025-01-15 00:00:00-05:00  428.220001  81375500   0.077314   -0.038446\n",
      "2025-01-17 00:00:00-05:00  426.500000  94991400   0.030181    0.329361\n",
      "2025-01-30 00:00:00-05:00  400.279999  98092900   0.028328    0.365913\n",
      "2025-01-31 00:00:00-05:00  404.600006  83568200   0.010735   -0.160252\n",
      "2025-02-04 00:00:00-05:00  392.209991  57072200   0.021989   -0.496124\n"
     ]
    }
   ],
   "source": [
    "print(df[abs(df[\"priceRise\"]>0.01)])"
   ]
  },
  {
   "cell_type": "code",
   "execution_count": 35,
   "id": "ddd6a9a0",
   "metadata": {},
   "outputs": [
    {
     "name": "stdout",
     "output_type": "stream",
     "text": [
      "-0.0172\n"
     ]
    }
   ],
   "source": [
    "# Find average volume rise over the past month\n",
    "print(df[\"volumeRise\"].mean().round(4))"
   ]
  },
  {
   "cell_type": "code",
   "execution_count": 37,
   "id": "c9865ed3",
   "metadata": {},
   "outputs": [
    {
     "name": "stdout",
     "output_type": "stream",
     "text": [
      "0.0137\n"
     ]
    }
   ],
   "source": [
    "# Find average volume rise for days with an absolute price rise greater than 0.01\n",
    "print(df[abs(df[\"priceRise\"]>0.01)][\"volumeRise\"].mean().round(4))\n",
    "\n",
    "# The number below is larger than the average above, indicating a possible correlation betwen price and volume"
   ]
  },
  {
   "cell_type": "code",
   "execution_count": null,
   "id": "f079adea",
   "metadata": {},
   "outputs": [],
   "source": []
  }
 ],
 "metadata": {
  "kernelspec": {
   "display_name": "Python 3 (ipykernel)",
   "language": "python",
   "name": "python3"
  },
  "language_info": {
   "codemirror_mode": {
    "name": "ipython",
    "version": 3
   },
   "file_extension": ".py",
   "mimetype": "text/x-python",
   "name": "python",
   "nbconvert_exporter": "python",
   "pygments_lexer": "ipython3",
   "version": "3.11.7"
  }
 },
 "nbformat": 4,
 "nbformat_minor": 5
}
