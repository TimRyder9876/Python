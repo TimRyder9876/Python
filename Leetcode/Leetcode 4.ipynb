{
 "cells": [
  {
   "cell_type": "code",
   "execution_count": 45,
   "id": "b7f4ef3a",
   "metadata": {},
   "outputs": [
    {
     "name": "stdout",
     "output_type": "stream",
     "text": [
      "[0, 1, 2, 4, 6, 10, 12, 13]\n"
     ]
    },
    {
     "data": {
      "text/plain": [
       "5.0"
      ]
     },
     "execution_count": 45,
     "metadata": {},
     "output_type": "execute_result"
    }
   ],
   "source": [
    "import numpy as np\n",
    "from typing import List\n",
    "\n",
    "def findMedianSortedArrays(nums1: List[int], nums2: List[int]) -> float:\n",
    "   number= len(nums1) + len(nums2)\n",
    "   nums3 = sorted(nums1 + nums2)\n",
    "   print(nums3)\n",
    "   x = int(number/2) \n",
    "   if number%2 == 1:\n",
    "       return nums3[x]\n",
    "   else:  \n",
    "       return (nums3[x]+nums3[x-1])/2 \n",
    "    \n",
    "findMedianSortedArrays([1,10,2,6,0], [12,4,13])    "
   ]
  },
  {
   "cell_type": "code",
   "execution_count": 47,
   "id": "81166e26",
   "metadata": {},
   "outputs": [
    {
     "name": "stdout",
     "output_type": "stream",
     "text": [
      "[0, 1, 2, 4, 6, 10, 12, 13]\n"
     ]
    },
    {
     "data": {
      "text/plain": [
       "5.0"
      ]
     },
     "execution_count": 47,
     "metadata": {},
     "output_type": "execute_result"
    }
   ],
   "source": [
    "import numpy as np\n",
    "from typing import List\n",
    "\n",
    "def findMedianSortedArrays(nums1: List[int], nums2: List[int]) -> float:\n",
    "   nums3 = sorted(nums1 + nums2)\n",
    "   print(nums3)\n",
    "   x = int(len(nums3)/2) \n",
    "   if len(nums3)%2 == 1:\n",
    "       return nums3[x]\n",
    "   else:  \n",
    "       return (nums3[x]+nums3[x-1])/2 \n",
    "    \n",
    "findMedianSortedArrays([1,10,2,6,0], [12,4,13])    "
   ]
  },
  {
   "cell_type": "code",
   "execution_count": null,
   "id": "0a7de6e7",
   "metadata": {},
   "outputs": [],
   "source": []
  }
 ],
 "metadata": {
  "kernelspec": {
   "display_name": "Python 3 (ipykernel)",
   "language": "python",
   "name": "python3"
  },
  "language_info": {
   "codemirror_mode": {
    "name": "ipython",
    "version": 3
   },
   "file_extension": ".py",
   "mimetype": "text/x-python",
   "name": "python",
   "nbconvert_exporter": "python",
   "pygments_lexer": "ipython3",
   "version": "3.11.7"
  }
 },
 "nbformat": 4,
 "nbformat_minor": 5
}
