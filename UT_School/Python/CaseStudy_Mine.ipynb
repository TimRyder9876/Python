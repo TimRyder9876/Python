{
 "cells": [
  {
   "cell_type": "code",
   "execution_count": 1,
   "id": "5f254664",
   "metadata": {},
   "outputs": [
    {
     "name": "stdout",
     "output_type": "stream",
     "text": [
      "The Customer ID of the first customer is cid-0001\n"
     ]
    }
   ],
   "source": [
    "cid='cid-0001'\n",
    "print('The Customer ID of the first customer is', cid)"
   ]
  },
  {
   "cell_type": "code",
   "execution_count": 2,
   "id": "967ccb34",
   "metadata": {},
   "outputs": [],
   "source": [
    "cid1= 'cid-0001'\n",
    "cid2= 'cid-0002'\n",
    "cid3= 'cid-0003'\n",
    "cid4= 'cid-0004'\n",
    "cid5= 'cid-0005'"
   ]
  },
  {
   "cell_type": "code",
   "execution_count": 3,
   "id": "d1258eb5",
   "metadata": {},
   "outputs": [],
   "source": [
    "cid = ['cid-0001','cid-0002','cid-0003','cid-0004','cid-0005']"
   ]
  },
  {
   "cell_type": "code",
   "execution_count": 4,
   "id": "8ae29722",
   "metadata": {},
   "outputs": [
    {
     "name": "stdout",
     "output_type": "stream",
     "text": [
      "Customer: ['cid-0001', 'cid-0002', 'cid-0003', 'cid-0004', 'cid-0005']\n"
     ]
    }
   ],
   "source": [
    "print('Customer:', cid)"
   ]
  },
  {
   "cell_type": "code",
   "execution_count": 5,
   "id": "06799d89",
   "metadata": {},
   "outputs": [
    {
     "name": "stdout",
     "output_type": "stream",
     "text": [
      "Customer ID: ['cid-0001', 'cid-0002', 'cid-0003', 'cid-0004', 'cid-0005']\n",
      "Credit Score: [650, 723, 581, 462, 773]\n",
      "Age of Customer: [25, 28, 38, 41, 62]\n",
      "Debt Status: ['no-debt', 'no-debt', 'no-debt', 'in-debt', 'no-debt']\n",
      "Number of Existing Credit Cards [3, 2, 4, 1, 2]\n"
     ]
    }
   ],
   "source": [
    "credit_score = [650, 723, 581, 462, 773]\n",
    "age_of_customer = [25,28,38,41,62]\n",
    "debt_status = ['no-debt','no-debt','no-debt', 'in-debt','no-debt']\n",
    "no_of_existing_credit_cards = [3,2,4,1,2]\n",
    "print('Customer ID:', cid)\n",
    "print('Credit Score:', credit_score)\n",
    "print('Age of Customer:', age_of_customer)\n",
    "print('Debt Status:', debt_status)\n",
    "print('Number of Existing Credit Cards', no_of_existing_credit_cards)"
   ]
  },
  {
   "cell_type": "code",
   "execution_count": 8,
   "id": "a4131a20",
   "metadata": {},
   "outputs": [
    {
     "name": "stdout",
     "output_type": "stream",
     "text": [
      "1\n",
      "cid-0002\n",
      "723\n",
      "28\n",
      "no-debt\n",
      "2\n"
     ]
    }
   ],
   "source": [
    "pos = cid.index('cid-0002')\n",
    "print(pos)\n",
    "print(cid[pos])\n",
    "print(credit_score[pos])\n",
    "print(age_of_customer[pos])\n",
    "print(debt_status[pos])\n",
    "print(no_of_existing_credit_cards[pos])"
   ]
  },
  {
   "cell_type": "code",
   "execution_count": 9,
   "id": "52b1edea",
   "metadata": {},
   "outputs": [
    {
     "data": {
      "text/plain": [
       "['in-debt', 'no-debt', 'no-debt', 'in-debt', 'no-debt']"
      ]
     },
     "execution_count": 9,
     "metadata": {},
     "output_type": "execute_result"
    }
   ],
   "source": [
    "pos = cid.index('cid-0001')\n",
    "debt_status[pos] = 'in-debt'\n",
    "debt_status"
   ]
  },
  {
   "cell_type": "code",
   "execution_count": 10,
   "id": "e3b19ae4",
   "metadata": {},
   "outputs": [
    {
     "name": "stdout",
     "output_type": "stream",
     "text": [
      "Credit score is the same for cid-0001\n",
      "Credit score updated for cid-0002\n",
      "Credit score is the same for cid-0003\n",
      "Credit score is the same for cid-0004\n",
      "Credit score updated for cid-0005\n"
     ]
    }
   ],
   "source": [
    "prec_on_time = [0.62, 0.78, 0.20, 0.32, 0.85]\n",
    "if prec_on_time[0] > 0.7:\n",
    "    credit_score[0] = round(credit_score[0]*1.02)\n",
    "    print('Credit score updated for cid-0001')\n",
    "else: \n",
    "    print('Credit score is the same for cid-0001')\n",
    "\n",
    "if prec_on_time[1] > 0.7:\n",
    "    credit_score[1] = round(credit_score[1]*1.02)\n",
    "    print('Credit score updated for cid-0002')\n",
    "else:\n",
    "    print('Credit score is the same for cid-0002')\n",
    "\n",
    "if prec_on_time[2] > 0.7:\n",
    "    credit_score[2] = round(credit_score[2]*1.02)\n",
    "    print('Credit score updated for cid-0003')\n",
    "else:\n",
    "    print('Credit score is the same for cid-0003')\n",
    "\n",
    "if prec_on_time[3] > 0.7:\n",
    "    credit_score[3] = round(credit_score[3]*1.02)\n",
    "    print('Credit score updated for cid-0004')\n",
    "else:\n",
    "    print('Credit score is the same for cid-0004')\n",
    "\n",
    "if prec_on_time[4] > 0.7:\n",
    "    credit_score[4] = round(credit_score[4]*1.02)\n",
    "    print('Credit score updated for cid-0005')\n",
    "else:\n",
    "    print('Credit score is the same for cid-0005')\n"
   ]
  },
  {
   "cell_type": "code",
   "execution_count": 12,
   "id": "0fcd9eac",
   "metadata": {},
   "outputs": [
    {
     "data": {
      "text/plain": [
       "[650, 737, 581, 462, 788]"
      ]
     },
     "execution_count": 12,
     "metadata": {},
     "output_type": "execute_result"
    }
   ],
   "source": [
    "credit_score"
   ]
  },
  {
   "cell_type": "code",
   "execution_count": 13,
   "id": "4fff9cd4",
   "metadata": {},
   "outputs": [
    {
     "name": "stdout",
     "output_type": "stream",
     "text": [
      "Credit score is the same for cid-0001\n",
      "Credit score is the same for cid-0002\n",
      "Credit score reduced for cid-0003\n",
      "Credit score reduced for cid-0004\n",
      "Credit score is the same for cid-0005\n"
     ]
    }
   ],
   "source": [
    "for i in range(0,5):\n",
    "    if prec_on_time[i] < 0.4:\n",
    "        credit_score[i] = round(credit_score[i] * 0.98)\n",
    "        print('Credit score reduced for', cid[i])\n",
    "    else: \n",
    "        print('Credit score is the same for', cid[i])"
   ]
  },
  {
   "cell_type": "code",
   "execution_count": 14,
   "id": "793c84e8",
   "metadata": {},
   "outputs": [
    {
     "name": "stdout",
     "output_type": "stream",
     "text": [
      "Number of customers with credit score greater than 700: 2\n"
     ]
    }
   ],
   "source": [
    "count = 0\n",
    "for i in range(0,5):\n",
    "    if credit_score[i] > 700:\n",
    "        count +=1\n",
    "print('Number of customers with credit score greater than 700:', count)"
   ]
  },
  {
   "cell_type": "code",
   "execution_count": 17,
   "id": "6e687daa",
   "metadata": {},
   "outputs": [
    {
     "name": "stdout",
     "output_type": "stream",
     "text": [
      "Number of customers with more than 2 credit cards: 2\n"
     ]
    }
   ],
   "source": [
    "count = 0\n",
    "for i in range(0,5):\n",
    "    if no_of_existing_credit_cards[i] > 2:\n",
    "        count += 1\n",
    "print('Number of customers with more than 2 credit cards:', count)"
   ]
  },
  {
   "cell_type": "code",
   "execution_count": 18,
   "id": "ccb4ed0d",
   "metadata": {},
   "outputs": [
    {
     "name": "stdout",
     "output_type": "stream",
     "text": [
      "Number of customers in debt: 2\n",
      "Number of customers not in debt: 3\n"
     ]
    }
   ],
   "source": [
    "indebt = 0\n",
    "nodebt = 0\n",
    "for i in range(0,5):\n",
    "    if debt_status[i] == 'in-debt':\n",
    "        indebt+=1\n",
    "    if debt_status[i] == 'no-debt':\n",
    "        nodebt+=1\n",
    "print('Number of customers in debt:', indebt)\n",
    "print('Number of customers not in debt:', nodebt)"
   ]
  },
  {
   "cell_type": "code",
   "execution_count": 20,
   "id": "65bf7422",
   "metadata": {},
   "outputs": [
    {
     "name": "stdout",
     "output_type": "stream",
     "text": [
      "------------------------------\n",
      "Customer Id: cid-0002\n",
      "Credit score: 737\n",
      "Age of customer: 28\n",
      "Debt status: no-debt\n",
      "Number of existing credit cards: 2\n"
     ]
    }
   ],
   "source": [
    "for i in range(0,5):\n",
    "    if cid[i] == 'cid-0002':\n",
    "        print('-'*30)\n",
    "        print('Customer Id:', cid[i])\n",
    "        print('Credit score:', credit_score[i])\n",
    "        print('Age of customer:',age_of_customer[i])\n",
    "        print('Debt status:', debt_status[i])\n",
    "        print('Number of existing credit cards:', no_of_existing_credit_cards[i])\n",
    "        "
   ]
  },
  {
   "cell_type": "code",
   "execution_count": 23,
   "id": "b75bdfe5",
   "metadata": {},
   "outputs": [],
   "source": [
    "def customer_info(c_id):\n",
    "    for i in range(0, len(cid)):\n",
    "        if cid[i] == c_id:\n",
    "            print('-'*30)\n",
    "            print('Customer Id:', cid[i])\n",
    "            print('Credit score:', credit_score[i])\n",
    "            print('Age of customer:',age_of_customer[i])\n",
    "            print('Debt status:', debt_status[i])\n",
    "            print('Number of existing credit cards:', no_of_existing_credit_cards[i])\n",
    "                    "
   ]
  },
  {
   "cell_type": "code",
   "execution_count": 25,
   "id": "3b7696ed",
   "metadata": {},
   "outputs": [
    {
     "name": "stdout",
     "output_type": "stream",
     "text": [
      "------------------------------\n",
      "Customer Id: cid-0001\n",
      "Credit score: 650\n",
      "Age of customer: 25\n",
      "Debt status: in-debt\n",
      "Number of existing credit cards: 3\n"
     ]
    }
   ],
   "source": [
    "customer_info('cid-0001')"
   ]
  },
  {
   "cell_type": "code",
   "execution_count": 26,
   "id": "e0787a82",
   "metadata": {},
   "outputs": [],
   "source": [
    "df1 = {'cust_id':cid,\n",
    "      'cred_score':credit_score,\n",
    "      'age':age_of_customer,\n",
    "      'debt_status':debt_status,\n",
    "      'curr_credit_cards':no_of_existing_credit_cards}"
   ]
  },
  {
   "cell_type": "code",
   "execution_count": 27,
   "id": "dcb961b6",
   "metadata": {},
   "outputs": [
    {
     "data": {
      "text/plain": [
       "{'cust_id': ['cid-0001', 'cid-0002', 'cid-0003', 'cid-0004', 'cid-0005'],\n",
       " 'cred_score': [650, 737, 569, 453, 788],\n",
       " 'age': [25, 28, 38, 41, 62],\n",
       " 'debt_status': ['in-debt', 'no-debt', 'no-debt', 'in-debt', 'no-debt'],\n",
       " 'curr_credit_cards': [3, 2, 4, 1, 2]}"
      ]
     },
     "execution_count": 27,
     "metadata": {},
     "output_type": "execute_result"
    }
   ],
   "source": [
    "df1"
   ]
  },
  {
   "cell_type": "code",
   "execution_count": 28,
   "id": "17744dac",
   "metadata": {},
   "outputs": [
    {
     "data": {
      "text/plain": [
       "['cid-0001', 'cid-0002', 'cid-0003', 'cid-0004', 'cid-0005']"
      ]
     },
     "execution_count": 28,
     "metadata": {},
     "output_type": "execute_result"
    }
   ],
   "source": [
    "df1['cust_id']"
   ]
  },
  {
   "cell_type": "code",
   "execution_count": 29,
   "id": "0b40c51c",
   "metadata": {},
   "outputs": [
    {
     "data": {
      "text/plain": [
       "'cid-0003'"
      ]
     },
     "execution_count": 29,
     "metadata": {},
     "output_type": "execute_result"
    }
   ],
   "source": [
    "df1['cust_id'][2]"
   ]
  },
  {
   "cell_type": "code",
   "execution_count": 31,
   "id": "44189691",
   "metadata": {},
   "outputs": [
    {
     "name": "stdout",
     "output_type": "stream",
     "text": [
      "cust_id cid-0004\n",
      "cred_score 453\n",
      "age 41\n",
      "debt_status in-debt\n",
      "curr_credit_cards 1\n"
     ]
    }
   ],
   "source": [
    "for key, value in df1.items():\n",
    "    print(key,value[3])"
   ]
  },
  {
   "cell_type": "code",
   "execution_count": 32,
   "id": "7d013c1b",
   "metadata": {},
   "outputs": [],
   "source": [
    "import pandas as pd"
   ]
  },
  {
   "cell_type": "code",
   "execution_count": 35,
   "id": "83120974",
   "metadata": {},
   "outputs": [],
   "source": [
    "df = pd.DataFrame(df1)"
   ]
  },
  {
   "cell_type": "code",
   "execution_count": 36,
   "id": "e9779746",
   "metadata": {},
   "outputs": [
    {
     "data": {
      "text/html": [
       "<div>\n",
       "<style scoped>\n",
       "    .dataframe tbody tr th:only-of-type {\n",
       "        vertical-align: middle;\n",
       "    }\n",
       "\n",
       "    .dataframe tbody tr th {\n",
       "        vertical-align: top;\n",
       "    }\n",
       "\n",
       "    .dataframe thead th {\n",
       "        text-align: right;\n",
       "    }\n",
       "</style>\n",
       "<table border=\"1\" class=\"dataframe\">\n",
       "  <thead>\n",
       "    <tr style=\"text-align: right;\">\n",
       "      <th></th>\n",
       "      <th>cust_id</th>\n",
       "      <th>cred_score</th>\n",
       "      <th>age</th>\n",
       "      <th>debt_status</th>\n",
       "      <th>curr_credit_cards</th>\n",
       "    </tr>\n",
       "  </thead>\n",
       "  <tbody>\n",
       "    <tr>\n",
       "      <th>0</th>\n",
       "      <td>cid-0001</td>\n",
       "      <td>650</td>\n",
       "      <td>25</td>\n",
       "      <td>in-debt</td>\n",
       "      <td>3</td>\n",
       "    </tr>\n",
       "    <tr>\n",
       "      <th>1</th>\n",
       "      <td>cid-0002</td>\n",
       "      <td>737</td>\n",
       "      <td>28</td>\n",
       "      <td>no-debt</td>\n",
       "      <td>2</td>\n",
       "    </tr>\n",
       "    <tr>\n",
       "      <th>2</th>\n",
       "      <td>cid-0003</td>\n",
       "      <td>569</td>\n",
       "      <td>38</td>\n",
       "      <td>no-debt</td>\n",
       "      <td>4</td>\n",
       "    </tr>\n",
       "    <tr>\n",
       "      <th>3</th>\n",
       "      <td>cid-0004</td>\n",
       "      <td>453</td>\n",
       "      <td>41</td>\n",
       "      <td>in-debt</td>\n",
       "      <td>1</td>\n",
       "    </tr>\n",
       "    <tr>\n",
       "      <th>4</th>\n",
       "      <td>cid-0005</td>\n",
       "      <td>788</td>\n",
       "      <td>62</td>\n",
       "      <td>no-debt</td>\n",
       "      <td>2</td>\n",
       "    </tr>\n",
       "  </tbody>\n",
       "</table>\n",
       "</div>"
      ],
      "text/plain": [
       "    cust_id  cred_score  age debt_status  curr_credit_cards\n",
       "0  cid-0001         650   25     in-debt                  3\n",
       "1  cid-0002         737   28     no-debt                  2\n",
       "2  cid-0003         569   38     no-debt                  4\n",
       "3  cid-0004         453   41     in-debt                  1\n",
       "4  cid-0005         788   62     no-debt                  2"
      ]
     },
     "execution_count": 36,
     "metadata": {},
     "output_type": "execute_result"
    }
   ],
   "source": [
    "df"
   ]
  },
  {
   "cell_type": "code",
   "execution_count": 37,
   "id": "3dc71d23",
   "metadata": {},
   "outputs": [
    {
     "data": {
      "text/html": [
       "<div>\n",
       "<style scoped>\n",
       "    .dataframe tbody tr th:only-of-type {\n",
       "        vertical-align: middle;\n",
       "    }\n",
       "\n",
       "    .dataframe tbody tr th {\n",
       "        vertical-align: top;\n",
       "    }\n",
       "\n",
       "    .dataframe thead th {\n",
       "        text-align: right;\n",
       "    }\n",
       "</style>\n",
       "<table border=\"1\" class=\"dataframe\">\n",
       "  <thead>\n",
       "    <tr style=\"text-align: right;\">\n",
       "      <th></th>\n",
       "      <th>cust_id</th>\n",
       "      <th>cred_score</th>\n",
       "      <th>age</th>\n",
       "      <th>debt_status</th>\n",
       "      <th>curr_credit_cards</th>\n",
       "    </tr>\n",
       "  </thead>\n",
       "  <tbody>\n",
       "    <tr>\n",
       "      <th>0</th>\n",
       "      <td>cid-0001</td>\n",
       "      <td>650</td>\n",
       "      <td>25</td>\n",
       "      <td>in-debt</td>\n",
       "      <td>3</td>\n",
       "    </tr>\n",
       "    <tr>\n",
       "      <th>1</th>\n",
       "      <td>cid-0002</td>\n",
       "      <td>737</td>\n",
       "      <td>28</td>\n",
       "      <td>no-debt</td>\n",
       "      <td>2</td>\n",
       "    </tr>\n",
       "    <tr>\n",
       "      <th>2</th>\n",
       "      <td>cid-0003</td>\n",
       "      <td>569</td>\n",
       "      <td>38</td>\n",
       "      <td>no-debt</td>\n",
       "      <td>4</td>\n",
       "    </tr>\n",
       "    <tr>\n",
       "      <th>3</th>\n",
       "      <td>cid-0004</td>\n",
       "      <td>453</td>\n",
       "      <td>41</td>\n",
       "      <td>in-debt</td>\n",
       "      <td>1</td>\n",
       "    </tr>\n",
       "    <tr>\n",
       "      <th>4</th>\n",
       "      <td>cid-0005</td>\n",
       "      <td>788</td>\n",
       "      <td>62</td>\n",
       "      <td>no-debt</td>\n",
       "      <td>2</td>\n",
       "    </tr>\n",
       "  </tbody>\n",
       "</table>\n",
       "</div>"
      ],
      "text/plain": [
       "    cust_id  cred_score  age debt_status  curr_credit_cards\n",
       "0  cid-0001         650   25     in-debt                  3\n",
       "1  cid-0002         737   28     no-debt                  2\n",
       "2  cid-0003         569   38     no-debt                  4\n",
       "3  cid-0004         453   41     in-debt                  1\n",
       "4  cid-0005         788   62     no-debt                  2"
      ]
     },
     "execution_count": 37,
     "metadata": {},
     "output_type": "execute_result"
    }
   ],
   "source": [
    "df.head()"
   ]
  },
  {
   "cell_type": "code",
   "execution_count": 38,
   "id": "e92e4415",
   "metadata": {},
   "outputs": [
    {
     "data": {
      "text/html": [
       "<div>\n",
       "<style scoped>\n",
       "    .dataframe tbody tr th:only-of-type {\n",
       "        vertical-align: middle;\n",
       "    }\n",
       "\n",
       "    .dataframe tbody tr th {\n",
       "        vertical-align: top;\n",
       "    }\n",
       "\n",
       "    .dataframe thead th {\n",
       "        text-align: right;\n",
       "    }\n",
       "</style>\n",
       "<table border=\"1\" class=\"dataframe\">\n",
       "  <thead>\n",
       "    <tr style=\"text-align: right;\">\n",
       "      <th></th>\n",
       "      <th>cust_id</th>\n",
       "      <th>cred_score</th>\n",
       "      <th>age</th>\n",
       "      <th>debt_status</th>\n",
       "      <th>curr_credit_cards</th>\n",
       "    </tr>\n",
       "  </thead>\n",
       "  <tbody>\n",
       "    <tr>\n",
       "      <th>2</th>\n",
       "      <td>cid-0003</td>\n",
       "      <td>569</td>\n",
       "      <td>38</td>\n",
       "      <td>no-debt</td>\n",
       "      <td>4</td>\n",
       "    </tr>\n",
       "    <tr>\n",
       "      <th>3</th>\n",
       "      <td>cid-0004</td>\n",
       "      <td>453</td>\n",
       "      <td>41</td>\n",
       "      <td>in-debt</td>\n",
       "      <td>1</td>\n",
       "    </tr>\n",
       "    <tr>\n",
       "      <th>4</th>\n",
       "      <td>cid-0005</td>\n",
       "      <td>788</td>\n",
       "      <td>62</td>\n",
       "      <td>no-debt</td>\n",
       "      <td>2</td>\n",
       "    </tr>\n",
       "  </tbody>\n",
       "</table>\n",
       "</div>"
      ],
      "text/plain": [
       "    cust_id  cred_score  age debt_status  curr_credit_cards\n",
       "2  cid-0003         569   38     no-debt                  4\n",
       "3  cid-0004         453   41     in-debt                  1\n",
       "4  cid-0005         788   62     no-debt                  2"
      ]
     },
     "execution_count": 38,
     "metadata": {},
     "output_type": "execute_result"
    }
   ],
   "source": [
    "df.tail(3)"
   ]
  },
  {
   "cell_type": "code",
   "execution_count": 42,
   "id": "726bcb72",
   "metadata": {},
   "outputs": [
    {
     "data": {
      "text/html": [
       "<div>\n",
       "<style scoped>\n",
       "    .dataframe tbody tr th:only-of-type {\n",
       "        vertical-align: middle;\n",
       "    }\n",
       "\n",
       "    .dataframe tbody tr th {\n",
       "        vertical-align: top;\n",
       "    }\n",
       "\n",
       "    .dataframe thead th {\n",
       "        text-align: right;\n",
       "    }\n",
       "</style>\n",
       "<table border=\"1\" class=\"dataframe\">\n",
       "  <thead>\n",
       "    <tr style=\"text-align: right;\">\n",
       "      <th></th>\n",
       "      <th>count</th>\n",
       "      <th>mean</th>\n",
       "      <th>std</th>\n",
       "      <th>min</th>\n",
       "      <th>25%</th>\n",
       "      <th>50%</th>\n",
       "      <th>75%</th>\n",
       "      <th>max</th>\n",
       "    </tr>\n",
       "  </thead>\n",
       "  <tbody>\n",
       "    <tr>\n",
       "      <th>cred_score</th>\n",
       "      <td>5.0</td>\n",
       "      <td>639.4</td>\n",
       "      <td>133.623725</td>\n",
       "      <td>453.0</td>\n",
       "      <td>569.0</td>\n",
       "      <td>650.0</td>\n",
       "      <td>737.0</td>\n",
       "      <td>788.0</td>\n",
       "    </tr>\n",
       "    <tr>\n",
       "      <th>age</th>\n",
       "      <td>5.0</td>\n",
       "      <td>38.8</td>\n",
       "      <td>14.584238</td>\n",
       "      <td>25.0</td>\n",
       "      <td>28.0</td>\n",
       "      <td>38.0</td>\n",
       "      <td>41.0</td>\n",
       "      <td>62.0</td>\n",
       "    </tr>\n",
       "    <tr>\n",
       "      <th>curr_credit_cards</th>\n",
       "      <td>5.0</td>\n",
       "      <td>2.4</td>\n",
       "      <td>1.140175</td>\n",
       "      <td>1.0</td>\n",
       "      <td>2.0</td>\n",
       "      <td>2.0</td>\n",
       "      <td>3.0</td>\n",
       "      <td>4.0</td>\n",
       "    </tr>\n",
       "  </tbody>\n",
       "</table>\n",
       "</div>"
      ],
      "text/plain": [
       "                   count   mean         std    min    25%    50%    75%    max\n",
       "cred_score           5.0  639.4  133.623725  453.0  569.0  650.0  737.0  788.0\n",
       "age                  5.0   38.8   14.584238   25.0   28.0   38.0   41.0   62.0\n",
       "curr_credit_cards    5.0    2.4    1.140175    1.0    2.0    2.0    3.0    4.0"
      ]
     },
     "execution_count": 42,
     "metadata": {},
     "output_type": "execute_result"
    }
   ],
   "source": [
    "df.describe().T"
   ]
  },
  {
   "cell_type": "code",
   "execution_count": 44,
   "id": "26c560ff",
   "metadata": {},
   "outputs": [
    {
     "data": {
      "text/plain": [
       "(5, 5)"
      ]
     },
     "execution_count": 44,
     "metadata": {},
     "output_type": "execute_result"
    }
   ],
   "source": [
    "df.shape"
   ]
  },
  {
   "cell_type": "code",
   "execution_count": 45,
   "id": "413dcee7",
   "metadata": {},
   "outputs": [
    {
     "name": "stdout",
     "output_type": "stream",
     "text": [
      "<class 'pandas.core.frame.DataFrame'>\n",
      "RangeIndex: 5 entries, 0 to 4\n",
      "Data columns (total 5 columns):\n",
      " #   Column             Non-Null Count  Dtype \n",
      "---  ------             --------------  ----- \n",
      " 0   cust_id            5 non-null      object\n",
      " 1   cred_score         5 non-null      int64 \n",
      " 2   age                5 non-null      int64 \n",
      " 3   debt_status        5 non-null      object\n",
      " 4   curr_credit_cards  5 non-null      int64 \n",
      "dtypes: int64(3), object(2)\n",
      "memory usage: 332.0+ bytes\n"
     ]
    }
   ],
   "source": [
    "df.info()"
   ]
  },
  {
   "cell_type": "code",
   "execution_count": null,
   "id": "60cbcf3e",
   "metadata": {},
   "outputs": [],
   "source": []
  }
 ],
 "metadata": {
  "kernelspec": {
   "display_name": "Python 3 (ipykernel)",
   "language": "python",
   "name": "python3"
  },
  "language_info": {
   "codemirror_mode": {
    "name": "ipython",
    "version": 3
   },
   "file_extension": ".py",
   "mimetype": "text/x-python",
   "name": "python",
   "nbconvert_exporter": "python",
   "pygments_lexer": "ipython3",
   "version": "3.11.7"
  }
 },
 "nbformat": 4,
 "nbformat_minor": 5
}
