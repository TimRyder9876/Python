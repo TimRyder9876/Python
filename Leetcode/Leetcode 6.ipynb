{
 "cells": [
  {
   "cell_type": "code",
   "execution_count": 31,
   "id": "043ccf1d",
   "metadata": {},
   "outputs": [
    {
     "name": "stdout",
     "output_type": "stream",
     "text": [
      "4\n",
      "[['' '' '' '']\n",
      " ['' '' '' '']\n",
      " ['' '' '' '']]\n",
      "Count = 0\n",
      "Updown = 0\n",
      "Direction = 0\n",
      "-----------\n",
      "[['A' '' '' '']\n",
      " ['' '' '' '']\n",
      " ['' '' '' '']]\n",
      "Count = 1\n",
      "Updown = 0\n",
      "Direction = 1\n",
      "-----------\n",
      "[['A' '' '' '']\n",
      " ['B' '' '' '']\n",
      " ['' '' '' '']]\n",
      "Count = 2\n",
      "Updown = 0\n",
      "Direction = 2\n",
      "-----------\n",
      "[['A' '' '' '']\n",
      " ['B' '' '' '']\n",
      " ['c' '' '' '']]\n",
      "Count = 3\n",
      "Updown = 1\n",
      "Direction = 1\n",
      "-----------\n",
      "[['A' '' '' '']\n",
      " ['B' 'd' '' '']\n",
      " ['c' '' '' '']]\n",
      "Count = 4\n",
      "Updown = 0\n",
      "Direction = 0\n",
      "-----------\n",
      "[['A' '' 'e' '']\n",
      " ['B' 'd' '' '']\n",
      " ['c' '' '' '']]\n",
      "[['A' '' 'e' '']\n",
      " ['B' 'd' '' '']\n",
      " ['c' '' '' '']]\n"
     ]
    },
    {
     "data": {
      "text/plain": [
       "'AeBdc'"
      ]
     },
     "execution_count": 31,
     "metadata": {},
     "output_type": "execute_result"
    }
   ],
   "source": [
    "import numpy as np\n",
    "\n",
    "def convert(s: str, numRows: int) -> str:\n",
    "    if numRows == 1 or len(s) <=1:\n",
    "        return s\n",
    "    else:\n",
    "        numCols = int(len(s)/((2*numRows)-2)+1)*(numRows-1)\n",
    "        print(numCols)\n",
    "    carray = np.empty((numRows, numCols),str)\n",
    "    print(carray)\n",
    "    direction = 0\n",
    "    i = 0\n",
    "    count = 0\n",
    "    updown = 0 # 0 goes down, 1 goes up\n",
    "\n",
    "    while count < len(s): \n",
    "        print('Count = {}'.format(count))\n",
    "        print('Updown = {}'.format(updown))\n",
    "        print('Direction = {}'.format(direction))\n",
    "        print('-----------')\n",
    "                                  \n",
    "        carray[direction][i] = s[count]\n",
    "        if updown == 0:\n",
    "            direction += 1\n",
    "            if direction == numRows:\n",
    "                updown = 1\n",
    "                direction -= 1\n",
    "        if updown == 1:\n",
    "            direction -= 1\n",
    "            i += 1\n",
    "            if direction == 0:\n",
    "                updown = 0\n",
    "        count+=1\n",
    "        print(carray)\n",
    "    mystring = \"\".join(carray.flatten())\n",
    "    print(carray)\n",
    "    return mystring\n",
    "    \n",
    "    \n",
    "convert(s = \"ABcde\", numRows = 3)    "
   ]
  },
  {
   "cell_type": "code",
   "execution_count": 28,
   "id": "1661d18d",
   "metadata": {},
   "outputs": [
    {
     "name": "stdout",
     "output_type": "stream",
     "text": [
      "1\n"
     ]
    },
    {
     "ename": "IndexError",
     "evalue": "index 1 is out of bounds for axis 0 with size 1",
     "output_type": "error",
     "traceback": [
      "\u001b[1;31m---------------------------------------------------------------------------\u001b[0m",
      "\u001b[1;31mIndexError\u001b[0m                                Traceback (most recent call last)",
      "Cell \u001b[1;32mIn[28], line 17\u001b[0m\n\u001b[0;32m     14\u001b[0m updown \u001b[38;5;241m=\u001b[39m \u001b[38;5;241m0\u001b[39m \u001b[38;5;66;03m# 0 goes down, 1 goes up\u001b[39;00m\n\u001b[0;32m     16\u001b[0m \u001b[38;5;28;01mwhile\u001b[39;00m count \u001b[38;5;241m<\u001b[39m \u001b[38;5;28mlen\u001b[39m(s): \n\u001b[1;32m---> 17\u001b[0m     carray[direction][i] \u001b[38;5;241m=\u001b[39m s[count]\n\u001b[0;32m     18\u001b[0m     \u001b[38;5;28;01mif\u001b[39;00m updown \u001b[38;5;241m==\u001b[39m \u001b[38;5;241m0\u001b[39m:\n\u001b[0;32m     19\u001b[0m         direction \u001b[38;5;241m+\u001b[39m\u001b[38;5;241m=\u001b[39m \u001b[38;5;241m1\u001b[39m\n",
      "\u001b[1;31mIndexError\u001b[0m: index 1 is out of bounds for axis 0 with size 1"
     ]
    }
   ],
   "source": [
    "\n",
    "numRows = 2\n",
    "s = \"PAYPALISHIRING\"\n",
    "\n",
    "if numRows == 1:\n",
    "    numCols = len(s)\n",
    "else:\n",
    "    numCols = int(len(s)/((2*numRows)-2)*(numRows-1))\n",
    "    print(numCols)\n",
    "\n",
    "carray = np.empty((numRows, numCols),str)\n",
    "direction = 0\n",
    "i = 0\n",
    "count = 0\n",
    "updown = 0 # 0 goes down, 1 goes up\n",
    "\n",
    "while count < len(s): \n",
    "    carray[direction][i] = s[count]\n",
    "    if updown == 0:\n",
    "        direction += 1\n",
    "        if direction == numRows:\n",
    "            updown = 1\n",
    "            direction -= 1\n",
    "    if updown == 1:\n",
    "        direction -= 1\n",
    "        i += 1\n",
    "        if direction == 0:\n",
    "            updown = 0\n",
    "    count+=1\n",
    "     \n",
    "carray        "
   ]
  },
  {
   "cell_type": "code",
   "execution_count": 44,
   "id": "ee18508e",
   "metadata": {},
   "outputs": [
    {
     "data": {
      "text/plain": [
       "'cbxdwjccgtdoqiscyspqzvuqivzptlpvooynyapgvswoaosaghrffnxnjyeeltzaizniccozwknwyhzgpqlwfkjqipuujvwtxlbznryjdohbvghmyuiggtyqjtmuqinntqmihntkddnalwnmsxsatqqeldacnnpjfermrnyuqnwbjjpdjhdeavknykpoxhxclqqedqavdwzoiorrwwxyrhlsrdgqkduvtmzzczufvtvfioygkvedervvudneghbctcbxdxezrzgbpfhzanffeccbgqfmzjqtlrsppxqiywjobspefujlxnmddurddiyobqfspvcoulcvdrzkmkwlyiqdchghrgytzdnobqcvdeqjystmepxcaniewqmoxkjwpymqorluxedvywhcoghotpusfgiestckrpaigocfufbubiyrrffmwaeeimidfnnzwccpahtkgfnlxpdbsqzsjvctwdrwploufdisxgbahuinogzf'"
      ]
     },
     "execution_count": 44,
     "metadata": {},
     "output_type": "execute_result"
    }
   ],
   "source": [
    "# You will create X number of lists within one big list \n",
    "# Each X is the numRows\n",
    "def convert(s: str, numRows: int) -> str:\n",
    "    if numRows == 1:\n",
    "        return s\n",
    "    \n",
    "    i=0\n",
    "    d=1 # 1 is down, 0 is up\n",
    "    rows = [[] for _ in range(numRows)]\n",
    "    #print(rows)\n",
    "    for char in s:\n",
    "        #print(char)\n",
    "        rows[i].append(char)\n",
    "        \n",
    "        # If placement is on row 0 then you will go down one on the next pass\n",
    "        if i==0:\n",
    "            d=1\n",
    "        # If placement is on the last row, you will go up one on the next pass    \n",
    "        elif i == numRows -1 :\n",
    "            d = -1\n",
    "        i += d\n",
    "        #print(rows) \n",
    "    ret = ''\n",
    "    for i in range(numRows):\n",
    "        ret+= ''.join(rows[i])\n",
    "    #mystring = \"\".join(rows.flatten())    \n",
    "    #print(rows)    \n",
    "    return ret \n",
    "            \n",
    "\n",
    "convert(s = \"cbxdwjccgtdoqiscyspqzvuqivzptlpvooynyapgvswoaosaghrffnxnjyeeltzaizniccozwknwyhzgpqlwfkjqipuujvwtxlbznryjdohbvghmyuiggtyqjtmuqinntqmihntkddnalwnmsxsatqqeldacnnpjfermrnyuqnwbjjpdjhdeavknykpoxhxclqqedqavdwzoiorrwwxyrhlsrdgqkduvtmzzczufvtvfioygkvedervvudneghbctcbxdxezrzgbpfhzanffeccbgqfmzjqtlrsppxqiywjobspefujlxnmddurddiyobqfspvcoulcvdrzkmkwlyiqdchghrgytzdnobqcvdeqjystmepxcaniewqmoxkjwpymqorluxedvywhcoghotpusfgiestckrpaigocfufbubiyrrffmwaeeimidfnnzcphkflpbqsvtdwludsgaungfzoihbxifoprwcjzsdxngtacw\", numRows = 472)   "
   ]
  },
  {
   "cell_type": "code",
   "execution_count": null,
   "id": "5edba199",
   "metadata": {},
   "outputs": [],
   "source": []
  }
 ],
 "metadata": {
  "kernelspec": {
   "display_name": "Python 3 (ipykernel)",
   "language": "python",
   "name": "python3"
  },
  "language_info": {
   "codemirror_mode": {
    "name": "ipython",
    "version": 3
   },
   "file_extension": ".py",
   "mimetype": "text/x-python",
   "name": "python",
   "nbconvert_exporter": "python",
   "pygments_lexer": "ipython3",
   "version": "3.11.7"
  }
 },
 "nbformat": 4,
 "nbformat_minor": 5
}
