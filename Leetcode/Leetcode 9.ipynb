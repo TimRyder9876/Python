{
 "cells": [
  {
   "cell_type": "code",
   "execution_count": 37,
   "id": "c0a221df",
   "metadata": {},
   "outputs": [],
   "source": [
    "\n",
    "def isPalindrome(x: int) -> bool:\n",
    "    digits = list(str(x))\n",
    "    a = 0\n",
    "    b = len(digits)-1\n",
    "    while a < b:\n",
    "        if digits[a] == digits[b]:\n",
    "            a += 1\n",
    "            b -= 1\n",
    "        else:\n",
    "            return False\n",
    "            #exit\n",
    "    return True"
   ]
  },
  {
   "cell_type": "code",
   "execution_count": 43,
   "id": "26abe474",
   "metadata": {},
   "outputs": [
    {
     "data": {
      "text/plain": [
       "False"
      ]
     },
     "execution_count": 43,
     "metadata": {},
     "output_type": "execute_result"
    }
   ],
   "source": [
    "isPalindrome(11213)"
   ]
  }
 ],
 "metadata": {
  "kernelspec": {
   "display_name": "Python 3 (ipykernel)",
   "language": "python",
   "name": "python3"
  },
  "language_info": {
   "codemirror_mode": {
    "name": "ipython",
    "version": 3
   },
   "file_extension": ".py",
   "mimetype": "text/x-python",
   "name": "python",
   "nbconvert_exporter": "python",
   "pygments_lexer": "ipython3",
   "version": "3.11.7"
  }
 },
 "nbformat": 4,
 "nbformat_minor": 5
}
