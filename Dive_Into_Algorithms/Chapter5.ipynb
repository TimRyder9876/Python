{
 "cells": [
  {
   "cell_type": "markdown",
   "id": "b2d69688",
   "metadata": {},
   "source": [
    "# Generating Continuous Fractions"
   ]
  },
  {
   "cell_type": "code",
   "execution_count": 19,
   "id": "1852671b",
   "metadata": {},
   "outputs": [],
   "source": [
    "import math\n",
    "def continued_fraction(x,y,length_tolerance):\n",
    "    output=[]\n",
    "    big=max(x,y)\n",
    "    small=min(x,y)\n",
    "    while small>0 and len(output) < length_tolerance:\n",
    "        quotient = math.floor(big/small)\n",
    "        output.append(quotient)\n",
    "        new_small = big%small\n",
    "        big=small\n",
    "        small=new_small\n",
    "    return(output)\n"
   ]
  },
  {
   "cell_type": "code",
   "execution_count": 20,
   "id": "4b62ccf6",
   "metadata": {},
   "outputs": [
    {
     "name": "stdout",
     "output_type": "stream",
     "text": [
      "[3, 5, 2]\n"
     ]
    }
   ],
   "source": [
    "print(continued_fraction(105,33,10))"
   ]
  },
  {
   "cell_type": "code",
   "execution_count": 21,
   "id": "0bbe0fe1",
   "metadata": {},
   "outputs": [],
   "source": [
    "def get_number(continued_fraction):\n",
    "    index=-1\n",
    "    number=continued_fraction[index]\n",
    "    while abs(index) < len(continued_fraction):\n",
    "        next = continued_fraction[index-1]\n",
    "        number=1/number+next\n",
    "        index -=1\n",
    "    return(number)"
   ]
  },
  {
   "cell_type": "code",
   "execution_count": 22,
   "id": "a189d8df",
   "metadata": {},
   "outputs": [
    {
     "data": {
      "text/plain": [
       "3.1818181818181817"
      ]
     },
     "execution_count": 22,
     "metadata": {},
     "output_type": "execute_result"
    }
   ],
   "source": [
    "get_number([3,5,2])"
   ]
  },
  {
   "cell_type": "markdown",
   "id": "fe79a1ea",
   "metadata": {},
   "source": [
    "## Decimals to Continued Fraction"
   ]
  },
  {
   "cell_type": "code",
   "execution_count": 23,
   "id": "30d16574",
   "metadata": {},
   "outputs": [],
   "source": [
    "def continued_fraction_decimal(x, error_tolerance, length_tolerance):\n",
    "    output=[]\n",
    "    first_term = int(x)\n",
    "    leftover=x-int(x)\n",
    "    output.append(first_term)\n",
    "    error=leftover\n",
    "    while error > error_tolerance and len(output) < length_tolerance:\n",
    "        next_term = math.floor(1/leftover)\n",
    "        leftover = 1/leftover-next_term\n",
    "        output.append(next_term)\n",
    "        error = abs(get_number(output)-x)\n",
    "    return(output)\n"
   ]
  },
  {
   "cell_type": "code",
   "execution_count": 24,
   "id": "37b27287",
   "metadata": {},
   "outputs": [
    {
     "name": "stdout",
     "output_type": "stream",
     "text": [
      "[1, 2, 2, 2, 2, 2, 2, 2]\n"
     ]
    }
   ],
   "source": [
    "print(continued_fraction_decimal(1.4142135623730951,0.00001,100))"
   ]
  },
  {
   "cell_type": "markdown",
   "id": "b8022471",
   "metadata": {},
   "source": [
    "## Square Roots"
   ]
  },
  {
   "cell_type": "code",
   "execution_count": 25,
   "id": "341b7b7e",
   "metadata": {},
   "outputs": [],
   "source": [
    "def square_root(x,y,error_tolerance):\n",
    "    our_error = error_tolerance*2\n",
    "    while our_error > error_tolerance:\n",
    "        z=x/y\n",
    "        y=(y+z)/2\n",
    "        our_error = y**2-x\n",
    "    return y"
   ]
  },
  {
   "cell_type": "code",
   "execution_count": 26,
   "id": "e065de66",
   "metadata": {},
   "outputs": [
    {
     "name": "stdout",
     "output_type": "stream",
     "text": [
      "2.236067977499978\n"
     ]
    }
   ],
   "source": [
    "print(square_root(5,1,.0000001))"
   ]
  },
  {
   "cell_type": "code",
   "execution_count": 27,
   "id": "eba03c0d",
   "metadata": {},
   "outputs": [
    {
     "name": "stdout",
     "output_type": "stream",
     "text": [
      "2.23606797749979\n"
     ]
    }
   ],
   "source": [
    "print(math.sqrt(5))"
   ]
  },
  {
   "cell_type": "markdown",
   "id": "5e0bfa6d",
   "metadata": {},
   "source": [
    "## Linear Congruential Generators"
   ]
  },
  {
   "cell_type": "code",
   "execution_count": 28,
   "id": "b6c45d3b",
   "metadata": {},
   "outputs": [],
   "source": [
    "def next_random(previous, n1, n2, n3):\n",
    "    the_next = (previous * n1 + n2) % n3\n",
    "    return(the_next)\n",
    "\n",
    "def list_random(n1, n2, n3):\n",
    "    output=[1]\n",
    "    while len(output) <= n3:\n",
    "        output.append(next_random(output[len(output)-1], n1,n2,n3))\n",
    "    return(output)"
   ]
  },
  {
   "cell_type": "code",
   "execution_count": 31,
   "id": "d7cdd1e2",
   "metadata": {},
   "outputs": [],
   "source": [
    "#list_random(29,23,32)"
   ]
  },
  {
   "cell_type": "code",
   "execution_count": 32,
   "id": "b8ae493c",
   "metadata": {},
   "outputs": [],
   "source": [
    "#list_random(1,18,36)"
   ]
  },
  {
   "cell_type": "markdown",
   "id": "7730ae90",
   "metadata": {},
   "source": [
    "## Diehard Tests for Randomness"
   ]
  },
  {
   "cell_type": "code",
   "execution_count": 33,
   "id": "c44318b1",
   "metadata": {},
   "outputs": [],
   "source": [
    "def overlapping_sums(the_list, sum_length):\n",
    "    length_of_list = len(the_list)\n",
    "    the_list.extend(the_list)\n",
    "    output=[]\n",
    "    for n in range(0, length_of_list):\n",
    "        output.append(sum(the_list[n:(n+sum_length)]))\n",
    "    return output"
   ]
  },
  {
   "cell_type": "code",
   "execution_count": 35,
   "id": "35c7216a",
   "metadata": {},
   "outputs": [
    {
     "data": {
      "image/png": "[encoded data removed]",
      "text/plain": [
       "<Figure size 640x480 with 1 Axes>"
      ]
     },
     "metadata": {},
     "output_type": "display_data"
    }
   ],
   "source": [
    "import matplotlib.pyplot as plt\n",
    "\n",
    "overlap = overlapping_sums(list_random(211111,111112,300007),12)\n",
    "plt.hist(overlap, 20, facecolor=\"blue\", alpha=0.5)\n",
    "plt.title(\"Results of the Overlapping Sums Test\")\n",
    "plt.xlabel(\"Sum of Elements of Overlapping Consecutive Sections of List\")\n",
    "plt.ylabel(\"Frequency of Sum\")\n",
    "plt.show()"
   ]
  },
  {
   "cell_type": "markdown",
   "id": "874d9773",
   "metadata": {},
   "source": [
    "## Linear Feedback Shift Registers"
   ]
  },
  {
   "cell_type": "code",
   "execution_count": 1,
   "id": "83edeb3a",
   "metadata": {},
   "outputs": [],
   "source": [
    "def feedback_shift(bits):\n",
    "    xor_result = (bits[1]+bits[2]) % 2\n",
    "    output = bits.pop()\n",
    "    bits.insert(0, xor_result)\n",
    "    return(bits,output)\n",
    "\n",
    "def feedback_shift_list(bits_this):\n",
    "    bits_output = [bits_this.copy()]\n",
    "    random_output=[]\n",
    "    bits_next = bits_this.copy()\n",
    "    while len(bits_output) < 2 ** len(bits_this):\n",
    "        bits_next,next = feedback_shift(bits_next)\n",
    "        bits_output.append(bits_next.copy())\n",
    "        random_output.append(next)\n",
    "    return(bits_output, random_output)"
   ]
  },
  {
   "cell_type": "code",
   "execution_count": 2,
   "id": "c4d2a288",
   "metadata": {},
   "outputs": [
    {
     "data": {
      "text/plain": [
       "[[1, 1, 1],\n",
       " [0, 1, 1],\n",
       " [0, 0, 1],\n",
       " [1, 0, 0],\n",
       " [0, 1, 0],\n",
       " [1, 0, 1],\n",
       " [1, 1, 0],\n",
       " [1, 1, 1]]"
      ]
     },
     "execution_count": 2,
     "metadata": {},
     "output_type": "execute_result"
    }
   ],
   "source": [
    "feedback_shift_list([1,1,1])[0]"
   ]
  },
  {
   "cell_type": "code",
   "execution_count": 41,
   "id": "ac679b34",
   "metadata": {},
   "outputs": [
    {
     "data": {
      "text/plain": [
       "[1, 1, 1, 0, 0, 1, 0]"
      ]
     },
     "execution_count": 41,
     "metadata": {},
     "output_type": "execute_result"
    }
   ],
   "source": [
    "feedback_shift_list([1,1,1])[1]"
   ]
  },
  {
   "cell_type": "code",
   "execution_count": null,
   "id": "f51bed89",
   "metadata": {},
   "outputs": [],
   "source": []
  }
 ],
 "metadata": {
  "kernelspec": {
   "display_name": "Python 3 (ipykernel)",
   "language": "python",
   "name": "python3"
  },
  "language_info": {
   "codemirror_mode": {
    "name": "ipython",
    "version": 3
   },
   "file_extension": ".py",
   "mimetype": "text/x-python",
   "name": "python",
   "nbconvert_exporter": "python",
   "pygments_lexer": "ipython3",
   "version": "3.11.7"
  }
 },
 "nbformat": 4,
 "nbformat_minor": 5
}
