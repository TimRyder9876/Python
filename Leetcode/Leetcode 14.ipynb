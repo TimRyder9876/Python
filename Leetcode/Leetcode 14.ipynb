{
 "cells": [
  {
   "cell_type": "code",
   "execution_count": 31,
   "id": "f90d0706",
   "metadata": {},
   "outputs": [
    {
     "name": "stdout",
     "output_type": "stream",
     "text": [
      "0\n",
      "flower\n",
      "1\n",
      "flow\n",
      "2\n",
      "flight\n"
     ]
    },
    {
     "data": {
      "text/plain": [
       "'fl'"
      ]
     },
     "execution_count": 31,
     "metadata": {},
     "output_type": "execute_result"
    }
   ],
   "source": [
    "def longestCommonPrefix(strs) -> str:\n",
    "    base_length = strs[0]\n",
    "    base_match = len(strs[0])\n",
    "    base_text = strs[0]\n",
    "    for i in range(len(strs)):\n",
    "        \n",
    "        print(i)\n",
    "        print(strs[i])\n",
    "        \n",
    "        x = 0\n",
    "        if len(strs[i]) < base_match:\n",
    "            base_match = len(strs[i])\n",
    "            base_text = base_text[:base_match]\n",
    "            \n",
    "        while x < base_match:\n",
    "            if base_text[x] == strs[i][x]:\n",
    "                x += 1\n",
    "            else:\n",
    "                base_text = base_text[:x]\n",
    "                base_match = len(base_text)\n",
    "                x = base_match\n",
    "    return base_text        \n",
    "    \n",
    "longestCommonPrefix([\"flower\",\"flow\",\"flight\"])    "
   ]
  },
  {
   "cell_type": "code",
   "execution_count": null,
   "id": "9de6256b",
   "metadata": {},
   "outputs": [],
   "source": [
    "max_length = max(len(sublist) for sublist in lst)"
   ]
  },
  {
   "cell_type": "code",
   "execution_count": 36,
   "id": "5b00d0d4",
   "metadata": {},
   "outputs": [
    {
     "name": "stdout",
     "output_type": "stream",
     "text": [
      "\n"
     ]
    },
    {
     "data": {
      "text/plain": [
       "'fl'"
      ]
     },
     "execution_count": 36,
     "metadata": {},
     "output_type": "execute_result"
    }
   ],
   "source": [
    "# fastest time\n",
    "def longestCommonPrefix(strs) -> str:\n",
    "    \n",
    "    # Find the minimum length of the lists within the list\n",
    "    base_match = min(len(sublist) for sublist in strs)\n",
    "    print()\n",
    "    \n",
    "    # Set the the baseline text to be the base_match length of the first string in list\n",
    "    base_text = strs[0][:base_match]\n",
    "    for i in range(len(strs)):\n",
    "        x = 0\n",
    "        if len(strs[i]) < base_match:\n",
    "            base_match = len(strs[i])\n",
    "            base_text = base_text[:base_match]\n",
    "            \n",
    "        while x < base_match:\n",
    "            if base_text[x] == strs[i][x]:\n",
    "                x += 1\n",
    "            elif x == 0:\n",
    "                # If the first character in the string doesn't match, exit the process and return \"\"\n",
    "                # as there is no leading prefix in common\n",
    "                return \"\"\n",
    "            else:\n",
    "                base_text = base_text[:x]\n",
    "                base_match = len(base_text)\n",
    "                x = base_match\n",
    "    return base_text        \n",
    "    \n",
    "longestCommonPrefix([\"flower\",\"flow\",\"flight\"])    "
   ]
  },
  {
   "cell_type": "code",
   "execution_count": null,
   "id": "0abb1999",
   "metadata": {},
   "outputs": [],
   "source": []
  }
 ],
 "metadata": {
  "kernelspec": {
   "display_name": "Python 3 (ipykernel)",
   "language": "python",
   "name": "python3"
  },
  "language_info": {
   "codemirror_mode": {
    "name": "ipython",
    "version": 3
   },
   "file_extension": ".py",
   "mimetype": "text/x-python",
   "name": "python",
   "nbconvert_exporter": "python",
   "pygments_lexer": "ipython3",
   "version": "3.11.7"
  }
 },
 "nbformat": 4,
 "nbformat_minor": 5
}
