{
 "cells": [
  {
   "cell_type": "code",
   "execution_count": 1,
   "id": "65132ad3",
   "metadata": {},
   "outputs": [],
   "source": [
    "import mysql.connector"
   ]
  },
  {
   "cell_type": "code",
   "execution_count": 2,
   "id": "f3f2abb2",
   "metadata": {},
   "outputs": [
    {
     "name": "stdout",
     "output_type": "stream",
     "text": [
      "Connected to MySQL database\n"
     ]
    }
   ],
   "source": [
    "try:\n",
    "    cnx = mysql.connector.connect(user='root', \n",
    "                                  password='MySQL%958#treebeard',\n",
    "                                  host='localhost',\n",
    "                                  database = 'sampledb',\n",
    "                                  use_pure=True)\n",
    "\n",
    "except mysql.connector.Error as err:\n",
    "        print(\"Error-Code:\", err.errno)\n",
    "        print(\"Error-Message: {}\".format(err.msg))\n",
    "    \n",
    "if cnx.is_connected():\n",
    "  print(\"Connected to MySQL database\")    "
   ]
  },
  {
   "cell_type": "code",
   "execution_count": 1,
   "id": "4a2a4f51",
   "metadata": {},
   "outputs": [
    {
     "name": "stdout",
     "output_type": "stream",
     "text": [
      "Connected to MySQL database\n"
     ]
    }
   ],
   "source": [
    "import mysql.connector\n",
    "\n",
    "mydb = mysql.connector.connect(\n",
    "  host=\"localhost\",\n",
    "  user=\"root\",\n",
    "  password=\"MySQL%958#treebeard\",\n",
    "  database=\"sampledb\",\n",
    "  use_pure=True\n",
    ")\n",
    "\n",
    "if mydb.is_connected():\n",
    "  print(\"Connected to MySQL database\")"
   ]
  },
  {
   "cell_type": "code",
   "execution_count": 6,
   "id": "bad948d0",
   "metadata": {},
   "outputs": [
    {
     "name": "stdout",
     "output_type": "stream",
     "text": [
      "Connected to MySQL database\n"
     ]
    }
   ],
   "source": [
    "try:\n",
    "    cnx = mysql.connector.connect(user='root', \n",
    "                                  password='MySQL%958#treebeard',\n",
    "                                  host='localhost',\n",
    "                                  database = 'sampledb',\n",
    "                                  use_pure=True)\n",
    "    if cnx.is_connected():\n",
    "        print(\"Connected to MySQL database\")   \n",
    "    \n",
    "    cursor = cnx.cursor()\n",
    "    # defining employee rows\n",
    "    emps = [\n",
    "        (9001, \"Jeff Russell\", \"sales\"),\n",
    "        (9002, \"Jane Boorman\", \"sales\"),\n",
    "        (9003, \"Tom Heints\", \"sales\")\n",
    "    ]\n",
    "    # defining the insert query\n",
    "    query_add_emp = (\"\"\" INSERT INTO emps(empno, empname, job)\\\n",
    "                         VALUES (%s, %s, %s)\"\"\")\n",
    "    \n",
    "    #inserting the employee rows\n",
    "    for emp in emps:\n",
    "        cursor.execute(query_add_emp, emp)\n",
    "    \n",
    "    # defining and inserting salaries\n",
    "    salary = [\n",
    "        (9001, 3000),\n",
    "        (9002, 2800),\n",
    "        (9003, 2500)\n",
    "    ]\n",
    "    # defining the insert query\n",
    "    query_add_salary = (\"\"\"INSERT INTO salary(empno, salary)\n",
    "                           VALUES (%s, %s)\"\"\")\n",
    "    # inserting the salary rows\n",
    "    for sal in salary:\n",
    "        cursor.execute(query_add_salary, sal)\n",
    "    \n",
    "    # defining order rows\n",
    "    orders = [\n",
    "        (2608, 9001, 35),\n",
    "        (2617, 9001, 35),\n",
    "        (2620, 9001, 139),\n",
    "        (2621, 9002, 95),\n",
    "        (2626, 9002, 218)\n",
    "    ]\n",
    "    \n",
    "    # defining the insert query\n",
    "    query_add_orders = (\"\"\"INSERT INTO orders(pono, empno, total)\n",
    "                           VALUES (%s, %s, %s)\"\"\")\n",
    "    \n",
    "    # inserting the order row\n",
    "    for order in orders:\n",
    "        cursor.execute(query_add_orders, order)\n",
    "    \n",
    "    # making the insertions permanent in the database\n",
    "    cnx.commit()\n",
    "  \n",
    "except mysql.connector.Error as err:\n",
    "        print(\"Error-Code:\", err.errno)\n",
    "        print(\"Error-Message: {}\".format(err.msg))\n",
    "\n",
    "finally:\n",
    "    cursor.close()\n",
    "    cnx.close()\n",
    " "
   ]
  },
  {
   "cell_type": "markdown",
   "id": "00b966ab",
   "metadata": {},
   "source": [
    "## Querying mySQL Database Data"
   ]
  },
  {
   "cell_type": "code",
   "execution_count": 8,
   "id": "13b4d50e",
   "metadata": {},
   "outputs": [
    {
     "name": "stdout",
     "output_type": "stream",
     "text": [
      "9002, Jane Boorman, sales\n",
      "9003, Tom Heints, sales\n"
     ]
    }
   ],
   "source": [
    "try:\n",
    "    cnx = mysql.connector.connect(user='root',\n",
    "                                  host=\"localhost\",\n",
    "                                  password='MySQL%958#treebeard',\n",
    "                                  database = 'sampledb',\n",
    "                                  use_pure=True\n",
    "                                 )\n",
    "    cursor = cnx.cursor()\n",
    "    query = (\"SELECT * FROM emps WHERE empno > %s\")\n",
    "    empno = 9001\n",
    "    cursor.execute(query, (empno,))\n",
    "    for (empno, empname, job) in cursor:\n",
    "        print(\"{}, {}, {}\".format(empno, empname, job))\n",
    "\n",
    "except mysql.connector.Error as err:\n",
    "        print(\"Error-Code:\", err.errno)\n",
    "        print(\"Error-Message: {}\".format(err.msg))\n",
    "\n",
    "finally:\n",
    "    cursor.close()\n",
    "    cnx.close()        "
   ]
  },
  {
   "cell_type": "markdown",
   "id": "625b9e0a",
   "metadata": {},
   "source": [
    "## Using Database Analytics Tools"
   ]
  },
  {
   "cell_type": "code",
   "execution_count": 24,
   "id": "36439242",
   "metadata": {},
   "outputs": [
    {
     "name": "stdout",
     "output_type": "stream",
     "text": [
      "[('TSLA', '2025-01-30', 400.28), ('TSLA', '2025-01-31', 404.6), ('TSLA', '2025-02-03', 383.68), ('TSLA', '2025-02-04', 392.21), ('TSLA', '2025-02-05', 378.17), ('META', '2025-01-30', 687.0), ('META', '2025-01-31', 689.18), ('META', '2025-02-03', 697.46), ('META', '2025-02-04', 704.19), ('META', '2025-02-05', 704.87), ('ORCL', '2025-01-30', 170.38), ('ORCL', '2025-01-31', 170.06), ('ORCL', '2025-02-03', 168.6), ('ORCL', '2025-02-04', 167.89), ('ORCL', '2025-02-05', 171.66), ('AMZN', '2025-01-30', 234.64), ('AMZN', '2025-01-31', 237.68), ('AMZN', '2025-02-03', 237.42), ('AMZN', '2025-02-04', 242.06), ('AMZN', '2025-02-05', 236.17)]\n"
     ]
    }
   ],
   "source": [
    "import yfinance as yf\n",
    "data = []\n",
    "tickers = ['TSLA','META','ORCL','AMZN']\n",
    "for ticker in tickers:\n",
    "    tkr = yf.Ticker(ticker)\n",
    "    hist = tkr.history(period='5d').reset_index()\n",
    "    records = hist[['Date','Close']].to_records(index=False)\n",
    "    records = list(records)\n",
    "    d = records\n",
    "    records = [(ticker, str(elem[0])[:10], float(round(elem[1],2))) for elem in records]\n",
    "    data = data + records\n",
    "print(data)    "
   ]
  },
  {
   "cell_type": "code",
   "execution_count": 25,
   "id": "d80b5654",
   "metadata": {},
   "outputs": [
    {
     "data": {
      "text/plain": [
       "[('TSLA', '2025-01-30', 400.28),\n",
       " ('TSLA', '2025-01-31', 404.6),\n",
       " ('TSLA', '2025-02-03', 383.68),\n",
       " ('TSLA', '2025-02-04', 392.21),\n",
       " ('TSLA', '2025-02-05', 378.17),\n",
       " ('META', '2025-01-30', 687.0),\n",
       " ('META', '2025-01-31', 689.18),\n",
       " ('META', '2025-02-03', 697.46),\n",
       " ('META', '2025-02-04', 704.19),\n",
       " ('META', '2025-02-05', 704.87),\n",
       " ('ORCL', '2025-01-30', 170.38),\n",
       " ('ORCL', '2025-01-31', 170.06),\n",
       " ('ORCL', '2025-02-03', 168.6),\n",
       " ('ORCL', '2025-02-04', 167.89),\n",
       " ('ORCL', '2025-02-05', 171.66),\n",
       " ('AMZN', '2025-01-30', 234.64),\n",
       " ('AMZN', '2025-01-31', 237.68),\n",
       " ('AMZN', '2025-02-03', 237.42),\n",
       " ('AMZN', '2025-02-04', 242.06),\n",
       " ('AMZN', '2025-02-05', 236.17)]"
      ]
     },
     "execution_count": 25,
     "metadata": {},
     "output_type": "execute_result"
    }
   ],
   "source": [
    "data"
   ]
  },
  {
   "cell_type": "code",
   "execution_count": 31,
   "id": "d0c70026",
   "metadata": {},
   "outputs": [
    {
     "name": "stdout",
     "output_type": "stream",
     "text": [
      "Database connection made\n"
     ]
    }
   ],
   "source": [
    "# Load python list into a MySQl table called 'stock'\n",
    "import mysql.connector\n",
    "from mysql.connector import errorcode\n",
    "from decimal import Decimal\n",
    "\n",
    "try:\n",
    "    cnx = mysql.connector.connect(user='root',\n",
    "                                  host=\"localhost\",\n",
    "                                  password='MySQL%958#treebeard',\n",
    "                                  database = 'sampledb',\n",
    "                                  use_pure=True\n",
    "                                 )\n",
    "    cursor = cnx.cursor()\n",
    "    \n",
    "    print('Database connection made')\n",
    "    \n",
    "    # define the query\n",
    "    query_add_stocks = (\"\"\" INSERT INTO stocks (ticker, date, price)\n",
    "                            VALUES (%s, %s, %s)\"\"\")\n",
    "    \n",
    "    # adding the stock price rows\n",
    "    cursor.executemany(query_add_stocks, data)\n",
    "    cnx.commit()\n",
    "\n",
    "except mysql.connector.Error as err:\n",
    "        print(\"Error-Code:\", err.errno)\n",
    "        print(\"Error-Message: {}\".format(err.msg))\n",
    "\n",
    "finally:\n",
    "    cursor.close()\n",
    "    cnx.close()      "
   ]
  },
  {
   "cell_type": "markdown",
   "id": "54e331dd",
   "metadata": {},
   "source": [
    "## Query mySQL data with subquery and partition "
   ]
  },
  {
   "cell_type": "code",
   "execution_count": 3,
   "id": "23c6e12b",
   "metadata": {},
   "outputs": [
    {
     "name": "stderr",
     "output_type": "stream",
     "text": [
      "C:\\Users\\timry\\AppData\\Local\\Temp\\ipykernel_56568\\609227010.py:22: UserWarning: pandas only supports SQLAlchemy connectable (engine/connection) or database string URI or sqlite3 DBAPI2 connection. Other DBAPI2 objects are not tested. Please consider using SQLAlchemy.\n",
      "  df_stocks = pd.read_sql(query, con=cnx)\n"
     ]
    }
   ],
   "source": [
    "import pandas as pd\n",
    "import mysql.connector\n",
    "from mysql.connector import errorcode\n",
    "\n",
    "try:\n",
    "    cnx = mysql.connector.connect(user='root',\n",
    "                                  password = 'MySQL%958#treebeard',\n",
    "                                  host='localhost',\n",
    "                                  database='sampledb',\n",
    "                                  use_pure=True)\n",
    "    query = (\"\"\"\n",
    "        SELECT s.* FROM stocks AS s\n",
    "        LEFT JOIN\n",
    "          (SELECT DISTINCT(ticker) FROM\n",
    "             (SELECT\n",
    "                price/LAG(price) OVER(PARTITION BY ticker ORDER BY date) AS dif,\n",
    "                ticker\n",
    "              FROM stocks) as b\n",
    "           WHERE dif < 0.99) as a\n",
    "        ON a.ticker = s.ticker\n",
    "        WHERE a.ticker IS NULL\"\"\")\n",
    "    df_stocks = pd.read_sql(query, con=cnx)\n",
    "    df_stocks = df_stocks.set_index(['ticker','date'])\n",
    "\n",
    "except mysql.connector.Error as err:\n",
    "    print('Error-Code:', err.errno)\n",
    "    print('Error-Message: {}'.format(err.msg))\n",
    "finally:\n",
    "    cnx.close\n",
    "        "
   ]
  },
  {
   "cell_type": "code",
   "execution_count": 4,
   "id": "a3ae548f",
   "metadata": {},
   "outputs": [
    {
     "data": {
      "text/html": [
       "<div>\n",
       "<style scoped>\n",
       "    .dataframe tbody tr th:only-of-type {\n",
       "        vertical-align: middle;\n",
       "    }\n",
       "\n",
       "    .dataframe tbody tr th {\n",
       "        vertical-align: top;\n",
       "    }\n",
       "\n",
       "    .dataframe thead th {\n",
       "        text-align: right;\n",
       "    }\n",
       "</style>\n",
       "<table border=\"1\" class=\"dataframe\">\n",
       "  <thead>\n",
       "    <tr style=\"text-align: right;\">\n",
       "      <th></th>\n",
       "      <th></th>\n",
       "      <th>idstocks</th>\n",
       "      <th>price</th>\n",
       "    </tr>\n",
       "    <tr>\n",
       "      <th>ticker</th>\n",
       "      <th>date</th>\n",
       "      <th></th>\n",
       "      <th></th>\n",
       "    </tr>\n",
       "  </thead>\n",
       "  <tbody>\n",
       "    <tr>\n",
       "      <th rowspan=\"5\" valign=\"top\">META</th>\n",
       "      <th>2025-01-30</th>\n",
       "      <td>46</td>\n",
       "      <td>687.00</td>\n",
       "    </tr>\n",
       "    <tr>\n",
       "      <th>2025-01-31</th>\n",
       "      <td>47</td>\n",
       "      <td>689.18</td>\n",
       "    </tr>\n",
       "    <tr>\n",
       "      <th>2025-02-03</th>\n",
       "      <td>48</td>\n",
       "      <td>697.46</td>\n",
       "    </tr>\n",
       "    <tr>\n",
       "      <th>2025-02-04</th>\n",
       "      <td>49</td>\n",
       "      <td>704.19</td>\n",
       "    </tr>\n",
       "    <tr>\n",
       "      <th>2025-02-05</th>\n",
       "      <td>50</td>\n",
       "      <td>704.87</td>\n",
       "    </tr>\n",
       "    <tr>\n",
       "      <th rowspan=\"5\" valign=\"top\">ORCL</th>\n",
       "      <th>2025-01-30</th>\n",
       "      <td>51</td>\n",
       "      <td>170.38</td>\n",
       "    </tr>\n",
       "    <tr>\n",
       "      <th>2025-01-31</th>\n",
       "      <td>52</td>\n",
       "      <td>170.06</td>\n",
       "    </tr>\n",
       "    <tr>\n",
       "      <th>2025-02-03</th>\n",
       "      <td>53</td>\n",
       "      <td>168.60</td>\n",
       "    </tr>\n",
       "    <tr>\n",
       "      <th>2025-02-04</th>\n",
       "      <td>54</td>\n",
       "      <td>167.89</td>\n",
       "    </tr>\n",
       "    <tr>\n",
       "      <th>2025-02-05</th>\n",
       "      <td>55</td>\n",
       "      <td>171.66</td>\n",
       "    </tr>\n",
       "  </tbody>\n",
       "</table>\n",
       "</div>"
      ],
      "text/plain": [
       "                   idstocks   price\n",
       "ticker date                        \n",
       "META   2025-01-30        46  687.00\n",
       "       2025-01-31        47  689.18\n",
       "       2025-02-03        48  697.46\n",
       "       2025-02-04        49  704.19\n",
       "       2025-02-05        50  704.87\n",
       "ORCL   2025-01-30        51  170.38\n",
       "       2025-01-31        52  170.06\n",
       "       2025-02-03        53  168.60\n",
       "       2025-02-04        54  167.89\n",
       "       2025-02-05        55  171.66"
      ]
     },
     "execution_count": 4,
     "metadata": {},
     "output_type": "execute_result"
    }
   ],
   "source": [
    "df_stocks"
   ]
  },
  {
   "cell_type": "markdown",
   "id": "566e7e87",
   "metadata": {},
   "source": [
    "## NoSQL Databases"
   ]
  },
  {
   "cell_type": "code",
   "execution_count": null,
   "id": "c5e2bc41",
   "metadata": {},
   "outputs": [],
   "source": []
  }
 ],
 "metadata": {
  "kernelspec": {
   "display_name": "Python 3 (ipykernel)",
   "language": "python",
   "name": "python3"
  },
  "language_info": {
   "codemirror_mode": {
    "name": "ipython",
    "version": 3
   },
   "file_extension": ".py",
   "mimetype": "text/x-python",
   "name": "python",
   "nbconvert_exporter": "python",
   "pygments_lexer": "ipython3",
   "version": "3.11.7"
  }
 },
 "nbformat": 4,
 "nbformat_minor": 5
}
