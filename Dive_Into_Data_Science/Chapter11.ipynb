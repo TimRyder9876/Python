{
 "cells": [
  {
   "cell_type": "markdown",
   "id": "64c4ee78",
   "metadata": {},
   "source": [
    "## Reading and Analyzing Data"
   ]
  },
  {
   "cell_type": "code",
   "execution_count": 3,
   "id": "efe505f4",
   "metadata": {},
   "outputs": [],
   "source": [
    "import pandas as pd"
   ]
  },
  {
   "cell_type": "code",
   "execution_count": 8,
   "id": "084bf936",
   "metadata": {},
   "outputs": [],
   "source": [
    "players = pd.read_csv('players.csv', encoding='ISO-8859-1')\n",
    "games = pd.read_csv('games.csv', encoding='ISO-8859-1')\n",
    "shots = pd.read_csv('https://bradfordtuckfield.com/shots.csv', encoding='ISO-8859-1')"
   ]
  },
  {
   "cell_type": "code",
   "execution_count": 9,
   "id": "2d7535bb",
   "metadata": {},
   "outputs": [
    {
     "data": {
      "text/html": [
       "<div>\n",
       "<style scoped>\n",
       "    .dataframe tbody tr th:only-of-type {\n",
       "        vertical-align: middle;\n",
       "    }\n",
       "\n",
       "    .dataframe tbody tr th {\n",
       "        vertical-align: top;\n",
       "    }\n",
       "\n",
       "    .dataframe thead th {\n",
       "        text-align: right;\n",
       "    }\n",
       "</style>\n",
       "<table border=\"1\" class=\"dataframe\">\n",
       "  <thead>\n",
       "    <tr style=\"text-align: right;\">\n",
       "      <th></th>\n",
       "      <th>playerID</th>\n",
       "      <th>name</th>\n",
       "    </tr>\n",
       "  </thead>\n",
       "  <tbody>\n",
       "    <tr>\n",
       "      <th>0</th>\n",
       "      <td>560</td>\n",
       "      <td>Sergio Romero</td>\n",
       "    </tr>\n",
       "    <tr>\n",
       "      <th>1</th>\n",
       "      <td>557</td>\n",
       "      <td>Matteo Darmian</td>\n",
       "    </tr>\n",
       "    <tr>\n",
       "      <th>2</th>\n",
       "      <td>548</td>\n",
       "      <td>Daley Blind</td>\n",
       "    </tr>\n",
       "    <tr>\n",
       "      <th>3</th>\n",
       "      <td>628</td>\n",
       "      <td>Chris Smalling</td>\n",
       "    </tr>\n",
       "    <tr>\n",
       "      <th>4</th>\n",
       "      <td>1006</td>\n",
       "      <td>Luke Shaw</td>\n",
       "    </tr>\n",
       "  </tbody>\n",
       "</table>\n",
       "</div>"
      ],
      "text/plain": [
       "   playerID            name\n",
       "0       560   Sergio Romero\n",
       "1       557  Matteo Darmian\n",
       "2       548     Daley Blind\n",
       "3       628  Chris Smalling\n",
       "4      1006       Luke Shaw"
      ]
     },
     "execution_count": 9,
     "metadata": {},
     "output_type": "execute_result"
    }
   ],
   "source": [
    "players.head()"
   ]
  },
  {
   "cell_type": "code",
   "execution_count": 10,
   "id": "418991dd",
   "metadata": {},
   "outputs": [
    {
     "data": {
      "text/html": [
       "<div>\n",
       "<style scoped>\n",
       "    .dataframe tbody tr th:only-of-type {\n",
       "        vertical-align: middle;\n",
       "    }\n",
       "\n",
       "    .dataframe tbody tr th {\n",
       "        vertical-align: top;\n",
       "    }\n",
       "\n",
       "    .dataframe thead th {\n",
       "        text-align: right;\n",
       "    }\n",
       "</style>\n",
       "<table border=\"1\" class=\"dataframe\">\n",
       "  <thead>\n",
       "    <tr style=\"text-align: right;\">\n",
       "      <th></th>\n",
       "      <th>gameID</th>\n",
       "      <th>leagueID</th>\n",
       "      <th>season</th>\n",
       "      <th>date</th>\n",
       "      <th>homeTeamID</th>\n",
       "      <th>awayTeamID</th>\n",
       "      <th>homeGoals</th>\n",
       "      <th>awayGoals</th>\n",
       "      <th>homeProbability</th>\n",
       "      <th>drawProbability</th>\n",
       "      <th>...</th>\n",
       "      <th>PSA</th>\n",
       "      <th>WHH</th>\n",
       "      <th>WHD</th>\n",
       "      <th>WHA</th>\n",
       "      <th>VCH</th>\n",
       "      <th>VCD</th>\n",
       "      <th>VCA</th>\n",
       "      <th>PSCH</th>\n",
       "      <th>PSCD</th>\n",
       "      <th>PSCA</th>\n",
       "    </tr>\n",
       "  </thead>\n",
       "  <tbody>\n",
       "    <tr>\n",
       "      <th>0</th>\n",
       "      <td>81</td>\n",
       "      <td>1</td>\n",
       "      <td>2015</td>\n",
       "      <td>2015-08-08 15:45:00</td>\n",
       "      <td>89</td>\n",
       "      <td>82</td>\n",
       "      <td>1</td>\n",
       "      <td>0</td>\n",
       "      <td>0.2843</td>\n",
       "      <td>0.3999</td>\n",
       "      <td>...</td>\n",
       "      <td>5.90</td>\n",
       "      <td>1.62</td>\n",
       "      <td>3.6</td>\n",
       "      <td>6.00</td>\n",
       "      <td>1.67</td>\n",
       "      <td>4.00</td>\n",
       "      <td>5.75</td>\n",
       "      <td>1.64</td>\n",
       "      <td>4.07</td>\n",
       "      <td>6.04</td>\n",
       "    </tr>\n",
       "    <tr>\n",
       "      <th>1</th>\n",
       "      <td>82</td>\n",
       "      <td>1</td>\n",
       "      <td>2015</td>\n",
       "      <td>2015-08-08 18:00:00</td>\n",
       "      <td>73</td>\n",
       "      <td>71</td>\n",
       "      <td>0</td>\n",
       "      <td>1</td>\n",
       "      <td>0.3574</td>\n",
       "      <td>0.3500</td>\n",
       "      <td>...</td>\n",
       "      <td>4.27</td>\n",
       "      <td>1.91</td>\n",
       "      <td>3.5</td>\n",
       "      <td>4.00</td>\n",
       "      <td>2.00</td>\n",
       "      <td>3.50</td>\n",
       "      <td>4.20</td>\n",
       "      <td>1.82</td>\n",
       "      <td>3.88</td>\n",
       "      <td>4.70</td>\n",
       "    </tr>\n",
       "    <tr>\n",
       "      <th>2</th>\n",
       "      <td>83</td>\n",
       "      <td>1</td>\n",
       "      <td>2015</td>\n",
       "      <td>2015-08-08 18:00:00</td>\n",
       "      <td>72</td>\n",
       "      <td>90</td>\n",
       "      <td>2</td>\n",
       "      <td>2</td>\n",
       "      <td>0.2988</td>\n",
       "      <td>0.4337</td>\n",
       "      <td>...</td>\n",
       "      <td>5.62</td>\n",
       "      <td>1.73</td>\n",
       "      <td>3.5</td>\n",
       "      <td>5.00</td>\n",
       "      <td>1.73</td>\n",
       "      <td>3.90</td>\n",
       "      <td>5.40</td>\n",
       "      <td>1.75</td>\n",
       "      <td>3.76</td>\n",
       "      <td>5.44</td>\n",
       "    </tr>\n",
       "    <tr>\n",
       "      <th>3</th>\n",
       "      <td>84</td>\n",
       "      <td>1</td>\n",
       "      <td>2015</td>\n",
       "      <td>2015-08-08 18:00:00</td>\n",
       "      <td>75</td>\n",
       "      <td>77</td>\n",
       "      <td>4</td>\n",
       "      <td>2</td>\n",
       "      <td>0.6422</td>\n",
       "      <td>0.2057</td>\n",
       "      <td>...</td>\n",
       "      <td>4.34</td>\n",
       "      <td>2.00</td>\n",
       "      <td>3.1</td>\n",
       "      <td>2.70</td>\n",
       "      <td>2.00</td>\n",
       "      <td>3.40</td>\n",
       "      <td>4.33</td>\n",
       "      <td>1.79</td>\n",
       "      <td>3.74</td>\n",
       "      <td>5.10</td>\n",
       "    </tr>\n",
       "    <tr>\n",
       "      <th>4</th>\n",
       "      <td>85</td>\n",
       "      <td>1</td>\n",
       "      <td>2015</td>\n",
       "      <td>2015-08-08 18:00:00</td>\n",
       "      <td>79</td>\n",
       "      <td>78</td>\n",
       "      <td>1</td>\n",
       "      <td>3</td>\n",
       "      <td>0.1461</td>\n",
       "      <td>0.2159</td>\n",
       "      <td>...</td>\n",
       "      <td>3.08</td>\n",
       "      <td>2.60</td>\n",
       "      <td>3.1</td>\n",
       "      <td>2.88</td>\n",
       "      <td>2.60</td>\n",
       "      <td>3.25</td>\n",
       "      <td>3.00</td>\n",
       "      <td>2.46</td>\n",
       "      <td>3.39</td>\n",
       "      <td>3.14</td>\n",
       "    </tr>\n",
       "  </tbody>\n",
       "</table>\n",
       "<p>5 rows × 34 columns</p>\n",
       "</div>"
      ],
      "text/plain": [
       "   gameID  leagueID  season                 date  homeTeamID  awayTeamID  \\\n",
       "0      81         1    2015  2015-08-08 15:45:00          89          82   \n",
       "1      82         1    2015  2015-08-08 18:00:00          73          71   \n",
       "2      83         1    2015  2015-08-08 18:00:00          72          90   \n",
       "3      84         1    2015  2015-08-08 18:00:00          75          77   \n",
       "4      85         1    2015  2015-08-08 18:00:00          79          78   \n",
       "\n",
       "   homeGoals  awayGoals  homeProbability  drawProbability  ...   PSA   WHH  \\\n",
       "0          1          0           0.2843           0.3999  ...  5.90  1.62   \n",
       "1          0          1           0.3574           0.3500  ...  4.27  1.91   \n",
       "2          2          2           0.2988           0.4337  ...  5.62  1.73   \n",
       "3          4          2           0.6422           0.2057  ...  4.34  2.00   \n",
       "4          1          3           0.1461           0.2159  ...  3.08  2.60   \n",
       "\n",
       "   WHD   WHA   VCH   VCD   VCA  PSCH  PSCD  PSCA  \n",
       "0  3.6  6.00  1.67  4.00  5.75  1.64  4.07  6.04  \n",
       "1  3.5  4.00  2.00  3.50  4.20  1.82  3.88  4.70  \n",
       "2  3.5  5.00  1.73  3.90  5.40  1.75  3.76  5.44  \n",
       "3  3.1  2.70  2.00  3.40  4.33  1.79  3.74  5.10  \n",
       "4  3.1  2.88  2.60  3.25  3.00  2.46  3.39  3.14  \n",
       "\n",
       "[5 rows x 34 columns]"
      ]
     },
     "execution_count": 10,
     "metadata": {},
     "output_type": "execute_result"
    }
   ],
   "source": [
    "games.head()"
   ]
  },
  {
   "cell_type": "code",
   "execution_count": 11,
   "id": "26ca941b",
   "metadata": {},
   "outputs": [
    {
     "data": {
      "text/html": [
       "<div>\n",
       "<style scoped>\n",
       "    .dataframe tbody tr th:only-of-type {\n",
       "        vertical-align: middle;\n",
       "    }\n",
       "\n",
       "    .dataframe tbody tr th {\n",
       "        vertical-align: top;\n",
       "    }\n",
       "\n",
       "    .dataframe thead th {\n",
       "        text-align: right;\n",
       "    }\n",
       "</style>\n",
       "<table border=\"1\" class=\"dataframe\">\n",
       "  <thead>\n",
       "    <tr style=\"text-align: right;\">\n",
       "      <th></th>\n",
       "      <th>gameID</th>\n",
       "      <th>shooterID</th>\n",
       "      <th>assisterID</th>\n",
       "      <th>minute</th>\n",
       "      <th>situation</th>\n",
       "      <th>lastAction</th>\n",
       "      <th>shotType</th>\n",
       "      <th>shotResult</th>\n",
       "      <th>xGoal</th>\n",
       "      <th>positionX</th>\n",
       "      <th>positionY</th>\n",
       "    </tr>\n",
       "  </thead>\n",
       "  <tbody>\n",
       "    <tr>\n",
       "      <th>0</th>\n",
       "      <td>81</td>\n",
       "      <td>554</td>\n",
       "      <td>NaN</td>\n",
       "      <td>27</td>\n",
       "      <td>DirectFreekick</td>\n",
       "      <td>Standard</td>\n",
       "      <td>LeftFoot</td>\n",
       "      <td>BlockedShot</td>\n",
       "      <td>0.104347</td>\n",
       "      <td>0.794</td>\n",
       "      <td>0.421</td>\n",
       "    </tr>\n",
       "    <tr>\n",
       "      <th>1</th>\n",
       "      <td>81</td>\n",
       "      <td>555</td>\n",
       "      <td>631.0</td>\n",
       "      <td>27</td>\n",
       "      <td>SetPiece</td>\n",
       "      <td>Pass</td>\n",
       "      <td>RightFoot</td>\n",
       "      <td>BlockedShot</td>\n",
       "      <td>0.064342</td>\n",
       "      <td>0.860</td>\n",
       "      <td>0.627</td>\n",
       "    </tr>\n",
       "    <tr>\n",
       "      <th>2</th>\n",
       "      <td>81</td>\n",
       "      <td>554</td>\n",
       "      <td>629.0</td>\n",
       "      <td>35</td>\n",
       "      <td>OpenPlay</td>\n",
       "      <td>Pass</td>\n",
       "      <td>LeftFoot</td>\n",
       "      <td>BlockedShot</td>\n",
       "      <td>0.057157</td>\n",
       "      <td>0.843</td>\n",
       "      <td>0.333</td>\n",
       "    </tr>\n",
       "    <tr>\n",
       "      <th>3</th>\n",
       "      <td>81</td>\n",
       "      <td>554</td>\n",
       "      <td>NaN</td>\n",
       "      <td>35</td>\n",
       "      <td>OpenPlay</td>\n",
       "      <td>Tackle</td>\n",
       "      <td>LeftFoot</td>\n",
       "      <td>MissedShots</td>\n",
       "      <td>0.092141</td>\n",
       "      <td>0.848</td>\n",
       "      <td>0.533</td>\n",
       "    </tr>\n",
       "    <tr>\n",
       "      <th>4</th>\n",
       "      <td>81</td>\n",
       "      <td>555</td>\n",
       "      <td>654.0</td>\n",
       "      <td>40</td>\n",
       "      <td>OpenPlay</td>\n",
       "      <td>BallRecovery</td>\n",
       "      <td>RightFoot</td>\n",
       "      <td>BlockedShot</td>\n",
       "      <td>0.035742</td>\n",
       "      <td>0.812</td>\n",
       "      <td>0.707</td>\n",
       "    </tr>\n",
       "  </tbody>\n",
       "</table>\n",
       "</div>"
      ],
      "text/plain": [
       "   gameID  shooterID  assisterID  minute       situation    lastAction  \\\n",
       "0      81        554         NaN      27  DirectFreekick      Standard   \n",
       "1      81        555       631.0      27        SetPiece          Pass   \n",
       "2      81        554       629.0      35        OpenPlay          Pass   \n",
       "3      81        554         NaN      35        OpenPlay        Tackle   \n",
       "4      81        555       654.0      40        OpenPlay  BallRecovery   \n",
       "\n",
       "    shotType   shotResult     xGoal  positionX  positionY  \n",
       "0   LeftFoot  BlockedShot  0.104347      0.794      0.421  \n",
       "1  RightFoot  BlockedShot  0.064342      0.860      0.627  \n",
       "2   LeftFoot  BlockedShot  0.057157      0.843      0.333  \n",
       "3   LeftFoot  MissedShots  0.092141      0.848      0.533  \n",
       "4  RightFoot  BlockedShot  0.035742      0.812      0.707  "
      ]
     },
     "execution_count": 11,
     "metadata": {},
     "output_type": "execute_result"
    }
   ],
   "source": [
    "shots.head()"
   ]
  },
  {
   "cell_type": "code",
   "execution_count": 12,
   "id": "09272011",
   "metadata": {},
   "outputs": [
    {
     "data": {
      "text/plain": [
       "Index(['gameID', 'shooterID', 'assisterID', 'minute', 'situation',\n",
       "       'lastAction', 'shotType', 'shotResult', 'xGoal', 'positionX',\n",
       "       'positionY'],\n",
       "      dtype='object')"
      ]
     },
     "execution_count": 12,
     "metadata": {},
     "output_type": "execute_result"
    }
   ],
   "source": [
    "shots.columns"
   ]
  },
  {
   "cell_type": "markdown",
   "id": "c3e97e30",
   "metadata": {},
   "source": [
    "## Setting Up A SQL Database (SQLite3)"
   ]
  },
  {
   "cell_type": "code",
   "execution_count": 13,
   "id": "900ef3f9",
   "metadata": {},
   "outputs": [],
   "source": [
    "import sqlite3"
   ]
  },
  {
   "cell_type": "code",
   "execution_count": 14,
   "id": "54d3767f",
   "metadata": {},
   "outputs": [],
   "source": [
    "conn = sqlite3.connect(\"soccer.db\")\n",
    "curr = conn.cursor()"
   ]
  },
  {
   "cell_type": "code",
   "execution_count": 15,
   "id": "1a623b3c",
   "metadata": {},
   "outputs": [
    {
     "data": {
      "text/plain": [
       "7659"
      ]
     },
     "execution_count": 15,
     "metadata": {},
     "output_type": "execute_result"
    }
   ],
   "source": [
    "players.to_sql('playertable', conn, if_exists='replace', index=False)"
   ]
  },
  {
   "cell_type": "markdown",
   "id": "c7f4ce48",
   "metadata": {},
   "source": [
    "## Running SQL Queries"
   ]
  },
  {
   "cell_type": "code",
   "execution_count": 20,
   "id": "3fcdea61",
   "metadata": {},
   "outputs": [
    {
     "name": "stdout",
     "output_type": "stream",
     "text": [
      "(560, 'Sergio Romero')\n",
      "(557, 'Matteo Darmian')\n",
      "(548, 'Daley Blind')\n",
      "(628, 'Chris Smalling')\n",
      "(1006, 'Luke Shaw')\n"
     ]
    }
   ],
   "source": [
    "# Return the first 5 rows of the playertable and then print them\n",
    "\n",
    "curr.execute('''\n",
    "SELECT * FROM playertable LIMIT 5\n",
    "    ''')\n",
    "for row in curr.fetchall():\n",
    "    print(row)"
   ]
  },
  {
   "cell_type": "code",
   "execution_count": 21,
   "id": "f2a94f36",
   "metadata": {},
   "outputs": [
    {
     "name": "stdout",
     "output_type": "stream",
     "text": [
      "(554, 'Juan Mata')\n"
     ]
    }
   ],
   "source": [
    "# select the row for playerid 554 and then print the row\n",
    "curr.execute('''\n",
    "select * from playertable where playerid=554\n",
    "''')\n",
    "\n",
    "for row in curr.fetchall():\n",
    "    print(row)"
   ]
  },
  {
   "cell_type": "code",
   "execution_count": 22,
   "id": "199e2e6f",
   "metadata": {},
   "outputs": [
    {
     "name": "stdout",
     "output_type": "stream",
     "text": [
      "(554, 'Juan Mata')\n"
     ]
    }
   ],
   "source": [
    "curr.execute('''\n",
    "select * from playertable where name = \"Juan Mata\"\n",
    "''')\n",
    "\n",
    "for row in curr.fetchall():\n",
    "    print(row)"
   ]
  },
  {
   "cell_type": "code",
   "execution_count": 32,
   "id": "4b9ca6ee",
   "metadata": {},
   "outputs": [
    {
     "name": "stdout",
     "output_type": "stream",
     "text": [
      "(199, 'Yann Sommer')\n",
      "(198, 'Vladlen Yurchenko')\n",
      "(197, 'Kyriakos Papadopoulos')\n",
      "(196, 'Dario Kresic')\n",
      "(195, 'André Ramalho')\n",
      "(194, 'Admir Mehmedi')\n",
      "(193, 'Giulio Donati')\n",
      "(192, 'Marlon Frey')\n",
      "(191, 'Chicharito')\n"
     ]
    }
   ],
   "source": [
    "# Get player ids greater than 190 and less than 200\n",
    "# order the results in descending order by playerid(1)\n",
    "\n",
    "curr.execute('''\n",
    "select * from playertable \n",
    "where playerid>190 and playerid<200 \n",
    "order by 1 desc\n",
    "\n",
    "''')\n",
    "\n",
    "for row in curr.fetchall():\n",
    "    print(row)"
   ]
  },
  {
   "cell_type": "code",
   "execution_count": 33,
   "id": "4c0494f0",
   "metadata": {},
   "outputs": [
    {
     "name": "stdout",
     "output_type": "stream",
     "text": [
      "(554, 'Juan Mata')\n",
      "(2585, 'Juan Muñiz')\n",
      "(2067, 'Juan Muñoz')\n",
      "(4820, 'Juan Manuel Falcón')\n",
      "(7095, 'Juan Musso')\n",
      "(5009, 'Juan Manuel Valencia')\n",
      "(7286, 'Juan Miranda')\n"
     ]
    }
   ],
   "source": [
    "curr.execute('''\n",
    "select * from playertable\n",
    "where name like 'Juan M%'\n",
    "''')\n",
    "\n",
    "for row in curr.fetchall():\n",
    "    print(row)"
   ]
  },
  {
   "cell_type": "markdown",
   "id": "4b4d09b4",
   "metadata": {},
   "source": [
    "## Combining Dta by Joining Tables"
   ]
  },
  {
   "cell_type": "code",
   "execution_count": 34,
   "id": "85531432",
   "metadata": {},
   "outputs": [],
   "source": [
    "games = pd.read_csv('games.csv', encoding='ISO-8859-1')\n",
    "shots = pd.read_csv('https://bradfordtuckfield.com/shots.csv', encoding='ISO-8859-1')"
   ]
  },
  {
   "cell_type": "code",
   "execution_count": 35,
   "id": "2fc3ed0f",
   "metadata": {},
   "outputs": [
    {
     "data": {
      "text/plain": [
       "12680"
      ]
     },
     "execution_count": 35,
     "metadata": {},
     "output_type": "execute_result"
    }
   ],
   "source": [
    "games.to_sql('gamestable',conn, if_exists='replace', index=False)"
   ]
  },
  {
   "cell_type": "code",
   "execution_count": 38,
   "id": "51a630b0",
   "metadata": {},
   "outputs": [
    {
     "name": "stdout",
     "output_type": "stream",
     "text": [
      "(81, 1, 2015, '2015-08-08 15:45:00', 89, 82, 1, 0, 0.2843, 0.3999, 0.3158, 1, 0, 1.65, 4.0, 6.0, 1.65, 4.0, 5.5, 1.65, 3.6, 5.1, 1.65, 4.09, 5.9, 1.62, 3.6, 6.0, 1.67, 4.0, 5.75, 1.64, 4.07, 6.04)\n",
      "(82, 1, 2015, '2015-08-08 18:00:00', 73, 71, 0, 1, 0.3574, 0.35, 0.2926, 0, 0, 2.0, 3.6, 4.0, 2.0, 3.3, 3.7, 2.1, 3.3, 3.3, 1.95, 3.65, 4.27, 1.91, 3.5, 4.0, 2.0, 3.5, 4.2, 1.82, 3.88, 4.7)\n",
      "(83, 1, 2015, '2015-08-08 18:00:00', 72, 90, 2, 2, 0.2988, 0.4337, 0.2675, 0, 1, 1.7, 3.9, 5.5, 1.7, 3.5, 5.0, 1.7, 3.6, 4.7, 1.7, 3.95, 5.62, 1.73, 3.5, 5.0, 1.73, 3.9, 5.4, 1.75, 3.76, 5.44)\n",
      "(84, 1, 2015, '2015-08-08 18:00:00', 75, 77, 4, 2, 0.6422, 0.2057, 0.1521, 3, 0, 1.95, 3.5, 4.33, 2.0, 3.3, 3.75, 2.0, 3.3, 3.6, 1.99, 3.48, 4.34, 2.0, 3.1, 2.7, 2.0, 3.4, 4.33, 1.79, 3.74, 5.1)\n",
      "(85, 1, 2015, '2015-08-08 18:00:00', 79, 78, 1, 3, 0.1461, 0.2159, 0.638, 0, 1, 2.55, 3.3, 3.0, 2.6, 3.2, 2.7, 2.4, 3.2, 2.85, 2.52, 3.35, 3.08, 2.6, 3.1, 2.88, 2.6, 3.25, 3.0, 2.46, 3.39, 3.14)\n"
     ]
    }
   ],
   "source": [
    "curr.execute('''\n",
    "select * \n",
    "from gamestable \n",
    "limit 5\n",
    "\n",
    "''')\n",
    "\n",
    "for row in curr.fetchall():\n",
    "    print(row)"
   ]
  },
  {
   "cell_type": "code",
   "execution_count": 39,
   "id": "eebaa0c3",
   "metadata": {},
   "outputs": [
    {
     "data": {
      "text/plain": [
       "324543"
      ]
     },
     "execution_count": 39,
     "metadata": {},
     "output_type": "execute_result"
    }
   ],
   "source": [
    "shots.to_sql('shotstable', conn, if_exists='replace', index=False)"
   ]
  },
  {
   "cell_type": "code",
   "execution_count": 41,
   "id": "d5581a18",
   "metadata": {},
   "outputs": [
    {
     "name": "stdout",
     "output_type": "stream",
     "text": [
      "(81, 554, None, 27, 'DirectFreekick', 'Standard', 'LeftFoot', 'BlockedShot', 0.104346722364426, 0.794000015258789, 0.420999984741211)\n",
      "(81, 555, 631.0, 27, 'SetPiece', 'Pass', 'RightFoot', 'BlockedShot', 0.064342200756073, 0.86, 0.627000007629395)\n",
      "(81, 554, 629.0, 35, 'OpenPlay', 'Pass', 'LeftFoot', 'BlockedShot', 0.0571568161249161, 0.843000030517578, 0.332999992370605)\n",
      "(81, 554, None, 35, 'OpenPlay', 'Tackle', 'LeftFoot', 'MissedShots', 0.0921413898468018, 0.848000030517578, 0.532999992370605)\n",
      "(81, 555, 654.0, 40, 'OpenPlay', 'BallRecovery', 'RightFoot', 'BlockedShot', 0.0357420146465302, 0.811999969482422, 0.706999969482422)\n"
     ]
    }
   ],
   "source": [
    "curr.execute('''\n",
    "select * from shotstable limit 5\n",
    "''')\n",
    "\n",
    "for row in curr.fetchall():\n",
    "    print(row)"
   ]
  },
  {
   "cell_type": "code",
   "execution_count": 42,
   "id": "76e36965",
   "metadata": {},
   "outputs": [
    {
     "name": "stdout",
     "output_type": "stream",
     "text": [
      "(81, 554, None, 27, 'DirectFreekick', 'Standard', 'LeftFoot', 'BlockedShot', 0.104346722364426, 0.794000015258789, 0.420999984741211, 554, 'Juan Mata')\n",
      "(81, 555, 631.0, 27, 'SetPiece', 'Pass', 'RightFoot', 'BlockedShot', 0.064342200756073, 0.86, 0.627000007629395, 555, 'Memphis Depay')\n",
      "(81, 554, 629.0, 35, 'OpenPlay', 'Pass', 'LeftFoot', 'BlockedShot', 0.0571568161249161, 0.843000030517578, 0.332999992370605, 554, 'Juan Mata')\n",
      "(81, 554, None, 35, 'OpenPlay', 'Tackle', 'LeftFoot', 'MissedShots', 0.0921413898468018, 0.848000030517578, 0.532999992370605, 554, 'Juan Mata')\n",
      "(81, 555, 654.0, 40, 'OpenPlay', 'BallRecovery', 'RightFoot', 'BlockedShot', 0.0357420146465302, 0.811999969482422, 0.706999969482422, 555, 'Memphis Depay')\n"
     ]
    }
   ],
   "source": [
    "# join the shotstable and playertable using inner join.. use aliases and limit to 5 rows\n",
    "curr.execute('''\n",
    "select *\n",
    "from shotstable s\n",
    "    join playertable p \n",
    "      on s.shooterID = p.playerID\n",
    "limit 5\n",
    "        \n",
    "''')\n",
    "\n",
    "for row in curr.fetchall():\n",
    "    print(row)\n"
   ]
  },
  {
   "cell_type": "markdown",
   "id": "e850aae7",
   "metadata": {},
   "source": [
    "## Getting familiar with R"
   ]
  },
  {
   "cell_type": "markdown",
   "id": "476f3671",
   "metadata": {},
   "source": [
    "# you have to install R software before running pip install rpy2"
   ]
  },
  {
   "cell_type": "code",
   "execution_count": 44,
   "id": "b0966268",
   "metadata": {},
   "outputs": [
    {
     "ename": "ModuleNotFoundError",
     "evalue": "No module named 'rpy2'",
     "output_type": "error",
     "traceback": [
      "\u001b[1;31m---------------------------------------------------------------------------\u001b[0m",
      "\u001b[1;31mModuleNotFoundError\u001b[0m                       Traceback (most recent call last)",
      "Cell \u001b[1;32mIn[44], line 1\u001b[0m\n\u001b[1;32m----> 1\u001b[0m \u001b[38;5;28;01mfrom\u001b[39;00m\u001b[38;5;250m \u001b[39m\u001b[38;5;21;01mrpy2\u001b[39;00m\u001b[38;5;250m \u001b[39m\u001b[38;5;28;01mimport\u001b[39;00m robjects\n",
      "\u001b[1;31mModuleNotFoundError\u001b[0m: No module named 'rpy2'"
     ]
    }
   ],
   "source": [
    "from rpy2 import robjects"
   ]
  },
  {
   "cell_type": "code",
   "execution_count": null,
   "id": "98ae1813",
   "metadata": {},
   "outputs": [],
   "source": []
  }
 ],
 "metadata": {
  "kernelspec": {
   "display_name": "Python 3 (ipykernel)",
   "language": "python",
   "name": "python3"
  },
  "language_info": {
   "codemirror_mode": {
    "name": "ipython",
    "version": 3
   },
   "file_extension": ".py",
   "mimetype": "text/x-python",
   "name": "python",
   "nbconvert_exporter": "python",
   "pygments_lexer": "ipython3",
   "version": "3.11.7"
  }
 },
 "nbformat": 4,
 "nbformat_minor": 5
}
