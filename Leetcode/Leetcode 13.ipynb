{
 "cells": [
  {
   "cell_type": "code",
   "execution_count": 73,
   "id": "ea7c38d9",
   "metadata": {},
   "outputs": [
    {
     "name": "stdout",
     "output_type": "stream",
     "text": [
      "1.86 µs ± 179 ns per loop (mean ± std. dev. of 7 runs, 100,000 loops each)\n"
     ]
    }
   ],
   "source": [
    "#fastest \n",
    "import pandas as pd\n",
    "def romanToInt(s: str) -> int:\n",
    "    roman_dict = {'I':1,\n",
    "              'V':5,\n",
    "              'X':10,\n",
    "              'L':50,\n",
    "              'C':100,\n",
    "              'D':500,\n",
    "              'M':1000}\n",
    "    total = 0\n",
    "    previous = 0\n",
    "    for i in list(s):\n",
    "        if roman_dict[i] <= previous:\n",
    "            total += roman_dict[i]\n",
    "        else: \n",
    "            total += roman_dict[i] - (2*previous)\n",
    "        previous = roman_dict[i]\n",
    "    return total\n",
    "romanToInt(\"MCCCVI\")"
   ]
  },
  {
   "cell_type": "code",
   "execution_count": 12,
   "id": "c61acc88",
   "metadata": {},
   "outputs": [
    {
     "data": {
      "text/plain": [
       "1404"
      ]
     },
     "execution_count": 12,
     "metadata": {},
     "output_type": "execute_result"
    }
   ],
   "source": [
    "def romanToInt(s: str) -> int:\n",
    "    roman_dict = {'I':1,\n",
    "              'V':5,\n",
    "              'X':10,\n",
    "              'L':50,\n",
    "              'C':100,\n",
    "              'D':500,\n",
    "              'M':1000}\n",
    "    n = len(s)\n",
    "    total = 0\n",
    "    i = 0\n",
    "    while i < n:\n",
    "        if i < n-1 and roman_dict[s[i]] < roman_dict[s[i+1]]:\n",
    "            total += roman_dict[s[i+1]] - roman_dict[s[i]]\n",
    "            i += 2\n",
    "        else:\n",
    "            total += roman_dict[s[i]]\n",
    "            i += 1\n",
    "    return total\n",
    "\n",
    "romanToInt(\"MCDIV\")    "
   ]
  },
  {
   "cell_type": "code",
   "execution_count": 4,
   "id": "055f391d",
   "metadata": {},
   "outputs": [
    {
     "data": {
      "text/plain": [
       "1407"
      ]
     },
     "execution_count": 4,
     "metadata": {},
     "output_type": "execute_result"
    }
   ],
   "source": [
    "import pandas as pd\n",
    "def romanToInt(s: str) -> int:\n",
    "    roman_dict = {'I':1,\n",
    "              'V':5,\n",
    "              'X':10,\n",
    "              'L':50,\n",
    "              'C':100,\n",
    "              'D':500,\n",
    "              'M':1000}\n",
    "    total = 0\n",
    "    for i in range(len(s)-1):\n",
    "        if roman_dict[s[i]] < roman_dict[s[i+1]]:\n",
    "            total -= roman_dict[s[i]]\n",
    "        else:\n",
    "            total += roman_dict[s[i]]\n",
    "    return total + roman_dict[s[-1]]\n",
    "romanToInt(\"MCDVII\")"
   ]
  },
  {
   "cell_type": "code",
   "execution_count": 1,
   "id": "02c6e087",
   "metadata": {},
   "outputs": [
    {
     "data": {
      "text/plain": [
       "1407"
      ]
     },
     "execution_count": 1,
     "metadata": {},
     "output_type": "execute_result"
    }
   ],
   "source": [
    "\n",
    "import pandas as pd\n",
    "def romanToInt(s: str) -> int:\n",
    "    roman_dict = {'I':1,\n",
    "              'V':5,\n",
    "              'X':10,\n",
    "              'L':50,\n",
    "              'C':100,\n",
    "              'D':500,\n",
    "              'M':1000}\n",
    "    total = 0\n",
    "    previous = 0\n",
    "    for i in list(s):\n",
    "       total += roman_dict[i]  - (lambda x: 2*x  if roman_dict[i] > x else 0)(previous)\n",
    "       previous = roman_dict[i]\n",
    "    return total\n",
    "romanToInt(\"MCDVII\")"
   ]
  },
  {
   "cell_type": "code",
   "execution_count": 2,
   "id": "e5776024",
   "metadata": {},
   "outputs": [
    {
     "data": {
      "text/plain": [
       "1646"
      ]
     },
     "execution_count": 2,
     "metadata": {},
     "output_type": "execute_result"
    }
   ],
   "source": [
    "import pandas as pd\n",
    "def romanToInt(s: str) -> int:\n",
    "    roman_dict = {'I':1,\n",
    "              'V':5,\n",
    "              'X':10,\n",
    "              'L':50,\n",
    "              'C':100,\n",
    "              'D':500,\n",
    "              'M':1000}\n",
    "    total = 0\n",
    "    for i in range(len(s)-1):\n",
    "       total += roman_dict[s[i]] * (lambda x: -1  if roman_dict[s[x]] < roman_dict[s[x+1]] else 1)(i)\n",
    "    return total + roman_dict[s[-1]]\n",
    "romanToInt(\"MDCXLVI\")"
   ]
  },
  {
   "cell_type": "code",
   "execution_count": null,
   "id": "cdd00b88",
   "metadata": {},
   "outputs": [],
   "source": []
  }
 ],
 "metadata": {
  "kernelspec": {
   "display_name": "Python 3 (ipykernel)",
   "language": "python",
   "name": "python3"
  },
  "language_info": {
   "codemirror_mode": {
    "name": "ipython",
    "version": 3
   },
   "file_extension": ".py",
   "mimetype": "text/x-python",
   "name": "python",
   "nbconvert_exporter": "python",
   "pygments_lexer": "ipython3",
   "version": "3.11.7"
  }
 },
 "nbformat": 4,
 "nbformat_minor": 5
}
