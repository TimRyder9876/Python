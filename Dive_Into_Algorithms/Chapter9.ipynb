{
 "cells": [
  {
   "cell_type": "code",
   "execution_count": 1,
   "id": "a5505a00",
   "metadata": {},
   "outputs": [
    {
     "name": "stderr",
     "output_type": "stream",
     "text": [
      "C:\\Users\\timry\\AppData\\Local\\Temp\\ipykernel_45076\\1681056850.py:2: DtypeWarning: Columns (164) have mixed types. Specify dtype option on import or set low_memory=False.\n",
      "  ess = pd.read_csv('ess.csv')\n"
     ]
    }
   ],
   "source": [
    "import pandas as pd\n",
    "ess = pd.read_csv('ess.csv')"
   ]
  },
  {
   "cell_type": "code",
   "execution_count": 2,
   "id": "076265df",
   "metadata": {},
   "outputs": [
    {
     "name": "stdout",
     "output_type": "stream",
     "text": [
      "(44387, 534)\n"
     ]
    }
   ],
   "source": [
    "print(ess.shape)"
   ]
  },
  {
   "cell_type": "code",
   "execution_count": 3,
   "id": "bf7ae765",
   "metadata": {},
   "outputs": [
    {
     "name": "stdout",
     "output_type": "stream",
     "text": [
      "0    5\n",
      "1    5\n",
      "2    8\n",
      "3    8\n",
      "4    5\n",
      "Name: happy, dtype: int64\n"
     ]
    }
   ],
   "source": [
    "print(ess.loc[:,\"happy\"].head())"
   ]
  },
  {
   "cell_type": "code",
   "execution_count": 4,
   "id": "daa68b59",
   "metadata": {},
   "outputs": [
    {
     "name": "stdout",
     "output_type": "stream",
     "text": [
      "0    6\n",
      "1    4\n",
      "2    4\n",
      "3    4\n",
      "4    6\n",
      "Name: sclmeet, dtype: int64\n"
     ]
    }
   ],
   "source": [
    "print(ess.loc[:,\"sclmeet\"].head())"
   ]
  },
  {
   "cell_type": "code",
   "execution_count": 5,
   "id": "cf6bc3f1",
   "metadata": {},
   "outputs": [],
   "source": [
    "ess = ess.loc[ess[\"sclmeet\"] <=10,:].copy()\n",
    "ess = ess.loc[ess[\"rlgdgr\"] <=10,:].copy()\n",
    "ess = ess.loc[ess[\"hhmmb\"] <=50,:].copy()\n",
    "ess = ess.loc[ess[\"netusoft\"] <=5,:].copy()\n",
    "ess = ess.loc[ess[\"agea\"] <=200,:].copy()\n",
    "ess = ess.loc[ess[\"health\"] <=5,:].copy()\n",
    "ess = ess.loc[ess[\"happy\"] <=10,:].copy()\n",
    "ess = ess.loc[ess[\"eduyrs\"] <=100,:].copy().reset_index(drop=True)"
   ]
  },
  {
   "cell_type": "code",
   "execution_count": 6,
   "id": "c1d157e4",
   "metadata": {},
   "outputs": [],
   "source": [
    "import numpy as np\n",
    "social=list(ess.loc[:,'sclmeet'])\n",
    "happy=list(ess.loc[:,'happy'])\n",
    "low_social_happiness = [hap for soc,hap in zip(social,happy) if soc <=5]\n",
    "high_social_happiness = [hap for soc,hap in zip(social,happy) if soc > 5]\n",
    "\n",
    "meanlower = np.mean(low_social_happiness)\n",
    "meanhigher = np.mean(high_social_happiness)"
   ]
  },
  {
   "cell_type": "code",
   "execution_count": 7,
   "id": "a458a65a",
   "metadata": {},
   "outputs": [
    {
     "data": {
      "text/plain": [
       "7.194794027984054"
      ]
     },
     "execution_count": 7,
     "metadata": {},
     "output_type": "execute_result"
    }
   ],
   "source": [
    "meanlower"
   ]
  },
  {
   "cell_type": "code",
   "execution_count": 8,
   "id": "1a3f556a",
   "metadata": {},
   "outputs": [
    {
     "data": {
      "text/plain": [
       "7.826184974356084"
      ]
     },
     "execution_count": 8,
     "metadata": {},
     "output_type": "execute_result"
    }
   ],
   "source": [
    "meanhigher"
   ]
  },
  {
   "cell_type": "code",
   "execution_count": 9,
   "id": "6ff78c5b",
   "metadata": {},
   "outputs": [],
   "source": [
    "lowerrors = [abs(lowhappy-meanlower) for lowhappy in low_social_happiness]\n",
    "higherrors = [abs(highhappy-meanhigher) for highhappy in high_social_happiness]\n",
    "total_error = sum(lowerrors) + sum(higherrors)"
   ]
  },
  {
   "cell_type": "raw",
   "id": "158babe9",
   "metadata": {},
   "source": [
    "print(total_error)"
   ]
  },
  {
   "cell_type": "markdown",
   "id": "27ba0051",
   "metadata": {},
   "source": [
    "## Get Split Point"
   ]
  },
  {
   "cell_type": "code",
   "execution_count": 15,
   "id": "6874e64b",
   "metadata": {},
   "outputs": [],
   "source": [
    "def get_splitpoint(allvalues, predictedvalues):\n",
    "    lowest_error = float(\"inf\")\n",
    "    best_split = None\n",
    "    best_lowermean = np.mean(predictedvalues)\n",
    "    best_highermean = np.mean(predictedvalues)\n",
    "    for pctl in range(0,100):\n",
    "        split_candidate = np.percentile(allvalues, pctl)\n",
    "        loweroutcomes = [outcome for value, outcome in zip(allvalues, predictedvalues) if \\\n",
    "                        value <= split_candidate]\n",
    "        higheroutcomes = [outcome for value, outcome in zip(allvalues, predictedvalues) if \\\n",
    "                        value > split_candidate]\n",
    "        if np.min([len(loweroutcomes),len(higheroutcomes)]) > 0:\n",
    "            meanlower = np.mean(loweroutcomes)\n",
    "            meanhigher = np.mean(higheroutcomes)\n",
    "            lowererrors = [abs(outcome-meanlower) for outcome in loweroutcomes]\n",
    "            highererrors = [abs(outcome-meanhigher) for outcome in higheroutcomes]\n",
    "            total_error = sum(lowererrors) + sum(highererrors)\n",
    "            if total_error < lowest_error:\n",
    "                best_split = split_candidate\n",
    "                lowest_error = total_error\n",
    "                best_lowermean = meanlower\n",
    "                best_highermean = meanhigher\n",
    "    return(best_split, lowest_error, best_lowermean, best_highermean)"
   ]
  },
  {
   "cell_type": "code",
   "execution_count": 16,
   "id": "1a89d368",
   "metadata": {},
   "outputs": [
    {
     "name": "stdout",
     "output_type": "stream",
     "text": [
      "(1.0, 60860.029867951016, 6.839403436723225, 7.620055170794695)\n"
     ]
    }
   ],
   "source": [
    "allvalues = list(ess.loc[:,\"hhmmb\"])\n",
    "predictedvalues = list(ess.loc[:,\"happy\"])\n",
    "print(get_splitpoint(allvalues,predictedvalues))"
   ]
  },
  {
   "cell_type": "markdown",
   "id": "0e126cc3",
   "metadata": {},
   "source": [
    "## Choosing the splitting variable"
   ]
  },
  {
   "cell_type": "code",
   "execution_count": 17,
   "id": "7bd2f73c",
   "metadata": {},
   "outputs": [],
   "source": [
    "def getsplit(data, variables, outcome_variable):\n",
    "    best_var = ''\n",
    "    lowest_error = float('inf')\n",
    "    best_split = None\n",
    "    predictedvalues = list(data.loc[:,outcome_variable])\n",
    "    best_lowerman = -1\n",
    "    best_higherman = -1\n",
    "    for var in variables:\n",
    "        allvalues = list(data.loc[:,var])\n",
    "        splitted = get_splitpoint(allvalues, predictedvalues)\n",
    "        if(splitted[1] < lowest_error):\n",
    "            best_split = splitted[0]\n",
    "            lowest_error = splitted[1]\n",
    "            best_var = var\n",
    "            best_lowermean = splitted[2]\n",
    "            best_highermean = splitted[3]\n",
    "    generated_tree = [[best_var, float('-inf'), best_split, best_lowermean],\\\n",
    "                      [best_var, best_split, float('inf'), best_highermean]]\n",
    "    return(generated_tree)"
   ]
  },
  {
   "cell_type": "code",
   "execution_count": 18,
   "id": "6b3a0eee",
   "metadata": {},
   "outputs": [
    {
     "name": "stdout",
     "output_type": "stream",
     "text": [
      "[['netusoft', -inf, 4.0, 7.041597337770383], ['netusoft', 4.0, inf, 7.73042471042471]]\n"
     ]
    }
   ],
   "source": [
    "variables = [\"rlgdgr\",\"hhmmb\",\"netusoft\",\"agea\",\"eduyrs\"]\n",
    "outcome_variable = \"happy\"\n",
    "print(getsplit(ess,variables,outcome_variable))"
   ]
  },
  {
   "cell_type": "markdown",
   "id": "65d67260",
   "metadata": {},
   "source": [
    "## Adding depth"
   ]
  },
  {
   "cell_type": "code",
   "execution_count": 23,
   "id": "cfccbb60",
   "metadata": {},
   "outputs": [],
   "source": [
    "maxdepth=3\n",
    "\n",
    "def getsplit(depth, data, variables, outcome_variable):\n",
    "    best_var = ''\n",
    "    lowest_error = float('inf')\n",
    "    best_split = None\n",
    "    predictedvalues = list(data.loc[:,outcome_variable])\n",
    "    best_lowerman = -1\n",
    "    best_higherman = -1\n",
    "    for var in variables:\n",
    "        allvalues = list(data.loc[:,var])\n",
    "        splitted = get_splitpoint(allvalues, predictedvalues)\n",
    "        if(splitted[1] < lowest_error):\n",
    "            best_split = splitted[0]\n",
    "            lowest_error = splitted[1]\n",
    "            best_var = var\n",
    "            best_lowermean = splitted[2]\n",
    "            best_highermean = splitted[3]\n",
    "    generated_tree = [[best_var, float('-inf'), best_split, best_lowermean],\\\n",
    "                      [best_var, best_split, float('inf'), best_highermean]]\n",
    "    \n",
    "    if depth<maxdepth:\n",
    "        splitdata1=data.loc[data[best_var] <= best_split,:]\n",
    "        splitdata2=data.loc[data[best_var] > best_split,:]\n",
    "        if len(splitdata1.index)>10 and len(splitdata2.index)>10:\n",
    "            generated_tree[0][3] = getsplit(depth+1, splitdata1, variables, outcome_variable)\n",
    "            generated_tree[1][3] = getsplit(depth+1, splitdata2, variables, outcome_variable)\n",
    "        else:    \n",
    "            depth = maxdepth+1\n",
    "            generated_tree[0][3] = best_lowermean\n",
    "            generated_tree[1][3] = best_highermean\n",
    "    else:\n",
    "        generated_tree[0][3] = best_lowermean\n",
    "        generated_tree[1][3] = best_highermean\n",
    "    \n",
    "    return(generated_tree)"
   ]
  },
  {
   "cell_type": "code",
   "execution_count": 24,
   "id": "f8fd5520",
   "metadata": {},
   "outputs": [
    {
     "name": "stdout",
     "output_type": "stream",
     "text": [
      "[['netusoft', -inf, 4.0, [['hhmmb', -inf, 4.0, [['agea', -inf, 15.0, [['eduyrs', -inf, 7.08, 7.0], ['eduyrs', 7.08, inf, 8.115384615384615]]], ['agea', 15.0, inf, [['agea', -inf, 16.0, 8.523809523809524], ['agea', 16.0, inf, 6.995696015740285]]]]], ['hhmmb', 4.0, inf, [['eduyrs', -inf, 11.0, [['rlgdgr', -inf, 8.0, 7.0275], ['rlgdgr', 8.0, inf, 8.058823529411764]]], ['eduyrs', 11.0, inf, [['rlgdgr', -inf, 9.0, 7.7894736842105265], ['rlgdgr', 9.0, inf, 9.009708737864077]]]]]]], ['netusoft', 4.0, inf, [['hhmmb', -inf, 1.0, [['agea', -inf, 66.0, [['eduyrs', -inf, 16.0, 7.037735849056604], ['eduyrs', 16.0, inf, 7.3924949290060855]]], ['agea', 66.0, inf, [['rlgdgr', -inf, 6.0, 7.458333333333333], ['rlgdgr', 6.0, inf, 7.9393939393939394]]]]], ['hhmmb', 1.0, inf, [['rlgdgr', -inf, 5.0, [['eduyrs', -inf, 16.0, 7.689139633286318], ['eduyrs', 16.0, inf, 7.9211567732115675]]], ['rlgdgr', 5.0, inf, [['eduyrs', -inf, 8.0, 7.759103641456583], ['eduyrs', 8.0, inf, 7.998256905336551]]]]]]]]\n"
     ]
    }
   ],
   "source": [
    "variables = [\"rlgdgr\",\"hhmmb\",\"netusoft\",\"agea\",\"eduyrs\"]\n",
    "outcome_variable = \"happy\"\n",
    "max_depth = 2\n",
    "print(getsplit(0,ess,variables,outcome_variable))"
   ]
  },
  {
   "cell_type": "markdown",
   "id": "5c14f679",
   "metadata": {},
   "source": [
    "## Evaluating decision tree"
   ]
  },
  {
   "cell_type": "code",
   "execution_count": 25,
   "id": "0b01064b",
   "metadata": {},
   "outputs": [],
   "source": [
    "def get_prediction(observation, tree):\n",
    "    j=0\n",
    "    keepgoing = True\n",
    "    prediction= -1\n",
    "    while(keepgoing):\n",
    "        j = j+1\n",
    "        variable_tocheck = tree[0][0]\n",
    "        bound1 = tree[0][1]\n",
    "        bound2 = tree[0][2]\n",
    "        bound3 = tree[1][2]\n",
    "        if observation.loc[variable_tocheck]<bound1:\n",
    "            tree = tree[0][3]\n",
    "        else:\n",
    "            tree = tree[1][3]\n",
    "        if isinstance(tree,float):\n",
    "            keepgoing=False\n",
    "            prediction=tree\n",
    "    return(prediction)"
   ]
  },
  {
   "cell_type": "code",
   "execution_count": 26,
   "id": "1c90e8a5",
   "metadata": {},
   "outputs": [
    {
     "name": "stdout",
     "output_type": "stream",
     "text": [
      "[7.999194457870146, 7.999194457870146, 7.999194457870146, 7.999194457870146, 7.999194457870146, 7.999194457870146, 7.999194457870146, 7.999194457870146, 7.999194457870146, 7.999194457870146, 7.999194457870146, 7.999194457870146, 7.999194457870146, 7.999194457870146, 7.999194457870146, 7.999194457870146, 7.999194457870146, 7.999194457870146, 7.999194457870146, 7.999194457870146, 7.999194457870146, 7.999194457870146, 7.999194457870146, 7.999194457870146, 7.999194457870146, 7.999194457870146, 7.999194457870146, 7.999194457870146, 7.999194457870146, 7.999194457870146]\n"
     ]
    }
   ],
   "source": [
    "predictions=[]\n",
    "outcome_variable=\"happy\"\n",
    "maxdepth=4\n",
    "thetree=getsplit(0,ess,variables,outcome_variable)\n",
    "for k in range(0,30):\n",
    "    observation=ess.loc[k,:]\n",
    "    predictions.append(get_prediction(observation,thetree))\n",
    "print(predictions)"
   ]
  },
  {
   "cell_type": "code",
   "execution_count": 28,
   "id": "c84c683e",
   "metadata": {},
   "outputs": [
    {
     "name": "stdout",
     "output_type": "stream",
     "text": [
      "1.34966377256382\n"
     ]
    }
   ],
   "source": [
    "predictions=[]\n",
    "\n",
    "for k in range(0,len(ess.index)):\n",
    "    observation=ess.loc[k,:]\n",
    "    predictions.append(get_prediction(observation,thetree))\n",
    "ess.loc[:,'predicted'] = predictions    \n",
    "errors = abs(ess.loc[:,'predicted'] - ess.loc[:,'happy'])\n",
    "\n",
    "print(np.mean(errors))"
   ]
  },
  {
   "cell_type": "code",
   "execution_count": null,
   "id": "cedd506e",
   "metadata": {},
   "outputs": [],
   "source": []
  }
 ],
 "metadata": {
  "kernelspec": {
   "display_name": "Python 3 (ipykernel)",
   "language": "python",
   "name": "python3"
  },
  "language_info": {
   "codemirror_mode": {
    "name": "ipython",
    "version": 3
   },
   "file_extension": ".py",
   "mimetype": "text/x-python",
   "name": "python",
   "nbconvert_exporter": "python",
   "pygments_lexer": "ipython3",
   "version": "3.11.7"
  }
 },
 "nbformat": 4,
 "nbformat_minor": 5
}
