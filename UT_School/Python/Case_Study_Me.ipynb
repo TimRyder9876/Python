{
 "cells": [
  {
   "cell_type": "code",
   "execution_count": 66,
   "id": "5acc0a4b",
   "metadata": {},
   "outputs": [],
   "source": [
    "# installing the library for deploying ML models\n",
    "#!pip install gradio==3.50"
   ]
  },
  {
   "cell_type": "code",
   "execution_count": 2,
   "id": "81debed9",
   "metadata": {},
   "outputs": [],
   "source": [
    "import pandas as pd\n",
    "import numpy as np\n",
    "\n",
    "import matplotlib.pyplot as plt\n",
    "import seaborn as sns\n",
    "pd.set_option(\"display.max_columns\", None)\n",
    "pd.set_option(\"display.max_rows\", 200)\n",
    "pd.set_option(\"display.float_format\", lambda x: \"%.2f\" % x)\n",
    "\n",
    "from sklearn.model_selection import train_test_split\n",
    "from sklearn.tree import DecisionTreeClassifier\n",
    "from sklearn.model_selection import GridSearchCV\n",
    "\n",
    "from sklearn.metrics import (\n",
    "    f1_score,\n",
    "    accuracy_score,\n",
    "    recall_score,\n",
    "    precision_score,\n",
    "    confusion_matrix,\n",
    "    roc_auc_score,\n",
    "    ConfusionMatrixDisplay,\n",
    "    make_scorer)\n",
    "\n",
    "# libraries to deploy the ML model\n",
    "import os\n",
    "import joblib\n",
    "import gradio as gr\n",
    "\n",
    "# To suppress warnings\n",
    "import warnings\n",
    "\n",
    "warnings.filterwarnings(\"ignore\")"
   ]
  },
  {
   "cell_type": "markdown",
   "id": "f508d729",
   "metadata": {},
   "source": [
    "## Loading the dataset"
   ]
  },
  {
   "cell_type": "code",
   "execution_count": 3,
   "id": "0e326c32",
   "metadata": {},
   "outputs": [],
   "source": [
    "hotel = pd.read_csv(\"INNHotelsGroup.csv\")"
   ]
  },
  {
   "cell_type": "code",
   "execution_count": 4,
   "id": "9572f38b",
   "metadata": {},
   "outputs": [
    {
     "data": {
      "text/html": [
       "<div>\n",
       "<style scoped>\n",
       "    .dataframe tbody tr th:only-of-type {\n",
       "        vertical-align: middle;\n",
       "    }\n",
       "\n",
       "    .dataframe tbody tr th {\n",
       "        vertical-align: top;\n",
       "    }\n",
       "\n",
       "    .dataframe thead th {\n",
       "        text-align: right;\n",
       "    }\n",
       "</style>\n",
       "<table border=\"1\" class=\"dataframe\">\n",
       "  <thead>\n",
       "    <tr style=\"text-align: right;\">\n",
       "      <th></th>\n",
       "      <th>lead_time</th>\n",
       "      <th>market_segment_type</th>\n",
       "      <th>no_of_special_requests</th>\n",
       "      <th>avg_price_per_room</th>\n",
       "      <th>no_of_adults</th>\n",
       "      <th>no_of_weekend_nights</th>\n",
       "      <th>arrival_date</th>\n",
       "      <th>required_car_parking_space</th>\n",
       "      <th>no_of_week_nights</th>\n",
       "      <th>booking_status</th>\n",
       "    </tr>\n",
       "  </thead>\n",
       "  <tbody>\n",
       "    <tr>\n",
       "      <th>18212</th>\n",
       "      <td>103</td>\n",
       "      <td>Offline</td>\n",
       "      <td>0</td>\n",
       "      <td>115.00</td>\n",
       "      <td>1</td>\n",
       "      <td>0</td>\n",
       "      <td>2018-04-19</td>\n",
       "      <td>0</td>\n",
       "      <td>2</td>\n",
       "      <td>Canceled</td>\n",
       "    </tr>\n",
       "    <tr>\n",
       "      <th>3267</th>\n",
       "      <td>86</td>\n",
       "      <td>Online</td>\n",
       "      <td>2</td>\n",
       "      <td>90.00</td>\n",
       "      <td>2</td>\n",
       "      <td>1</td>\n",
       "      <td>2018-11-04</td>\n",
       "      <td>0</td>\n",
       "      <td>2</td>\n",
       "      <td>Not_Canceled</td>\n",
       "    </tr>\n",
       "    <tr>\n",
       "      <th>28472</th>\n",
       "      <td>20</td>\n",
       "      <td>Online</td>\n",
       "      <td>1</td>\n",
       "      <td>92.67</td>\n",
       "      <td>2</td>\n",
       "      <td>1</td>\n",
       "      <td>2018-12-09</td>\n",
       "      <td>0</td>\n",
       "      <td>2</td>\n",
       "      <td>Not_Canceled</td>\n",
       "    </tr>\n",
       "    <tr>\n",
       "      <th>34178</th>\n",
       "      <td>22</td>\n",
       "      <td>Online</td>\n",
       "      <td>1</td>\n",
       "      <td>126.04</td>\n",
       "      <td>2</td>\n",
       "      <td>4</td>\n",
       "      <td>2018-12-28</td>\n",
       "      <td>0</td>\n",
       "      <td>10</td>\n",
       "      <td>Not_Canceled</td>\n",
       "    </tr>\n",
       "    <tr>\n",
       "      <th>35404</th>\n",
       "      <td>109</td>\n",
       "      <td>Online</td>\n",
       "      <td>4</td>\n",
       "      <td>105.21</td>\n",
       "      <td>2</td>\n",
       "      <td>2</td>\n",
       "      <td>2018-07-06</td>\n",
       "      <td>0</td>\n",
       "      <td>4</td>\n",
       "      <td>Not_Canceled</td>\n",
       "    </tr>\n",
       "    <tr>\n",
       "      <th>31551</th>\n",
       "      <td>30</td>\n",
       "      <td>Offline</td>\n",
       "      <td>0</td>\n",
       "      <td>127.15</td>\n",
       "      <td>1</td>\n",
       "      <td>0</td>\n",
       "      <td>2018-10-28</td>\n",
       "      <td>0</td>\n",
       "      <td>1</td>\n",
       "      <td>Not_Canceled</td>\n",
       "    </tr>\n",
       "    <tr>\n",
       "      <th>30927</th>\n",
       "      <td>192</td>\n",
       "      <td>Offline</td>\n",
       "      <td>0</td>\n",
       "      <td>100.00</td>\n",
       "      <td>2</td>\n",
       "      <td>0</td>\n",
       "      <td>2018-08-25</td>\n",
       "      <td>0</td>\n",
       "      <td>3</td>\n",
       "      <td>Not_Canceled</td>\n",
       "    </tr>\n",
       "    <tr>\n",
       "      <th>30473</th>\n",
       "      <td>278</td>\n",
       "      <td>Online</td>\n",
       "      <td>0</td>\n",
       "      <td>103.95</td>\n",
       "      <td>2</td>\n",
       "      <td>2</td>\n",
       "      <td>2018-07-16</td>\n",
       "      <td>1</td>\n",
       "      <td>1</td>\n",
       "      <td>Canceled</td>\n",
       "    </tr>\n",
       "    <tr>\n",
       "      <th>27445</th>\n",
       "      <td>0</td>\n",
       "      <td>Online</td>\n",
       "      <td>0</td>\n",
       "      <td>85.93</td>\n",
       "      <td>1</td>\n",
       "      <td>0</td>\n",
       "      <td>2018-05-12</td>\n",
       "      <td>0</td>\n",
       "      <td>1</td>\n",
       "      <td>Not_Canceled</td>\n",
       "    </tr>\n",
       "    <tr>\n",
       "      <th>33154</th>\n",
       "      <td>37</td>\n",
       "      <td>Online</td>\n",
       "      <td>1</td>\n",
       "      <td>92.31</td>\n",
       "      <td>1</td>\n",
       "      <td>4</td>\n",
       "      <td>2018-12-15</td>\n",
       "      <td>0</td>\n",
       "      <td>9</td>\n",
       "      <td>Canceled</td>\n",
       "    </tr>\n",
       "  </tbody>\n",
       "</table>\n",
       "</div>"
      ],
      "text/plain": [
       "       lead_time market_segment_type  no_of_special_requests  \\\n",
       "18212        103             Offline                       0   \n",
       "3267          86              Online                       2   \n",
       "28472         20              Online                       1   \n",
       "34178         22              Online                       1   \n",
       "35404        109              Online                       4   \n",
       "31551         30             Offline                       0   \n",
       "30927        192             Offline                       0   \n",
       "30473        278              Online                       0   \n",
       "27445          0              Online                       0   \n",
       "33154         37              Online                       1   \n",
       "\n",
       "       avg_price_per_room  no_of_adults  no_of_weekend_nights arrival_date  \\\n",
       "18212              115.00             1                     0   2018-04-19   \n",
       "3267                90.00             2                     1   2018-11-04   \n",
       "28472               92.67             2                     1   2018-12-09   \n",
       "34178              126.04             2                     4   2018-12-28   \n",
       "35404              105.21             2                     2   2018-07-06   \n",
       "31551              127.15             1                     0   2018-10-28   \n",
       "30927              100.00             2                     0   2018-08-25   \n",
       "30473              103.95             2                     2   2018-07-16   \n",
       "27445               85.93             1                     0   2018-05-12   \n",
       "33154               92.31             1                     4   2018-12-15   \n",
       "\n",
       "       required_car_parking_space  no_of_week_nights booking_status  \n",
       "18212                           0                  2       Canceled  \n",
       "3267                            0                  2   Not_Canceled  \n",
       "28472                           0                  2   Not_Canceled  \n",
       "34178                           0                 10   Not_Canceled  \n",
       "35404                           0                  4   Not_Canceled  \n",
       "31551                           0                  1   Not_Canceled  \n",
       "30927                           0                  3   Not_Canceled  \n",
       "30473                           1                  1       Canceled  \n",
       "27445                           0                  1   Not_Canceled  \n",
       "33154                           0                  9       Canceled  "
      ]
     },
     "execution_count": 4,
     "metadata": {},
     "output_type": "execute_result"
    }
   ],
   "source": [
    "hotel.sample(10, random_state=10)"
   ]
  },
  {
   "cell_type": "markdown",
   "id": "9077fbe6",
   "metadata": {},
   "source": [
    "# **Exploratory Data Analysis**"
   ]
  },
  {
   "cell_type": "code",
   "execution_count": 5,
   "id": "b642be57",
   "metadata": {},
   "outputs": [],
   "source": [
    "data = hotel.copy()"
   ]
  },
  {
   "cell_type": "code",
   "execution_count": 6,
   "id": "93270934",
   "metadata": {},
   "outputs": [
    {
     "data": {
      "text/html": [
       "<div>\n",
       "<style scoped>\n",
       "    .dataframe tbody tr th:only-of-type {\n",
       "        vertical-align: middle;\n",
       "    }\n",
       "\n",
       "    .dataframe tbody tr th {\n",
       "        vertical-align: top;\n",
       "    }\n",
       "\n",
       "    .dataframe thead th {\n",
       "        text-align: right;\n",
       "    }\n",
       "</style>\n",
       "<table border=\"1\" class=\"dataframe\">\n",
       "  <thead>\n",
       "    <tr style=\"text-align: right;\">\n",
       "      <th></th>\n",
       "      <th>count</th>\n",
       "      <th>mean</th>\n",
       "      <th>std</th>\n",
       "      <th>min</th>\n",
       "      <th>25%</th>\n",
       "      <th>50%</th>\n",
       "      <th>75%</th>\n",
       "      <th>max</th>\n",
       "    </tr>\n",
       "  </thead>\n",
       "  <tbody>\n",
       "    <tr>\n",
       "      <th>lead_time</th>\n",
       "      <td>36275.00</td>\n",
       "      <td>85.23</td>\n",
       "      <td>85.93</td>\n",
       "      <td>0.00</td>\n",
       "      <td>17.00</td>\n",
       "      <td>57.00</td>\n",
       "      <td>126.00</td>\n",
       "      <td>443.00</td>\n",
       "    </tr>\n",
       "    <tr>\n",
       "      <th>no_of_special_requests</th>\n",
       "      <td>36275.00</td>\n",
       "      <td>0.62</td>\n",
       "      <td>0.79</td>\n",
       "      <td>0.00</td>\n",
       "      <td>0.00</td>\n",
       "      <td>0.00</td>\n",
       "      <td>1.00</td>\n",
       "      <td>5.00</td>\n",
       "    </tr>\n",
       "    <tr>\n",
       "      <th>avg_price_per_room</th>\n",
       "      <td>36275.00</td>\n",
       "      <td>103.42</td>\n",
       "      <td>35.09</td>\n",
       "      <td>0.00</td>\n",
       "      <td>80.30</td>\n",
       "      <td>99.45</td>\n",
       "      <td>120.00</td>\n",
       "      <td>540.00</td>\n",
       "    </tr>\n",
       "    <tr>\n",
       "      <th>no_of_adults</th>\n",
       "      <td>36275.00</td>\n",
       "      <td>1.84</td>\n",
       "      <td>0.52</td>\n",
       "      <td>0.00</td>\n",
       "      <td>2.00</td>\n",
       "      <td>2.00</td>\n",
       "      <td>2.00</td>\n",
       "      <td>4.00</td>\n",
       "    </tr>\n",
       "    <tr>\n",
       "      <th>no_of_weekend_nights</th>\n",
       "      <td>36275.00</td>\n",
       "      <td>0.81</td>\n",
       "      <td>0.87</td>\n",
       "      <td>0.00</td>\n",
       "      <td>0.00</td>\n",
       "      <td>1.00</td>\n",
       "      <td>2.00</td>\n",
       "      <td>7.00</td>\n",
       "    </tr>\n",
       "    <tr>\n",
       "      <th>required_car_parking_space</th>\n",
       "      <td>36275.00</td>\n",
       "      <td>0.03</td>\n",
       "      <td>0.17</td>\n",
       "      <td>0.00</td>\n",
       "      <td>0.00</td>\n",
       "      <td>0.00</td>\n",
       "      <td>0.00</td>\n",
       "      <td>1.00</td>\n",
       "    </tr>\n",
       "    <tr>\n",
       "      <th>no_of_week_nights</th>\n",
       "      <td>36275.00</td>\n",
       "      <td>2.20</td>\n",
       "      <td>1.41</td>\n",
       "      <td>0.00</td>\n",
       "      <td>1.00</td>\n",
       "      <td>2.00</td>\n",
       "      <td>3.00</td>\n",
       "      <td>17.00</td>\n",
       "    </tr>\n",
       "  </tbody>\n",
       "</table>\n",
       "</div>"
      ],
      "text/plain": [
       "                              count   mean   std  min   25%   50%    75%  \\\n",
       "lead_time                  36275.00  85.23 85.93 0.00 17.00 57.00 126.00   \n",
       "no_of_special_requests     36275.00   0.62  0.79 0.00  0.00  0.00   1.00   \n",
       "avg_price_per_room         36275.00 103.42 35.09 0.00 80.30 99.45 120.00   \n",
       "no_of_adults               36275.00   1.84  0.52 0.00  2.00  2.00   2.00   \n",
       "no_of_weekend_nights       36275.00   0.81  0.87 0.00  0.00  1.00   2.00   \n",
       "required_car_parking_space 36275.00   0.03  0.17 0.00  0.00  0.00   0.00   \n",
       "no_of_week_nights          36275.00   2.20  1.41 0.00  1.00  2.00   3.00   \n",
       "\n",
       "                              max  \n",
       "lead_time                  443.00  \n",
       "no_of_special_requests       5.00  \n",
       "avg_price_per_room         540.00  \n",
       "no_of_adults                 4.00  \n",
       "no_of_weekend_nights         7.00  \n",
       "required_car_parking_space   1.00  \n",
       "no_of_week_nights           17.00  "
      ]
     },
     "execution_count": 6,
     "metadata": {},
     "output_type": "execute_result"
    }
   ],
   "source": [
    "data.describe().T"
   ]
  },
  {
   "cell_type": "code",
   "execution_count": 7,
   "id": "05be479d",
   "metadata": {},
   "outputs": [],
   "source": [
    "# defining a function to create a bar graph with percentage values\n",
    "\n",
    "def labeled_barplot(data, feature, perc=False, n=None):\n",
    "    \"\"\"\n",
    "    Barplot with percentage at the top\n",
    "\n",
    "    data: dataframe\n",
    "    feature: dataframe column\n",
    "    perc: whether to display percentages instead of count (default is False)\n",
    "    n: displays the top n category levels (default is None, i.e., display all levels)\n",
    "    \"\"\"\n",
    "\n",
    "    total = len(data[feature])  # length of the column\n",
    "    count = data[feature].nunique()\n",
    "    if n is None:\n",
    "        plt.figure(figsize=(count + 2, 6))\n",
    "    else:\n",
    "        plt.figure(figsize=(n + 2, 6))\n",
    "\n",
    "    ax = sns.countplot(\n",
    "        data=data,\n",
    "        x=feature,\n",
    "        palette=\"Paired\",\n",
    "        order=data[feature].value_counts().index[:n],\n",
    "    )\n",
    "\n",
    "    for p in ax.patches:\n",
    "        if perc == True:\n",
    "            label = \"{:.1f}%\".format(\n",
    "                100 * p.get_height() / total\n",
    "            )  # percentage of each class of the category\n",
    "        else:\n",
    "            label = p.get_height()  # count of each level of the category\n",
    "\n",
    "        x = p.get_x() + p.get_width() / 2  # width of the plot\n",
    "        y = p.get_height()  # height of the plot\n",
    "\n",
    "        ax.annotate(\n",
    "            label,\n",
    "            (x, y),\n",
    "            ha=\"center\",\n",
    "            va=\"center\",\n",
    "            size=15,\n",
    "            xytext=(0, 5),\n",
    "            textcoords=\"offset points\",\n",
    "        )  # annotate the percentage\n",
    "\n",
    "    # increase the size of x-axis and y-axis scales\n",
    "    ax.tick_params(axis='x', labelsize=15)\n",
    "    ax.tick_params(axis='y', labelsize=15)\n",
    "\n",
    "    # setting axis labels\n",
    "    ax.set_xlabel(feature.replace('_', ' ').title(), fontsize=15)\n",
    "    ax.set_ylabel('')\n",
    "\n",
    "    # show the plot\n",
    "    plt.show()"
   ]
  },
  {
   "cell_type": "code",
   "execution_count": 8,
   "id": "50590e0d",
   "metadata": {},
   "outputs": [],
   "source": [
    "def stacked_barplot(data, predictor, target):\n",
    "    \"\"\"\n",
    "    Print the category counts and plot a stacked bar chart\n",
    "\n",
    "    data: dataframe\n",
    "    predictor: independent variable\n",
    "    target: target variable\n",
    "    \"\"\"\n",
    "    count = data[predictor].nunique()\n",
    "    sorter = data[target].value_counts().index[-1]\n",
    "    tab1 = pd.crosstab(data[predictor], data[target], margins=True)\n",
    "    print(tab1)\n",
    "    print(\"-\" * 120)\n",
    "    tab = pd.crosstab(data[predictor], data[target], normalize=\"index\")\n",
    "    tab.plot(kind=\"bar\", stacked=True, figsize=(count + 5, 5))\n",
    "    plt.legend(loc=\"upper left\", fontsize=12, bbox_to_anchor=(1, 1))\n",
    "\n",
    "    # setting the formatting for x-axis\n",
    "    plt.xticks(fontsize=15, rotation=0)\n",
    "    plt.xlabel(predictor.replace('_', ' ').title(), fontsize=15)\n",
    "    # setting the formatting for y-axis\n",
    "    plt.yticks(fontsize=15)\n",
    "    # show the plot\n",
    "    plt.show()"
   ]
  },
  {
   "cell_type": "code",
   "execution_count": 9,
   "id": "98a6dc12",
   "metadata": {},
   "outputs": [
    {
     "data": {
      "image/png": "[encoded data removed]",
      "text/plain": [
       "<Figure size 400x600 with 1 Axes>"
      ]
     },
     "metadata": {},
     "output_type": "display_data"
    }
   ],
   "source": [
    "# visualizing the number of cancelled bookings\n",
    "labeled_barplot(data, \"booking_status\", perc=True)"
   ]
  },
  {
   "cell_type": "code",
   "execution_count": 10,
   "id": "d0a40892",
   "metadata": {},
   "outputs": [
    {
     "data": {
      "image/png": "[encoded data removed]",
      "text/plain": [
       "<Figure size 800x500 with 1 Axes>"
      ]
     },
     "metadata": {},
     "output_type": "display_data"
    }
   ],
   "source": [
    "# visualizing the relationship between lead time and booking cancellation\n",
    "plt.figure(figsize=(8,5))\n",
    "sns.boxplot(data=data, x=\"booking_status\", y=\"lead_time\")\n",
    "plt.xticks(fontsize=15)\n",
    "plt.yticks(fontsize=15)\n",
    "plt.xlabel('')\n",
    "plt.ylabel('Lead Time', fontsize=15)\n",
    "plt.show()"
   ]
  },
  {
   "cell_type": "code",
   "execution_count": 11,
   "id": "4991cc2c",
   "metadata": {},
   "outputs": [
    {
     "data": {
      "image/png": "[encoded data removed]",
      "text/plain": [
       "<Figure size 800x500 with 1 Axes>"
      ]
     },
     "metadata": {},
     "output_type": "display_data"
    }
   ],
   "source": [
    "# visualizing the relationship between avg room price and booking cancella\n",
    "plt.figure(figsize=(8, 5))\n",
    "sns.boxplot(data=data, x=\"booking_status\", y=\"avg_price_per_room\")\n",
    "plt.xticks(fontsize=15)\n",
    "plt.yticks(fontsize=15)\n",
    "plt.xlabel('')\n",
    "plt.ylabel('Avg Price per Room', fontsize=15);"
   ]
  },
  {
   "cell_type": "code",
   "execution_count": 12,
   "id": "1a879036",
   "metadata": {},
   "outputs": [
    {
     "name": "stdout",
     "output_type": "stream",
     "text": [
      "booking_status       Canceled  Not_Canceled    All\n",
      "market_segment_type                               \n",
      "Offline                  3153          7375  10528\n",
      "Online                   8732         17015  25747\n",
      "All                     11885         24390  36275\n",
      "------------------------------------------------------------------------------------------------------------------------\n"
     ]
    },
    {
     "data": {
      "image/png": "[encoded data removed]",
      "text/plain": [
       "<Figure size 700x500 with 1 Axes>"
      ]
     },
     "metadata": {},
     "output_type": "display_data"
    }
   ],
   "source": [
    "stacked_barplot(data, \"market_segment_type\", \"booking_status\")"
   ]
  },
  {
   "cell_type": "code",
   "execution_count": 13,
   "id": "99552546",
   "metadata": {},
   "outputs": [],
   "source": [
    "# converting the 'arrival_date' column to datetime type\n",
    "data[\"arrival_date\"] = pd.to_datetime(data[\"arrival_date\"])\n",
    "\n",
    "# extracting month from 'arrival_date'\n",
    "data[\"arrival_month\"] = data[\"arrival_date\"].dt.month"
   ]
  },
  {
   "cell_type": "code",
   "execution_count": 14,
   "id": "9c286354",
   "metadata": {},
   "outputs": [
    {
     "data": {
      "text/html": [
       "<div>\n",
       "<style scoped>\n",
       "    .dataframe tbody tr th:only-of-type {\n",
       "        vertical-align: middle;\n",
       "    }\n",
       "\n",
       "    .dataframe tbody tr th {\n",
       "        vertical-align: top;\n",
       "    }\n",
       "\n",
       "    .dataframe thead th {\n",
       "        text-align: right;\n",
       "    }\n",
       "</style>\n",
       "<table border=\"1\" class=\"dataframe\">\n",
       "  <thead>\n",
       "    <tr style=\"text-align: right;\">\n",
       "      <th></th>\n",
       "      <th>Month</th>\n",
       "      <th>Bookings</th>\n",
       "    </tr>\n",
       "  </thead>\n",
       "  <tbody>\n",
       "    <tr>\n",
       "      <th>0</th>\n",
       "      <td>1</td>\n",
       "      <td>1014</td>\n",
       "    </tr>\n",
       "    <tr>\n",
       "      <th>1</th>\n",
       "      <td>2</td>\n",
       "      <td>1704</td>\n",
       "    </tr>\n",
       "    <tr>\n",
       "      <th>2</th>\n",
       "      <td>3</td>\n",
       "      <td>2358</td>\n",
       "    </tr>\n",
       "    <tr>\n",
       "      <th>3</th>\n",
       "      <td>4</td>\n",
       "      <td>2736</td>\n",
       "    </tr>\n",
       "    <tr>\n",
       "      <th>4</th>\n",
       "      <td>5</td>\n",
       "      <td>2598</td>\n",
       "    </tr>\n",
       "    <tr>\n",
       "      <th>5</th>\n",
       "      <td>6</td>\n",
       "      <td>3203</td>\n",
       "    </tr>\n",
       "    <tr>\n",
       "      <th>6</th>\n",
       "      <td>7</td>\n",
       "      <td>2920</td>\n",
       "    </tr>\n",
       "    <tr>\n",
       "      <th>7</th>\n",
       "      <td>8</td>\n",
       "      <td>3813</td>\n",
       "    </tr>\n",
       "    <tr>\n",
       "      <th>8</th>\n",
       "      <td>9</td>\n",
       "      <td>4611</td>\n",
       "    </tr>\n",
       "    <tr>\n",
       "      <th>9</th>\n",
       "      <td>10</td>\n",
       "      <td>5317</td>\n",
       "    </tr>\n",
       "    <tr>\n",
       "      <th>10</th>\n",
       "      <td>11</td>\n",
       "      <td>2980</td>\n",
       "    </tr>\n",
       "    <tr>\n",
       "      <th>11</th>\n",
       "      <td>12</td>\n",
       "      <td>3021</td>\n",
       "    </tr>\n",
       "  </tbody>\n",
       "</table>\n",
       "</div>"
      ],
      "text/plain": [
       "    Month  Bookings\n",
       "0       1      1014\n",
       "1       2      1704\n",
       "2       3      2358\n",
       "3       4      2736\n",
       "4       5      2598\n",
       "5       6      3203\n",
       "6       7      2920\n",
       "7       8      3813\n",
       "8       9      4611\n",
       "9      10      5317\n",
       "10     11      2980\n",
       "11     12      3021"
      ]
     },
     "execution_count": 14,
     "metadata": {},
     "output_type": "execute_result"
    }
   ],
   "source": [
    "# grouping the data on arrival months and extracting the count of bookings\n",
    "monthly_data = data.groupby([\"arrival_month\"])[\"booking_status\"].count().to_frame().reset_index()\n",
    "monthly_data.columns = [\"Month\",\"Bookings\"]\n",
    "monthly_data"
   ]
  },
  {
   "cell_type": "code",
   "execution_count": 15,
   "id": "5b5710ad",
   "metadata": {},
   "outputs": [
    {
     "data": {
      "image/png": "[encoded data removed]",
      "text/plain": [
       "<Figure size 1000x500 with 1 Axes>"
      ]
     },
     "metadata": {},
     "output_type": "display_data"
    }
   ],
   "source": [
    "# visualizing the trend of number of bookings across months\n",
    "plt.figure(figsize=(10,5))\n",
    "sns.lineplot(data = monthly_data, x=\"Month\", y=\"Bookings\")\n",
    "plt.xticks(fontsize = 15)\n",
    "plt.yticks(fontsize = 15)\n",
    "plt.xlabel(\"\")\n",
    "plt.ylabel(\" # Bookings\", fontsize=15);"
   ]
  },
  {
   "cell_type": "code",
   "execution_count": 16,
   "id": "0d987f4d",
   "metadata": {},
   "outputs": [
    {
     "name": "stdout",
     "output_type": "stream",
     "text": [
      "booking_status  Canceled  Not_Canceled    All\n",
      "arrival_month                                \n",
      "1                     24           990   1014\n",
      "2                    430          1274   1704\n",
      "3                    700          1658   2358\n",
      "4                    995          1741   2736\n",
      "5                    948          1650   2598\n",
      "6                   1291          1912   3203\n",
      "7                   1314          1606   2920\n",
      "8                   1488          2325   3813\n",
      "9                   1538          3073   4611\n",
      "10                  1880          3437   5317\n",
      "11                   875          2105   2980\n",
      "12                   402          2619   3021\n",
      "All                11885         24390  36275\n",
      "------------------------------------------------------------------------------------------------------------------------\n"
     ]
    },
    {
     "data": {
      "image/png": "[encoded data removed]",
      "text/plain": [
       "<Figure size 1700x500 with 1 Axes>"
      ]
     },
     "metadata": {},
     "output_type": "display_data"
    }
   ],
   "source": [
    "##Let's check the percentage of bookings canceled in each month\n",
    "stacked_barplot(data, \"arrival_month\", \"booking_status\")"
   ]
  },
  {
   "cell_type": "markdown",
   "id": "03aa306c",
   "metadata": {},
   "source": [
    "## Data Preprocessing"
   ]
  },
  {
   "cell_type": "code",
   "execution_count": 17,
   "id": "b518d345",
   "metadata": {},
   "outputs": [],
   "source": [
    "data[\"booking_status\"] = data[\"booking_status\"].apply(\n",
    "        lambda x: 1 if x=='Canceled' else 0)"
   ]
  },
  {
   "cell_type": "code",
   "execution_count": 18,
   "id": "1a78d6a6",
   "metadata": {},
   "outputs": [],
   "source": [
    "X = data.drop([\"booking_status\",\"arrival_date\"], axis=1)\n",
    "y = data[\"booking_status\"]\n",
    "X = pd.get_dummies(X, drop_first=True)\n",
    "X_train, X_test, y_train, y_test = train_test_split(X, y, test_size=0.3, random_state=42)\n",
    "\n"
   ]
  },
  {
   "cell_type": "code",
   "execution_count": 19,
   "id": "1523dc41",
   "metadata": {},
   "outputs": [
    {
     "data": {
      "text/html": [
       "<div>\n",
       "<style scoped>\n",
       "    .dataframe tbody tr th:only-of-type {\n",
       "        vertical-align: middle;\n",
       "    }\n",
       "\n",
       "    .dataframe tbody tr th {\n",
       "        vertical-align: top;\n",
       "    }\n",
       "\n",
       "    .dataframe thead th {\n",
       "        text-align: right;\n",
       "    }\n",
       "</style>\n",
       "<table border=\"1\" class=\"dataframe\">\n",
       "  <thead>\n",
       "    <tr style=\"text-align: right;\">\n",
       "      <th></th>\n",
       "      <th>lead_time</th>\n",
       "      <th>no_of_special_requests</th>\n",
       "      <th>avg_price_per_room</th>\n",
       "      <th>no_of_adults</th>\n",
       "      <th>no_of_weekend_nights</th>\n",
       "      <th>required_car_parking_space</th>\n",
       "      <th>no_of_week_nights</th>\n",
       "      <th>arrival_month</th>\n",
       "      <th>market_segment_type_Online</th>\n",
       "    </tr>\n",
       "  </thead>\n",
       "  <tbody>\n",
       "    <tr>\n",
       "      <th>0</th>\n",
       "      <td>224</td>\n",
       "      <td>0</td>\n",
       "      <td>65.00</td>\n",
       "      <td>2</td>\n",
       "      <td>1</td>\n",
       "      <td>0</td>\n",
       "      <td>2</td>\n",
       "      <td>10</td>\n",
       "      <td>0</td>\n",
       "    </tr>\n",
       "    <tr>\n",
       "      <th>1</th>\n",
       "      <td>5</td>\n",
       "      <td>1</td>\n",
       "      <td>106.68</td>\n",
       "      <td>2</td>\n",
       "      <td>2</td>\n",
       "      <td>0</td>\n",
       "      <td>3</td>\n",
       "      <td>11</td>\n",
       "      <td>1</td>\n",
       "    </tr>\n",
       "    <tr>\n",
       "      <th>2</th>\n",
       "      <td>1</td>\n",
       "      <td>0</td>\n",
       "      <td>60.00</td>\n",
       "      <td>1</td>\n",
       "      <td>2</td>\n",
       "      <td>0</td>\n",
       "      <td>1</td>\n",
       "      <td>2</td>\n",
       "      <td>1</td>\n",
       "    </tr>\n",
       "    <tr>\n",
       "      <th>3</th>\n",
       "      <td>211</td>\n",
       "      <td>0</td>\n",
       "      <td>100.00</td>\n",
       "      <td>2</td>\n",
       "      <td>0</td>\n",
       "      <td>0</td>\n",
       "      <td>2</td>\n",
       "      <td>5</td>\n",
       "      <td>1</td>\n",
       "    </tr>\n",
       "    <tr>\n",
       "      <th>4</th>\n",
       "      <td>48</td>\n",
       "      <td>0</td>\n",
       "      <td>94.50</td>\n",
       "      <td>2</td>\n",
       "      <td>1</td>\n",
       "      <td>0</td>\n",
       "      <td>1</td>\n",
       "      <td>4</td>\n",
       "      <td>1</td>\n",
       "    </tr>\n",
       "  </tbody>\n",
       "</table>\n",
       "</div>"
      ],
      "text/plain": [
       "   lead_time  no_of_special_requests  avg_price_per_room  no_of_adults  \\\n",
       "0        224                       0               65.00             2   \n",
       "1          5                       1              106.68             2   \n",
       "2          1                       0               60.00             1   \n",
       "3        211                       0              100.00             2   \n",
       "4         48                       0               94.50             2   \n",
       "\n",
       "   no_of_weekend_nights  required_car_parking_space  no_of_week_nights  \\\n",
       "0                     1                           0                  2   \n",
       "1                     2                           0                  3   \n",
       "2                     2                           0                  1   \n",
       "3                     0                           0                  2   \n",
       "4                     1                           0                  1   \n",
       "\n",
       "   arrival_month  market_segment_type_Online  \n",
       "0             10                           0  \n",
       "1             11                           1  \n",
       "2              2                           1  \n",
       "3              5                           1  \n",
       "4              4                           1  "
      ]
     },
     "execution_count": 19,
     "metadata": {},
     "output_type": "execute_result"
    }
   ],
   "source": [
    "X.head()"
   ]
  },
  {
   "cell_type": "markdown",
   "id": "2c9e402e",
   "metadata": {},
   "source": [
    "## Model Training and Evaluation"
   ]
  },
  {
   "cell_type": "code",
   "execution_count": 20,
   "id": "285f4445",
   "metadata": {},
   "outputs": [
    {
     "data": {
      "text/html": [
       "<style>#sk-container-id-1 {color: black;background-color: white;}#sk-container-id-1 pre{padding: 0;}#sk-container-id-1 div.sk-toggleable {background-color: white;}#sk-container-id-1 label.sk-toggleable__label {cursor: pointer;display: block;width: 100%;margin-bottom: 0;padding: 0.3em;box-sizing: border-box;text-align: center;}#sk-container-id-1 label.sk-toggleable__label-arrow:before {content: \"▸\";float: left;margin-right: 0.25em;color: #696969;}#sk-container-id-1 label.sk-toggleable__label-arrow:hover:before {color: black;}#sk-container-id-1 div.sk-estimator:hover label.sk-toggleable__label-arrow:before {color: black;}#sk-container-id-1 div.sk-toggleable__content {max-height: 0;max-width: 0;overflow: hidden;text-align: left;background-color: #f0f8ff;}#sk-container-id-1 div.sk-toggleable__content pre {margin: 0.2em;color: black;border-radius: 0.25em;background-color: #f0f8ff;}#sk-container-id-1 input.sk-toggleable__control:checked~div.sk-toggleable__content {max-height: 200px;max-width: 100%;overflow: auto;}#sk-container-id-1 input.sk-toggleable__control:checked~label.sk-toggleable__label-arrow:before {content: \"▾\";}#sk-container-id-1 div.sk-estimator input.sk-toggleable__control:checked~label.sk-toggleable__label {background-color: #d4ebff;}#sk-container-id-1 div.sk-label input.sk-toggleable__control:checked~label.sk-toggleable__label {background-color: #d4ebff;}#sk-container-id-1 input.sk-hidden--visually {border: 0;clip: rect(1px 1px 1px 1px);clip: rect(1px, 1px, 1px, 1px);height: 1px;margin: -1px;overflow: hidden;padding: 0;position: absolute;width: 1px;}#sk-container-id-1 div.sk-estimator {font-family: monospace;background-color: #f0f8ff;border: 1px dotted black;border-radius: 0.25em;box-sizing: border-box;margin-bottom: 0.5em;}#sk-container-id-1 div.sk-estimator:hover {background-color: #d4ebff;}#sk-container-id-1 div.sk-parallel-item::after {content: \"\";width: 100%;border-bottom: 1px solid gray;flex-grow: 1;}#sk-container-id-1 div.sk-label:hover label.sk-toggleable__label {background-color: #d4ebff;}#sk-container-id-1 div.sk-serial::before {content: \"\";position: absolute;border-left: 1px solid gray;box-sizing: border-box;top: 0;bottom: 0;left: 50%;z-index: 0;}#sk-container-id-1 div.sk-serial {display: flex;flex-direction: column;align-items: center;background-color: white;padding-right: 0.2em;padding-left: 0.2em;position: relative;}#sk-container-id-1 div.sk-item {position: relative;z-index: 1;}#sk-container-id-1 div.sk-parallel {display: flex;align-items: stretch;justify-content: center;background-color: white;position: relative;}#sk-container-id-1 div.sk-item::before, #sk-container-id-1 div.sk-parallel-item::before {content: \"\";position: absolute;border-left: 1px solid gray;box-sizing: border-box;top: 0;bottom: 0;left: 50%;z-index: -1;}#sk-container-id-1 div.sk-parallel-item {display: flex;flex-direction: column;z-index: 1;position: relative;background-color: white;}#sk-container-id-1 div.sk-parallel-item:first-child::after {align-self: flex-end;width: 50%;}#sk-container-id-1 div.sk-parallel-item:last-child::after {align-self: flex-start;width: 50%;}#sk-container-id-1 div.sk-parallel-item:only-child::after {width: 0;}#sk-container-id-1 div.sk-dashed-wrapped {border: 1px dashed gray;margin: 0 0.4em 0.5em 0.4em;box-sizing: border-box;padding-bottom: 0.4em;background-color: white;}#sk-container-id-1 div.sk-label label {font-family: monospace;font-weight: bold;display: inline-block;line-height: 1.2em;}#sk-container-id-1 div.sk-label-container {text-align: center;}#sk-container-id-1 div.sk-container {/* jupyter's `normalize.less` sets `[hidden] { display: none; }` but bootstrap.min.css set `[hidden] { display: none !important; }` so we also need the `!important` here to be able to override the default hidden behavior on the sphinx rendered scikit-learn.org. See: https://github.com/scikit-learn/scikit-learn/issues/21755 */display: inline-block !important;position: relative;}#sk-container-id-1 div.sk-text-repr-fallback {display: none;}</style><div id=\"sk-container-id-1\" class=\"sk-top-container\"><div class=\"sk-text-repr-fallback\"><pre>DecisionTreeClassifier(random_state=1)</pre><b>In a Jupyter environment, please rerun this cell to show the HTML representation or trust the notebook. <br />On GitHub, the HTML representation is unable to render, please try loading this page with nbviewer.org.</b></div><div class=\"sk-container\" hidden><div class=\"sk-item\"><div class=\"sk-estimator sk-toggleable\"><input class=\"sk-toggleable__control sk-hidden--visually\" id=\"sk-estimator-id-1\" type=\"checkbox\" checked><label for=\"sk-estimator-id-1\" class=\"sk-toggleable__label sk-toggleable__label-arrow\">DecisionTreeClassifier</label><div class=\"sk-toggleable__content\"><pre>DecisionTreeClassifier(random_state=1)</pre></div></div></div></div></div>"
      ],
      "text/plain": [
       "DecisionTreeClassifier(random_state=1)"
      ]
     },
     "execution_count": 20,
     "metadata": {},
     "output_type": "execute_result"
    }
   ],
   "source": [
    "model = DecisionTreeClassifier(random_state=1)\n",
    "model.fit(X_train, y_train)"
   ]
  },
  {
   "cell_type": "code",
   "execution_count": 21,
   "id": "08dd2101",
   "metadata": {},
   "outputs": [],
   "source": [
    "def confusion_matrix_sklearn(model, predictors, target):\n",
    "    \"\"\"\n",
    "    To plot the confusion_matrix with percentages\n",
    "\n",
    "    model: classifier\n",
    "    predictors: independent variables\n",
    "    target: dependent variable\n",
    "    \"\"\"\n",
    "    y_pred = model.predict(predictors)\n",
    "    cm = confusion_matrix(target, y_pred)\n",
    "    labels = np.asarray(\n",
    "        [\n",
    "            [\"{0:0.0f}\".format(item) + \"\\n{0:.2%}\".format(item / cm.flatten().sum())]\n",
    "            for item in cm.flatten()\n",
    "        ]\n",
    "    ).reshape(2, 2)\n",
    "\n",
    "    plt.figure(figsize=(6, 4))\n",
    "    sns.heatmap(cm, annot=labels, fmt=\"\")\n",
    "    plt.ylabel(\"True label\")\n",
    "    plt.xlabel(\"Predicted label\")"
   ]
  },
  {
   "cell_type": "code",
   "execution_count": 22,
   "id": "3bf08a5c",
   "metadata": {},
   "outputs": [
    {
     "data": {
      "image/png": "[encoded data removed]",
      "text/plain": [
       "<Figure size 600x400 with 2 Axes>"
      ]
     },
     "metadata": {},
     "output_type": "display_data"
    }
   ],
   "source": [
    "# confusion matrix for train data\n",
    "confusion_matrix_sklearn(model, X_train, y_train)"
   ]
  },
  {
   "cell_type": "code",
   "execution_count": 23,
   "id": "15133cad",
   "metadata": {},
   "outputs": [
    {
     "name": "stdout",
     "output_type": "stream",
     "text": [
      "Model score on train date: 98.96\n"
     ]
    }
   ],
   "source": [
    "model_train_predictions = model.predict(X_train)\n",
    "model_train_score = f1_score(y_train, model_train_predictions)\n",
    "\n",
    "print(\"Model score on train date:\", np.round(100*model_train_score, 2))"
   ]
  },
  {
   "cell_type": "code",
   "execution_count": 24,
   "id": "bbb1c52c",
   "metadata": {},
   "outputs": [
    {
     "data": {
      "image/png": "[encoded data removed]",
      "text/plain": [
       "<Figure size 600x400 with 2 Axes>"
      ]
     },
     "metadata": {},
     "output_type": "display_data"
    }
   ],
   "source": [
    "# confusion matrix for test data\n",
    "confusion_matrix_sklearn(model, X_test, y_test)"
   ]
  },
  {
   "cell_type": "code",
   "execution_count": 25,
   "id": "6ff686ab",
   "metadata": {},
   "outputs": [
    {
     "name": "stdout",
     "output_type": "stream",
     "text": [
      "Model score on test data: 79.3\n"
     ]
    }
   ],
   "source": [
    "model_test_predictions = model.predict(X_test)\n",
    "model_test_score = f1_score(y_test,model_test_predictions)\n",
    "\n",
    "print(\"Model score on test data:\", np.round(100*model_test_score,2))"
   ]
  },
  {
   "cell_type": "markdown",
   "id": "7f06f2ca",
   "metadata": {},
   "source": [
    "## Model Tuning"
   ]
  },
  {
   "cell_type": "code",
   "execution_count": 26,
   "id": "9ae52ecc",
   "metadata": {},
   "outputs": [],
   "source": [
    "# choosing the type of ML Model\n",
    "dummy_model = DecisionTreeClassifier(random_state=1, class_weight=\"balanced\")\n",
    "    \n",
    "# defining the grid of parameters of the ML Model to choose from\n",
    "parameters = {\n",
    "    \"max_leaf_nodes\": [150, 250],\n",
    "    \"min_samples_split\": [10, 30],\n",
    "}\n",
    "    \n",
    "# defining the model score on which we want to compare parameter combinations\n",
    "acc_scorer = make_scorer(f1_score)\n",
    "\n",
    "# running the model tuning algorithm\n",
    "grid_obj = GridSearchCV(dummy_model, parameters, scoring=acc_scorer, cv=5)\n",
    "grid_obj = grid_obj.fit(X_train, y_train)"
   ]
  },
  {
   "cell_type": "code",
   "execution_count": 27,
   "id": "7953e6b7",
   "metadata": {},
   "outputs": [
    {
     "data": {
      "text/html": [
       "<style>#sk-container-id-2 {color: black;background-color: white;}#sk-container-id-2 pre{padding: 0;}#sk-container-id-2 div.sk-toggleable {background-color: white;}#sk-container-id-2 label.sk-toggleable__label {cursor: pointer;display: block;width: 100%;margin-bottom: 0;padding: 0.3em;box-sizing: border-box;text-align: center;}#sk-container-id-2 label.sk-toggleable__label-arrow:before {content: \"▸\";float: left;margin-right: 0.25em;color: #696969;}#sk-container-id-2 label.sk-toggleable__label-arrow:hover:before {color: black;}#sk-container-id-2 div.sk-estimator:hover label.sk-toggleable__label-arrow:before {color: black;}#sk-container-id-2 div.sk-toggleable__content {max-height: 0;max-width: 0;overflow: hidden;text-align: left;background-color: #f0f8ff;}#sk-container-id-2 div.sk-toggleable__content pre {margin: 0.2em;color: black;border-radius: 0.25em;background-color: #f0f8ff;}#sk-container-id-2 input.sk-toggleable__control:checked~div.sk-toggleable__content {max-height: 200px;max-width: 100%;overflow: auto;}#sk-container-id-2 input.sk-toggleable__control:checked~label.sk-toggleable__label-arrow:before {content: \"▾\";}#sk-container-id-2 div.sk-estimator input.sk-toggleable__control:checked~label.sk-toggleable__label {background-color: #d4ebff;}#sk-container-id-2 div.sk-label input.sk-toggleable__control:checked~label.sk-toggleable__label {background-color: #d4ebff;}#sk-container-id-2 input.sk-hidden--visually {border: 0;clip: rect(1px 1px 1px 1px);clip: rect(1px, 1px, 1px, 1px);height: 1px;margin: -1px;overflow: hidden;padding: 0;position: absolute;width: 1px;}#sk-container-id-2 div.sk-estimator {font-family: monospace;background-color: #f0f8ff;border: 1px dotted black;border-radius: 0.25em;box-sizing: border-box;margin-bottom: 0.5em;}#sk-container-id-2 div.sk-estimator:hover {background-color: #d4ebff;}#sk-container-id-2 div.sk-parallel-item::after {content: \"\";width: 100%;border-bottom: 1px solid gray;flex-grow: 1;}#sk-container-id-2 div.sk-label:hover label.sk-toggleable__label {background-color: #d4ebff;}#sk-container-id-2 div.sk-serial::before {content: \"\";position: absolute;border-left: 1px solid gray;box-sizing: border-box;top: 0;bottom: 0;left: 50%;z-index: 0;}#sk-container-id-2 div.sk-serial {display: flex;flex-direction: column;align-items: center;background-color: white;padding-right: 0.2em;padding-left: 0.2em;position: relative;}#sk-container-id-2 div.sk-item {position: relative;z-index: 1;}#sk-container-id-2 div.sk-parallel {display: flex;align-items: stretch;justify-content: center;background-color: white;position: relative;}#sk-container-id-2 div.sk-item::before, #sk-container-id-2 div.sk-parallel-item::before {content: \"\";position: absolute;border-left: 1px solid gray;box-sizing: border-box;top: 0;bottom: 0;left: 50%;z-index: -1;}#sk-container-id-2 div.sk-parallel-item {display: flex;flex-direction: column;z-index: 1;position: relative;background-color: white;}#sk-container-id-2 div.sk-parallel-item:first-child::after {align-self: flex-end;width: 50%;}#sk-container-id-2 div.sk-parallel-item:last-child::after {align-self: flex-start;width: 50%;}#sk-container-id-2 div.sk-parallel-item:only-child::after {width: 0;}#sk-container-id-2 div.sk-dashed-wrapped {border: 1px dashed gray;margin: 0 0.4em 0.5em 0.4em;box-sizing: border-box;padding-bottom: 0.4em;background-color: white;}#sk-container-id-2 div.sk-label label {font-family: monospace;font-weight: bold;display: inline-block;line-height: 1.2em;}#sk-container-id-2 div.sk-label-container {text-align: center;}#sk-container-id-2 div.sk-container {/* jupyter's `normalize.less` sets `[hidden] { display: none; }` but bootstrap.min.css set `[hidden] { display: none !important; }` so we also need the `!important` here to be able to override the default hidden behavior on the sphinx rendered scikit-learn.org. See: https://github.com/scikit-learn/scikit-learn/issues/21755 */display: inline-block !important;position: relative;}#sk-container-id-2 div.sk-text-repr-fallback {display: none;}</style><div id=\"sk-container-id-2\" class=\"sk-top-container\"><div class=\"sk-text-repr-fallback\"><pre>DecisionTreeClassifier(class_weight=&#x27;balanced&#x27;, max_leaf_nodes=250,\n",
       "                       min_samples_split=10, random_state=1)</pre><b>In a Jupyter environment, please rerun this cell to show the HTML representation or trust the notebook. <br />On GitHub, the HTML representation is unable to render, please try loading this page with nbviewer.org.</b></div><div class=\"sk-container\" hidden><div class=\"sk-item\"><div class=\"sk-estimator sk-toggleable\"><input class=\"sk-toggleable__control sk-hidden--visually\" id=\"sk-estimator-id-2\" type=\"checkbox\" checked><label for=\"sk-estimator-id-2\" class=\"sk-toggleable__label sk-toggleable__label-arrow\">DecisionTreeClassifier</label><div class=\"sk-toggleable__content\"><pre>DecisionTreeClassifier(class_weight=&#x27;balanced&#x27;, max_leaf_nodes=250,\n",
       "                       min_samples_split=10, random_state=1)</pre></div></div></div></div></div>"
      ],
      "text/plain": [
       "DecisionTreeClassifier(class_weight='balanced', max_leaf_nodes=250,\n",
       "                       min_samples_split=10, random_state=1)"
      ]
     },
     "execution_count": 27,
     "metadata": {},
     "output_type": "execute_result"
    }
   ],
   "source": [
    "tuned_model = grid_obj.best_estimator_\n",
    "\n",
    "tuned_model.fit(X_train, y_train)"
   ]
  },
  {
   "cell_type": "code",
   "execution_count": 28,
   "id": "115d5f88",
   "metadata": {},
   "outputs": [
    {
     "name": "stdout",
     "output_type": "stream",
     "text": [
      "Model Score on Train Data: 81.83\n"
     ]
    }
   ],
   "source": [
    "# evaluating the model performance on the train data\n",
    "tuned_model_train_predictions = tuned_model.predict(X_train)\n",
    "tuned_model_train_score = f1_score(y_train, tuned_model_train_predictions)\n",
    "\n",
    "print(\"Model Score on Train Data:\", np.round(100*tuned_model_train_score, 2))"
   ]
  },
  {
   "cell_type": "code",
   "execution_count": 29,
   "id": "e6c97283",
   "metadata": {},
   "outputs": [
    {
     "name": "stdout",
     "output_type": "stream",
     "text": [
      "Model Score on Test Data: 80.2\n"
     ]
    }
   ],
   "source": [
    "# evaluating the model performance on the test data\n",
    "tuned_model_test_predictions = tuned_model.predict(X_test)\n",
    "tuned_model_test_score = f1_score(y_test, tuned_model_test_predictions)\n",
    "\n",
    "print(\"Model Score on Test Data:\", np.round(100*tuned_model_test_score, 2))"
   ]
  },
  {
   "cell_type": "markdown",
   "id": "8a99471a",
   "metadata": {},
   "source": [
    "## Model Testing"
   ]
  },
  {
   "cell_type": "code",
   "execution_count": 30,
   "id": "28b87611",
   "metadata": {},
   "outputs": [],
   "source": [
    "final_model = tuned_model"
   ]
  },
  {
   "cell_type": "code",
   "execution_count": 31,
   "id": "d8293074",
   "metadata": {},
   "outputs": [
    {
     "name": "stdout",
     "output_type": "stream",
     "text": [
      "Model score on test data: 80.2\n"
     ]
    }
   ],
   "source": [
    "final_model_test_predictions = final_model.predict(X_test)\n",
    "final_model_test_score = f1_score(y_test, final_model_test_predictions)\n",
    "\n",
    "print(\"Model score on test data:\", np.round(100*final_model_test_score,2))"
   ]
  },
  {
   "cell_type": "markdown",
   "id": "4cc1b0aa",
   "metadata": {},
   "source": [
    "# **Model Deployment and Monitoring**"
   ]
  },
  {
   "cell_type": "code",
   "execution_count": 32,
   "id": "83392576",
   "metadata": {},
   "outputs": [
    {
     "data": {
      "text/plain": [
       "['hotel_cancellation_prediction_model_v1_0.joblib']"
      ]
     },
     "execution_count": 32,
     "metadata": {},
     "output_type": "execute_result"
    }
   ],
   "source": [
    "# exporting the final model to the disk\n",
    "joblib.dump(final_model, \"hotel_cancellation_prediction_model_v1_0.joblib\")"
   ]
  },
  {
   "cell_type": "code",
   "execution_count": 33,
   "id": "e49ad558",
   "metadata": {},
   "outputs": [],
   "source": [
    "# loading the final model from the disk\n",
    "cancellation_predictor = joblib.load('hotel_cancellation_prediction_model_v1_0.joblib')"
   ]
  },
  {
   "cell_type": "code",
   "execution_count": 60,
   "id": "83950670",
   "metadata": {},
   "outputs": [],
   "source": [
    "# define a function that will take the necessary inputs and make predictions\n",
    "\n",
    "def predict_cancellation(lead_time, market_segment_type, avg_price_per_room, no_of_adults, no_of_weekend_nights, no_of_week_nights, no_of_special_requests, arrival_month, required_car_parking_space):\n",
    "\n",
    "    # dictionary of inputs\n",
    "    input_data = {\n",
    "        'lead_time': lead_time,\n",
    "        'no_of_special_requests': no_of_special_requests,\n",
    "        'avg_price_per_room': avg_price_per_room,\n",
    "        'no_of_adults': no_of_adults,\n",
    "        'no_of_weekend_nights': no_of_weekend_nights,\n",
    "        'required_car_parking_space': 1.0 if required_car_parking_space == \"Yes\" else 0.0,\n",
    "        'no_of_week_nights': no_of_week_nights,\n",
    "        'arrival_month': arrival_month,\n",
    "        'market_segment_type_Online': 1 if market_segment_type == 'Online' else 0,\n",
    "    }\n",
    "\n",
    "    # create a dataframe using the dictionary of inputs\n",
    "    data_point = pd.DataFrame([input_data])\n",
    "\n",
    "    # predicting the output and probability of the output\n",
    "    prediction = cancellation_predictor.predict(data_point).tolist()\n",
    "    prediction_prob = np.round(100*cancellation_predictor.predict_proba(data_point)[0][0], 2) if prediction == 1 else np.round(100*cancellation_predictor.predict_proba(data_point)[0][1], 2)\n",
    "\n",
    "    # returning the final output\n",
    "    return (\"Yes\", str(prediction_prob)+\"%\") if prediction[0] == 1 else (\"No\", str(prediction_prob)+\"%\")"
   ]
  },
  {
   "cell_type": "code",
   "execution_count": 61,
   "id": "1cc6edc4",
   "metadata": {},
   "outputs": [],
   "source": [
    "# creating the deployment input interface\n",
    "model_inputs = [\n",
    "    gr.inputs.Number(label=\"Lead Time\"),\n",
    "    gr.inputs.Dropdown(label=\"Market Segment Type\", choices=[\"Online\", \"Offline\"]),\n",
    "    gr.inputs.Number(label=\"Average Price per Room\"),\n",
    "    gr.inputs.Number(label=\"Number of Adults\"),\n",
    "    gr.inputs.Number(label=\"Number of Weekend Nights\"),\n",
    "    gr.inputs.Number(label=\"Number of Week Nights\"),\n",
    "    gr.inputs.Number(label=\"Number of Special Requests\"),\n",
    "    gr.inputs.Dropdown(label=\"Arrival Month\", choices=np.arange(1,13,1).tolist()),\n",
    "    gr.inputs.Dropdown(label=\"Required Car Parking Space\", choices=[\"Yes\", \"No\"])\n",
    "]\n",
    "\n",
    "# creating the deployment output interface\n",
    "model_outputs = [\n",
    "    gr.Textbox(label=\"Will the booking be cancelled?\"),\n",
    "    gr.Textbox(label=\"Chances of Cancellation\")\n",
    "]\n"
   ]
  },
  {
   "cell_type": "code",
   "execution_count": 63,
   "id": "b32133b7",
   "metadata": {},
   "outputs": [
    {
     "name": "stdout",
     "output_type": "stream",
     "text": [
      "IMPORTANT: You are using gradio version 3.50.0, however version 4.44.1 is available, please upgrade.\n",
      "--------\n"
     ]
    }
   ],
   "source": [
    "# defining the structure of the deployment interface and how the components will interact\n",
    "demo = gr.Interface(\n",
    "    fn = predict_cancellation,\n",
    "    inputs = model_inputs,\n",
    "    outputs = model_outputs,\n",
    "    allow_flagging='never', \n",
    "    title = \"Hotel Booking Cancellation Predictor\",\n",
    "    description = \"This interface will predict whether a given hotel booking is likely to be cancelled based on the details of the booking.\",\n",
    ")"
   ]
  },
  {
   "cell_type": "code",
   "execution_count": 64,
   "id": "5658a6db",
   "metadata": {},
   "outputs": [
    {
     "name": "stdout",
     "output_type": "stream",
     "text": [
      "Running on local URL:  http://127.0.0.1:7860\n",
      "Running on public URL: https://ca4b8d4050d07913dc.gradio.live\n",
      "\n",
      "This share link expires in 72 hours. For free permanent hosting and GPU upgrades, run `gradio deploy` from Terminal to deploy to Spaces (https://huggingface.co/spaces)\n",
      "Keyboard interruption in main thread... closing server.\n",
      "Killing tunnel 127.0.0.1:7860 <> https://ca4b8d4050d07913dc.gradio.live\n"
     ]
    },
    {
     "data": {
      "text/plain": []
     },
     "execution_count": 64,
     "metadata": {},
     "output_type": "execute_result"
    }
   ],
   "source": [
    "# deploying the model\n",
    "demo.launch(inline=False, share=True, debug=True)"
   ]
  },
  {
   "cell_type": "code",
   "execution_count": 65,
   "id": "d2e05e8e",
   "metadata": {},
   "outputs": [
    {
     "name": "stdout",
     "output_type": "stream",
     "text": [
      "Closing server running on port: 7860\n"
     ]
    }
   ],
   "source": [
    "# shutting down the deployed model\n",
    "demo.close()"
   ]
  },
  {
   "cell_type": "code",
   "execution_count": null,
   "id": "731398b2",
   "metadata": {},
   "outputs": [],
   "source": []
  }
 ],
 "metadata": {
  "kernelspec": {
   "display_name": "Python 3 (ipykernel)",
   "language": "python",
   "name": "python3"
  },
  "language_info": {
   "codemirror_mode": {
    "name": "ipython",
    "version": 3
   },
   "file_extension": ".py",
   "mimetype": "text/x-python",
   "name": "python",
   "nbconvert_exporter": "python",
   "pygments_lexer": "ipython3",
   "version": "3.11.7"
  }
 },
 "nbformat": 4,
 "nbformat_minor": 5
}
