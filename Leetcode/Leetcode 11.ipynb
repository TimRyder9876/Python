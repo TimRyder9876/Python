{
 "cells": [
  {
   "cell_type": "code",
   "execution_count": 23,
   "id": "b23789e0",
   "metadata": {},
   "outputs": [],
   "source": [
    "import pandas as pd"
   ]
  },
  {
   "cell_type": "code",
   "execution_count": 1,
   "id": "0e783c63",
   "metadata": {},
   "outputs": [
    {
     "name": "stdout",
     "output_type": "stream",
     "text": [
      "64\n"
     ]
    }
   ],
   "source": [
    "height= [1,8,6,2,5,4,8,3,7,12]\n",
    "\n",
    "area = 0\n",
    "for i, x in enumerate(height):\n",
    "    for ix, xx in enumerate(height):\n",
    "        if area < (ix-i)*min(x,xx):\n",
    "            area = (ix-i)*min(x,xx)\n",
    "print(area)            "
   ]
  },
  {
   "cell_type": "code",
   "execution_count": 2,
   "id": "5b609f26",
   "metadata": {},
   "outputs": [
    {
     "data": {
      "text/plain": [
       "64"
      ]
     },
     "execution_count": 2,
     "metadata": {},
     "output_type": "execute_result"
    }
   ],
   "source": [
    "def maxArea(height) -> int:\n",
    "    L = 0 # this is an index value\n",
    "    R = len(height)-1 # this is an index value\n",
    "    max_area = 0\n",
    "    while L < R:\n",
    "        h = min(height[L],height[R])\n",
    "        w = R-L\n",
    "        area = h*w\n",
    "        max_area = max(area, max_area)\n",
    "        if height[L]> height[R]:\n",
    "            R -= 1\n",
    "        else:\n",
    "            L += 1\n",
    "    return max_area\n",
    "\n",
    "maxArea([1,8,6,2,5,4,8,3,7,12])"
   ]
  },
  {
   "cell_type": "code",
   "execution_count": 33,
   "id": "824bac77",
   "metadata": {},
   "outputs": [
    {
     "name": "stdout",
     "output_type": "stream",
     "text": [
      "49\n"
     ]
    }
   ],
   "source": [
    "height= [1,8,6,2,5,4,8,3,7]\n",
    "\n",
    "area = 0\n",
    "for i, x in enumerate(height):\n",
    "    for ix, xx in enumerate(height):\n",
    "        area = max(area, (ix-i)*min(x,xx))\n",
    "print(area) "
   ]
  },
  {
   "cell_type": "code",
   "execution_count": 8,
   "id": "76ee3eef",
   "metadata": {},
   "outputs": [
    {
     "name": "stdout",
     "output_type": "stream",
     "text": [
      "[1, 8, 6, 2, 5, 4, 8, 3, 7]\n",
      "[0, 1, 2, 3, 4, 5, 6, 7, 8]\n"
     ]
    }
   ],
   "source": [
    "height= [1,8,6,2,5,4,8,3,7]\n",
    "indexes = list(range(len(height)))\n",
    "print(height)\n",
    "print(indexes)"
   ]
  },
  {
   "cell_type": "code",
   "execution_count": 23,
   "id": "17637a09",
   "metadata": {},
   "outputs": [
    {
     "name": "stdout",
     "output_type": "stream",
     "text": [
      "Right: 8, Left: 0, Length: 8, Max Area: 0\n",
      "8\n",
      "Right: 8, Left: 1, Length: 7, Max Area: 8\n",
      "49\n",
      "Right: 7, Left: 1, Length: 6, Max Area: 49\n",
      "49\n",
      "Right: 6, Left: 1, Length: 5, Max Area: 49\n",
      "49\n",
      "Right: 6, Left: 2, Length: 4, Max Area: 49\n",
      "49\n",
      "Right: 6, Left: 3, Length: 3, Max Area: 49\n",
      "49\n",
      "Right: 6, Left: 4, Length: 2, Max Area: 49\n",
      "49\n",
      "Right: 6, Left: 5, Length: 1, Max Area: 49\n",
      "49\n"
     ]
    },
    {
     "data": {
      "text/plain": [
       "49"
      ]
     },
     "execution_count": 23,
     "metadata": {},
     "output_type": "execute_result"
    }
   ],
   "source": [
    "def maxArea(height) -> int:\n",
    "    L, R = 0, len(height)-1\n",
    "    length = R - L\n",
    "    max_area = 0 #min(height[L],height[R])*length\n",
    "    \n",
    "    \n",
    "    while L < R:\n",
    "        length = R-L \n",
    "        print('Right: {}, Left: {}, Length: {}, Max Area: {}'.format(R, L, length, max_area))\n",
    "        if max_area/(length) < min(height[L],height[R]):\n",
    "            max_area = min(height[L],height[R])*length    \n",
    "        if height[L] > height[R]:\n",
    "            R -= 1\n",
    "        else:\n",
    "            L += 1   \n",
    "        print(max_area)\n",
    "    return max_area\n",
    "        \n",
    "            \n",
    "        #BY SHRINKING THE SIZE BY 1, THE HEIGHT HAS TO INCREASE BY SOME NUMBER TO BE VALID\n",
    "maxArea([1,8,6,2,5,4,8,3,7])     "
   ]
  },
  {
   "cell_type": "code",
   "execution_count": null,
   "id": "036923dc",
   "metadata": {},
   "outputs": [],
   "source": [
    "# fastest one\n",
    "def maxArea(height) -> int:\n",
    "    L, R = 0, len(height)-1\n",
    "    length = R - L\n",
    "    max_area = 0 #min(height[L],height[R])*length\n",
    "    \n",
    "    \n",
    "    while L < R:\n",
    "        length = R-L \n",
    "        #print('Right: {}, Left: {}, Length: {}, Max Area: {}'.format(R, L, length, max_area))\n",
    "        if max_area/(length) < height[L] and max_area/(length) < height[R]:     \n",
    "            max_area = min(height[L],height[R])*length    \n",
    "        if height[L] > height[R]:\n",
    "            R -= 1\n",
    "        else:\n",
    "            L += 1   \n",
    "        print(max_area)\n",
    "    return max_area\n",
    "        \n",
    "            \n",
    "        #BY SHRINKING THE SIZE BY 1, THE HEIGHT HAS TO INCREASE BY SOME NUMBER TO BE VALID\n",
    "maxArea([1,8,6,2,5,4,8,3,7])     "
   ]
  }
 ],
 "metadata": {
  "kernelspec": {
   "display_name": "Python 3 (ipykernel)",
   "language": "python",
   "name": "python3"
  },
  "language_info": {
   "codemirror_mode": {
    "name": "ipython",
    "version": 3
   },
   "file_extension": ".py",
   "mimetype": "text/x-python",
   "name": "python",
   "nbconvert_exporter": "python",
   "pygments_lexer": "ipython3",
   "version": "3.11.7"
  }
 },
 "nbformat": 4,
 "nbformat_minor": 5
}
