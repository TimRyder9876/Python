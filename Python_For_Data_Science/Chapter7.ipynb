{
 "cells": [
  {
   "cell_type": "markdown",
   "id": "84d0cca5",
   "metadata": {},
   "source": [
    "## Combining lists and tuples with +"
   ]
  },
  {
   "cell_type": "code",
   "execution_count": 2,
   "id": "62a4335a",
   "metadata": {},
   "outputs": [],
   "source": [
    "orders_2021_08_04 = [\n",
    " (9423517, '2021-08-04', 9001),\n",
    " (4626232, '2021-08-04', 9003),\n",
    " (9423534, '2021-08-04', 9001)\n",
    "]\n",
    "orders_2021_08_05 = [\n",
    " (9423679, '2021-08-05', 9002),\n",
    " (4626377, '2021-08-05', 9003),\n",
    " (4626412, '2021-08-05', 9004)\n",
    "]\n",
    "orders_2021_08_06 = [\n",
    " (9423783, '2021-08-06', 9002),\n",
    " (4626490, '2021-08-06', 9004)\n",
    "]"
   ]
  },
  {
   "cell_type": "code",
   "execution_count": 3,
   "id": "74b99f9c",
   "metadata": {},
   "outputs": [],
   "source": [
    " orders = orders_2021_08_04 + orders_2021_08_05 + orders_2021_08_06"
   ]
  },
  {
   "cell_type": "code",
   "execution_count": 4,
   "id": "b158ece7",
   "metadata": {},
   "outputs": [
    {
     "data": {
      "text/plain": [
       "[(9423517, '2021-08-04', 9001),\n",
       " (4626232, '2021-08-04', 9003),\n",
       " (9423534, '2021-08-04', 9001),\n",
       " (9423679, '2021-08-05', 9002),\n",
       " (4626377, '2021-08-05', 9003),\n",
       " (4626412, '2021-08-05', 9004),\n",
       " (9423783, '2021-08-06', 9002),\n",
       " (4626490, '2021-08-06', 9004)]"
      ]
     },
     "execution_count": 4,
     "metadata": {},
     "output_type": "execute_result"
    }
   ],
   "source": [
    "orders"
   ]
  },
  {
   "cell_type": "markdown",
   "id": "9ea35913",
   "metadata": {},
   "source": [
    "## Combining Dictionaries with **"
   ]
  },
  {
   "cell_type": "code",
   "execution_count": 5,
   "id": "0c5bc8c0",
   "metadata": {},
   "outputs": [],
   "source": [
    "extrafields_9423517 = {\n",
    "    'ShippingInstructions' : { 'name' : 'John Silver',\n",
    "                               'Phone': [{'type':'Office', 'number':'809-123-9309'},\n",
    "                                         {'type':'Mobile', 'number':'417-123-4567'}]}\n",
    "}\n",
    "\n",
    "order_9423517 = {'OrderNo':9423517, 'Date':'2022-02-04', 'Empno':9001}"
   ]
  },
  {
   "cell_type": "code",
   "execution_count": 6,
   "id": "588ff035",
   "metadata": {},
   "outputs": [],
   "source": [
    "order_9423517 = {**order_9423517, **extrafields_9423517}"
   ]
  },
  {
   "cell_type": "code",
   "execution_count": 7,
   "id": "c6018ac2",
   "metadata": {},
   "outputs": [
    {
     "data": {
      "text/plain": [
       "{'OrderNo': 9423517,\n",
       " 'Date': '2022-02-04',\n",
       " 'Empno': 9001,\n",
       " 'ShippingInstructions': {'name': 'John Silver',\n",
       "  'Phone': [{'type': 'Office', 'number': '809-123-9309'},\n",
       "   {'type': 'Mobile', 'number': '417-123-4567'}]}}"
      ]
     },
     "execution_count": 7,
     "metadata": {},
     "output_type": "execute_result"
    }
   ],
   "source": [
    "order_9423517"
   ]
  },
  {
   "cell_type": "markdown",
   "id": "cc9f53e0",
   "metadata": {},
   "source": [
    "## Combining Corresponding Rows to Two Structures"
   ]
  },
  {
   "cell_type": "code",
   "execution_count": 8,
   "id": "a4f5ce66",
   "metadata": {},
   "outputs": [],
   "source": [
    "details = [\n",
    " (9423517, 'Jeans', 'Rip Curl', 87.0, 1),\n",
    " (9423517, 'Jacket', 'The North Face', 112.0, 1),\n",
    " (4626232, 'Socks', 'Vans', 15.0, 1),\n",
    " (4626232, 'Jeans', 'Quiksilver', 82.0, 1),\n",
    " (9423534, 'Socks', 'DC', 10.0, 2),\n",
    " (9423534, 'Socks', 'Quiksilver', 12.0, 2),\n",
    " (9423679, 'T-shirt', 'Patagonia', 35.0, 1),\n",
    " (4626377, 'Hoody', 'Animal', 44.0, 1),\n",
    " (4626377, 'Cargo Shorts', 'Animal', 38.0, 1),\n",
    " (4626412, 'Shirt', 'Volcom', 78.0, 1),\n",
    " (9423783, 'Boxer Shorts', 'Superdry', 30.0, 2),\n",
    " (9423783, 'Shorts', 'Globe', 26.0, 1),\n",
    " (4626490, 'Cargo Shorts', 'Billabong', 54.0, 1),\n",
    " (4626490, 'Sweater', 'Dickies', 56.0, 1)\n",
    "]"
   ]
  },
  {
   "cell_type": "code",
   "execution_count": 2,
   "id": "dd952951",
   "metadata": {},
   "outputs": [],
   "source": [
    "orders2 = [\n",
    " (9423517, '2021-08-04', 9001),\n",
    " (4626232, '2021-08-04', 9003)]\n",
    "details2 = [\n",
    " (9423517, 'Jeans', 'Rip Curl', 87.0, 1),\n",
    " (9423517, 'Jacket', 'The North Face', 112.0, 1),\n",
    " (4626232, 'Socks', 'Vans', 15.0, 1),\n",
    " (4626232, 'Jeans', 'Quiksilver', 82.0, 1)]\n",
    "order_details2 = []\n",
    "for o in orders2:\n",
    "    for d in details2:\n",
    "        if d[0] == o[0]:\n",
    "            order_details2.append(o + d[1:])"
   ]
  },
  {
   "cell_type": "code",
   "execution_count": 3,
   "id": "920790cc",
   "metadata": {},
   "outputs": [
    {
     "data": {
      "text/plain": [
       "[(9423517, '2021-08-04', 9001, 'Jeans', 'Rip Curl', 87.0, 1),\n",
       " (9423517, '2021-08-04', 9001, 'Jacket', 'The North Face', 112.0, 1),\n",
       " (4626232, '2021-08-04', 9003, 'Socks', 'Vans', 15.0, 1),\n",
       " (4626232, '2021-08-04', 9003, 'Jeans', 'Quiksilver', 82.0, 1)]"
      ]
     },
     "execution_count": 3,
     "metadata": {},
     "output_type": "execute_result"
    }
   ],
   "source": [
    "order_details2"
   ]
  },
  {
   "cell_type": "code",
   "execution_count": 9,
   "id": "193f7033",
   "metadata": {},
   "outputs": [],
   "source": [
    "order_details = []\n",
    "for o in orders:\n",
    "    for d in details:\n",
    "        if d[0] == o[0]:\n",
    "            order_details.append(o + d[1:])"
   ]
  },
  {
   "cell_type": "code",
   "execution_count": 13,
   "id": "d2eab743",
   "metadata": {},
   "outputs": [
    {
     "data": {
      "text/plain": [
       "[(9423517, '2021-08-04', 9001, 'Jeans', 'Rip Curl', 87.0, 1),\n",
       " (9423517, '2021-08-04', 9001, 'Jacket', 'The North Face', 112.0, 1),\n",
       " (4626232, '2021-08-04', 9003, 'Socks', 'Vans', 15.0, 1),\n",
       " (4626232, '2021-08-04', 9003, 'Jeans', 'Quiksilver', 82.0, 1),\n",
       " (9423534, '2021-08-04', 9001, 'Socks', 'DC', 10.0, 2),\n",
       " (9423534, '2021-08-04', 9001, 'Socks', 'Quiksilver', 12.0, 2),\n",
       " (9423679, '2021-08-05', 9002, 'T-shirt', 'Patagonia', 35.0, 1),\n",
       " (4626377, '2021-08-05', 9003, 'Hoody', 'Animal', 44.0, 1),\n",
       " (4626377, '2021-08-05', 9003, 'Cargo Shorts', 'Animal', 38.0, 1),\n",
       " (4626412, '2021-08-05', 9004, 'Shirt', 'Volcom', 78.0, 1),\n",
       " (9423783, '2021-08-06', 9002, 'Boxer Shorts', 'Superdry', 30.0, 2),\n",
       " (9423783, '2021-08-06', 9002, 'Shorts', 'Globe', 26.0, 1),\n",
       " (4626490, '2021-08-06', 9004, 'Cargo Shorts', 'Billabong', 54.0, 1),\n",
       " (4626490, '2021-08-06', 9004, 'Sweater', 'Dickies', 56.0, 1)]"
      ]
     },
     "execution_count": 13,
     "metadata": {},
     "output_type": "execute_result"
    }
   ],
   "source": [
    "order_details"
   ]
  },
  {
   "cell_type": "code",
   "execution_count": 11,
   "id": "da3ec190",
   "metadata": {},
   "outputs": [],
   "source": [
    "order_details2 = [[o for o in orders if d[0] == o[0]][0] + d[1:] for d in details]"
   ]
  },
  {
   "cell_type": "code",
   "execution_count": 12,
   "id": "ad5f3c33",
   "metadata": {},
   "outputs": [
    {
     "data": {
      "text/plain": [
       "[(9423517, '2021-08-04', 9001, 'Jeans', 'Rip Curl', 87.0, 1),\n",
       " (9423517, '2021-08-04', 9001, 'Jacket', 'The North Face', 112.0, 1),\n",
       " (4626232, '2021-08-04', 9003, 'Socks', 'Vans', 15.0, 1),\n",
       " (4626232, '2021-08-04', 9003, 'Jeans', 'Quiksilver', 82.0, 1),\n",
       " (9423534, '2021-08-04', 9001, 'Socks', 'DC', 10.0, 2),\n",
       " (9423534, '2021-08-04', 9001, 'Socks', 'Quiksilver', 12.0, 2),\n",
       " (9423679, '2021-08-05', 9002, 'T-shirt', 'Patagonia', 35.0, 1),\n",
       " (4626377, '2021-08-05', 9003, 'Hoody', 'Animal', 44.0, 1),\n",
       " (4626377, '2021-08-05', 9003, 'Cargo Shorts', 'Animal', 38.0, 1),\n",
       " (4626412, '2021-08-05', 9004, 'Shirt', 'Volcom', 78.0, 1),\n",
       " (9423783, '2021-08-06', 9002, 'Boxer Shorts', 'Superdry', 30.0, 2),\n",
       " (9423783, '2021-08-06', 9002, 'Shorts', 'Globe', 26.0, 1),\n",
       " (4626490, '2021-08-06', 9004, 'Cargo Shorts', 'Billabong', 54.0, 1),\n",
       " (4626490, '2021-08-06', 9004, 'Sweater', 'Dickies', 56.0, 1)]"
      ]
     },
     "execution_count": 12,
     "metadata": {},
     "output_type": "execute_result"
    }
   ],
   "source": [
    "order_details2"
   ]
  },
  {
   "cell_type": "code",
   "execution_count": 14,
   "id": "255e75dd",
   "metadata": {},
   "outputs": [],
   "source": [
    "details.append((4626592, 'Shorts','Protest',48.0, 1))"
   ]
  },
  {
   "cell_type": "code",
   "execution_count": 15,
   "id": "5e7c8020",
   "metadata": {},
   "outputs": [
    {
     "ename": "IndexError",
     "evalue": "list index out of range",
     "output_type": "error",
     "traceback": [
      "\u001b[1;31m---------------------------------------------------------------------------\u001b[0m",
      "\u001b[1;31mIndexError\u001b[0m                                Traceback (most recent call last)",
      "Cell \u001b[1;32mIn[15], line 1\u001b[0m\n\u001b[1;32m----> 1\u001b[0m order_details3 \u001b[38;5;241m=\u001b[39m [[o \u001b[38;5;28;01mfor\u001b[39;00m o \u001b[38;5;129;01min\u001b[39;00m orders \u001b[38;5;28;01mif\u001b[39;00m d[\u001b[38;5;241m0\u001b[39m]\u001b[38;5;241m==\u001b[39mo[\u001b[38;5;241m0\u001b[39m]][\u001b[38;5;241m0\u001b[39m] \u001b[38;5;241m+\u001b[39m d[\u001b[38;5;241m1\u001b[39m:] \u001b[38;5;28;01mfor\u001b[39;00m d \u001b[38;5;129;01min\u001b[39;00m details]\n",
      "Cell \u001b[1;32mIn[15], line 1\u001b[0m, in \u001b[0;36m<listcomp>\u001b[1;34m(.0)\u001b[0m\n\u001b[1;32m----> 1\u001b[0m order_details3 \u001b[38;5;241m=\u001b[39m [[o \u001b[38;5;28;01mfor\u001b[39;00m o \u001b[38;5;129;01min\u001b[39;00m orders \u001b[38;5;28;01mif\u001b[39;00m d[\u001b[38;5;241m0\u001b[39m]\u001b[38;5;241m==\u001b[39mo[\u001b[38;5;241m0\u001b[39m]][\u001b[38;5;241m0\u001b[39m] \u001b[38;5;241m+\u001b[39m d[\u001b[38;5;241m1\u001b[39m:] \u001b[38;5;28;01mfor\u001b[39;00m d \u001b[38;5;129;01min\u001b[39;00m details]\n",
      "\u001b[1;31mIndexError\u001b[0m: list index out of range"
     ]
    }
   ],
   "source": [
    "order_details3 = [[o for o in orders if d[0]==o[0]][0] + d[1:] for d in details]"
   ]
  },
  {
   "cell_type": "code",
   "execution_count": 17,
   "id": "84fec831",
   "metadata": {},
   "outputs": [],
   "source": [
    "# right join with 2 lists where 1 list has non matching records\n",
    "order_details_right = [[o for o in orders if d[0] in o][0] + d[1:] if d[0] in [o[0] for o\n",
    "                        in orders] else (d[0], None, None) + d[1:] for d in details]"
   ]
  },
  {
   "cell_type": "code",
   "execution_count": 18,
   "id": "16620467",
   "metadata": {},
   "outputs": [
    {
     "data": {
      "text/plain": [
       "[(9423517, '2021-08-04', 9001, 'Jeans', 'Rip Curl', 87.0, 1),\n",
       " (9423517, '2021-08-04', 9001, 'Jacket', 'The North Face', 112.0, 1),\n",
       " (4626232, '2021-08-04', 9003, 'Socks', 'Vans', 15.0, 1),\n",
       " (4626232, '2021-08-04', 9003, 'Jeans', 'Quiksilver', 82.0, 1),\n",
       " (9423534, '2021-08-04', 9001, 'Socks', 'DC', 10.0, 2),\n",
       " (9423534, '2021-08-04', 9001, 'Socks', 'Quiksilver', 12.0, 2),\n",
       " (9423679, '2021-08-05', 9002, 'T-shirt', 'Patagonia', 35.0, 1),\n",
       " (4626377, '2021-08-05', 9003, 'Hoody', 'Animal', 44.0, 1),\n",
       " (4626377, '2021-08-05', 9003, 'Cargo Shorts', 'Animal', 38.0, 1),\n",
       " (4626412, '2021-08-05', 9004, 'Shirt', 'Volcom', 78.0, 1),\n",
       " (9423783, '2021-08-06', 9002, 'Boxer Shorts', 'Superdry', 30.0, 2),\n",
       " (9423783, '2021-08-06', 9002, 'Shorts', 'Globe', 26.0, 1),\n",
       " (4626490, '2021-08-06', 9004, 'Cargo Shorts', 'Billabong', 54.0, 1),\n",
       " (4626490, '2021-08-06', 9004, 'Sweater', 'Dickies', 56.0, 1),\n",
       " (4626592, None, None, 'Shorts', 'Protest', 48.0, 1)]"
      ]
     },
     "execution_count": 18,
     "metadata": {},
     "output_type": "execute_result"
    }
   ],
   "source": [
    "order_details_right"
   ]
  },
  {
   "cell_type": "code",
   "execution_count": 20,
   "id": "4b661add",
   "metadata": {},
   "outputs": [
    {
     "data": {
      "text/plain": [
       "779.0"
      ]
     },
     "execution_count": 20,
     "metadata": {},
     "output_type": "execute_result"
    }
   ],
   "source": [
    "# To sum up the price * quantity of the orders above\n",
    "sum(pr*qt for _, _, _, _, _, pr, qt in order_details_right)"
   ]
  },
  {
   "cell_type": "code",
   "execution_count": 23,
   "id": "c4c43d92",
   "metadata": {},
   "outputs": [
    {
     "data": {
      "text/plain": [
       "731.0"
      ]
     },
     "execution_count": 23,
     "metadata": {},
     "output_type": "execute_result"
    }
   ],
   "source": [
    "# To sum up only the matching racords between orders and order details\n",
    "sum(pr*qt for _, dt, _, _, _, pr, qt in order_details_right if dt !=None)"
   ]
  },
  {
   "cell_type": "markdown",
   "id": "8852483a",
   "metadata": {},
   "source": [
    "## Concatenating NumPy Arrays"
   ]
  },
  {
   "cell_type": "code",
   "execution_count": 38,
   "id": "48e4e050",
   "metadata": {},
   "outputs": [],
   "source": [
    "import numpy as np\n",
    "jeff_salary = [2000,3000,3000]\n",
    "nick_salary = [2600,2800,2800]\n",
    "tom_salary = [2300, 2500, 2500]\n",
    "base_salary1 = np.array([jeff_salary, nick_salary, tom_salary])"
   ]
  },
  {
   "cell_type": "code",
   "execution_count": 39,
   "id": "cd6394d2",
   "metadata": {},
   "outputs": [],
   "source": [
    "maya_salary = [2200,2400,2400]\n",
    "john_salary = [2500,2700,2700]\n",
    "base_salary2 = np.array([maya_salary, john_salary])"
   ]
  },
  {
   "cell_type": "code",
   "execution_count": 40,
   "id": "2a69c105",
   "metadata": {},
   "outputs": [],
   "source": [
    "base_salary = np.concatenate((base_salary1, base_salary2), axis=0)"
   ]
  },
  {
   "cell_type": "code",
   "execution_count": 41,
   "id": "55e2d5ab",
   "metadata": {},
   "outputs": [
    {
     "data": {
      "text/plain": [
       "array([[2000, 3000, 3000],\n",
       "       [2600, 2800, 2800],\n",
       "       [2300, 2500, 2500],\n",
       "       [2200, 2400, 2400],\n",
       "       [2500, 2700, 2700]])"
      ]
     },
     "execution_count": 41,
     "metadata": {},
     "output_type": "execute_result"
    }
   ],
   "source": [
    "base_salary"
   ]
  },
  {
   "cell_type": "code",
   "execution_count": 42,
   "id": "ef894c2e",
   "metadata": {},
   "outputs": [],
   "source": [
    "new_month_salary = np.array([[3000],[2900],[2500],[2500],[2700]])"
   ]
  },
  {
   "cell_type": "code",
   "execution_count": 43,
   "id": "bf4e5e94",
   "metadata": {},
   "outputs": [],
   "source": [
    "base_salary = np.concatenate((base_salary, new_month_salary), axis=1)"
   ]
  },
  {
   "cell_type": "code",
   "execution_count": 44,
   "id": "ea6578d6",
   "metadata": {},
   "outputs": [
    {
     "data": {
      "text/plain": [
       "array([[2000, 3000, 3000, 3000],\n",
       "       [2600, 2800, 2800, 2900],\n",
       "       [2300, 2500, 2500, 2500],\n",
       "       [2200, 2400, 2400, 2500],\n",
       "       [2500, 2700, 2700, 2700]])"
      ]
     },
     "execution_count": 44,
     "metadata": {},
     "output_type": "execute_result"
    }
   ],
   "source": [
    "base_salary"
   ]
  },
  {
   "cell_type": "markdown",
   "id": "adeca442",
   "metadata": {},
   "source": [
    "## Concatenating DataFrames"
   ]
  },
  {
   "cell_type": "code",
   "execution_count": 45,
   "id": "9fadbae3",
   "metadata": {},
   "outputs": [],
   "source": [
    "import pandas as pd\n",
    "salary_df1 = pd.DataFrame({\n",
    "    \"jeff\":jeff_salary,\n",
    "    \"nick\":nick_salary,\n",
    "    \"tom\":tom_salary\n",
    "})"
   ]
  },
  {
   "cell_type": "code",
   "execution_count": 46,
   "id": "83fa4e49",
   "metadata": {},
   "outputs": [],
   "source": [
    "salary_df1.index=['June','July','August']"
   ]
  },
  {
   "cell_type": "code",
   "execution_count": 47,
   "id": "9b76c2c8",
   "metadata": {},
   "outputs": [
    {
     "data": {
      "text/html": [
       "<div>\n",
       "<style scoped>\n",
       "    .dataframe tbody tr th:only-of-type {\n",
       "        vertical-align: middle;\n",
       "    }\n",
       "\n",
       "    .dataframe tbody tr th {\n",
       "        vertical-align: top;\n",
       "    }\n",
       "\n",
       "    .dataframe thead th {\n",
       "        text-align: right;\n",
       "    }\n",
       "</style>\n",
       "<table border=\"1\" class=\"dataframe\">\n",
       "  <thead>\n",
       "    <tr style=\"text-align: right;\">\n",
       "      <th></th>\n",
       "      <th>jeff</th>\n",
       "      <th>nick</th>\n",
       "      <th>tom</th>\n",
       "    </tr>\n",
       "  </thead>\n",
       "  <tbody>\n",
       "    <tr>\n",
       "      <th>June</th>\n",
       "      <td>2000</td>\n",
       "      <td>2600</td>\n",
       "      <td>2300</td>\n",
       "    </tr>\n",
       "    <tr>\n",
       "      <th>July</th>\n",
       "      <td>3000</td>\n",
       "      <td>2800</td>\n",
       "      <td>2500</td>\n",
       "    </tr>\n",
       "    <tr>\n",
       "      <th>August</th>\n",
       "      <td>3000</td>\n",
       "      <td>2800</td>\n",
       "      <td>2500</td>\n",
       "    </tr>\n",
       "  </tbody>\n",
       "</table>\n",
       "</div>"
      ],
      "text/plain": [
       "        jeff  nick   tom\n",
       "June    2000  2600  2300\n",
       "July    3000  2800  2500\n",
       "August  3000  2800  2500"
      ]
     },
     "execution_count": 47,
     "metadata": {},
     "output_type": "execute_result"
    }
   ],
   "source": [
    "salary_df1"
   ]
  },
  {
   "cell_type": "code",
   "execution_count": 48,
   "id": "6654146d",
   "metadata": {},
   "outputs": [],
   "source": [
    "salary_df1 = salary_df1.T"
   ]
  },
  {
   "cell_type": "code",
   "execution_count": 49,
   "id": "52560eae",
   "metadata": {},
   "outputs": [
    {
     "data": {
      "text/html": [
       "<div>\n",
       "<style scoped>\n",
       "    .dataframe tbody tr th:only-of-type {\n",
       "        vertical-align: middle;\n",
       "    }\n",
       "\n",
       "    .dataframe tbody tr th {\n",
       "        vertical-align: top;\n",
       "    }\n",
       "\n",
       "    .dataframe thead th {\n",
       "        text-align: right;\n",
       "    }\n",
       "</style>\n",
       "<table border=\"1\" class=\"dataframe\">\n",
       "  <thead>\n",
       "    <tr style=\"text-align: right;\">\n",
       "      <th></th>\n",
       "      <th>June</th>\n",
       "      <th>July</th>\n",
       "      <th>August</th>\n",
       "    </tr>\n",
       "  </thead>\n",
       "  <tbody>\n",
       "    <tr>\n",
       "      <th>jeff</th>\n",
       "      <td>2000</td>\n",
       "      <td>3000</td>\n",
       "      <td>3000</td>\n",
       "    </tr>\n",
       "    <tr>\n",
       "      <th>nick</th>\n",
       "      <td>2600</td>\n",
       "      <td>2800</td>\n",
       "      <td>2800</td>\n",
       "    </tr>\n",
       "    <tr>\n",
       "      <th>tom</th>\n",
       "      <td>2300</td>\n",
       "      <td>2500</td>\n",
       "      <td>2500</td>\n",
       "    </tr>\n",
       "  </tbody>\n",
       "</table>\n",
       "</div>"
      ],
      "text/plain": [
       "      June  July  August\n",
       "jeff  2000  3000    3000\n",
       "nick  2600  2800    2800\n",
       "tom   2300  2500    2500"
      ]
     },
     "execution_count": 49,
     "metadata": {},
     "output_type": "execute_result"
    }
   ],
   "source": [
    "salary_df1"
   ]
  },
  {
   "cell_type": "code",
   "execution_count": 50,
   "id": "38450889",
   "metadata": {},
   "outputs": [],
   "source": [
    "salary_df2 = pd.DataFrame(\n",
    "    {\"maya\": maya_salary,\n",
    "     \"john\":john_salary\n",
    "        \n",
    "    }, index=['June','July','August']).T"
   ]
  },
  {
   "cell_type": "code",
   "execution_count": 51,
   "id": "2c6c7d01",
   "metadata": {},
   "outputs": [
    {
     "data": {
      "text/html": [
       "<div>\n",
       "<style scoped>\n",
       "    .dataframe tbody tr th:only-of-type {\n",
       "        vertical-align: middle;\n",
       "    }\n",
       "\n",
       "    .dataframe tbody tr th {\n",
       "        vertical-align: top;\n",
       "    }\n",
       "\n",
       "    .dataframe thead th {\n",
       "        text-align: right;\n",
       "    }\n",
       "</style>\n",
       "<table border=\"1\" class=\"dataframe\">\n",
       "  <thead>\n",
       "    <tr style=\"text-align: right;\">\n",
       "      <th></th>\n",
       "      <th>June</th>\n",
       "      <th>July</th>\n",
       "      <th>August</th>\n",
       "    </tr>\n",
       "  </thead>\n",
       "  <tbody>\n",
       "    <tr>\n",
       "      <th>maya</th>\n",
       "      <td>2200</td>\n",
       "      <td>2400</td>\n",
       "      <td>2400</td>\n",
       "    </tr>\n",
       "    <tr>\n",
       "      <th>john</th>\n",
       "      <td>2500</td>\n",
       "      <td>2700</td>\n",
       "      <td>2700</td>\n",
       "    </tr>\n",
       "  </tbody>\n",
       "</table>\n",
       "</div>"
      ],
      "text/plain": [
       "      June  July  August\n",
       "maya  2200  2400    2400\n",
       "john  2500  2700    2700"
      ]
     },
     "execution_count": 51,
     "metadata": {},
     "output_type": "execute_result"
    }
   ],
   "source": [
    "salary_df2"
   ]
  },
  {
   "cell_type": "markdown",
   "id": "f9c53c6f",
   "metadata": {},
   "source": [
    "## Concatenation Along Axis 0"
   ]
  },
  {
   "cell_type": "code",
   "execution_count": 53,
   "id": "66fc66df",
   "metadata": {},
   "outputs": [],
   "source": [
    "salary_df = pd.concat([salary_df1, salary_df2])"
   ]
  },
  {
   "cell_type": "code",
   "execution_count": 55,
   "id": "c0fc8ef0",
   "metadata": {},
   "outputs": [
    {
     "data": {
      "text/html": [
       "<div>\n",
       "<style scoped>\n",
       "    .dataframe tbody tr th:only-of-type {\n",
       "        vertical-align: middle;\n",
       "    }\n",
       "\n",
       "    .dataframe tbody tr th {\n",
       "        vertical-align: top;\n",
       "    }\n",
       "\n",
       "    .dataframe thead th {\n",
       "        text-align: right;\n",
       "    }\n",
       "</style>\n",
       "<table border=\"1\" class=\"dataframe\">\n",
       "  <thead>\n",
       "    <tr style=\"text-align: right;\">\n",
       "      <th></th>\n",
       "      <th>June</th>\n",
       "      <th>July</th>\n",
       "      <th>August</th>\n",
       "    </tr>\n",
       "  </thead>\n",
       "  <tbody>\n",
       "    <tr>\n",
       "      <th>jeff</th>\n",
       "      <td>2000</td>\n",
       "      <td>3000</td>\n",
       "      <td>3000</td>\n",
       "    </tr>\n",
       "    <tr>\n",
       "      <th>nick</th>\n",
       "      <td>2600</td>\n",
       "      <td>2800</td>\n",
       "      <td>2800</td>\n",
       "    </tr>\n",
       "    <tr>\n",
       "      <th>tom</th>\n",
       "      <td>2300</td>\n",
       "      <td>2500</td>\n",
       "      <td>2500</td>\n",
       "    </tr>\n",
       "    <tr>\n",
       "      <th>maya</th>\n",
       "      <td>2200</td>\n",
       "      <td>2400</td>\n",
       "      <td>2400</td>\n",
       "    </tr>\n",
       "    <tr>\n",
       "      <th>john</th>\n",
       "      <td>2500</td>\n",
       "      <td>2700</td>\n",
       "      <td>2700</td>\n",
       "    </tr>\n",
       "  </tbody>\n",
       "</table>\n",
       "</div>"
      ],
      "text/plain": [
       "      June  July  August\n",
       "jeff  2000  3000    3000\n",
       "nick  2600  2800    2800\n",
       "tom   2300  2500    2500\n",
       "maya  2200  2400    2400\n",
       "john  2500  2700    2700"
      ]
     },
     "execution_count": 55,
     "metadata": {},
     "output_type": "execute_result"
    }
   ],
   "source": [
    "salary_df"
   ]
  },
  {
   "cell_type": "markdown",
   "id": "dbe4b074",
   "metadata": {},
   "source": [
    "## Concatenation Along Axis 1"
   ]
  },
  {
   "cell_type": "code",
   "execution_count": 57,
   "id": "20f2d576",
   "metadata": {},
   "outputs": [],
   "source": [
    "salary_df3 = pd.DataFrame(\n",
    "    {'September':[3000,2800,2500,2400,2700],\n",
    "     'October':[3200,3000,2700,2500,2900]},\n",
    "    index=['jeff','nick','tom','maya','john'])"
   ]
  },
  {
   "cell_type": "code",
   "execution_count": 58,
   "id": "964e4c1c",
   "metadata": {},
   "outputs": [
    {
     "data": {
      "text/html": [
       "<div>\n",
       "<style scoped>\n",
       "    .dataframe tbody tr th:only-of-type {\n",
       "        vertical-align: middle;\n",
       "    }\n",
       "\n",
       "    .dataframe tbody tr th {\n",
       "        vertical-align: top;\n",
       "    }\n",
       "\n",
       "    .dataframe thead th {\n",
       "        text-align: right;\n",
       "    }\n",
       "</style>\n",
       "<table border=\"1\" class=\"dataframe\">\n",
       "  <thead>\n",
       "    <tr style=\"text-align: right;\">\n",
       "      <th></th>\n",
       "      <th>September</th>\n",
       "      <th>October</th>\n",
       "    </tr>\n",
       "  </thead>\n",
       "  <tbody>\n",
       "    <tr>\n",
       "      <th>jeff</th>\n",
       "      <td>3000</td>\n",
       "      <td>3200</td>\n",
       "    </tr>\n",
       "    <tr>\n",
       "      <th>nick</th>\n",
       "      <td>2800</td>\n",
       "      <td>3000</td>\n",
       "    </tr>\n",
       "    <tr>\n",
       "      <th>tom</th>\n",
       "      <td>2500</td>\n",
       "      <td>2700</td>\n",
       "    </tr>\n",
       "    <tr>\n",
       "      <th>maya</th>\n",
       "      <td>2400</td>\n",
       "      <td>2500</td>\n",
       "    </tr>\n",
       "    <tr>\n",
       "      <th>john</th>\n",
       "      <td>2700</td>\n",
       "      <td>2900</td>\n",
       "    </tr>\n",
       "  </tbody>\n",
       "</table>\n",
       "</div>"
      ],
      "text/plain": [
       "      September  October\n",
       "jeff       3000     3200\n",
       "nick       2800     3000\n",
       "tom        2500     2700\n",
       "maya       2400     2500\n",
       "john       2700     2900"
      ]
     },
     "execution_count": 58,
     "metadata": {},
     "output_type": "execute_result"
    }
   ],
   "source": [
    "salary_df3"
   ]
  },
  {
   "cell_type": "code",
   "execution_count": 59,
   "id": "980d59fe",
   "metadata": {},
   "outputs": [],
   "source": [
    "salary_df = pd.concat([salary_df, salary_df3],axis=1)"
   ]
  },
  {
   "cell_type": "code",
   "execution_count": 60,
   "id": "aa8e5898",
   "metadata": {},
   "outputs": [
    {
     "data": {
      "text/html": [
       "<div>\n",
       "<style scoped>\n",
       "    .dataframe tbody tr th:only-of-type {\n",
       "        vertical-align: middle;\n",
       "    }\n",
       "\n",
       "    .dataframe tbody tr th {\n",
       "        vertical-align: top;\n",
       "    }\n",
       "\n",
       "    .dataframe thead th {\n",
       "        text-align: right;\n",
       "    }\n",
       "</style>\n",
       "<table border=\"1\" class=\"dataframe\">\n",
       "  <thead>\n",
       "    <tr style=\"text-align: right;\">\n",
       "      <th></th>\n",
       "      <th>June</th>\n",
       "      <th>July</th>\n",
       "      <th>August</th>\n",
       "      <th>September</th>\n",
       "      <th>October</th>\n",
       "    </tr>\n",
       "  </thead>\n",
       "  <tbody>\n",
       "    <tr>\n",
       "      <th>jeff</th>\n",
       "      <td>2000</td>\n",
       "      <td>3000</td>\n",
       "      <td>3000</td>\n",
       "      <td>3000</td>\n",
       "      <td>3200</td>\n",
       "    </tr>\n",
       "    <tr>\n",
       "      <th>nick</th>\n",
       "      <td>2600</td>\n",
       "      <td>2800</td>\n",
       "      <td>2800</td>\n",
       "      <td>2800</td>\n",
       "      <td>3000</td>\n",
       "    </tr>\n",
       "    <tr>\n",
       "      <th>tom</th>\n",
       "      <td>2300</td>\n",
       "      <td>2500</td>\n",
       "      <td>2500</td>\n",
       "      <td>2500</td>\n",
       "      <td>2700</td>\n",
       "    </tr>\n",
       "    <tr>\n",
       "      <th>maya</th>\n",
       "      <td>2200</td>\n",
       "      <td>2400</td>\n",
       "      <td>2400</td>\n",
       "      <td>2400</td>\n",
       "      <td>2500</td>\n",
       "    </tr>\n",
       "    <tr>\n",
       "      <th>john</th>\n",
       "      <td>2500</td>\n",
       "      <td>2700</td>\n",
       "      <td>2700</td>\n",
       "      <td>2700</td>\n",
       "      <td>2900</td>\n",
       "    </tr>\n",
       "  </tbody>\n",
       "</table>\n",
       "</div>"
      ],
      "text/plain": [
       "      June  July  August  September  October\n",
       "jeff  2000  3000    3000       3000     3200\n",
       "nick  2600  2800    2800       2800     3000\n",
       "tom   2300  2500    2500       2500     2700\n",
       "maya  2200  2400    2400       2400     2500\n",
       "john  2500  2700    2700       2700     2900"
      ]
     },
     "execution_count": 60,
     "metadata": {},
     "output_type": "execute_result"
    }
   ],
   "source": [
    "salary_df"
   ]
  },
  {
   "cell_type": "markdown",
   "id": "58dd0e9e",
   "metadata": {},
   "source": [
    "## Removing Columns/Rows from a dataframe"
   ]
  },
  {
   "cell_type": "code",
   "execution_count": 61,
   "id": "0b43e70e",
   "metadata": {},
   "outputs": [],
   "source": [
    "salary_df = salary_df.drop(['September','October'],axis=1)"
   ]
  },
  {
   "cell_type": "code",
   "execution_count": 62,
   "id": "daef1924",
   "metadata": {},
   "outputs": [],
   "source": [
    "salary_df = salary_df.drop(['nick','maya'],axis=0)"
   ]
  },
  {
   "cell_type": "code",
   "execution_count": 63,
   "id": "17854bbb",
   "metadata": {},
   "outputs": [
    {
     "data": {
      "text/html": [
       "<div>\n",
       "<style scoped>\n",
       "    .dataframe tbody tr th:only-of-type {\n",
       "        vertical-align: middle;\n",
       "    }\n",
       "\n",
       "    .dataframe tbody tr th {\n",
       "        vertical-align: top;\n",
       "    }\n",
       "\n",
       "    .dataframe thead th {\n",
       "        text-align: right;\n",
       "    }\n",
       "</style>\n",
       "<table border=\"1\" class=\"dataframe\">\n",
       "  <thead>\n",
       "    <tr style=\"text-align: right;\">\n",
       "      <th></th>\n",
       "      <th>June</th>\n",
       "      <th>July</th>\n",
       "      <th>August</th>\n",
       "    </tr>\n",
       "  </thead>\n",
       "  <tbody>\n",
       "    <tr>\n",
       "      <th>jeff</th>\n",
       "      <td>2000</td>\n",
       "      <td>3000</td>\n",
       "      <td>3000</td>\n",
       "    </tr>\n",
       "    <tr>\n",
       "      <th>tom</th>\n",
       "      <td>2300</td>\n",
       "      <td>2500</td>\n",
       "      <td>2500</td>\n",
       "    </tr>\n",
       "    <tr>\n",
       "      <th>john</th>\n",
       "      <td>2500</td>\n",
       "      <td>2700</td>\n",
       "      <td>2700</td>\n",
       "    </tr>\n",
       "  </tbody>\n",
       "</table>\n",
       "</div>"
      ],
      "text/plain": [
       "      June  July  August\n",
       "jeff  2000  3000    3000\n",
       "tom   2300  2500    2500\n",
       "john  2500  2700    2700"
      ]
     },
     "execution_count": 63,
     "metadata": {},
     "output_type": "execute_result"
    }
   ],
   "source": [
    "salary_df"
   ]
  },
  {
   "cell_type": "markdown",
   "id": "e7a3561c",
   "metadata": {},
   "source": [
    "## Concatenating dataframes with hierarchical index"
   ]
  },
  {
   "cell_type": "code",
   "execution_count": 64,
   "id": "d9934bf2",
   "metadata": {},
   "outputs": [],
   "source": [
    "df_date_region1 = pd.DataFrame(\n",
    "    [('2022-02-04','East',97.0),\n",
    "     ('2022-02-04','West',243.0),\n",
    "     ('2022-02-05','East',160.0),\n",
    "     ('2022-02-05','West',35.0),\n",
    "     ('2022-02-06','East',110.0),\n",
    "     ('2022-02-06','West',86.0)],\n",
    "    columns = ['Date','Region','Total']).set_index(['Date','Region'])"
   ]
  },
  {
   "cell_type": "code",
   "execution_count": 65,
   "id": "c16c7ab1",
   "metadata": {},
   "outputs": [
    {
     "data": {
      "text/html": [
       "<div>\n",
       "<style scoped>\n",
       "    .dataframe tbody tr th:only-of-type {\n",
       "        vertical-align: middle;\n",
       "    }\n",
       "\n",
       "    .dataframe tbody tr th {\n",
       "        vertical-align: top;\n",
       "    }\n",
       "\n",
       "    .dataframe thead th {\n",
       "        text-align: right;\n",
       "    }\n",
       "</style>\n",
       "<table border=\"1\" class=\"dataframe\">\n",
       "  <thead>\n",
       "    <tr style=\"text-align: right;\">\n",
       "      <th></th>\n",
       "      <th></th>\n",
       "      <th>Total</th>\n",
       "    </tr>\n",
       "    <tr>\n",
       "      <th>Date</th>\n",
       "      <th>Region</th>\n",
       "      <th></th>\n",
       "    </tr>\n",
       "  </thead>\n",
       "  <tbody>\n",
       "    <tr>\n",
       "      <th rowspan=\"2\" valign=\"top\">2022-02-04</th>\n",
       "      <th>East</th>\n",
       "      <td>97.0</td>\n",
       "    </tr>\n",
       "    <tr>\n",
       "      <th>West</th>\n",
       "      <td>243.0</td>\n",
       "    </tr>\n",
       "    <tr>\n",
       "      <th rowspan=\"2\" valign=\"top\">2022-02-05</th>\n",
       "      <th>East</th>\n",
       "      <td>160.0</td>\n",
       "    </tr>\n",
       "    <tr>\n",
       "      <th>West</th>\n",
       "      <td>35.0</td>\n",
       "    </tr>\n",
       "    <tr>\n",
       "      <th rowspan=\"2\" valign=\"top\">2022-02-06</th>\n",
       "      <th>East</th>\n",
       "      <td>110.0</td>\n",
       "    </tr>\n",
       "    <tr>\n",
       "      <th>West</th>\n",
       "      <td>86.0</td>\n",
       "    </tr>\n",
       "  </tbody>\n",
       "</table>\n",
       "</div>"
      ],
      "text/plain": [
       "                   Total\n",
       "Date       Region       \n",
       "2022-02-04 East     97.0\n",
       "           West    243.0\n",
       "2022-02-05 East    160.0\n",
       "           West     35.0\n",
       "2022-02-06 East    110.0\n",
       "           West     86.0"
      ]
     },
     "execution_count": 65,
     "metadata": {},
     "output_type": "execute_result"
    }
   ],
   "source": [
    "df_date_region1"
   ]
  },
  {
   "cell_type": "code",
   "execution_count": 66,
   "id": "0154ab1a",
   "metadata": {},
   "outputs": [],
   "source": [
    "df_date_region2 = pd.DataFrame(\n",
    "    [('2022-02-04','South',114.0),\n",
    "     ('2022-02-05','South',325.0),\n",
    "     ('2022-02-06','South',212.0)],\n",
    "    columns=['Date','Region','Total']).set_index(['Date','Region'])"
   ]
  },
  {
   "cell_type": "code",
   "execution_count": 67,
   "id": "2140fa42",
   "metadata": {},
   "outputs": [
    {
     "data": {
      "text/html": [
       "<div>\n",
       "<style scoped>\n",
       "    .dataframe tbody tr th:only-of-type {\n",
       "        vertical-align: middle;\n",
       "    }\n",
       "\n",
       "    .dataframe tbody tr th {\n",
       "        vertical-align: top;\n",
       "    }\n",
       "\n",
       "    .dataframe thead th {\n",
       "        text-align: right;\n",
       "    }\n",
       "</style>\n",
       "<table border=\"1\" class=\"dataframe\">\n",
       "  <thead>\n",
       "    <tr style=\"text-align: right;\">\n",
       "      <th></th>\n",
       "      <th></th>\n",
       "      <th>Total</th>\n",
       "    </tr>\n",
       "    <tr>\n",
       "      <th>Date</th>\n",
       "      <th>Region</th>\n",
       "      <th></th>\n",
       "    </tr>\n",
       "  </thead>\n",
       "  <tbody>\n",
       "    <tr>\n",
       "      <th>2022-02-04</th>\n",
       "      <th>South</th>\n",
       "      <td>114.0</td>\n",
       "    </tr>\n",
       "    <tr>\n",
       "      <th>2022-02-05</th>\n",
       "      <th>South</th>\n",
       "      <td>325.0</td>\n",
       "    </tr>\n",
       "    <tr>\n",
       "      <th>2022-02-06</th>\n",
       "      <th>South</th>\n",
       "      <td>212.0</td>\n",
       "    </tr>\n",
       "  </tbody>\n",
       "</table>\n",
       "</div>"
      ],
      "text/plain": [
       "                   Total\n",
       "Date       Region       \n",
       "2022-02-04 South   114.0\n",
       "2022-02-05 South   325.0\n",
       "2022-02-06 South   212.0"
      ]
     },
     "execution_count": 67,
     "metadata": {},
     "output_type": "execute_result"
    }
   ],
   "source": [
    "df_date_region2"
   ]
  },
  {
   "cell_type": "code",
   "execution_count": 71,
   "id": "c04f3062",
   "metadata": {},
   "outputs": [],
   "source": [
    "# concatenate the 2 multi-index dataframes and sort by the index level\n",
    "df_date_region = pd.concat([df_date_region1, df_date_region2]).sort_index(level=['Date','Region'])"
   ]
  },
  {
   "cell_type": "code",
   "execution_count": 72,
   "id": "4457a1cb",
   "metadata": {},
   "outputs": [
    {
     "data": {
      "text/html": [
       "<div>\n",
       "<style scoped>\n",
       "    .dataframe tbody tr th:only-of-type {\n",
       "        vertical-align: middle;\n",
       "    }\n",
       "\n",
       "    .dataframe tbody tr th {\n",
       "        vertical-align: top;\n",
       "    }\n",
       "\n",
       "    .dataframe thead th {\n",
       "        text-align: right;\n",
       "    }\n",
       "</style>\n",
       "<table border=\"1\" class=\"dataframe\">\n",
       "  <thead>\n",
       "    <tr style=\"text-align: right;\">\n",
       "      <th></th>\n",
       "      <th></th>\n",
       "      <th>Total</th>\n",
       "    </tr>\n",
       "    <tr>\n",
       "      <th>Date</th>\n",
       "      <th>Region</th>\n",
       "      <th></th>\n",
       "    </tr>\n",
       "  </thead>\n",
       "  <tbody>\n",
       "    <tr>\n",
       "      <th rowspan=\"3\" valign=\"top\">2022-02-04</th>\n",
       "      <th>East</th>\n",
       "      <td>97.0</td>\n",
       "    </tr>\n",
       "    <tr>\n",
       "      <th>South</th>\n",
       "      <td>114.0</td>\n",
       "    </tr>\n",
       "    <tr>\n",
       "      <th>West</th>\n",
       "      <td>243.0</td>\n",
       "    </tr>\n",
       "    <tr>\n",
       "      <th rowspan=\"3\" valign=\"top\">2022-02-05</th>\n",
       "      <th>East</th>\n",
       "      <td>160.0</td>\n",
       "    </tr>\n",
       "    <tr>\n",
       "      <th>South</th>\n",
       "      <td>325.0</td>\n",
       "    </tr>\n",
       "    <tr>\n",
       "      <th>West</th>\n",
       "      <td>35.0</td>\n",
       "    </tr>\n",
       "    <tr>\n",
       "      <th rowspan=\"3\" valign=\"top\">2022-02-06</th>\n",
       "      <th>East</th>\n",
       "      <td>110.0</td>\n",
       "    </tr>\n",
       "    <tr>\n",
       "      <th>South</th>\n",
       "      <td>212.0</td>\n",
       "    </tr>\n",
       "    <tr>\n",
       "      <th>West</th>\n",
       "      <td>86.0</td>\n",
       "    </tr>\n",
       "  </tbody>\n",
       "</table>\n",
       "</div>"
      ],
      "text/plain": [
       "                   Total\n",
       "Date       Region       \n",
       "2022-02-04 East     97.0\n",
       "           South   114.0\n",
       "           West    243.0\n",
       "2022-02-05 East    160.0\n",
       "           South   325.0\n",
       "           West     35.0\n",
       "2022-02-06 East    110.0\n",
       "           South   212.0\n",
       "           West     86.0"
      ]
     },
     "execution_count": 72,
     "metadata": {},
     "output_type": "execute_result"
    }
   ],
   "source": [
    "df_date_region"
   ]
  },
  {
   "cell_type": "markdown",
   "id": "2e4151ba",
   "metadata": {},
   "source": [
    "## Implementing  a right join"
   ]
  },
  {
   "cell_type": "code",
   "execution_count": 73,
   "id": "254cd791",
   "metadata": {},
   "outputs": [],
   "source": [
    "import pandas as pd\n",
    "df_orders = pd.DataFrame(orders, columns = ['OrderNo','Date','Empno'])\n",
    "df_details = pd.DataFrame(details, columns = ['OrderNo','Item','Brand','Price','Quantity'])"
   ]
  },
  {
   "cell_type": "code",
   "execution_count": 75,
   "id": "f13e1201",
   "metadata": {},
   "outputs": [],
   "source": [
    "df_orders_details_right = df_orders.merge(df_details, how='right',\n",
    "                                         left_on='OrderNo', right_on='OrderNo')"
   ]
  },
  {
   "cell_type": "code",
   "execution_count": 76,
   "id": "73a366a5",
   "metadata": {},
   "outputs": [
    {
     "data": {
      "text/html": [
       "<div>\n",
       "<style scoped>\n",
       "    .dataframe tbody tr th:only-of-type {\n",
       "        vertical-align: middle;\n",
       "    }\n",
       "\n",
       "    .dataframe tbody tr th {\n",
       "        vertical-align: top;\n",
       "    }\n",
       "\n",
       "    .dataframe thead th {\n",
       "        text-align: right;\n",
       "    }\n",
       "</style>\n",
       "<table border=\"1\" class=\"dataframe\">\n",
       "  <thead>\n",
       "    <tr style=\"text-align: right;\">\n",
       "      <th></th>\n",
       "      <th>OrderNo</th>\n",
       "      <th>Date</th>\n",
       "      <th>Empno</th>\n",
       "      <th>Item</th>\n",
       "      <th>Brand</th>\n",
       "      <th>Price</th>\n",
       "      <th>Quantity</th>\n",
       "    </tr>\n",
       "  </thead>\n",
       "  <tbody>\n",
       "    <tr>\n",
       "      <th>0</th>\n",
       "      <td>9423517</td>\n",
       "      <td>2021-08-04</td>\n",
       "      <td>9001.0</td>\n",
       "      <td>Jeans</td>\n",
       "      <td>Rip Curl</td>\n",
       "      <td>87.0</td>\n",
       "      <td>1</td>\n",
       "    </tr>\n",
       "    <tr>\n",
       "      <th>1</th>\n",
       "      <td>9423517</td>\n",
       "      <td>2021-08-04</td>\n",
       "      <td>9001.0</td>\n",
       "      <td>Jacket</td>\n",
       "      <td>The North Face</td>\n",
       "      <td>112.0</td>\n",
       "      <td>1</td>\n",
       "    </tr>\n",
       "    <tr>\n",
       "      <th>2</th>\n",
       "      <td>4626232</td>\n",
       "      <td>2021-08-04</td>\n",
       "      <td>9003.0</td>\n",
       "      <td>Socks</td>\n",
       "      <td>Vans</td>\n",
       "      <td>15.0</td>\n",
       "      <td>1</td>\n",
       "    </tr>\n",
       "    <tr>\n",
       "      <th>3</th>\n",
       "      <td>4626232</td>\n",
       "      <td>2021-08-04</td>\n",
       "      <td>9003.0</td>\n",
       "      <td>Jeans</td>\n",
       "      <td>Quiksilver</td>\n",
       "      <td>82.0</td>\n",
       "      <td>1</td>\n",
       "    </tr>\n",
       "    <tr>\n",
       "      <th>4</th>\n",
       "      <td>9423534</td>\n",
       "      <td>2021-08-04</td>\n",
       "      <td>9001.0</td>\n",
       "      <td>Socks</td>\n",
       "      <td>DC</td>\n",
       "      <td>10.0</td>\n",
       "      <td>2</td>\n",
       "    </tr>\n",
       "    <tr>\n",
       "      <th>5</th>\n",
       "      <td>9423534</td>\n",
       "      <td>2021-08-04</td>\n",
       "      <td>9001.0</td>\n",
       "      <td>Socks</td>\n",
       "      <td>Quiksilver</td>\n",
       "      <td>12.0</td>\n",
       "      <td>2</td>\n",
       "    </tr>\n",
       "    <tr>\n",
       "      <th>6</th>\n",
       "      <td>9423679</td>\n",
       "      <td>2021-08-05</td>\n",
       "      <td>9002.0</td>\n",
       "      <td>T-shirt</td>\n",
       "      <td>Patagonia</td>\n",
       "      <td>35.0</td>\n",
       "      <td>1</td>\n",
       "    </tr>\n",
       "    <tr>\n",
       "      <th>7</th>\n",
       "      <td>4626377</td>\n",
       "      <td>2021-08-05</td>\n",
       "      <td>9003.0</td>\n",
       "      <td>Hoody</td>\n",
       "      <td>Animal</td>\n",
       "      <td>44.0</td>\n",
       "      <td>1</td>\n",
       "    </tr>\n",
       "    <tr>\n",
       "      <th>8</th>\n",
       "      <td>4626377</td>\n",
       "      <td>2021-08-05</td>\n",
       "      <td>9003.0</td>\n",
       "      <td>Cargo Shorts</td>\n",
       "      <td>Animal</td>\n",
       "      <td>38.0</td>\n",
       "      <td>1</td>\n",
       "    </tr>\n",
       "    <tr>\n",
       "      <th>9</th>\n",
       "      <td>4626412</td>\n",
       "      <td>2021-08-05</td>\n",
       "      <td>9004.0</td>\n",
       "      <td>Shirt</td>\n",
       "      <td>Volcom</td>\n",
       "      <td>78.0</td>\n",
       "      <td>1</td>\n",
       "    </tr>\n",
       "    <tr>\n",
       "      <th>10</th>\n",
       "      <td>9423783</td>\n",
       "      <td>2021-08-06</td>\n",
       "      <td>9002.0</td>\n",
       "      <td>Boxer Shorts</td>\n",
       "      <td>Superdry</td>\n",
       "      <td>30.0</td>\n",
       "      <td>2</td>\n",
       "    </tr>\n",
       "    <tr>\n",
       "      <th>11</th>\n",
       "      <td>9423783</td>\n",
       "      <td>2021-08-06</td>\n",
       "      <td>9002.0</td>\n",
       "      <td>Shorts</td>\n",
       "      <td>Globe</td>\n",
       "      <td>26.0</td>\n",
       "      <td>1</td>\n",
       "    </tr>\n",
       "    <tr>\n",
       "      <th>12</th>\n",
       "      <td>4626490</td>\n",
       "      <td>2021-08-06</td>\n",
       "      <td>9004.0</td>\n",
       "      <td>Cargo Shorts</td>\n",
       "      <td>Billabong</td>\n",
       "      <td>54.0</td>\n",
       "      <td>1</td>\n",
       "    </tr>\n",
       "    <tr>\n",
       "      <th>13</th>\n",
       "      <td>4626490</td>\n",
       "      <td>2021-08-06</td>\n",
       "      <td>9004.0</td>\n",
       "      <td>Sweater</td>\n",
       "      <td>Dickies</td>\n",
       "      <td>56.0</td>\n",
       "      <td>1</td>\n",
       "    </tr>\n",
       "    <tr>\n",
       "      <th>14</th>\n",
       "      <td>4626592</td>\n",
       "      <td>NaN</td>\n",
       "      <td>NaN</td>\n",
       "      <td>Shorts</td>\n",
       "      <td>Protest</td>\n",
       "      <td>48.0</td>\n",
       "      <td>1</td>\n",
       "    </tr>\n",
       "  </tbody>\n",
       "</table>\n",
       "</div>"
      ],
      "text/plain": [
       "    OrderNo        Date   Empno          Item           Brand  Price  Quantity\n",
       "0   9423517  2021-08-04  9001.0         Jeans        Rip Curl   87.0         1\n",
       "1   9423517  2021-08-04  9001.0        Jacket  The North Face  112.0         1\n",
       "2   4626232  2021-08-04  9003.0         Socks            Vans   15.0         1\n",
       "3   4626232  2021-08-04  9003.0         Jeans      Quiksilver   82.0         1\n",
       "4   9423534  2021-08-04  9001.0         Socks              DC   10.0         2\n",
       "5   9423534  2021-08-04  9001.0         Socks      Quiksilver   12.0         2\n",
       "6   9423679  2021-08-05  9002.0       T-shirt       Patagonia   35.0         1\n",
       "7   4626377  2021-08-05  9003.0         Hoody          Animal   44.0         1\n",
       "8   4626377  2021-08-05  9003.0  Cargo Shorts          Animal   38.0         1\n",
       "9   4626412  2021-08-05  9004.0         Shirt          Volcom   78.0         1\n",
       "10  9423783  2021-08-06  9002.0  Boxer Shorts        Superdry   30.0         2\n",
       "11  9423783  2021-08-06  9002.0        Shorts           Globe   26.0         1\n",
       "12  4626490  2021-08-06  9004.0  Cargo Shorts       Billabong   54.0         1\n",
       "13  4626490  2021-08-06  9004.0       Sweater         Dickies   56.0         1\n",
       "14  4626592         NaN     NaN        Shorts         Protest   48.0         1"
      ]
     },
     "execution_count": 76,
     "metadata": {},
     "output_type": "execute_result"
    }
   ],
   "source": [
    "df_orders_details_right"
   ]
  },
  {
   "cell_type": "code",
   "execution_count": 77,
   "id": "51733dcd",
   "metadata": {},
   "outputs": [
    {
     "name": "stdout",
     "output_type": "stream",
     "text": [
      "OrderNo       int64\n",
      "Date         object\n",
      "Empno       float64\n",
      "Item         object\n",
      "Brand        object\n",
      "Price       float64\n",
      "Quantity      int64\n",
      "dtype: object\n"
     ]
    }
   ],
   "source": [
    "print(df_orders_details_right.dtypes)"
   ]
  },
  {
   "cell_type": "code",
   "execution_count": 78,
   "id": "f794067e",
   "metadata": {},
   "outputs": [
    {
     "name": "stdout",
     "output_type": "stream",
     "text": [
      "<class 'pandas.core.frame.DataFrame'>\n",
      "RangeIndex: 15 entries, 0 to 14\n",
      "Data columns (total 7 columns):\n",
      " #   Column    Non-Null Count  Dtype  \n",
      "---  ------    --------------  -----  \n",
      " 0   OrderNo   15 non-null     int64  \n",
      " 1   Date      14 non-null     object \n",
      " 2   Empno     14 non-null     float64\n",
      " 3   Item      15 non-null     object \n",
      " 4   Brand     15 non-null     object \n",
      " 5   Price     15 non-null     float64\n",
      " 6   Quantity  15 non-null     int64  \n",
      "dtypes: float64(2), int64(2), object(3)\n",
      "memory usage: 972.0+ bytes\n"
     ]
    }
   ],
   "source": [
    "df_orders_details_right.info()"
   ]
  },
  {
   "cell_type": "code",
   "execution_count": 79,
   "id": "33586f8d",
   "metadata": {},
   "outputs": [],
   "source": [
    "df_orders_details_right = df_orders_details_right.fillna({'Empno':0}).astype({'Empno':'int64'})"
   ]
  },
  {
   "cell_type": "code",
   "execution_count": 81,
   "id": "cff3099c",
   "metadata": {},
   "outputs": [
    {
     "data": {
      "text/html": [
       "<div>\n",
       "<style scoped>\n",
       "    .dataframe tbody tr th:only-of-type {\n",
       "        vertical-align: middle;\n",
       "    }\n",
       "\n",
       "    .dataframe tbody tr th {\n",
       "        vertical-align: top;\n",
       "    }\n",
       "\n",
       "    .dataframe thead th {\n",
       "        text-align: right;\n",
       "    }\n",
       "</style>\n",
       "<table border=\"1\" class=\"dataframe\">\n",
       "  <thead>\n",
       "    <tr style=\"text-align: right;\">\n",
       "      <th></th>\n",
       "      <th>OrderNo</th>\n",
       "      <th>Date</th>\n",
       "      <th>Empno</th>\n",
       "      <th>Item</th>\n",
       "      <th>Brand</th>\n",
       "      <th>Price</th>\n",
       "      <th>Quantity</th>\n",
       "    </tr>\n",
       "  </thead>\n",
       "  <tbody>\n",
       "    <tr>\n",
       "      <th>0</th>\n",
       "      <td>9423517</td>\n",
       "      <td>2021-08-04</td>\n",
       "      <td>9001</td>\n",
       "      <td>Jeans</td>\n",
       "      <td>Rip Curl</td>\n",
       "      <td>87.0</td>\n",
       "      <td>1</td>\n",
       "    </tr>\n",
       "    <tr>\n",
       "      <th>1</th>\n",
       "      <td>9423517</td>\n",
       "      <td>2021-08-04</td>\n",
       "      <td>9001</td>\n",
       "      <td>Jacket</td>\n",
       "      <td>The North Face</td>\n",
       "      <td>112.0</td>\n",
       "      <td>1</td>\n",
       "    </tr>\n",
       "    <tr>\n",
       "      <th>2</th>\n",
       "      <td>4626232</td>\n",
       "      <td>2021-08-04</td>\n",
       "      <td>9003</td>\n",
       "      <td>Socks</td>\n",
       "      <td>Vans</td>\n",
       "      <td>15.0</td>\n",
       "      <td>1</td>\n",
       "    </tr>\n",
       "    <tr>\n",
       "      <th>3</th>\n",
       "      <td>4626232</td>\n",
       "      <td>2021-08-04</td>\n",
       "      <td>9003</td>\n",
       "      <td>Jeans</td>\n",
       "      <td>Quiksilver</td>\n",
       "      <td>82.0</td>\n",
       "      <td>1</td>\n",
       "    </tr>\n",
       "    <tr>\n",
       "      <th>4</th>\n",
       "      <td>9423534</td>\n",
       "      <td>2021-08-04</td>\n",
       "      <td>9001</td>\n",
       "      <td>Socks</td>\n",
       "      <td>DC</td>\n",
       "      <td>10.0</td>\n",
       "      <td>2</td>\n",
       "    </tr>\n",
       "    <tr>\n",
       "      <th>5</th>\n",
       "      <td>9423534</td>\n",
       "      <td>2021-08-04</td>\n",
       "      <td>9001</td>\n",
       "      <td>Socks</td>\n",
       "      <td>Quiksilver</td>\n",
       "      <td>12.0</td>\n",
       "      <td>2</td>\n",
       "    </tr>\n",
       "    <tr>\n",
       "      <th>6</th>\n",
       "      <td>9423679</td>\n",
       "      <td>2021-08-05</td>\n",
       "      <td>9002</td>\n",
       "      <td>T-shirt</td>\n",
       "      <td>Patagonia</td>\n",
       "      <td>35.0</td>\n",
       "      <td>1</td>\n",
       "    </tr>\n",
       "    <tr>\n",
       "      <th>7</th>\n",
       "      <td>4626377</td>\n",
       "      <td>2021-08-05</td>\n",
       "      <td>9003</td>\n",
       "      <td>Hoody</td>\n",
       "      <td>Animal</td>\n",
       "      <td>44.0</td>\n",
       "      <td>1</td>\n",
       "    </tr>\n",
       "    <tr>\n",
       "      <th>8</th>\n",
       "      <td>4626377</td>\n",
       "      <td>2021-08-05</td>\n",
       "      <td>9003</td>\n",
       "      <td>Cargo Shorts</td>\n",
       "      <td>Animal</td>\n",
       "      <td>38.0</td>\n",
       "      <td>1</td>\n",
       "    </tr>\n",
       "    <tr>\n",
       "      <th>9</th>\n",
       "      <td>4626412</td>\n",
       "      <td>2021-08-05</td>\n",
       "      <td>9004</td>\n",
       "      <td>Shirt</td>\n",
       "      <td>Volcom</td>\n",
       "      <td>78.0</td>\n",
       "      <td>1</td>\n",
       "    </tr>\n",
       "    <tr>\n",
       "      <th>10</th>\n",
       "      <td>9423783</td>\n",
       "      <td>2021-08-06</td>\n",
       "      <td>9002</td>\n",
       "      <td>Boxer Shorts</td>\n",
       "      <td>Superdry</td>\n",
       "      <td>30.0</td>\n",
       "      <td>2</td>\n",
       "    </tr>\n",
       "    <tr>\n",
       "      <th>11</th>\n",
       "      <td>9423783</td>\n",
       "      <td>2021-08-06</td>\n",
       "      <td>9002</td>\n",
       "      <td>Shorts</td>\n",
       "      <td>Globe</td>\n",
       "      <td>26.0</td>\n",
       "      <td>1</td>\n",
       "    </tr>\n",
       "    <tr>\n",
       "      <th>12</th>\n",
       "      <td>4626490</td>\n",
       "      <td>2021-08-06</td>\n",
       "      <td>9004</td>\n",
       "      <td>Cargo Shorts</td>\n",
       "      <td>Billabong</td>\n",
       "      <td>54.0</td>\n",
       "      <td>1</td>\n",
       "    </tr>\n",
       "    <tr>\n",
       "      <th>13</th>\n",
       "      <td>4626490</td>\n",
       "      <td>2021-08-06</td>\n",
       "      <td>9004</td>\n",
       "      <td>Sweater</td>\n",
       "      <td>Dickies</td>\n",
       "      <td>56.0</td>\n",
       "      <td>1</td>\n",
       "    </tr>\n",
       "    <tr>\n",
       "      <th>14</th>\n",
       "      <td>4626592</td>\n",
       "      <td>NaN</td>\n",
       "      <td>0</td>\n",
       "      <td>Shorts</td>\n",
       "      <td>Protest</td>\n",
       "      <td>48.0</td>\n",
       "      <td>1</td>\n",
       "    </tr>\n",
       "  </tbody>\n",
       "</table>\n",
       "</div>"
      ],
      "text/plain": [
       "    OrderNo        Date  Empno          Item           Brand  Price  Quantity\n",
       "0   9423517  2021-08-04   9001         Jeans        Rip Curl   87.0         1\n",
       "1   9423517  2021-08-04   9001        Jacket  The North Face  112.0         1\n",
       "2   4626232  2021-08-04   9003         Socks            Vans   15.0         1\n",
       "3   4626232  2021-08-04   9003         Jeans      Quiksilver   82.0         1\n",
       "4   9423534  2021-08-04   9001         Socks              DC   10.0         2\n",
       "5   9423534  2021-08-04   9001         Socks      Quiksilver   12.0         2\n",
       "6   9423679  2021-08-05   9002       T-shirt       Patagonia   35.0         1\n",
       "7   4626377  2021-08-05   9003         Hoody          Animal   44.0         1\n",
       "8   4626377  2021-08-05   9003  Cargo Shorts          Animal   38.0         1\n",
       "9   4626412  2021-08-05   9004         Shirt          Volcom   78.0         1\n",
       "10  9423783  2021-08-06   9002  Boxer Shorts        Superdry   30.0         2\n",
       "11  9423783  2021-08-06   9002        Shorts           Globe   26.0         1\n",
       "12  4626490  2021-08-06   9004  Cargo Shorts       Billabong   54.0         1\n",
       "13  4626490  2021-08-06   9004       Sweater         Dickies   56.0         1\n",
       "14  4626592         NaN      0        Shorts         Protest   48.0         1"
      ]
     },
     "execution_count": 81,
     "metadata": {},
     "output_type": "execute_result"
    }
   ],
   "source": [
    "df_orders_details_right"
   ]
  },
  {
   "cell_type": "code",
   "execution_count": 82,
   "id": "cccde82e",
   "metadata": {},
   "outputs": [
    {
     "name": "stdout",
     "output_type": "stream",
     "text": [
      "<class 'pandas.core.frame.DataFrame'>\n",
      "RangeIndex: 15 entries, 0 to 14\n",
      "Data columns (total 7 columns):\n",
      " #   Column    Non-Null Count  Dtype  \n",
      "---  ------    --------------  -----  \n",
      " 0   OrderNo   15 non-null     int64  \n",
      " 1   Date      14 non-null     object \n",
      " 2   Empno     15 non-null     int64  \n",
      " 3   Item      15 non-null     object \n",
      " 4   Brand     15 non-null     object \n",
      " 5   Price     15 non-null     float64\n",
      " 6   Quantity  15 non-null     int64  \n",
      "dtypes: float64(1), int64(3), object(3)\n",
      "memory usage: 972.0+ bytes\n"
     ]
    }
   ],
   "source": [
    "df_orders_details_right.info()"
   ]
  },
  {
   "cell_type": "markdown",
   "id": "434cb48c",
   "metadata": {},
   "source": [
    "## Implementing a many-to-many join"
   ]
  },
  {
   "cell_type": "code",
   "execution_count": 83,
   "id": "8a11d88f",
   "metadata": {},
   "outputs": [],
   "source": [
    "import pandas as pd"
   ]
  },
  {
   "cell_type": "code",
   "execution_count": 84,
   "id": "2808b73f",
   "metadata": {},
   "outputs": [],
   "source": [
    "books = pd.DataFrame({'book_id':['b1','b2','b3'],\n",
    "                      'title':['Beautiful Coding', 'Python for Web Development','Pythonic Thinking'],\n",
    "                      'topic':['programming','Python, Web','Python']\n",
    "                     })\n",
    "authors = pd.DataFrame({'author_id':['jsn','tri','wsn'],\n",
    "                        'author':['Johnson','Treloni','Willson']\n",
    "                       })"
   ]
  },
  {
   "cell_type": "code",
   "execution_count": 86,
   "id": "60ef7f50",
   "metadata": {},
   "outputs": [],
   "source": [
    "matching = pd.DataFrame({'author_id':['jsn','jsn','tri','wsn'],\n",
    "                         'book_id':['b1','b2','b2','b3']\n",
    "                        })"
   ]
  },
  {
   "cell_type": "code",
   "execution_count": 87,
   "id": "19e7e9f2",
   "metadata": {},
   "outputs": [
    {
     "data": {
      "text/html": [
       "<div>\n",
       "<style scoped>\n",
       "    .dataframe tbody tr th:only-of-type {\n",
       "        vertical-align: middle;\n",
       "    }\n",
       "\n",
       "    .dataframe tbody tr th {\n",
       "        vertical-align: top;\n",
       "    }\n",
       "\n",
       "    .dataframe thead th {\n",
       "        text-align: right;\n",
       "    }\n",
       "</style>\n",
       "<table border=\"1\" class=\"dataframe\">\n",
       "  <thead>\n",
       "    <tr style=\"text-align: right;\">\n",
       "      <th></th>\n",
       "      <th>author_id</th>\n",
       "      <th>book_id</th>\n",
       "    </tr>\n",
       "  </thead>\n",
       "  <tbody>\n",
       "    <tr>\n",
       "      <th>0</th>\n",
       "      <td>jsn</td>\n",
       "      <td>b1</td>\n",
       "    </tr>\n",
       "    <tr>\n",
       "      <th>1</th>\n",
       "      <td>jsn</td>\n",
       "      <td>b2</td>\n",
       "    </tr>\n",
       "    <tr>\n",
       "      <th>2</th>\n",
       "      <td>tri</td>\n",
       "      <td>b2</td>\n",
       "    </tr>\n",
       "    <tr>\n",
       "      <th>3</th>\n",
       "      <td>wsn</td>\n",
       "      <td>b3</td>\n",
       "    </tr>\n",
       "  </tbody>\n",
       "</table>\n",
       "</div>"
      ],
      "text/plain": [
       "  author_id book_id\n",
       "0       jsn      b1\n",
       "1       jsn      b2\n",
       "2       tri      b2\n",
       "3       wsn      b3"
      ]
     },
     "execution_count": 87,
     "metadata": {},
     "output_type": "execute_result"
    }
   ],
   "source": [
    "matching"
   ]
  },
  {
   "cell_type": "code",
   "execution_count": 88,
   "id": "9b975e8f",
   "metadata": {},
   "outputs": [],
   "source": [
    "# merge the 2 dataframes together using the matching dataframe as an intermediary\n",
    "authorship = books.merge(matching).merge(authors)[['title','topic','author']]"
   ]
  },
  {
   "cell_type": "code",
   "execution_count": 89,
   "id": "7112e8f1",
   "metadata": {},
   "outputs": [
    {
     "data": {
      "text/html": [
       "<div>\n",
       "<style scoped>\n",
       "    .dataframe tbody tr th:only-of-type {\n",
       "        vertical-align: middle;\n",
       "    }\n",
       "\n",
       "    .dataframe tbody tr th {\n",
       "        vertical-align: top;\n",
       "    }\n",
       "\n",
       "    .dataframe thead th {\n",
       "        text-align: right;\n",
       "    }\n",
       "</style>\n",
       "<table border=\"1\" class=\"dataframe\">\n",
       "  <thead>\n",
       "    <tr style=\"text-align: right;\">\n",
       "      <th></th>\n",
       "      <th>title</th>\n",
       "      <th>topic</th>\n",
       "      <th>author</th>\n",
       "    </tr>\n",
       "  </thead>\n",
       "  <tbody>\n",
       "    <tr>\n",
       "      <th>0</th>\n",
       "      <td>Beautiful Coding</td>\n",
       "      <td>programming</td>\n",
       "      <td>Johnson</td>\n",
       "    </tr>\n",
       "    <tr>\n",
       "      <th>1</th>\n",
       "      <td>Python for Web Development</td>\n",
       "      <td>Python, Web</td>\n",
       "      <td>Johnson</td>\n",
       "    </tr>\n",
       "    <tr>\n",
       "      <th>2</th>\n",
       "      <td>Python for Web Development</td>\n",
       "      <td>Python, Web</td>\n",
       "      <td>Treloni</td>\n",
       "    </tr>\n",
       "    <tr>\n",
       "      <th>3</th>\n",
       "      <td>Pythonic Thinking</td>\n",
       "      <td>Python</td>\n",
       "      <td>Willson</td>\n",
       "    </tr>\n",
       "  </tbody>\n",
       "</table>\n",
       "</div>"
      ],
      "text/plain": [
       "                        title        topic   author\n",
       "0            Beautiful Coding  programming  Johnson\n",
       "1  Python for Web Development  Python, Web  Johnson\n",
       "2  Python for Web Development  Python, Web  Treloni\n",
       "3           Pythonic Thinking       Python  Willson"
      ]
     },
     "execution_count": 89,
     "metadata": {},
     "output_type": "execute_result"
    }
   ],
   "source": [
    "authorship"
   ]
  },
  {
   "cell_type": "code",
   "execution_count": null,
   "id": "2ad6d8a0",
   "metadata": {},
   "outputs": [],
   "source": []
  }
 ],
 "metadata": {
  "kernelspec": {
   "display_name": "Python 3 (ipykernel)",
   "language": "python",
   "name": "python3"
  },
  "language_info": {
   "codemirror_mode": {
    "name": "ipython",
    "version": 3
   },
   "file_extension": ".py",
   "mimetype": "text/x-python",
   "name": "python",
   "nbconvert_exporter": "python",
   "pygments_lexer": "ipython3",
   "version": "3.11.7"
  }
 },
 "nbformat": 4,
 "nbformat_minor": 5
}
