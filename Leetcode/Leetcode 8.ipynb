{
 "cells": [
  {
   "cell_type": "code",
   "execution_count": 78,
   "id": "2743ad82",
   "metadata": {},
   "outputs": [],
   "source": [
    "import numpy as np\n",
    "def myAtoi(s: str) -> int:\n",
    "    s = s.strip()\n",
    "    y=[]\n",
    "    x=1\n",
    "    value = 0\n",
    "    \n",
    "    if s[0] == '-':\n",
    "        x = -1\n",
    "        s = s[1:]\n",
    "    if s[0] == '+':\n",
    "        s = s[1:]        \n",
    "        \n",
    "    for i, num in enumerate(list(s)):\n",
    "        if s[i] == 0 and y==[]:\n",
    "            continue\n",
    "        elif s[i].isnumeric():\n",
    "            y.append(s[i])\n",
    "        else:\n",
    "            break\n",
    "    if y==[]:\n",
    "       return value \n",
    "    else:    \n",
    "        value = int(''.join(map(str,y)))*x\n",
    "    return value\n",
    "    "
   ]
  },
  {
   "cell_type": "code",
   "execution_count": 83,
   "id": "afdd65ce",
   "metadata": {},
   "outputs": [
    {
     "data": {
      "text/plain": [
       "42"
      ]
     },
     "execution_count": 83,
     "metadata": {},
     "output_type": "execute_result"
    }
   ],
   "source": [
    "myAtoi('042')"
   ]
  },
  {
   "cell_type": "code",
   "execution_count": 98,
   "id": "78177d8a",
   "metadata": {},
   "outputs": [],
   "source": [
    "import numpy as np\n",
    "def myAtoi(s: str) -> int:\n",
    "    s = s.strip()\n",
    "    \n",
    "    if not s:\n",
    "        return 0\n",
    "    \n",
    "    i=0\n",
    "    sign=1\n",
    "    \n",
    "    if s[i] == '-':\n",
    "        sign = -1\n",
    "        i +=1\n",
    "    elif s[i] == '+':\n",
    "        i +=1        \n",
    "    \n",
    "    parsed = 0\n",
    "    \n",
    "    while i < len(s):\n",
    "        cur = s[i]\n",
    "        if not cur.isdigit():\n",
    "            break\n",
    "        else:\n",
    "            parsed = parsed * 10 + int(cur)\n",
    "        i += 1\n",
    "        \n",
    "    parsed *= sign\n",
    "    \n",
    "    if parsed > 2**31-1:\n",
    "        return 2**31-1\n",
    "    elif parsed <= -2**31:\n",
    "        return -2**31\n",
    "    else:\n",
    "        return parsed"
   ]
  },
  {
   "cell_type": "code",
   "execution_count": 99,
   "id": "55ce87a8",
   "metadata": {},
   "outputs": [
    {
     "data": {
      "text/plain": [
       "-13444"
      ]
     },
     "execution_count": 99,
     "metadata": {},
     "output_type": "execute_result"
    }
   ],
   "source": [
    "myAtoi('-013444ggff')"
   ]
  },
  {
   "cell_type": "code",
   "execution_count": null,
   "id": "2f4aa8e5",
   "metadata": {},
   "outputs": [],
   "source": []
  },
  {
   "cell_type": "code",
   "execution_count": null,
   "id": "b040e7f9",
   "metadata": {},
   "outputs": [],
   "source": []
  }
 ],
 "metadata": {
  "kernelspec": {
   "display_name": "Python 3 (ipykernel)",
   "language": "python",
   "name": "python3"
  },
  "language_info": {
   "codemirror_mode": {
    "name": "ipython",
    "version": 3
   },
   "file_extension": ".py",
   "mimetype": "text/x-python",
   "name": "python",
   "nbconvert_exporter": "python",
   "pygments_lexer": "ipython3",
   "version": "3.11.7"
  }
 },
 "nbformat": 4,
 "nbformat_minor": 5
}
