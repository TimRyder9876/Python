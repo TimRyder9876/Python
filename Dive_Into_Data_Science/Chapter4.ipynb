{
 "cells": [
  {
   "cell_type": "code",
   "execution_count": 29,
   "id": "33d3f566",
   "metadata": {},
   "outputs": [],
   "source": [
    "import pandas as pd"
   ]
  },
  {
   "cell_type": "code",
   "execution_count": 30,
   "id": "befd516e",
   "metadata": {},
   "outputs": [],
   "source": [
    "desktop = pd.read_csv('desktop.csv')\n",
    "laptop = pd.read_csv('laptop.csv')"
   ]
  },
  {
   "cell_type": "code",
   "execution_count": 31,
   "id": "0715af39",
   "metadata": {},
   "outputs": [
    {
     "data": {
      "text/html": [
       "<div>\n",
       "<style scoped>\n",
       "    .dataframe tbody tr th:only-of-type {\n",
       "        vertical-align: middle;\n",
       "    }\n",
       "\n",
       "    .dataframe tbody tr th {\n",
       "        vertical-align: top;\n",
       "    }\n",
       "\n",
       "    .dataframe thead th {\n",
       "        text-align: right;\n",
       "    }\n",
       "</style>\n",
       "<table border=\"1\" class=\"dataframe\">\n",
       "  <thead>\n",
       "    <tr style=\"text-align: right;\">\n",
       "      <th></th>\n",
       "      <th>userid</th>\n",
       "      <th>spending</th>\n",
       "      <th>age</th>\n",
       "      <th>visits</th>\n",
       "    </tr>\n",
       "  </thead>\n",
       "  <tbody>\n",
       "    <tr>\n",
       "      <th>0</th>\n",
       "      <td>1</td>\n",
       "      <td>1250</td>\n",
       "      <td>31</td>\n",
       "      <td>126</td>\n",
       "    </tr>\n",
       "    <tr>\n",
       "      <th>1</th>\n",
       "      <td>2</td>\n",
       "      <td>900</td>\n",
       "      <td>27</td>\n",
       "      <td>5</td>\n",
       "    </tr>\n",
       "    <tr>\n",
       "      <th>2</th>\n",
       "      <td>3</td>\n",
       "      <td>0</td>\n",
       "      <td>30</td>\n",
       "      <td>459</td>\n",
       "    </tr>\n",
       "  </tbody>\n",
       "</table>\n",
       "</div>"
      ],
      "text/plain": [
       "   userid  spending  age  visits\n",
       "0       1      1250   31     126\n",
       "1       2       900   27       5\n",
       "2       3         0   30     459"
      ]
     },
     "execution_count": 31,
     "metadata": {},
     "output_type": "execute_result"
    }
   ],
   "source": [
    "desktop.head(3)"
   ]
  },
  {
   "cell_type": "code",
   "execution_count": 32,
   "id": "524d80d5",
   "metadata": {},
   "outputs": [
    {
     "data": {
      "text/html": [
       "<div>\n",
       "<style scoped>\n",
       "    .dataframe tbody tr th:only-of-type {\n",
       "        vertical-align: middle;\n",
       "    }\n",
       "\n",
       "    .dataframe tbody tr th {\n",
       "        vertical-align: top;\n",
       "    }\n",
       "\n",
       "    .dataframe thead th {\n",
       "        text-align: right;\n",
       "    }\n",
       "</style>\n",
       "<table border=\"1\" class=\"dataframe\">\n",
       "  <thead>\n",
       "    <tr style=\"text-align: right;\">\n",
       "      <th></th>\n",
       "      <th>userid</th>\n",
       "      <th>spending</th>\n",
       "      <th>age</th>\n",
       "      <th>visits</th>\n",
       "    </tr>\n",
       "  </thead>\n",
       "  <tbody>\n",
       "    <tr>\n",
       "      <th>0</th>\n",
       "      <td>31</td>\n",
       "      <td>1499</td>\n",
       "      <td>32</td>\n",
       "      <td>12</td>\n",
       "    </tr>\n",
       "    <tr>\n",
       "      <th>1</th>\n",
       "      <td>32</td>\n",
       "      <td>799</td>\n",
       "      <td>23</td>\n",
       "      <td>40</td>\n",
       "    </tr>\n",
       "    <tr>\n",
       "      <th>2</th>\n",
       "      <td>33</td>\n",
       "      <td>1200</td>\n",
       "      <td>45</td>\n",
       "      <td>22</td>\n",
       "    </tr>\n",
       "  </tbody>\n",
       "</table>\n",
       "</div>"
      ],
      "text/plain": [
       "   userid  spending  age  visits\n",
       "0      31      1499   32      12\n",
       "1      32       799   23      40\n",
       "2      33      1200   45      22"
      ]
     },
     "execution_count": 32,
     "metadata": {},
     "output_type": "execute_result"
    }
   ],
   "source": [
    "laptop.head(3)"
   ]
  },
  {
   "cell_type": "code",
   "execution_count": 33,
   "id": "4b29e0be",
   "metadata": {},
   "outputs": [],
   "source": [
    "from scipy.stats import ttest_ind"
   ]
  },
  {
   "cell_type": "code",
   "execution_count": 34,
   "id": "5ceb5ada",
   "metadata": {},
   "outputs": [
    {
     "data": {
      "text/plain": [
       "TtestResult(statistic=-2.109853741030508, pvalue=0.03919630411621095, df=58.0)"
      ]
     },
     "execution_count": 34,
     "metadata": {},
     "output_type": "execute_result"
    }
   ],
   "source": [
    "ttest_ind(desktop['spending'],laptop['spending'])"
   ]
  },
  {
   "cell_type": "code",
   "execution_count": 35,
   "id": "80731435",
   "metadata": {},
   "outputs": [
    {
     "data": {
      "text/plain": [
       "TtestResult(statistic=-0.7101437106800108, pvalue=0.4804606394128761, df=58.0)"
      ]
     },
     "execution_count": 35,
     "metadata": {},
     "output_type": "execute_result"
    }
   ],
   "source": [
    "ttest_ind(desktop['age'],laptop['age'])"
   ]
  },
  {
   "cell_type": "code",
   "execution_count": 36,
   "id": "7de954ee",
   "metadata": {},
   "outputs": [
    {
     "data": {
      "text/plain": [
       "TtestResult(statistic=0.20626752311535543, pvalue=0.8373043059847984, df=58.0)"
      ]
     },
     "execution_count": 36,
     "metadata": {},
     "output_type": "execute_result"
    }
   ],
   "source": [
    "ttest_ind(desktop['visits'],laptop['visits'])"
   ]
  },
  {
   "cell_type": "markdown",
   "id": "becfaa17",
   "metadata": {},
   "source": [
    "## Running experiments to test new hypothesis"
   ]
  },
  {
   "cell_type": "code",
   "execution_count": 37,
   "id": "9f3df63e",
   "metadata": {},
   "outputs": [],
   "source": [
    "import numpy as np"
   ]
  },
  {
   "cell_type": "code",
   "execution_count": 38,
   "id": "180abf6d",
   "metadata": {},
   "outputs": [],
   "source": [
    "# split the desktop sample into 2 groups by the median age of customers\n",
    "medianage=np.median(desktop['age'])\n",
    "groupa=desktop.loc[desktop['age']<=medianage,:]\n",
    "groupb=desktop.loc[desktop['age']>medianage,:]"
   ]
  },
  {
   "cell_type": "code",
   "execution_count": 39,
   "id": "b3f86d69",
   "metadata": {},
   "outputs": [],
   "source": [
    "emailresults1 = pd.read_csv('emailresults1.csv')"
   ]
  },
  {
   "cell_type": "code",
   "execution_count": 40,
   "id": "c9e17752",
   "metadata": {},
   "outputs": [
    {
     "data": {
      "text/html": [
       "<div>\n",
       "<style scoped>\n",
       "    .dataframe tbody tr th:only-of-type {\n",
       "        vertical-align: middle;\n",
       "    }\n",
       "\n",
       "    .dataframe tbody tr th {\n",
       "        vertical-align: top;\n",
       "    }\n",
       "\n",
       "    .dataframe thead th {\n",
       "        text-align: right;\n",
       "    }\n",
       "</style>\n",
       "<table border=\"1\" class=\"dataframe\">\n",
       "  <thead>\n",
       "    <tr style=\"text-align: right;\">\n",
       "      <th></th>\n",
       "      <th>userid</th>\n",
       "      <th>revenue</th>\n",
       "    </tr>\n",
       "  </thead>\n",
       "  <tbody>\n",
       "    <tr>\n",
       "      <th>0</th>\n",
       "      <td>1</td>\n",
       "      <td>100</td>\n",
       "    </tr>\n",
       "    <tr>\n",
       "      <th>1</th>\n",
       "      <td>2</td>\n",
       "      <td>0</td>\n",
       "    </tr>\n",
       "    <tr>\n",
       "      <th>2</th>\n",
       "      <td>3</td>\n",
       "      <td>50</td>\n",
       "    </tr>\n",
       "  </tbody>\n",
       "</table>\n",
       "</div>"
      ],
      "text/plain": [
       "   userid  revenue\n",
       "0       1      100\n",
       "1       2        0\n",
       "2       3       50"
      ]
     },
     "execution_count": 40,
     "metadata": {},
     "output_type": "execute_result"
    }
   ],
   "source": [
    "emailresults1.head(3)"
   ]
  },
  {
   "cell_type": "code",
   "execution_count": 41,
   "id": "1f64ed5a",
   "metadata": {},
   "outputs": [],
   "source": [
    "groupa_withrevenue=groupa.merge(emailresults1, on='userid')\n",
    "groupb_withrevenue=groupb.merge(emailresults1, on='userid')"
   ]
  },
  {
   "cell_type": "code",
   "execution_count": 42,
   "id": "e4c13bc6",
   "metadata": {},
   "outputs": [
    {
     "data": {
      "text/plain": [
       "TtestResult(statistic=-2.186454851070545, pvalue=0.03730073920038287, df=28.0)"
      ]
     },
     "execution_count": 42,
     "metadata": {},
     "output_type": "execute_result"
    }
   ],
   "source": [
    "ttest_ind(groupa_withrevenue['revenue'], groupb_withrevenue['revenue'])"
   ]
  },
  {
   "cell_type": "code",
   "execution_count": 43,
   "id": "258241ee",
   "metadata": {},
   "outputs": [
    {
     "name": "stdout",
     "output_type": "stream",
     "text": [
      "125.0\n"
     ]
    }
   ],
   "source": [
    "print(np.mean(groupb_withrevenue['revenue'])-np.mean(groupa_withrevenue['revenue']))"
   ]
  },
  {
   "cell_type": "code",
   "execution_count": 44,
   "id": "b3c5f502",
   "metadata": {},
   "outputs": [
    {
     "name": "stdout",
     "output_type": "stream",
     "text": [
      "104.0\n"
     ]
    }
   ],
   "source": [
    "print(np.mean(groupa_withrevenue['revenue']))"
   ]
  },
  {
   "cell_type": "code",
   "execution_count": 45,
   "id": "973d56f7",
   "metadata": {},
   "outputs": [
    {
     "name": "stdout",
     "output_type": "stream",
     "text": [
      "229.0\n"
     ]
    }
   ],
   "source": [
    "print(np.mean(groupb_withrevenue['revenue']))"
   ]
  },
  {
   "cell_type": "markdown",
   "id": "847f67cd",
   "metadata": {},
   "source": [
    "## Translating math into practice"
   ]
  },
  {
   "cell_type": "code",
   "execution_count": 46,
   "id": "68c37ed7",
   "metadata": {},
   "outputs": [],
   "source": [
    "np.random.seed(18811015)\n",
    "laptop.loc[:,'groupassignment1']=1*(np.random.random(len(laptop.index))>0.5)\n",
    "groupc=laptop.loc[laptop['groupassignment1']==0,:].copy()\n",
    "groupd=laptop.loc[laptop['groupassignment1']==1,:].copy()"
   ]
  },
  {
   "cell_type": "code",
   "execution_count": 47,
   "id": "6f080207",
   "metadata": {},
   "outputs": [
    {
     "data": {
      "text/html": [
       "<div>\n",
       "<style scoped>\n",
       "    .dataframe tbody tr th:only-of-type {\n",
       "        vertical-align: middle;\n",
       "    }\n",
       "\n",
       "    .dataframe tbody tr th {\n",
       "        vertical-align: top;\n",
       "    }\n",
       "\n",
       "    .dataframe thead th {\n",
       "        text-align: right;\n",
       "    }\n",
       "</style>\n",
       "<table border=\"1\" class=\"dataframe\">\n",
       "  <thead>\n",
       "    <tr style=\"text-align: right;\">\n",
       "      <th></th>\n",
       "      <th>userid</th>\n",
       "      <th>spending</th>\n",
       "      <th>age</th>\n",
       "      <th>visits</th>\n",
       "      <th>groupassignment1</th>\n",
       "    </tr>\n",
       "  </thead>\n",
       "  <tbody>\n",
       "    <tr>\n",
       "      <th>0</th>\n",
       "      <td>31</td>\n",
       "      <td>1499</td>\n",
       "      <td>32</td>\n",
       "      <td>12</td>\n",
       "      <td>0</td>\n",
       "    </tr>\n",
       "    <tr>\n",
       "      <th>2</th>\n",
       "      <td>33</td>\n",
       "      <td>1200</td>\n",
       "      <td>45</td>\n",
       "      <td>22</td>\n",
       "      <td>0</td>\n",
       "    </tr>\n",
       "    <tr>\n",
       "      <th>4</th>\n",
       "      <td>35</td>\n",
       "      <td>1350</td>\n",
       "      <td>17</td>\n",
       "      <td>85</td>\n",
       "      <td>0</td>\n",
       "    </tr>\n",
       "  </tbody>\n",
       "</table>\n",
       "</div>"
      ],
      "text/plain": [
       "   userid  spending  age  visits  groupassignment1\n",
       "0      31      1499   32      12                 0\n",
       "2      33      1200   45      22                 0\n",
       "4      35      1350   17      85                 0"
      ]
     },
     "execution_count": 47,
     "metadata": {},
     "output_type": "execute_result"
    }
   ],
   "source": [
    "groupc.head(3)"
   ]
  },
  {
   "cell_type": "code",
   "execution_count": 48,
   "id": "0a70f311",
   "metadata": {},
   "outputs": [
    {
     "data": {
      "text/html": [
       "<div>\n",
       "<style scoped>\n",
       "    .dataframe tbody tr th:only-of-type {\n",
       "        vertical-align: middle;\n",
       "    }\n",
       "\n",
       "    .dataframe tbody tr th {\n",
       "        vertical-align: top;\n",
       "    }\n",
       "\n",
       "    .dataframe thead th {\n",
       "        text-align: right;\n",
       "    }\n",
       "</style>\n",
       "<table border=\"1\" class=\"dataframe\">\n",
       "  <thead>\n",
       "    <tr style=\"text-align: right;\">\n",
       "      <th></th>\n",
       "      <th>userid</th>\n",
       "      <th>spending</th>\n",
       "      <th>age</th>\n",
       "      <th>visits</th>\n",
       "      <th>groupassignment1</th>\n",
       "    </tr>\n",
       "  </thead>\n",
       "  <tbody>\n",
       "    <tr>\n",
       "      <th>1</th>\n",
       "      <td>32</td>\n",
       "      <td>799</td>\n",
       "      <td>23</td>\n",
       "      <td>40</td>\n",
       "      <td>1</td>\n",
       "    </tr>\n",
       "    <tr>\n",
       "      <th>3</th>\n",
       "      <td>34</td>\n",
       "      <td>0</td>\n",
       "      <td>59</td>\n",
       "      <td>126</td>\n",
       "      <td>1</td>\n",
       "    </tr>\n",
       "    <tr>\n",
       "      <th>6</th>\n",
       "      <td>37</td>\n",
       "      <td>3400</td>\n",
       "      <td>65</td>\n",
       "      <td>428</td>\n",
       "      <td>1</td>\n",
       "    </tr>\n",
       "  </tbody>\n",
       "</table>\n",
       "</div>"
      ],
      "text/plain": [
       "   userid  spending  age  visits  groupassignment1\n",
       "1      32       799   23      40                 1\n",
       "3      34         0   59     126                 1\n",
       "6      37      3400   65     428                 1"
      ]
     },
     "execution_count": 48,
     "metadata": {},
     "output_type": "execute_result"
    }
   ],
   "source": [
    "groupd.head(3)"
   ]
  },
  {
   "cell_type": "code",
   "execution_count": 50,
   "id": "c1fd7f9d",
   "metadata": {},
   "outputs": [],
   "source": [
    "emailresults2 = pd.read_csv('emailresults2.csv')"
   ]
  },
  {
   "cell_type": "code",
   "execution_count": 51,
   "id": "3c782049",
   "metadata": {},
   "outputs": [
    {
     "data": {
      "text/html": [
       "<div>\n",
       "<style scoped>\n",
       "    .dataframe tbody tr th:only-of-type {\n",
       "        vertical-align: middle;\n",
       "    }\n",
       "\n",
       "    .dataframe tbody tr th {\n",
       "        vertical-align: top;\n",
       "    }\n",
       "\n",
       "    .dataframe thead th {\n",
       "        text-align: right;\n",
       "    }\n",
       "</style>\n",
       "<table border=\"1\" class=\"dataframe\">\n",
       "  <thead>\n",
       "    <tr style=\"text-align: right;\">\n",
       "      <th></th>\n",
       "      <th>userid</th>\n",
       "      <th>revenue</th>\n",
       "    </tr>\n",
       "  </thead>\n",
       "  <tbody>\n",
       "    <tr>\n",
       "      <th>0</th>\n",
       "      <td>31</td>\n",
       "      <td>100</td>\n",
       "    </tr>\n",
       "    <tr>\n",
       "      <th>1</th>\n",
       "      <td>32</td>\n",
       "      <td>0</td>\n",
       "    </tr>\n",
       "    <tr>\n",
       "      <th>2</th>\n",
       "      <td>33</td>\n",
       "      <td>50</td>\n",
       "    </tr>\n",
       "  </tbody>\n",
       "</table>\n",
       "</div>"
      ],
      "text/plain": [
       "   userid  revenue\n",
       "0      31      100\n",
       "1      32        0\n",
       "2      33       50"
      ]
     },
     "execution_count": 51,
     "metadata": {},
     "output_type": "execute_result"
    }
   ],
   "source": [
    "emailresults2.head(3)"
   ]
  },
  {
   "cell_type": "code",
   "execution_count": 52,
   "id": "76d365ea",
   "metadata": {},
   "outputs": [],
   "source": [
    "groupc_withrevenue=groupc.merge(emailresults2, on='userid')\n",
    "groupd_withrevenue=groupd.merge(emailresults2, on='userid')"
   ]
  },
  {
   "cell_type": "code",
   "execution_count": 53,
   "id": "56a0aa4a",
   "metadata": {},
   "outputs": [
    {
     "name": "stdout",
     "output_type": "stream",
     "text": [
      "TtestResult(statistic=-2.381320497676198, pvalue=0.024288828555138562, df=28.0)\n"
     ]
    }
   ],
   "source": [
    "print(ttest_ind(groupc_withrevenue['revenue'], groupd_withrevenue['revenue']))"
   ]
  },
  {
   "cell_type": "code",
   "execution_count": 54,
   "id": "20fbbfc3",
   "metadata": {},
   "outputs": [
    {
     "name": "stdout",
     "output_type": "stream",
     "text": [
      "260.3333333333333\n"
     ]
    }
   ],
   "source": [
    "print(np.mean(groupd_withrevenue['revenue']-np.mean(groupc_withrevenue['revenue'])))"
   ]
  },
  {
   "cell_type": "markdown",
   "id": "8153b0ca",
   "metadata": {},
   "source": [
    "## Understanding Effect Sizes"
   ]
  },
  {
   "cell_type": "code",
   "execution_count": 61,
   "id": "8f328509",
   "metadata": {},
   "outputs": [],
   "source": [
    "gdps=[365303000000,65994000000,220000000]"
   ]
  },
  {
   "cell_type": "code",
   "execution_count": 62,
   "id": "f7351585",
   "metadata": {},
   "outputs": [
    {
     "data": {
      "text/plain": [
       "158884197328.32672"
      ]
     },
     "execution_count": 62,
     "metadata": {},
     "output_type": "execute_result"
    }
   ],
   "source": [
    "np.std(gdps)"
   ]
  },
  {
   "cell_type": "code",
   "execution_count": 63,
   "id": "843e7050",
   "metadata": {},
   "outputs": [
    {
     "data": {
      "text/plain": [
       "7.867365169217765e-10"
      ]
     },
     "execution_count": 63,
     "metadata": {},
     "output_type": "execute_result"
    }
   ],
   "source": [
    "125/np.std(gdps)"
   ]
  },
  {
   "cell_type": "code",
   "execution_count": 64,
   "id": "7cdfbdb6",
   "metadata": {},
   "outputs": [],
   "source": [
    "burgers=[9.0,12.99,10.50]"
   ]
  },
  {
   "cell_type": "code",
   "execution_count": 65,
   "id": "7738e931",
   "metadata": {},
   "outputs": [
    {
     "data": {
      "text/plain": [
       "1.6455394252341695"
      ]
     },
     "execution_count": 65,
     "metadata": {},
     "output_type": "execute_result"
    }
   ],
   "source": [
    "np.std(burgers)"
   ]
  },
  {
   "cell_type": "code",
   "execution_count": 66,
   "id": "61935ac3",
   "metadata": {},
   "outputs": [
    {
     "data": {
      "text/plain": [
       "75.96293232671214"
      ]
     },
     "execution_count": 66,
     "metadata": {},
     "output_type": "execute_result"
    }
   ],
   "source": [
    "125/np.std(burgers)"
   ]
  },
  {
   "cell_type": "markdown",
   "id": "d83a4699",
   "metadata": {},
   "source": [
    "## Calculating the Significance of Data"
   ]
  },
  {
   "cell_type": "code",
   "execution_count": 67,
   "id": "23622503",
   "metadata": {},
   "outputs": [],
   "source": [
    "from statsmodels.stats.power import TTestIndPower"
   ]
  },
  {
   "cell_type": "code",
   "execution_count": 70,
   "id": "86e498c7",
   "metadata": {},
   "outputs": [],
   "source": [
    "# calculate the power for the A/B test\n",
    "# power is the probability that a correctly run A/B test will reject a false null hypothesis\n",
    "# power should be 80% or higher to proceed\n",
    "analysis = TTestIndPower()\n",
    "alpha = 0.05\n",
    "nobs=45\n",
    "effectsize=0.5\n",
    "power = analysis.solve_power(effectsize, nobs1=nobs, alpha=alpha)"
   ]
  },
  {
   "cell_type": "code",
   "execution_count": 69,
   "id": "1ea1a21f",
   "metadata": {},
   "outputs": [
    {
     "data": {
      "text/plain": [
       "0.6501855020289931"
      ]
     },
     "execution_count": 69,
     "metadata": {},
     "output_type": "execute_result"
    }
   ],
   "source": [
    "power"
   ]
  },
  {
   "cell_type": "code",
   "execution_count": 72,
   "id": "41e8717c",
   "metadata": {},
   "outputs": [],
   "source": [
    "# calculate the number of observations needed to get to an 80% power\n",
    "analysis = TTestIndPower()\n",
    "alpha=0.05\n",
    "power=0.8\n",
    "effectsize=0.5\n",
    "observations = analysis.solve_power(effect_size=effectsize, power=power, alpha=alpha)"
   ]
  },
  {
   "cell_type": "code",
   "execution_count": 73,
   "id": "1041eaa5",
   "metadata": {},
   "outputs": [
    {
     "name": "stdout",
     "output_type": "stream",
     "text": [
      "63.765611775409525\n"
     ]
    }
   ],
   "source": [
    "print(observations)"
   ]
  },
  {
   "cell_type": "code",
   "execution_count": null,
   "id": "cd18a08a",
   "metadata": {},
   "outputs": [],
   "source": []
  }
 ],
 "metadata": {
  "kernelspec": {
   "display_name": "Python 3 (ipykernel)",
   "language": "python",
   "name": "python3"
  },
  "language_info": {
   "codemirror_mode": {
    "name": "ipython",
    "version": 3
   },
   "file_extension": ".py",
   "mimetype": "text/x-python",
   "name": "python",
   "nbconvert_exporter": "python",
   "pygments_lexer": "ipython3",
   "version": "3.11.7"
  }
 },
 "nbformat": 4,
 "nbformat_minor": 5
}
