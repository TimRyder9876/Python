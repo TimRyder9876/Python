{
 "cells": [
  {
   "cell_type": "code",
   "execution_count": 36,
   "id": "a7de0511",
   "metadata": {},
   "outputs": [
    {
     "name": "stdout",
     "output_type": "stream",
     "text": [
      "2\n",
      "0\n"
     ]
    },
    {
     "data": {
      "text/plain": [
       "'LVIII'"
      ]
     },
     "execution_count": 36,
     "metadata": {},
     "output_type": "execute_result"
    }
   ],
   "source": [
    "##### import pandas\n",
    "def IntToRoman(i: int):\n",
    "    r_dict = {1:'I',\n",
    "              5:'V',\n",
    "              10:'X',\n",
    "              50:'L',\n",
    "              100:'C',\n",
    "              500:'D',\n",
    "              1000:'M'}\n",
    "    roman = ''\n",
    "    print(len(str(i)))\n",
    "    #while i > 0:\n",
    "    if i//1000 > 0:\n",
    "        roman = roman + \"M\"*(i//1000)\n",
    "        i -= (i//1000)*1000   \n",
    "    if i//500 > 0:\n",
    "        roman = roman + \"D\"\n",
    "        i -= 500\n",
    "    if i//100 > 0:\n",
    "        roman = roman + \"C\"*(i//100)\n",
    "        i -= (i//100)*100  \n",
    "    if i//50 > 0:\n",
    "        roman = roman + \"L\"\n",
    "        i -= 50\n",
    "    if i//40 > 0:\n",
    "        roman = roman + \"XL\"\n",
    "        i -= 40\n",
    "    if i//10 > 0:\n",
    "        roman = roman + \"X\"*(i//10)\n",
    "        i -= (i//10)*10\n",
    "    if i//9 > 0:\n",
    "        roman = roman + \"IX\"\n",
    "        i -= 9    \n",
    "    if i//5 > 0:\n",
    "        roman = roman + \"V\"\n",
    "        i -= 5\n",
    "    if i//4 > 0:\n",
    "        roman = roman + \"IV\"\n",
    "        i -= 4\n",
    "    else:\n",
    "        roman = roman + \"I\"*i\n",
    "        i -= i\n",
    "    print(i) \n",
    "    return roman\n",
    "IntToRoman(58)"
   ]
  },
  {
   "cell_type": "code",
   "execution_count": 1,
   "id": "09879cb1",
   "metadata": {},
   "outputs": [
    {
     "data": {
      "text/plain": [
       "'MCMXCIV'"
      ]
     },
     "execution_count": 1,
     "metadata": {},
     "output_type": "execute_result"
    }
   ],
   "source": [
    "import pandas\n",
    "def IntToRoman(i: int):\n",
    "    r_dict = {1:'I',\n",
    "              4:'IV',\n",
    "              5:'V',\n",
    "              9:'IX',\n",
    "              10:'X',\n",
    "              40:'XL',\n",
    "              50:'L',\n",
    "              90:'XC',\n",
    "              100:'C',\n",
    "              400:'CD',\n",
    "              500:'D',\n",
    "              900:'CM',\n",
    "              1000:'M'}\n",
    "    roman = ''\n",
    "    key_list = list(r_dict.keys())\n",
    "    for x in range(len(r_dict),0,-1):\n",
    "        if i//key_list[x-1]>0:\n",
    "            char_num = i//key_list[x-1]\n",
    "            roman += str(r_dict[key_list[x-1]])*char_num\n",
    "            i -= i//key_list[x-1]*key_list[x-1]        \n",
    "    exit\n",
    "    return roman\n",
    "IntToRoman(1994)"
   ]
  },
  {
   "cell_type": "code",
   "execution_count": 3,
   "id": "d149befe",
   "metadata": {},
   "outputs": [
    {
     "data": {
      "text/plain": [
       "'MCMXCIV'"
      ]
     },
     "execution_count": 3,
     "metadata": {},
     "output_type": "execute_result"
    }
   ],
   "source": [
    "import pandas\n",
    "def IntToRoman(num: int):\n",
    "    r_dict = {1:'I', 4:'IV', 5:'V', 9:'IX', 10:'X',\n",
    "              40:'XL', 50:'L', 90:'XC', 100:'C', 400:'CD',\n",
    "              500:'D', 900:'CM', 1000:'M'}\n",
    "    roman = ''\n",
    "    key_list = list(r_dict.keys())\n",
    "    for x in range(len(r_dict),0,-1):\n",
    "        if num//key_list[x-1]>0:\n",
    "            char_num = num//key_list[x-1]\n",
    "            roman += str(r_dict[key_list[x-1]])*char_num\n",
    "            num -= num//key_list[x-1]*key_list[x-1]        \n",
    "    return roman\n",
    "IntToRoman(1994)"
   ]
  },
  {
   "cell_type": "code",
   "execution_count": 27,
   "id": "14a7fd4d",
   "metadata": {},
   "outputs": [
    {
     "name": "stdout",
     "output_type": "stream",
     "text": [
      "1000 M\n",
      "roman: , value: M, num: 1994, key:1000\n",
      "900 CM\n",
      "roman: M, value: CM, num: 994, key:900\n",
      "500 D\n",
      "400 CD\n",
      "100 C\n",
      "90 XC\n",
      "roman: MCM, value: XC, num: 94, key:90\n",
      "50 L\n",
      "40 XL\n",
      "10 X\n",
      "9 IX\n",
      "5 V\n",
      "4 IV\n",
      "roman: MCMXC, value: IV, num: 4, key:4\n",
      "1 I\n"
     ]
    },
    {
     "data": {
      "text/plain": [
       "'MCMXCIV'"
      ]
     },
     "execution_count": 27,
     "metadata": {},
     "output_type": "execute_result"
    }
   ],
   "source": [
    "import pandas\n",
    "def IntToRoman(num: int):\n",
    "    r_dict = {1000:'M', 900:'CM', 500:'D', 400:'CD',\n",
    "              100:'C', 90:'XC', 50:'L', 40:'XL',\n",
    "              10:'X', 9:'IX', 5:'V', 4:'IV',1:'I'}          \n",
    "\n",
    "    roman = ''\n",
    "    \n",
    "    for key, value in r_dict.items():\n",
    "        print(key, value)\n",
    "        while key <= num :\n",
    "            print('roman: {}, value: {}, num: {}, key:{}'.format(roman,value, num, key))\n",
    "            roman += value\n",
    "            num -= key     \n",
    "    return roman\n",
    "IntToRoman(1994)"
   ]
  },
  {
   "cell_type": "code",
   "execution_count": null,
   "id": "449fe146",
   "metadata": {},
   "outputs": [],
   "source": [
    "# Fastest using a greedy method\n",
    "import pandas\n",
    "def IntToRoman(num: int):\n",
    "    r_dict = {1000:'M', 900:'CM', 500:'D', 400:'CD',\n",
    "              100:'C', 90:'XC', 50:'L', 40:'XL',\n",
    "              10:'X', 9:'IX', 5:'V', 4:'IV',1:'I'}          \n",
    "\n",
    "    roman = ''\n",
    "    \n",
    "    \n",
    "    \n",
    "    for key, value in r_dict.items():\n",
    "        print(key, value)\n",
    "        while key <= num :\n",
    "            print('roman: {}, value: {}, num: {}, key:{}'.format(roman,value, num, key))\n",
    "            roman += value\n",
    "            num -= key     \n",
    "    return roman\n",
    "IntToRoman(1994)"
   ]
  },
  {
   "cell_type": "code",
   "execution_count": 33,
   "id": "e338b7b5",
   "metadata": {},
   "outputs": [
    {
     "data": {
      "text/plain": [
       "'MCMXCIV'"
      ]
     },
     "execution_count": 33,
     "metadata": {},
     "output_type": "execute_result"
    }
   ],
   "source": [
    "# Fastest: Hash table approach\n",
    "def IntToRoman(num: int):\n",
    "    M = ['', 'M', 'MM', 'MMM']\n",
    "    C = ['', 'C', 'CC', 'CCC', 'CD', 'D', 'DC', 'DCC', 'DCCC', 'CM']\n",
    "    X = ['', 'X', 'XX', 'XXX', 'XL', 'L', 'LX', 'LXX', 'LXXX', 'XC']\n",
    "    I = ['', 'I', 'II', 'III', 'IV', 'V', 'VI', 'VII', 'VIII', 'IX']\n",
    "    return (M[num // 1000] + C[num%1000//100] + X[num%100//10] + I[num%10])\n",
    "IntToRoman(1994)"
   ]
  },
  {
   "cell_type": "code",
   "execution_count": null,
   "id": "6cef817e",
   "metadata": {},
   "outputs": [],
   "source": []
  }
 ],
 "metadata": {
  "kernelspec": {
   "display_name": "Python 3 (ipykernel)",
   "language": "python",
   "name": "python3"
  },
  "language_info": {
   "codemirror_mode": {
    "name": "ipython",
    "version": 3
   },
   "file_extension": ".py",
   "mimetype": "text/x-python",
   "name": "python",
   "nbconvert_exporter": "python",
   "pygments_lexer": "ipython3",
   "version": "3.11.7"
  }
 },
 "nbformat": 4,
 "nbformat_minor": 5
}
