{
 "cells": [
  {
   "cell_type": "code",
   "execution_count": 1,
   "id": "7cdc56fe",
   "metadata": {},
   "outputs": [
    {
     "data": {
      "text/plain": [
       "'1.11.4'"
      ]
     },
     "execution_count": 1,
     "metadata": {},
     "output_type": "execute_result"
    }
   ],
   "source": [
    "import scipy\n",
    "scipy.__version__"
   ]
  },
  {
   "cell_type": "code",
   "execution_count": 2,
   "id": "103709dd",
   "metadata": {},
   "outputs": [],
   "source": [
    "import pandas as pd\n",
    "import numpy as np\n",
    "import matplotlib.pyplot as plt\n",
    "import seaborn as sns\n",
    "%matplotlib inline\n",
    "\n",
    "import scipy.stats as stats"
   ]
  },
  {
   "cell_type": "code",
   "execution_count": 3,
   "id": "b02f3e79",
   "metadata": {},
   "outputs": [
    {
     "data": {
      "text/html": [
       "<div>\n",
       "<style scoped>\n",
       "    .dataframe tbody tr th:only-of-type {\n",
       "        vertical-align: middle;\n",
       "    }\n",
       "\n",
       "    .dataframe tbody tr th {\n",
       "        vertical-align: top;\n",
       "    }\n",
       "\n",
       "    .dataframe thead th {\n",
       "        text-align: right;\n",
       "    }\n",
       "</style>\n",
       "<table border=\"1\" class=\"dataframe\">\n",
       "  <thead>\n",
       "    <tr style=\"text-align: right;\">\n",
       "      <th></th>\n",
       "      <th>Metropolitan Area</th>\n",
       "      <th>Jan_2003</th>\n",
       "      <th>Jan_2002</th>\n",
       "    </tr>\n",
       "  </thead>\n",
       "  <tbody>\n",
       "    <tr>\n",
       "      <th>0</th>\n",
       "      <td>Daytona Beach</td>\n",
       "      <td>117</td>\n",
       "      <td>96</td>\n",
       "    </tr>\n",
       "    <tr>\n",
       "      <th>1</th>\n",
       "      <td>Fort Lauderdale</td>\n",
       "      <td>207</td>\n",
       "      <td>169</td>\n",
       "    </tr>\n",
       "    <tr>\n",
       "      <th>2</th>\n",
       "      <td>Fort Myers</td>\n",
       "      <td>143</td>\n",
       "      <td>129</td>\n",
       "    </tr>\n",
       "    <tr>\n",
       "      <th>3</th>\n",
       "      <td>Fort Walton Beach</td>\n",
       "      <td>139</td>\n",
       "      <td>134</td>\n",
       "    </tr>\n",
       "    <tr>\n",
       "      <th>4</th>\n",
       "      <td>Gainesville</td>\n",
       "      <td>131</td>\n",
       "      <td>119</td>\n",
       "    </tr>\n",
       "  </tbody>\n",
       "</table>\n",
       "</div>"
      ],
      "text/plain": [
       "   Metropolitan Area  Jan_2003  Jan_2002\n",
       "0      Daytona Beach       117        96\n",
       "1    Fort Lauderdale       207       169\n",
       "2         Fort Myers       143       129\n",
       "3  Fort Walton Beach       139       134\n",
       "4        Gainesville       131       119"
      ]
     },
     "execution_count": 3,
     "metadata": {},
     "output_type": "execute_result"
    }
   ],
   "source": [
    "houseprice = pd.read_csv(\"Florida.csv\")\n",
    "houseprice.head()"
   ]
  },
  {
   "cell_type": "markdown",
   "id": "6372c367",
   "metadata": {},
   "source": [
    "### Let's write the null and alternative hypothesis\n",
    "\n",
    "Let $\\mu_1, \\mu_2$ be the mean price of single-family homes in metropolitan areas of Florida for 2002 and 2003 respectively.\n",
    "\n",
    "We want to test whether there is an increase in the house price from 2002 to 2003.\n",
    "\n",
    "We will test the null hypothesis\n",
    "\n",
    ">$H_0:\\mu_1=\\mu_2$\n",
    "\n",
    "against the alternate hypothesis\n",
    "\n",
    ">$H_a:\\mu_1<\\mu_2$"
   ]
  },
  {
   "cell_type": "code",
   "execution_count": 5,
   "id": "59ff12d8",
   "metadata": {},
   "outputs": [
    {
     "name": "stdout",
     "output_type": "stream",
     "text": [
      "The mean of the differences between the house prices from 2003 to 2002 15.0\n"
     ]
    }
   ],
   "source": [
    "diff = np.mean(houseprice['Jan_2003'] - houseprice['Jan_2002'])\n",
    "print('The mean of the differences between the house prices from 2003 to 2002', diff)"
   ]
  },
  {
   "cell_type": "code",
   "execution_count": 13,
   "id": "682592e5",
   "metadata": {},
   "outputs": [
    {
     "name": "stdout",
     "output_type": "stream",
     "text": [
      "The p-value is 0.0001\n"
     ]
    }
   ],
   "source": [
    "from scipy.stats import ttest_rel\n",
    "\n",
    "test_stat, p_value = ttest_rel(houseprice['Jan_2002'], houseprice['Jan_2003'], alternative = 'less')\n",
    "print('The p-value is {}'.format(round(p_value,4)))"
   ]
  },
  {
   "cell_type": "markdown",
   "id": "04a449a8",
   "metadata": {},
   "source": [
    "### Insight\n",
    "As the p-value is much less than the level of significance, the null hypothesis can be rejected. Thus, it may be concluded that there is enough statistical evidence to conclude that there is an increase in the price from 2002 to 2003."
   ]
  },
  {
   "cell_type": "markdown",
   "id": "2f020843",
   "metadata": {},
   "source": [
    "# <a name='link12'>**Chi-Square Test for Variance**</a>"
   ]
  },
  {
   "cell_type": "markdown",
   "id": "802abc14",
   "metadata": {},
   "source": [
    "\n",
    "\n",
    "### Let's revisit an example\n",
    "It is conjectured that the standard deviation for the annual return of mid cap mutual funds is 22.4%, when all such funds are considered and over a long period of time. The sample standard deviation of a certain mid cap mutual fund based on a random sample of size 32 is observed to be 26.4%. \n",
    "\n",
    "Do we have enough evidence to claim that the standard deviation of the chosen mutual fund is greater than the conjectured standard deviation for mid cap mutual funds at 0.05 level of significance?\n",
    "\n"
   ]
  },
  {
   "cell_type": "markdown",
   "id": "85b7c34e",
   "metadata": {},
   "source": [
    "### Let's write the null and alternative hypothesis\n",
    "Let $\\sigma$ be the average standard deviation of the mutual funds.\n",
    "\n",
    "We will test the null hypothesis\n",
    "\n",
    ">$H_0:\\sigma^2 = 22.4^2$\n",
    "\n",
    "against the alternate hypothesis\n",
    "\n",
    ">$H_a:\\sigma^2 > 22.4^2$"
   ]
  },
  {
   "cell_type": "markdown",
   "id": "f955e16c",
   "metadata": {},
   "source": [
    "### Let's test whether the assumptions are satisfied or not\n",
    "\n",
    "* Continuous data - Yes\n",
    "* Normally distributed population - Since the sample sizes are greater than 30, Central Limit Theorem states that the distribution of sample means will be normal.\n",
    "* Random sampling from the population - Yes, we are informed that the collected sample is a simple random sample.   \n"
   ]
  },
  {
   "cell_type": "markdown",
   "id": "dd62e012",
   "metadata": {},
   "source": [
    "### P-value"
   ]
  },
  {
   "cell_type": "code",
   "execution_count": 18,
   "id": "2771b30c",
   "metadata": {},
   "outputs": [
    {
     "name": "stdout",
     "output_type": "stream",
     "text": [
      "The p-value is: 0.0734\n"
     ]
    }
   ],
   "source": [
    "from scipy.stats import chi2\n",
    "\n",
    "def chi_var(pop_var, sample_var, n):\n",
    "    test_stat = (n-1)*sample_var / pop_var\n",
    "    p_value = 1- chi2.cdf(test_stat, n-1)\n",
    "    return (test_stat, p_value)\n",
    "\n",
    "# n is the sample size\n",
    "n = 32\n",
    "sigma2, sigma = 22.4**2, 26.4**2\n",
    "\n",
    "test_stat, p_value = chi_var(sigma2, sigma, n)\n",
    "\n",
    "print('The p-value is: {}'.format(round(p_value,4)))\n"
   ]
  },
  {
   "cell_type": "markdown",
   "id": "20573e13",
   "metadata": {},
   "source": [
    "### Insight\n",
    "As the p-value is greater than the significance level, we can not reject the null hypothesis. Hence, we do not have enough statistical significance to conclude that the standard deviation of the chosen mutual fund is greater than the average standard deviation for mid cap mutual funds at 0.05 level of significance."
   ]
  },
  {
   "cell_type": "markdown",
   "id": "4a310c3b",
   "metadata": {},
   "source": [
    "# <a name='link13'>**F-test for Equality of Variances**</a>"
   ]
  },
  {
   "cell_type": "markdown",
   "id": "332dc72b",
   "metadata": {},
   "source": [
    "\n",
    "\n",
    "### Let's revisit the example\n",
    "\n",
    "The variance of a process is an important quality of the process. A large variance implies that the process needs better control and there is opportunity to improve. \n",
    "\n",
    "\n",
    "The data (Bags.csv) includes weights for two different sets of bags manufactured from two different machines. It is assumed that the weights for two sets of bags follow normal distribution.\n",
    "\n",
    "Do we have enough statistical evidence at 5% significance level  to conclude that there is a significant difference between the variances of the bag weights for the two machines.\n",
    "\n"
   ]
  },
  {
   "cell_type": "markdown",
   "id": "0b8855ee",
   "metadata": {},
   "source": [
    "### Let's write the null and alternative hypothesis\n",
    "Let $\\sigma_1^2, \\sigma_2^2$ be the variances of weights of the bags produced by two different machines.\n",
    "\n",
    "We will test the null hypothesis\n",
    "\n",
    ">$H_0:\\sigma_1^2 = \\sigma_2^2$\n",
    "\n",
    "against the alternate hypothesis\n",
    "\n",
    ">$H_a:\\sigma_1^2 \\neq \\sigma_2^2$"
   ]
  },
  {
   "cell_type": "markdown",
   "id": "92e7b3f0",
   "metadata": {},
   "source": [
    "### Let's test whether the assumptions are satisfied or not\n",
    "\n",
    "* Continuous data - Yes, the weight is measured on a continuous scale.\n",
    "* Normally distributed populations - Yes, it is assumed that the populations are normally distributed.\n",
    "* Independent populations - As the two sets of bags are manufactured from two different machines, the populations are independent.\n",
    "* Random sampling from the population - Yes, we are informed that the collected sample is a simple random sample.\n"
   ]
  },
  {
   "cell_type": "code",
   "execution_count": 19,
   "id": "5bef8621",
   "metadata": {},
   "outputs": [
    {
     "data": {
      "text/html": [
       "<div>\n",
       "<style scoped>\n",
       "    .dataframe tbody tr th:only-of-type {\n",
       "        vertical-align: middle;\n",
       "    }\n",
       "\n",
       "    .dataframe tbody tr th {\n",
       "        vertical-align: top;\n",
       "    }\n",
       "\n",
       "    .dataframe thead th {\n",
       "        text-align: right;\n",
       "    }\n",
       "</style>\n",
       "<table border=\"1\" class=\"dataframe\">\n",
       "  <thead>\n",
       "    <tr style=\"text-align: right;\">\n",
       "      <th></th>\n",
       "      <th>Machine 1</th>\n",
       "      <th>Machine 2</th>\n",
       "    </tr>\n",
       "  </thead>\n",
       "  <tbody>\n",
       "    <tr>\n",
       "      <th>0</th>\n",
       "      <td>2.95</td>\n",
       "      <td>3.22</td>\n",
       "    </tr>\n",
       "    <tr>\n",
       "      <th>1</th>\n",
       "      <td>3.45</td>\n",
       "      <td>3.30</td>\n",
       "    </tr>\n",
       "    <tr>\n",
       "      <th>2</th>\n",
       "      <td>3.50</td>\n",
       "      <td>3.34</td>\n",
       "    </tr>\n",
       "    <tr>\n",
       "      <th>3</th>\n",
       "      <td>3.75</td>\n",
       "      <td>3.28</td>\n",
       "    </tr>\n",
       "    <tr>\n",
       "      <th>4</th>\n",
       "      <td>3.48</td>\n",
       "      <td>3.29</td>\n",
       "    </tr>\n",
       "  </tbody>\n",
       "</table>\n",
       "</div>"
      ],
      "text/plain": [
       "   Machine 1  Machine 2\n",
       "0       2.95       3.22\n",
       "1       3.45       3.30\n",
       "2       3.50       3.34\n",
       "3       3.75       3.28\n",
       "4       3.48       3.29"
      ]
     },
     "execution_count": 19,
     "metadata": {},
     "output_type": "execute_result"
    }
   ],
   "source": [
    "bagweight = pd.read_csv(\"Bags.csv\")\n",
    "bagweight.head()"
   ]
  },
  {
   "cell_type": "markdown",
   "id": "7bf60a17",
   "metadata": {},
   "source": [
    "### P-value"
   ]
  },
  {
   "cell_type": "code",
   "execution_count": 22,
   "id": "bd815309",
   "metadata": {},
   "outputs": [
    {
     "name": "stdout",
     "output_type": "stream",
     "text": [
      "The p_value is 0.0\n"
     ]
    }
   ],
   "source": [
    "from scipy.stats import f\n",
    "\n",
    "def f_test(x,y):\n",
    "    x=np.array(x)\n",
    "    y=np.array(y)\n",
    "    test_stat = np.var(x, ddof=1)/np.var(y, ddof=1) #calculate the f test statistic\n",
    "    dfn = x.size-1 #define degrees of freedom numerator \n",
    "    dfd = y.size-1 #define degrees of freedom denominator\n",
    "    p = (1 - f.cdf(test_stat, dfn, dfd)) # find the p-value of the f test statistic\n",
    "    p1 = p*2 # converting the one-tail to two-tail test\n",
    "    return(print(\"The p_value is {}\".format(round(p,5))))\n",
    "\n",
    "f_test(bagweight.dropna()[\"Machine 1\"], bagweight.dropna()[\"Machine 2\"])"
   ]
  },
  {
   "cell_type": "markdown",
   "id": "0ee7888f",
   "metadata": {},
   "source": [
    "### Insight\n",
    "As the p-value is much smaller than the level of significance, the null hypothesis can be rejected. Hence, we have enough statistical evidence to conclude that there is a difference between the bag weights for the two machines at 0.05 significance level."
   ]
  },
  {
   "cell_type": "code",
   "execution_count": null,
   "id": "8e415a05",
   "metadata": {},
   "outputs": [],
   "source": []
  }
 ],
 "metadata": {
  "kernelspec": {
   "display_name": "Python 3 (ipykernel)",
   "language": "python",
   "name": "python3"
  },
  "language_info": {
   "codemirror_mode": {
    "name": "ipython",
    "version": 3
   },
   "file_extension": ".py",
   "mimetype": "text/x-python",
   "name": "python",
   "nbconvert_exporter": "python",
   "pygments_lexer": "ipython3",
   "version": "3.11.7"
  }
 },
 "nbformat": 4,
 "nbformat_minor": 5
}
