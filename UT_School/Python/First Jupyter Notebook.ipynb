{
 "cells": [
  {
   "cell_type": "markdown",
   "id": "79e41fad",
   "metadata": {},
   "source": [
    "Introduction to Python"
   ]
  },
  {
   "cell_type": "code",
   "execution_count": 3,
   "id": "0587bf50",
   "metadata": {},
   "outputs": [
    {
     "data": {
      "text/plain": [
       "3"
      ]
     },
     "execution_count": 3,
     "metadata": {},
     "output_type": "execute_result"
    }
   ],
   "source": [
    "num = 3\n",
    "num"
   ]
  },
  {
   "cell_type": "code",
   "execution_count": 4,
   "id": "83580fe4",
   "metadata": {},
   "outputs": [],
   "source": [
    "a = \"String\""
   ]
  },
  {
   "cell_type": "code",
   "execution_count": 5,
   "id": "d834b244",
   "metadata": {},
   "outputs": [
    {
     "data": {
      "text/plain": [
       "'StringString'"
      ]
     },
     "execution_count": 5,
     "metadata": {},
     "output_type": "execute_result"
    }
   ],
   "source": [
    "a*2"
   ]
  },
  {
   "cell_type": "code",
   "execution_count": 6,
   "id": "18b14ab0",
   "metadata": {},
   "outputs": [
    {
     "data": {
      "text/plain": [
       "'StringString'"
      ]
     },
     "execution_count": 6,
     "metadata": {},
     "output_type": "execute_result"
    }
   ],
   "source": [
    "a+a"
   ]
  },
  {
   "cell_type": "code",
   "execution_count": 7,
   "id": "d707fdab",
   "metadata": {},
   "outputs": [],
   "source": [
    "a = \"Great Learning\""
   ]
  },
  {
   "cell_type": "code",
   "execution_count": 8,
   "id": "3b5378d8",
   "metadata": {},
   "outputs": [
    {
     "data": {
      "text/plain": [
       "'Great'"
      ]
     },
     "execution_count": 8,
     "metadata": {},
     "output_type": "execute_result"
    }
   ],
   "source": [
    "a[0:5]"
   ]
  },
  {
   "cell_type": "code",
   "execution_count": 10,
   "id": "1af3a970",
   "metadata": {},
   "outputs": [
    {
     "data": {
      "text/plain": [
       "10.0"
      ]
     },
     "execution_count": 10,
     "metadata": {},
     "output_type": "execute_result"
    }
   ],
   "source": [
    "float(\"10\")"
   ]
  },
  {
   "cell_type": "code",
   "execution_count": 11,
   "id": "710ac0a7",
   "metadata": {},
   "outputs": [
    {
     "name": "stdout",
     "output_type": "stream",
     "text": [
      "X\n"
     ]
    }
   ],
   "source": [
    "print(\"X\")"
   ]
  },
  {
   "cell_type": "code",
   "execution_count": 12,
   "id": "8dd91804",
   "metadata": {},
   "outputs": [
    {
     "name": "stdout",
     "output_type": "stream",
     "text": [
      "NEw England\n",
      "South Africa\n",
      "India\n"
     ]
    }
   ],
   "source": [
    "print(\"NEw England\\nSouth Africa\\nIndia\")"
   ]
  },
  {
   "cell_type": "markdown",
   "id": "9a134ac8",
   "metadata": {},
   "source": [
    "## "
   ]
  },
  {
   "cell_type": "code",
   "execution_count": 14,
   "id": "28df920d",
   "metadata": {},
   "outputs": [
    {
     "data": {
      "text/plain": [
       "True"
      ]
     },
     "execution_count": 14,
     "metadata": {},
     "output_type": "execute_result"
    }
   ],
   "source": [
    "(4/2 !=2) == False"
   ]
  },
  {
   "cell_type": "code",
   "execution_count": 15,
   "id": "2080b3b7",
   "metadata": {},
   "outputs": [
    {
     "data": {
      "text/plain": [
       "[34, 'Great', 60.7, True]"
      ]
     },
     "execution_count": 15,
     "metadata": {},
     "output_type": "execute_result"
    }
   ],
   "source": [
    "my_list = [34, \"Great\", 60.7, True, \"Data\"]\n",
    "my_list[:4]"
   ]
  },
  {
   "cell_type": "code",
   "execution_count": 16,
   "id": "95405c87",
   "metadata": {},
   "outputs": [
    {
     "data": {
      "text/plain": [
       "[34, 60.7, True, 'Data', 'Great']"
      ]
     },
     "execution_count": 16,
     "metadata": {},
     "output_type": "execute_result"
    }
   ],
   "source": [
    "my_list = [34, \"Great\", 60.7, True, \"Data\", \"Great\"]\n",
    "my_list.remove(\"Great\")\n",
    "my_list"
   ]
  },
  {
   "cell_type": "code",
   "execution_count": 17,
   "id": "7f45a7a6",
   "metadata": {},
   "outputs": [
    {
     "data": {
      "text/plain": [
       "{3, 4, 6, 7, 8}"
      ]
     },
     "execution_count": 17,
     "metadata": {},
     "output_type": "execute_result"
    }
   ],
   "source": [
    "set_1 = {4, 3, 7, 4, 6, 8, 4}\n",
    "set_1"
   ]
  },
  {
   "cell_type": "code",
   "execution_count": 19,
   "id": "9630eecc",
   "metadata": {},
   "outputs": [
    {
     "name": "stdout",
     "output_type": "stream",
     "text": [
      "5\n"
     ]
    }
   ],
   "source": [
    "print(2+3)"
   ]
  },
  {
   "cell_type": "code",
   "execution_count": 20,
   "id": "1a88ad23",
   "metadata": {},
   "outputs": [
    {
     "data": {
      "text/plain": [
       "78.0"
      ]
     },
     "execution_count": 20,
     "metadata": {},
     "output_type": "execute_result"
    }
   ],
   "source": [
    "float(78)"
   ]
  },
  {
   "cell_type": "code",
   "execution_count": 21,
   "id": "1dd85530",
   "metadata": {},
   "outputs": [
    {
     "name": "stdout",
     "output_type": "stream",
     "text": [
      "Jack\n",
      "Summer\n",
      "June\n"
     ]
    }
   ],
   "source": [
    "name_age = {'Jack':20, 'Summer':25, 'June':30}\n",
    "for i in name_age:\n",
    "  print(i)"
   ]
  },
  {
   "cell_type": "code",
   "execution_count": 22,
   "id": "8674f47a",
   "metadata": {},
   "outputs": [],
   "source": [
    "my_tuple = (34, 20, 60.7, 4, 66, 1)"
   ]
  },
  {
   "cell_type": "code",
   "execution_count": 23,
   "id": "1e1a3485",
   "metadata": {},
   "outputs": [
    {
     "data": {
      "text/plain": [
       "[1, 4, 20, 34, 60.7, 66]"
      ]
     },
     "execution_count": 23,
     "metadata": {},
     "output_type": "execute_result"
    }
   ],
   "source": [
    "sorted(my_tuple)"
   ]
  },
  {
   "cell_type": "code",
   "execution_count": null,
   "id": "a9fead92",
   "metadata": {},
   "outputs": [],
   "source": []
  }
 ],
 "metadata": {
  "kernelspec": {
   "display_name": "Python 3 (ipykernel)",
   "language": "python",
   "name": "python3"
  },
  "language_info": {
   "codemirror_mode": {
    "name": "ipython",
    "version": 3
   },
   "file_extension": ".py",
   "mimetype": "text/x-python",
   "name": "python",
   "nbconvert_exporter": "python",
   "pygments_lexer": "ipython3",
   "version": "3.11.7"
  }
 },
 "nbformat": 4,
 "nbformat_minor": 5
}
