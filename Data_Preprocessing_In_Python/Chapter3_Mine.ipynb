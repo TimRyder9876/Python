{
 "cells": [
  {
   "cell_type": "code",
   "execution_count": 1,
   "id": "9bd0d0fa",
   "metadata": {},
   "outputs": [],
   "source": [
    "import pandas as pd"
   ]
  },
  {
   "cell_type": "code",
   "execution_count": 14,
   "id": "2d58bebd",
   "metadata": {},
   "outputs": [
    {
     "data": {
      "text/html": [
       "<div>\n",
       "<style scoped>\n",
       "    .dataframe tbody tr th:only-of-type {\n",
       "        vertical-align: middle;\n",
       "    }\n",
       "\n",
       "    .dataframe tbody tr th {\n",
       "        vertical-align: top;\n",
       "    }\n",
       "\n",
       "    .dataframe thead th {\n",
       "        text-align: right;\n",
       "    }\n",
       "</style>\n",
       "<table border=\"1\" class=\"dataframe\">\n",
       "  <thead>\n",
       "    <tr style=\"text-align: right;\">\n",
       "      <th></th>\n",
       "      <th>Customer Name</th>\n",
       "      <th>Store</th>\n",
       "      <th>Last week number of visits</th>\n",
       "      <th>Last week Purchase $</th>\n",
       "    </tr>\n",
       "  </thead>\n",
       "  <tbody>\n",
       "    <tr>\n",
       "      <th>0</th>\n",
       "      <td>Abu Irvine</td>\n",
       "      <td>Starbuck - Claremont Village</td>\n",
       "      <td>5</td>\n",
       "      <td>33.43</td>\n",
       "    </tr>\n",
       "    <tr>\n",
       "      <th>1</th>\n",
       "      <td>Colleen Melendez</td>\n",
       "      <td>Starbuck - Claremont Village</td>\n",
       "      <td>4</td>\n",
       "      <td>11.32</td>\n",
       "    </tr>\n",
       "    <tr>\n",
       "      <th>2</th>\n",
       "      <td>Lyla-Rose Ruiz</td>\n",
       "      <td>Starbuck - Claremont Village</td>\n",
       "      <td>1</td>\n",
       "      <td>9.48</td>\n",
       "    </tr>\n",
       "    <tr>\n",
       "      <th>3</th>\n",
       "      <td>Riley-Jay Manning</td>\n",
       "      <td>Starbuck - Claremont Village</td>\n",
       "      <td>2</td>\n",
       "      <td>15.50</td>\n",
       "    </tr>\n",
       "    <tr>\n",
       "      <th>4</th>\n",
       "      <td>Ieuan Carroll</td>\n",
       "      <td>Starbuck - Claremont Village</td>\n",
       "      <td>4</td>\n",
       "      <td>17.96</td>\n",
       "    </tr>\n",
       "    <tr>\n",
       "      <th>5</th>\n",
       "      <td>Renesmae Lawson</td>\n",
       "      <td>Starbuck - Claremont Village</td>\n",
       "      <td>5</td>\n",
       "      <td>19.84</td>\n",
       "    </tr>\n",
       "    <tr>\n",
       "      <th>6</th>\n",
       "      <td>Lawrence Medina</td>\n",
       "      <td>Starbuck - Claremont Village</td>\n",
       "      <td>3</td>\n",
       "      <td>23.21</td>\n",
       "    </tr>\n",
       "    <tr>\n",
       "      <th>7</th>\n",
       "      <td>Ben O'Connor</td>\n",
       "      <td>Starbuck - Claremont Village</td>\n",
       "      <td>1</td>\n",
       "      <td>6.12</td>\n",
       "    </tr>\n",
       "    <tr>\n",
       "      <th>8</th>\n",
       "      <td>Adnaan Kim</td>\n",
       "      <td>Starbuck - Claremont Village</td>\n",
       "      <td>6</td>\n",
       "      <td>36.16</td>\n",
       "    </tr>\n",
       "    <tr>\n",
       "      <th>9</th>\n",
       "      <td>Abbigail Dunlap</td>\n",
       "      <td>Starbuck - Claremont Village</td>\n",
       "      <td>2</td>\n",
       "      <td>6.88</td>\n",
       "    </tr>\n",
       "  </tbody>\n",
       "</table>\n",
       "</div>"
      ],
      "text/plain": [
       "       Customer Name                         Store  \\\n",
       "0         Abu Irvine  Starbuck - Claremont Village   \n",
       "1   Colleen Melendez  Starbuck - Claremont Village   \n",
       "2     Lyla-Rose Ruiz  Starbuck - Claremont Village   \n",
       "3  Riley-Jay Manning  Starbuck - Claremont Village   \n",
       "4      Ieuan Carroll  Starbuck - Claremont Village   \n",
       "5    Renesmae Lawson  Starbuck - Claremont Village   \n",
       "6    Lawrence Medina  Starbuck - Claremont Village   \n",
       "7       Ben O'Connor  Starbuck - Claremont Village   \n",
       "8         Adnaan Kim  Starbuck - Claremont Village   \n",
       "9    Abbigail Dunlap  Starbuck - Claremont Village   \n",
       "\n",
       "   Last week number of visits  Last week Purchase $  \n",
       "0                           5                 33.43  \n",
       "1                           4                 11.32  \n",
       "2                           1                  9.48  \n",
       "3                           2                 15.50  \n",
       "4                           4                 17.96  \n",
       "5                           5                 19.84  \n",
       "6                           3                 23.21  \n",
       "7                           1                  6.12  \n",
       "8                           6                 36.16  \n",
       "9                           2                  6.88  "
      ]
     },
     "execution_count": 14,
     "metadata": {},
     "output_type": "execute_result"
    }
   ],
   "source": [
    "customer_df = pd.read_excel('Customers Dataset.xlsx')\n",
    "customer_df"
   ]
  },
  {
   "cell_type": "code",
   "execution_count": 16,
   "id": "8232119a",
   "metadata": {},
   "outputs": [
    {
     "data": {
      "text/plain": [
       "Last week number of visits      3.122222\n",
       "Last week Purchase $          109.628044\n",
       "dtype: float64"
      ]
     },
     "execution_count": 16,
     "metadata": {},
     "output_type": "execute_result"
    }
   ],
   "source": [
    "customer_df.var(numeric_only=True)"
   ]
  },
  {
   "cell_type": "code",
   "execution_count": 17,
   "id": "570a4d2b",
   "metadata": {},
   "outputs": [],
   "source": [
    "import matplotlib.pyplot as plt"
   ]
  },
  {
   "cell_type": "code",
   "execution_count": 20,
   "id": "2b7265a0",
   "metadata": {},
   "outputs": [
    {
     "data": {
      "image/png": "[encoded data removed]",
      "text/plain": [
       "<Figure size 640x480 with 1 Axes>"
      ]
     },
     "metadata": {},
     "output_type": "display_data"
    }
   ],
   "source": [
    "customer_df.plot.scatter(x='Last week number of visits',\n",
    "                         y='Last week Purchase $')\n",
    "plt.show()"
   ]
  },
  {
   "cell_type": "code",
   "execution_count": 22,
   "id": "7f1ad7ee",
   "metadata": {},
   "outputs": [
    {
     "data": {
      "text/html": [
       "<div>\n",
       "<style scoped>\n",
       "    .dataframe tbody tr th:only-of-type {\n",
       "        vertical-align: middle;\n",
       "    }\n",
       "\n",
       "    .dataframe tbody tr th {\n",
       "        vertical-align: top;\n",
       "    }\n",
       "\n",
       "    .dataframe thead th {\n",
       "        text-align: right;\n",
       "    }\n",
       "</style>\n",
       "<table border=\"1\" class=\"dataframe\">\n",
       "  <thead>\n",
       "    <tr style=\"text-align: right;\">\n",
       "      <th></th>\n",
       "      <th>Last week number of visits</th>\n",
       "      <th>Last week Purchase $</th>\n",
       "    </tr>\n",
       "  </thead>\n",
       "  <tbody>\n",
       "    <tr>\n",
       "      <th>Last week number of visits</th>\n",
       "      <td>1.000000</td>\n",
       "      <td>0.821282</td>\n",
       "    </tr>\n",
       "    <tr>\n",
       "      <th>Last week Purchase $</th>\n",
       "      <td>0.821282</td>\n",
       "      <td>1.000000</td>\n",
       "    </tr>\n",
       "  </tbody>\n",
       "</table>\n",
       "</div>"
      ],
      "text/plain": [
       "                            Last week number of visits  Last week Purchase $\n",
       "Last week number of visits                    1.000000              0.821282\n",
       "Last week Purchase $                          0.821282              1.000000"
      ]
     },
     "execution_count": 22,
     "metadata": {},
     "output_type": "execute_result"
    }
   ],
   "source": [
    "customer_df.corr(numeric_only=True)"
   ]
  },
  {
   "cell_type": "code",
   "execution_count": 24,
   "id": "deb2ce6f",
   "metadata": {},
   "outputs": [
    {
     "data": {
      "text/html": [
       "<div>\n",
       "<style scoped>\n",
       "    .dataframe tbody tr th:only-of-type {\n",
       "        vertical-align: middle;\n",
       "    }\n",
       "\n",
       "    .dataframe tbody tr th {\n",
       "        vertical-align: top;\n",
       "    }\n",
       "\n",
       "    .dataframe thead th {\n",
       "        text-align: right;\n",
       "    }\n",
       "</style>\n",
       "<table border=\"1\" class=\"dataframe\">\n",
       "  <thead>\n",
       "    <tr style=\"text-align: right;\">\n",
       "      <th></th>\n",
       "      <th>Customer Name</th>\n",
       "      <th>Store</th>\n",
       "      <th>Last week number of visits</th>\n",
       "      <th>Last week Purchase $</th>\n",
       "    </tr>\n",
       "  </thead>\n",
       "  <tbody>\n",
       "    <tr>\n",
       "      <th>0</th>\n",
       "      <td>Nelson Rivera</td>\n",
       "      <td>Starbuck - Claremont Village</td>\n",
       "      <td>3</td>\n",
       "      <td>NaN</td>\n",
       "    </tr>\n",
       "    <tr>\n",
       "      <th>1</th>\n",
       "      <td>Abbigail Felix</td>\n",
       "      <td>Starbuck - Claremont Village</td>\n",
       "      <td>1</td>\n",
       "      <td>NaN</td>\n",
       "    </tr>\n",
       "    <tr>\n",
       "      <th>2</th>\n",
       "      <td>Kelly North</td>\n",
       "      <td>Starbuck - Claremont Village</td>\n",
       "      <td>2</td>\n",
       "      <td>NaN</td>\n",
       "    </tr>\n",
       "    <tr>\n",
       "      <th>3</th>\n",
       "      <td>Aneesa Moran</td>\n",
       "      <td>Starbuck - Claremont Village</td>\n",
       "      <td>5</td>\n",
       "      <td>NaN</td>\n",
       "    </tr>\n",
       "    <tr>\n",
       "      <th>4</th>\n",
       "      <td>Ammara Ritter</td>\n",
       "      <td>Starbuck - Claremont Village</td>\n",
       "      <td>7</td>\n",
       "      <td>NaN</td>\n",
       "    </tr>\n",
       "    <tr>\n",
       "      <th>5</th>\n",
       "      <td>Elise Valenzuela</td>\n",
       "      <td>Starbuck - Claremont Village</td>\n",
       "      <td>1</td>\n",
       "      <td>NaN</td>\n",
       "    </tr>\n",
       "    <tr>\n",
       "      <th>6</th>\n",
       "      <td>Jaidan Gay</td>\n",
       "      <td>Starbuck - Claremont Village</td>\n",
       "      <td>4</td>\n",
       "      <td>NaN</td>\n",
       "    </tr>\n",
       "    <tr>\n",
       "      <th>7</th>\n",
       "      <td>Alejandro Mercer</td>\n",
       "      <td>Starbuck - Claremont Village</td>\n",
       "      <td>3</td>\n",
       "      <td>NaN</td>\n",
       "    </tr>\n",
       "    <tr>\n",
       "      <th>8</th>\n",
       "      <td>Arisha Whittaker</td>\n",
       "      <td>Starbuck - Claremont Village</td>\n",
       "      <td>5</td>\n",
       "      <td>NaN</td>\n",
       "    </tr>\n",
       "    <tr>\n",
       "      <th>9</th>\n",
       "      <td>Mehmet Power</td>\n",
       "      <td>Starbuck - Claremont Village</td>\n",
       "      <td>2</td>\n",
       "      <td>NaN</td>\n",
       "    </tr>\n",
       "  </tbody>\n",
       "</table>\n",
       "</div>"
      ],
      "text/plain": [
       "      Customer Name                         Store  Last week number of visits  \\\n",
       "0     Nelson Rivera  Starbuck - Claremont Village                           3   \n",
       "1    Abbigail Felix  Starbuck - Claremont Village                           1   \n",
       "2       Kelly North  Starbuck - Claremont Village                           2   \n",
       "3      Aneesa Moran  Starbuck - Claremont Village                           5   \n",
       "4     Ammara Ritter  Starbuck - Claremont Village                           7   \n",
       "5  Elise Valenzuela  Starbuck - Claremont Village                           1   \n",
       "6        Jaidan Gay  Starbuck - Claremont Village                           4   \n",
       "7  Alejandro Mercer  Starbuck - Claremont Village                           3   \n",
       "8  Arisha Whittaker  Starbuck - Claremont Village                           5   \n",
       "9      Mehmet Power  Starbuck - Claremont Village                           2   \n",
       "\n",
       "   Last week Purchase $  \n",
       "0                   NaN  \n",
       "1                   NaN  \n",
       "2                   NaN  \n",
       "3                   NaN  \n",
       "4                   NaN  \n",
       "5                   NaN  \n",
       "6                   NaN  \n",
       "7                   NaN  \n",
       "8                   NaN  \n",
       "9                   NaN  "
      ]
     },
     "execution_count": 24,
     "metadata": {},
     "output_type": "execute_result"
    }
   ],
   "source": [
    "customer2_df = pd.read_excel('Customers Dataset 2.xlsx')\n",
    "customer2_df"
   ]
  },
  {
   "cell_type": "code",
   "execution_count": 25,
   "id": "242f2659",
   "metadata": {},
   "outputs": [
    {
     "data": {
      "image/png": "[encoded data removed]",
      "text/plain": [
       "<Figure size 640x480 with 1 Axes>"
      ]
     },
     "metadata": {},
     "output_type": "display_data"
    }
   ],
   "source": [
    "import seaborn as sns\n",
    "sns.regplot(x='Last week number of visits',\n",
    "            y='Last week Purchase $',\n",
    "            data = customer_df)\n",
    "plt.show()"
   ]
  },
  {
   "cell_type": "code",
   "execution_count": null,
   "id": "7e3caf81",
   "metadata": {},
   "outputs": [],
   "source": [
    "customer2_df['Last week Purchase $'] = customer_df['Last week number of visits'].apply(lambda v: 1.0930+4.867*v)\n",
    "customer2_df\n"
   ]
  }
 ],
 "metadata": {
  "kernelspec": {
   "display_name": "Python 3 (ipykernel)",
   "language": "python",
   "name": "python3"
  },
  "language_info": {
   "codemirror_mode": {
    "name": "ipython",
    "version": 3
   },
   "file_extension": ".py",
   "mimetype": "text/x-python",
   "name": "python",
   "nbconvert_exporter": "python",
   "pygments_lexer": "ipython3",
   "version": "3.11.7"
  }
 },
 "nbformat": 4,
 "nbformat_minor": 5
}
