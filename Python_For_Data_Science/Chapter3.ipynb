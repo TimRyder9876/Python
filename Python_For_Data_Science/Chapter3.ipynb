{
 "cells": [
  {
   "cell_type": "markdown",
   "id": "ea2483a3",
   "metadata": {},
   "source": [
    "## Numpy"
   ]
  },
  {
   "cell_type": "code",
   "execution_count": 1,
   "id": "aca5045b",
   "metadata": {},
   "outputs": [],
   "source": [
    "import numpy as np"
   ]
  },
  {
   "cell_type": "code",
   "execution_count": 2,
   "id": "61e7f62e",
   "metadata": {},
   "outputs": [
    {
     "name": "stdout",
     "output_type": "stream",
     "text": [
      "[[2000 3000 3000]\n",
      " [2600 2800 2800]\n",
      " [2300 2500 2500]]\n"
     ]
    }
   ],
   "source": [
    "jeff_salary = [2000,3000,3000]\n",
    "nick_salary = [2600,2800,2800]\n",
    "tom_salary = [2300, 2500, 2500]\n",
    "base_salary = np.array([jeff_salary, nick_salary, tom_salary])\n",
    "print(base_salary)"
   ]
  },
  {
   "cell_type": "code",
   "execution_count": 3,
   "id": "0e1ba025",
   "metadata": {},
   "outputs": [
    {
     "name": "stdout",
     "output_type": "stream",
     "text": [
      "[[500 400 400]\n",
      " [600 300 400]\n",
      " [200 500 400]]\n"
     ]
    }
   ],
   "source": [
    "jeff_bonus = [500,400,400]\n",
    "nick_bonus = [600,300,400]\n",
    "tom_bonus = [200,500,400]\n",
    "bonus = np.array([jeff_bonus, nick_bonus, tom_bonus])\n",
    "print(bonus)"
   ]
  },
  {
   "cell_type": "markdown",
   "id": "d5f64ea0",
   "metadata": {},
   "source": [
    "## Performing Element-wise operations"
   ]
  },
  {
   "cell_type": "code",
   "execution_count": 4,
   "id": "846e3078",
   "metadata": {},
   "outputs": [
    {
     "name": "stdout",
     "output_type": "stream",
     "text": [
      "<class 'numpy.ndarray'>\n",
      "[[2500 3400 3400]\n",
      " [3200 3100 3200]\n",
      " [2500 3000 2900]]\n"
     ]
    }
   ],
   "source": [
    "salary_bonus = base_salary+bonus\n",
    "print(type(salary_bonus))\n",
    "print(salary_bonus)"
   ]
  },
  {
   "cell_type": "markdown",
   "id": "053adf21",
   "metadata": {},
   "source": [
    "## using Numpy Statistical Functions"
   ]
  },
  {
   "cell_type": "code",
   "execution_count": 5,
   "id": "47725ade",
   "metadata": {},
   "outputs": [
    {
     "name": "stdout",
     "output_type": "stream",
     "text": [
      "3400\n"
     ]
    }
   ],
   "source": [
    "print(salary_bonus.max())"
   ]
  },
  {
   "cell_type": "code",
   "execution_count": 6,
   "id": "ce4cf263",
   "metadata": {},
   "outputs": [
    {
     "name": "stdout",
     "output_type": "stream",
     "text": [
      "[3400 3200 3000]\n"
     ]
    }
   ],
   "source": [
    "# For each row, return the highest value in the array\n",
    "print(np.amax(salary_bonus, axis=1))"
   ]
  },
  {
   "cell_type": "code",
   "execution_count": 7,
   "id": "30156533",
   "metadata": {},
   "outputs": [
    {
     "name": "stdout",
     "output_type": "stream",
     "text": [
      "[3200 3400 3400]\n"
     ]
    }
   ],
   "source": [
    "# For each column, return the highest value in the array\n",
    "print(np.amax(salary_bonus, axis=0))"
   ]
  },
  {
   "cell_type": "markdown",
   "id": "8016d018",
   "metadata": {},
   "source": [
    "## Pandas"
   ]
  },
  {
   "cell_type": "code",
   "execution_count": 8,
   "id": "d018e0bf",
   "metadata": {},
   "outputs": [
    {
     "name": "stdout",
     "output_type": "stream",
     "text": [
      "0    Jeff Russell\n",
      "1    Jane Boorman\n",
      "2      Tom Heints\n",
      "dtype: object\n"
     ]
    }
   ],
   "source": [
    "import pandas as pd\n",
    "data = ['Jeff Russell','Jane Boorman','Tom Heints']\n",
    "emps_names = pd.Series(data)\n",
    "print(emps_names)"
   ]
  },
  {
   "cell_type": "code",
   "execution_count": 9,
   "id": "873b5adb",
   "metadata": {},
   "outputs": [
    {
     "name": "stdout",
     "output_type": "stream",
     "text": [
      "9001    Jeff Russell\n",
      "9002    Jane Boorman\n",
      "9003      Tom Heints\n",
      "dtype: object\n"
     ]
    }
   ],
   "source": [
    "data = ['Jeff Russell','Jane Boorman','Tom Heints']\n",
    "emps_names = pd.Series(data, index=[9001,9002,9003])\n",
    "print(emps_names)"
   ]
  },
  {
   "cell_type": "markdown",
   "id": "0c78ebc2",
   "metadata": {},
   "source": [
    "## Accessing data in a series"
   ]
  },
  {
   "cell_type": "code",
   "execution_count": 11,
   "id": "44dc66e9",
   "metadata": {},
   "outputs": [
    {
     "name": "stdout",
     "output_type": "stream",
     "text": [
      "Jeff Russell\n"
     ]
    }
   ],
   "source": [
    "print(emps_names[9001])"
   ]
  },
  {
   "cell_type": "code",
   "execution_count": 12,
   "id": "109974a2",
   "metadata": {},
   "outputs": [
    {
     "name": "stdout",
     "output_type": "stream",
     "text": [
      "Jeff Russell\n"
     ]
    }
   ],
   "source": [
    "print(emps_names.loc[9001])"
   ]
  },
  {
   "cell_type": "code",
   "execution_count": 13,
   "id": "66b6764d",
   "metadata": {},
   "outputs": [
    {
     "name": "stdout",
     "output_type": "stream",
     "text": [
      "Jeff Russell\n"
     ]
    }
   ],
   "source": [
    "print(emps_names.iloc[0])"
   ]
  },
  {
   "cell_type": "code",
   "execution_count": 14,
   "id": "8a2e2aee",
   "metadata": {},
   "outputs": [
    {
     "name": "stdout",
     "output_type": "stream",
     "text": [
      "9001    Jeff Russell\n",
      "9002    Jane Boorman\n",
      "dtype: object\n"
     ]
    }
   ],
   "source": [
    "print(emps_names.loc[9001:9002])"
   ]
  },
  {
   "cell_type": "code",
   "execution_count": 15,
   "id": "aa36e7fb",
   "metadata": {},
   "outputs": [
    {
     "name": "stdout",
     "output_type": "stream",
     "text": [
      "9001    Jeff Russell\n",
      "9002    Jane Boorman\n",
      "dtype: object\n"
     ]
    }
   ],
   "source": [
    "print(emps_names.iloc[0:2])"
   ]
  },
  {
   "cell_type": "code",
   "execution_count": 16,
   "id": "47f220d7",
   "metadata": {},
   "outputs": [
    {
     "name": "stdout",
     "output_type": "stream",
     "text": [
      "9001    Jeff Russell\n",
      "9002    Jane Boorman\n",
      "dtype: object\n"
     ]
    }
   ],
   "source": [
    "print(emps_names[0:2])"
   ]
  },
  {
   "cell_type": "markdown",
   "id": "3d7a6a64",
   "metadata": {},
   "source": [
    "## Combining series into a dataframe"
   ]
  },
  {
   "cell_type": "code",
   "execution_count": 17,
   "id": "a82a7671",
   "metadata": {},
   "outputs": [
    {
     "name": "stdout",
     "output_type": "stream",
     "text": [
      "             names        emails\n",
      "9001  Jeff Russell  Jeff.Russell\n",
      "9002  Jane Boorman  Jane.Boorman\n",
      "9003    Tom Heints    Tom.Heints\n"
     ]
    }
   ],
   "source": [
    "data = ['Jeff.Russell','Jane.Boorman','Tom.Heints']\n",
    "emps_emails = pd.Series(data, index=[9001,9002,9003], name='emails')\n",
    "emps_names.name = 'names'\n",
    "df = pd.concat([emps_names, emps_emails], axis=1)\n",
    "print(df)"
   ]
  },
  {
   "cell_type": "markdown",
   "id": "6d61bb56",
   "metadata": {},
   "source": [
    "## creating pandas dataframes"
   ]
  },
  {
   "cell_type": "markdown",
   "id": "4310d764",
   "metadata": {},
   "source": [
    "## YFinance module"
   ]
  },
  {
   "cell_type": "code",
   "execution_count": 18,
   "id": "f822070f",
   "metadata": {},
   "outputs": [],
   "source": [
    "import yfinance as yf\n",
    "tkr = yf.Ticker('TSLA')\n",
    "hist = tkr.history(period=\"5d\")\n",
    "hist = hist.drop(\"Dividends\", axis=1)\n",
    "hist = hist.drop(\"Stock Splits\", axis=1)\n",
    "hist = hist.reset_index()\n",
    "hist = hist.set_index('Date')"
   ]
  },
  {
   "cell_type": "code",
   "execution_count": 19,
   "id": "60da64e2",
   "metadata": {},
   "outputs": [],
   "source": [
    "hist = hist.set_index('Date')"
   ]
  },
  {
   "cell_type": "code",
   "execution_count": 20,
   "id": "a5e22963",
   "metadata": {},
   "outputs": [
    {
     "data": {
      "text/html": [
       "<div>\n",
       "<style scoped>\n",
       "    .dataframe tbody tr th:only-of-type {\n",
       "        vertical-align: middle;\n",
       "    }\n",
       "\n",
       "    .dataframe tbody tr th {\n",
       "        vertical-align: top;\n",
       "    }\n",
       "\n",
       "    .dataframe thead th {\n",
       "        text-align: right;\n",
       "    }\n",
       "</style>\n",
       "<table border=\"1\" class=\"dataframe\">\n",
       "  <thead>\n",
       "    <tr style=\"text-align: right;\">\n",
       "      <th></th>\n",
       "      <th>Open</th>\n",
       "      <th>High</th>\n",
       "      <th>Low</th>\n",
       "      <th>Close</th>\n",
       "      <th>Volume</th>\n",
       "    </tr>\n",
       "    <tr>\n",
       "      <th>Date</th>\n",
       "      <th></th>\n",
       "      <th></th>\n",
       "      <th></th>\n",
       "      <th></th>\n",
       "      <th></th>\n",
       "    </tr>\n",
       "  </thead>\n",
       "  <tbody>\n",
       "    <tr>\n",
       "      <th>2025-01-28 00:00:00-05:00</th>\n",
       "      <td>396.910004</td>\n",
       "      <td>400.589996</td>\n",
       "      <td>386.500000</td>\n",
       "      <td>398.089996</td>\n",
       "      <td>48910700</td>\n",
       "    </tr>\n",
       "    <tr>\n",
       "      <th>2025-01-29 00:00:00-05:00</th>\n",
       "      <td>395.209991</td>\n",
       "      <td>398.589996</td>\n",
       "      <td>384.480011</td>\n",
       "      <td>389.100006</td>\n",
       "      <td>68033600</td>\n",
       "    </tr>\n",
       "    <tr>\n",
       "      <th>2025-01-30 00:00:00-05:00</th>\n",
       "      <td>410.779999</td>\n",
       "      <td>412.500000</td>\n",
       "      <td>384.410004</td>\n",
       "      <td>400.279999</td>\n",
       "      <td>98092900</td>\n",
       "    </tr>\n",
       "    <tr>\n",
       "      <th>2025-01-31 00:00:00-05:00</th>\n",
       "      <td>401.529999</td>\n",
       "      <td>419.989990</td>\n",
       "      <td>401.339996</td>\n",
       "      <td>404.600006</td>\n",
       "      <td>83283600</td>\n",
       "    </tr>\n",
       "    <tr>\n",
       "      <th>2025-02-03 00:00:00-05:00</th>\n",
       "      <td>386.690002</td>\n",
       "      <td>389.170013</td>\n",
       "      <td>374.390015</td>\n",
       "      <td>382.390015</td>\n",
       "      <td>71566665</td>\n",
       "    </tr>\n",
       "  </tbody>\n",
       "</table>\n",
       "</div>"
      ],
      "text/plain": [
       "                                 Open        High         Low       Close  \\\n",
       "Date                                                                        \n",
       "2025-01-28 00:00:00-05:00  396.910004  400.589996  386.500000  398.089996   \n",
       "2025-01-29 00:00:00-05:00  395.209991  398.589996  384.480011  389.100006   \n",
       "2025-01-30 00:00:00-05:00  410.779999  412.500000  384.410004  400.279999   \n",
       "2025-01-31 00:00:00-05:00  401.529999  419.989990  401.339996  404.600006   \n",
       "2025-02-03 00:00:00-05:00  386.690002  389.170013  374.390015  382.390015   \n",
       "\n",
       "                             Volume  \n",
       "Date                                 \n",
       "2025-01-28 00:00:00-05:00  48910700  \n",
       "2025-01-29 00:00:00-05:00  68033600  \n",
       "2025-01-30 00:00:00-05:00  98092900  \n",
       "2025-01-31 00:00:00-05:00  83283600  \n",
       "2025-02-03 00:00:00-05:00  71566665  "
      ]
     },
     "execution_count": 20,
     "metadata": {},
     "output_type": "execute_result"
    }
   ],
   "source": [
    "hist"
   ]
  },
  {
   "cell_type": "code",
   "execution_count": 21,
   "id": "64b57210",
   "metadata": {},
   "outputs": [
    {
     "data": {
      "text/plain": [
       "(5, 5)"
      ]
     },
     "execution_count": 21,
     "metadata": {},
     "output_type": "execute_result"
    }
   ],
   "source": [
    "hist.shape"
   ]
  },
  {
   "cell_type": "markdown",
   "id": "e0d52528",
   "metadata": {},
   "source": [
    "## Json Module"
   ]
  },
  {
   "cell_type": "code",
   "execution_count": 26,
   "id": "2c10bd4e",
   "metadata": {},
   "outputs": [
    {
     "name": "stdout",
     "output_type": "stream",
     "text": [
      "       Salary\n",
      "Empno        \n",
      "9001     3000\n",
      "9002     2800\n",
      "9003     2500\n"
     ]
    },
    {
     "name": "stderr",
     "output_type": "stream",
     "text": [
      "C:\\Users\\timry\\AppData\\Local\\Temp\\ipykernel_50180\\421804404.py:9: FutureWarning: Passing literal json to 'read_json' is deprecated and will be removed in a future version. To read from a literal string, wrap it in a 'StringIO' object.\n",
      "  salary = pd.read_json(json_data)\n"
     ]
    }
   ],
   "source": [
    "import json\n",
    "import pandas as pd\n",
    "data = [\n",
    "    {\"Empno\":9001, \"Salary\":3000},\n",
    "    {\"Empno\":9002, \"Salary\":2800},\n",
    "    {\"Empno\":9003, \"Salary\":2500}\n",
    "]\n",
    "json_data = json.dumps(data)\n",
    "salary = pd.read_json(json_data)\n",
    "salary = salary.set_index('Empno')\n",
    "print(salary)"
   ]
  },
  {
   "cell_type": "code",
   "execution_count": 28,
   "id": "a420d5ba",
   "metadata": {},
   "outputs": [
    {
     "name": "stdout",
     "output_type": "stream",
     "text": [
      "               Name    Job\n",
      "Empno                     \n",
      "9001   Jeff Russell  sales\n",
      "9002   Jane Boorman  sales\n",
      "9003     Tom Heints  sales\n"
     ]
    }
   ],
   "source": [
    "import pandas as pd\n",
    "data = [['9001','Jeff Russell','sales'],\n",
    "        ['9002','Jane Boorman','sales'],\n",
    "        ['9003','Tom Heints','sales']]\n",
    "emps = pd.DataFrame(data,columns = ['Empno','Name','Job'])\n",
    "column_types = {'Empno':int, 'Name':str, 'Job':str}\n",
    "emps = emps.astype(column_types)\n",
    "emps = emps.set_index('Empno')\n",
    "print(emps)"
   ]
  },
  {
   "cell_type": "markdown",
   "id": "0f506799",
   "metadata": {},
   "source": [
    "## Combining Dataframes"
   ]
  },
  {
   "cell_type": "code",
   "execution_count": 98,
   "id": "ee14bdfb",
   "metadata": {},
   "outputs": [
    {
     "name": "stdout",
     "output_type": "stream",
     "text": [
      "               Name    Job  Salary\n",
      "Empno                             \n",
      "9001   Jeff Russell  sales  3000.0\n",
      "9002   Jane Boorman  sales  2800.0\n",
      "9003     Tom Heints  sales  2500.0\n",
      "9004     John Hardy  sales     NaN\n"
     ]
    }
   ],
   "source": [
    "emps_salary = emps.join(salary)\n",
    "print(emps_salary)"
   ]
  },
  {
   "cell_type": "code",
   "execution_count": 99,
   "id": "12275f54",
   "metadata": {},
   "outputs": [],
   "source": [
    "new_emp = pd.Series({'Name': 'John Hardy', 'Job': 'sales'}, name = 9004)\n",
    "emps.loc[new_emp.name] = new_emp\n"
   ]
  },
  {
   "cell_type": "code",
   "execution_count": 100,
   "id": "e0fe96eb",
   "metadata": {},
   "outputs": [
    {
     "name": "stdout",
     "output_type": "stream",
     "text": [
      "               Name    Job\n",
      "Empno                     \n",
      "9001   Jeff Russell  sales\n",
      "9002   Jane Boorman  sales\n",
      "9003     Tom Heints  sales\n",
      "9004     John Hardy  sales\n"
     ]
    }
   ],
   "source": [
    "print(emps)"
   ]
  },
  {
   "cell_type": "code",
   "execution_count": 103,
   "id": "de046829",
   "metadata": {},
   "outputs": [
    {
     "name": "stdout",
     "output_type": "stream",
     "text": [
      "               Name    Job  Salary\n",
      "Empno                             \n",
      "9001   Jeff Russell  sales  3000.0\n",
      "9002   Jane Boorman  sales  2800.0\n",
      "9003     Tom Heints  sales  2500.0\n",
      "9004     John Hardy  sales     NaN\n"
     ]
    }
   ],
   "source": [
    "emps_salary = emps.join(salary)\n",
    "print(emps_salary)"
   ]
  },
  {
   "cell_type": "code",
   "execution_count": 104,
   "id": "9d26fc15",
   "metadata": {},
   "outputs": [
    {
     "name": "stdout",
     "output_type": "stream",
     "text": [
      "               Name    Job  Salary\n",
      "Empno                             \n",
      "9001   Jeff Russell  sales    3000\n",
      "9002   Jane Boorman  sales    2800\n",
      "9003     Tom Heints  sales    2500\n"
     ]
    }
   ],
   "source": [
    "emps_salary = emps.join(salary, how = 'inner')\n",
    "print(emps_salary)\n"
   ]
  },
  {
   "cell_type": "markdown",
   "id": "428b1be0",
   "metadata": {},
   "source": [
    "# One-to-many joins"
   ]
  },
  {
   "cell_type": "code",
   "execution_count": 105,
   "id": "dc188ad8",
   "metadata": {},
   "outputs": [
    {
     "name": "stdout",
     "output_type": "stream",
     "text": [
      "   Pono  Empno  Total\n",
      "0  2608   9001     35\n",
      "1  2617   9001     35\n",
      "2  2620   9001    139\n",
      "3  2621   9002     95\n",
      "4  2626   9002    218\n"
     ]
    }
   ],
   "source": [
    "import pandas as pd\n",
    "data = [[2608,9001,35],\n",
    "        [2617,9001,35],\n",
    "        [2620,9001,139],\n",
    "        [2621,9002,95],\n",
    "        [2626,9002,218]]\n",
    "orders = pd.DataFrame(data, columns=['Pono','Empno','Total'])\n",
    "print(orders)"
   ]
  },
  {
   "cell_type": "code",
   "execution_count": 106,
   "id": "8202cc94",
   "metadata": {},
   "outputs": [
    {
     "name": "stdout",
     "output_type": "stream",
     "text": [
      "      Empno          Name    Job  Total\n",
      "Pono                                   \n",
      "2608   9001  Jeff Russell  sales     35\n",
      "2617   9001  Jeff Russell  sales     35\n",
      "2620   9001  Jeff Russell  sales    139\n",
      "2621   9002  Jane Boorman  sales     95\n",
      "2626   9002  Jane Boorman  sales    218\n"
     ]
    }
   ],
   "source": [
    "emp_orders = emps.merge(orders, \n",
    "                        how=\"inner\", \n",
    "                        left_on=\"Empno\",\n",
    "                        right_on=\"Empno\").set_index(\"Pono\")\n",
    "print(emps_orders)"
   ]
  },
  {
   "cell_type": "code",
   "execution_count": 107,
   "id": "9063d0d0",
   "metadata": {},
   "outputs": [
    {
     "name": "stdout",
     "output_type": "stream",
     "text": [
      "Empno\n",
      "9001     69.666667\n",
      "9002    156.500000\n",
      "Name: Total, dtype: float64\n"
     ]
    }
   ],
   "source": [
    "print(orders.groupby(['Empno'])[\"Total\"].mean())"
   ]
  },
  {
   "cell_type": "code",
   "execution_count": 108,
   "id": "028f299c",
   "metadata": {},
   "outputs": [
    {
     "name": "stdout",
     "output_type": "stream",
     "text": [
      "Empno\n",
      "9001    209\n",
      "9002    313\n",
      "Name: Total, dtype: int64\n"
     ]
    }
   ],
   "source": [
    "print(orders.groupby(['Empno'])[\"Total\"].sum())"
   ]
  },
  {
   "cell_type": "markdown",
   "id": "669c999e",
   "metadata": {},
   "source": [
    "# Loading the sample dataset into a panda dataframe"
   ]
  },
  {
   "cell_type": "code",
   "execution_count": 111,
   "id": "f290cdfc",
   "metadata": {},
   "outputs": [],
   "source": [
    "import pandas as pd\n",
    "df = pd.read_csv('amazon_cells_labelled.txt', names=['review', 'sentiment'], sep='\\t')"
   ]
  },
  {
   "cell_type": "code",
   "execution_count": 115,
   "id": "c454db86",
   "metadata": {},
   "outputs": [
    {
     "data": {
      "text/html": [
       "<div>\n",
       "<style scoped>\n",
       "    .dataframe tbody tr th:only-of-type {\n",
       "        vertical-align: middle;\n",
       "    }\n",
       "\n",
       "    .dataframe tbody tr th {\n",
       "        vertical-align: top;\n",
       "    }\n",
       "\n",
       "    .dataframe thead th {\n",
       "        text-align: right;\n",
       "    }\n",
       "</style>\n",
       "<table border=\"1\" class=\"dataframe\">\n",
       "  <thead>\n",
       "    <tr style=\"text-align: right;\">\n",
       "      <th></th>\n",
       "      <th>review</th>\n",
       "      <th>sentiment</th>\n",
       "    </tr>\n",
       "  </thead>\n",
       "  <tbody>\n",
       "    <tr>\n",
       "      <th>0</th>\n",
       "      <td>So there is no way for me to plug it in here i...</td>\n",
       "      <td>0</td>\n",
       "    </tr>\n",
       "    <tr>\n",
       "      <th>1</th>\n",
       "      <td>Good case, Excellent value.</td>\n",
       "      <td>1</td>\n",
       "    </tr>\n",
       "    <tr>\n",
       "      <th>2</th>\n",
       "      <td>Great for the jawbone.</td>\n",
       "      <td>1</td>\n",
       "    </tr>\n",
       "    <tr>\n",
       "      <th>3</th>\n",
       "      <td>Tied to charger for conversations lasting more...</td>\n",
       "      <td>0</td>\n",
       "    </tr>\n",
       "    <tr>\n",
       "      <th>4</th>\n",
       "      <td>The mic is great.</td>\n",
       "      <td>1</td>\n",
       "    </tr>\n",
       "  </tbody>\n",
       "</table>\n",
       "</div>"
      ],
      "text/plain": [
       "                                              review  sentiment\n",
       "0  So there is no way for me to plug it in here i...          0\n",
       "1                        Good case, Excellent value.          1\n",
       "2                             Great for the jawbone.          1\n",
       "3  Tied to charger for conversations lasting more...          0\n",
       "4                                  The mic is great.          1"
      ]
     },
     "execution_count": 115,
     "metadata": {},
     "output_type": "execute_result"
    }
   ],
   "source": [
    "df.head()"
   ]
  },
  {
   "cell_type": "markdown",
   "id": "b503f7bc",
   "metadata": {},
   "source": [
    "# Splitting the sample dataset into training set and a test set"
   ]
  },
  {
   "cell_type": "code",
   "execution_count": 114,
   "id": "387d5796",
   "metadata": {},
   "outputs": [],
   "source": [
    "from sklearn.model_selection import train_test_split\n",
    "reviews = df['review'].values\n",
    "sentiments = df['sentiment'].values\n",
    "reviews_train, reviews_test, sentiment_train, sentiment_test = train_test_split(reviews, \n",
    "                                                                                sentiments, \n",
    "                                                                                test_size=0.2, \n",
    "                                                                                random_state=500)\n"
   ]
  },
  {
   "cell_type": "markdown",
   "id": "c93d71e8",
   "metadata": {},
   "source": [
    "## Transforming text into numerical feature vectors"
   ]
  },
  {
   "cell_type": "code",
   "execution_count": 116,
   "id": "211da6bb",
   "metadata": {},
   "outputs": [],
   "source": [
    "from sklearn.feature_extraction.text import CountVectorizer\n",
    "vectorizer = CountVectorizer()\n",
    "vectorizer.fit(reviews)\n",
    "X_train = vectorizer.transform(reviews_train)\n",
    "X_test = vectorizer.transform(reviews_test)"
   ]
  },
  {
   "cell_type": "code",
   "execution_count": null,
   "id": "1ac110f3",
   "metadata": {},
   "outputs": [],
   "source": []
  },
  {
   "cell_type": "markdown",
   "id": "ad3f8c93",
   "metadata": {},
   "source": [
    "## Training and Evaluating the model"
   ]
  },
  {
   "cell_type": "code",
   "execution_count": 117,
   "id": "41f681cc",
   "metadata": {},
   "outputs": [
    {
     "data": {
      "text/html": [
       "<style>#sk-container-id-3 {\n",
       "  /* Definition of color scheme common for light and dark mode */\n",
       "  --sklearn-color-text: #000;\n",
       "  --sklearn-color-text-muted: #666;\n",
       "  --sklearn-color-line: gray;\n",
       "  /* Definition of color scheme for unfitted estimators */\n",
       "  --sklearn-color-unfitted-level-0: #fff5e6;\n",
       "  --sklearn-color-unfitted-level-1: #f6e4d2;\n",
       "  --sklearn-color-unfitted-level-2: #ffe0b3;\n",
       "  --sklearn-color-unfitted-level-3: chocolate;\n",
       "  /* Definition of color scheme for fitted estimators */\n",
       "  --sklearn-color-fitted-level-0: #f0f8ff;\n",
       "  --sklearn-color-fitted-level-1: #d4ebff;\n",
       "  --sklearn-color-fitted-level-2: #b3dbfd;\n",
       "  --sklearn-color-fitted-level-3: cornflowerblue;\n",
       "\n",
       "  /* Specific color for light theme */\n",
       "  --sklearn-color-text-on-default-background: var(--sg-text-color, var(--theme-code-foreground, var(--jp-content-font-color1, black)));\n",
       "  --sklearn-color-background: var(--sg-background-color, var(--theme-background, var(--jp-layout-color0, white)));\n",
       "  --sklearn-color-border-box: var(--sg-text-color, var(--theme-code-foreground, var(--jp-content-font-color1, black)));\n",
       "  --sklearn-color-icon: #696969;\n",
       "\n",
       "  @media (prefers-color-scheme: dark) {\n",
       "    /* Redefinition of color scheme for dark theme */\n",
       "    --sklearn-color-text-on-default-background: var(--sg-text-color, var(--theme-code-foreground, var(--jp-content-font-color1, white)));\n",
       "    --sklearn-color-background: var(--sg-background-color, var(--theme-background, var(--jp-layout-color0, #111)));\n",
       "    --sklearn-color-border-box: var(--sg-text-color, var(--theme-code-foreground, var(--jp-content-font-color1, white)));\n",
       "    --sklearn-color-icon: #878787;\n",
       "  }\n",
       "}\n",
       "\n",
       "#sk-container-id-3 {\n",
       "  color: var(--sklearn-color-text);\n",
       "}\n",
       "\n",
       "#sk-container-id-3 pre {\n",
       "  padding: 0;\n",
       "}\n",
       "\n",
       "#sk-container-id-3 input.sk-hidden--visually {\n",
       "  border: 0;\n",
       "  clip: rect(1px 1px 1px 1px);\n",
       "  clip: rect(1px, 1px, 1px, 1px);\n",
       "  height: 1px;\n",
       "  margin: -1px;\n",
       "  overflow: hidden;\n",
       "  padding: 0;\n",
       "  position: absolute;\n",
       "  width: 1px;\n",
       "}\n",
       "\n",
       "#sk-container-id-3 div.sk-dashed-wrapped {\n",
       "  border: 1px dashed var(--sklearn-color-line);\n",
       "  margin: 0 0.4em 0.5em 0.4em;\n",
       "  box-sizing: border-box;\n",
       "  padding-bottom: 0.4em;\n",
       "  background-color: var(--sklearn-color-background);\n",
       "}\n",
       "\n",
       "#sk-container-id-3 div.sk-container {\n",
       "  /* jupyter's `normalize.less` sets `[hidden] { display: none; }`\n",
       "     but bootstrap.min.css set `[hidden] { display: none !important; }`\n",
       "     so we also need the `!important` here to be able to override the\n",
       "     default hidden behavior on the sphinx rendered scikit-learn.org.\n",
       "     See: https://github.com/scikit-learn/scikit-learn/issues/21755 */\n",
       "  display: inline-block !important;\n",
       "  position: relative;\n",
       "}\n",
       "\n",
       "#sk-container-id-3 div.sk-text-repr-fallback {\n",
       "  display: none;\n",
       "}\n",
       "\n",
       "div.sk-parallel-item,\n",
       "div.sk-serial,\n",
       "div.sk-item {\n",
       "  /* draw centered vertical line to link estimators */\n",
       "  background-image: linear-gradient(var(--sklearn-color-text-on-default-background), var(--sklearn-color-text-on-default-background));\n",
       "  background-size: 2px 100%;\n",
       "  background-repeat: no-repeat;\n",
       "  background-position: center center;\n",
       "}\n",
       "\n",
       "/* Parallel-specific style estimator block */\n",
       "\n",
       "#sk-container-id-3 div.sk-parallel-item::after {\n",
       "  content: \"\";\n",
       "  width: 100%;\n",
       "  border-bottom: 2px solid var(--sklearn-color-text-on-default-background);\n",
       "  flex-grow: 1;\n",
       "}\n",
       "\n",
       "#sk-container-id-3 div.sk-parallel {\n",
       "  display: flex;\n",
       "  align-items: stretch;\n",
       "  justify-content: center;\n",
       "  background-color: var(--sklearn-color-background);\n",
       "  position: relative;\n",
       "}\n",
       "\n",
       "#sk-container-id-3 div.sk-parallel-item {\n",
       "  display: flex;\n",
       "  flex-direction: column;\n",
       "}\n",
       "\n",
       "#sk-container-id-3 div.sk-parallel-item:first-child::after {\n",
       "  align-self: flex-end;\n",
       "  width: 50%;\n",
       "}\n",
       "\n",
       "#sk-container-id-3 div.sk-parallel-item:last-child::after {\n",
       "  align-self: flex-start;\n",
       "  width: 50%;\n",
       "}\n",
       "\n",
       "#sk-container-id-3 div.sk-parallel-item:only-child::after {\n",
       "  width: 0;\n",
       "}\n",
       "\n",
       "/* Serial-specific style estimator block */\n",
       "\n",
       "#sk-container-id-3 div.sk-serial {\n",
       "  display: flex;\n",
       "  flex-direction: column;\n",
       "  align-items: center;\n",
       "  background-color: var(--sklearn-color-background);\n",
       "  padding-right: 1em;\n",
       "  padding-left: 1em;\n",
       "}\n",
       "\n",
       "\n",
       "/* Toggleable style: style used for estimator/Pipeline/ColumnTransformer box that is\n",
       "clickable and can be expanded/collapsed.\n",
       "- Pipeline and ColumnTransformer use this feature and define the default style\n",
       "- Estimators will overwrite some part of the style using the `sk-estimator` class\n",
       "*/\n",
       "\n",
       "/* Pipeline and ColumnTransformer style (default) */\n",
       "\n",
       "#sk-container-id-3 div.sk-toggleable {\n",
       "  /* Default theme specific background. It is overwritten whether we have a\n",
       "  specific estimator or a Pipeline/ColumnTransformer */\n",
       "  background-color: var(--sklearn-color-background);\n",
       "}\n",
       "\n",
       "/* Toggleable label */\n",
       "#sk-container-id-3 label.sk-toggleable__label {\n",
       "  cursor: pointer;\n",
       "  display: flex;\n",
       "  width: 100%;\n",
       "  margin-bottom: 0;\n",
       "  padding: 0.5em;\n",
       "  box-sizing: border-box;\n",
       "  text-align: center;\n",
       "  align-items: start;\n",
       "  justify-content: space-between;\n",
       "  gap: 0.5em;\n",
       "}\n",
       "\n",
       "#sk-container-id-3 label.sk-toggleable__label .caption {\n",
       "  font-size: 0.6rem;\n",
       "  font-weight: lighter;\n",
       "  color: var(--sklearn-color-text-muted);\n",
       "}\n",
       "\n",
       "#sk-container-id-3 label.sk-toggleable__label-arrow:before {\n",
       "  /* Arrow on the left of the label */\n",
       "  content: \"▸\";\n",
       "  float: left;\n",
       "  margin-right: 0.25em;\n",
       "  color: var(--sklearn-color-icon);\n",
       "}\n",
       "\n",
       "#sk-container-id-3 label.sk-toggleable__label-arrow:hover:before {\n",
       "  color: var(--sklearn-color-text);\n",
       "}\n",
       "\n",
       "/* Toggleable content - dropdown */\n",
       "\n",
       "#sk-container-id-3 div.sk-toggleable__content {\n",
       "  max-height: 0;\n",
       "  max-width: 0;\n",
       "  overflow: hidden;\n",
       "  text-align: left;\n",
       "  /* unfitted */\n",
       "  background-color: var(--sklearn-color-unfitted-level-0);\n",
       "}\n",
       "\n",
       "#sk-container-id-3 div.sk-toggleable__content.fitted {\n",
       "  /* fitted */\n",
       "  background-color: var(--sklearn-color-fitted-level-0);\n",
       "}\n",
       "\n",
       "#sk-container-id-3 div.sk-toggleable__content pre {\n",
       "  margin: 0.2em;\n",
       "  border-radius: 0.25em;\n",
       "  color: var(--sklearn-color-text);\n",
       "  /* unfitted */\n",
       "  background-color: var(--sklearn-color-unfitted-level-0);\n",
       "}\n",
       "\n",
       "#sk-container-id-3 div.sk-toggleable__content.fitted pre {\n",
       "  /* unfitted */\n",
       "  background-color: var(--sklearn-color-fitted-level-0);\n",
       "}\n",
       "\n",
       "#sk-container-id-3 input.sk-toggleable__control:checked~div.sk-toggleable__content {\n",
       "  /* Expand drop-down */\n",
       "  max-height: 200px;\n",
       "  max-width: 100%;\n",
       "  overflow: auto;\n",
       "}\n",
       "\n",
       "#sk-container-id-3 input.sk-toggleable__control:checked~label.sk-toggleable__label-arrow:before {\n",
       "  content: \"▾\";\n",
       "}\n",
       "\n",
       "/* Pipeline/ColumnTransformer-specific style */\n",
       "\n",
       "#sk-container-id-3 div.sk-label input.sk-toggleable__control:checked~label.sk-toggleable__label {\n",
       "  color: var(--sklearn-color-text);\n",
       "  background-color: var(--sklearn-color-unfitted-level-2);\n",
       "}\n",
       "\n",
       "#sk-container-id-3 div.sk-label.fitted input.sk-toggleable__control:checked~label.sk-toggleable__label {\n",
       "  background-color: var(--sklearn-color-fitted-level-2);\n",
       "}\n",
       "\n",
       "/* Estimator-specific style */\n",
       "\n",
       "/* Colorize estimator box */\n",
       "#sk-container-id-3 div.sk-estimator input.sk-toggleable__control:checked~label.sk-toggleable__label {\n",
       "  /* unfitted */\n",
       "  background-color: var(--sklearn-color-unfitted-level-2);\n",
       "}\n",
       "\n",
       "#sk-container-id-3 div.sk-estimator.fitted input.sk-toggleable__control:checked~label.sk-toggleable__label {\n",
       "  /* fitted */\n",
       "  background-color: var(--sklearn-color-fitted-level-2);\n",
       "}\n",
       "\n",
       "#sk-container-id-3 div.sk-label label.sk-toggleable__label,\n",
       "#sk-container-id-3 div.sk-label label {\n",
       "  /* The background is the default theme color */\n",
       "  color: var(--sklearn-color-text-on-default-background);\n",
       "}\n",
       "\n",
       "/* On hover, darken the color of the background */\n",
       "#sk-container-id-3 div.sk-label:hover label.sk-toggleable__label {\n",
       "  color: var(--sklearn-color-text);\n",
       "  background-color: var(--sklearn-color-unfitted-level-2);\n",
       "}\n",
       "\n",
       "/* Label box, darken color on hover, fitted */\n",
       "#sk-container-id-3 div.sk-label.fitted:hover label.sk-toggleable__label.fitted {\n",
       "  color: var(--sklearn-color-text);\n",
       "  background-color: var(--sklearn-color-fitted-level-2);\n",
       "}\n",
       "\n",
       "/* Estimator label */\n",
       "\n",
       "#sk-container-id-3 div.sk-label label {\n",
       "  font-family: monospace;\n",
       "  font-weight: bold;\n",
       "  display: inline-block;\n",
       "  line-height: 1.2em;\n",
       "}\n",
       "\n",
       "#sk-container-id-3 div.sk-label-container {\n",
       "  text-align: center;\n",
       "}\n",
       "\n",
       "/* Estimator-specific */\n",
       "#sk-container-id-3 div.sk-estimator {\n",
       "  font-family: monospace;\n",
       "  border: 1px dotted var(--sklearn-color-border-box);\n",
       "  border-radius: 0.25em;\n",
       "  box-sizing: border-box;\n",
       "  margin-bottom: 0.5em;\n",
       "  /* unfitted */\n",
       "  background-color: var(--sklearn-color-unfitted-level-0);\n",
       "}\n",
       "\n",
       "#sk-container-id-3 div.sk-estimator.fitted {\n",
       "  /* fitted */\n",
       "  background-color: var(--sklearn-color-fitted-level-0);\n",
       "}\n",
       "\n",
       "/* on hover */\n",
       "#sk-container-id-3 div.sk-estimator:hover {\n",
       "  /* unfitted */\n",
       "  background-color: var(--sklearn-color-unfitted-level-2);\n",
       "}\n",
       "\n",
       "#sk-container-id-3 div.sk-estimator.fitted:hover {\n",
       "  /* fitted */\n",
       "  background-color: var(--sklearn-color-fitted-level-2);\n",
       "}\n",
       "\n",
       "/* Specification for estimator info (e.g. \"i\" and \"?\") */\n",
       "\n",
       "/* Common style for \"i\" and \"?\" */\n",
       "\n",
       ".sk-estimator-doc-link,\n",
       "a:link.sk-estimator-doc-link,\n",
       "a:visited.sk-estimator-doc-link {\n",
       "  float: right;\n",
       "  font-size: smaller;\n",
       "  line-height: 1em;\n",
       "  font-family: monospace;\n",
       "  background-color: var(--sklearn-color-background);\n",
       "  border-radius: 1em;\n",
       "  height: 1em;\n",
       "  width: 1em;\n",
       "  text-decoration: none !important;\n",
       "  margin-left: 0.5em;\n",
       "  text-align: center;\n",
       "  /* unfitted */\n",
       "  border: var(--sklearn-color-unfitted-level-1) 1pt solid;\n",
       "  color: var(--sklearn-color-unfitted-level-1);\n",
       "}\n",
       "\n",
       ".sk-estimator-doc-link.fitted,\n",
       "a:link.sk-estimator-doc-link.fitted,\n",
       "a:visited.sk-estimator-doc-link.fitted {\n",
       "  /* fitted */\n",
       "  border: var(--sklearn-color-fitted-level-1) 1pt solid;\n",
       "  color: var(--sklearn-color-fitted-level-1);\n",
       "}\n",
       "\n",
       "/* On hover */\n",
       "div.sk-estimator:hover .sk-estimator-doc-link:hover,\n",
       ".sk-estimator-doc-link:hover,\n",
       "div.sk-label-container:hover .sk-estimator-doc-link:hover,\n",
       ".sk-estimator-doc-link:hover {\n",
       "  /* unfitted */\n",
       "  background-color: var(--sklearn-color-unfitted-level-3);\n",
       "  color: var(--sklearn-color-background);\n",
       "  text-decoration: none;\n",
       "}\n",
       "\n",
       "div.sk-estimator.fitted:hover .sk-estimator-doc-link.fitted:hover,\n",
       ".sk-estimator-doc-link.fitted:hover,\n",
       "div.sk-label-container:hover .sk-estimator-doc-link.fitted:hover,\n",
       ".sk-estimator-doc-link.fitted:hover {\n",
       "  /* fitted */\n",
       "  background-color: var(--sklearn-color-fitted-level-3);\n",
       "  color: var(--sklearn-color-background);\n",
       "  text-decoration: none;\n",
       "}\n",
       "\n",
       "/* Span, style for the box shown on hovering the info icon */\n",
       ".sk-estimator-doc-link span {\n",
       "  display: none;\n",
       "  z-index: 9999;\n",
       "  position: relative;\n",
       "  font-weight: normal;\n",
       "  right: .2ex;\n",
       "  padding: .5ex;\n",
       "  margin: .5ex;\n",
       "  width: min-content;\n",
       "  min-width: 20ex;\n",
       "  max-width: 50ex;\n",
       "  color: var(--sklearn-color-text);\n",
       "  box-shadow: 2pt 2pt 4pt #999;\n",
       "  /* unfitted */\n",
       "  background: var(--sklearn-color-unfitted-level-0);\n",
       "  border: .5pt solid var(--sklearn-color-unfitted-level-3);\n",
       "}\n",
       "\n",
       ".sk-estimator-doc-link.fitted span {\n",
       "  /* fitted */\n",
       "  background: var(--sklearn-color-fitted-level-0);\n",
       "  border: var(--sklearn-color-fitted-level-3);\n",
       "}\n",
       "\n",
       ".sk-estimator-doc-link:hover span {\n",
       "  display: block;\n",
       "}\n",
       "\n",
       "/* \"?\"-specific style due to the `<a>` HTML tag */\n",
       "\n",
       "#sk-container-id-3 a.estimator_doc_link {\n",
       "  float: right;\n",
       "  font-size: 1rem;\n",
       "  line-height: 1em;\n",
       "  font-family: monospace;\n",
       "  background-color: var(--sklearn-color-background);\n",
       "  border-radius: 1rem;\n",
       "  height: 1rem;\n",
       "  width: 1rem;\n",
       "  text-decoration: none;\n",
       "  /* unfitted */\n",
       "  color: var(--sklearn-color-unfitted-level-1);\n",
       "  border: var(--sklearn-color-unfitted-level-1) 1pt solid;\n",
       "}\n",
       "\n",
       "#sk-container-id-3 a.estimator_doc_link.fitted {\n",
       "  /* fitted */\n",
       "  border: var(--sklearn-color-fitted-level-1) 1pt solid;\n",
       "  color: var(--sklearn-color-fitted-level-1);\n",
       "}\n",
       "\n",
       "/* On hover */\n",
       "#sk-container-id-3 a.estimator_doc_link:hover {\n",
       "  /* unfitted */\n",
       "  background-color: var(--sklearn-color-unfitted-level-3);\n",
       "  color: var(--sklearn-color-background);\n",
       "  text-decoration: none;\n",
       "}\n",
       "\n",
       "#sk-container-id-3 a.estimator_doc_link.fitted:hover {\n",
       "  /* fitted */\n",
       "  background-color: var(--sklearn-color-fitted-level-3);\n",
       "}\n",
       "</style><div id=\"sk-container-id-3\" class=\"sk-top-container\"><div class=\"sk-text-repr-fallback\"><pre>LogisticRegression()</pre><b>In a Jupyter environment, please rerun this cell to show the HTML representation or trust the notebook. <br />On GitHub, the HTML representation is unable to render, please try loading this page with nbviewer.org.</b></div><div class=\"sk-container\" hidden><div class=\"sk-item\"><div class=\"sk-estimator fitted sk-toggleable\"><input class=\"sk-toggleable__control sk-hidden--visually\" id=\"sk-estimator-id-3\" type=\"checkbox\" checked><label for=\"sk-estimator-id-3\" class=\"sk-toggleable__label fitted sk-toggleable__label-arrow\"><div><div>LogisticRegression</div></div><div><a class=\"sk-estimator-doc-link fitted\" rel=\"noreferrer\" target=\"_blank\" href=\"https://scikit-learn.org/1.6/modules/generated/sklearn.linear_model.LogisticRegression.html\">?<span>Documentation for LogisticRegression</span></a><span class=\"sk-estimator-doc-link fitted\">i<span>Fitted</span></span></div></label><div class=\"sk-toggleable__content fitted\"><pre>LogisticRegression()</pre></div> </div></div></div></div>"
      ],
      "text/plain": [
       "LogisticRegression()"
      ]
     },
     "execution_count": 117,
     "metadata": {},
     "output_type": "execute_result"
    }
   ],
   "source": [
    "from sklearn.linear_model import LogisticRegression\n",
    "classifier = LogisticRegression()\n",
    "classifier.fit(X_train, sentiment_train) "
   ]
  },
  {
   "cell_type": "code",
   "execution_count": 118,
   "id": "5beb56e0",
   "metadata": {},
   "outputs": [
    {
     "name": "stdout",
     "output_type": "stream",
     "text": [
      "Accuracy: 0.81\n"
     ]
    }
   ],
   "source": [
    "accuracy = classifier.score(X_test, sentiment_test)\n",
    "print(\"Accuracy:\", accuracy) "
   ]
  },
  {
   "cell_type": "markdown",
   "id": "b24ae59f",
   "metadata": {},
   "source": [
    "## Making predictions on new data"
   ]
  },
  {
   "cell_type": "code",
   "execution_count": 120,
   "id": "37d65472",
   "metadata": {},
   "outputs": [
    {
     "name": "stdout",
     "output_type": "stream",
     "text": [
      "[0 1 1]\n"
     ]
    }
   ],
   "source": [
    "new_reviews = ['Old version of python useless', 'Very good effort', 'Clear and concise']\n",
    "X_new = vectorizer.transform(new_reviews)\n",
    "print(classifier.predict(X_new)) "
   ]
  },
  {
   "cell_type": "code",
   "execution_count": null,
   "id": "f64e80be",
   "metadata": {},
   "outputs": [],
   "source": []
  }
 ],
 "metadata": {
  "kernelspec": {
   "display_name": "Python 3 (ipykernel)",
   "language": "python",
   "name": "python3"
  },
  "language_info": {
   "codemirror_mode": {
    "name": "ipython",
    "version": 3
   },
   "file_extension": ".py",
   "mimetype": "text/x-python",
   "name": "python",
   "nbconvert_exporter": "python",
   "pygments_lexer": "ipython3",
   "version": "3.11.7"
  }
 },
 "nbformat": 4,
 "nbformat_minor": 5
}
