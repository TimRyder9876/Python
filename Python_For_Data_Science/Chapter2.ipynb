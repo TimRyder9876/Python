{
 "cells": [
  {
   "cell_type": "code",
   "execution_count": 1,
   "id": "c3fd8dae",
   "metadata": {},
   "outputs": [],
   "source": [
    "import pandas as pd\n",
    "import numpy as np"
   ]
  },
  {
   "cell_type": "markdown",
   "id": "df7ebfe5",
   "metadata": {},
   "source": [
    "## Common list object methods"
   ]
  },
  {
   "cell_type": "code",
   "execution_count": 2,
   "id": "225ba2fd",
   "metadata": {},
   "outputs": [],
   "source": [
    "my_list = []"
   ]
  },
  {
   "cell_type": "code",
   "execution_count": 3,
   "id": "0198ac03",
   "metadata": {},
   "outputs": [],
   "source": [
    "my_list.append(\"Pay bills\")\n",
    "my_list.append(\"Tidy up\")\n",
    "my_list.append(\"Walk the dog\")\n",
    "my_list.append(\"Cook dinner\")"
   ]
  },
  {
   "cell_type": "code",
   "execution_count": 4,
   "id": "744cf1c8",
   "metadata": {},
   "outputs": [
    {
     "data": {
      "text/plain": [
       "['Pay bills', 'Tidy up', 'Walk the dog', 'Cook dinner']"
      ]
     },
     "execution_count": 4,
     "metadata": {},
     "output_type": "execute_result"
    }
   ],
   "source": [
    "my_list"
   ]
  },
  {
   "cell_type": "code",
   "execution_count": 5,
   "id": "8b99f793",
   "metadata": {},
   "outputs": [
    {
     "name": "stdout",
     "output_type": "stream",
     "text": [
      "Pay bills\n"
     ]
    }
   ],
   "source": [
    "print(my_list[0])"
   ]
  },
  {
   "cell_type": "code",
   "execution_count": 6,
   "id": "85c1c31c",
   "metadata": {},
   "outputs": [],
   "source": [
    "i = my_list.index('Cook dinner')"
   ]
  },
  {
   "cell_type": "code",
   "execution_count": 7,
   "id": "89aed1b5",
   "metadata": {},
   "outputs": [],
   "source": [
    "my_list.insert(i, 'Go to the pharmacy')"
   ]
  },
  {
   "cell_type": "code",
   "execution_count": 8,
   "id": "4ca96737",
   "metadata": {},
   "outputs": [
    {
     "data": {
      "text/plain": [
       "['Pay bills', 'Tidy up', 'Walk the dog', 'Go to the pharmacy', 'Cook dinner']"
      ]
     },
     "execution_count": 8,
     "metadata": {},
     "output_type": "execute_result"
    }
   ],
   "source": [
    "my_list"
   ]
  },
  {
   "cell_type": "code",
   "execution_count": 9,
   "id": "97701174",
   "metadata": {},
   "outputs": [
    {
     "name": "stdout",
     "output_type": "stream",
     "text": [
      "1\n"
     ]
    }
   ],
   "source": [
    "print(my_list.count('Tidy up'))"
   ]
  },
  {
   "cell_type": "markdown",
   "id": "3155096f",
   "metadata": {},
   "source": [
    "## Use Slice Notation"
   ]
  },
  {
   "cell_type": "code",
   "execution_count": 10,
   "id": "b41d6f54",
   "metadata": {},
   "outputs": [
    {
     "name": "stdout",
     "output_type": "stream",
     "text": [
      "['Pay bills', 'Tidy up', 'Walk the dog']\n"
     ]
    }
   ],
   "source": [
    "print(my_list[0:3])"
   ]
  },
  {
   "cell_type": "code",
   "execution_count": 11,
   "id": "705dbbb0",
   "metadata": {},
   "outputs": [
    {
     "name": "stdout",
     "output_type": "stream",
     "text": [
      "['Pay bills', 'Tidy up', 'Walk the dog']\n"
     ]
    }
   ],
   "source": [
    "print(my_list[:3])"
   ]
  },
  {
   "cell_type": "code",
   "execution_count": 12,
   "id": "c7d6cc50",
   "metadata": {},
   "outputs": [
    {
     "name": "stdout",
     "output_type": "stream",
     "text": [
      "['Go to the pharmacy', 'Cook dinner']\n"
     ]
    }
   ],
   "source": [
    "print(my_list[3:])"
   ]
  },
  {
   "cell_type": "code",
   "execution_count": 13,
   "id": "cd27ce8b",
   "metadata": {},
   "outputs": [
    {
     "name": "stdout",
     "output_type": "stream",
     "text": [
      "['Pay bills', 'Tidy up', 'Walk the dog', 'Go to the pharmacy', 'Cook dinner']\n"
     ]
    }
   ],
   "source": [
    "print(my_list[:])"
   ]
  },
  {
   "cell_type": "code",
   "execution_count": 14,
   "id": "6f25cf54",
   "metadata": {},
   "outputs": [],
   "source": [
    "my_list[len(my_list):]=[\"Mow the lawn\",\"Water plants\"]"
   ]
  },
  {
   "cell_type": "code",
   "execution_count": 15,
   "id": "2607f190",
   "metadata": {},
   "outputs": [
    {
     "name": "stdout",
     "output_type": "stream",
     "text": [
      "['Pay bills', 'Tidy up', 'Walk the dog', 'Go to the pharmacy', 'Cook dinner', 'Mow the lawn', 'Water plants']\n"
     ]
    }
   ],
   "source": [
    "print(my_list)"
   ]
  },
  {
   "cell_type": "code",
   "execution_count": 16,
   "id": "11a529d5",
   "metadata": {},
   "outputs": [],
   "source": [
    "del my_list[5:]"
   ]
  },
  {
   "cell_type": "code",
   "execution_count": 17,
   "id": "13708463",
   "metadata": {},
   "outputs": [
    {
     "name": "stdout",
     "output_type": "stream",
     "text": [
      "['Pay bills', 'Tidy up', 'Walk the dog', 'Go to the pharmacy', 'Cook dinner']\n"
     ]
    }
   ],
   "source": [
    "print(my_list)"
   ]
  },
  {
   "cell_type": "markdown",
   "id": "6e510e63",
   "metadata": {},
   "source": [
    "## Using a list as a queue"
   ]
  },
  {
   "cell_type": "code",
   "execution_count": 18,
   "id": "2dc4a9ce",
   "metadata": {},
   "outputs": [
    {
     "name": "stdout",
     "output_type": "stream",
     "text": [
      "Pay bills  - Done!\n"
     ]
    }
   ],
   "source": [
    "from collections import deque\n",
    "queue = deque(my_list)\n",
    "queue.append('Wash the car')\n",
    "print(queue.popleft(),' - Done!')\n",
    "my_list_upd=list(queue)"
   ]
  },
  {
   "cell_type": "code",
   "execution_count": 19,
   "id": "5adfbdff",
   "metadata": {},
   "outputs": [
    {
     "data": {
      "text/plain": [
       "['Tidy up',\n",
       " 'Walk the dog',\n",
       " 'Go to the pharmacy',\n",
       " 'Cook dinner',\n",
       " 'Wash the car']"
      ]
     },
     "execution_count": 19,
     "metadata": {},
     "output_type": "execute_result"
    }
   ],
   "source": [
    "my_list_upd"
   ]
  },
  {
   "cell_type": "markdown",
   "id": "f42fc67c",
   "metadata": {},
   "source": [
    "## Using a list as a stack"
   ]
  },
  {
   "cell_type": "code",
   "execution_count": 20,
   "id": "af3dad3c",
   "metadata": {},
   "outputs": [
    {
     "name": "stdout",
     "output_type": "stream",
     "text": [
      "Cook dinner  - Done!\n",
      "Go to the pharmacy  - Done!\n",
      "Walk the dog  - Done!\n",
      "Tidy up  - Done!\n",
      "Pay bills  - Done!\n",
      "\n",
      "The stack is empty\n"
     ]
    }
   ],
   "source": [
    "my_list = ['Pay bills','Tidy up','Walk the dog','Go to the pharmacy','Cook dinner']\n",
    "stack = []\n",
    "for task in my_list:\n",
    "    stack.append(task)\n",
    "while stack:\n",
    "    print(stack.pop(), ' - Done!')\n",
    "print('\\nThe stack is empty')"
   ]
  },
  {
   "cell_type": "markdown",
   "id": "6e01de2d",
   "metadata": {},
   "source": [
    "## using lists and stacks for natural language processing"
   ]
  },
  {
   "cell_type": "code",
   "execution_count": 1,
   "id": "9caa030b",
   "metadata": {},
   "outputs": [],
   "source": [
    "import spacy"
   ]
  },
  {
   "cell_type": "code",
   "execution_count": 2,
   "id": "4d14e7b7",
   "metadata": {},
   "outputs": [],
   "source": [
    "nlp=spacy.load('en_core_web_sm')"
   ]
  },
  {
   "cell_type": "code",
   "execution_count": 3,
   "id": "4cf67d41",
   "metadata": {},
   "outputs": [
    {
     "name": "stdout",
     "output_type": "stream",
     "text": [
      "list\n",
      "a ubiquitous data structure\n",
      "the Python programming language\n"
     ]
    }
   ],
   "source": [
    "txt = \"list is a ubiquitous data structure in the Python programming language.\"\n",
    "doc=nlp(txt)\n",
    "stk=[]\n",
    "for w in doc:\n",
    "    if w.pos_ == \"NOUN\" or w.pos_ == \"PROPN\":\n",
    "        stk.append(w.text)\n",
    "    elif (w.head.pos_ == \"NOUN\" or w.head.pos_ == \"PROPN\") and \\\n",
    "         (w in w.head.lefts):\n",
    "        stk.append(w.text)\n",
    "    elif stk:\n",
    "        chunk = ''\n",
    "        while stk:\n",
    "            chunk = stk.pop() + ' ' + chunk\n",
    "        print(chunk.strip())"
   ]
  },
  {
   "cell_type": "code",
   "execution_count": 9,
   "id": "a07db134",
   "metadata": {},
   "outputs": [
    {
     "data": {
      "text/plain": [
       "'DET'"
      ]
     },
     "execution_count": 9,
     "metadata": {},
     "output_type": "execute_result"
    }
   ],
   "source": [
    "doc[2].pos_"
   ]
  },
  {
   "cell_type": "code",
   "execution_count": null,
   "id": "02ba25ea",
   "metadata": {},
   "outputs": [],
   "source": [
    "doc"
   ]
  },
  {
   "cell_type": "code",
   "execution_count": 10,
   "id": "407a7904",
   "metadata": {},
   "outputs": [
    {
     "data": {
      "text/plain": [
       "'DET'"
      ]
     },
     "execution_count": 10,
     "metadata": {},
     "output_type": "execute_result"
    }
   ],
   "source": [
    "nlp(txt)[2].pos_"
   ]
  },
  {
   "cell_type": "markdown",
   "id": "71231e67",
   "metadata": {},
   "source": [
    "## Making improvements with List Comprehensions"
   ]
  },
  {
   "cell_type": "code",
   "execution_count": 30,
   "id": "0d7b4021",
   "metadata": {},
   "outputs": [
    {
     "name": "stdout",
     "output_type": "stream",
     "text": [
      "list is\n",
      "is is\n",
      "a structure\n",
      "ubiquitous structure\n",
      "data structure\n",
      "structure is\n",
      "in structure\n",
      "the language\n",
      "Python language\n",
      "programming language\n",
      "language in\n",
      ". is\n"
     ]
    }
   ],
   "source": [
    "txt = \"list is a ubiquitous data structure in the Python programming language.\"\n",
    "import spacy\n",
    "nlp = spacy.load(\"en_core_web_sm\")\n",
    "doc = nlp(txt)\n",
    "for t in doc:\n",
    "    print(t.text, t.head.text)"
   ]
  },
  {
   "cell_type": "code",
   "execution_count": 31,
   "id": "f07c12bd",
   "metadata": {},
   "outputs": [
    {
     "name": "stdout",
     "output_type": "stream",
     "text": [
      "['list', 0, 'a', 'ubiquitous', 'data', 0, 0, 'the', 'Python', 'programming', 0, 0]\n"
     ]
    }
   ],
   "source": [
    "txt = \"list is a ubiquitous data structure in the Python programming language.\"\n",
    "import spacy\n",
    "nlp = spacy.load(\"en_core_web_sm\")\n",
    "doc = nlp(txt)\n",
    "head_lefts = [t.text if t in t.head.lefts else 0 for t in doc]\n",
    "print(head_lefts)"
   ]
  },
  {
   "cell_type": "code",
   "execution_count": 36,
   "id": "75f4b9bd",
   "metadata": {},
   "outputs": [
    {
     "name": "stdout",
     "output_type": "stream",
     "text": [
      "['List', 0, 0, 'the', 'most', 'useful', 0, 0, 'the', 'Python', 'programming', 0, 0]\n",
      "[0, 0, 'the', 'most', 'useful', 0, 0, 'the', 'Python', 'programming', 0, 0]\n",
      "[0, 'the', 'most', 'useful', 0, 0, 'the', 'Python', 'programming', 0, 0]\n",
      "['the', 'most', 'useful', 0, 0, 'the', 'Python', 'programming', 0, 0]\n",
      "['most', 'useful', 0, 0, 'the', 'Python', 'programming', 0, 0]\n",
      "['useful', 0, 0, 'the', 'Python', 'programming', 0, 0]\n",
      "[0, 0, 'the', 'Python', 'programming', 0, 0]\n",
      "[0, 'the', 'Python', 'programming', 0, 0]\n",
      "['the', 'Python', 'programming', 0, 0]\n",
      "['Python', 'programming', 0, 0]\n",
      "['programming', 0, 0]\n",
      "[0, 0]\n",
      "[0]\n"
     ]
    }
   ],
   "source": [
    "txt = \"List is arguably the most useful type in the Python programming language.\"\n",
    "import spacy\n",
    "nlp = spacy.load(\"en_core_web_sm\")\n",
    "doc = nlp(txt)\n",
    "for w in doc:\n",
    "    head_lefts = [t.text if t in t.head.lefts else 0 for t in doc[w.i:]]\n",
    "    print(head_lefts)"
   ]
  },
  {
   "cell_type": "code",
   "execution_count": 38,
   "id": "e1c29349",
   "metadata": {},
   "outputs": [
    {
     "name": "stdout",
     "output_type": "stream",
     "text": [
      "['List', 0]\n",
      "List\n",
      "['the', 'most', 'useful', 0]\n",
      "type\n",
      "['most', 'useful', 0]\n",
      "type\n",
      "['useful', 0]\n",
      "type\n",
      "['the', 'Python', 'programming', 0]\n",
      "language\n",
      "['Python', 'programming', 0]\n",
      "language\n",
      "['programming', 0]\n",
      "language\n"
     ]
    }
   ],
   "source": [
    "txt = \"List is arguably the most useful type in the Python programming language.\"\n",
    "import spacy\n",
    "nlp = spacy.load(\"en_core_web_sm\")\n",
    "doc = nlp(txt)\n",
    "for w in doc:\n",
    "    head_lefts = [t.text if t in t.head.lefts else 0 for t in doc[w.i:]]\n",
    "    i0 = head_lefts.index(0)\n",
    "    if i0 > 0:\n",
    "        noun = [1 if t.pos_ == \"NOUN\" or t.pos_ == \"PROPN\" else 0 for t in\n",
    "                   reversed(doc[w.i:w.i+i0 + 1])]\n",
    "        try:\n",
    "            i1 = noun.index(1)+1\n",
    "        except ValueError:\n",
    "            pass\n",
    "        print(head_lefts[:i0 + 1])\n",
    "        print(doc[w.i+i0 + 1 -i1])"
   ]
  },
  {
   "cell_type": "code",
   "execution_count": 41,
   "id": "912ceda6",
   "metadata": {},
   "outputs": [
    {
     "name": "stdout",
     "output_type": "stream",
     "text": [
      "List\n",
      "the most useful type\n",
      "the Python programming language\n"
     ]
    }
   ],
   "source": [
    "txt = \"List is arguably the most useful type in the Python programming language.\"\n",
    "import spacy\n",
    "nlp = spacy.load(\"en_core_web_sm\")\n",
    "doc = nlp(txt)\n",
    "stk=[]\n",
    "\n",
    "for w in doc:\n",
    "    head_lefts = [1 if t in t.head.lefts else 0 for t in doc[w.i:]]\n",
    "    i0 = 0\n",
    "    try: i0 = head_lefts.index(0)\n",
    "    except ValueError: pass\n",
    "    i1 = 0\n",
    "    if i0 > 0:\n",
    "        noun = [1 if t.pos_ == \"NOUN\" or t.pos_ == \"PROPN\" else 0 for t in\n",
    "                   reversed(doc[w.i:w.i+i0 + 1])]\n",
    "        try: i1 = noun.index(1)+1\n",
    "        except ValueError: pass\n",
    "    if w.pos_ == \"NOUN\" or w.pos_ == \"PROPN\":\n",
    "        stk.append(w.text)\n",
    "    elif (i1>0):\n",
    "        stk.append(w.text)\n",
    "    elif stk:\n",
    "        chunk = ''\n",
    "        while stk:\n",
    "            chunk = stk.pop() + ' ' + chunk\n",
    "        print(chunk.strip())"
   ]
  },
  {
   "cell_type": "markdown",
   "id": "5c0231ed",
   "metadata": {},
   "source": [
    "## A list of tuples"
   ]
  },
  {
   "cell_type": "code",
   "execution_count": 42,
   "id": "0b8dbc0d",
   "metadata": {},
   "outputs": [],
   "source": [
    "task_list = ['Pay bills','Tidy up','Walk the dog','Go to the pharmacy','Cook dinner']\n",
    "tm_list = ['8:00','8:30','9:30','10:00','9:30']\n",
    "sched_list = [(tm,task) for tm, task in zip(tm_list,task_list)]"
   ]
  },
  {
   "cell_type": "code",
   "execution_count": 43,
   "id": "5062925b",
   "metadata": {},
   "outputs": [
    {
     "name": "stdout",
     "output_type": "stream",
     "text": [
      "[('8:00', 'Pay bills'), ('8:30', 'Tidy up'), ('9:30', 'Walk the dog'), ('10:00', 'Go to the pharmacy'), ('9:30', 'Cook dinner')]\n"
     ]
    }
   ],
   "source": [
    "print(sched_list)"
   ]
  },
  {
   "cell_type": "code",
   "execution_count": 44,
   "id": "4b34ac4c",
   "metadata": {},
   "outputs": [
    {
     "name": "stdout",
     "output_type": "stream",
     "text": [
      "8:30\n"
     ]
    }
   ],
   "source": [
    "print(sched_list[1][0])"
   ]
  },
  {
   "cell_type": "markdown",
   "id": "d0cf53c0",
   "metadata": {},
   "source": [
    "## Dictionaries"
   ]
  },
  {
   "cell_type": "code",
   "execution_count": 46,
   "id": "bf9b06b5",
   "metadata": {},
   "outputs": [],
   "source": [
    "dict_list = [\n",
    "    {'time':'8:00', 'name':'Pay bills'},\n",
    "    {'time':'8:30', 'name':'Tidy up'},\n",
    "    {'time':'9:30', 'name':'Walk the dog'},\n",
    "    {'time':'10:00', 'name':'Go to the pharmacy'},\n",
    "    {'time':'10:30', 'name':'Cook dinner'}\n",
    "]"
   ]
  },
  {
   "cell_type": "code",
   "execution_count": 47,
   "id": "fc1d3afe",
   "metadata": {},
   "outputs": [
    {
     "data": {
      "text/plain": [
       "[{'time': '8:00', 'name': 'Pay bills'},\n",
       " {'time': '8:30', 'name': 'Tidy up'},\n",
       " {'time': '9:30', 'name': 'Walk the dog'},\n",
       " {'time': '10:00', 'name': 'Go to the pharmacy'},\n",
       " {'time': '10:30', 'name': 'Cook dinner'}]"
      ]
     },
     "execution_count": 47,
     "metadata": {},
     "output_type": "execute_result"
    }
   ],
   "source": [
    "dict_list"
   ]
  },
  {
   "cell_type": "code",
   "execution_count": 48,
   "id": "6334cae9",
   "metadata": {},
   "outputs": [],
   "source": [
    "dict_list[1]['time'] = '9:00'"
   ]
  },
  {
   "cell_type": "code",
   "execution_count": 49,
   "id": "202e343e",
   "metadata": {},
   "outputs": [
    {
     "data": {
      "text/plain": [
       "[{'time': '8:00', 'name': 'Pay bills'},\n",
       " {'time': '9:00', 'name': 'Tidy up'},\n",
       " {'time': '9:30', 'name': 'Walk the dog'},\n",
       " {'time': '10:00', 'name': 'Go to the pharmacy'},\n",
       " {'time': '10:30', 'name': 'Cook dinner'}]"
      ]
     },
     "execution_count": 49,
     "metadata": {},
     "output_type": "execute_result"
    }
   ],
   "source": [
    "dict_list"
   ]
  },
  {
   "cell_type": "markdown",
   "id": "19ce4ade",
   "metadata": {},
   "source": [
    "## Adding to a dictionary with setdefault()"
   ]
  },
  {
   "cell_type": "code",
   "execution_count": 50,
   "id": "0f6489d7",
   "metadata": {},
   "outputs": [],
   "source": [
    "car = {\n",
    "    \"brand\":\"Volkswagon\",\n",
    "    \"style\":\"Sedan\",\n",
    "    \"model\":\"Jetta\"\n",
    "}"
   ]
  },
  {
   "cell_type": "code",
   "execution_count": 51,
   "id": "eb3d8218",
   "metadata": {},
   "outputs": [
    {
     "name": "stdout",
     "output_type": "stream",
     "text": [
      "Jetta\n"
     ]
    }
   ],
   "source": [
    "print(car.setdefault(\"model\",\"Passat\"))"
   ]
  },
  {
   "cell_type": "code",
   "execution_count": 52,
   "id": "a69fb340",
   "metadata": {},
   "outputs": [
    {
     "name": "stdout",
     "output_type": "stream",
     "text": [
      "2022\n"
     ]
    }
   ],
   "source": [
    "print(car.setdefault(\"year\",2022))"
   ]
  },
  {
   "cell_type": "code",
   "execution_count": 54,
   "id": "476a7b68",
   "metadata": {},
   "outputs": [
    {
     "name": "stdout",
     "output_type": "stream",
     "text": [
      "{'brand': 'Volkswagon', 'style': 'Sedan', 'model': 'Jetta', 'year': 2022}\n"
     ]
    }
   ],
   "source": [
    "print(car)"
   ]
  },
  {
   "cell_type": "code",
   "execution_count": 62,
   "id": "7471e8f3",
   "metadata": {},
   "outputs": [],
   "source": [
    "txt = \"\"\"Python is one of the most promising programming languages today. Due to the simplicity of Python\n",
    "syntax, many researchers and scientists prefer Python over many other languages.\"\"\""
   ]
  },
  {
   "cell_type": "code",
   "execution_count": 63,
   "id": "ccd23a59",
   "metadata": {},
   "outputs": [],
   "source": [
    "txt = txt.replace('.','').replace(',','')"
   ]
  },
  {
   "cell_type": "code",
   "execution_count": 64,
   "id": "e960419d",
   "metadata": {},
   "outputs": [
    {
     "name": "stdout",
     "output_type": "stream",
     "text": [
      "['Python', 'is', 'one', 'of', 'the', 'most', 'promising', 'programming', 'languages', 'today', 'Due', 'to', 'the', 'simplicity', 'of', 'Python', 'syntax', 'many', 'researchers', 'and', 'scientists', 'prefer', 'Python', 'over', 'many', 'other', 'languages']\n"
     ]
    }
   ],
   "source": [
    "lst = txt.split()\n",
    "print(lst)"
   ]
  },
  {
   "cell_type": "code",
   "execution_count": 65,
   "id": "93f473ed",
   "metadata": {},
   "outputs": [],
   "source": [
    "dct = {}\n",
    "for w in lst:\n",
    "    c = dct.setdefault(w,0)\n",
    "    dct[w]+=1"
   ]
  },
  {
   "cell_type": "code",
   "execution_count": 66,
   "id": "42a1b143",
   "metadata": {},
   "outputs": [],
   "source": [
    "dct_sorted = dict(sorted(dct.items(), key=lambda x: x[1], reverse=True))"
   ]
  },
  {
   "cell_type": "code",
   "execution_count": 67,
   "id": "5e9661b9",
   "metadata": {},
   "outputs": [
    {
     "name": "stdout",
     "output_type": "stream",
     "text": [
      "{'Python': 3, 'of': 2, 'the': 2, 'languages': 2, 'many': 2, 'is': 1, 'one': 1, 'most': 1, 'promising': 1, 'programming': 1, 'today': 1, 'Due': 1, 'to': 1, 'simplicity': 1, 'syntax': 1, 'researchers': 1, 'and': 1, 'scientists': 1, 'prefer': 1, 'over': 1, 'other': 1}\n"
     ]
    }
   ],
   "source": [
    "print(dct_sorted)"
   ]
  },
  {
   "cell_type": "markdown",
   "id": "c6999001",
   "metadata": {},
   "source": [
    "## Loading JSON into a dictionary"
   ]
  },
  {
   "cell_type": "code",
   "execution_count": 68,
   "id": "239f82c5",
   "metadata": {},
   "outputs": [],
   "source": [
    "d={\"PONumber\"            :2608,\n",
    "   \"ShippingInstructions\":{\"name\":   \"John Silver\",\n",
    "                           \"Address\":{\"street\" :\"426 Light Street\",\n",
    "                                      \"city\"   :\"South San Francisco\", \n",
    "                                      \"state\"  :\"CA\",\n",
    "                                      \"zipCode\":99237,\n",
    "                                      \"country\":\"USA\"},\n",
    "                           \"Phone\"  : [ {\"type\":\"Office\",\"number\":\"809-123-9309\"},\n",
    "                                        {\"type\":\"Mobile\",\"number\":\"417-123-4567\"}\n",
    "                                      ]                           \n",
    "                          }\n",
    "}"
   ]
  },
  {
   "cell_type": "code",
   "execution_count": 69,
   "id": "023cba5e",
   "metadata": {},
   "outputs": [],
   "source": [
    "import json\n",
    "with open(\"po.json\",\"w\") as outfile:\n",
    "    json.dump(d,outfile)"
   ]
  },
  {
   "cell_type": "code",
   "execution_count": 72,
   "id": "d74489ac",
   "metadata": {},
   "outputs": [],
   "source": [
    "with open(\"po.json\",) as fp:\n",
    "    d = json.load(fp)"
   ]
  },
  {
   "cell_type": "code",
   "execution_count": 74,
   "id": "ecbf94ec",
   "metadata": {},
   "outputs": [
    {
     "name": "stdout",
     "output_type": "stream",
     "text": [
      "{'PONumber': 2608, 'ShippingInstructions': {'name': 'John Silver', 'Address': {'street': '426 Light Street', 'city': 'South San Francisco', 'state': 'CA', 'zipCode': 99237, 'country': 'USA'}, 'Phone': [{'type': 'Office', 'number': '809-123-9309'}, {'type': 'Mobile', 'number': '417-123-4567'}]}}\n"
     ]
    }
   ],
   "source": [
    "print(d)"
   ]
  },
  {
   "cell_type": "markdown",
   "id": "ee3eae46",
   "metadata": {},
   "source": [
    "## Sets"
   ]
  },
  {
   "cell_type": "markdown",
   "id": "6b4c182a",
   "metadata": {},
   "source": [
    "## Removing duplicates from sequences "
   ]
  },
  {
   "cell_type": "code",
   "execution_count": 75,
   "id": "43228595",
   "metadata": {},
   "outputs": [],
   "source": [
    "lst = [\"John Silver\",\"Tim Jemison\",\"John Silver\",\"Maya Smith\"]\n",
    "lst = list(set(lst))"
   ]
  },
  {
   "cell_type": "code",
   "execution_count": 76,
   "id": "3922f88c",
   "metadata": {},
   "outputs": [
    {
     "name": "stdout",
     "output_type": "stream",
     "text": [
      "['Tim Jemison', 'Maya Smith', 'John Silver']\n"
     ]
    }
   ],
   "source": [
    "print(lst)"
   ]
  },
  {
   "cell_type": "code",
   "execution_count": 77,
   "id": "f0a8e429",
   "metadata": {},
   "outputs": [
    {
     "name": "stdout",
     "output_type": "stream",
     "text": [
      "['John Silver', 'Tim Jemison', 'Maya Smith']\n"
     ]
    }
   ],
   "source": [
    "lst = [\"John Silver\",\"Tim Jemison\",\"John Silver\",\"Maya Smith\"]\n",
    "lst = list(sorted(set(lst), key=lst.index))\n",
    "print(lst)"
   ]
  },
  {
   "cell_type": "markdown",
   "id": "239e5e7f",
   "metadata": {},
   "source": [
    "## Performing common set operations"
   ]
  },
  {
   "cell_type": "code",
   "execution_count": 78,
   "id": "c16107d6",
   "metadata": {},
   "outputs": [
    {
     "name": "stdout",
     "output_type": "stream",
     "text": [
      "The photos contain similar objects\n"
     ]
    }
   ],
   "source": [
    "photo1_tags = {'coffee','breakfast','drink','table','tableware','cup','food'}\n",
    "photo2_tags = {'food','dish','meat','meal','tableware','dinner','vegetable'}\n",
    "intersection = photo1_tags.intersection(photo2_tags)\n",
    "if len(intersection)>=2:\n",
    "    print(\"The photos contain similar objects\")"
   ]
  },
  {
   "cell_type": "code",
   "execution_count": null,
   "id": "8521061e",
   "metadata": {},
   "outputs": [],
   "source": []
  }
 ],
 "metadata": {
  "kernelspec": {
   "display_name": "Python 3 (ipykernel)",
   "language": "python",
   "name": "python3"
  },
  "language_info": {
   "codemirror_mode": {
    "name": "ipython",
    "version": 3
   },
   "file_extension": ".py",
   "mimetype": "text/x-python",
   "name": "python",
   "nbconvert_exporter": "python",
   "pygments_lexer": "ipython3",
   "version": "3.11.7"
  }
 },
 "nbformat": 4,
 "nbformat_minor": 5
}
