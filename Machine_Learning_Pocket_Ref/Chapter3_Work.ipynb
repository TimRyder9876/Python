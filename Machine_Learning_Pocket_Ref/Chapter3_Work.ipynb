{
 "cells": [
  {
   "cell_type": "code",
   "execution_count": 1,
   "id": "39f45fbf",
   "metadata": {},
   "outputs": [],
   "source": [
    "import numpy as np\n",
    "import pandas as pd"
   ]
  },
  {
   "cell_type": "code",
   "execution_count": 2,
   "id": "4fe4fef1",
   "metadata": {},
   "outputs": [],
   "source": [
    "url = (\"http://hbiostat.org/data/repo/titanic3.xls\")\n",
    "\n",
    "df = pd.read_excel(url)\n",
    "orig_df = df"
   ]
  },
  {
   "cell_type": "markdown",
   "id": "99f7c925",
   "metadata": {},
   "source": [
    "### Inspect and Clean Data"
   ]
  },
  {
   "cell_type": "code",
   "execution_count": 3,
   "id": "db5396a1",
   "metadata": {},
   "outputs": [
    {
     "name": "stdout",
     "output_type": "stream",
     "text": [
      "<class 'pandas.core.frame.DataFrame'>\n",
      "RangeIndex: 1309 entries, 0 to 1308\n",
      "Data columns (total 14 columns):\n",
      " #   Column     Non-Null Count  Dtype  \n",
      "---  ------     --------------  -----  \n",
      " 0   pclass     1309 non-null   int64  \n",
      " 1   survived   1309 non-null   int64  \n",
      " 2   name       1309 non-null   object \n",
      " 3   sex        1309 non-null   object \n",
      " 4   age        1046 non-null   float64\n",
      " 5   sibsp      1309 non-null   int64  \n",
      " 6   parch      1309 non-null   int64  \n",
      " 7   ticket     1309 non-null   object \n",
      " 8   fare       1308 non-null   float64\n",
      " 9   cabin      295 non-null    object \n",
      " 10  embarked   1307 non-null   object \n",
      " 11  boat       486 non-null    object \n",
      " 12  body       121 non-null    float64\n",
      " 13  home.dest  745 non-null    object \n",
      "dtypes: float64(3), int64(4), object(7)\n",
      "memory usage: 143.3+ KB\n"
     ]
    }
   ],
   "source": [
    "df.info()"
   ]
  },
  {
   "cell_type": "code",
   "execution_count": null,
   "id": "7b18baec",
   "metadata": {},
   "outputs": [],
   "source": []
  },
  {
   "cell_type": "code",
   "execution_count": 4,
   "id": "975a0898",
   "metadata": {},
   "outputs": [
    {
     "data": {
      "text/plain": [
       "(1309, 14)"
      ]
     },
     "execution_count": 4,
     "metadata": {},
     "output_type": "execute_result"
    }
   ],
   "source": [
    "df.shape"
   ]
  },
  {
   "cell_type": "code",
   "execution_count": 5,
   "id": "568e43c6",
   "metadata": {},
   "outputs": [
    {
     "data": {
      "text/html": [
       "<div>\n",
       "<style scoped>\n",
       "    .dataframe tbody tr th:only-of-type {\n",
       "        vertical-align: middle;\n",
       "    }\n",
       "\n",
       "    .dataframe tbody tr th {\n",
       "        vertical-align: top;\n",
       "    }\n",
       "\n",
       "    .dataframe thead th {\n",
       "        text-align: right;\n",
       "    }\n",
       "</style>\n",
       "<table border=\"1\" class=\"dataframe\">\n",
       "  <thead>\n",
       "    <tr style=\"text-align: right;\">\n",
       "      <th></th>\n",
       "      <th>pclass</th>\n",
       "      <th>survived</th>\n",
       "    </tr>\n",
       "  </thead>\n",
       "  <tbody>\n",
       "    <tr>\n",
       "      <th>count</th>\n",
       "      <td>1309.000000</td>\n",
       "      <td>1309.000000</td>\n",
       "    </tr>\n",
       "    <tr>\n",
       "      <th>mean</th>\n",
       "      <td>2.294882</td>\n",
       "      <td>0.381971</td>\n",
       "    </tr>\n",
       "    <tr>\n",
       "      <th>std</th>\n",
       "      <td>0.837836</td>\n",
       "      <td>0.486055</td>\n",
       "    </tr>\n",
       "    <tr>\n",
       "      <th>min</th>\n",
       "      <td>1.000000</td>\n",
       "      <td>0.000000</td>\n",
       "    </tr>\n",
       "    <tr>\n",
       "      <th>25%</th>\n",
       "      <td>2.000000</td>\n",
       "      <td>0.000000</td>\n",
       "    </tr>\n",
       "    <tr>\n",
       "      <th>50%</th>\n",
       "      <td>3.000000</td>\n",
       "      <td>0.000000</td>\n",
       "    </tr>\n",
       "    <tr>\n",
       "      <th>75%</th>\n",
       "      <td>3.000000</td>\n",
       "      <td>1.000000</td>\n",
       "    </tr>\n",
       "    <tr>\n",
       "      <th>max</th>\n",
       "      <td>3.000000</td>\n",
       "      <td>1.000000</td>\n",
       "    </tr>\n",
       "  </tbody>\n",
       "</table>\n",
       "</div>"
      ],
      "text/plain": [
       "            pclass     survived\n",
       "count  1309.000000  1309.000000\n",
       "mean      2.294882     0.381971\n",
       "std       0.837836     0.486055\n",
       "min       1.000000     0.000000\n",
       "25%       2.000000     0.000000\n",
       "50%       3.000000     0.000000\n",
       "75%       3.000000     1.000000\n",
       "max       3.000000     1.000000"
      ]
     },
     "execution_count": 5,
     "metadata": {},
     "output_type": "execute_result"
    }
   ],
   "source": [
    "df.describe().iloc[:,:2]"
   ]
  },
  {
   "cell_type": "code",
   "execution_count": 6,
   "id": "e88a1d53",
   "metadata": {},
   "outputs": [
    {
     "data": {
      "text/plain": [
       "pclass          0\n",
       "survived        0\n",
       "name            0\n",
       "sex             0\n",
       "age           263\n",
       "sibsp           0\n",
       "parch           0\n",
       "ticket          0\n",
       "fare            1\n",
       "cabin        1014\n",
       "embarked        2\n",
       "boat          823\n",
       "body         1188\n",
       "home.dest     564\n",
       "dtype: int64"
      ]
     },
     "execution_count": 6,
     "metadata": {},
     "output_type": "execute_result"
    }
   ],
   "source": [
    "df.isnull().sum()"
   ]
  },
  {
   "cell_type": "code",
   "execution_count": 7,
   "id": "f85cb4c2",
   "metadata": {},
   "outputs": [
    {
     "data": {
      "text/plain": [
       "pclass        0.000000\n",
       "survived      0.000000\n",
       "name          0.000000\n",
       "sex           0.000000\n",
       "age          20.091673\n",
       "sibsp         0.000000\n",
       "parch         0.000000\n",
       "ticket        0.000000\n",
       "fare          0.076394\n",
       "cabin        77.463713\n",
       "embarked      0.152788\n",
       "boat         62.872422\n",
       "body         90.756303\n",
       "home.dest    43.086325\n",
       "dtype: float64"
      ]
     },
     "execution_count": 7,
     "metadata": {},
     "output_type": "execute_result"
    }
   ],
   "source": [
    "# To get percentage of missing values in a column\n",
    "df.isnull().mean()*100"
   ]
  },
  {
   "cell_type": "code",
   "execution_count": 8,
   "id": "8bcd6120",
   "metadata": {},
   "outputs": [
    {
     "data": {
      "text/plain": [
       "0     1\n",
       "1     1\n",
       "2     2\n",
       "3     1\n",
       "4     2\n",
       "5     1\n",
       "6     1\n",
       "7     2\n",
       "8     1\n",
       "9     2\n",
       "10    1\n",
       "11    1\n",
       "12    1\n",
       "13    3\n",
       "14    1\n",
       "15    4\n",
       "16    2\n",
       "17    1\n",
       "18    2\n",
       "19    1\n",
       "20    1\n",
       "dtype: int64"
      ]
     },
     "execution_count": 8,
     "metadata": {},
     "output_type": "execute_result"
    }
   ],
   "source": [
    "df.isnull().sum(axis=1).loc[:20]"
   ]
  },
  {
   "cell_type": "code",
   "execution_count": 9,
   "id": "879e14ca",
   "metadata": {},
   "outputs": [
    {
     "data": {
      "text/html": [
       "<div>\n",
       "<style scoped>\n",
       "    .dataframe tbody tr th:only-of-type {\n",
       "        vertical-align: middle;\n",
       "    }\n",
       "\n",
       "    .dataframe tbody tr th {\n",
       "        vertical-align: top;\n",
       "    }\n",
       "\n",
       "    .dataframe thead th {\n",
       "        text-align: right;\n",
       "    }\n",
       "</style>\n",
       "<table border=\"1\" class=\"dataframe\">\n",
       "  <thead>\n",
       "    <tr style=\"text-align: right;\">\n",
       "      <th></th>\n",
       "      <th>pclass</th>\n",
       "      <th>survived</th>\n",
       "      <th>name</th>\n",
       "      <th>sex</th>\n",
       "      <th>age</th>\n",
       "      <th>sibsp</th>\n",
       "      <th>parch</th>\n",
       "      <th>ticket</th>\n",
       "      <th>fare</th>\n",
       "      <th>cabin</th>\n",
       "      <th>embarked</th>\n",
       "      <th>boat</th>\n",
       "      <th>body</th>\n",
       "      <th>home.dest</th>\n",
       "    </tr>\n",
       "  </thead>\n",
       "  <tbody>\n",
       "    <tr>\n",
       "      <th>0</th>\n",
       "      <td>1</td>\n",
       "      <td>1</td>\n",
       "      <td>Allen, Miss. Elisabeth Walton</td>\n",
       "      <td>female</td>\n",
       "      <td>29.0000</td>\n",
       "      <td>0</td>\n",
       "      <td>0</td>\n",
       "      <td>24160</td>\n",
       "      <td>211.3375</td>\n",
       "      <td>B5</td>\n",
       "      <td>S</td>\n",
       "      <td>2</td>\n",
       "      <td>NaN</td>\n",
       "      <td>St Louis, MO</td>\n",
       "    </tr>\n",
       "    <tr>\n",
       "      <th>1</th>\n",
       "      <td>1</td>\n",
       "      <td>1</td>\n",
       "      <td>Allison, Master. Hudson Trevor</td>\n",
       "      <td>male</td>\n",
       "      <td>0.9167</td>\n",
       "      <td>1</td>\n",
       "      <td>2</td>\n",
       "      <td>113781</td>\n",
       "      <td>151.5500</td>\n",
       "      <td>C22 C26</td>\n",
       "      <td>S</td>\n",
       "      <td>11</td>\n",
       "      <td>NaN</td>\n",
       "      <td>Montreal, PQ / Chesterville, ON</td>\n",
       "    </tr>\n",
       "    <tr>\n",
       "      <th>2</th>\n",
       "      <td>1</td>\n",
       "      <td>0</td>\n",
       "      <td>Allison, Miss. Helen Loraine</td>\n",
       "      <td>female</td>\n",
       "      <td>2.0000</td>\n",
       "      <td>1</td>\n",
       "      <td>2</td>\n",
       "      <td>113781</td>\n",
       "      <td>151.5500</td>\n",
       "      <td>C22 C26</td>\n",
       "      <td>S</td>\n",
       "      <td>NaN</td>\n",
       "      <td>NaN</td>\n",
       "      <td>Montreal, PQ / Chesterville, ON</td>\n",
       "    </tr>\n",
       "    <tr>\n",
       "      <th>3</th>\n",
       "      <td>1</td>\n",
       "      <td>0</td>\n",
       "      <td>Allison, Mr. Hudson Joshua Creighton</td>\n",
       "      <td>male</td>\n",
       "      <td>30.0000</td>\n",
       "      <td>1</td>\n",
       "      <td>2</td>\n",
       "      <td>113781</td>\n",
       "      <td>151.5500</td>\n",
       "      <td>C22 C26</td>\n",
       "      <td>S</td>\n",
       "      <td>NaN</td>\n",
       "      <td>135.0</td>\n",
       "      <td>Montreal, PQ / Chesterville, ON</td>\n",
       "    </tr>\n",
       "    <tr>\n",
       "      <th>4</th>\n",
       "      <td>1</td>\n",
       "      <td>0</td>\n",
       "      <td>Allison, Mrs. Hudson J C (Bessie Waldo Daniels)</td>\n",
       "      <td>female</td>\n",
       "      <td>25.0000</td>\n",
       "      <td>1</td>\n",
       "      <td>2</td>\n",
       "      <td>113781</td>\n",
       "      <td>151.5500</td>\n",
       "      <td>C22 C26</td>\n",
       "      <td>S</td>\n",
       "      <td>NaN</td>\n",
       "      <td>NaN</td>\n",
       "      <td>Montreal, PQ / Chesterville, ON</td>\n",
       "    </tr>\n",
       "  </tbody>\n",
       "</table>\n",
       "</div>"
      ],
      "text/plain": [
       "   pclass  survived                                             name     sex  \\\n",
       "0       1         1                    Allen, Miss. Elisabeth Walton  female   \n",
       "1       1         1                   Allison, Master. Hudson Trevor    male   \n",
       "2       1         0                     Allison, Miss. Helen Loraine  female   \n",
       "3       1         0             Allison, Mr. Hudson Joshua Creighton    male   \n",
       "4       1         0  Allison, Mrs. Hudson J C (Bessie Waldo Daniels)  female   \n",
       "\n",
       "       age  sibsp  parch  ticket      fare    cabin embarked boat   body  \\\n",
       "0  29.0000      0      0   24160  211.3375       B5        S    2    NaN   \n",
       "1   0.9167      1      2  113781  151.5500  C22 C26        S   11    NaN   \n",
       "2   2.0000      1      2  113781  151.5500  C22 C26        S  NaN    NaN   \n",
       "3  30.0000      1      2  113781  151.5500  C22 C26        S  NaN  135.0   \n",
       "4  25.0000      1      2  113781  151.5500  C22 C26        S  NaN    NaN   \n",
       "\n",
       "                         home.dest  \n",
       "0                     St Louis, MO  \n",
       "1  Montreal, PQ / Chesterville, ON  \n",
       "2  Montreal, PQ / Chesterville, ON  \n",
       "3  Montreal, PQ / Chesterville, ON  \n",
       "4  Montreal, PQ / Chesterville, ON  "
      ]
     },
     "execution_count": 9,
     "metadata": {},
     "output_type": "execute_result"
    }
   ],
   "source": [
    "df.head()"
   ]
  },
  {
   "cell_type": "code",
   "execution_count": 10,
   "id": "2527e4d2",
   "metadata": {},
   "outputs": [
    {
     "data": {
      "text/plain": [
       "0    True\n",
       "1    True\n",
       "2    True\n",
       "3    True\n",
       "4    True\n",
       "dtype: bool"
      ]
     },
     "execution_count": 10,
     "metadata": {},
     "output_type": "execute_result"
    }
   ],
   "source": [
    "mask = df.isnull().any(axis=1)\n",
    "mask.head()"
   ]
  },
  {
   "cell_type": "code",
   "execution_count": 11,
   "id": "2565be82",
   "metadata": {},
   "outputs": [
    {
     "data": {
      "text/plain": [
       "0      NaN\n",
       "1      NaN\n",
       "2      NaN\n",
       "3    135.0\n",
       "4      NaN\n",
       "Name: body, dtype: float64"
      ]
     },
     "execution_count": 11,
     "metadata": {},
     "output_type": "execute_result"
    }
   ],
   "source": [
    "df[mask].body.head()"
   ]
  },
  {
   "cell_type": "code",
   "execution_count": 12,
   "id": "7e9c4aaa",
   "metadata": {},
   "outputs": [
    {
     "data": {
      "text/plain": [
       "sex\n",
       "male      843\n",
       "female    466\n",
       "Name: count, dtype: int64"
      ]
     },
     "execution_count": 12,
     "metadata": {},
     "output_type": "execute_result"
    }
   ],
   "source": [
    "df.sex.value_counts(dropna=False)"
   ]
  },
  {
   "cell_type": "code",
   "execution_count": 13,
   "id": "78f72e45",
   "metadata": {},
   "outputs": [
    {
     "data": {
      "text/plain": [
       "embarked\n",
       "S      914\n",
       "C      270\n",
       "Q      123\n",
       "NaN      2\n",
       "Name: count, dtype: int64"
      ]
     },
     "execution_count": 13,
     "metadata": {},
     "output_type": "execute_result"
    }
   ],
   "source": [
    "df.embarked.value_counts(dropna=False)"
   ]
  },
  {
   "cell_type": "markdown",
   "id": "4e917e55",
   "metadata": {},
   "source": [
    "### Create Features"
   ]
  },
  {
   "cell_type": "code",
   "execution_count": 14,
   "id": "40e8b054",
   "metadata": {},
   "outputs": [],
   "source": [
    "name = df.name"
   ]
  },
  {
   "cell_type": "code",
   "execution_count": 15,
   "id": "117d82b1",
   "metadata": {},
   "outputs": [
    {
     "data": {
      "text/plain": [
       "0     Allen, Miss. Elisabeth Walton\n",
       "1    Allison, Master. Hudson Trevor\n",
       "2      Allison, Miss. Helen Loraine\n",
       "Name: name, dtype: object"
      ]
     },
     "execution_count": 15,
     "metadata": {},
     "output_type": "execute_result"
    }
   ],
   "source": [
    "name.head(3)"
   ]
  },
  {
   "cell_type": "code",
   "execution_count": 16,
   "id": "d6373dfb",
   "metadata": {},
   "outputs": [],
   "source": [
    "df = df.drop(columns=[\"name\",\n",
    "                      \"ticket\",\n",
    "                      \"home.dest\",\n",
    "                      \"boat\",\n",
    "                      \"body\",\n",
    "                      \"cabin\"])\n"
   ]
  },
  {
   "cell_type": "code",
   "execution_count": 17,
   "id": "faa42d61",
   "metadata": {},
   "outputs": [],
   "source": [
    "df = pd.get_dummies(df, drop_first=True)"
   ]
  },
  {
   "cell_type": "code",
   "execution_count": 18,
   "id": "e703cfc8",
   "metadata": {},
   "outputs": [
    {
     "data": {
      "text/plain": [
       "Index(['pclass', 'survived', 'age', 'sibsp', 'parch', 'fare', 'sex_male',\n",
       "       'embarked_Q', 'embarked_S'],\n",
       "      dtype='object')"
      ]
     },
     "execution_count": 18,
     "metadata": {},
     "output_type": "execute_result"
    }
   ],
   "source": [
    "df.columns"
   ]
  },
  {
   "cell_type": "markdown",
   "id": "cee314d4",
   "metadata": {},
   "source": [
    "### Split Data"
   ]
  },
  {
   "cell_type": "code",
   "execution_count": 19,
   "id": "1deb4031",
   "metadata": {},
   "outputs": [],
   "source": [
    "y = df.survived\n",
    "X = df.drop([\"survived\"], axis = 1)"
   ]
  },
  {
   "cell_type": "code",
   "execution_count": 20,
   "id": "99ad0e8c",
   "metadata": {},
   "outputs": [],
   "source": [
    "from sklearn.model_selection import train_test_split"
   ]
  },
  {
   "cell_type": "code",
   "execution_count": 21,
   "id": "3e76077b",
   "metadata": {},
   "outputs": [],
   "source": [
    "X_train, X_test, y_train, y_test = train_test_split(X, y, test_size=0.3, random_state=42)"
   ]
  },
  {
   "cell_type": "code",
   "execution_count": 22,
   "id": "60a349b9",
   "metadata": {},
   "outputs": [
    {
     "data": {
      "text/plain": [
       "pclass          0\n",
       "age           187\n",
       "sibsp           0\n",
       "parch           0\n",
       "fare            1\n",
       "sex_male        0\n",
       "embarked_Q      0\n",
       "embarked_S      0\n",
       "dtype: int64"
      ]
     },
     "execution_count": 22,
     "metadata": {},
     "output_type": "execute_result"
    }
   ],
   "source": [
    "X_train.isnull().sum()"
   ]
  },
  {
   "cell_type": "markdown",
   "id": "e8f468e6",
   "metadata": {},
   "source": [
    "### Impute Data"
   ]
  },
  {
   "cell_type": "code",
   "execution_count": 23,
   "id": "640a2eee",
   "metadata": {},
   "outputs": [],
   "source": [
    "# To be used for missing value imputation\n",
    "from sklearn.impute import SimpleImputer\n"
   ]
  },
  {
   "cell_type": "code",
   "execution_count": 24,
   "id": "40bd5c90",
   "metadata": {},
   "outputs": [],
   "source": [
    "imp_mode = SimpleImputer(missing_values = np.nan, strategy=\"median\")\n",
    "cols_to_impute = [\"age\", \"fare\"]\n",
    "X_train[cols_to_impute] = imp_mode.fit_transform(X_train[cols_to_impute])"
   ]
  },
  {
   "cell_type": "code",
   "execution_count": 25,
   "id": "f1f95a16",
   "metadata": {},
   "outputs": [
    {
     "data": {
      "text/plain": [
       "pclass        0\n",
       "age           0\n",
       "sibsp         0\n",
       "parch         0\n",
       "fare          0\n",
       "sex_male      0\n",
       "embarked_Q    0\n",
       "embarked_S    0\n",
       "dtype: int64"
      ]
     },
     "execution_count": 25,
     "metadata": {},
     "output_type": "execute_result"
    }
   ],
   "source": [
    "X_train.isnull().sum()"
   ]
  },
  {
   "cell_type": "code",
   "execution_count": 26,
   "id": "75028f20",
   "metadata": {},
   "outputs": [
    {
     "data": {
      "text/plain": [
       "pclass         0\n",
       "age           76\n",
       "sibsp          0\n",
       "parch          0\n",
       "fare           0\n",
       "sex_male       0\n",
       "embarked_Q     0\n",
       "embarked_S     0\n",
       "dtype: int64"
      ]
     },
     "execution_count": 26,
     "metadata": {},
     "output_type": "execute_result"
    }
   ],
   "source": [
    "X_test.isnull().sum()"
   ]
  },
  {
   "cell_type": "code",
   "execution_count": 27,
   "id": "b9d5d712",
   "metadata": {},
   "outputs": [],
   "source": [
    "imp_mode = SimpleImputer(missing_values = np.nan, strategy=\"median\")\n",
    "cols_to_impute = [\"age\"]\n",
    "X_test[cols_to_impute] = imp_mode.fit_transform(X_test[cols_to_impute])"
   ]
  },
  {
   "cell_type": "code",
   "execution_count": 28,
   "id": "b7adaa1a",
   "metadata": {},
   "outputs": [
    {
     "data": {
      "text/plain": [
       "pclass        0\n",
       "age           0\n",
       "sibsp         0\n",
       "parch         0\n",
       "fare          0\n",
       "sex_male      0\n",
       "embarked_Q    0\n",
       "embarked_S    0\n",
       "dtype: int64"
      ]
     },
     "execution_count": 28,
     "metadata": {},
     "output_type": "execute_result"
    }
   ],
   "source": [
    "X_test.isnull().sum()"
   ]
  },
  {
   "cell_type": "markdown",
   "id": "75d125ad",
   "metadata": {},
   "source": [
    "### Normalize Data"
   ]
  },
  {
   "cell_type": "code",
   "execution_count": 29,
   "id": "02692279",
   "metadata": {},
   "outputs": [],
   "source": [
    "# To be used for data scaling (normalizing)\n",
    "from sklearn.preprocessing import StandardScaler"
   ]
  },
  {
   "cell_type": "code",
   "execution_count": 30,
   "id": "94df579e",
   "metadata": {},
   "outputs": [
    {
     "data": {
      "text/plain": [
       "Index(['pclass', 'age', 'sibsp', 'parch', 'fare', 'sex_male', 'embarked_Q',\n",
       "       'embarked_S'],\n",
       "      dtype='object')"
      ]
     },
     "execution_count": 30,
     "metadata": {},
     "output_type": "execute_result"
    }
   ],
   "source": [
    "# easier way of building out a list when you have a lot of values/columns to add \n",
    "#cols = \"pclass, age, sibsp, parch, fare\".split(\",\")\n",
    "cols = X_train.columns\n",
    "cols"
   ]
  },
  {
   "cell_type": "code",
   "execution_count": 31,
   "id": "13e1ee1f",
   "metadata": {},
   "outputs": [],
   "source": [
    "sca = StandardScaler()\n",
    "X_train = sca.fit_transform(X_train)\n",
    "X_train = pd.DataFrame(X_train, columns=cols)\n",
    "X_test = sca.transform(X_test)\n",
    "X_test = pd.DataFrame(X_test, columns=cols)"
   ]
  },
  {
   "cell_type": "code",
   "execution_count": 32,
   "id": "52a859c4",
   "metadata": {},
   "outputs": [
    {
     "data": {
      "text/html": [
       "<div>\n",
       "<style scoped>\n",
       "    .dataframe tbody tr th:only-of-type {\n",
       "        vertical-align: middle;\n",
       "    }\n",
       "\n",
       "    .dataframe tbody tr th {\n",
       "        vertical-align: top;\n",
       "    }\n",
       "\n",
       "    .dataframe thead th {\n",
       "        text-align: right;\n",
       "    }\n",
       "</style>\n",
       "<table border=\"1\" class=\"dataframe\">\n",
       "  <thead>\n",
       "    <tr style=\"text-align: right;\">\n",
       "      <th></th>\n",
       "      <th>pclass</th>\n",
       "      <th>age</th>\n",
       "      <th>sibsp</th>\n",
       "      <th>parch</th>\n",
       "      <th>fare</th>\n",
       "      <th>sex_male</th>\n",
       "      <th>embarked_Q</th>\n",
       "      <th>embarked_S</th>\n",
       "    </tr>\n",
       "  </thead>\n",
       "  <tbody>\n",
       "    <tr>\n",
       "      <th>0</th>\n",
       "      <td>0.825248</td>\n",
       "      <td>-0.070918</td>\n",
       "      <td>-0.498616</td>\n",
       "      <td>-0.432553</td>\n",
       "      <td>-0.474092</td>\n",
       "      <td>0.739795</td>\n",
       "      <td>-0.330089</td>\n",
       "      <td>0.660104</td>\n",
       "    </tr>\n",
       "    <tr>\n",
       "      <th>1</th>\n",
       "      <td>0.825248</td>\n",
       "      <td>-0.232596</td>\n",
       "      <td>-0.498616</td>\n",
       "      <td>-0.432553</td>\n",
       "      <td>-0.488616</td>\n",
       "      <td>0.739795</td>\n",
       "      <td>-0.330089</td>\n",
       "      <td>0.660104</td>\n",
       "    </tr>\n",
       "    <tr>\n",
       "      <th>2</th>\n",
       "      <td>-0.363317</td>\n",
       "      <td>-0.798468</td>\n",
       "      <td>-0.498616</td>\n",
       "      <td>-0.432553</td>\n",
       "      <td>-0.145647</td>\n",
       "      <td>-1.351725</td>\n",
       "      <td>-0.330089</td>\n",
       "      <td>0.660104</td>\n",
       "    </tr>\n",
       "    <tr>\n",
       "      <th>3</th>\n",
       "      <td>0.825248</td>\n",
       "      <td>-0.070918</td>\n",
       "      <td>6.897852</td>\n",
       "      <td>1.805972</td>\n",
       "      <td>0.679370</td>\n",
       "      <td>-1.351725</td>\n",
       "      <td>-0.330089</td>\n",
       "      <td>0.660104</td>\n",
       "    </tr>\n",
       "    <tr>\n",
       "      <th>4</th>\n",
       "      <td>0.825248</td>\n",
       "      <td>-0.070918</td>\n",
       "      <td>-0.498616</td>\n",
       "      <td>-0.432553</td>\n",
       "      <td>-0.490904</td>\n",
       "      <td>-1.351725</td>\n",
       "      <td>-0.330089</td>\n",
       "      <td>0.660104</td>\n",
       "    </tr>\n",
       "  </tbody>\n",
       "</table>\n",
       "</div>"
      ],
      "text/plain": [
       "     pclass       age     sibsp     parch      fare  sex_male  embarked_Q  \\\n",
       "0  0.825248 -0.070918 -0.498616 -0.432553 -0.474092  0.739795   -0.330089   \n",
       "1  0.825248 -0.232596 -0.498616 -0.432553 -0.488616  0.739795   -0.330089   \n",
       "2 -0.363317 -0.798468 -0.498616 -0.432553 -0.145647 -1.351725   -0.330089   \n",
       "3  0.825248 -0.070918  6.897852  1.805972  0.679370 -1.351725   -0.330089   \n",
       "4  0.825248 -0.070918 -0.498616 -0.432553 -0.490904 -1.351725   -0.330089   \n",
       "\n",
       "   embarked_S  \n",
       "0    0.660104  \n",
       "1    0.660104  \n",
       "2    0.660104  \n",
       "3    0.660104  \n",
       "4    0.660104  "
      ]
     },
     "execution_count": 32,
     "metadata": {},
     "output_type": "execute_result"
    }
   ],
   "source": [
    "X_train.head()"
   ]
  },
  {
   "cell_type": "markdown",
   "id": "3a16c111",
   "metadata": {},
   "source": [
    "### Baseline Model"
   ]
  },
  {
   "cell_type": "code",
   "execution_count": 33,
   "id": "184dab74",
   "metadata": {},
   "outputs": [
    {
     "data": {
      "text/plain": [
       "0.5699745547073791"
      ]
     },
     "execution_count": 33,
     "metadata": {},
     "output_type": "execute_result"
    }
   ],
   "source": [
    "from sklearn.dummy import DummyClassifier\n",
    "bm = DummyClassifier()\n",
    "bm.fit(X_train, y_train)\n",
    "bm.score(X_test, y_test) #accuracy"
   ]
  },
  {
   "cell_type": "code",
   "execution_count": 34,
   "id": "991e1ce4",
   "metadata": {},
   "outputs": [
    {
     "name": "stderr",
     "output_type": "stream",
     "text": [
      "C:\\Users\\timry\\AppData\\Roaming\\Python\\Python311\\site-packages\\sklearn\\metrics\\_classification.py:1344: UndefinedMetricWarning: Precision is ill-defined and being set to 0.0 due to no predicted samples. Use `zero_division` parameter to control this behavior.\n",
      "  _warn_prf(average, modifier, msg_start, len(result))\n"
     ]
    },
    {
     "data": {
      "text/plain": [
       "0.0"
      ]
     },
     "execution_count": 34,
     "metadata": {},
     "output_type": "execute_result"
    }
   ],
   "source": [
    "from sklearn import metrics\n",
    "metrics.precision_score(y_test, bm.predict(X_test))"
   ]
  },
  {
   "cell_type": "markdown",
   "id": "8baf41fe",
   "metadata": {},
   "source": [
    "### Varioius ML Families"
   ]
  },
  {
   "cell_type": "code",
   "execution_count": 35,
   "id": "167d9ac6",
   "metadata": {},
   "outputs": [
    {
     "name": "stdout",
     "output_type": "stream",
     "text": [
      "DummyClassifier        AUC: 0.500 STD: 0.00\n",
      "LogisticRegression     AUC: 0.843 STD: 0.03\n",
      "DecisionTreeClassifier AUC: 0.766 STD: 0.03\n",
      "KNeighborsClassifier   AUC: 0.837 STD: 0.04\n",
      "GaussianNB             AUC: 0.819 STD: 0.03\n",
      "SVC                    AUC: 0.837 STD: 0.05\n",
      "RandomForestClassifier AUC: 0.847 STD: 0.04\n",
      "XGBClassifier          AUC: 0.860 STD: 0.03\n"
     ]
    }
   ],
   "source": [
    "X = pd.concat([X_train, X_test])\n",
    "y = pd.concat([y_train, y_test])\n",
    "\n",
    "from sklearn.dummy import DummyClassifier\n",
    "from sklearn.linear_model import LogisticRegression\n",
    "from sklearn.tree import DecisionTreeClassifier\n",
    "from sklearn.neighbors import KNeighborsClassifier\n",
    "from sklearn.naive_bayes import GaussianNB\n",
    "from sklearn.svm import SVC\n",
    "from sklearn.ensemble import RandomForestClassifier\n",
    "import xgboost\n",
    "\n",
    "from sklearn.model_selection import KFold, cross_val_score\n",
    "\n",
    "for model in [DummyClassifier,\n",
    "              LogisticRegression,\n",
    "              DecisionTreeClassifier,\n",
    "              KNeighborsClassifier,\n",
    "              GaussianNB,\n",
    "              SVC,\n",
    "              RandomForestClassifier,\n",
    "              xgboost.XGBClassifier\n",
    "             ]:\n",
    "    cls=model()\n",
    "    kfold= KFold(n_splits=10)\n",
    "    s= cross_val_score(cls, X, y, scoring=\"roc_auc\", cv=kfold)\n",
    "    \n",
    "    print(f\"{model.__name__:22} AUC: \"\n",
    "          f\"{s.mean():.3f} STD: {s.std():.2f}\")\n",
    "    "
   ]
  },
  {
   "cell_type": "markdown",
   "id": "5da0b222",
   "metadata": {},
   "source": [
    "### Stacking"
   ]
  },
  {
   "cell_type": "code",
   "execution_count": 36,
   "id": "239ba5a5",
   "metadata": {},
   "outputs": [
    {
     "name": "stdout",
     "output_type": "stream",
     "text": [
      "StackingClassifier AUC: 0.865 STD: 0.03\n"
     ]
    }
   ],
   "source": [
    "# Used sklearn StackingClassifier from class instead of the mlxtend.classifier from book\n",
    "\n",
    "from sklearn.ensemble import StackingClassifier\n",
    "\n",
    "clfs = [\n",
    "    ('lr',LogisticRegression()),\n",
    "    ('dtc', DecisionTreeClassifier()),\n",
    "    ('kn', KNeighborsClassifier()),\n",
    "    ('g', GaussianNB()),\n",
    "    ('svc', SVC()),\n",
    "    ('rfc', RandomForestClassifier())\n",
    "    ]\n",
    "\n",
    "stack = StackingClassifier(estimators=clfs,\n",
    "                           final_estimator=LogisticRegression()\n",
    "                          )\n",
    "\n",
    "kfold = KFold(n_splits=10)\n",
    "\n",
    "s = cross_val_score(stack, X, y, scoring=\"roc_auc\", cv=kfold)\n",
    "\n",
    "print(\n",
    "    f\"{stack.__class__.__name__} \"\n",
    "    f\"AUC: {s.mean():.3f} STD: {s.std():.2f}\"\n",
    ")"
   ]
  },
  {
   "cell_type": "markdown",
   "id": "d1ae00eb",
   "metadata": {},
   "source": [
    "### Create Model"
   ]
  },
  {
   "cell_type": "code",
   "execution_count": 37,
   "id": "0a811076",
   "metadata": {},
   "outputs": [
    {
     "data": {
      "text/html": [
       "<style>#sk-container-id-1 {color: black;background-color: white;}#sk-container-id-1 pre{padding: 0;}#sk-container-id-1 div.sk-toggleable {background-color: white;}#sk-container-id-1 label.sk-toggleable__label {cursor: pointer;display: block;width: 100%;margin-bottom: 0;padding: 0.3em;box-sizing: border-box;text-align: center;}#sk-container-id-1 label.sk-toggleable__label-arrow:before {content: \"▸\";float: left;margin-right: 0.25em;color: #696969;}#sk-container-id-1 label.sk-toggleable__label-arrow:hover:before {color: black;}#sk-container-id-1 div.sk-estimator:hover label.sk-toggleable__label-arrow:before {color: black;}#sk-container-id-1 div.sk-toggleable__content {max-height: 0;max-width: 0;overflow: hidden;text-align: left;background-color: #f0f8ff;}#sk-container-id-1 div.sk-toggleable__content pre {margin: 0.2em;color: black;border-radius: 0.25em;background-color: #f0f8ff;}#sk-container-id-1 input.sk-toggleable__control:checked~div.sk-toggleable__content {max-height: 200px;max-width: 100%;overflow: auto;}#sk-container-id-1 input.sk-toggleable__control:checked~label.sk-toggleable__label-arrow:before {content: \"▾\";}#sk-container-id-1 div.sk-estimator input.sk-toggleable__control:checked~label.sk-toggleable__label {background-color: #d4ebff;}#sk-container-id-1 div.sk-label input.sk-toggleable__control:checked~label.sk-toggleable__label {background-color: #d4ebff;}#sk-container-id-1 input.sk-hidden--visually {border: 0;clip: rect(1px 1px 1px 1px);clip: rect(1px, 1px, 1px, 1px);height: 1px;margin: -1px;overflow: hidden;padding: 0;position: absolute;width: 1px;}#sk-container-id-1 div.sk-estimator {font-family: monospace;background-color: #f0f8ff;border: 1px dotted black;border-radius: 0.25em;box-sizing: border-box;margin-bottom: 0.5em;}#sk-container-id-1 div.sk-estimator:hover {background-color: #d4ebff;}#sk-container-id-1 div.sk-parallel-item::after {content: \"\";width: 100%;border-bottom: 1px solid gray;flex-grow: 1;}#sk-container-id-1 div.sk-label:hover label.sk-toggleable__label {background-color: #d4ebff;}#sk-container-id-1 div.sk-serial::before {content: \"\";position: absolute;border-left: 1px solid gray;box-sizing: border-box;top: 0;bottom: 0;left: 50%;z-index: 0;}#sk-container-id-1 div.sk-serial {display: flex;flex-direction: column;align-items: center;background-color: white;padding-right: 0.2em;padding-left: 0.2em;position: relative;}#sk-container-id-1 div.sk-item {position: relative;z-index: 1;}#sk-container-id-1 div.sk-parallel {display: flex;align-items: stretch;justify-content: center;background-color: white;position: relative;}#sk-container-id-1 div.sk-item::before, #sk-container-id-1 div.sk-parallel-item::before {content: \"\";position: absolute;border-left: 1px solid gray;box-sizing: border-box;top: 0;bottom: 0;left: 50%;z-index: -1;}#sk-container-id-1 div.sk-parallel-item {display: flex;flex-direction: column;z-index: 1;position: relative;background-color: white;}#sk-container-id-1 div.sk-parallel-item:first-child::after {align-self: flex-end;width: 50%;}#sk-container-id-1 div.sk-parallel-item:last-child::after {align-self: flex-start;width: 50%;}#sk-container-id-1 div.sk-parallel-item:only-child::after {width: 0;}#sk-container-id-1 div.sk-dashed-wrapped {border: 1px dashed gray;margin: 0 0.4em 0.5em 0.4em;box-sizing: border-box;padding-bottom: 0.4em;background-color: white;}#sk-container-id-1 div.sk-label label {font-family: monospace;font-weight: bold;display: inline-block;line-height: 1.2em;}#sk-container-id-1 div.sk-label-container {text-align: center;}#sk-container-id-1 div.sk-container {/* jupyter's `normalize.less` sets `[hidden] { display: none; }` but bootstrap.min.css set `[hidden] { display: none !important; }` so we also need the `!important` here to be able to override the default hidden behavior on the sphinx rendered scikit-learn.org. See: https://github.com/scikit-learn/scikit-learn/issues/21755 */display: inline-block !important;position: relative;}#sk-container-id-1 div.sk-text-repr-fallback {display: none;}</style><div id=\"sk-container-id-1\" class=\"sk-top-container\"><div class=\"sk-text-repr-fallback\"><pre>RandomForestClassifier(random_state=42)</pre><b>In a Jupyter environment, please rerun this cell to show the HTML representation or trust the notebook. <br />On GitHub, the HTML representation is unable to render, please try loading this page with nbviewer.org.</b></div><div class=\"sk-container\" hidden><div class=\"sk-item\"><div class=\"sk-estimator sk-toggleable\"><input class=\"sk-toggleable__control sk-hidden--visually\" id=\"sk-estimator-id-1\" type=\"checkbox\" checked><label for=\"sk-estimator-id-1\" class=\"sk-toggleable__label sk-toggleable__label-arrow\">RandomForestClassifier</label><div class=\"sk-toggleable__content\"><pre>RandomForestClassifier(random_state=42)</pre></div></div></div></div></div>"
      ],
      "text/plain": [
       "RandomForestClassifier(random_state=42)"
      ]
     },
     "execution_count": 37,
     "metadata": {},
     "output_type": "execute_result"
    }
   ],
   "source": [
    "rf = RandomForestClassifier(n_estimators=100, random_state=42)\n",
    "rf.fit(X_train, y_train)"
   ]
  },
  {
   "cell_type": "markdown",
   "id": "3b2b55ca",
   "metadata": {},
   "source": [
    "### Evaluate Model"
   ]
  },
  {
   "cell_type": "code",
   "execution_count": 38,
   "id": "9243867d",
   "metadata": {},
   "outputs": [
    {
     "data": {
      "text/plain": [
       "0.7837150127226463"
      ]
     },
     "execution_count": 38,
     "metadata": {},
     "output_type": "execute_result"
    }
   ],
   "source": [
    "rf.score(X_test, y_test)"
   ]
  },
  {
   "cell_type": "code",
   "execution_count": 39,
   "id": "09e8a3b3",
   "metadata": {},
   "outputs": [
    {
     "data": {
      "text/plain": [
       "0.8"
      ]
     },
     "execution_count": 39,
     "metadata": {},
     "output_type": "execute_result"
    }
   ],
   "source": [
    "metrics.precision_score(y_test, rf.predict(X_test))"
   ]
  },
  {
   "cell_type": "code",
   "execution_count": 40,
   "id": "dc3a1a04",
   "metadata": {},
   "outputs": [
    {
     "name": "stdout",
     "output_type": "stream",
     "text": [
      "fare           0.285\n",
      "age            0.260\n",
      "sex_male       0.237\n",
      "pclass         0.089\n",
      "sibsp          0.049\n"
     ]
    }
   ],
   "source": [
    "# create a feature importance list for the RandomForest model above\n",
    "for col, val in sorted(zip(X_train.columns,\n",
    "                           rf.feature_importances_),\n",
    "                      key = lambda x: x[1],\n",
    "                      reverse=True\n",
    "                      )[:5]:\n",
    "                        print(f\"{col:10}{val:10.3f}\")\n"
   ]
  },
  {
   "cell_type": "markdown",
   "id": "15d6df83",
   "metadata": {},
   "source": [
    "### Optimize Model"
   ]
  },
  {
   "cell_type": "code",
   "execution_count": 41,
   "id": "74eee9dd",
   "metadata": {},
   "outputs": [
    {
     "name": "stdout",
     "output_type": "stream",
     "text": [
      "{'max_features': 0.4, 'min_samples_leaf': 1, 'n_estimators': 15, 'random_state': 42}\n"
     ]
    }
   ],
   "source": [
    "from sklearn.model_selection import GridSearchCV\n",
    "\n",
    "rf4 = RandomForestClassifier()\n",
    "params = {\n",
    "    \"max_features\": [0.4, \"auto\"],\n",
    "    \"n_estimators\": [15,200],\n",
    "    \"min_samples_leaf\": [1, 0.1],\n",
    "    \"random_state\" : [42]\n",
    "    }\n",
    "\n",
    "cv = GridSearchCV(rf4, params, n_jobs = -1).fit(X_train,y_train)\n",
    "\n",
    "print(cv.best_params_)\n"
   ]
  },
  {
   "cell_type": "code",
   "execution_count": 42,
   "id": "2b31cb47",
   "metadata": {},
   "outputs": [
    {
     "data": {
      "text/plain": [
       "0.7938931297709924"
      ]
     },
     "execution_count": 42,
     "metadata": {},
     "output_type": "execute_result"
    }
   ],
   "source": [
    "rf5 = RandomForestClassifier(\n",
    "    **{\n",
    "        \"max_features\": 0.4,\n",
    "        \"min_samples_leaf\": 1,\n",
    "        \"n_estimators\": 15,\n",
    "        \"random_state\" : 42\n",
    "    })\n",
    "rf5.fit(X_train, y_train)\n",
    "rf5.score(X_test, y_test)\n",
    "                            "
   ]
  },
  {
   "cell_type": "markdown",
   "id": "b9461a68",
   "metadata": {},
   "source": [
    "### Confusion Matrix"
   ]
  },
  {
   "cell_type": "code",
   "execution_count": 43,
   "id": "c099e8b9",
   "metadata": {},
   "outputs": [
    {
     "data": {
      "text/plain": [
       "array([[199,  25],\n",
       "       [ 56, 113]], dtype=int64)"
      ]
     },
     "execution_count": 43,
     "metadata": {},
     "output_type": "execute_result"
    }
   ],
   "source": [
    "from sklearn.metrics import confusion_matrix\n",
    "y_pred = rf5.predict(X_test)\n",
    "confusion_matrix(y_test, y_pred)"
   ]
  },
  {
   "cell_type": "code",
   "execution_count": 44,
   "id": "73ab1713",
   "metadata": {},
   "outputs": [
    {
     "name": "stderr",
     "output_type": "stream",
     "text": [
      "C:\\Users\\timry\\anaconda3\\Lib\\site-packages\\yellowbrick\\classifier\\base.py:232: YellowbrickWarning: could not determine class_counts_ from previously fitted classifier\n",
      "  warnings.warn(\n"
     ]
    },
    {
     "data": {
      "image/png": "[encoded data removed]",
      "text/plain": [
       "<Figure size 600x600 with 1 Axes>"
      ]
     },
     "metadata": {},
     "output_type": "display_data"
    },
    {
     "data": {
      "text/plain": [
       "<Axes: title={'center': 'RandomForestClassifier Confusion Matrix'}, xlabel='Predicted Class', ylabel='True Class'>"
      ]
     },
     "execution_count": 44,
     "metadata": {},
     "output_type": "execute_result"
    }
   ],
   "source": [
    "# using yellowbrick to create a confusion matrix plot\n",
    "\n",
    "from yellowbrick.classifier import ConfusionMatrix\n",
    "import matplotlib.pyplot as plt\n",
    "mapping = {0: \"died\", 1: \"survived\"}\n",
    "fig, ax = plt.subplots(figsize=(6,6))\n",
    "cm_viz = ConfusionMatrix(\n",
    "        rf5,\n",
    "        classes=[\"died\",\"survived\"],\n",
    "        label_encoder=mapping)\n",
    "\n",
    "cm_viz.score(X_test, y_test)\n",
    "cm_viz.poof()"
   ]
  },
  {
   "cell_type": "code",
   "execution_count": 51,
   "id": "6cd628d3",
   "metadata": {},
   "outputs": [
    {
     "data": {
      "image/png": "[encoded data removed]",
      "text/plain": [
       "<Figure size 800x550 with 2 Axes>"
      ]
     },
     "metadata": {},
     "output_type": "display_data"
    }
   ],
   "source": [
    "# Using sklearn to build a confusion matrix plot\n",
    "from sklearn.metrics import ConfusionMatrixDisplay\n",
    "\n",
    "y_pred = rf5.predict(X_test)\n",
    "ConfusionMatrixDisplay.from_predictions(y_test, y_pred,\n",
    "                              display_labels=mapping)\n",
    "plt.show()\n",
    "\n"
   ]
  },
  {
   "cell_type": "markdown",
   "id": "2f504d50",
   "metadata": {},
   "source": [
    "### ROC Curve"
   ]
  },
  {
   "cell_type": "code",
   "execution_count": 61,
   "id": "6a1cce62",
   "metadata": {},
   "outputs": [
    {
     "data": {
      "text/plain": [
       "0.7785159551986475"
      ]
     },
     "execution_count": 61,
     "metadata": {},
     "output_type": "execute_result"
    }
   ],
   "source": [
    "from sklearn.metrics import roc_auc_score\n",
    "\n",
    "y_pred = rf5.predict(X_test)\n",
    "roc_auc_score(y_test, y_pred)"
   ]
  },
  {
   "cell_type": "code",
   "execution_count": 64,
   "id": "86fa3e53",
   "metadata": {},
   "outputs": [
    {
     "name": "stderr",
     "output_type": "stream",
     "text": [
      "C:\\Users\\timry\\AppData\\Roaming\\Python\\Python311\\site-packages\\sklearn\\base.py:439: UserWarning: X does not have valid feature names, but RandomForestClassifier was fitted with feature names\n",
      "  warnings.warn(\n"
     ]
    },
    {
     "data": {
      "image/png": "[encoded data removed]",
      "text/plain": [
       "<Figure size 600x600 with 1 Axes>"
      ]
     },
     "metadata": {},
     "output_type": "display_data"
    },
    {
     "data": {
      "text/plain": [
       "<function matplotlib.pyplot.show(close=None, block=None)>"
      ]
     },
     "execution_count": 64,
     "metadata": {},
     "output_type": "execute_result"
    }
   ],
   "source": [
    "# Create Roc-AUC curve plot using yellowbrick\n",
    "from yellowbrick.classifier import ROCAUC\n",
    "fig, ax = plt.subplots(figsize=(6,6))\n",
    "roc_viz = ROCAUC(rf5)\n",
    "roc_viz.fit(X_train, y_train)\n",
    "roc_viz.score(X_test, y_test)\n",
    "roc_viz.poof()\n",
    "plt.show"
   ]
  },
  {
   "cell_type": "markdown",
   "id": "2b43c80f",
   "metadata": {},
   "source": [
    "### Learning Curve"
   ]
  },
  {
   "cell_type": "code",
   "execution_count": 68,
   "id": "911273bf",
   "metadata": {},
   "outputs": [
    {
     "data": {
      "image/png": "[encoded data removed]",
      "text/plain": [
       "<Figure size 600x400 with 1 Axes>"
      ]
     },
     "metadata": {},
     "output_type": "display_data"
    },
    {
     "data": {
      "text/plain": [
       "<Axes: title={'center': 'Learning Curve for RandomForestClassifier'}, xlabel='Training Instances', ylabel='Score'>"
      ]
     },
     "execution_count": 68,
     "metadata": {},
     "output_type": "execute_result"
    }
   ],
   "source": [
    "import numpy as np\n",
    "from sklearn.model_selection import StratifiedKFold\n",
    "from yellowbrick.model_selection import LearningCurve\n",
    "\n",
    "fig, ax = plt.subplots(figsize=(6,4))\n",
    "cv = StratifiedKFold(12)\n",
    "sizes = np.linspace(0.3, 1.0, 10)\n",
    "lc_viz = LearningCurve(\n",
    "    rf5,\n",
    "    cv=cv,\n",
    "    train_sizes = sizes,\n",
    "    scoring=\"f1_weighted\",\n",
    "    n_jobs = 4,\n",
    "    ax=ax\n",
    ")\n",
    "\n",
    "lc_viz.fit(X,y)\n",
    "lc_viz.poof()\n"
   ]
  },
  {
   "cell_type": "markdown",
   "id": "f851945a",
   "metadata": {},
   "source": [
    "### Deploy Model"
   ]
  },
  {
   "cell_type": "code",
   "execution_count": 70,
   "id": "50463368",
   "metadata": {},
   "outputs": [
    {
     "data": {
      "text/plain": [
       "0.7785159551986475"
      ]
     },
     "execution_count": 70,
     "metadata": {},
     "output_type": "execute_result"
    }
   ],
   "source": [
    "import pickle\n",
    "pic = pickle.dumps(rf5)\n",
    "rf6 = pickle.loads(pic)\n",
    "y_pred = rf6.predict(X_test)\n",
    "roc_auc_score(y_test, y_pred)"
   ]
  },
  {
   "cell_type": "markdown",
   "id": "143fe728",
   "metadata": {},
   "source": [
    "# Chapter 4"
   ]
  },
  {
   "cell_type": "code",
   "execution_count": 71,
   "id": "655b2c52",
   "metadata": {},
   "outputs": [
    {
     "data": {
      "text/plain": [
       "pclass         0.000000\n",
       "survived       0.000000\n",
       "age           20.091673\n",
       "sibsp          0.000000\n",
       "parch          0.000000\n",
       "fare           0.076394\n",
       "sex_male       0.000000\n",
       "embarked_Q     0.000000\n",
       "embarked_S     0.000000\n",
       "dtype: float64"
      ]
     },
     "execution_count": 71,
     "metadata": {},
     "output_type": "execute_result"
    }
   ],
   "source": [
    "df.isnull().mean()*100"
   ]
  },
  {
   "cell_type": "code",
   "execution_count": null,
   "id": "3ffb120f",
   "metadata": {},
   "outputs": [],
   "source": []
  }
 ],
 "metadata": {
  "kernelspec": {
   "display_name": "Python 3 (ipykernel)",
   "language": "python",
   "name": "python3"
  },
  "language_info": {
   "codemirror_mode": {
    "name": "ipython",
    "version": 3
   },
   "file_extension": ".py",
   "mimetype": "text/x-python",
   "name": "python",
   "nbconvert_exporter": "python",
   "pygments_lexer": "ipython3",
   "version": "3.11.7"
  }
 },
 "nbformat": 4,
 "nbformat_minor": 5
}
