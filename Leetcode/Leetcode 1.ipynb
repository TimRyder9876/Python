{
 "cells": [
  {
   "cell_type": "code",
   "execution_count": 10,
   "id": "b92eef15",
   "metadata": {},
   "outputs": [
    {
     "name": "stdout",
     "output_type": "stream",
     "text": [
      "[2, 7, 9, 15]\n",
      "9\n",
      "7\n",
      "0\n",
      "1\n"
     ]
    },
    {
     "data": {
      "text/plain": [
       "[2, 7]"
      ]
     },
     "execution_count": 10,
     "metadata": {},
     "output_type": "execute_result"
    }
   ],
   "source": [
    "def twoSum(nums, target):\n",
    "    print(nums)\n",
    "    print(target)\n",
    "    \n",
    "    length = len(nums)\n",
    "\n",
    "    \n",
    "    for i in range(length):\n",
    "        total = 0\n",
    "        diff = 0\n",
    "        answer = []\n",
    "        \n",
    "        diff = target - nums[i]\n",
    "        answer.append(nums[i])\n",
    "        print(diff)\n",
    "        \n",
    "        for j in range(length):\n",
    "            print(j)\n",
    "            if i == j:\n",
    "                continue\n",
    "            if diff == nums[j]:\n",
    "                answer.append(nums[j])\n",
    "                return answer    \n",
    "            \n",
    "\n",
    "twoSum([2,7,9,15],9)"
   ]
  },
  {
   "cell_type": "code",
   "execution_count": 19,
   "id": "0d93dba6",
   "metadata": {},
   "outputs": [
    {
     "name": "stdout",
     "output_type": "stream",
     "text": [
      "[3, 3]\n",
      "6\n",
      "3\n"
     ]
    },
    {
     "data": {
      "text/plain": [
       "[0, 1]"
      ]
     },
     "execution_count": 19,
     "metadata": {},
     "output_type": "execute_result"
    }
   ],
   "source": [
    "def twoSum(nums, target):\n",
    "    print(nums)\n",
    "    print(target)\n",
    "    \n",
    "    length = len(nums)\n",
    "\n",
    "    for i in range(length):\n",
    "        total = 0\n",
    "        diff = 0\n",
    "        answer = []\n",
    "        \n",
    "        diff = target - nums[i]\n",
    "        answer.append(nums[i])\n",
    "        print(diff)\n",
    "        \n",
    "        for j in range(length-1, i,-1):\n",
    "            if diff == nums[j]:\n",
    "                answer.append(nums[j])\n",
    "                return [i,j] \n",
    "            \n",
    "\n",
    "#twoSum([2,7,9,15],9)\n",
    "#twoSum([3,2,4],6)\n",
    "twoSum([3,3],6)\n"
   ]
  },
  {
   "cell_type": "code",
   "execution_count": 22,
   "id": "99481228",
   "metadata": {},
   "outputs": [
    {
     "ename": "AttributeError",
     "evalue": "'list' object has no attribute 'val'",
     "output_type": "error",
     "traceback": [
      "\u001b[1;31m---------------------------------------------------------------------------\u001b[0m",
      "\u001b[1;31mAttributeError\u001b[0m                            Traceback (most recent call last)",
      "Cell \u001b[1;32mIn[22], line 1\u001b[0m\n\u001b[1;32m----> 1\u001b[0m addTwoNumbers([\u001b[38;5;241m2\u001b[39m,\u001b[38;5;241m4\u001b[39m,\u001b[38;5;241m3\u001b[39m],[\u001b[38;5;241m5\u001b[39m,\u001b[38;5;241m6\u001b[39m,\u001b[38;5;241m4\u001b[39m])\n",
      "Cell \u001b[1;32mIn[21], line 13\u001b[0m, in \u001b[0;36maddTwoNumbers\u001b[1;34m(l1, l2)\u001b[0m\n\u001b[0;32m     10\u001b[0m carry \u001b[38;5;241m=\u001b[39m \u001b[38;5;241m0\u001b[39m\n\u001b[0;32m     12\u001b[0m \u001b[38;5;28;01mwhile\u001b[39;00m l1 \u001b[38;5;129;01mor\u001b[39;00m l2 \u001b[38;5;129;01mor\u001b[39;00m carry:\n\u001b[1;32m---> 13\u001b[0m     val1 \u001b[38;5;241m=\u001b[39m l1\u001b[38;5;241m.\u001b[39mval \u001b[38;5;28;01mif\u001b[39;00m l1 \u001b[38;5;28;01melse\u001b[39;00m \u001b[38;5;241m0\u001b[39m\n\u001b[0;32m     14\u001b[0m     val2 \u001b[38;5;241m=\u001b[39m l2\u001b[38;5;241m.\u001b[39mval \u001b[38;5;28;01mif\u001b[39;00m l2 \u001b[38;5;28;01melse\u001b[39;00m \u001b[38;5;241m0\u001b[39m\n\u001b[0;32m     16\u001b[0m     \u001b[38;5;28msum\u001b[39m \u001b[38;5;241m=\u001b[39m val1 \u001b[38;5;241m+\u001b[39m val2 \u001b[38;5;241m+\u001b[39m carry\n",
      "\u001b[1;31mAttributeError\u001b[0m: 'list' object has no attribute 'val'"
     ]
    }
   ],
   "source": [
    "addTwoNumbers([2,4,3],[5,6,4])"
   ]
  },
  {
   "cell_type": "code",
   "execution_count": null,
   "id": "a3fea1a9",
   "metadata": {},
   "outputs": [],
   "source": []
  }
 ],
 "metadata": {
  "kernelspec": {
   "display_name": "Python 3 (ipykernel)",
   "language": "python",
   "name": "python3"
  },
  "language_info": {
   "codemirror_mode": {
    "name": "ipython",
    "version": 3
   },
   "file_extension": ".py",
   "mimetype": "text/x-python",
   "name": "python",
   "nbconvert_exporter": "python",
   "pygments_lexer": "ipython3",
   "version": "3.11.7"
  }
 },
 "nbformat": 4,
 "nbformat_minor": 5
}
