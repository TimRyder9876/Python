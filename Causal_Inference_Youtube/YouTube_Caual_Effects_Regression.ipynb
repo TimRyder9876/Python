{
 "cells": [
  {
   "cell_type": "code",
   "execution_count": 2,
   "id": "620ee571",
   "metadata": {},
   "outputs": [],
   "source": [
    "import econml\n",
    "import dowhy\n",
    "import numpy as np\n",
    "import pandas as pd\n",
    "from sklearn.linear_model import LinearRegression\n",
    "from sklearn.tree import DecisionTreeRegressor"
   ]
  },
  {
   "cell_type": "code",
   "execution_count": 3,
   "id": "78406105",
   "metadata": {},
   "outputs": [
    {
     "data": {
      "text/html": [
       "<div>\n",
       "<style scoped>\n",
       "    .dataframe tbody tr th:only-of-type {\n",
       "        vertical-align: middle;\n",
       "    }\n",
       "\n",
       "    .dataframe tbody tr th {\n",
       "        vertical-align: top;\n",
       "    }\n",
       "\n",
       "    .dataframe thead th {\n",
       "        text-align: right;\n",
       "    }\n",
       "</style>\n",
       "<table border=\"1\" class=\"dataframe\">\n",
       "  <thead>\n",
       "    <tr style=\"text-align: right;\">\n",
       "      <th></th>\n",
       "      <th>age</th>\n",
       "      <th>hasGraduateDegree</th>\n",
       "      <th>greaterThan50k</th>\n",
       "    </tr>\n",
       "  </thead>\n",
       "  <tbody>\n",
       "    <tr>\n",
       "      <th>0</th>\n",
       "      <td>39</td>\n",
       "      <td>False</td>\n",
       "      <td>False</td>\n",
       "    </tr>\n",
       "    <tr>\n",
       "      <th>1</th>\n",
       "      <td>50</td>\n",
       "      <td>False</td>\n",
       "      <td>False</td>\n",
       "    </tr>\n",
       "    <tr>\n",
       "      <th>2</th>\n",
       "      <td>38</td>\n",
       "      <td>False</td>\n",
       "      <td>False</td>\n",
       "    </tr>\n",
       "    <tr>\n",
       "      <th>3</th>\n",
       "      <td>53</td>\n",
       "      <td>False</td>\n",
       "      <td>False</td>\n",
       "    </tr>\n",
       "    <tr>\n",
       "      <th>5</th>\n",
       "      <td>37</td>\n",
       "      <td>True</td>\n",
       "      <td>False</td>\n",
       "    </tr>\n",
       "  </tbody>\n",
       "</table>\n",
       "</div>"
      ],
      "text/plain": [
       "   age  hasGraduateDegree  greaterThan50k\n",
       "0   39              False           False\n",
       "1   50              False           False\n",
       "2   38              False           False\n",
       "3   53              False           False\n",
       "5   37               True           False"
      ]
     },
     "execution_count": 3,
     "metadata": {},
     "output_type": "execute_result"
    }
   ],
   "source": [
    "df = pd.read_pickle(\"df_causal_effects.p\")\n",
    "df.head()"
   ]
  },
  {
   "cell_type": "code",
   "execution_count": 6,
   "id": "b99afcc7",
   "metadata": {},
   "outputs": [],
   "source": [
    "# define causal model\n",
    "model = dowhy.CausalModel(\n",
    "    data=df,\n",
    "    treatment = \"hasGraduateDegree\",\n",
    "    outcome = \"greaterThan50k\",\n",
    "    common_causes = \"age\")\n",
    "\n",
    "# define estimand\n",
    "estimand = model.identify_effect(proceed_when_unidentifiable=True)"
   ]
  },
  {
   "cell_type": "code",
   "execution_count": 8,
   "id": "c131437e",
   "metadata": {},
   "outputs": [
    {
     "name": "stdout",
     "output_type": "stream",
     "text": [
      "*** Causal Estimate ***\n",
      "\n",
      "## Identified estimand\n",
      "Estimand type: EstimandType.NONPARAMETRIC_ATE\n",
      "\n",
      "### Estimand : 1\n",
      "Estimand name: backdoor\n",
      "Estimand expression:\n",
      "         d                                 \n",
      "────────────────────(E[greaterThan50k|age])\n",
      "d[hasGraduateDegree]                       \n",
      "Estimand assumption 1, Unconfoundedness: If U→{hasGraduateDegree} and U→greaterThan50k then P(greaterThan50k|hasGraduateDegree,age,U) = P(greaterThan50k|hasGraduateDegree,age)\n",
      "\n",
      "## Realized estimand\n",
      "b: greaterThan50k~hasGraduateDegree+age\n",
      "Target units: ate\n",
      "\n",
      "## Estimate\n",
      "Mean value: 0.29760513570328795\n",
      "\n"
     ]
    },
    {
     "name": "stderr",
     "output_type": "stream",
     "text": [
      "C:\\Users\\timry\\anaconda3\\Lib\\site-packages\\dowhy\\causal_estimators\\regression_estimator.py:131: FutureWarning: Series.__getitem__ treating keys as positions is deprecated. In a future version, integer keys will always be treated as labels (consistent with DataFrame behavior). To access a value by position, use `ser.iloc[pos]`\n",
      "  intercept_parameter = self.model.params[0]\n"
     ]
    }
   ],
   "source": [
    "# Linear Regression\n",
    "LR_estimate = model.estimate_effect(estimand,\n",
    "                                    method_name = \"backdoor.linear_regression\")\n",
    "\n",
    "#ATE\n",
    "print(LR_estimate)\n"
   ]
  },
  {
   "cell_type": "code",
   "execution_count": 9,
   "id": "70893cb2",
   "metadata": {},
   "outputs": [
    {
     "name": "stdout",
     "output_type": "stream",
     "text": [
      "*** Causal Estimate ***\n",
      "\n",
      "## Identified estimand\n",
      "Estimand type: EstimandType.NONPARAMETRIC_ATE\n",
      "\n",
      "### Estimand : 1\n",
      "Estimand name: backdoor\n",
      "Estimand expression:\n",
      "         d                                 \n",
      "────────────────────(E[greaterThan50k|age])\n",
      "d[hasGraduateDegree]                       \n",
      "Estimand assumption 1, Unconfoundedness: If U→{hasGraduateDegree} and U→greaterThan50k then P(greaterThan50k|hasGraduateDegree,age,U) = P(greaterThan50k|hasGraduateDegree,age)\n",
      "\n",
      "## Realized estimand\n",
      "b: greaterThan50k~hasGraduateDegree+age | \n",
      "Target units: ate\n",
      "\n",
      "## Estimate\n",
      "Mean value: 0.29779791121709576\n",
      "Effect estimates: [[0.29779791]]\n",
      "\n"
     ]
    },
    {
     "name": "stderr",
     "output_type": "stream",
     "text": [
      "The final model has a nonzero intercept for at least one outcome; it will be subtracted, but consider fitting a model without an intercept if possible.\n"
     ]
    }
   ],
   "source": [
    "# Double Machine Learning\n",
    "DML_estimate = model.estimate_effect(estimand,\n",
    "                                     method_name = \"backdoor.econml.dml.DML\",\n",
    "                                     method_params = {\"init_params\":{\n",
    "                                         'model_y':LinearRegression(),\n",
    "                                         'model_t':LinearRegression(),\n",
    "                                         'model_final': LinearRegression()},\n",
    "                                                      \"fit_params\":{}\n",
    "                                                     })\n",
    "#DML ATE\n",
    "print(DML_estimate)"
   ]
  },
  {
   "cell_type": "code",
   "execution_count": 10,
   "id": "3aecb595",
   "metadata": {},
   "outputs": [
    {
     "name": "stdout",
     "output_type": "stream",
     "text": [
      "*** Causal Estimate ***\n",
      "\n",
      "## Identified estimand\n",
      "Estimand type: EstimandType.NONPARAMETRIC_ATE\n",
      "\n",
      "### Estimand : 1\n",
      "Estimand name: backdoor\n",
      "Estimand expression:\n",
      "         d                                 \n",
      "────────────────────(E[greaterThan50k|age])\n",
      "d[hasGraduateDegree]                       \n",
      "Estimand assumption 1, Unconfoundedness: If U→{hasGraduateDegree} and U→greaterThan50k then P(greaterThan50k|hasGraduateDegree,age,U) = P(greaterThan50k|hasGraduateDegree,age)\n",
      "\n",
      "## Realized estimand\n",
      "b: greaterThan50k~hasGraduateDegree+age\n",
      "Target units: ate\n",
      "\n",
      "## Estimate\n",
      "Mean value: 0.20232049378002753\n",
      "Effect estimates: [[ 0.31037666]\n",
      " [ 0.21099013]\n",
      " [ 0.36363636]\n",
      " ...\n",
      " [ 0.16049383]\n",
      " [-0.00342775]\n",
      " [ 0.2008029 ]]\n",
      "\n"
     ]
    },
    {
     "name": "stderr",
     "output_type": "stream",
     "text": [
      "A column-vector y was passed when a 1d array was expected. Please change the shape of y to (n_samples, ), for example using ravel().\n"
     ]
    }
   ],
   "source": [
    "# X-learner\n",
    "Xlearner_estimate = model.estimate_effect(estimand,\n",
    "                          method_name = \"backdoor.econml.metalearners.XLearner\",\n",
    "                          method_params = {\"init_params\":{\n",
    "                                              'models':DecisionTreeRegressor()\n",
    "                                                      },\n",
    "                                          \"fit_params\":{}\n",
    "                                          })\n",
    "\n",
    "# X-learner ATE\n",
    "print(Xlearner_estimate)"
   ]
  },
  {
   "cell_type": "code",
   "execution_count": 11,
   "id": "40bb209f",
   "metadata": {},
   "outputs": [],
   "source": [
    "# Dow is a good library to try out various models for ATE"
   ]
  },
  {
   "cell_type": "code",
   "execution_count": null,
   "id": "a5955e73",
   "metadata": {},
   "outputs": [],
   "source": []
  }
 ],
 "metadata": {
  "kernelspec": {
   "display_name": "Python 3 (ipykernel)",
   "language": "python",
   "name": "python3"
  },
  "language_info": {
   "codemirror_mode": {
    "name": "ipython",
    "version": 3
   },
   "file_extension": ".py",
   "mimetype": "text/x-python",
   "name": "python",
   "nbconvert_exporter": "python",
   "pygments_lexer": "ipython3",
   "version": "3.11.7"
  }
 },
 "nbformat": 4,
 "nbformat_minor": 5
}
