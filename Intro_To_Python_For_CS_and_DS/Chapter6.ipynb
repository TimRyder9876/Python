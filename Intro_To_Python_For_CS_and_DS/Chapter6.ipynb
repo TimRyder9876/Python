{
 "cells": [
  {
   "cell_type": "code",
   "execution_count": 3,
   "id": "75d62f8b-55a9-45ce-b052-ac1c7186411a",
   "metadata": {},
   "outputs": [],
   "source": [
    "country_codes = {'Finland': 'fi', 'South Africa':'zi', 'Nepal':'np'}"
   ]
  },
  {
   "cell_type": "code",
   "execution_count": 4,
   "id": "02fe2fa1-ce13-4626-900b-f31f03cbb6a8",
   "metadata": {},
   "outputs": [
    {
     "data": {
      "text/plain": [
       "{'Finland': 'fi', 'South Africa': 'zi', 'Nepal': 'np'}"
      ]
     },
     "execution_count": 4,
     "metadata": {},
     "output_type": "execute_result"
    }
   ],
   "source": [
    "country_codes"
   ]
  },
  {
   "cell_type": "code",
   "execution_count": 5,
   "id": "b45f7531-ae26-44d3-bafd-68e3a6b03248",
   "metadata": {},
   "outputs": [
    {
     "data": {
      "text/plain": [
       "3"
      ]
     },
     "execution_count": 5,
     "metadata": {},
     "output_type": "execute_result"
    }
   ],
   "source": [
    "len(country_codes)"
   ]
  },
  {
   "cell_type": "code",
   "execution_count": 6,
   "id": "baeb4ff8-adda-498a-baaa-c9997db6c549",
   "metadata": {},
   "outputs": [
    {
     "name": "stdout",
     "output_type": "stream",
     "text": [
      "country_codes is not empty\n"
     ]
    }
   ],
   "source": [
    "if country_codes:\n",
    "    print('country_codes is not empty')\n",
    "else:\n",
    "    print('country_codes is empty')"
   ]
  },
  {
   "cell_type": "code",
   "execution_count": 8,
   "id": "619847d3-75ae-49ab-a54e-eaf9971643cf",
   "metadata": {},
   "outputs": [],
   "source": [
    "states = {'VT':'Vermont', 'NH':'New Hampshire', 'MA':'Massachusetts'}"
   ]
  },
  {
   "cell_type": "code",
   "execution_count": 9,
   "id": "d94818ca-dc81-4ad0-b897-eb6ae7ef463f",
   "metadata": {},
   "outputs": [
    {
     "data": {
      "text/plain": [
       "{'VT': 'Vermont', 'NH': 'New Hampshire', 'MA': 'Massachusetts'}"
      ]
     },
     "execution_count": 9,
     "metadata": {},
     "output_type": "execute_result"
    }
   ],
   "source": [
    "states"
   ]
  },
  {
   "cell_type": "code",
   "execution_count": 10,
   "id": "93d6a7d3-a340-44d6-acbe-3f329d70916a",
   "metadata": {},
   "outputs": [],
   "source": [
    "days_per_month = {'January':31, 'February':28, 'March':31}"
   ]
  },
  {
   "cell_type": "code",
   "execution_count": 12,
   "id": "bb058047-6849-4f05-8018-10b9186a3a49",
   "metadata": {},
   "outputs": [
    {
     "data": {
      "text/plain": [
       "{'January': 31, 'February': 28, 'March': 31}"
      ]
     },
     "execution_count": 12,
     "metadata": {},
     "output_type": "execute_result"
    }
   ],
   "source": [
    "days_per_month"
   ]
  },
  {
   "cell_type": "code",
   "execution_count": 15,
   "id": "dccffc22-be37-4a2d-9a15-4f31763936de",
   "metadata": {},
   "outputs": [
    {
     "name": "stdout",
     "output_type": "stream",
     "text": [
      "January has 31 days\n",
      "February has 28 days\n",
      "March has 31 days\n"
     ]
    }
   ],
   "source": [
    "for month, days in days_per_month.items():\n",
    "    print(f'{month} has {days} days')"
   ]
  },
  {
   "cell_type": "code",
   "execution_count": 25,
   "id": "bccac5d5-c585-475f-b591-416783eb1a43",
   "metadata": {},
   "outputs": [],
   "source": [
    "roman_numerals = {'I':1, 'II':2, 'III':3, 'V':5, 'X':100}"
   ]
  },
  {
   "cell_type": "code",
   "execution_count": 26,
   "id": "00973e68-6eca-4364-82cf-37156722d4a5",
   "metadata": {},
   "outputs": [
    {
     "data": {
      "text/plain": [
       "5"
      ]
     },
     "execution_count": 26,
     "metadata": {},
     "output_type": "execute_result"
    }
   ],
   "source": [
    "roman_numerals['V']"
   ]
  },
  {
   "cell_type": "code",
   "execution_count": 28,
   "id": "7432ccc9-b04e-4f25-8de8-43e75404d638",
   "metadata": {},
   "outputs": [],
   "source": [
    "roman_numerals['X']=10"
   ]
  },
  {
   "cell_type": "code",
   "execution_count": 29,
   "id": "310f7d79-18e1-4084-9f84-ae63dadb9fd4",
   "metadata": {},
   "outputs": [
    {
     "data": {
      "text/plain": [
       "{'I': 1, 'II': 2, 'III': 3, 'V': 5, 'X': 10}"
      ]
     },
     "execution_count": 29,
     "metadata": {},
     "output_type": "execute_result"
    }
   ],
   "source": [
    "roman_numerals"
   ]
  },
  {
   "cell_type": "code",
   "execution_count": 30,
   "id": "b93c8bdf-1f15-45e0-a846-9ae3fec0cfdf",
   "metadata": {},
   "outputs": [],
   "source": [
    "roman_numerals['L']=50"
   ]
  },
  {
   "cell_type": "code",
   "execution_count": 31,
   "id": "83cf5612-1741-4cc6-9dc1-f573eb8b35e4",
   "metadata": {},
   "outputs": [
    {
     "data": {
      "text/plain": [
       "{'I': 1, 'II': 2, 'III': 3, 'V': 5, 'X': 10, 'L': 50}"
      ]
     },
     "execution_count": 31,
     "metadata": {},
     "output_type": "execute_result"
    }
   ],
   "source": [
    "roman_numerals"
   ]
  },
  {
   "cell_type": "code",
   "execution_count": 32,
   "id": "430b4390-5428-4f05-bc9a-9de3c2919bb9",
   "metadata": {},
   "outputs": [],
   "source": [
    "del roman_numerals['III']"
   ]
  },
  {
   "cell_type": "code",
   "execution_count": 33,
   "id": "454c5ceb-b21f-4f84-a96f-83bf7f4a952a",
   "metadata": {},
   "outputs": [
    {
     "data": {
      "text/plain": [
       "{'I': 1, 'II': 2, 'V': 5, 'X': 10, 'L': 50}"
      ]
     },
     "execution_count": 33,
     "metadata": {},
     "output_type": "execute_result"
    }
   ],
   "source": [
    "roman_numerals"
   ]
  },
  {
   "cell_type": "code",
   "execution_count": 34,
   "id": "45539bbd-8573-453d-9cd3-4f5a4c24dea0",
   "metadata": {},
   "outputs": [
    {
     "data": {
      "text/plain": [
       "10"
      ]
     },
     "execution_count": 34,
     "metadata": {},
     "output_type": "execute_result"
    }
   ],
   "source": [
    "roman_numerals.pop('X')"
   ]
  },
  {
   "cell_type": "code",
   "execution_count": 35,
   "id": "d04287dd-2aa8-4982-a94c-20cb1da9e56a",
   "metadata": {},
   "outputs": [
    {
     "data": {
      "text/plain": [
       "{'I': 1, 'II': 2, 'V': 5, 'L': 50}"
      ]
     },
     "execution_count": 35,
     "metadata": {},
     "output_type": "execute_result"
    }
   ],
   "source": [
    "roman_numerals"
   ]
  },
  {
   "cell_type": "code",
   "execution_count": 36,
   "id": "7b89de59-a758-451f-9c7d-be69cf4652e4",
   "metadata": {},
   "outputs": [
    {
     "ename": "KeyError",
     "evalue": "'III'",
     "output_type": "error",
     "traceback": [
      "\u001b[1;31m---------------------------------------------------------------------------\u001b[0m",
      "\u001b[1;31mKeyError\u001b[0m                                  Traceback (most recent call last)",
      "Cell \u001b[1;32mIn[36], line 1\u001b[0m\n\u001b[1;32m----> 1\u001b[0m \u001b[43mroman_numerals\u001b[49m\u001b[43m[\u001b[49m\u001b[38;5;124;43m'\u001b[39;49m\u001b[38;5;124;43mIII\u001b[39;49m\u001b[38;5;124;43m'\u001b[39;49m\u001b[43m]\u001b[49m\n",
      "\u001b[1;31mKeyError\u001b[0m: 'III'"
     ]
    }
   ],
   "source": [
    "roman_numerals['III']"
   ]
  },
  {
   "cell_type": "code",
   "execution_count": 38,
   "id": "62047117-02cc-426d-adc5-a30dcfd862bc",
   "metadata": {},
   "outputs": [
    {
     "data": {
      "text/plain": [
       "5"
      ]
     },
     "execution_count": 38,
     "metadata": {},
     "output_type": "execute_result"
    }
   ],
   "source": [
    "roman_numerals.get('V','Not found')"
   ]
  },
  {
   "cell_type": "code",
   "execution_count": 39,
   "id": "6f7b197e-02f8-4f97-b28a-8cdc52fb4e84",
   "metadata": {},
   "outputs": [
    {
     "data": {
      "text/plain": [
       "True"
      ]
     },
     "execution_count": 39,
     "metadata": {},
     "output_type": "execute_result"
    }
   ],
   "source": [
    "'V' in roman_numerals"
   ]
  },
  {
   "cell_type": "code",
   "execution_count": 40,
   "id": "636ad909-5729-4045-b92c-03cf82ceb5f7",
   "metadata": {},
   "outputs": [
    {
     "data": {
      "text/plain": [
       "False"
      ]
     },
     "execution_count": 40,
     "metadata": {},
     "output_type": "execute_result"
    }
   ],
   "source": [
    "'III' in roman_numerals"
   ]
  },
  {
   "cell_type": "code",
   "execution_count": 41,
   "id": "1a7ef045-9cc2-47bd-a667-9118cdc762ee",
   "metadata": {},
   "outputs": [
    {
     "data": {
      "text/plain": [
       "True"
      ]
     },
     "execution_count": 41,
     "metadata": {},
     "output_type": "execute_result"
    }
   ],
   "source": [
    "'III' not in roman_numerals"
   ]
  },
  {
   "cell_type": "code",
   "execution_count": 43,
   "id": "b9869967-f594-4042-b8ab-f6df227af3d7",
   "metadata": {},
   "outputs": [],
   "source": [
    "months = {'January':1, 'February':2, 'March':3}"
   ]
  },
  {
   "cell_type": "code",
   "execution_count": 49,
   "id": "44340bed-4b62-4f5b-8660-01313019a287",
   "metadata": {},
   "outputs": [
    {
     "name": "stdout",
     "output_type": "stream",
     "text": [
      "January February March "
     ]
    }
   ],
   "source": [
    "for month_name in months.keys():\n",
    "    print(month_name, end=' ')"
   ]
  },
  {
   "cell_type": "code",
   "execution_count": 51,
   "id": "31367aa9-9b82-4f64-a96e-5cb06ce6f290",
   "metadata": {},
   "outputs": [
    {
     "name": "stdout",
     "output_type": "stream",
     "text": [
      "1 2 3 "
     ]
    }
   ],
   "source": [
    "for month_number in months.values():\n",
    "    print(month_number, end = ' ')"
   ]
  },
  {
   "cell_type": "raw",
   "id": "6cca8716-f023-4036-ab91-02fb39b344c9",
   "metadata": {},
   "source": [
    "months_view = months.keys()"
   ]
  },
  {
   "cell_type": "code",
   "execution_count": 52,
   "id": "b3a7dc28-d285-43da-b866-7793be858a6c",
   "metadata": {},
   "outputs": [],
   "source": [
    "months_view = months.keys()"
   ]
  },
  {
   "cell_type": "code",
   "execution_count": 53,
   "id": "4841c4d9-770f-4abd-adc3-4fc744f5168c",
   "metadata": {},
   "outputs": [
    {
     "name": "stdout",
     "output_type": "stream",
     "text": [
      "January February March "
     ]
    }
   ],
   "source": [
    "for key in months_view:\n",
    "    print(key, end=' ')"
   ]
  },
  {
   "cell_type": "code",
   "execution_count": 54,
   "id": "abda0952-63c3-4150-9201-869f0c9ed7e6",
   "metadata": {},
   "outputs": [],
   "source": [
    "months['December'] = 12"
   ]
  },
  {
   "cell_type": "code",
   "execution_count": 55,
   "id": "0b7ca824-fc5a-4df1-b635-8ac59668b3fb",
   "metadata": {},
   "outputs": [
    {
     "data": {
      "text/plain": [
       "{'January': 1, 'February': 2, 'March': 3, 'December': 12}"
      ]
     },
     "execution_count": 55,
     "metadata": {},
     "output_type": "execute_result"
    }
   ],
   "source": [
    "months"
   ]
  },
  {
   "cell_type": "code",
   "execution_count": 56,
   "id": "8daf96d2-f312-42b3-812c-3d730909a304",
   "metadata": {},
   "outputs": [
    {
     "name": "stdout",
     "output_type": "stream",
     "text": [
      "January February March December "
     ]
    }
   ],
   "source": [
    "for key in months_view:\n",
    "    print(key, end=' ')"
   ]
  },
  {
   "cell_type": "code",
   "execution_count": 58,
   "id": "4c72e596-9fe3-4eb0-9f6f-bcb45a943f0b",
   "metadata": {},
   "outputs": [
    {
     "data": {
      "text/plain": [
       "['January', 'February', 'March', 'December']"
      ]
     },
     "execution_count": 58,
     "metadata": {},
     "output_type": "execute_result"
    }
   ],
   "source": [
    "list(months.keys())"
   ]
  },
  {
   "cell_type": "code",
   "execution_count": 59,
   "id": "7b53cfa4-6492-4357-a86b-48c65f8e1675",
   "metadata": {},
   "outputs": [
    {
     "data": {
      "text/plain": [
       "[1, 2, 3, 12]"
      ]
     },
     "execution_count": 59,
     "metadata": {},
     "output_type": "execute_result"
    }
   ],
   "source": [
    "list(months.values())"
   ]
  },
  {
   "cell_type": "code",
   "execution_count": 61,
   "id": "d57b114f-bcf8-4071-bbaf-d49ced3eaaca",
   "metadata": {},
   "outputs": [
    {
     "data": {
      "text/plain": [
       "[('January', 1), ('February', 2), ('March', 3), ('December', 12)]"
      ]
     },
     "execution_count": 61,
     "metadata": {},
     "output_type": "execute_result"
    }
   ],
   "source": [
    "list(months.items())"
   ]
  },
  {
   "cell_type": "code",
   "execution_count": 66,
   "id": "30b57379-a46c-4240-b49d-131d3190b1a9",
   "metadata": {},
   "outputs": [
    {
     "name": "stdout",
     "output_type": "stream",
     "text": [
      "December February January March "
     ]
    }
   ],
   "source": [
    "for month_name in sorted(months.keys()):\n",
    "    print(month_name, end=' ')"
   ]
  },
  {
   "cell_type": "code",
   "execution_count": 68,
   "id": "dacdcd87-f841-4266-9202-6c1a125a1434",
   "metadata": {},
   "outputs": [],
   "source": [
    "roman_numerals = {'I':1, 'II':2, 'III':3, 'V':4}"
   ]
  },
  {
   "cell_type": "code",
   "execution_count": 69,
   "id": "55aca67c-1b9e-4fa2-b8ae-873339896854",
   "metadata": {},
   "outputs": [
    {
     "data": {
      "text/plain": [
       "['I', 'II', 'III', 'V']"
      ]
     },
     "execution_count": 69,
     "metadata": {},
     "output_type": "execute_result"
    }
   ],
   "source": [
    "list(roman_numerals.keys())"
   ]
  },
  {
   "cell_type": "code",
   "execution_count": 70,
   "id": "b1ea465e-fbb8-453d-8537-579fe4955fe2",
   "metadata": {},
   "outputs": [
    {
     "data": {
      "text/plain": [
       "[1, 2, 3, 4]"
      ]
     },
     "execution_count": 70,
     "metadata": {},
     "output_type": "execute_result"
    }
   ],
   "source": [
    "list(roman_numerals.values())"
   ]
  },
  {
   "cell_type": "code",
   "execution_count": 71,
   "id": "8303b396-a315-4e27-bf64-99bdd505768d",
   "metadata": {},
   "outputs": [
    {
     "data": {
      "text/plain": [
       "[('I', 1), ('II', 2), ('III', 3), ('V', 4)]"
      ]
     },
     "execution_count": 71,
     "metadata": {},
     "output_type": "execute_result"
    }
   ],
   "source": [
    "list(roman_numerals.items())"
   ]
  },
  {
   "cell_type": "code",
   "execution_count": 72,
   "id": "43165c5c-6a77-498e-a67f-1620fcb96ebc",
   "metadata": {},
   "outputs": [],
   "source": [
    "country_capitals1 = {'Belgium':'Brussels', 'Haiti':'Port-au-Prince'}"
   ]
  },
  {
   "cell_type": "code",
   "execution_count": 73,
   "id": "b6fd23dc-9241-44b4-8876-d42c3a2db280",
   "metadata": {},
   "outputs": [],
   "source": [
    "country_capitals2 = {'Nepal':'Kathmandu',\n",
    "                     'Uruguay':'Montevideo'}"
   ]
  },
  {
   "cell_type": "code",
   "execution_count": 77,
   "id": "1287f780-3055-4c93-9d52-6c40a3761187",
   "metadata": {},
   "outputs": [],
   "source": [
    "country_capitals3 = {'Haiti':'Port-au-Prince',\n",
    "                    'Belgium':'Brussels'}"
   ]
  },
  {
   "cell_type": "code",
   "execution_count": 78,
   "id": "d46ac40e-d94d-490c-a3b0-c10782161549",
   "metadata": {},
   "outputs": [
    {
     "data": {
      "text/plain": [
       "False"
      ]
     },
     "execution_count": 78,
     "metadata": {},
     "output_type": "execute_result"
    }
   ],
   "source": [
    "country_capitals1 == country_capitals2"
   ]
  },
  {
   "cell_type": "code",
   "execution_count": 79,
   "id": "fd1f447b-1cc2-4aef-b58c-3210b57a23ad",
   "metadata": {},
   "outputs": [
    {
     "data": {
      "text/plain": [
       "True"
      ]
     },
     "execution_count": 79,
     "metadata": {},
     "output_type": "execute_result"
    }
   ],
   "source": [
    "country_capitals1 == country_capitals3"
   ]
  },
  {
   "cell_type": "code",
   "execution_count": 80,
   "id": "d383663c-ebd7-4b99-b95a-b91c5ce3e8c9",
   "metadata": {},
   "outputs": [
    {
     "data": {
      "text/plain": [
       "True"
      ]
     },
     "execution_count": 80,
     "metadata": {},
     "output_type": "execute_result"
    }
   ],
   "source": [
    "country_capitals1 != country_capitals2"
   ]
  },
  {
   "cell_type": "code",
   "execution_count": 90,
   "id": "4226f358-68da-42f1-ae08-d0b4fd9af59e",
   "metadata": {},
   "outputs": [],
   "source": [
    "grade_book = {\n",
    "    'Susan': [92, 85, 100],\n",
    "    'Eduardo': [83, 95, 79],\n",
    "    'Azizi': [91, 89, 82],\n",
    "    'Patipa': [97, 91, 92]}"
   ]
  },
  {
   "cell_type": "code",
   "execution_count": 91,
   "id": "f7393103-5a81-4ada-ac15-7b7cb1d004e1",
   "metadata": {},
   "outputs": [],
   "source": [
    "all_grades_total = 0"
   ]
  },
  {
   "cell_type": "code",
   "execution_count": 92,
   "id": "fc87b891-cee0-462b-b5ce-b9e393992095",
   "metadata": {},
   "outputs": [],
   "source": [
    "all_grades_count = 0"
   ]
  },
  {
   "cell_type": "code",
   "execution_count": 93,
   "id": "8c5c73df-e2de-4911-8612-a7227d55555a",
   "metadata": {},
   "outputs": [
    {
     "name": "stdout",
     "output_type": "stream",
     "text": [
      "Average for Susan is 92.33\n",
      "Average for Eduardo is 85.67\n",
      "Average for Azizi is 87.33\n",
      "Average for Patipa is 93.33\n",
      "Class's average is: 89.67\n"
     ]
    }
   ],
   "source": [
    "for name, grades in grade_book.items():\n",
    "    total = sum(grades)\n",
    "    print(f'Average for {name} is {total/len(grades):.2f}')\n",
    "    all_grades_total += total\n",
    "    all_grades_count += len(grades)\n",
    "print(f\"Class's average is: {all_grades_total/all_grades_count:.2f}\")"
   ]
  },
  {
   "cell_type": "code",
   "execution_count": 99,
   "id": "76b1de24-736b-4c15-85f8-f0379efb61ab",
   "metadata": {},
   "outputs": [
    {
     "name": "stdout",
     "output_type": "stream",
     "text": [
      "WORD        COUNT\n",
      "different   1\n",
      "is          2\n",
      "more        1\n",
      "sample      2\n",
      "several     1\n",
      "some        1\n",
      "text        2\n",
      "this        2\n",
      "with        2\n",
      "words       2\n",
      "\n",
      "Number of unique words: 10\n"
     ]
    }
   ],
   "source": [
    "text = ('this is sample text with several words '\n",
    "        'this is more sample text with some different words')\n",
    "\n",
    "word_counts = {}\n",
    "\n",
    "for word in text.split():\n",
    "    if word in word_counts:\n",
    "        word_counts[word] += 1\n",
    "    else:\n",
    "        word_counts[word] = 1\n",
    "\n",
    "print(f'{\"WORD\":<12}COUNT')\n",
    "\n",
    "for word, count in sorted(word_counts.items()):\n",
    "    print(f'{word:<12}{count}')\n",
    "print('\\nNumber of unique words:', len(word_counts))"
   ]
  },
  {
   "cell_type": "code",
   "execution_count": 102,
   "id": "401bbb2c-8b81-46b2-8150-c127378091c4",
   "metadata": {},
   "outputs": [
    {
     "name": "stdout",
     "output_type": "stream",
     "text": [
      "different   1\n",
      "is          2\n",
      "more        1\n",
      "sample      2\n",
      "several     1\n",
      "some        1\n",
      "text        2\n",
      "the         1\n",
      "this        2\n",
      "with        2\n",
      "words       2\n"
     ]
    }
   ],
   "source": [
    "from collections import Counter\n",
    "\n",
    "text = ('this is the sample text with several words '\n",
    "        'this is more sample text with some different words')\n",
    "\n",
    "counter = Counter(text.split())\n",
    "\n",
    "for word, count in sorted(counter.items()):\n",
    "    print(f'{word:<12}{count}')"
   ]
  },
  {
   "cell_type": "code",
   "execution_count": 103,
   "id": "adc0a279-ad48-4450-af51-3c97f0adf4c2",
   "metadata": {},
   "outputs": [
    {
     "name": "stdout",
     "output_type": "stream",
     "text": [
      "1   8\n",
      "2   13\n",
      "3   7\n",
      "4   12\n",
      "5   10\n"
     ]
    }
   ],
   "source": [
    "import random\n",
    "\n",
    "numbers = [random.randrange(1, 6) for i in range(50)]\n",
    "\n",
    "from collections import Counter\n",
    "\n",
    "counter = Counter(numbers)\n",
    "\n",
    "for value, count in sorted(counter.items()):\n",
    "    print(f'{value:<4}{count}')"
   ]
  },
  {
   "cell_type": "code",
   "execution_count": 112,
   "id": "51b48693-7523-44f7-8f4f-ae2eee5eda98",
   "metadata": {},
   "outputs": [],
   "source": [
    "country_codes = {}"
   ]
  },
  {
   "cell_type": "code",
   "execution_count": 113,
   "id": "a8b2592a-2afd-4aac-b23a-51bb2838691a",
   "metadata": {},
   "outputs": [],
   "source": [
    "country_codes.update({'South Africa':'za'})"
   ]
  },
  {
   "cell_type": "code",
   "execution_count": 114,
   "id": "ee9175a0-2104-4d59-815e-eda84172ec2e",
   "metadata": {},
   "outputs": [
    {
     "data": {
      "text/plain": [
       "{'South Africa': 'za'}"
      ]
     },
     "execution_count": 114,
     "metadata": {},
     "output_type": "execute_result"
    }
   ],
   "source": [
    "country_codes"
   ]
  },
  {
   "cell_type": "code",
   "execution_count": 115,
   "id": "5e5d513c-d0cf-4b94-bcc0-034277039920",
   "metadata": {},
   "outputs": [],
   "source": [
    "country_codes.update(Australia = 'ar')"
   ]
  },
  {
   "cell_type": "code",
   "execution_count": 116,
   "id": "958eb4d5-a203-4363-b27b-651a05f91a2f",
   "metadata": {},
   "outputs": [
    {
     "data": {
      "text/plain": [
       "{'South Africa': 'za', 'Australia': 'ar'}"
      ]
     },
     "execution_count": 116,
     "metadata": {},
     "output_type": "execute_result"
    }
   ],
   "source": [
    "country_codes"
   ]
  },
  {
   "cell_type": "code",
   "execution_count": 117,
   "id": "48dff322-8d0a-42f4-b3a6-84eb9a7b571b",
   "metadata": {},
   "outputs": [],
   "source": [
    "country_codes.update(Australia = 'au')"
   ]
  },
  {
   "cell_type": "code",
   "execution_count": 118,
   "id": "b344cae5-8657-4cd4-aa1c-f06799453711",
   "metadata": {},
   "outputs": [
    {
     "data": {
      "text/plain": [
       "{'South Africa': 'za', 'Australia': 'au'}"
      ]
     },
     "execution_count": 118,
     "metadata": {},
     "output_type": "execute_result"
    }
   ],
   "source": [
    "country_codes"
   ]
  },
  {
   "cell_type": "code",
   "execution_count": 119,
   "id": "d095d6c6-ee29-45ea-99c1-91f8c838909f",
   "metadata": {},
   "outputs": [],
   "source": [
    "new_list = [('USA','us'),('France','fr')]"
   ]
  },
  {
   "cell_type": "code",
   "execution_count": 120,
   "id": "1b1393cc-1c0d-43ed-8294-3e958ff0df46",
   "metadata": {},
   "outputs": [],
   "source": [
    "country_codes.update(new_list)"
   ]
  },
  {
   "cell_type": "code",
   "execution_count": 121,
   "id": "cf9cde3b-c72f-408c-93a7-4fa1d2ed0739",
   "metadata": {},
   "outputs": [
    {
     "data": {
      "text/plain": [
       "{'South Africa': 'za', 'Australia': 'au', 'USA': 'us', 'France': 'fr'}"
      ]
     },
     "execution_count": 121,
     "metadata": {},
     "output_type": "execute_result"
    }
   ],
   "source": [
    "country_codes"
   ]
  },
  {
   "cell_type": "code",
   "execution_count": 122,
   "id": "089ebb78-2533-4396-94c9-50212016823d",
   "metadata": {},
   "outputs": [],
   "source": [
    "months = {'January':1, 'february':2, 'March':3}"
   ]
  },
  {
   "cell_type": "code",
   "execution_count": 123,
   "id": "2e16d114-96f9-4658-b740-c626176c2040",
   "metadata": {},
   "outputs": [],
   "source": [
    "months2 = {number: name for name, number in months.items()}"
   ]
  },
  {
   "cell_type": "code",
   "execution_count": 124,
   "id": "8e39e177-fb5c-42e8-b67c-922f7d304b19",
   "metadata": {},
   "outputs": [
    {
     "data": {
      "text/plain": [
       "{1: 'January', 2: 'february', 3: 'March'}"
      ]
     },
     "execution_count": 124,
     "metadata": {},
     "output_type": "execute_result"
    }
   ],
   "source": [
    "months2"
   ]
  },
  {
   "cell_type": "code",
   "execution_count": 125,
   "id": "1791e21f-affd-493f-a396-380d0ec7affb",
   "metadata": {},
   "outputs": [],
   "source": [
    "grades = {'Sue': [98, 87, 94], 'Bob': [84, 95, 91]}"
   ]
  },
  {
   "cell_type": "code",
   "execution_count": 126,
   "id": "ecc99cff-309c-4479-9615-3db84fe6f9fb",
   "metadata": {},
   "outputs": [],
   "source": [
    "grades2 = {k : sum(v) / len(v) for k, v in grades.items()}"
   ]
  },
  {
   "cell_type": "code",
   "execution_count": 127,
   "id": "1d5bb6f9-114e-403a-b613-e8c5896cef49",
   "metadata": {},
   "outputs": [
    {
     "data": {
      "text/plain": [
       "{'Sue': 93.0, 'Bob': 90.0}"
      ]
     },
     "execution_count": 127,
     "metadata": {},
     "output_type": "execute_result"
    }
   ],
   "source": [
    "grades2"
   ]
  },
  {
   "cell_type": "code",
   "execution_count": 131,
   "id": "68251332-c1e6-40a8-a8b9-0150d42f18c6",
   "metadata": {},
   "outputs": [
    {
     "data": {
      "text/plain": [
       "{1: 1, 2: 8, 3: 27, 4: 64, 5: 125}"
      ]
     },
     "execution_count": 131,
     "metadata": {},
     "output_type": "execute_result"
    }
   ],
   "source": [
    "{number: number ** 3 for number in range(1,6)}"
   ]
  },
  {
   "cell_type": "code",
   "execution_count": 133,
   "id": "c621c206-4b34-4776-a871-2862b0e3083b",
   "metadata": {},
   "outputs": [],
   "source": [
    "colors= {'red','orange','yellow','green','red','blue'}"
   ]
  },
  {
   "cell_type": "code",
   "execution_count": 134,
   "id": "e5cd4ab4-fa46-49c8-bb8c-05e576a036a3",
   "metadata": {},
   "outputs": [
    {
     "data": {
      "text/plain": [
       "{'blue', 'green', 'orange', 'red', 'yellow'}"
      ]
     },
     "execution_count": 134,
     "metadata": {},
     "output_type": "execute_result"
    }
   ],
   "source": [
    "colors"
   ]
  },
  {
   "cell_type": "code",
   "execution_count": 135,
   "id": "efb79a60-2788-40ca-9a16-f89b9610af55",
   "metadata": {},
   "outputs": [
    {
     "data": {
      "text/plain": [
       "5"
      ]
     },
     "execution_count": 135,
     "metadata": {},
     "output_type": "execute_result"
    }
   ],
   "source": [
    "len(colors)"
   ]
  },
  {
   "cell_type": "code",
   "execution_count": 136,
   "id": "5aad3fcb-2d17-4494-ae40-2e18963eb8a3",
   "metadata": {},
   "outputs": [
    {
     "data": {
      "text/plain": [
       "True"
      ]
     },
     "execution_count": 136,
     "metadata": {},
     "output_type": "execute_result"
    }
   ],
   "source": [
    "'red' in colors"
   ]
  },
  {
   "cell_type": "code",
   "execution_count": 137,
   "id": "77c58f90-3e1d-4a78-b5e4-d45f5a8b5c93",
   "metadata": {},
   "outputs": [
    {
     "data": {
      "text/plain": [
       "False"
      ]
     },
     "execution_count": 137,
     "metadata": {},
     "output_type": "execute_result"
    }
   ],
   "source": [
    "'black' in colors"
   ]
  },
  {
   "cell_type": "code",
   "execution_count": 138,
   "id": "25725b15-6d2a-4ef1-9d7c-b82e3da3b7d9",
   "metadata": {},
   "outputs": [
    {
     "data": {
      "text/plain": [
       "True"
      ]
     },
     "execution_count": 138,
     "metadata": {},
     "output_type": "execute_result"
    }
   ],
   "source": [
    "'black' not in colors"
   ]
  },
  {
   "cell_type": "code",
   "execution_count": 149,
   "id": "070b0dca-81bb-4c73-802f-112bad8cdb4b",
   "metadata": {},
   "outputs": [
    {
     "name": "stdout",
     "output_type": "stream",
     "text": [
      "GREEN        RED          BLUE         ORANGE       YELLOW       "
     ]
    }
   ],
   "source": [
    "for color in colors:\n",
    "    print(f'{color.upper():<12}', end=' ')"
   ]
  },
  {
   "cell_type": "code",
   "execution_count": 154,
   "id": "ef610155-a13a-4f7c-b9dc-d75495356531",
   "metadata": {},
   "outputs": [],
   "source": [
    "numbers = list(range(10)) + list(range(5))"
   ]
  },
  {
   "cell_type": "code",
   "execution_count": 155,
   "id": "e1fc449e-cbe3-40ae-9b8b-6be1aa080863",
   "metadata": {},
   "outputs": [
    {
     "data": {
      "text/plain": [
       "[0, 1, 2, 3, 4, 5, 6, 7, 8, 9, 0, 1, 2, 3, 4]"
      ]
     },
     "execution_count": 155,
     "metadata": {},
     "output_type": "execute_result"
    }
   ],
   "source": [
    "number"
   ]
  },
  {
   "cell_type": "code",
   "execution_count": 156,
   "id": "cbce246a-fab6-48dd-be89-88b02a8c8f80",
   "metadata": {},
   "outputs": [
    {
     "data": {
      "text/plain": [
       "{0, 1, 2, 3, 4, 5, 6, 7, 8, 9}"
      ]
     },
     "execution_count": 156,
     "metadata": {},
     "output_type": "execute_result"
    }
   ],
   "source": [
    "set(numbers)"
   ]
  },
  {
   "cell_type": "code",
   "execution_count": 157,
   "id": "f3f21333-de4b-4707-9dc6-6f85113b66fb",
   "metadata": {},
   "outputs": [
    {
     "data": {
      "text/plain": [
       "set()"
      ]
     },
     "execution_count": 157,
     "metadata": {},
     "output_type": "execute_result"
    }
   ],
   "source": [
    "set()"
   ]
  },
  {
   "cell_type": "code",
   "execution_count": 158,
   "id": "d2cbad0c-92dd-45fb-9def-b1207cc706b4",
   "metadata": {},
   "outputs": [
    {
     "data": {
      "text/plain": [
       "set"
      ]
     },
     "execution_count": 158,
     "metadata": {},
     "output_type": "execute_result"
    }
   ],
   "source": [
    "set"
   ]
  },
  {
   "cell_type": "code",
   "execution_count": 159,
   "id": "08a1ee9c-1de1-4b4c-b7d5-26ce0d73349b",
   "metadata": {},
   "outputs": [],
   "source": [
    "test = 'to be or not to be that is the question'"
   ]
  },
  {
   "cell_type": "code",
   "execution_count": 160,
   "id": "2a86bbd3-e10c-4e9f-a2d4-b0670a7dd847",
   "metadata": {},
   "outputs": [
    {
     "data": {
      "text/plain": [
       "{' ', 'a', 'b', 'e', 'h', 'i', 'n', 'o', 'q', 'r', 's', 't', 'u'}"
      ]
     },
     "execution_count": 160,
     "metadata": {},
     "output_type": "execute_result"
    }
   ],
   "source": [
    "set(test)"
   ]
  },
  {
   "cell_type": "code",
   "execution_count": 163,
   "id": "c7c947b3-4534-4423-a0cf-cffd5e961183",
   "metadata": {},
   "outputs": [],
   "source": [
    "unique_words = set(test.split())"
   ]
  },
  {
   "cell_type": "code",
   "execution_count": 164,
   "id": "817ac48f-9844-409c-acd3-d0bcf6ef5852",
   "metadata": {},
   "outputs": [
    {
     "data": {
      "text/plain": [
       "{'be', 'is', 'not', 'or', 'question', 'that', 'the', 'to'}"
      ]
     },
     "execution_count": 164,
     "metadata": {},
     "output_type": "execute_result"
    }
   ],
   "source": [
    "unique_words"
   ]
  },
  {
   "cell_type": "code",
   "execution_count": 168,
   "id": "0de97f05-54ba-46ea-a3f1-0bb291404d5b",
   "metadata": {},
   "outputs": [
    {
     "name": "stdout",
     "output_type": "stream",
     "text": [
      "to not that or be question the is "
     ]
    }
   ],
   "source": [
    "for word in unique_words:\n",
    "    print(word, end=' ')"
   ]
  },
  {
   "cell_type": "code",
   "execution_count": 174,
   "id": "a02cac42-c60e-4363-aa5d-b3bdf2cfe3ae",
   "metadata": {},
   "outputs": [
    {
     "data": {
      "text/plain": [
       "{'be', 'is', 'not', 'or', 'question', 'that', 'the', 'to'}"
      ]
     },
     "execution_count": 174,
     "metadata": {},
     "output_type": "execute_result"
    }
   ],
   "source": [
    "unique_words"
   ]
  },
  {
   "cell_type": "code",
   "execution_count": 175,
   "id": "25585853-4ab4-416d-970a-2fb541da37ed",
   "metadata": {},
   "outputs": [
    {
     "data": {
      "text/plain": [
       "True"
      ]
     },
     "execution_count": 175,
     "metadata": {},
     "output_type": "execute_result"
    }
   ],
   "source": [
    "{1,3,5} == {3, 5, 1}"
   ]
  },
  {
   "cell_type": "code",
   "execution_count": 176,
   "id": "e8c95009-8f3c-4574-a21d-24b7f171bf83",
   "metadata": {},
   "outputs": [
    {
     "data": {
      "text/plain": [
       "False"
      ]
     },
     "execution_count": 176,
     "metadata": {},
     "output_type": "execute_result"
    }
   ],
   "source": [
    "{1, 3, 5} != {3,5,1}"
   ]
  },
  {
   "cell_type": "code",
   "execution_count": 177,
   "id": "b23070b1-7bfb-4c60-af3f-1757b8bec848",
   "metadata": {},
   "outputs": [
    {
     "data": {
      "text/plain": [
       "False"
      ]
     },
     "execution_count": 177,
     "metadata": {},
     "output_type": "execute_result"
    }
   ],
   "source": [
    "{1, 3, 5} < {3, 5, 1}"
   ]
  },
  {
   "cell_type": "code",
   "execution_count": 178,
   "id": "0690dc41-a411-48b4-8a59-aa54cd20b1f8",
   "metadata": {},
   "outputs": [
    {
     "data": {
      "text/plain": [
       "True"
      ]
     },
     "execution_count": 178,
     "metadata": {},
     "output_type": "execute_result"
    }
   ],
   "source": [
    "{1, 3, 5} < {7, 3, 5, 1}"
   ]
  },
  {
   "cell_type": "code",
   "execution_count": 179,
   "id": "599fb048-3209-46d9-b783-a9778b2d1bcc",
   "metadata": {},
   "outputs": [
    {
     "data": {
      "text/plain": [
       "True"
      ]
     },
     "execution_count": 179,
     "metadata": {},
     "output_type": "execute_result"
    }
   ],
   "source": [
    "{1, 3, 5} <= {3, 5, 1}"
   ]
  },
  {
   "cell_type": "code",
   "execution_count": 180,
   "id": "9c6b088b-d29c-4ebd-91d7-97db5fddb8fc",
   "metadata": {},
   "outputs": [
    {
     "data": {
      "text/plain": [
       "True"
      ]
     },
     "execution_count": 180,
     "metadata": {},
     "output_type": "execute_result"
    }
   ],
   "source": [
    "{1, 3} <= {3, 5, 1}"
   ]
  },
  {
   "cell_type": "code",
   "execution_count": 181,
   "id": "32f7232e-9c4e-4a2f-9aee-92f13491fb94",
   "metadata": {},
   "outputs": [
    {
     "data": {
      "text/plain": [
       "True"
      ]
     },
     "execution_count": 181,
     "metadata": {},
     "output_type": "execute_result"
    }
   ],
   "source": [
    "{1,3,5}.issubset({3, 5, 1})"
   ]
  },
  {
   "cell_type": "code",
   "execution_count": 182,
   "id": "9722b03c-1d6b-425e-bfb9-6fcdd76cb329",
   "metadata": {},
   "outputs": [
    {
     "data": {
      "text/plain": [
       "False"
      ]
     },
     "execution_count": 182,
     "metadata": {},
     "output_type": "execute_result"
    }
   ],
   "source": [
    "{1,2}.issubset({3, 5, 1})"
   ]
  },
  {
   "cell_type": "code",
   "execution_count": 183,
   "id": "3634f672-a2cb-4e2e-afcf-e88ab0e437d2",
   "metadata": {},
   "outputs": [
    {
     "data": {
      "text/plain": [
       "False"
      ]
     },
     "execution_count": 183,
     "metadata": {},
     "output_type": "execute_result"
    }
   ],
   "source": [
    "{1, 3, 5} > {3, 5, 1}"
   ]
  },
  {
   "cell_type": "code",
   "execution_count": 184,
   "id": "027581df-e85b-46b7-8044-b25f14a9b05e",
   "metadata": {},
   "outputs": [
    {
     "data": {
      "text/plain": [
       "True"
      ]
     },
     "execution_count": 184,
     "metadata": {},
     "output_type": "execute_result"
    }
   ],
   "source": [
    "{1, 3, 5, 7} > {3, 5, 1}"
   ]
  },
  {
   "cell_type": "code",
   "execution_count": 185,
   "id": "0c0f66c0-97fb-4e8a-98d7-93d7ab5caaab",
   "metadata": {},
   "outputs": [
    {
     "data": {
      "text/plain": [
       "True"
      ]
     },
     "execution_count": 185,
     "metadata": {},
     "output_type": "execute_result"
    }
   ],
   "source": [
    "{1, 3, 5} >= {3, 5, 1}"
   ]
  },
  {
   "cell_type": "code",
   "execution_count": 186,
   "id": "5828fb39-33da-46e8-ace4-9ee5a8d749fb",
   "metadata": {},
   "outputs": [
    {
     "data": {
      "text/plain": [
       "True"
      ]
     },
     "execution_count": 186,
     "metadata": {},
     "output_type": "execute_result"
    }
   ],
   "source": [
    "{1, 3, 5} >= {3, 1}"
   ]
  },
  {
   "cell_type": "code",
   "execution_count": 187,
   "id": "16bf1d5e-498e-4c6a-bd67-7d9f88051369",
   "metadata": {},
   "outputs": [
    {
     "data": {
      "text/plain": [
       "False"
      ]
     },
     "execution_count": 187,
     "metadata": {},
     "output_type": "execute_result"
    }
   ],
   "source": [
    "{1, 3} >= {3, 1, 7}"
   ]
  },
  {
   "cell_type": "code",
   "execution_count": 188,
   "id": "5ffa32c5-d22e-4c40-9554-e5fb607c9b04",
   "metadata": {},
   "outputs": [
    {
     "data": {
      "text/plain": [
       "True"
      ]
     },
     "execution_count": 188,
     "metadata": {},
     "output_type": "execute_result"
    }
   ],
   "source": [
    "{1, 3, 5}.issuperset({3, 5, 1})"
   ]
  },
  {
   "cell_type": "code",
   "execution_count": 189,
   "id": "f1bc4e5d-d777-4e71-aaf4-aa980541b093",
   "metadata": {},
   "outputs": [
    {
     "data": {
      "text/plain": [
       "False"
      ]
     },
     "execution_count": 189,
     "metadata": {},
     "output_type": "execute_result"
    }
   ],
   "source": [
    "{1,3,5}.issuperset({3,2})"
   ]
  },
  {
   "cell_type": "code",
   "execution_count": 190,
   "id": "32d33466-cda0-4692-a033-00254a1f73f1",
   "metadata": {},
   "outputs": [
    {
     "data": {
      "text/plain": [
       "{1, 2, 3, 4, 5}"
      ]
     },
     "execution_count": 190,
     "metadata": {},
     "output_type": "execute_result"
    }
   ],
   "source": [
    "{1,3,5}|{2,3,4}"
   ]
  },
  {
   "cell_type": "code",
   "execution_count": 191,
   "id": "27f5d99e-a0e7-48ce-95c0-c3263764c459",
   "metadata": {},
   "outputs": [
    {
     "data": {
      "text/plain": [
       "{1, 3, 5, 20, 40}"
      ]
     },
     "execution_count": 191,
     "metadata": {},
     "output_type": "execute_result"
    }
   ],
   "source": [
    "{1,3,5}.union([20, 20, 3, 40, 40])"
   ]
  },
  {
   "cell_type": "code",
   "execution_count": 193,
   "id": "426f25fc-dbfc-4783-8a75-0a12e0ed3dce",
   "metadata": {},
   "outputs": [
    {
     "data": {
      "text/plain": [
       "{3, 5}"
      ]
     },
     "execution_count": 193,
     "metadata": {},
     "output_type": "execute_result"
    }
   ],
   "source": [
    "{1, 3, 5} & {2, 3, 5}"
   ]
  },
  {
   "cell_type": "code",
   "execution_count": 194,
   "id": "2b7710e0-4d15-4cb2-9c08-ba11d5115f5a",
   "metadata": {},
   "outputs": [
    {
     "data": {
      "text/plain": [
       "{1, 3}"
      ]
     },
     "execution_count": 194,
     "metadata": {},
     "output_type": "execute_result"
    }
   ],
   "source": [
    "{1, 3, 5}.intersection([1,2,2,3,3,4,4])"
   ]
  },
  {
   "cell_type": "code",
   "execution_count": 195,
   "id": "621c7b5e-b8bd-47be-a74a-f7dbec19deef",
   "metadata": {},
   "outputs": [
    {
     "data": {
      "text/plain": [
       "{1, 5}"
      ]
     },
     "execution_count": 195,
     "metadata": {},
     "output_type": "execute_result"
    }
   ],
   "source": [
    "{1, 3, 5} - {2, 3, 4}"
   ]
  },
  {
   "cell_type": "code",
   "execution_count": 196,
   "id": "500a22be-c7d1-44d1-ae9b-bcf1ad502888",
   "metadata": {},
   "outputs": [
    {
     "data": {
      "text/plain": [
       "{1, 5, 7}"
      ]
     },
     "execution_count": 196,
     "metadata": {},
     "output_type": "execute_result"
    }
   ],
   "source": [
    "{1, 3, 5, 7}.difference([2,2,3,4,4])"
   ]
  },
  {
   "cell_type": "code",
   "execution_count": 198,
   "id": "c39e1566-a01f-43fe-8e50-be534d71abb7",
   "metadata": {},
   "outputs": [
    {
     "data": {
      "text/plain": [
       "{1, 2, 4, 5}"
      ]
     },
     "execution_count": 198,
     "metadata": {},
     "output_type": "execute_result"
    }
   ],
   "source": [
    "{1, 3, 5}^{2,3,4}"
   ]
  },
  {
   "cell_type": "code",
   "execution_count": 199,
   "id": "78a37046-4cf5-4f1b-8d50-18c8484d5ea0",
   "metadata": {},
   "outputs": [
    {
     "data": {
      "text/plain": [
       "{1, 2, 4, 5, 7}"
      ]
     },
     "execution_count": 199,
     "metadata": {},
     "output_type": "execute_result"
    }
   ],
   "source": [
    "{1,3,5,7}.symmetric_difference([2,2,3,3,4,4])"
   ]
  },
  {
   "cell_type": "code",
   "execution_count": 200,
   "id": "ba5249f7-48f1-4aea-b637-bed7aa89a699",
   "metadata": {},
   "outputs": [
    {
     "data": {
      "text/plain": [
       "True"
      ]
     },
     "execution_count": 200,
     "metadata": {},
     "output_type": "execute_result"
    }
   ],
   "source": [
    "{1,3,5}.isdisjoint({2,4,6})"
   ]
  },
  {
   "cell_type": "code",
   "execution_count": 201,
   "id": "c95f7373-cf77-4cb7-a5ef-0cbc6394cc54",
   "metadata": {},
   "outputs": [
    {
     "data": {
      "text/plain": [
       "False"
      ]
     },
     "execution_count": 201,
     "metadata": {},
     "output_type": "execute_result"
    }
   ],
   "source": [
    "{1,3,5}.isdisjoint({4,6,1})"
   ]
  },
  {
   "cell_type": "code",
   "execution_count": 202,
   "id": "48201dba-7732-423e-b9da-ef966b9f37b5",
   "metadata": {},
   "outputs": [
    {
     "data": {
      "text/plain": [
       "{30}"
      ]
     },
     "execution_count": 202,
     "metadata": {},
     "output_type": "execute_result"
    }
   ],
   "source": [
    "{10,20,30}-{5,10,15,20}"
   ]
  },
  {
   "cell_type": "code",
   "execution_count": 203,
   "id": "499064b8-673a-4922-9dcf-05e5c6555535",
   "metadata": {},
   "outputs": [
    {
     "data": {
      "text/plain": [
       "{5, 15, 30}"
      ]
     },
     "execution_count": 203,
     "metadata": {},
     "output_type": "execute_result"
    }
   ],
   "source": [
    "{10,20,30}^{5,10,15,20}"
   ]
  },
  {
   "cell_type": "code",
   "execution_count": 206,
   "id": "268e42dc-44e2-494e-b09b-83a6a0ec97db",
   "metadata": {},
   "outputs": [
    {
     "data": {
      "text/plain": [
       "{5, 10, 20, 30, 151}"
      ]
     },
     "execution_count": 206,
     "metadata": {},
     "output_type": "execute_result"
    }
   ],
   "source": [
    "{10,20,30}|{5,10,151,20}"
   ]
  },
  {
   "cell_type": "markdown",
   "id": "1a27ecd1-0769-4f10-acd0-774b24b55211",
   "metadata": {},
   "source": [
    "{10,20,30}&{5,10,15,20}"
   ]
  },
  {
   "cell_type": "code",
   "execution_count": 207,
   "id": "f80867ee-433c-4efd-baa2-016f7c680d62",
   "metadata": {},
   "outputs": [
    {
     "data": {
      "text/plain": [
       "{10, 20}"
      ]
     },
     "execution_count": 207,
     "metadata": {},
     "output_type": "execute_result"
    }
   ],
   "source": [
    "{10,20,30}&{5,10,15,20}"
   ]
  },
  {
   "cell_type": "code",
   "execution_count": 208,
   "id": "114598dd-2e75-42c1-bd03-2f8ada19647a",
   "metadata": {},
   "outputs": [],
   "source": [
    "numbers = {1,3,5}"
   ]
  },
  {
   "cell_type": "code",
   "execution_count": 209,
   "id": "92cc6d3d-97d7-498b-af2a-afebb966cd2c",
   "metadata": {},
   "outputs": [],
   "source": [
    "numbers |= {2,3,4}"
   ]
  },
  {
   "cell_type": "code",
   "execution_count": 210,
   "id": "e4ebb3b8-ee1d-4dd4-8e16-2874feb6a70c",
   "metadata": {},
   "outputs": [
    {
     "data": {
      "text/plain": [
       "{1, 2, 3, 4, 5}"
      ]
     },
     "execution_count": 210,
     "metadata": {},
     "output_type": "execute_result"
    }
   ],
   "source": [
    "numbers"
   ]
  },
  {
   "cell_type": "code",
   "execution_count": 211,
   "id": "5fa42c43-37cd-4f59-90fd-0a9f2b9b7ed6",
   "metadata": {},
   "outputs": [],
   "source": [
    "numbers.update(range(10))"
   ]
  },
  {
   "cell_type": "code",
   "execution_count": 212,
   "id": "3574d2f1-f726-49f4-a782-22be22896949",
   "metadata": {},
   "outputs": [
    {
     "data": {
      "text/plain": [
       "{0, 1, 2, 3, 4, 5, 6, 7, 8, 9}"
      ]
     },
     "execution_count": 212,
     "metadata": {},
     "output_type": "execute_result"
    }
   ],
   "source": [
    "numbers"
   ]
  },
  {
   "cell_type": "code",
   "execution_count": 214,
   "id": "8deec5e4-48dd-4beb-aab5-083f109ee6de",
   "metadata": {},
   "outputs": [],
   "source": [
    "numbers.update({11})"
   ]
  },
  {
   "cell_type": "code",
   "execution_count": 215,
   "id": "020c918c-2140-4cd9-b9c5-62adb3b6fdc5",
   "metadata": {},
   "outputs": [
    {
     "data": {
      "text/plain": [
       "{0, 1, 2, 3, 4, 5, 6, 7, 8, 9, 11}"
      ]
     },
     "execution_count": 215,
     "metadata": {},
     "output_type": "execute_result"
    }
   ],
   "source": [
    "numbers"
   ]
  },
  {
   "cell_type": "code",
   "execution_count": 217,
   "id": "bed441fd-f3b3-4f31-874b-14ee4bb455f7",
   "metadata": {},
   "outputs": [],
   "source": [
    "numbers.update([13])"
   ]
  },
  {
   "cell_type": "code",
   "execution_count": 218,
   "id": "2c6e86d0-6d50-4d6e-b924-72c6649fb29f",
   "metadata": {},
   "outputs": [
    {
     "data": {
      "text/plain": [
       "{0, 1, 2, 3, 4, 5, 6, 7, 8, 9, 11, 13}"
      ]
     },
     "execution_count": 218,
     "metadata": {},
     "output_type": "execute_result"
    }
   ],
   "source": [
    "numbers"
   ]
  },
  {
   "cell_type": "code",
   "execution_count": 219,
   "id": "dfd6de5d-e738-4688-946a-bf58bb4dd587",
   "metadata": {},
   "outputs": [],
   "source": [
    "numbers.add(17)"
   ]
  },
  {
   "cell_type": "code",
   "execution_count": 220,
   "id": "6ec0c69b-8e81-406d-b1a3-d2eddacf9348",
   "metadata": {},
   "outputs": [
    {
     "data": {
      "text/plain": [
       "{0, 1, 2, 3, 4, 5, 6, 7, 8, 9, 11, 13, 17}"
      ]
     },
     "execution_count": 220,
     "metadata": {},
     "output_type": "execute_result"
    }
   ],
   "source": [
    "numbers"
   ]
  },
  {
   "cell_type": "code",
   "execution_count": 221,
   "id": "ffca84ab-0804-469b-aaaf-d41dfbce747e",
   "metadata": {},
   "outputs": [],
   "source": [
    "numbers.remove(3)"
   ]
  },
  {
   "cell_type": "code",
   "execution_count": 222,
   "id": "85ff1b6f-6399-4205-899b-3639bdb32f04",
   "metadata": {},
   "outputs": [
    {
     "data": {
      "text/plain": [
       "{0, 1, 2, 4, 5, 6, 7, 8, 9, 11, 13, 17}"
      ]
     },
     "execution_count": 222,
     "metadata": {},
     "output_type": "execute_result"
    }
   ],
   "source": [
    "numbers"
   ]
  },
  {
   "cell_type": "code",
   "execution_count": 223,
   "id": "4031a6d0-5a50-4a40-91de-bf025bfc0a25",
   "metadata": {},
   "outputs": [],
   "source": [
    "numbers.discard(3)"
   ]
  },
  {
   "cell_type": "code",
   "execution_count": 224,
   "id": "252012f7-f0b3-47b7-816e-89ec004c5126",
   "metadata": {},
   "outputs": [
    {
     "data": {
      "text/plain": [
       "{0, 1, 2, 4, 5, 6, 7, 8, 9, 11, 13, 17}"
      ]
     },
     "execution_count": 224,
     "metadata": {},
     "output_type": "execute_result"
    }
   ],
   "source": [
    "numbers"
   ]
  },
  {
   "cell_type": "code",
   "execution_count": 225,
   "id": "fade9c00-dd40-407a-99cb-54caf191d0d2",
   "metadata": {},
   "outputs": [
    {
     "ename": "KeyError",
     "evalue": "3",
     "output_type": "error",
     "traceback": [
      "\u001b[1;31m---------------------------------------------------------------------------\u001b[0m",
      "\u001b[1;31mKeyError\u001b[0m                                  Traceback (most recent call last)",
      "Cell \u001b[1;32mIn[225], line 1\u001b[0m\n\u001b[1;32m----> 1\u001b[0m \u001b[43mnumbers\u001b[49m\u001b[38;5;241;43m.\u001b[39;49m\u001b[43mremove\u001b[49m\u001b[43m(\u001b[49m\u001b[38;5;241;43m3\u001b[39;49m\u001b[43m)\u001b[49m\n",
      "\u001b[1;31mKeyError\u001b[0m: 3"
     ]
    }
   ],
   "source": [
    "numbers.remove(3)"
   ]
  },
  {
   "cell_type": "code",
   "execution_count": 226,
   "id": "602151f6-70ca-4e74-9d02-0c6825c7fdf2",
   "metadata": {},
   "outputs": [
    {
     "data": {
      "text/plain": [
       "0"
      ]
     },
     "execution_count": 226,
     "metadata": {},
     "output_type": "execute_result"
    }
   ],
   "source": [
    "numbers.pop()"
   ]
  },
  {
   "cell_type": "code",
   "execution_count": 227,
   "id": "c0b369af-0dee-4129-954d-709a173c3da7",
   "metadata": {},
   "outputs": [
    {
     "data": {
      "text/plain": [
       "4"
      ]
     },
     "execution_count": 227,
     "metadata": {},
     "output_type": "execute_result"
    }
   ],
   "source": [
    "number.pop()"
   ]
  },
  {
   "cell_type": "code",
   "execution_count": 228,
   "id": "73588b59-9765-4414-aeeb-019023a3ea54",
   "metadata": {},
   "outputs": [],
   "source": [
    "numbers.clear()"
   ]
  },
  {
   "cell_type": "code",
   "execution_count": 229,
   "id": "1b1ea050-e33c-4150-90d6-84333e7420dd",
   "metadata": {},
   "outputs": [
    {
     "data": {
      "text/plain": [
       "set()"
      ]
     },
     "execution_count": 229,
     "metadata": {},
     "output_type": "execute_result"
    }
   ],
   "source": [
    "numbers"
   ]
  },
  {
   "cell_type": "code",
   "execution_count": 1,
   "id": "39619245-598c-48e5-95f7-c4c016245501",
   "metadata": {},
   "outputs": [
    {
     "data": {
      "text/plain": [
       "{1, 2, 4, 8, 16, 64, 256}"
      ]
     },
     "execution_count": 1,
     "metadata": {},
     "output_type": "execute_result"
    }
   ],
   "source": [
    "#my ex 6_4a\n",
    "{1,2,4,8,16} | {1,4,16,64,256}"
   ]
  },
  {
   "cell_type": "code",
   "execution_count": 4,
   "id": "0f6e3765-e4a4-4807-b112-770b08298ff4",
   "metadata": {},
   "outputs": [
    {
     "data": {
      "text/plain": [
       "{1, 4, 16}"
      ]
     },
     "execution_count": 4,
     "metadata": {},
     "output_type": "execute_result"
    }
   ],
   "source": [
    "#my ex 6_4b\n",
    "{1,2,4,8,16} & {1,4,16,64,256}"
   ]
  },
  {
   "cell_type": "code",
   "execution_count": 5,
   "id": "6c0895d9-df04-46e5-99ad-d3fba8923af3",
   "metadata": {},
   "outputs": [
    {
     "data": {
      "text/plain": [
       "{2, 8}"
      ]
     },
     "execution_count": 5,
     "metadata": {},
     "output_type": "execute_result"
    }
   ],
   "source": [
    "#my ex 6_4c\n",
    "{1,2,4,8,16} - {1,4,16,64,256}"
   ]
  },
  {
   "cell_type": "code",
   "execution_count": 6,
   "id": "a108c1dd-ab5d-4bd1-8a47-477f68103bcd",
   "metadata": {},
   "outputs": [
    {
     "data": {
      "text/plain": [
       "{2, 8, 64, 256}"
      ]
     },
     "execution_count": 6,
     "metadata": {},
     "output_type": "execute_result"
    }
   ],
   "source": [
    "#my ex d\n",
    "{1,2,4,8,16} ^ {1,4,16,64,256}"
   ]
  },
  {
   "cell_type": "code",
   "execution_count": 10,
   "id": "cc10775c-f16a-42f1-8531-3ce7f1c6c68e",
   "metadata": {},
   "outputs": [
    {
     "data": {
      "text/plain": [
       "False"
      ]
     },
     "execution_count": 10,
     "metadata": {},
     "output_type": "execute_result"
    }
   ],
   "source": [
    "#my ex d\n",
    "{1,2,4,8,16} < {1,4,16,64,256}"
   ]
  },
  {
   "cell_type": "code",
   "execution_count": null,
   "id": "0de8eaa5-eeae-45d2-a5f0-e5518e1ca13e",
   "metadata": {},
   "outputs": [],
   "source": []
  }
 ],
 "metadata": {
  "kernelspec": {
   "display_name": "Python 3 (ipykernel)",
   "language": "python",
   "name": "python3"
  },
  "language_info": {
   "codemirror_mode": {
    "name": "ipython",
    "version": 3
   },
   "file_extension": ".py",
   "mimetype": "text/x-python",
   "name": "python",
   "nbconvert_exporter": "python",
   "pygments_lexer": "ipython3",
   "version": "3.12.3"
  }
 },
 "nbformat": 4,
 "nbformat_minor": 5
}
