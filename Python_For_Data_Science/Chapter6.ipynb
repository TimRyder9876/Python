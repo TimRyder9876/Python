{
 "cells": [
  {
   "cell_type": "markdown",
   "id": "b23c911b",
   "metadata": {},
   "source": [
    "## Data to Aggregate"
   ]
  },
  {
   "cell_type": "code",
   "execution_count": 1,
   "id": "4c377512",
   "metadata": {},
   "outputs": [],
   "source": [
    "orders = [\n",
    " (9423517, '2021-08-04', 9001),\n",
    " (4626232, '2021-08-04', 9003),\n",
    " (9423534, '2021-08-04', 9001),\n",
    " (9423679, '2021-08-05', 9002),\n",
    " (4626377, '2021-08-05', 9003),\n",
    " (4626412, '2021-08-05', 9004),\n",
    " (9423783, '2021-08-06', 9002),\n",
    " (4626490, '2021-08-06', 9004)\n",
    "]"
   ]
  },
  {
   "cell_type": "code",
   "execution_count": 2,
   "id": "0ef98aa6",
   "metadata": {},
   "outputs": [],
   "source": [
    "import pandas as pd\n",
    "df_orders = pd.DataFrame(orders, columns=['OrderNo','Date','Empno'])"
   ]
  },
  {
   "cell_type": "code",
   "execution_count": 3,
   "id": "e840f818",
   "metadata": {},
   "outputs": [],
   "source": [
    "details = [\n",
    " (9423517, 'Jeans', 'Rip Curl', 87.0, 1),\n",
    " (9423517, 'Jacket', 'The North Face', 112.0, 1),\n",
    " (4626232, 'Socks', 'Vans', 15.0, 1),\n",
    " (4626232, 'Jeans', 'Quiksilver', 82.0, 1),\n",
    " (9423534, 'Socks', 'DC', 10.0, 2),\n",
    " (9423534, 'Socks', 'Quiksilver', 12.0, 2),\n",
    " (9423679, 'T-shirt', 'Patagonia', 35.0, 1),\n",
    " (4626377, 'Hoody', 'Animal', 44.0, 1),\n",
    " (4626377, 'Cargo Shorts', 'Animal', 38.0, 1),\n",
    " (4626412, 'Shirt', 'Volcom', 78.0, 1),\n",
    " (9423783, 'Boxer Shorts', 'Superdry', 30.0, 2),\n",
    " (9423783, 'Shorts', 'Globe', 26.0, 1),\n",
    " (4626490, 'Cargo Shorts', 'Billabong', 54.0, 1),\n",
    " (4626490, 'Sweater', 'Dickies', 56.0, 1)\n",
    "]"
   ]
  },
  {
   "cell_type": "code",
   "execution_count": 4,
   "id": "48c5fed0",
   "metadata": {},
   "outputs": [],
   "source": [
    "df_details = pd.DataFrame(details, columns=['OrderNo','Item','Brand','Price','Quantity'])"
   ]
  },
  {
   "cell_type": "code",
   "execution_count": 5,
   "id": "29709138",
   "metadata": {},
   "outputs": [],
   "source": [
    "emps = [\n",
    " (9001, 'Jeff Russell', 'LA'),\n",
    " (9002, 'Nick Boorman', 'San Francisco'),\n",
    " (9003, 'Tom Heints', 'NYC'),\n",
    " (9004, 'Maya Silver', 'Philadelphia')\n",
    "]"
   ]
  },
  {
   "cell_type": "code",
   "execution_count": 6,
   "id": "625e9e9e",
   "metadata": {},
   "outputs": [],
   "source": [
    "df_emps = pd.DataFrame(emps, columns=['Empno','Empname','Location'])"
   ]
  },
  {
   "cell_type": "code",
   "execution_count": 7,
   "id": "e9fbef4a",
   "metadata": {},
   "outputs": [],
   "source": [
    "locations = [\n",
    " ('LA', 'West'),\n",
    " ('San Francisco', 'West'),\n",
    " ('NYC', 'East'),\n",
    " ('Philadelphia', 'East')\n",
    "]"
   ]
  },
  {
   "cell_type": "code",
   "execution_count": 8,
   "id": "db75b904",
   "metadata": {},
   "outputs": [],
   "source": [
    "df_locations = pd.DataFrame(locations, columns=['Location','Region'])"
   ]
  },
  {
   "cell_type": "markdown",
   "id": "e92ccbdd",
   "metadata": {},
   "source": [
    "## Combining Dataframes"
   ]
  },
  {
   "cell_type": "code",
   "execution_count": 9,
   "id": "3dbf3661",
   "metadata": {},
   "outputs": [],
   "source": [
    "df_sales = df_orders.merge(df_details)"
   ]
  },
  {
   "cell_type": "code",
   "execution_count": 10,
   "id": "6a513dc6",
   "metadata": {},
   "outputs": [
    {
     "data": {
      "text/html": [
       "<div>\n",
       "<style scoped>\n",
       "    .dataframe tbody tr th:only-of-type {\n",
       "        vertical-align: middle;\n",
       "    }\n",
       "\n",
       "    .dataframe tbody tr th {\n",
       "        vertical-align: top;\n",
       "    }\n",
       "\n",
       "    .dataframe thead th {\n",
       "        text-align: right;\n",
       "    }\n",
       "</style>\n",
       "<table border=\"1\" class=\"dataframe\">\n",
       "  <thead>\n",
       "    <tr style=\"text-align: right;\">\n",
       "      <th></th>\n",
       "      <th>OrderNo</th>\n",
       "      <th>Date</th>\n",
       "      <th>Empno</th>\n",
       "      <th>Item</th>\n",
       "      <th>Brand</th>\n",
       "      <th>Price</th>\n",
       "      <th>Quantity</th>\n",
       "    </tr>\n",
       "  </thead>\n",
       "  <tbody>\n",
       "    <tr>\n",
       "      <th>0</th>\n",
       "      <td>9423517</td>\n",
       "      <td>2021-08-04</td>\n",
       "      <td>9001</td>\n",
       "      <td>Jeans</td>\n",
       "      <td>Rip Curl</td>\n",
       "      <td>87.0</td>\n",
       "      <td>1</td>\n",
       "    </tr>\n",
       "    <tr>\n",
       "      <th>1</th>\n",
       "      <td>9423517</td>\n",
       "      <td>2021-08-04</td>\n",
       "      <td>9001</td>\n",
       "      <td>Jacket</td>\n",
       "      <td>The North Face</td>\n",
       "      <td>112.0</td>\n",
       "      <td>1</td>\n",
       "    </tr>\n",
       "    <tr>\n",
       "      <th>2</th>\n",
       "      <td>4626232</td>\n",
       "      <td>2021-08-04</td>\n",
       "      <td>9003</td>\n",
       "      <td>Socks</td>\n",
       "      <td>Vans</td>\n",
       "      <td>15.0</td>\n",
       "      <td>1</td>\n",
       "    </tr>\n",
       "  </tbody>\n",
       "</table>\n",
       "</div>"
      ],
      "text/plain": [
       "   OrderNo        Date  Empno    Item           Brand  Price  Quantity\n",
       "0  9423517  2021-08-04   9001   Jeans        Rip Curl   87.0         1\n",
       "1  9423517  2021-08-04   9001  Jacket  The North Face  112.0         1\n",
       "2  4626232  2021-08-04   9003   Socks            Vans   15.0         1"
      ]
     },
     "execution_count": 10,
     "metadata": {},
     "output_type": "execute_result"
    }
   ],
   "source": [
    "df_sales.head(3)"
   ]
  },
  {
   "cell_type": "code",
   "execution_count": 11,
   "id": "dbaa27a2",
   "metadata": {},
   "outputs": [],
   "source": [
    "df_sales['Total'] = df_sales['Price']*df_sales['Quantity']"
   ]
  },
  {
   "cell_type": "code",
   "execution_count": 12,
   "id": "894ab6d9",
   "metadata": {},
   "outputs": [
    {
     "data": {
      "text/html": [
       "<div>\n",
       "<style scoped>\n",
       "    .dataframe tbody tr th:only-of-type {\n",
       "        vertical-align: middle;\n",
       "    }\n",
       "\n",
       "    .dataframe tbody tr th {\n",
       "        vertical-align: top;\n",
       "    }\n",
       "\n",
       "    .dataframe thead th {\n",
       "        text-align: right;\n",
       "    }\n",
       "</style>\n",
       "<table border=\"1\" class=\"dataframe\">\n",
       "  <thead>\n",
       "    <tr style=\"text-align: right;\">\n",
       "      <th></th>\n",
       "      <th>OrderNo</th>\n",
       "      <th>Date</th>\n",
       "      <th>Empno</th>\n",
       "      <th>Item</th>\n",
       "      <th>Brand</th>\n",
       "      <th>Price</th>\n",
       "      <th>Quantity</th>\n",
       "      <th>Total</th>\n",
       "    </tr>\n",
       "  </thead>\n",
       "  <tbody>\n",
       "    <tr>\n",
       "      <th>0</th>\n",
       "      <td>9423517</td>\n",
       "      <td>2021-08-04</td>\n",
       "      <td>9001</td>\n",
       "      <td>Jeans</td>\n",
       "      <td>Rip Curl</td>\n",
       "      <td>87.0</td>\n",
       "      <td>1</td>\n",
       "      <td>87.0</td>\n",
       "    </tr>\n",
       "    <tr>\n",
       "      <th>1</th>\n",
       "      <td>9423517</td>\n",
       "      <td>2021-08-04</td>\n",
       "      <td>9001</td>\n",
       "      <td>Jacket</td>\n",
       "      <td>The North Face</td>\n",
       "      <td>112.0</td>\n",
       "      <td>1</td>\n",
       "      <td>112.0</td>\n",
       "    </tr>\n",
       "    <tr>\n",
       "      <th>2</th>\n",
       "      <td>4626232</td>\n",
       "      <td>2021-08-04</td>\n",
       "      <td>9003</td>\n",
       "      <td>Socks</td>\n",
       "      <td>Vans</td>\n",
       "      <td>15.0</td>\n",
       "      <td>1</td>\n",
       "      <td>15.0</td>\n",
       "    </tr>\n",
       "  </tbody>\n",
       "</table>\n",
       "</div>"
      ],
      "text/plain": [
       "   OrderNo        Date  Empno    Item           Brand  Price  Quantity  Total\n",
       "0  9423517  2021-08-04   9001   Jeans        Rip Curl   87.0         1   87.0\n",
       "1  9423517  2021-08-04   9001  Jacket  The North Face  112.0         1  112.0\n",
       "2  4626232  2021-08-04   9003   Socks            Vans   15.0         1   15.0"
      ]
     },
     "execution_count": 12,
     "metadata": {},
     "output_type": "execute_result"
    }
   ],
   "source": [
    "df_sales.head(3)"
   ]
  },
  {
   "cell_type": "code",
   "execution_count": 13,
   "id": "c9ad1e77",
   "metadata": {},
   "outputs": [],
   "source": [
    "df_sales = df_sales[['Date','Empno','Total']]"
   ]
  },
  {
   "cell_type": "code",
   "execution_count": 14,
   "id": "74fbf9c1",
   "metadata": {},
   "outputs": [
    {
     "data": {
      "text/html": [
       "<div>\n",
       "<style scoped>\n",
       "    .dataframe tbody tr th:only-of-type {\n",
       "        vertical-align: middle;\n",
       "    }\n",
       "\n",
       "    .dataframe tbody tr th {\n",
       "        vertical-align: top;\n",
       "    }\n",
       "\n",
       "    .dataframe thead th {\n",
       "        text-align: right;\n",
       "    }\n",
       "</style>\n",
       "<table border=\"1\" class=\"dataframe\">\n",
       "  <thead>\n",
       "    <tr style=\"text-align: right;\">\n",
       "      <th></th>\n",
       "      <th>Date</th>\n",
       "      <th>Empno</th>\n",
       "      <th>Total</th>\n",
       "    </tr>\n",
       "  </thead>\n",
       "  <tbody>\n",
       "    <tr>\n",
       "      <th>0</th>\n",
       "      <td>2021-08-04</td>\n",
       "      <td>9001</td>\n",
       "      <td>87.0</td>\n",
       "    </tr>\n",
       "    <tr>\n",
       "      <th>1</th>\n",
       "      <td>2021-08-04</td>\n",
       "      <td>9001</td>\n",
       "      <td>112.0</td>\n",
       "    </tr>\n",
       "    <tr>\n",
       "      <th>2</th>\n",
       "      <td>2021-08-04</td>\n",
       "      <td>9003</td>\n",
       "      <td>15.0</td>\n",
       "    </tr>\n",
       "  </tbody>\n",
       "</table>\n",
       "</div>"
      ],
      "text/plain": [
       "         Date  Empno  Total\n",
       "0  2021-08-04   9001   87.0\n",
       "1  2021-08-04   9001  112.0\n",
       "2  2021-08-04   9003   15.0"
      ]
     },
     "execution_count": 14,
     "metadata": {},
     "output_type": "execute_result"
    }
   ],
   "source": [
    "df_sales.head(3)"
   ]
  },
  {
   "cell_type": "code",
   "execution_count": 15,
   "id": "b275fffa",
   "metadata": {},
   "outputs": [],
   "source": [
    "df_sales_emps = df_sales.merge(df_emps)"
   ]
  },
  {
   "cell_type": "code",
   "execution_count": 16,
   "id": "04e1ab9f",
   "metadata": {},
   "outputs": [
    {
     "data": {
      "text/html": [
       "<div>\n",
       "<style scoped>\n",
       "    .dataframe tbody tr th:only-of-type {\n",
       "        vertical-align: middle;\n",
       "    }\n",
       "\n",
       "    .dataframe tbody tr th {\n",
       "        vertical-align: top;\n",
       "    }\n",
       "\n",
       "    .dataframe thead th {\n",
       "        text-align: right;\n",
       "    }\n",
       "</style>\n",
       "<table border=\"1\" class=\"dataframe\">\n",
       "  <thead>\n",
       "    <tr style=\"text-align: right;\">\n",
       "      <th></th>\n",
       "      <th>Date</th>\n",
       "      <th>Empno</th>\n",
       "      <th>Total</th>\n",
       "      <th>Empname</th>\n",
       "      <th>Location</th>\n",
       "    </tr>\n",
       "  </thead>\n",
       "  <tbody>\n",
       "    <tr>\n",
       "      <th>0</th>\n",
       "      <td>2021-08-04</td>\n",
       "      <td>9001</td>\n",
       "      <td>87.0</td>\n",
       "      <td>Jeff Russell</td>\n",
       "      <td>LA</td>\n",
       "    </tr>\n",
       "    <tr>\n",
       "      <th>1</th>\n",
       "      <td>2021-08-04</td>\n",
       "      <td>9001</td>\n",
       "      <td>112.0</td>\n",
       "      <td>Jeff Russell</td>\n",
       "      <td>LA</td>\n",
       "    </tr>\n",
       "    <tr>\n",
       "      <th>2</th>\n",
       "      <td>2021-08-04</td>\n",
       "      <td>9003</td>\n",
       "      <td>15.0</td>\n",
       "      <td>Tom Heints</td>\n",
       "      <td>NYC</td>\n",
       "    </tr>\n",
       "  </tbody>\n",
       "</table>\n",
       "</div>"
      ],
      "text/plain": [
       "         Date  Empno  Total       Empname Location\n",
       "0  2021-08-04   9001   87.0  Jeff Russell       LA\n",
       "1  2021-08-04   9001  112.0  Jeff Russell       LA\n",
       "2  2021-08-04   9003   15.0    Tom Heints      NYC"
      ]
     },
     "execution_count": 16,
     "metadata": {},
     "output_type": "execute_result"
    }
   ],
   "source": [
    "df_sales_emps.head(3)"
   ]
  },
  {
   "cell_type": "code",
   "execution_count": 17,
   "id": "6e3e4df7",
   "metadata": {},
   "outputs": [],
   "source": [
    "df_result = df_sales_emps.merge(df_locations)"
   ]
  },
  {
   "cell_type": "code",
   "execution_count": 18,
   "id": "6e3e6c2a",
   "metadata": {},
   "outputs": [
    {
     "data": {
      "text/html": [
       "<div>\n",
       "<style scoped>\n",
       "    .dataframe tbody tr th:only-of-type {\n",
       "        vertical-align: middle;\n",
       "    }\n",
       "\n",
       "    .dataframe tbody tr th {\n",
       "        vertical-align: top;\n",
       "    }\n",
       "\n",
       "    .dataframe thead th {\n",
       "        text-align: right;\n",
       "    }\n",
       "</style>\n",
       "<table border=\"1\" class=\"dataframe\">\n",
       "  <thead>\n",
       "    <tr style=\"text-align: right;\">\n",
       "      <th></th>\n",
       "      <th>Date</th>\n",
       "      <th>Empno</th>\n",
       "      <th>Total</th>\n",
       "      <th>Empname</th>\n",
       "      <th>Location</th>\n",
       "      <th>Region</th>\n",
       "    </tr>\n",
       "  </thead>\n",
       "  <tbody>\n",
       "    <tr>\n",
       "      <th>0</th>\n",
       "      <td>2021-08-04</td>\n",
       "      <td>9001</td>\n",
       "      <td>87.0</td>\n",
       "      <td>Jeff Russell</td>\n",
       "      <td>LA</td>\n",
       "      <td>West</td>\n",
       "    </tr>\n",
       "    <tr>\n",
       "      <th>1</th>\n",
       "      <td>2021-08-04</td>\n",
       "      <td>9001</td>\n",
       "      <td>112.0</td>\n",
       "      <td>Jeff Russell</td>\n",
       "      <td>LA</td>\n",
       "      <td>West</td>\n",
       "    </tr>\n",
       "    <tr>\n",
       "      <th>2</th>\n",
       "      <td>2021-08-04</td>\n",
       "      <td>9003</td>\n",
       "      <td>15.0</td>\n",
       "      <td>Tom Heints</td>\n",
       "      <td>NYC</td>\n",
       "      <td>East</td>\n",
       "    </tr>\n",
       "  </tbody>\n",
       "</table>\n",
       "</div>"
      ],
      "text/plain": [
       "         Date  Empno  Total       Empname Location Region\n",
       "0  2021-08-04   9001   87.0  Jeff Russell       LA   West\n",
       "1  2021-08-04   9001  112.0  Jeff Russell       LA   West\n",
       "2  2021-08-04   9003   15.0    Tom Heints      NYC   East"
      ]
     },
     "execution_count": 18,
     "metadata": {},
     "output_type": "execute_result"
    }
   ],
   "source": [
    "df_result.head(3)"
   ]
  },
  {
   "cell_type": "code",
   "execution_count": 19,
   "id": "7b4d8c6c",
   "metadata": {},
   "outputs": [],
   "source": [
    "df_result = df_result[['Date','Region','Total']]"
   ]
  },
  {
   "cell_type": "code",
   "execution_count": 20,
   "id": "fcb56c9a",
   "metadata": {},
   "outputs": [
    {
     "data": {
      "text/html": [
       "<div>\n",
       "<style scoped>\n",
       "    .dataframe tbody tr th:only-of-type {\n",
       "        vertical-align: middle;\n",
       "    }\n",
       "\n",
       "    .dataframe tbody tr th {\n",
       "        vertical-align: top;\n",
       "    }\n",
       "\n",
       "    .dataframe thead th {\n",
       "        text-align: right;\n",
       "    }\n",
       "</style>\n",
       "<table border=\"1\" class=\"dataframe\">\n",
       "  <thead>\n",
       "    <tr style=\"text-align: right;\">\n",
       "      <th></th>\n",
       "      <th>Date</th>\n",
       "      <th>Region</th>\n",
       "      <th>Total</th>\n",
       "    </tr>\n",
       "  </thead>\n",
       "  <tbody>\n",
       "    <tr>\n",
       "      <th>0</th>\n",
       "      <td>2021-08-04</td>\n",
       "      <td>West</td>\n",
       "      <td>87.0</td>\n",
       "    </tr>\n",
       "    <tr>\n",
       "      <th>1</th>\n",
       "      <td>2021-08-04</td>\n",
       "      <td>West</td>\n",
       "      <td>112.0</td>\n",
       "    </tr>\n",
       "    <tr>\n",
       "      <th>2</th>\n",
       "      <td>2021-08-04</td>\n",
       "      <td>East</td>\n",
       "      <td>15.0</td>\n",
       "    </tr>\n",
       "  </tbody>\n",
       "</table>\n",
       "</div>"
      ],
      "text/plain": [
       "         Date Region  Total\n",
       "0  2021-08-04   West   87.0\n",
       "1  2021-08-04   West  112.0\n",
       "2  2021-08-04   East   15.0"
      ]
     },
     "execution_count": 20,
     "metadata": {},
     "output_type": "execute_result"
    }
   ],
   "source": [
    "df_result.head(3)"
   ]
  },
  {
   "cell_type": "markdown",
   "id": "6abf1d28",
   "metadata": {},
   "source": [
    "## Grouping and aggregating the data"
   ]
  },
  {
   "cell_type": "code",
   "execution_count": 21,
   "id": "ecd5b440",
   "metadata": {},
   "outputs": [],
   "source": [
    "df_date_region = df_result.groupby(['Date','Region']).sum()"
   ]
  },
  {
   "cell_type": "code",
   "execution_count": 22,
   "id": "e936db8f",
   "metadata": {},
   "outputs": [
    {
     "data": {
      "text/html": [
       "<div>\n",
       "<style scoped>\n",
       "    .dataframe tbody tr th:only-of-type {\n",
       "        vertical-align: middle;\n",
       "    }\n",
       "\n",
       "    .dataframe tbody tr th {\n",
       "        vertical-align: top;\n",
       "    }\n",
       "\n",
       "    .dataframe thead th {\n",
       "        text-align: right;\n",
       "    }\n",
       "</style>\n",
       "<table border=\"1\" class=\"dataframe\">\n",
       "  <thead>\n",
       "    <tr style=\"text-align: right;\">\n",
       "      <th></th>\n",
       "      <th></th>\n",
       "      <th>Total</th>\n",
       "    </tr>\n",
       "    <tr>\n",
       "      <th>Date</th>\n",
       "      <th>Region</th>\n",
       "      <th></th>\n",
       "    </tr>\n",
       "  </thead>\n",
       "  <tbody>\n",
       "    <tr>\n",
       "      <th rowspan=\"2\" valign=\"top\">2021-08-04</th>\n",
       "      <th>East</th>\n",
       "      <td>97.0</td>\n",
       "    </tr>\n",
       "    <tr>\n",
       "      <th>West</th>\n",
       "      <td>243.0</td>\n",
       "    </tr>\n",
       "    <tr>\n",
       "      <th rowspan=\"2\" valign=\"top\">2021-08-05</th>\n",
       "      <th>East</th>\n",
       "      <td>160.0</td>\n",
       "    </tr>\n",
       "    <tr>\n",
       "      <th>West</th>\n",
       "      <td>35.0</td>\n",
       "    </tr>\n",
       "    <tr>\n",
       "      <th rowspan=\"2\" valign=\"top\">2021-08-06</th>\n",
       "      <th>East</th>\n",
       "      <td>110.0</td>\n",
       "    </tr>\n",
       "    <tr>\n",
       "      <th>West</th>\n",
       "      <td>86.0</td>\n",
       "    </tr>\n",
       "  </tbody>\n",
       "</table>\n",
       "</div>"
      ],
      "text/plain": [
       "                   Total\n",
       "Date       Region       \n",
       "2021-08-04 East     97.0\n",
       "           West    243.0\n",
       "2021-08-05 East    160.0\n",
       "           West     35.0\n",
       "2021-08-06 East    110.0\n",
       "           West     86.0"
      ]
     },
     "execution_count": 22,
     "metadata": {},
     "output_type": "execute_result"
    }
   ],
   "source": [
    "df_date_region"
   ]
  },
  {
   "cell_type": "markdown",
   "id": "9f7b61d8",
   "metadata": {},
   "source": [
    "## Viewing Specific Aggregations by Multiindex"
   ]
  },
  {
   "cell_type": "code",
   "execution_count": 23,
   "id": "c5170e91",
   "metadata": {},
   "outputs": [
    {
     "name": "stdout",
     "output_type": "stream",
     "text": [
      "MultiIndex([('2021-08-04', 'East'),\n",
      "            ('2021-08-04', 'West'),\n",
      "            ('2021-08-05', 'East'),\n",
      "            ('2021-08-05', 'West'),\n",
      "            ('2021-08-06', 'East'),\n",
      "            ('2021-08-06', 'West')],\n",
      "           names=['Date', 'Region'])\n"
     ]
    }
   ],
   "source": [
    "print(df_date_region.index)"
   ]
  },
  {
   "cell_type": "code",
   "execution_count": 24,
   "id": "21d25aa8",
   "metadata": {},
   "outputs": [
    {
     "data": {
      "text/plain": [
       "pandas.core.frame.DataFrame"
      ]
     },
     "execution_count": 24,
     "metadata": {},
     "output_type": "execute_result"
    }
   ],
   "source": [
    "type(df_date_region)"
   ]
  },
  {
   "cell_type": "code",
   "execution_count": 25,
   "id": "f05a9ede",
   "metadata": {},
   "outputs": [
    {
     "data": {
      "text/html": [
       "<div>\n",
       "<style scoped>\n",
       "    .dataframe tbody tr th:only-of-type {\n",
       "        vertical-align: middle;\n",
       "    }\n",
       "\n",
       "    .dataframe tbody tr th {\n",
       "        vertical-align: top;\n",
       "    }\n",
       "\n",
       "    .dataframe thead th {\n",
       "        text-align: right;\n",
       "    }\n",
       "</style>\n",
       "<table border=\"1\" class=\"dataframe\">\n",
       "  <thead>\n",
       "    <tr style=\"text-align: right;\">\n",
       "      <th></th>\n",
       "      <th></th>\n",
       "      <th>Total</th>\n",
       "    </tr>\n",
       "    <tr>\n",
       "      <th>Date</th>\n",
       "      <th>Region</th>\n",
       "      <th></th>\n",
       "    </tr>\n",
       "  </thead>\n",
       "  <tbody>\n",
       "    <tr>\n",
       "      <th>2021-08-05</th>\n",
       "      <th>West</th>\n",
       "      <td>35.0</td>\n",
       "    </tr>\n",
       "  </tbody>\n",
       "</table>\n",
       "</div>"
      ],
      "text/plain": [
       "                   Total\n",
       "Date       Region       \n",
       "2021-08-05 West     35.0"
      ]
     },
     "execution_count": 25,
     "metadata": {},
     "output_type": "execute_result"
    }
   ],
   "source": [
    "df_date_region[df_date_region.index.isin([('2021-08-05','West')])]"
   ]
  },
  {
   "cell_type": "code",
   "execution_count": 26,
   "id": "875e8737",
   "metadata": {},
   "outputs": [
    {
     "data": {
      "text/html": [
       "<div>\n",
       "<style scoped>\n",
       "    .dataframe tbody tr th:only-of-type {\n",
       "        vertical-align: middle;\n",
       "    }\n",
       "\n",
       "    .dataframe tbody tr th {\n",
       "        vertical-align: top;\n",
       "    }\n",
       "\n",
       "    .dataframe thead th {\n",
       "        text-align: right;\n",
       "    }\n",
       "</style>\n",
       "<table border=\"1\" class=\"dataframe\">\n",
       "  <thead>\n",
       "    <tr style=\"text-align: right;\">\n",
       "      <th></th>\n",
       "      <th></th>\n",
       "      <th>Total</th>\n",
       "    </tr>\n",
       "    <tr>\n",
       "      <th>Date</th>\n",
       "      <th>Region</th>\n",
       "      <th></th>\n",
       "    </tr>\n",
       "  </thead>\n",
       "  <tbody>\n",
       "    <tr>\n",
       "      <th rowspan=\"2\" valign=\"top\">2021-08-05</th>\n",
       "      <th>East</th>\n",
       "      <td>160.0</td>\n",
       "    </tr>\n",
       "    <tr>\n",
       "      <th>West</th>\n",
       "      <td>35.0</td>\n",
       "    </tr>\n",
       "  </tbody>\n",
       "</table>\n",
       "</div>"
      ],
      "text/plain": [
       "                   Total\n",
       "Date       Region       \n",
       "2021-08-05 East    160.0\n",
       "           West     35.0"
      ]
     },
     "execution_count": 26,
     "metadata": {},
     "output_type": "execute_result"
    }
   ],
   "source": [
    "df_date_region[df_date_region.index.isin([('2021-08-05','West'),('2021-08-05','East')])]"
   ]
  },
  {
   "cell_type": "markdown",
   "id": "ab04476c",
   "metadata": {},
   "source": [
    "## Slicing a range of aggregated values"
   ]
  },
  {
   "cell_type": "code",
   "execution_count": 27,
   "id": "c0bf7f4e",
   "metadata": {},
   "outputs": [
    {
     "data": {
      "text/html": [
       "<div>\n",
       "<style scoped>\n",
       "    .dataframe tbody tr th:only-of-type {\n",
       "        vertical-align: middle;\n",
       "    }\n",
       "\n",
       "    .dataframe tbody tr th {\n",
       "        vertical-align: top;\n",
       "    }\n",
       "\n",
       "    .dataframe thead th {\n",
       "        text-align: right;\n",
       "    }\n",
       "</style>\n",
       "<table border=\"1\" class=\"dataframe\">\n",
       "  <thead>\n",
       "    <tr style=\"text-align: right;\">\n",
       "      <th></th>\n",
       "      <th></th>\n",
       "      <th>Total</th>\n",
       "    </tr>\n",
       "    <tr>\n",
       "      <th>Date</th>\n",
       "      <th>Region</th>\n",
       "      <th></th>\n",
       "    </tr>\n",
       "  </thead>\n",
       "  <tbody>\n",
       "    <tr>\n",
       "      <th rowspan=\"2\" valign=\"top\">2021-08-04</th>\n",
       "      <th>East</th>\n",
       "      <td>97.0</td>\n",
       "    </tr>\n",
       "    <tr>\n",
       "      <th>West</th>\n",
       "      <td>243.0</td>\n",
       "    </tr>\n",
       "    <tr>\n",
       "      <th rowspan=\"2\" valign=\"top\">2021-08-05</th>\n",
       "      <th>East</th>\n",
       "      <td>160.0</td>\n",
       "    </tr>\n",
       "    <tr>\n",
       "      <th>West</th>\n",
       "      <td>35.0</td>\n",
       "    </tr>\n",
       "  </tbody>\n",
       "</table>\n",
       "</div>"
      ],
      "text/plain": [
       "                   Total\n",
       "Date       Region       \n",
       "2021-08-04 East     97.0\n",
       "           West    243.0\n",
       "2021-08-05 East    160.0\n",
       "           West     35.0"
      ]
     },
     "execution_count": 27,
     "metadata": {},
     "output_type": "execute_result"
    }
   ],
   "source": [
    "df_date_region[('2021-08-04','East'):('2021-08-05','West')]"
   ]
  },
  {
   "cell_type": "code",
   "execution_count": 28,
   "id": "888f784c",
   "metadata": {},
   "outputs": [
    {
     "data": {
      "text/html": [
       "<div>\n",
       "<style scoped>\n",
       "    .dataframe tbody tr th:only-of-type {\n",
       "        vertical-align: middle;\n",
       "    }\n",
       "\n",
       "    .dataframe tbody tr th {\n",
       "        vertical-align: top;\n",
       "    }\n",
       "\n",
       "    .dataframe thead th {\n",
       "        text-align: right;\n",
       "    }\n",
       "</style>\n",
       "<table border=\"1\" class=\"dataframe\">\n",
       "  <thead>\n",
       "    <tr style=\"text-align: right;\">\n",
       "      <th></th>\n",
       "      <th></th>\n",
       "      <th>Total</th>\n",
       "    </tr>\n",
       "    <tr>\n",
       "      <th>Date</th>\n",
       "      <th>Region</th>\n",
       "      <th></th>\n",
       "    </tr>\n",
       "  </thead>\n",
       "  <tbody>\n",
       "    <tr>\n",
       "      <th rowspan=\"2\" valign=\"top\">2021-08-04</th>\n",
       "      <th>East</th>\n",
       "      <td>97.0</td>\n",
       "    </tr>\n",
       "    <tr>\n",
       "      <th>West</th>\n",
       "      <td>243.0</td>\n",
       "    </tr>\n",
       "    <tr>\n",
       "      <th rowspan=\"2\" valign=\"top\">2021-08-05</th>\n",
       "      <th>East</th>\n",
       "      <td>160.0</td>\n",
       "    </tr>\n",
       "    <tr>\n",
       "      <th>West</th>\n",
       "      <td>35.0</td>\n",
       "    </tr>\n",
       "  </tbody>\n",
       "</table>\n",
       "</div>"
      ],
      "text/plain": [
       "                   Total\n",
       "Date       Region       \n",
       "2021-08-04 East     97.0\n",
       "           West    243.0\n",
       "2021-08-05 East    160.0\n",
       "           West     35.0"
      ]
     },
     "execution_count": 28,
     "metadata": {},
     "output_type": "execute_result"
    }
   ],
   "source": [
    "df_date_region[('2021-08-04'):('2021-08-05')]"
   ]
  },
  {
   "cell_type": "markdown",
   "id": "cdb439cd",
   "metadata": {},
   "source": [
    "## Slicing within aggregation levels"
   ]
  },
  {
   "cell_type": "code",
   "execution_count": 29,
   "id": "7043f545",
   "metadata": {},
   "outputs": [
    {
     "data": {
      "text/html": [
       "<div>\n",
       "<style scoped>\n",
       "    .dataframe tbody tr th:only-of-type {\n",
       "        vertical-align: middle;\n",
       "    }\n",
       "\n",
       "    .dataframe tbody tr th {\n",
       "        vertical-align: top;\n",
       "    }\n",
       "\n",
       "    .dataframe thead th {\n",
       "        text-align: right;\n",
       "    }\n",
       "</style>\n",
       "<table border=\"1\" class=\"dataframe\">\n",
       "  <thead>\n",
       "    <tr style=\"text-align: right;\">\n",
       "      <th></th>\n",
       "      <th></th>\n",
       "      <th>Total</th>\n",
       "    </tr>\n",
       "    <tr>\n",
       "      <th>Date</th>\n",
       "      <th>Region</th>\n",
       "      <th></th>\n",
       "    </tr>\n",
       "  </thead>\n",
       "  <tbody>\n",
       "    <tr>\n",
       "      <th rowspan=\"2\" valign=\"top\">2021-08-04</th>\n",
       "      <th>East</th>\n",
       "      <td>97.0</td>\n",
       "    </tr>\n",
       "    <tr>\n",
       "      <th>West</th>\n",
       "      <td>243.0</td>\n",
       "    </tr>\n",
       "    <tr>\n",
       "      <th rowspan=\"2\" valign=\"top\">2021-08-05</th>\n",
       "      <th>East</th>\n",
       "      <td>160.0</td>\n",
       "    </tr>\n",
       "    <tr>\n",
       "      <th>West</th>\n",
       "      <td>35.0</td>\n",
       "    </tr>\n",
       "  </tbody>\n",
       "</table>\n",
       "</div>"
      ],
      "text/plain": [
       "                   Total\n",
       "Date       Region       \n",
       "2021-08-04 East     97.0\n",
       "           West    243.0\n",
       "2021-08-05 East    160.0\n",
       "           West     35.0"
      ]
     },
     "execution_count": 29,
     "metadata": {},
     "output_type": "execute_result"
    }
   ],
   "source": [
    "df_date_region.loc[(slice('2021-08-04','2021-08-05'),slice(None))]"
   ]
  },
  {
   "cell_type": "code",
   "execution_count": 31,
   "id": "2b0d02f0",
   "metadata": {},
   "outputs": [
    {
     "data": {
      "text/html": [
       "<div>\n",
       "<style scoped>\n",
       "    .dataframe tbody tr th:only-of-type {\n",
       "        vertical-align: middle;\n",
       "    }\n",
       "\n",
       "    .dataframe tbody tr th {\n",
       "        vertical-align: top;\n",
       "    }\n",
       "\n",
       "    .dataframe thead th {\n",
       "        text-align: right;\n",
       "    }\n",
       "</style>\n",
       "<table border=\"1\" class=\"dataframe\">\n",
       "  <thead>\n",
       "    <tr style=\"text-align: right;\">\n",
       "      <th></th>\n",
       "      <th></th>\n",
       "      <th>Total</th>\n",
       "    </tr>\n",
       "    <tr>\n",
       "      <th>Date</th>\n",
       "      <th>Region</th>\n",
       "      <th></th>\n",
       "    </tr>\n",
       "  </thead>\n",
       "  <tbody>\n",
       "    <tr>\n",
       "      <th>2021-08-04</th>\n",
       "      <th>East</th>\n",
       "      <td>97.0</td>\n",
       "    </tr>\n",
       "    <tr>\n",
       "      <th>2021-08-05</th>\n",
       "      <th>East</th>\n",
       "      <td>160.0</td>\n",
       "    </tr>\n",
       "  </tbody>\n",
       "</table>\n",
       "</div>"
      ],
      "text/plain": [
       "                   Total\n",
       "Date       Region       \n",
       "2021-08-04 East     97.0\n",
       "2021-08-05 East    160.0"
      ]
     },
     "execution_count": 31,
     "metadata": {},
     "output_type": "execute_result"
    }
   ],
   "source": [
    "df_date_region.loc[(slice('2021-08-04','2021-08-05'),slice('East')),:]"
   ]
  },
  {
   "cell_type": "markdown",
   "id": "ae9f14a6",
   "metadata": {},
   "source": [
    "## Adding a grand total"
   ]
  },
  {
   "cell_type": "code",
   "execution_count": 31,
   "id": "f1eb01f4",
   "metadata": {},
   "outputs": [],
   "source": [
    "#ps = pd.Series(df_date_region.sum(axis = 0))\n",
    "#print(ps)"
   ]
  },
  {
   "cell_type": "code",
   "execution_count": 32,
   "id": "2bf4dbfa",
   "metadata": {},
   "outputs": [
    {
     "name": "stdout",
     "output_type": "stream",
     "text": [
      "Total    731.0\n",
      "dtype: float64\n"
     ]
    }
   ],
   "source": [
    "ps = df_date_region.sum(axis = 0)\n",
    "print(ps)"
   ]
  },
  {
   "cell_type": "code",
   "execution_count": 33,
   "id": "77ad4418",
   "metadata": {},
   "outputs": [],
   "source": [
    "ps.name=('All','All')"
   ]
  },
  {
   "cell_type": "code",
   "execution_count": 34,
   "id": "caabc36b",
   "metadata": {},
   "outputs": [
    {
     "data": {
      "text/plain": [
       "Total    731.0\n",
       "Name: (All, All), dtype: float64"
      ]
     },
     "execution_count": 34,
     "metadata": {},
     "output_type": "execute_result"
    }
   ],
   "source": [
    "ps"
   ]
  },
  {
   "cell_type": "code",
   "execution_count": 35,
   "id": "bd807d73",
   "metadata": {},
   "outputs": [
    {
     "data": {
      "text/html": [
       "<div>\n",
       "<style scoped>\n",
       "    .dataframe tbody tr th:only-of-type {\n",
       "        vertical-align: middle;\n",
       "    }\n",
       "\n",
       "    .dataframe tbody tr th {\n",
       "        vertical-align: top;\n",
       "    }\n",
       "\n",
       "    .dataframe thead th {\n",
       "        text-align: right;\n",
       "    }\n",
       "</style>\n",
       "<table border=\"1\" class=\"dataframe\">\n",
       "  <thead>\n",
       "    <tr style=\"text-align: right;\">\n",
       "      <th></th>\n",
       "      <th></th>\n",
       "      <th>Total</th>\n",
       "    </tr>\n",
       "    <tr>\n",
       "      <th>Date</th>\n",
       "      <th>Region</th>\n",
       "      <th></th>\n",
       "    </tr>\n",
       "  </thead>\n",
       "  <tbody>\n",
       "    <tr>\n",
       "      <th rowspan=\"2\" valign=\"top\">2021-08-04</th>\n",
       "      <th>East</th>\n",
       "      <td>97.0</td>\n",
       "    </tr>\n",
       "    <tr>\n",
       "      <th>West</th>\n",
       "      <td>243.0</td>\n",
       "    </tr>\n",
       "    <tr>\n",
       "      <th rowspan=\"2\" valign=\"top\">2021-08-05</th>\n",
       "      <th>East</th>\n",
       "      <td>160.0</td>\n",
       "    </tr>\n",
       "    <tr>\n",
       "      <th>West</th>\n",
       "      <td>35.0</td>\n",
       "    </tr>\n",
       "    <tr>\n",
       "      <th rowspan=\"2\" valign=\"top\">2021-08-06</th>\n",
       "      <th>East</th>\n",
       "      <td>110.0</td>\n",
       "    </tr>\n",
       "    <tr>\n",
       "      <th>West</th>\n",
       "      <td>86.0</td>\n",
       "    </tr>\n",
       "  </tbody>\n",
       "</table>\n",
       "</div>"
      ],
      "text/plain": [
       "                   Total\n",
       "Date       Region       \n",
       "2021-08-04 East     97.0\n",
       "           West    243.0\n",
       "2021-08-05 East    160.0\n",
       "           West     35.0\n",
       "2021-08-06 East    110.0\n",
       "           West     86.0"
      ]
     },
     "execution_count": 35,
     "metadata": {},
     "output_type": "execute_result"
    }
   ],
   "source": [
    "df_date_region"
   ]
  },
  {
   "cell_type": "code",
   "execution_count": 36,
   "id": "db578123",
   "metadata": {},
   "outputs": [],
   "source": [
    "df_date_region_total = df_date_region"
   ]
  },
  {
   "cell_type": "code",
   "execution_count": 37,
   "id": "9faff841",
   "metadata": {},
   "outputs": [],
   "source": [
    "df_date_region_total.loc['total'] = df_date_region_total.iloc[:, :-1] = ps"
   ]
  },
  {
   "cell_type": "code",
   "execution_count": 38,
   "id": "1903bd51",
   "metadata": {},
   "outputs": [
    {
     "data": {
      "text/html": [
       "<div>\n",
       "<style scoped>\n",
       "    .dataframe tbody tr th:only-of-type {\n",
       "        vertical-align: middle;\n",
       "    }\n",
       "\n",
       "    .dataframe tbody tr th {\n",
       "        vertical-align: top;\n",
       "    }\n",
       "\n",
       "    .dataframe thead th {\n",
       "        text-align: right;\n",
       "    }\n",
       "</style>\n",
       "<table border=\"1\" class=\"dataframe\">\n",
       "  <thead>\n",
       "    <tr style=\"text-align: right;\">\n",
       "      <th></th>\n",
       "      <th>Total</th>\n",
       "    </tr>\n",
       "  </thead>\n",
       "  <tbody>\n",
       "    <tr>\n",
       "      <th>(2021-08-04, East)</th>\n",
       "      <td>97.0</td>\n",
       "    </tr>\n",
       "    <tr>\n",
       "      <th>(2021-08-04, West)</th>\n",
       "      <td>243.0</td>\n",
       "    </tr>\n",
       "    <tr>\n",
       "      <th>(2021-08-05, East)</th>\n",
       "      <td>160.0</td>\n",
       "    </tr>\n",
       "    <tr>\n",
       "      <th>(2021-08-05, West)</th>\n",
       "      <td>35.0</td>\n",
       "    </tr>\n",
       "    <tr>\n",
       "      <th>(2021-08-06, East)</th>\n",
       "      <td>110.0</td>\n",
       "    </tr>\n",
       "    <tr>\n",
       "      <th>(2021-08-06, West)</th>\n",
       "      <td>86.0</td>\n",
       "    </tr>\n",
       "    <tr>\n",
       "      <th>total</th>\n",
       "      <td>731.0</td>\n",
       "    </tr>\n",
       "  </tbody>\n",
       "</table>\n",
       "</div>"
      ],
      "text/plain": [
       "                    Total\n",
       "(2021-08-04, East)   97.0\n",
       "(2021-08-04, West)  243.0\n",
       "(2021-08-05, East)  160.0\n",
       "(2021-08-05, West)   35.0\n",
       "(2021-08-06, East)  110.0\n",
       "(2021-08-06, West)   86.0\n",
       "total               731.0"
      ]
     },
     "execution_count": 38,
     "metadata": {},
     "output_type": "execute_result"
    }
   ],
   "source": [
    "df_date_region_total"
   ]
  },
  {
   "cell_type": "markdown",
   "id": "d40d24d1",
   "metadata": {},
   "source": [
    "## adding subtotals\n",
    "# THIS DOES NOT WORK. NO APPEND FUNCTION FOR DATAFRAME"
   ]
  },
  {
   "cell_type": "code",
   "execution_count": 39,
   "id": "02347b44",
   "metadata": {},
   "outputs": [],
   "source": [
    "df_totals = pd.DataFrame()"
   ]
  },
  {
   "cell_type": "code",
   "execution_count": 43,
   "id": "3f6b6edd",
   "metadata": {},
   "outputs": [
    {
     "ename": "AttributeError",
     "evalue": "'DataFrame' object has no attribute 'append'",
     "output_type": "error",
     "traceback": [
      "\u001b[1;31m---------------------------------------------------------------------------\u001b[0m",
      "\u001b[1;31mAttributeError\u001b[0m                            Traceback (most recent call last)",
      "\u001b[1;32m~\\AppData\\Local\\Temp\\ipykernel_13360\\3243235985.py\u001b[0m in \u001b[0;36m?\u001b[1;34m()\u001b[0m\n\u001b[0;32m      1\u001b[0m \u001b[0mdf_totals\u001b[0m \u001b[1;33m=\u001b[0m \u001b[0mpd\u001b[0m\u001b[1;33m.\u001b[0m\u001b[0mDataFrame\u001b[0m\u001b[1;33m(\u001b[0m\u001b[1;33m)\u001b[0m\u001b[1;33m\u001b[0m\u001b[1;33m\u001b[0m\u001b[0m\n\u001b[0;32m      2\u001b[0m \u001b[1;32mfor\u001b[0m \u001b[0mdate\u001b[0m\u001b[1;33m,\u001b[0m \u001b[0mdate_df\u001b[0m \u001b[1;32min\u001b[0m \u001b[0mdf_date_region\u001b[0m\u001b[1;33m.\u001b[0m\u001b[0mgroupby\u001b[0m\u001b[1;33m(\u001b[0m\u001b[0mlevel\u001b[0m\u001b[1;33m=\u001b[0m\u001b[1;36m0\u001b[0m\u001b[1;33m)\u001b[0m\u001b[1;33m:\u001b[0m\u001b[1;33m\u001b[0m\u001b[1;33m\u001b[0m\u001b[0m\n\u001b[1;32m----> 3\u001b[1;33m   \u001b[0mdf_totals\u001b[0m \u001b[1;33m=\u001b[0m \u001b[0mdf_totals\u001b[0m\u001b[1;33m.\u001b[0m\u001b[0mappend\u001b[0m\u001b[1;33m(\u001b[0m\u001b[0mdate_df\u001b[0m\u001b[1;33m)\u001b[0m\u001b[1;33m\u001b[0m\u001b[1;33m\u001b[0m\u001b[0m\n\u001b[0m\u001b[0;32m      4\u001b[0m   \u001b[0mps\u001b[0m \u001b[1;33m=\u001b[0m \u001b[0mdate_df\u001b[0m\u001b[1;33m.\u001b[0m\u001b[0msum\u001b[0m\u001b[1;33m(\u001b[0m\u001b[0maxis\u001b[0m \u001b[1;33m=\u001b[0m \u001b[1;36m0\u001b[0m\u001b[1;33m)\u001b[0m\u001b[1;33m\u001b[0m\u001b[1;33m\u001b[0m\u001b[0m\n\u001b[0;32m      5\u001b[0m   \u001b[0mps\u001b[0m\u001b[1;33m.\u001b[0m\u001b[0mname\u001b[0m\u001b[1;33m=\u001b[0m\u001b[1;33m(\u001b[0m\u001b[0mdate\u001b[0m\u001b[1;33m,\u001b[0m\u001b[1;34m'All'\u001b[0m\u001b[1;33m)\u001b[0m\u001b[1;33m\u001b[0m\u001b[1;33m\u001b[0m\u001b[0m\n\u001b[0;32m      6\u001b[0m   \u001b[0mdf_totals\u001b[0m \u001b[1;33m=\u001b[0m \u001b[0mdf_totals\u001b[0m\u001b[1;33m.\u001b[0m\u001b[0mappend\u001b[0m\u001b[1;33m(\u001b[0m\u001b[0mps\u001b[0m\u001b[1;33m)\u001b[0m\u001b[1;33m\u001b[0m\u001b[1;33m\u001b[0m\u001b[0m\n",
      "\u001b[1;32m~\\AppData\\Roaming\\Python\\Python311\\site-packages\\pandas\\core\\generic.py\u001b[0m in \u001b[0;36m?\u001b[1;34m(self, name)\u001b[0m\n\u001b[0;32m   6295\u001b[0m             \u001b[1;32mand\u001b[0m \u001b[0mname\u001b[0m \u001b[1;32mnot\u001b[0m \u001b[1;32min\u001b[0m \u001b[0mself\u001b[0m\u001b[1;33m.\u001b[0m\u001b[0m_accessors\u001b[0m\u001b[1;33m\u001b[0m\u001b[1;33m\u001b[0m\u001b[0m\n\u001b[0;32m   6296\u001b[0m             \u001b[1;32mand\u001b[0m \u001b[0mself\u001b[0m\u001b[1;33m.\u001b[0m\u001b[0m_info_axis\u001b[0m\u001b[1;33m.\u001b[0m\u001b[0m_can_hold_identifiers_and_holds_name\u001b[0m\u001b[1;33m(\u001b[0m\u001b[0mname\u001b[0m\u001b[1;33m)\u001b[0m\u001b[1;33m\u001b[0m\u001b[1;33m\u001b[0m\u001b[0m\n\u001b[0;32m   6297\u001b[0m         ):\n\u001b[0;32m   6298\u001b[0m             \u001b[1;32mreturn\u001b[0m \u001b[0mself\u001b[0m\u001b[1;33m[\u001b[0m\u001b[0mname\u001b[0m\u001b[1;33m]\u001b[0m\u001b[1;33m\u001b[0m\u001b[1;33m\u001b[0m\u001b[0m\n\u001b[1;32m-> 6299\u001b[1;33m         \u001b[1;32mreturn\u001b[0m \u001b[0mobject\u001b[0m\u001b[1;33m.\u001b[0m\u001b[0m__getattribute__\u001b[0m\u001b[1;33m(\u001b[0m\u001b[0mself\u001b[0m\u001b[1;33m,\u001b[0m \u001b[0mname\u001b[0m\u001b[1;33m)\u001b[0m\u001b[1;33m\u001b[0m\u001b[1;33m\u001b[0m\u001b[0m\n\u001b[0m",
      "\u001b[1;31mAttributeError\u001b[0m: 'DataFrame' object has no attribute 'append'"
     ]
    }
   ],
   "source": [
    "df_totals = pd.DataFrame()\n",
    "for date, date_df in df_date_region.groupby(level=0):\n",
    "  df_totals = df_totals.append(date_df)\n",
    "  ps = date_df.sum(axis = 0)\n",
    "  ps.name=(date,'All')\n",
    "  df_totals = df_totals.append(ps)\n"
   ]
  },
  {
   "cell_type": "markdown",
   "id": "9e1c3800",
   "metadata": {},
   "source": [
    "## Selecting all rows in a group"
   ]
  },
  {
   "cell_type": "code",
   "execution_count": 48,
   "id": "d4039869",
   "metadata": {},
   "outputs": [
    {
     "data": {
      "text/html": [
       "<div>\n",
       "<style scoped>\n",
       "    .dataframe tbody tr th:only-of-type {\n",
       "        vertical-align: middle;\n",
       "    }\n",
       "\n",
       "    .dataframe tbody tr th {\n",
       "        vertical-align: top;\n",
       "    }\n",
       "\n",
       "    .dataframe thead th {\n",
       "        text-align: right;\n",
       "    }\n",
       "</style>\n",
       "<table border=\"1\" class=\"dataframe\">\n",
       "  <thead>\n",
       "    <tr style=\"text-align: right;\">\n",
       "      <th></th>\n",
       "      <th>Date</th>\n",
       "      <th>Region</th>\n",
       "      <th>Total</th>\n",
       "    </tr>\n",
       "  </thead>\n",
       "  <tbody>\n",
       "    <tr>\n",
       "      <th>7</th>\n",
       "      <td>2021-08-05</td>\n",
       "      <td>East</td>\n",
       "      <td>44.0</td>\n",
       "    </tr>\n",
       "    <tr>\n",
       "      <th>8</th>\n",
       "      <td>2021-08-05</td>\n",
       "      <td>East</td>\n",
       "      <td>38.0</td>\n",
       "    </tr>\n",
       "    <tr>\n",
       "      <th>9</th>\n",
       "      <td>2021-08-05</td>\n",
       "      <td>East</td>\n",
       "      <td>78.0</td>\n",
       "    </tr>\n",
       "  </tbody>\n",
       "</table>\n",
       "</div>"
      ],
      "text/plain": [
       "         Date Region  Total\n",
       "7  2021-08-05   East   44.0\n",
       "8  2021-08-05   East   38.0\n",
       "9  2021-08-05   East   78.0"
      ]
     },
     "execution_count": 48,
     "metadata": {},
     "output_type": "execute_result"
    }
   ],
   "source": [
    "# This provies all detail rows associated with a grouping row\n",
    "group = df_result.groupby(['Date','Region'])\n",
    "group.get_group(('2021-08-05','East'))"
   ]
  },
  {
   "cell_type": "code",
   "execution_count": null,
   "id": "33a0f7f3",
   "metadata": {},
   "outputs": [],
   "source": []
  }
 ],
 "metadata": {
  "kernelspec": {
   "display_name": "Python 3 (ipykernel)",
   "language": "python",
   "name": "python3"
  },
  "language_info": {
   "codemirror_mode": {
    "name": "ipython",
    "version": 3
   },
   "file_extension": ".py",
   "mimetype": "text/x-python",
   "name": "python",
   "nbconvert_exporter": "python",
   "pygments_lexer": "ipython3",
   "version": "3.11.7"
  }
 },
 "nbformat": 4,
 "nbformat_minor": 5
}
