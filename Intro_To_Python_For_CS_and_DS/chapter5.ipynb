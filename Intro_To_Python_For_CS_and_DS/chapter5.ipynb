{
 "cells": [
  {
   "cell_type": "code",
   "execution_count": 1,
   "id": "70eed92f-4a70-4d0c-871d-64d03b0f3b6c",
   "metadata": {},
   "outputs": [],
   "source": [
    "c = [-45, 6, 0, 72, 1543]"
   ]
  },
  {
   "cell_type": "code",
   "execution_count": 6,
   "id": "e07e687d-6c4f-4b14-a6b9-c66c6b686a16",
   "metadata": {},
   "outputs": [
    {
     "data": {
      "text/plain": [
       "[-45, 6, 0, 72, 1543]"
      ]
     },
     "execution_count": 6,
     "metadata": {},
     "output_type": "execute_result"
    }
   ],
   "source": [
    "c"
   ]
  },
  {
   "cell_type": "code",
   "execution_count": 3,
   "id": "0078f44c-4d53-497b-ad37-8bb4119f3c2b",
   "metadata": {},
   "outputs": [
    {
     "data": {
      "text/plain": [
       "-45"
      ]
     },
     "execution_count": 3,
     "metadata": {},
     "output_type": "execute_result"
    }
   ],
   "source": [
    "c[0]"
   ]
  },
  {
   "cell_type": "code",
   "execution_count": 4,
   "id": "a5ed5e66-03bf-4ece-988e-89f40731b851",
   "metadata": {},
   "outputs": [
    {
     "data": {
      "text/plain": [
       "1543"
      ]
     },
     "execution_count": 4,
     "metadata": {},
     "output_type": "execute_result"
    }
   ],
   "source": [
    "c[4]"
   ]
  },
  {
   "cell_type": "code",
   "execution_count": 5,
   "id": "4a4f0078-dde9-4834-9d65-1e0dc3d35f24",
   "metadata": {},
   "outputs": [
    {
     "data": {
      "text/plain": [
       "5"
      ]
     },
     "execution_count": 5,
     "metadata": {},
     "output_type": "execute_result"
    }
   ],
   "source": [
    "len(c)"
   ]
  },
  {
   "cell_type": "code",
   "execution_count": 7,
   "id": "705d68ac-bfc7-4db4-b89a-7ef6171b05da",
   "metadata": {},
   "outputs": [
    {
     "data": {
      "text/plain": [
       "1543"
      ]
     },
     "execution_count": 7,
     "metadata": {},
     "output_type": "execute_result"
    }
   ],
   "source": [
    "c[-1]"
   ]
  },
  {
   "cell_type": "code",
   "execution_count": 8,
   "id": "42e7523c-e9d8-488a-8204-f8db1a45880d",
   "metadata": {},
   "outputs": [
    {
     "data": {
      "text/plain": [
       "-45"
      ]
     },
     "execution_count": 8,
     "metadata": {},
     "output_type": "execute_result"
    }
   ],
   "source": [
    "c[-5]"
   ]
  },
  {
   "cell_type": "code",
   "execution_count": 9,
   "id": "9527df22-947f-428e-a2b3-0889b7141204",
   "metadata": {},
   "outputs": [
    {
     "data": {
      "text/plain": [
       "-45"
      ]
     },
     "execution_count": 9,
     "metadata": {},
     "output_type": "execute_result"
    }
   ],
   "source": [
    "c[-len(c)]"
   ]
  },
  {
   "cell_type": "code",
   "execution_count": 10,
   "id": "f8269cca-ed7b-467c-a59a-5b80f9da413b",
   "metadata": {},
   "outputs": [],
   "source": [
    "a = 1"
   ]
  },
  {
   "cell_type": "code",
   "execution_count": 11,
   "id": "b10dffb9-5127-4951-8362-429ef34ae0a5",
   "metadata": {},
   "outputs": [],
   "source": [
    "b = 2"
   ]
  },
  {
   "cell_type": "code",
   "execution_count": 12,
   "id": "cec0116c-064f-4f61-bcc5-c95277232873",
   "metadata": {},
   "outputs": [
    {
     "data": {
      "text/plain": [
       "72"
      ]
     },
     "execution_count": 12,
     "metadata": {},
     "output_type": "execute_result"
    }
   ],
   "source": [
    "c[a + b]"
   ]
  },
  {
   "cell_type": "code",
   "execution_count": 13,
   "id": "18c11d9f-225e-474e-83b4-a922ed6afbd2",
   "metadata": {},
   "outputs": [],
   "source": [
    "c[4] = 17"
   ]
  },
  {
   "cell_type": "code",
   "execution_count": 14,
   "id": "bca0d4db-cc28-4084-b00d-bb32b8bce260",
   "metadata": {},
   "outputs": [
    {
     "data": {
      "text/plain": [
       "[-45, 6, 0, 72, 17]"
      ]
     },
     "execution_count": 14,
     "metadata": {},
     "output_type": "execute_result"
    }
   ],
   "source": [
    "c"
   ]
  },
  {
   "cell_type": "code",
   "execution_count": 15,
   "id": "812aa3f3-ea63-4654-a1fd-d2dce7df50db",
   "metadata": {},
   "outputs": [],
   "source": [
    "s = 'hello'"
   ]
  },
  {
   "cell_type": "code",
   "execution_count": 16,
   "id": "85a8f4b6-dd42-4729-bcb9-43fc620656e4",
   "metadata": {},
   "outputs": [
    {
     "data": {
      "text/plain": [
       "'h'"
      ]
     },
     "execution_count": 16,
     "metadata": {},
     "output_type": "execute_result"
    }
   ],
   "source": [
    "s[0]"
   ]
  },
  {
   "cell_type": "code",
   "execution_count": 18,
   "id": "1ca56b44-411d-44ed-8ed6-db4740c5f9e7",
   "metadata": {},
   "outputs": [
    {
     "ename": "TypeError",
     "evalue": "'str' object does not support item assignment",
     "output_type": "error",
     "traceback": [
      "\u001b[1;31m---------------------------------------------------------------------------\u001b[0m",
      "\u001b[1;31mTypeError\u001b[0m                                 Traceback (most recent call last)",
      "Cell \u001b[1;32mIn[18], line 1\u001b[0m\n\u001b[1;32m----> 1\u001b[0m \u001b[43ms\u001b[49m\u001b[43m[\u001b[49m\u001b[38;5;241;43m0\u001b[39;49m\u001b[43m]\u001b[49m \u001b[38;5;241m=\u001b[39m \u001b[38;5;124m'\u001b[39m\u001b[38;5;124mH\u001b[39m\u001b[38;5;124m'\u001b[39m\n",
      "\u001b[1;31mTypeError\u001b[0m: 'str' object does not support item assignment"
     ]
    }
   ],
   "source": [
    "s[0] = 'H'"
   ]
  },
  {
   "cell_type": "code",
   "execution_count": 19,
   "id": "88a52eab-7ab9-4944-8f01-877b5e675f8d",
   "metadata": {},
   "outputs": [
    {
     "data": {
      "text/plain": [
       "-39"
      ]
     },
     "execution_count": 19,
     "metadata": {},
     "output_type": "execute_result"
    }
   ],
   "source": [
    "c[0] + c[1] + c[2]"
   ]
  },
  {
   "cell_type": "code",
   "execution_count": 20,
   "id": "d9185244-bf72-41a4-b555-7f06e7de8d2a",
   "metadata": {},
   "outputs": [],
   "source": [
    "a_list = []"
   ]
  },
  {
   "cell_type": "code",
   "execution_count": 21,
   "id": "21b8e783-0a31-445d-b15e-f9ba24162c16",
   "metadata": {},
   "outputs": [],
   "source": [
    "for number in range(1,6):\n",
    "    a_list += [number]"
   ]
  },
  {
   "cell_type": "code",
   "execution_count": 22,
   "id": "5c580c22-ad42-4e61-b854-0c9a1e572814",
   "metadata": {},
   "outputs": [
    {
     "data": {
      "text/plain": [
       "[1, 2, 3, 4, 5]"
      ]
     },
     "execution_count": 22,
     "metadata": {},
     "output_type": "execute_result"
    }
   ],
   "source": [
    "a_list"
   ]
  },
  {
   "cell_type": "code",
   "execution_count": 23,
   "id": "d8dd50ff-f632-4e96-bac7-8b43d310ebb9",
   "metadata": {},
   "outputs": [],
   "source": [
    "letters = []"
   ]
  },
  {
   "cell_type": "code",
   "execution_count": 24,
   "id": "467ab11a-4c16-4d69-a375-635ca9274723",
   "metadata": {},
   "outputs": [],
   "source": [
    "letters += 'Python'"
   ]
  },
  {
   "cell_type": "code",
   "execution_count": 25,
   "id": "ee4028fa-a75b-4ade-93ce-71f7982b671d",
   "metadata": {},
   "outputs": [
    {
     "data": {
      "text/plain": [
       "['P', 'y', 't', 'h', 'o', 'n']"
      ]
     },
     "execution_count": 25,
     "metadata": {},
     "output_type": "execute_result"
    }
   ],
   "source": [
    "letters"
   ]
  },
  {
   "cell_type": "code",
   "execution_count": 26,
   "id": "3eb28353-ae1e-4b19-94c5-b6a2c6938072",
   "metadata": {},
   "outputs": [],
   "source": [
    "list1 = [10,20,30]"
   ]
  },
  {
   "cell_type": "code",
   "execution_count": 27,
   "id": "aa7aa642-4ba7-4f5f-9991-0191a6e16f80",
   "metadata": {},
   "outputs": [],
   "source": [
    "lsit2 = [40,50]"
   ]
  },
  {
   "cell_type": "code",
   "execution_count": 28,
   "id": "b6e57c5a-e63b-43da-98cc-44dea6b72038",
   "metadata": {},
   "outputs": [],
   "source": [
    "concatenated_list = list1 + lsit2"
   ]
  },
  {
   "cell_type": "code",
   "execution_count": 29,
   "id": "d8d46044-bcae-4421-88bd-822ccff152ff",
   "metadata": {},
   "outputs": [
    {
     "data": {
      "text/plain": [
       "[10, 20, 30, 40, 50]"
      ]
     },
     "execution_count": 29,
     "metadata": {},
     "output_type": "execute_result"
    }
   ],
   "source": [
    "concatenated_list"
   ]
  },
  {
   "cell_type": "code",
   "execution_count": 30,
   "id": "b63978ea-3c0e-4e42-b31f-8bbf24ab6890",
   "metadata": {},
   "outputs": [
    {
     "name": "stdout",
     "output_type": "stream",
     "text": [
      "0: 10\n",
      "1: 20\n",
      "2: 30\n",
      "3: 40\n",
      "4: 50\n"
     ]
    }
   ],
   "source": [
    "for i in range(len(concatenated_list)):\n",
    "    print(f'{i}: {concatenated_list[i]}')"
   ]
  },
  {
   "cell_type": "code",
   "execution_count": 31,
   "id": "814e633e-ac26-4652-a9ea-27d2dccb67f3",
   "metadata": {},
   "outputs": [],
   "source": [
    " a = [1,2,3]"
   ]
  },
  {
   "cell_type": "code",
   "execution_count": 32,
   "id": "bcb61060-df83-4329-bacc-e5e73d9ac7b9",
   "metadata": {},
   "outputs": [],
   "source": [
    "b = [1, 2, 3]"
   ]
  },
  {
   "cell_type": "code",
   "execution_count": 33,
   "id": "2d8c3b29-1d6d-452d-9e2f-f1fbc4c93aac",
   "metadata": {},
   "outputs": [],
   "source": [
    "c = [1, 2, 3, 4]"
   ]
  },
  {
   "cell_type": "code",
   "execution_count": 34,
   "id": "c861ce9b-653c-46e4-86a1-7bb0adc8f01a",
   "metadata": {},
   "outputs": [
    {
     "data": {
      "text/plain": [
       "True"
      ]
     },
     "execution_count": 34,
     "metadata": {},
     "output_type": "execute_result"
    }
   ],
   "source": [
    "a == b"
   ]
  },
  {
   "cell_type": "code",
   "execution_count": 35,
   "id": "98c32f8c-ec7d-4ca3-ae37-79d80a25c384",
   "metadata": {},
   "outputs": [
    {
     "ename": "NameError",
     "evalue": "name 'C' is not defined",
     "output_type": "error",
     "traceback": [
      "\u001b[1;31m---------------------------------------------------------------------------\u001b[0m",
      "\u001b[1;31mNameError\u001b[0m                                 Traceback (most recent call last)",
      "Cell \u001b[1;32mIn[35], line 1\u001b[0m\n\u001b[1;32m----> 1\u001b[0m a \u001b[38;5;241m==\u001b[39m \u001b[43mC\u001b[49m\n",
      "\u001b[1;31mNameError\u001b[0m: name 'C' is not defined"
     ]
    }
   ],
   "source": [
    "a == C"
   ]
  },
  {
   "cell_type": "code",
   "execution_count": 36,
   "id": "81deca76-81f9-47c2-93d0-33f08e0665ce",
   "metadata": {},
   "outputs": [
    {
     "data": {
      "text/plain": [
       "False"
      ]
     },
     "execution_count": 36,
     "metadata": {},
     "output_type": "execute_result"
    }
   ],
   "source": [
    "a == c"
   ]
  },
  {
   "cell_type": "code",
   "execution_count": 37,
   "id": "642a70b1-8988-4c0f-9bcb-2feab4f44a3e",
   "metadata": {},
   "outputs": [
    {
     "data": {
      "text/plain": [
       "True"
      ]
     },
     "execution_count": 37,
     "metadata": {},
     "output_type": "execute_result"
    }
   ],
   "source": [
    "a < c"
   ]
  },
  {
   "cell_type": "code",
   "execution_count": 38,
   "id": "c287a21e-354d-47f4-8859-093623c90819",
   "metadata": {},
   "outputs": [
    {
     "data": {
      "text/plain": [
       "True"
      ]
     },
     "execution_count": 38,
     "metadata": {},
     "output_type": "execute_result"
    }
   ],
   "source": [
    "c >= b"
   ]
  },
  {
   "cell_type": "code",
   "execution_count": 45,
   "id": "8ed121f4-19fc-4041-b8c3-5425f1322a2f",
   "metadata": {},
   "outputs": [],
   "source": [
    "characters = []"
   ]
  },
  {
   "cell_type": "code",
   "execution_count": 46,
   "id": "b89eda9e-d3e7-44d0-99e1-c6f3ea22fa6e",
   "metadata": {},
   "outputs": [],
   "source": [
    "characters += 'Birthday'"
   ]
  },
  {
   "cell_type": "code",
   "execution_count": 47,
   "id": "5de1038d-2d2f-482d-8498-b34bd6cea0cc",
   "metadata": {},
   "outputs": [
    {
     "data": {
      "text/plain": [
       "['B', 'i', 'r', 't', 'h', 'd', 'a', 'y']"
      ]
     },
     "execution_count": 47,
     "metadata": {},
     "output_type": "execute_result"
    }
   ],
   "source": [
    "characters"
   ]
  },
  {
   "cell_type": "code",
   "execution_count": 56,
   "id": "003224a7-eec7-4e30-b684-daa8c6f4e984",
   "metadata": {},
   "outputs": [],
   "source": [
    "def cube_list(values):\n",
    "    for i in range(len(values)):\n",
    "        values[i] **= 3"
   ]
  },
  {
   "cell_type": "code",
   "execution_count": 57,
   "id": "dc07848a-20e6-4013-9341-07901f114aaf",
   "metadata": {},
   "outputs": [],
   "source": [
    "numbers = [1,2,3,4,5,6,7,8,9,10]"
   ]
  },
  {
   "cell_type": "code",
   "execution_count": 58,
   "id": "6c97e907-4370-4339-8fdc-cd159641f203",
   "metadata": {},
   "outputs": [],
   "source": [
    "cube_list(numbers)"
   ]
  },
  {
   "cell_type": "code",
   "execution_count": 59,
   "id": "430c3b14-6691-43c6-a3f3-45ed7f48516d",
   "metadata": {},
   "outputs": [
    {
     "data": {
      "text/plain": [
       "[1, 8, 27, 64, 125, 216, 343, 512, 729, 1000]"
      ]
     },
     "execution_count": 59,
     "metadata": {},
     "output_type": "execute_result"
    }
   ],
   "source": [
    "numbers"
   ]
  },
  {
   "cell_type": "code",
   "execution_count": 60,
   "id": "29e83b6e-61d1-4c8f-9fb6-71e5ca196bf2",
   "metadata": {},
   "outputs": [],
   "source": [
    "student_tuple = ()"
   ]
  },
  {
   "cell_type": "code",
   "execution_count": 61,
   "id": "65408839-c68c-428b-8468-3095d1ba5434",
   "metadata": {},
   "outputs": [
    {
     "data": {
      "text/plain": [
       "()"
      ]
     },
     "execution_count": 61,
     "metadata": {},
     "output_type": "execute_result"
    }
   ],
   "source": [
    "student_tuple"
   ]
  },
  {
   "cell_type": "code",
   "execution_count": 62,
   "id": "833db522-eb47-4c37-af9a-946c71128df8",
   "metadata": {},
   "outputs": [],
   "source": [
    "student_tuple = ('John', 'Green', 3.3)"
   ]
  },
  {
   "cell_type": "code",
   "execution_count": 63,
   "id": "79238ba9-d121-433d-952b-e86d33685791",
   "metadata": {},
   "outputs": [
    {
     "data": {
      "text/plain": [
       "('John', 'Green', 3.3)"
      ]
     },
     "execution_count": 63,
     "metadata": {},
     "output_type": "execute_result"
    }
   ],
   "source": [
    "student_tuple"
   ]
  },
  {
   "cell_type": "code",
   "execution_count": 64,
   "id": "0532bafd-6b0c-4df6-8b0d-69b2a7290526",
   "metadata": {},
   "outputs": [
    {
     "data": {
      "text/plain": [
       "3"
      ]
     },
     "execution_count": 64,
     "metadata": {},
     "output_type": "execute_result"
    }
   ],
   "source": [
    "len(student_tuple)"
   ]
  },
  {
   "cell_type": "code",
   "execution_count": 65,
   "id": "1a556030-8f97-4699-98d1-9859e96f9cc6",
   "metadata": {},
   "outputs": [],
   "source": [
    "a_singleton_tuple = ('Red',)"
   ]
  },
  {
   "cell_type": "code",
   "execution_count": 66,
   "id": "457f8344-4337-4df7-ac0c-9f4349466e7d",
   "metadata": {},
   "outputs": [
    {
     "data": {
      "text/plain": [
       "('Red',)"
      ]
     },
     "execution_count": 66,
     "metadata": {},
     "output_type": "execute_result"
    }
   ],
   "source": [
    "a_singleton_tuple"
   ]
  },
  {
   "cell_type": "code",
   "execution_count": 67,
   "id": "214ccfaa-bae2-4389-94d4-b75644c6af8c",
   "metadata": {},
   "outputs": [],
   "source": [
    "time_tuple = (9,16,1)"
   ]
  },
  {
   "cell_type": "code",
   "execution_count": 68,
   "id": "ac267bb3-4495-47f0-a729-3216d80dc400",
   "metadata": {},
   "outputs": [
    {
     "data": {
      "text/plain": [
       "(9, 16, 1)"
      ]
     },
     "execution_count": 68,
     "metadata": {},
     "output_type": "execute_result"
    }
   ],
   "source": [
    "time_tuple"
   ]
  },
  {
   "cell_type": "code",
   "execution_count": 70,
   "id": "280eae9c-6020-4ec7-8a23-5fc391ec0fe8",
   "metadata": {},
   "outputs": [
    {
     "data": {
      "text/plain": [
       "33361"
      ]
     },
     "execution_count": 70,
     "metadata": {},
     "output_type": "execute_result"
    }
   ],
   "source": [
    "time_tuple[0]*3600+ time_tuple[1]*60 + time_tuple[2]"
   ]
  },
  {
   "cell_type": "code",
   "execution_count": 71,
   "id": "74dbfff4-a6e0-439e-978a-2ce5be5285a8",
   "metadata": {},
   "outputs": [],
   "source": [
    "tuple1 = (10, 20 , 30)"
   ]
  },
  {
   "cell_type": "code",
   "execution_count": 72,
   "id": "19d14414-221d-47c2-a032-8c56cf41fe35",
   "metadata": {},
   "outputs": [],
   "source": [
    "tuple2 = tuple1"
   ]
  },
  {
   "cell_type": "code",
   "execution_count": 73,
   "id": "9729db64-3332-4a9b-bfa1-5a5b37280d4b",
   "metadata": {},
   "outputs": [
    {
     "data": {
      "text/plain": [
       "(10, 20, 30)"
      ]
     },
     "execution_count": 73,
     "metadata": {},
     "output_type": "execute_result"
    }
   ],
   "source": [
    "tuple2"
   ]
  },
  {
   "cell_type": "code",
   "execution_count": 74,
   "id": "9a44aeb7-b94c-4b19-b043-c7fbbb99b525",
   "metadata": {},
   "outputs": [],
   "source": [
    "tuple1 += (40, 50)"
   ]
  },
  {
   "cell_type": "code",
   "execution_count": 75,
   "id": "a2581b66-87e6-4027-bdd0-0c5dd5c5d14f",
   "metadata": {},
   "outputs": [
    {
     "data": {
      "text/plain": [
       "(10, 20, 30, 40, 50)"
      ]
     },
     "execution_count": 75,
     "metadata": {},
     "output_type": "execute_result"
    }
   ],
   "source": [
    "tuple1"
   ]
  },
  {
   "cell_type": "code",
   "execution_count": 76,
   "id": "0f8fab56-670e-4b5a-b9e4-16841a759f17",
   "metadata": {},
   "outputs": [
    {
     "data": {
      "text/plain": [
       "(10, 20, 30)"
      ]
     },
     "execution_count": 76,
     "metadata": {},
     "output_type": "execute_result"
    }
   ],
   "source": [
    "tuple2"
   ]
  },
  {
   "cell_type": "code",
   "execution_count": 78,
   "id": "95548b73-b2e1-48e0-8236-b3b0b0d75d2b",
   "metadata": {},
   "outputs": [],
   "source": [
    "numbers = [1, 2, 3, 4, 5]"
   ]
  },
  {
   "cell_type": "markdown",
   "id": "488b4128-d015-472d-9ff5-ab6ab0e25da1",
   "metadata": {},
   "source": []
  },
  {
   "cell_type": "code",
   "execution_count": 79,
   "id": "5d205dcd-259c-464c-86c7-31149661aff1",
   "metadata": {},
   "outputs": [],
   "source": [
    "numbers += (6,7)"
   ]
  },
  {
   "cell_type": "code",
   "execution_count": 80,
   "id": "08dce730-f826-410f-a08d-bff5abd507b3",
   "metadata": {},
   "outputs": [
    {
     "data": {
      "text/plain": [
       "[1, 2, 3, 4, 5, 6, 7]"
      ]
     },
     "execution_count": 80,
     "metadata": {},
     "output_type": "execute_result"
    }
   ],
   "source": [
    "numbers"
   ]
  },
  {
   "cell_type": "code",
   "execution_count": 81,
   "id": "981edb50-663b-490a-b40e-6c39c0aa3faf",
   "metadata": {},
   "outputs": [],
   "source": [
    "student_tuple = ('Amanda',' Blue', [98, 75, 87])"
   ]
  },
  {
   "cell_type": "code",
   "execution_count": 82,
   "id": "b25215ee-8939-4903-92ee-1fb95c3daa51",
   "metadata": {},
   "outputs": [
    {
     "data": {
      "text/plain": [
       "('Amanda', ' Blue', [98, 75, 87])"
      ]
     },
     "execution_count": 82,
     "metadata": {},
     "output_type": "execute_result"
    }
   ],
   "source": [
    "student_tuple"
   ]
  },
  {
   "cell_type": "code",
   "execution_count": 83,
   "id": "991588b3-0cf0-4bd3-bfc2-7f01e6d6f434",
   "metadata": {},
   "outputs": [],
   "source": [
    "student_tuple[2][1] = 85"
   ]
  },
  {
   "cell_type": "code",
   "execution_count": 84,
   "id": "5745a790-b144-4b7b-baf9-dd0ef8bab2e9",
   "metadata": {},
   "outputs": [
    {
     "data": {
      "text/plain": [
       "('Amanda', ' Blue', [98, 85, 87])"
      ]
     },
     "execution_count": 84,
     "metadata": {},
     "output_type": "execute_result"
    }
   ],
   "source": [
    "student_tuple"
   ]
  },
  {
   "cell_type": "code",
   "execution_count": 85,
   "id": "d2b4f18f-b938-496c-81eb-7d32f559a628",
   "metadata": {},
   "outputs": [
    {
     "ename": "TypeError",
     "evalue": "'tuple' object does not support item assignment",
     "output_type": "error",
     "traceback": [
      "\u001b[1;31m---------------------------------------------------------------------------\u001b[0m",
      "\u001b[1;31mTypeError\u001b[0m                                 Traceback (most recent call last)",
      "Cell \u001b[1;32mIn[85], line 1\u001b[0m\n\u001b[1;32m----> 1\u001b[0m \u001b[43mstudent_tuple\u001b[49m\u001b[43m[\u001b[49m\u001b[38;5;241;43m0\u001b[39;49m\u001b[43m]\u001b[49m \u001b[38;5;241m=\u001b[39m \u001b[38;5;124m'\u001b[39m\u001b[38;5;124mTree\u001b[39m\u001b[38;5;124m'\u001b[39m\n",
      "\u001b[1;31mTypeError\u001b[0m: 'tuple' object does not support item assignment"
     ]
    }
   ],
   "source": [
    "student_tuple[0] = 'Tree'"
   ]
  },
  {
   "cell_type": "code",
   "execution_count": 86,
   "id": "e23ee802-89b3-42b3-a5e0-1a58149a3fb4",
   "metadata": {},
   "outputs": [
    {
     "data": {
      "text/plain": [
       "'Amanda'"
      ]
     },
     "execution_count": 86,
     "metadata": {},
     "output_type": "execute_result"
    }
   ],
   "source": [
    "student_tuple[0]"
   ]
  },
  {
   "cell_type": "code",
   "execution_count": 87,
   "id": "395206fa-ed1a-493a-bf38-d9ef92b55c68",
   "metadata": {},
   "outputs": [
    {
     "data": {
      "text/plain": [
       "' Blue'"
      ]
     },
     "execution_count": 87,
     "metadata": {},
     "output_type": "execute_result"
    }
   ],
   "source": [
    "student_tuple[1]"
   ]
  },
  {
   "cell_type": "code",
   "execution_count": 88,
   "id": "325522f6-5e89-4d37-8856-4a32d84801b1",
   "metadata": {},
   "outputs": [
    {
     "data": {
      "text/plain": [
       "[98, 85, 87]"
      ]
     },
     "execution_count": 88,
     "metadata": {},
     "output_type": "execute_result"
    }
   ],
   "source": [
    "student_tuple[2]"
   ]
  },
  {
   "cell_type": "code",
   "execution_count": 89,
   "id": "a940fb04-e11c-4421-84b7-06850eb2b351",
   "metadata": {},
   "outputs": [
    {
     "data": {
      "text/plain": [
       "98"
      ]
     },
     "execution_count": 89,
     "metadata": {},
     "output_type": "execute_result"
    }
   ],
   "source": [
    "student_tuple[2][0]"
   ]
  },
  {
   "cell_type": "code",
   "execution_count": 90,
   "id": "b1a6dad3-215d-4714-9f35-83c6a7f4e6b0",
   "metadata": {},
   "outputs": [],
   "source": [
    "student_tuple = ('Amanda', [98, 85, 87])"
   ]
  },
  {
   "cell_type": "code",
   "execution_count": 91,
   "id": "424d780e-ec1d-49a4-9dcc-8b0b987760a6",
   "metadata": {},
   "outputs": [],
   "source": [
    "first_name, grades = student_tuple"
   ]
  },
  {
   "cell_type": "code",
   "execution_count": 92,
   "id": "65e50135-00d9-4dbb-a932-82ef21bd1d7a",
   "metadata": {},
   "outputs": [
    {
     "data": {
      "text/plain": [
       "'Amanda'"
      ]
     },
     "execution_count": 92,
     "metadata": {},
     "output_type": "execute_result"
    }
   ],
   "source": [
    "first_name"
   ]
  },
  {
   "cell_type": "code",
   "execution_count": 93,
   "id": "2233550c-8fb3-4998-92ef-b770851f94b9",
   "metadata": {},
   "outputs": [
    {
     "data": {
      "text/plain": [
       "[98, 85, 87]"
      ]
     },
     "execution_count": 93,
     "metadata": {},
     "output_type": "execute_result"
    }
   ],
   "source": [
    "grades"
   ]
  },
  {
   "cell_type": "code",
   "execution_count": 94,
   "id": "709ea369-3b13-4c14-8615-c8170526c2c4",
   "metadata": {},
   "outputs": [],
   "source": [
    "first, second = 'hi'"
   ]
  },
  {
   "cell_type": "code",
   "execution_count": 95,
   "id": "a49b75cc-f54a-4379-9946-158eab8453df",
   "metadata": {},
   "outputs": [
    {
     "data": {
      "text/plain": [
       "'h'"
      ]
     },
     "execution_count": 95,
     "metadata": {},
     "output_type": "execute_result"
    }
   ],
   "source": [
    "first"
   ]
  },
  {
   "cell_type": "code",
   "execution_count": 96,
   "id": "0fae2ca4-0acb-4fda-8f06-c155df1e0535",
   "metadata": {},
   "outputs": [
    {
     "data": {
      "text/plain": [
       "'i'"
      ]
     },
     "execution_count": 96,
     "metadata": {},
     "output_type": "execute_result"
    }
   ],
   "source": [
    "second"
   ]
  },
  {
   "cell_type": "code",
   "execution_count": 98,
   "id": "ff995429-b51f-4296-836a-10f034f5b19a",
   "metadata": {},
   "outputs": [
    {
     "name": "stdout",
     "output_type": "stream",
     "text": [
      "h,  i\n"
     ]
    }
   ],
   "source": [
    "print(f'{first},  {second}')"
   ]
  },
  {
   "cell_type": "code",
   "execution_count": 99,
   "id": "447b9767-5ed8-4707-ba97-2cfdd418b890",
   "metadata": {},
   "outputs": [],
   "source": [
    "number1, number2, number3 = [10, 20, 30]"
   ]
  },
  {
   "cell_type": "code",
   "execution_count": 101,
   "id": "4408a558-9ea5-4422-a7db-564f31331726",
   "metadata": {},
   "outputs": [
    {
     "name": "stdout",
     "output_type": "stream",
     "text": [
      "10  20  30\n"
     ]
    }
   ],
   "source": [
    "print(f'{number1}  {number2}  {number3}')"
   ]
  },
  {
   "cell_type": "code",
   "execution_count": 102,
   "id": "d5882e6b-ac01-4524-99c1-df0ebef42739",
   "metadata": {},
   "outputs": [],
   "source": [
    "number1, number2, number3 = range(10, 40, 10)"
   ]
  },
  {
   "cell_type": "code",
   "execution_count": 104,
   "id": "32743166-4385-42f8-8b07-bee61340b2af",
   "metadata": {},
   "outputs": [
    {
     "name": "stdout",
     "output_type": "stream",
     "text": [
      "                  10  20  30\n"
     ]
    }
   ],
   "source": [
    "print(f'{number1:>20}  {number2}  {number3}')"
   ]
  },
  {
   "cell_type": "code",
   "execution_count": 105,
   "id": "f4551f66-2165-4fe9-841b-b41ee8581132",
   "metadata": {},
   "outputs": [],
   "source": [
    "number1 = 99"
   ]
  },
  {
   "cell_type": "code",
   "execution_count": 106,
   "id": "f868ab0a-b662-46cc-8167-3b934a94eb22",
   "metadata": {},
   "outputs": [],
   "source": [
    "number2 = 22"
   ]
  },
  {
   "cell_type": "code",
   "execution_count": 107,
   "id": "aff556bf-223f-41c6-953a-7d712ddb0200",
   "metadata": {},
   "outputs": [],
   "source": [
    "number1, number2 = (number2, number1)"
   ]
  },
  {
   "cell_type": "code",
   "execution_count": 109,
   "id": "e4bf08ab-9e51-4e0d-a8d6-c5ca4902510a",
   "metadata": {},
   "outputs": [
    {
     "name": "stdout",
     "output_type": "stream",
     "text": [
      "Number1: 22  NUmber2:99\n"
     ]
    }
   ],
   "source": [
    "print(f'Number1: {number1}  NUmber2:{number2}')"
   ]
  },
  {
   "cell_type": "code",
   "execution_count": 110,
   "id": "3f0648c0-104f-406d-b497-94225c91472e",
   "metadata": {},
   "outputs": [],
   "source": [
    "colors = ['red','orange','yellow']"
   ]
  },
  {
   "cell_type": "code",
   "execution_count": 111,
   "id": "9d6255bd-95ea-4a49-8e0b-a914ce2d8955",
   "metadata": {},
   "outputs": [
    {
     "data": {
      "text/plain": [
       "[(0, 'red'), (1, 'orange'), (2, 'yellow')]"
      ]
     },
     "execution_count": 111,
     "metadata": {},
     "output_type": "execute_result"
    }
   ],
   "source": [
    "list(enumerate(colors))"
   ]
  },
  {
   "cell_type": "code",
   "execution_count": 113,
   "id": "e0e2f681-3821-45c1-8fd7-f5d1c94eaa99",
   "metadata": {},
   "outputs": [
    {
     "data": {
      "text/plain": [
       "((0, 'red'), (1, 'orange'), (2, 'yellow'))"
      ]
     },
     "execution_count": 113,
     "metadata": {},
     "output_type": "execute_result"
    }
   ],
   "source": [
    "tuple(enumerate(colors))"
   ]
  },
  {
   "cell_type": "code",
   "execution_count": 114,
   "id": "a5352b21-3258-40c1-8be9-357ccdfe874f",
   "metadata": {},
   "outputs": [
    {
     "name": "stdout",
     "output_type": "stream",
     "text": [
      "0: red\n",
      "1: orange\n",
      "2: yellow\n"
     ]
    }
   ],
   "source": [
    "for index, value in enumerate(colors):\n",
    "    print(f'{index}: {value}')"
   ]
  },
  {
   "cell_type": "code",
   "execution_count": 10,
   "id": "51a1879f-7c56-4e64-aaab-3534bb8c17fb",
   "metadata": {},
   "outputs": [
    {
     "name": "stdout",
     "output_type": "stream",
     "text": [
      "@                @@@@@@@@@@       @\n",
      "@@               @@@@@@@@@        @@\n",
      "@@@              @@@@@@@@         @@@\n",
      "@@@@             @@@@@@@          @@@@\n",
      "@@@@@            @@@@@@           @@@@@\n",
      "@@@@@@           @@@@@            @@@@@@\n",
      "@@@@@@@          @@@@             @@@@@@@\n",
      "@@@@@@@@         @@@              @@@@@@@@\n",
      "@@@@@@@@@        @@               @@@@@@@@@\n",
      "@@@@@@@@@@       @                @@@@@@@@@@\n"
     ]
    }
   ],
   "source": [
    "for i in range(1,11):\n",
    "    print(f'{\"@\"*i:<15}  {\"@\"*(11-i):<15}  {\"@\"*i}')"
   ]
  },
  {
   "cell_type": "code",
   "execution_count": 11,
   "id": "7ef29355-dd7c-4253-8e55-76c1e6eea500",
   "metadata": {},
   "outputs": [],
   "source": [
    "high_low = ['MOnday', 87, 65]"
   ]
  },
  {
   "cell_type": "code",
   "execution_count": 12,
   "id": "1d05b0aa-ce18-4cdc-b440-a4db218e4ea8",
   "metadata": {},
   "outputs": [
    {
     "data": {
      "text/plain": [
       "['MOnday', 87, 65]"
      ]
     },
     "execution_count": 12,
     "metadata": {},
     "output_type": "execute_result"
    }
   ],
   "source": [
    "high_low"
   ]
  },
  {
   "cell_type": "code",
   "execution_count": 14,
   "id": "53e6d577-6192-4cc5-937f-5eb0eb42e16b",
   "metadata": {},
   "outputs": [
    {
     "name": "stdout",
     "output_type": "stream",
     "text": [
      "MOnday: High=87, Low=65\n"
     ]
    }
   ],
   "source": [
    "print(f'{high_low[0]}: High={high_low[1]}, Low={high_low[2]}')"
   ]
  },
  {
   "cell_type": "code",
   "execution_count": 16,
   "id": "23740dca-f8ce-4634-ab42-9e6b96450888",
   "metadata": {},
   "outputs": [],
   "source": [
    "day, high, low = high_low"
   ]
  },
  {
   "cell_type": "code",
   "execution_count": 17,
   "id": "f1cf8ca7-74aa-4a14-8eb4-3e1480589dfa",
   "metadata": {},
   "outputs": [
    {
     "data": {
      "text/plain": [
       "'MOnday'"
      ]
     },
     "execution_count": 17,
     "metadata": {},
     "output_type": "execute_result"
    }
   ],
   "source": [
    "day"
   ]
  },
  {
   "cell_type": "code",
   "execution_count": 18,
   "id": "34dfa69f-c6fd-4d9f-857f-b2448f9274a1",
   "metadata": {},
   "outputs": [],
   "source": [
    "names = ['Amanda','Sam','David']"
   ]
  },
  {
   "cell_type": "code",
   "execution_count": 19,
   "id": "cf87af42-93bd-4026-89f9-9519722a3e1c",
   "metadata": {},
   "outputs": [
    {
     "name": "stdout",
     "output_type": "stream",
     "text": [
      "0: Amanda\n",
      "1: Sam\n",
      "2: David\n"
     ]
    }
   ],
   "source": [
    "for i, name in enumerate(names):\n",
    "    print(f'{i}: {name}')"
   ]
  },
  {
   "cell_type": "code",
   "execution_count": 20,
   "id": "bef55495-e37f-44a7-848d-39ec5a0046ab",
   "metadata": {},
   "outputs": [],
   "source": [
    "numbers = [2,3,5,7,11,13,17,19]"
   ]
  },
  {
   "cell_type": "code",
   "execution_count": 21,
   "id": "f4fb10cd-c847-43f9-b6dc-3a92ea34fdf1",
   "metadata": {},
   "outputs": [
    {
     "data": {
      "text/plain": [
       "[5, 7, 11, 13]"
      ]
     },
     "execution_count": 21,
     "metadata": {},
     "output_type": "execute_result"
    }
   ],
   "source": [
    "numbers[2:6]"
   ]
  },
  {
   "cell_type": "code",
   "execution_count": 24,
   "id": "546eb3c0-8f5b-4fb0-aaa6-dfbf492021fe",
   "metadata": {},
   "outputs": [
    {
     "data": {
      "text/plain": [
       "[2, 3, 5, 7, 11, 13]"
      ]
     },
     "execution_count": 24,
     "metadata": {},
     "output_type": "execute_result"
    }
   ],
   "source": [
    "numbers[:6]"
   ]
  },
  {
   "cell_type": "code",
   "execution_count": 25,
   "id": "c7e6f5de-b0ff-4e41-bf0e-8a9761bfd3da",
   "metadata": {},
   "outputs": [
    {
     "data": {
      "text/plain": [
       "[2, 3, 5, 7, 11, 13]"
      ]
     },
     "execution_count": 25,
     "metadata": {},
     "output_type": "execute_result"
    }
   ],
   "source": [
    "numbers[0:6]"
   ]
  },
  {
   "cell_type": "code",
   "execution_count": 26,
   "id": "d0ba88a2-fe66-4dc6-8288-6825cb79a5ee",
   "metadata": {},
   "outputs": [
    {
     "data": {
      "text/plain": [
       "[2, 3, 5, 7, 11, 13]"
      ]
     },
     "execution_count": 26,
     "metadata": {},
     "output_type": "execute_result"
    }
   ],
   "source": [
    "numbers[:6]"
   ]
  },
  {
   "cell_type": "code",
   "execution_count": 27,
   "id": "bff7b07c-ef48-4ad3-9dca-984e23ea3b25",
   "metadata": {},
   "outputs": [
    {
     "data": {
      "text/plain": [
       "[17, 19]"
      ]
     },
     "execution_count": 27,
     "metadata": {},
     "output_type": "execute_result"
    }
   ],
   "source": [
    "numbers[6:]"
   ]
  },
  {
   "cell_type": "code",
   "execution_count": 29,
   "id": "5348f9e8-8632-41a8-b3da-10688e05a5f1",
   "metadata": {
    "scrolled": true
   },
   "outputs": [
    {
     "data": {
      "text/plain": [
       "[17, 19]"
      ]
     },
     "execution_count": 29,
     "metadata": {},
     "output_type": "execute_result"
    }
   ],
   "source": [
    "numbers[6:len(numbers)]"
   ]
  },
  {
   "cell_type": "markdown",
   "id": "20918155-13dc-4af4-baa7-bb98e5456bbe",
   "metadata": {},
   "source": []
  },
  {
   "cell_type": "code",
   "execution_count": 30,
   "id": "98f47cae-5724-417d-b0dd-1329de95c780",
   "metadata": {},
   "outputs": [
    {
     "data": {
      "text/plain": [
       "[2, 3, 5, 7, 11, 13, 17, 19]"
      ]
     },
     "execution_count": 30,
     "metadata": {},
     "output_type": "execute_result"
    }
   ],
   "source": [
    "numbers[:]"
   ]
  },
  {
   "cell_type": "code",
   "execution_count": 31,
   "id": "a9b33104-93a6-4c20-8e5f-47066403b791",
   "metadata": {},
   "outputs": [
    {
     "data": {
      "text/plain": [
       "[2, 3, 5, 7, 11, 13, 17, 19]"
      ]
     },
     "execution_count": 31,
     "metadata": {},
     "output_type": "execute_result"
    }
   ],
   "source": [
    "numbers"
   ]
  },
  {
   "cell_type": "code",
   "execution_count": 32,
   "id": "e27da9ed-996c-4f14-a6d0-ec43fef93d09",
   "metadata": {},
   "outputs": [
    {
     "data": {
      "text/plain": [
       "[2, 5, 11, 17]"
      ]
     },
     "execution_count": 32,
     "metadata": {},
     "output_type": "execute_result"
    }
   ],
   "source": [
    "numbers[::2]"
   ]
  },
  {
   "cell_type": "code",
   "execution_count": 33,
   "id": "4f10ad23-7c05-4ebd-bd71-dd8ae209be6d",
   "metadata": {},
   "outputs": [
    {
     "data": {
      "text/plain": [
       "[3, 7, 13, 19]"
      ]
     },
     "execution_count": 33,
     "metadata": {},
     "output_type": "execute_result"
    }
   ],
   "source": [
    "numbers[1::2]"
   ]
  },
  {
   "cell_type": "code",
   "execution_count": 34,
   "id": "e561232a-c8e4-46fa-ac64-d76ce0d6f677",
   "metadata": {},
   "outputs": [
    {
     "data": {
      "text/plain": [
       "[19, 17, 13, 11, 7, 5, 3, 2]"
      ]
     },
     "execution_count": 34,
     "metadata": {},
     "output_type": "execute_result"
    }
   ],
   "source": [
    "numbers[::-1]"
   ]
  },
  {
   "cell_type": "code",
   "execution_count": 35,
   "id": "a0aa5c71-cedb-4b53-a664-22b9745fd0c6",
   "metadata": {},
   "outputs": [
    {
     "data": {
      "text/plain": [
       "[19, 17, 13, 11, 7, 5, 3, 2]"
      ]
     },
     "execution_count": 35,
     "metadata": {},
     "output_type": "execute_result"
    }
   ],
   "source": [
    "numbers[-1:-9:-1]"
   ]
  },
  {
   "cell_type": "code",
   "execution_count": 38,
   "id": "f0fbd41c-67a3-449c-9c3e-294c99c7f559",
   "metadata": {},
   "outputs": [
    {
     "data": {
      "text/plain": [
       "[19, 17, 13, 11, 7, 5]"
      ]
     },
     "execution_count": 38,
     "metadata": {},
     "output_type": "execute_result"
    }
   ],
   "source": [
    "numbers[-1:-7:-1]"
   ]
  },
  {
   "cell_type": "code",
   "execution_count": 39,
   "id": "1375d8fa-eaac-479c-b8c6-eb5847b14f4b",
   "metadata": {},
   "outputs": [],
   "source": [
    "numbers[0:3] = ['two','three','five']"
   ]
  },
  {
   "cell_type": "code",
   "execution_count": 40,
   "id": "692350c9-38ff-4664-a274-2de6ff47d462",
   "metadata": {},
   "outputs": [
    {
     "data": {
      "text/plain": [
       "['two', 'three', 'five', 7, 11, 13, 17, 19]"
      ]
     },
     "execution_count": 40,
     "metadata": {},
     "output_type": "execute_result"
    }
   ],
   "source": [
    "numbers"
   ]
  },
  {
   "cell_type": "code",
   "execution_count": 41,
   "id": "31579898-7457-4130-85b0-c444c9347ead",
   "metadata": {},
   "outputs": [],
   "source": [
    "numbers[0:3] = []"
   ]
  },
  {
   "cell_type": "code",
   "execution_count": 42,
   "id": "adf08c6a-e0c2-408d-b776-50c89fd5de3c",
   "metadata": {},
   "outputs": [
    {
     "data": {
      "text/plain": [
       "[7, 11, 13, 17, 19]"
      ]
     },
     "execution_count": 42,
     "metadata": {},
     "output_type": "execute_result"
    }
   ],
   "source": [
    "numbers"
   ]
  },
  {
   "cell_type": "code",
   "execution_count": 43,
   "id": "b9207a55-85e8-4ee5-8230-167edb70d977",
   "metadata": {},
   "outputs": [],
   "source": [
    "numbers = [2,3,5,7,11,13,17,19]"
   ]
  },
  {
   "cell_type": "code",
   "execution_count": 44,
   "id": "eb2feedd-525c-4aed-b81f-d8880f898da8",
   "metadata": {},
   "outputs": [
    {
     "data": {
      "text/plain": [
       "[2, 3, 5, 7, 11, 13, 17, 19]"
      ]
     },
     "execution_count": 44,
     "metadata": {},
     "output_type": "execute_result"
    }
   ],
   "source": [
    "numbers"
   ]
  },
  {
   "cell_type": "code",
   "execution_count": 45,
   "id": "63ed91c7-2a8e-4d21-9bb0-2a163fcc99ab",
   "metadata": {},
   "outputs": [],
   "source": [
    "numbers[::2] = [100,100,100,100]"
   ]
  },
  {
   "cell_type": "code",
   "execution_count": 46,
   "id": "b6723fb9-81a7-4f9c-8597-435fc590a4a2",
   "metadata": {},
   "outputs": [
    {
     "data": {
      "text/plain": [
       "[100, 3, 100, 7, 100, 13, 100, 19]"
      ]
     },
     "execution_count": 46,
     "metadata": {},
     "output_type": "execute_result"
    }
   ],
   "source": [
    "numbers"
   ]
  },
  {
   "cell_type": "code",
   "execution_count": 47,
   "id": "06d4132c-7afe-4e3f-8000-cd5b03899f14",
   "metadata": {},
   "outputs": [
    {
     "data": {
      "text/plain": [
       "2189401173504"
      ]
     },
     "execution_count": 47,
     "metadata": {},
     "output_type": "execute_result"
    }
   ],
   "source": [
    "id(numbers)"
   ]
  },
  {
   "cell_type": "code",
   "execution_count": 48,
   "id": "a3e22db8-2fd7-4152-9791-7ba08ea2d6a6",
   "metadata": {},
   "outputs": [],
   "source": [
    "numbers[:] = []"
   ]
  },
  {
   "cell_type": "code",
   "execution_count": 49,
   "id": "4f9ad5a5-d551-4685-b13f-86d6c8a6f4c7",
   "metadata": {},
   "outputs": [
    {
     "data": {
      "text/plain": [
       "[]"
      ]
     },
     "execution_count": 49,
     "metadata": {},
     "output_type": "execute_result"
    }
   ],
   "source": [
    "numbers"
   ]
  },
  {
   "cell_type": "code",
   "execution_count": 50,
   "id": "7d1d0c63-fb3d-467a-b5e0-5f92e5946615",
   "metadata": {},
   "outputs": [
    {
     "data": {
      "text/plain": [
       "2189401173504"
      ]
     },
     "execution_count": 50,
     "metadata": {},
     "output_type": "execute_result"
    }
   ],
   "source": [
    "id(numbers)"
   ]
  },
  {
   "cell_type": "code",
   "execution_count": 51,
   "id": "46ee0067-29a1-4381-9f61-89afa2b534c3",
   "metadata": {},
   "outputs": [],
   "source": [
    "numbers = [1,2,3]"
   ]
  },
  {
   "cell_type": "code",
   "execution_count": 52,
   "id": "153f81d0-8df4-477b-8b5e-7f42fc02cc94",
   "metadata": {},
   "outputs": [
    {
     "data": {
      "text/plain": [
       "[1, 2, 3]"
      ]
     },
     "execution_count": 52,
     "metadata": {},
     "output_type": "execute_result"
    }
   ],
   "source": [
    "numbers"
   ]
  },
  {
   "cell_type": "code",
   "execution_count": 53,
   "id": "13d6beb2-98e7-4c74-a815-7d6e80cd9c6e",
   "metadata": {},
   "outputs": [
    {
     "data": {
      "text/plain": [
       "2189417600960"
      ]
     },
     "execution_count": 53,
     "metadata": {},
     "output_type": "execute_result"
    }
   ],
   "source": [
    "id(numbers)"
   ]
  },
  {
   "cell_type": "code",
   "execution_count": 70,
   "id": "cb0c0348-f8de-494f-8dcc-e908914bc36a",
   "metadata": {},
   "outputs": [],
   "source": [
    "numbers = [1,2,3,4,5,6,7,8,9,10,11,12,13,14,15]"
   ]
  },
  {
   "cell_type": "code",
   "execution_count": 71,
   "id": "11f483ec-6934-4a64-ba85-c683db2c9542",
   "metadata": {},
   "outputs": [
    {
     "data": {
      "text/plain": [
       "[2, 4, 6, 8, 10, 12, 14]"
      ]
     },
     "execution_count": 71,
     "metadata": {},
     "output_type": "execute_result"
    }
   ],
   "source": [
    "numbers[1::2]"
   ]
  },
  {
   "cell_type": "markdown",
   "id": "5c58c23e-0563-4c84-9f21-1a4b59e54274",
   "metadata": {},
   "source": []
  },
  {
   "cell_type": "code",
   "execution_count": 72,
   "id": "78cf81dd-3faf-41dd-997a-16d2220f450f",
   "metadata": {},
   "outputs": [],
   "source": [
    "numbers[5:10] = [0,0,0,0,0,0]"
   ]
  },
  {
   "cell_type": "code",
   "execution_count": 73,
   "id": "242c8577-a08f-4658-bc4f-153495019f35",
   "metadata": {},
   "outputs": [
    {
     "data": {
      "text/plain": [
       "[1, 2, 3, 4, 5, 0, 0, 0, 0, 0, 0, 11, 12, 13, 14, 15]"
      ]
     },
     "execution_count": 73,
     "metadata": {},
     "output_type": "execute_result"
    }
   ],
   "source": [
    "numbers"
   ]
  },
  {
   "cell_type": "code",
   "execution_count": 74,
   "id": "3b4fa166-3a5d-401f-8989-9f8d2645c0e8",
   "metadata": {},
   "outputs": [],
   "source": [
    "numbers[5:] = []"
   ]
  },
  {
   "cell_type": "code",
   "execution_count": 75,
   "id": "8ac0358e-0acd-4055-a61c-f25aef2042c8",
   "metadata": {},
   "outputs": [
    {
     "data": {
      "text/plain": [
       "[1, 2, 3, 4, 5]"
      ]
     },
     "execution_count": 75,
     "metadata": {},
     "output_type": "execute_result"
    }
   ],
   "source": [
    "numbers"
   ]
  },
  {
   "cell_type": "code",
   "execution_count": 76,
   "id": "6ade7ea3-2b34-4f69-a98b-e231050857bd",
   "metadata": {},
   "outputs": [],
   "source": [
    "numbers[:] = []"
   ]
  },
  {
   "cell_type": "code",
   "execution_count": 77,
   "id": "40a37470-0447-41d2-b61e-0eaefd8d3818",
   "metadata": {},
   "outputs": [
    {
     "data": {
      "text/plain": [
       "[]"
      ]
     },
     "execution_count": 77,
     "metadata": {},
     "output_type": "execute_result"
    }
   ],
   "source": [
    "numbers"
   ]
  },
  {
   "cell_type": "code",
   "execution_count": 78,
   "id": "a2a05155-e000-467e-a1e1-e5996de2e53d",
   "metadata": {},
   "outputs": [],
   "source": [
    "numbers = list(range(0,10))"
   ]
  },
  {
   "cell_type": "code",
   "execution_count": 79,
   "id": "358eb53f-6075-48e3-8b23-66b1efe027a7",
   "metadata": {},
   "outputs": [
    {
     "ename": "NameError",
     "evalue": "name 'numebrs' is not defined",
     "output_type": "error",
     "traceback": [
      "\u001b[1;31m---------------------------------------------------------------------------\u001b[0m",
      "\u001b[1;31mNameError\u001b[0m                                 Traceback (most recent call last)",
      "Cell \u001b[1;32mIn[79], line 1\u001b[0m\n\u001b[1;32m----> 1\u001b[0m \u001b[43mnumebrs\u001b[49m\n",
      "\u001b[1;31mNameError\u001b[0m: name 'numebrs' is not defined"
     ]
    }
   ],
   "source": [
    "numebrs"
   ]
  },
  {
   "cell_type": "code",
   "execution_count": 80,
   "id": "907a43aa-a7e9-47e5-a087-a52874d51ba1",
   "metadata": {},
   "outputs": [
    {
     "data": {
      "text/plain": [
       "[0, 1, 2, 3, 4, 5, 6, 7, 8, 9]"
      ]
     },
     "execution_count": 80,
     "metadata": {},
     "output_type": "execute_result"
    }
   ],
   "source": [
    "numbers"
   ]
  },
  {
   "cell_type": "code",
   "execution_count": 81,
   "id": "7877de93-32c4-4b6d-9627-eabbb713fc4d",
   "metadata": {},
   "outputs": [],
   "source": [
    "del numbers[-1]"
   ]
  },
  {
   "cell_type": "code",
   "execution_count": 82,
   "id": "774a35a9-0b0a-4b2c-aede-ca4980da4685",
   "metadata": {},
   "outputs": [
    {
     "data": {
      "text/plain": [
       "[0, 1, 2, 3, 4, 5, 6, 7, 8]"
      ]
     },
     "execution_count": 82,
     "metadata": {},
     "output_type": "execute_result"
    }
   ],
   "source": [
    "numbers"
   ]
  },
  {
   "cell_type": "code",
   "execution_count": 83,
   "id": "8f625f12-8a39-4ad8-bb4b-20554e838a9c",
   "metadata": {},
   "outputs": [],
   "source": [
    "del numbers[0:2]"
   ]
  },
  {
   "cell_type": "code",
   "execution_count": 84,
   "id": "a1d1ee75-23a8-449b-a9b6-75c8e038e461",
   "metadata": {},
   "outputs": [
    {
     "data": {
      "text/plain": [
       "[2, 3, 4, 5, 6, 7, 8]"
      ]
     },
     "execution_count": 84,
     "metadata": {},
     "output_type": "execute_result"
    }
   ],
   "source": [
    "numbers"
   ]
  },
  {
   "cell_type": "code",
   "execution_count": 85,
   "id": "9fab10a5-d31f-41a1-ab56-184047e54a02",
   "metadata": {},
   "outputs": [],
   "source": [
    "del numbers[1::2]"
   ]
  },
  {
   "cell_type": "code",
   "execution_count": 86,
   "id": "b205b4e8-e97a-415c-93c4-b9fbc19d45f1",
   "metadata": {},
   "outputs": [
    {
     "data": {
      "text/plain": [
       "[2, 4, 6, 8]"
      ]
     },
     "execution_count": 86,
     "metadata": {},
     "output_type": "execute_result"
    }
   ],
   "source": [
    "numbers"
   ]
  },
  {
   "cell_type": "code",
   "execution_count": 87,
   "id": "6cc0200e-26e1-4220-a404-f491bde1d4e4",
   "metadata": {},
   "outputs": [
    {
     "ename": "SyntaxError",
     "evalue": "closing parenthesis ']' does not match opening parenthesis '{' (1097185632.py, line 1)",
     "output_type": "error",
     "traceback": [
      "\u001b[1;36m  Cell \u001b[1;32mIn[87], line 1\u001b[1;36m\u001b[0m\n\u001b[1;33m    del numbers{:]\u001b[0m\n\u001b[1;37m                 ^\u001b[0m\n\u001b[1;31mSyntaxError\u001b[0m\u001b[1;31m:\u001b[0m closing parenthesis ']' does not match opening parenthesis '{'\n"
     ]
    }
   ],
   "source": [
    "del numbers{:]"
   ]
  },
  {
   "cell_type": "code",
   "execution_count": 88,
   "id": "bb3ebe7d-b498-4e09-8db0-62f58a1005c8",
   "metadata": {},
   "outputs": [],
   "source": [
    "del numbers[:]"
   ]
  },
  {
   "cell_type": "code",
   "execution_count": 89,
   "id": "44466356-78f6-4dcd-895b-709b4c850c54",
   "metadata": {},
   "outputs": [
    {
     "data": {
      "text/plain": [
       "[]"
      ]
     },
     "execution_count": 89,
     "metadata": {},
     "output_type": "execute_result"
    }
   ],
   "source": [
    "numbers"
   ]
  },
  {
   "cell_type": "code",
   "execution_count": 90,
   "id": "0df4bfc3-84ab-4b55-ba38-01bda8642fb6",
   "metadata": {},
   "outputs": [],
   "source": [
    "del numbers"
   ]
  },
  {
   "cell_type": "code",
   "execution_count": 91,
   "id": "f3b9ea34-325a-4ada-99be-beb27d801073",
   "metadata": {},
   "outputs": [
    {
     "ename": "NameError",
     "evalue": "name 'numbers' is not defined",
     "output_type": "error",
     "traceback": [
      "\u001b[1;31m---------------------------------------------------------------------------\u001b[0m",
      "\u001b[1;31mNameError\u001b[0m                                 Traceback (most recent call last)",
      "Cell \u001b[1;32mIn[91], line 1\u001b[0m\n\u001b[1;32m----> 1\u001b[0m \u001b[43mnumbers\u001b[49m\n",
      "\u001b[1;31mNameError\u001b[0m: name 'numbers' is not defined"
     ]
    }
   ],
   "source": [
    "numbers"
   ]
  },
  {
   "cell_type": "code",
   "execution_count": 92,
   "id": "8a443627-100b-4570-8bde-fbba5d7908a1",
   "metadata": {},
   "outputs": [],
   "source": [
    "numbers = [1,2,3,4,5,6,7,8,9,10,11,12,13,14,15]"
   ]
  },
  {
   "cell_type": "code",
   "execution_count": 93,
   "id": "2bf86fec-2e5e-4acb-ac7c-a3bcac279f5c",
   "metadata": {},
   "outputs": [
    {
     "data": {
      "text/plain": [
       "[1, 2, 3, 4, 5, 6, 7, 8, 9, 10, 11, 12, 13, 14, 15]"
      ]
     },
     "execution_count": 93,
     "metadata": {},
     "output_type": "execute_result"
    }
   ],
   "source": [
    "numbers"
   ]
  },
  {
   "cell_type": "code",
   "execution_count": 94,
   "id": "8aa803b8-5283-45fc-8faf-9daecd01b6a3",
   "metadata": {},
   "outputs": [],
   "source": [
    "del numbers[0:4]"
   ]
  },
  {
   "cell_type": "code",
   "execution_count": 95,
   "id": "7fadc033-f398-4fca-9c76-ed2e3e33410f",
   "metadata": {},
   "outputs": [
    {
     "data": {
      "text/plain": [
       "[5, 6, 7, 8, 9, 10, 11, 12, 13, 14, 15]"
      ]
     },
     "execution_count": 95,
     "metadata": {},
     "output_type": "execute_result"
    }
   ],
   "source": [
    "numbers"
   ]
  },
  {
   "cell_type": "code",
   "execution_count": 96,
   "id": "afd2a657-5d83-422c-87b3-3dc3a302a1e7",
   "metadata": {},
   "outputs": [],
   "source": [
    "del numbers[::2]"
   ]
  },
  {
   "cell_type": "code",
   "execution_count": 97,
   "id": "4036d142-fad9-4396-a26e-ed2c1b8668ea",
   "metadata": {},
   "outputs": [
    {
     "data": {
      "text/plain": [
       "[6, 8, 10, 12, 14]"
      ]
     },
     "execution_count": 97,
     "metadata": {},
     "output_type": "execute_result"
    }
   ],
   "source": [
    "numbers"
   ]
  },
  {
   "cell_type": "code",
   "execution_count": 100,
   "id": "e6be32cb-e3b4-4628-84ac-31e1e90afdde",
   "metadata": {},
   "outputs": [],
   "source": [
    "def modify_elements(items):\n",
    "    for i in range(len(items)):\n",
    "        items[i] *= 2"
   ]
  },
  {
   "cell_type": "code",
   "execution_count": 101,
   "id": "54302db4-e3f7-4a9d-8426-a63edb2c8f21",
   "metadata": {},
   "outputs": [],
   "source": [
    "numbers = [10, 3, 7, 1, 9]"
   ]
  },
  {
   "cell_type": "code",
   "execution_count": 102,
   "id": "30481d34-24bb-470b-b40f-23f2a1b6d03b",
   "metadata": {},
   "outputs": [],
   "source": [
    "modify_elements(numbers)"
   ]
  },
  {
   "cell_type": "code",
   "execution_count": 103,
   "id": "22b9b3b3-054d-4d3e-a700-36f6fe798dc3",
   "metadata": {},
   "outputs": [
    {
     "data": {
      "text/plain": [
       "[20, 6, 14, 2, 18]"
      ]
     },
     "execution_count": 103,
     "metadata": {},
     "output_type": "execute_result"
    }
   ],
   "source": [
    "numbers"
   ]
  },
  {
   "cell_type": "code",
   "execution_count": 104,
   "id": "8388e763-327e-4b4e-be45-15cedf3542e4",
   "metadata": {},
   "outputs": [],
   "source": [
    "numbers_tuple = (10,20,30)"
   ]
  },
  {
   "cell_type": "code",
   "execution_count": 105,
   "id": "19085dc4-02e4-441b-b8a4-33afde7db6be",
   "metadata": {},
   "outputs": [
    {
     "ename": "TypeError",
     "evalue": "'tuple' object does not support item assignment",
     "output_type": "error",
     "traceback": [
      "\u001b[1;31m---------------------------------------------------------------------------\u001b[0m",
      "\u001b[1;31mTypeError\u001b[0m                                 Traceback (most recent call last)",
      "Cell \u001b[1;32mIn[105], line 1\u001b[0m\n\u001b[1;32m----> 1\u001b[0m \u001b[43mmodify_elements\u001b[49m\u001b[43m(\u001b[49m\u001b[43mnumbers_tuple\u001b[49m\u001b[43m)\u001b[49m\n",
      "Cell \u001b[1;32mIn[100], line 3\u001b[0m, in \u001b[0;36mmodify_elements\u001b[1;34m(items)\u001b[0m\n\u001b[0;32m      1\u001b[0m \u001b[38;5;28;01mdef\u001b[39;00m \u001b[38;5;21mmodify_elements\u001b[39m(items):\n\u001b[0;32m      2\u001b[0m     \u001b[38;5;28;01mfor\u001b[39;00m i \u001b[38;5;129;01min\u001b[39;00m \u001b[38;5;28mrange\u001b[39m(\u001b[38;5;28mlen\u001b[39m(items)):\n\u001b[1;32m----> 3\u001b[0m         \u001b[43mitems\u001b[49m\u001b[43m[\u001b[49m\u001b[43mi\u001b[49m\u001b[43m]\u001b[49m \u001b[38;5;241m*\u001b[39m\u001b[38;5;241m=\u001b[39m \u001b[38;5;241m2\u001b[39m\n",
      "\u001b[1;31mTypeError\u001b[0m: 'tuple' object does not support item assignment"
     ]
    }
   ],
   "source": [
    "modify_elements(numbers_tuple)"
   ]
  },
  {
   "cell_type": "code",
   "execution_count": 106,
   "id": "1a8e9118-54f1-4e33-b021-bec443442a20",
   "metadata": {},
   "outputs": [],
   "source": [
    "numbers = [10, 3, 7, 1, 9, 4, 2, 8, 5, 6]"
   ]
  },
  {
   "cell_type": "code",
   "execution_count": 107,
   "id": "c0a290e2-aee3-4c6e-8634-0d1f7d2d66a1",
   "metadata": {},
   "outputs": [],
   "source": [
    "numbers.sort()"
   ]
  },
  {
   "cell_type": "code",
   "execution_count": 108,
   "id": "d4f3c02e-ff9e-4e90-be6a-8d96021c80ba",
   "metadata": {},
   "outputs": [
    {
     "data": {
      "text/plain": [
       "[1, 2, 3, 4, 5, 6, 7, 8, 9, 10]"
      ]
     },
     "execution_count": 108,
     "metadata": {},
     "output_type": "execute_result"
    }
   ],
   "source": [
    "numbers"
   ]
  },
  {
   "cell_type": "code",
   "execution_count": 109,
   "id": "67a0afdc-fb76-4bf5-b6c3-a73a43d1b32e",
   "metadata": {},
   "outputs": [],
   "source": [
    "numbers.sort(reverse = True)"
   ]
  },
  {
   "cell_type": "code",
   "execution_count": 110,
   "id": "022c53c4-88e4-4a3d-92df-559fa73a43d6",
   "metadata": {},
   "outputs": [
    {
     "data": {
      "text/plain": [
       "[10, 9, 8, 7, 6, 5, 4, 3, 2, 1]"
      ]
     },
     "execution_count": 110,
     "metadata": {},
     "output_type": "execute_result"
    }
   ],
   "source": [
    "numbers"
   ]
  },
  {
   "cell_type": "code",
   "execution_count": 111,
   "id": "8e7d9433-7bb7-4d41-acc2-f1538a07708e",
   "metadata": {},
   "outputs": [],
   "source": [
    "numbers = [10, 3, 7, 1, 9, 4, 2, 8, 5, 6]"
   ]
  },
  {
   "cell_type": "code",
   "execution_count": 112,
   "id": "6a1046cb-d53e-48b3-aab2-d0be2920abd7",
   "metadata": {},
   "outputs": [],
   "source": [
    "ascending_numbers = sorted(numbers)"
   ]
  },
  {
   "cell_type": "code",
   "execution_count": 113,
   "id": "dbbd6813-bf5c-498a-a611-4b09c2aee5ce",
   "metadata": {},
   "outputs": [
    {
     "data": {
      "text/plain": [
       "[1, 2, 3, 4, 5, 6, 7, 8, 9, 10]"
      ]
     },
     "execution_count": 113,
     "metadata": {},
     "output_type": "execute_result"
    }
   ],
   "source": [
    "ascending_numbers"
   ]
  },
  {
   "cell_type": "code",
   "execution_count": 114,
   "id": "91af90e4-68cd-4fbf-aa79-11ea755c775c",
   "metadata": {},
   "outputs": [
    {
     "data": {
      "text/plain": [
       "[10, 3, 7, 1, 9, 4, 2, 8, 5, 6]"
      ]
     },
     "execution_count": 114,
     "metadata": {},
     "output_type": "execute_result"
    }
   ],
   "source": [
    "numbers"
   ]
  },
  {
   "cell_type": "code",
   "execution_count": 115,
   "id": "34a7a287-9d5c-4ee3-b90e-a34fcf14e336",
   "metadata": {},
   "outputs": [
    {
     "data": {
      "text/plain": [
       "\u001b[1;31mSignature:\u001b[0m \u001b[0msorted\u001b[0m\u001b[1;33m(\u001b[0m\u001b[0miterable\u001b[0m\u001b[1;33m,\u001b[0m \u001b[1;33m/\u001b[0m\u001b[1;33m,\u001b[0m \u001b[1;33m*\u001b[0m\u001b[1;33m,\u001b[0m \u001b[0mkey\u001b[0m\u001b[1;33m=\u001b[0m\u001b[1;32mNone\u001b[0m\u001b[1;33m,\u001b[0m \u001b[0mreverse\u001b[0m\u001b[1;33m=\u001b[0m\u001b[1;32mFalse\u001b[0m\u001b[1;33m)\u001b[0m\u001b[1;33m\u001b[0m\u001b[1;33m\u001b[0m\u001b[0m\n",
       "\u001b[1;31mDocstring:\u001b[0m\n",
       "Return a new list containing all items from the iterable in ascending order.\n",
       "\n",
       "A custom key function can be supplied to customize the sort order, and the\n",
       "reverse flag can be set to request the result in descending order.\n",
       "\u001b[1;31mType:\u001b[0m      builtin_function_or_method"
      ]
     },
     "metadata": {},
     "output_type": "display_data"
    }
   ],
   "source": [
    "sorted?"
   ]
  },
  {
   "cell_type": "code",
   "execution_count": 122,
   "id": "3c0d0f67-51ad-431f-81fd-ef10337b9a94",
   "metadata": {},
   "outputs": [],
   "source": [
    "descending_numbers = sorted(numbers,reverse = True)"
   ]
  },
  {
   "cell_type": "code",
   "execution_count": 123,
   "id": "62f81f17-6aa9-401a-b8f1-9aa481d579a6",
   "metadata": {},
   "outputs": [
    {
     "data": {
      "text/plain": [
       "[10, 9, 8, 7, 6, 5, 4, 3, 2, 1]"
      ]
     },
     "execution_count": 123,
     "metadata": {},
     "output_type": "execute_result"
    }
   ],
   "source": [
    "descending_numbers"
   ]
  },
  {
   "cell_type": "code",
   "execution_count": 124,
   "id": "861d442c-2b65-42c6-9966-e03442db68fb",
   "metadata": {},
   "outputs": [],
   "source": [
    "letters = 'fadgchjebi'"
   ]
  },
  {
   "cell_type": "code",
   "execution_count": 125,
   "id": "97ec4e1f-1c75-4cb8-85f7-65654c3fec75",
   "metadata": {},
   "outputs": [],
   "source": [
    "ascending_letters = sorted(letters)"
   ]
  },
  {
   "cell_type": "code",
   "execution_count": 126,
   "id": "dc2284f2-0806-4896-bad5-9224227229ac",
   "metadata": {},
   "outputs": [
    {
     "data": {
      "text/plain": [
       "['a', 'b', 'c', 'd', 'e', 'f', 'g', 'h', 'i', 'j']"
      ]
     },
     "execution_count": 126,
     "metadata": {},
     "output_type": "execute_result"
    }
   ],
   "source": [
    "ascending_letters"
   ]
  },
  {
   "cell_type": "code",
   "execution_count": 127,
   "id": "b7231764-fe1c-4b03-b87f-5cc0e9b796c2",
   "metadata": {},
   "outputs": [
    {
     "data": {
      "text/plain": [
       "'fadgchjebi'"
      ]
     },
     "execution_count": 127,
     "metadata": {},
     "output_type": "execute_result"
    }
   ],
   "source": [
    "letters"
   ]
  },
  {
   "cell_type": "code",
   "execution_count": 128,
   "id": "e54fe482-b28d-4366-9312-951e47ac022b",
   "metadata": {},
   "outputs": [],
   "source": [
    "colors = ('red','orange','yellow', 'green', 'blue')"
   ]
  },
  {
   "cell_type": "code",
   "execution_count": 129,
   "id": "64ba4ed2-7719-4da9-a914-fa7f95ffbcbc",
   "metadata": {},
   "outputs": [],
   "source": [
    "ascending_colors = sorted(colors)"
   ]
  },
  {
   "cell_type": "code",
   "execution_count": 130,
   "id": "1054f1ef-17da-4035-bfac-a929f09fb85b",
   "metadata": {},
   "outputs": [
    {
     "data": {
      "text/plain": [
       "['blue', 'green', 'orange', 'red', 'yellow']"
      ]
     },
     "execution_count": 130,
     "metadata": {},
     "output_type": "execute_result"
    }
   ],
   "source": [
    "ascending_colors"
   ]
  },
  {
   "cell_type": "code",
   "execution_count": 131,
   "id": "4af98f11-22c9-4a5d-a665-6a138e9cb680",
   "metadata": {},
   "outputs": [
    {
     "data": {
      "text/plain": [
       "('red', 'orange', 'yellow', 'green', 'blue')"
      ]
     },
     "execution_count": 131,
     "metadata": {},
     "output_type": "execute_result"
    }
   ],
   "source": [
    "colors"
   ]
  },
  {
   "cell_type": "code",
   "execution_count": 132,
   "id": "2267142b-28f2-4aa8-995b-e95c6d5b4ff5",
   "metadata": {},
   "outputs": [],
   "source": [
    "foods = ['Cookies','pizza','Grapes','apples','steak','Bacon']"
   ]
  },
  {
   "cell_type": "code",
   "execution_count": 142,
   "id": "423923ce-7ee8-4abe-9844-7300e1881a32",
   "metadata": {},
   "outputs": [
    {
     "data": {
      "text/plain": [
       "<function list.sort(*, key=None, reverse=False)>"
      ]
     },
     "execution_count": 142,
     "metadata": {},
     "output_type": "execute_result"
    }
   ],
   "source": [
    "foods.sort"
   ]
  },
  {
   "cell_type": "code",
   "execution_count": 143,
   "id": "6eddb2c5-0272-459e-80c1-692426a21447",
   "metadata": {},
   "outputs": [
    {
     "data": {
      "text/plain": [
       "['Bacon', 'Cookies', 'Grapes', 'apples', 'pizza', 'steak']"
      ]
     },
     "execution_count": 143,
     "metadata": {},
     "output_type": "execute_result"
    }
   ],
   "source": [
    "foods"
   ]
  },
  {
   "cell_type": "code",
   "execution_count": 148,
   "id": "02c9b20d-042c-4794-9a61-e04dded3d032",
   "metadata": {},
   "outputs": [
    {
     "ename": "ValueError",
     "evalue": "3 is not in list",
     "output_type": "error",
     "traceback": [
      "\u001b[1;31m---------------------------------------------------------------------------\u001b[0m",
      "\u001b[1;31mValueError\u001b[0m                                Traceback (most recent call last)",
      "Cell \u001b[1;32mIn[148], line 1\u001b[0m\n\u001b[1;32m----> 1\u001b[0m \u001b[43mfoods\u001b[49m\u001b[38;5;241;43m.\u001b[39;49m\u001b[43mindex\u001b[49m\u001b[43m(\u001b[49m\u001b[38;5;241;43m3\u001b[39;49m\u001b[43m)\u001b[49m\n",
      "\u001b[1;31mValueError\u001b[0m: 3 is not in list"
     ]
    }
   ],
   "source": [
    "foods.index(3)"
   ]
  },
  {
   "cell_type": "code",
   "execution_count": 149,
   "id": "8dc5bd96-4547-42f6-b958-23ed1454318e",
   "metadata": {},
   "outputs": [],
   "source": [
    "numbers = [3, 7, 1, 4, 2, 8, 5, 6]"
   ]
  },
  {
   "cell_type": "code",
   "execution_count": 150,
   "id": "1b0715fb-504c-4990-ab0c-670ca9926df9",
   "metadata": {},
   "outputs": [
    {
     "data": {
      "text/plain": [
       "3"
      ]
     },
     "execution_count": 150,
     "metadata": {},
     "output_type": "execute_result"
    }
   ],
   "source": [
    "numbers.index(4)"
   ]
  },
  {
   "cell_type": "code",
   "execution_count": 151,
   "id": "e20868da-ada4-4da5-8cad-070881119e86",
   "metadata": {},
   "outputs": [
    {
     "data": {
      "text/plain": [
       "0"
      ]
     },
     "execution_count": 151,
     "metadata": {},
     "output_type": "execute_result"
    }
   ],
   "source": [
    "numbers.index(3)"
   ]
  },
  {
   "cell_type": "code",
   "execution_count": 153,
   "id": "584b5e2f-385d-475c-9825-2b375b934cd2",
   "metadata": {},
   "outputs": [],
   "source": [
    " numbers *= 2"
   ]
  },
  {
   "cell_type": "code",
   "execution_count": 154,
   "id": "13981222-a1c8-4158-98f8-b0a621d6fccd",
   "metadata": {},
   "outputs": [
    {
     "data": {
      "text/plain": [
       "[3, 7, 1, 4, 2, 8, 5, 6, 3, 7, 1, 4, 2, 8, 5, 6]"
      ]
     },
     "execution_count": 154,
     "metadata": {},
     "output_type": "execute_result"
    }
   ],
   "source": [
    "numbers"
   ]
  },
  {
   "cell_type": "code",
   "execution_count": 155,
   "id": "383f5a19-e446-40bf-b88a-ad327b7191a8",
   "metadata": {},
   "outputs": [
    {
     "data": {
      "text/plain": [
       "\u001b[1;31mSignature:\u001b[0m \u001b[0mnumbers\u001b[0m\u001b[1;33m.\u001b[0m\u001b[0mindex\u001b[0m\u001b[1;33m(\u001b[0m\u001b[0mvalue\u001b[0m\u001b[1;33m,\u001b[0m \u001b[0mstart\u001b[0m\u001b[1;33m=\u001b[0m\u001b[1;36m0\u001b[0m\u001b[1;33m,\u001b[0m \u001b[0mstop\u001b[0m\u001b[1;33m=\u001b[0m\u001b[1;36m9223372036854775807\u001b[0m\u001b[1;33m,\u001b[0m \u001b[1;33m/\u001b[0m\u001b[1;33m)\u001b[0m\u001b[1;33m\u001b[0m\u001b[1;33m\u001b[0m\u001b[0m\n",
       "\u001b[1;31mDocstring:\u001b[0m\n",
       "Return first index of value.\n",
       "\n",
       "Raises ValueError if the value is not present.\n",
       "\u001b[1;31mType:\u001b[0m      builtin_function_or_method"
      ]
     },
     "metadata": {},
     "output_type": "display_data"
    }
   ],
   "source": [
    "numbers.index?"
   ]
  },
  {
   "cell_type": "code",
   "execution_count": 159,
   "id": "77f17e17-ba2f-4aa8-b2bf-4f21e46a2b32",
   "metadata": {},
   "outputs": [
    {
     "data": {
      "text/plain": [
       "8"
      ]
     },
     "execution_count": 159,
     "metadata": {},
     "output_type": "execute_result"
    }
   ],
   "source": [
    "numbers.index(3,1)"
   ]
  },
  {
   "cell_type": "code",
   "execution_count": 160,
   "id": "1d912ef3-1da9-47b7-a259-6bdce24344ae",
   "metadata": {},
   "outputs": [
    {
     "data": {
      "text/plain": [
       "1"
      ]
     },
     "execution_count": 160,
     "metadata": {},
     "output_type": "execute_result"
    }
   ],
   "source": [
    "numbers.index(7,0,4)"
   ]
  },
  {
   "cell_type": "code",
   "execution_count": 161,
   "id": "2748482d-f488-457b-8c55-9dbe451cc740",
   "metadata": {},
   "outputs": [
    {
     "data": {
      "text/plain": [
       "False"
      ]
     },
     "execution_count": 161,
     "metadata": {},
     "output_type": "execute_result"
    }
   ],
   "source": [
    "1000 in numbers"
   ]
  },
  {
   "cell_type": "code",
   "execution_count": 162,
   "id": "39b725da-a7db-44da-ac70-b6043a1abf13",
   "metadata": {},
   "outputs": [
    {
     "data": {
      "text/plain": [
       "True"
      ]
     },
     "execution_count": 162,
     "metadata": {},
     "output_type": "execute_result"
    }
   ],
   "source": [
    "5 in numbers"
   ]
  },
  {
   "cell_type": "code",
   "execution_count": 163,
   "id": "9e07f668-cfa6-4077-acf5-30c29010c289",
   "metadata": {},
   "outputs": [
    {
     "data": {
      "text/plain": [
       "True"
      ]
     },
     "execution_count": 163,
     "metadata": {},
     "output_type": "execute_result"
    }
   ],
   "source": [
    "1000 not in numbers"
   ]
  },
  {
   "cell_type": "code",
   "execution_count": 164,
   "id": "29d5f31e-e0d9-407f-868c-f2bf834ea496",
   "metadata": {},
   "outputs": [
    {
     "data": {
      "text/plain": [
       "False"
      ]
     },
     "execution_count": 164,
     "metadata": {},
     "output_type": "execute_result"
    }
   ],
   "source": [
    "5 not in numbers"
   ]
  },
  {
   "cell_type": "code",
   "execution_count": 169,
   "id": "3e63f4c3-4ea2-44f5-88a0-7630f06cbb66",
   "metadata": {},
   "outputs": [],
   "source": [
    "key = 5"
   ]
  },
  {
   "cell_type": "code",
   "execution_count": 170,
   "id": "83e98b6b-b2ac-4a25-9f76-145770f84c7d",
   "metadata": {},
   "outputs": [
    {
     "name": "stdout",
     "output_type": "stream",
     "text": [
      "found5 at index 6\n"
     ]
    }
   ],
   "source": [
    "if key in numbers:\n",
    "    print(f'found{key} at index {numbers.index(key)}')\n",
    "else:\n",
    "    print(f'{key} not found')"
   ]
  },
  {
   "cell_type": "code",
   "execution_count": 172,
   "id": "645a5937-a8af-46be-816b-b3da210beb0c",
   "metadata": {},
   "outputs": [],
   "source": [
    "color_names = ['orange', 'yellow', 'green']"
   ]
  },
  {
   "cell_type": "code",
   "execution_count": 173,
   "id": "0c5146ef-37e6-41a4-bed4-25ae34544254",
   "metadata": {},
   "outputs": [],
   "source": [
    "color_names.insert(0, 'red')"
   ]
  },
  {
   "cell_type": "code",
   "execution_count": 174,
   "id": "6ee729a2-aeb1-4179-a119-bc3513ea647b",
   "metadata": {},
   "outputs": [
    {
     "data": {
      "text/plain": [
       "['red', 'orange', 'yellow', 'green']"
      ]
     },
     "execution_count": 174,
     "metadata": {},
     "output_type": "execute_result"
    }
   ],
   "source": [
    "color_names"
   ]
  },
  {
   "cell_type": "code",
   "execution_count": 175,
   "id": "4dfd31ce-df4b-44c7-b4a4-22cc0bed0de2",
   "metadata": {},
   "outputs": [],
   "source": [
    "color_names.append('blue')"
   ]
  },
  {
   "cell_type": "code",
   "execution_count": 176,
   "id": "9318edc4-d439-4c91-b3fe-9a741f472ac2",
   "metadata": {},
   "outputs": [
    {
     "data": {
      "text/plain": [
       "['red', 'orange', 'yellow', 'green', 'blue']"
      ]
     },
     "execution_count": 176,
     "metadata": {},
     "output_type": "execute_result"
    }
   ],
   "source": [
    "color_names"
   ]
  },
  {
   "cell_type": "code",
   "execution_count": 177,
   "id": "af3bdac1-b153-4939-959a-95bb827e75e3",
   "metadata": {},
   "outputs": [],
   "source": [
    "color_names.extend(['indigo','violet'])"
   ]
  },
  {
   "cell_type": "code",
   "execution_count": 178,
   "id": "2b86d466-8e4b-4133-b45f-e09b679e5c4f",
   "metadata": {},
   "outputs": [
    {
     "data": {
      "text/plain": [
       "['red', 'orange', 'yellow', 'green', 'blue', 'indigo', 'violet']"
      ]
     },
     "execution_count": 178,
     "metadata": {},
     "output_type": "execute_result"
    }
   ],
   "source": [
    "color_names"
   ]
  },
  {
   "cell_type": "code",
   "execution_count": 179,
   "id": "2ea301aa-2f92-412e-8d37-85796f854b63",
   "metadata": {},
   "outputs": [],
   "source": [
    "sample_list = []"
   ]
  },
  {
   "cell_type": "code",
   "execution_count": 180,
   "id": "7afdb7bc-ae82-4d17-bd9d-d8fdad2d50e0",
   "metadata": {},
   "outputs": [],
   "source": [
    "s = 'abc'"
   ]
  },
  {
   "cell_type": "code",
   "execution_count": 181,
   "id": "376e8e69-b156-497f-92af-faa7a579a664",
   "metadata": {},
   "outputs": [],
   "source": [
    "sample_list.extend(s)"
   ]
  },
  {
   "cell_type": "code",
   "execution_count": 182,
   "id": "a51cddee-9f0f-4c09-93a9-929d6fa0c439",
   "metadata": {},
   "outputs": [
    {
     "data": {
      "text/plain": [
       "['a', 'b', 'c']"
      ]
     },
     "execution_count": 182,
     "metadata": {},
     "output_type": "execute_result"
    }
   ],
   "source": [
    "sample_list"
   ]
  },
  {
   "cell_type": "code",
   "execution_count": 183,
   "id": "45b7f0df-8ed1-498a-a3d1-cad7bf9b09c5",
   "metadata": {},
   "outputs": [],
   "source": [
    "t = (1,2,3)"
   ]
  },
  {
   "cell_type": "code",
   "execution_count": 184,
   "id": "ccb8d85a-03c8-4a8a-8fc6-c41590cb8ca2",
   "metadata": {},
   "outputs": [],
   "source": [
    "sample_list.extend(t)"
   ]
  },
  {
   "cell_type": "code",
   "execution_count": 185,
   "id": "dd079e52-d956-4bcf-a331-585d27f5a5ea",
   "metadata": {},
   "outputs": [
    {
     "data": {
      "text/plain": [
       "['a', 'b', 'c', 1, 2, 3]"
      ]
     },
     "execution_count": 185,
     "metadata": {},
     "output_type": "execute_result"
    }
   ],
   "source": [
    "sample_list"
   ]
  },
  {
   "cell_type": "code",
   "execution_count": 187,
   "id": "677ed3d5-3154-4929-be76-60b9d03e4871",
   "metadata": {},
   "outputs": [],
   "source": [
    "sample_list.extend((4,5,6))"
   ]
  },
  {
   "cell_type": "code",
   "execution_count": 188,
   "id": "c854ed04-62d4-454d-87cb-e4bcc9dc15ad",
   "metadata": {},
   "outputs": [
    {
     "data": {
      "text/plain": [
       "['a', 'b', 'c', 1, 2, 3, 4, 5, 6]"
      ]
     },
     "execution_count": 188,
     "metadata": {},
     "output_type": "execute_result"
    }
   ],
   "source": [
    "sample_list"
   ]
  },
  {
   "cell_type": "code",
   "execution_count": 189,
   "id": "f3ae2868-9fad-42dc-a574-6c7747a2b679",
   "metadata": {},
   "outputs": [],
   "source": [
    "color_names.remove('green')"
   ]
  },
  {
   "cell_type": "code",
   "execution_count": 190,
   "id": "c3605d50-2092-4704-bc85-7fb87b8fb6a8",
   "metadata": {},
   "outputs": [
    {
     "data": {
      "text/plain": [
       "['red', 'orange', 'yellow', 'blue', 'indigo', 'violet']"
      ]
     },
     "execution_count": 190,
     "metadata": {},
     "output_type": "execute_result"
    }
   ],
   "source": [
    "color_names"
   ]
  },
  {
   "cell_type": "code",
   "execution_count": 192,
   "id": "bfacb51a-9db8-48bb-9c0d-61ddc69b6ead",
   "metadata": {},
   "outputs": [],
   "source": [
    "color_names.clear()"
   ]
  },
  {
   "cell_type": "code",
   "execution_count": 193,
   "id": "4b42ea53-9dd4-4a78-baf1-9a2de33041b3",
   "metadata": {},
   "outputs": [
    {
     "data": {
      "text/plain": [
       "[]"
      ]
     },
     "execution_count": 193,
     "metadata": {},
     "output_type": "execute_result"
    }
   ],
   "source": [
    "color_names"
   ]
  },
  {
   "cell_type": "code",
   "execution_count": 194,
   "id": "7cf94a2b-90c0-46cd-a0b4-996d4350f716",
   "metadata": {},
   "outputs": [],
   "source": [
    "respones = [1,2,5,4,3,5,2,1,3,3,\n",
    "            1,4,3,3,3,2,3,3,2,2]"
   ]
  },
  {
   "cell_type": "code",
   "execution_count": 197,
   "id": "3de6375f-904d-41b5-88fc-d2fd3562d22b",
   "metadata": {},
   "outputs": [
    {
     "name": "stdout",
     "output_type": "stream",
     "text": [
      "1 appears 3 times in responses\n",
      "2 appears 5 times in responses\n",
      "3 appears 8 times in responses\n",
      "4 appears 2 times in responses\n",
      "5 appears 2 times in responses\n"
     ]
    }
   ],
   "source": [
    "for i in range(1, 6):\n",
    "    print(f'{i} appears {respones.count(i)} times in responses')"
   ]
  },
  {
   "cell_type": "code",
   "execution_count": 198,
   "id": "aae1c6a7-e46f-42f8-8b8d-2c52637095d0",
   "metadata": {},
   "outputs": [],
   "source": [
    "color_names.reverse()"
   ]
  },
  {
   "cell_type": "code",
   "execution_count": 199,
   "id": "fe936610-2355-4b1a-9e68-a74fa0558521",
   "metadata": {},
   "outputs": [
    {
     "data": {
      "text/plain": [
       "[]"
      ]
     },
     "execution_count": 199,
     "metadata": {},
     "output_type": "execute_result"
    }
   ],
   "source": [
    "color_names"
   ]
  },
  {
   "cell_type": "code",
   "execution_count": 200,
   "id": "2de3243f-4751-441f-b5d8-ee48eaed1062",
   "metadata": {},
   "outputs": [],
   "source": [
    "color_names = ['red', 'orange','yellow','green','blue']"
   ]
  },
  {
   "cell_type": "code",
   "execution_count": 201,
   "id": "21328683-7499-4c18-ad7a-db3dccf4d8de",
   "metadata": {},
   "outputs": [],
   "source": [
    "color_names.reverse()"
   ]
  },
  {
   "cell_type": "code",
   "execution_count": 202,
   "id": "1a30bd1e-89f4-4736-a59e-b2b6923e15e0",
   "metadata": {},
   "outputs": [
    {
     "data": {
      "text/plain": [
       "['blue', 'green', 'yellow', 'orange', 'red']"
      ]
     },
     "execution_count": 202,
     "metadata": {},
     "output_type": "execute_result"
    }
   ],
   "source": [
    "color_names"
   ]
  },
  {
   "cell_type": "code",
   "execution_count": 203,
   "id": "22f42779-035c-4d1c-b8ee-b1d69dd0838c",
   "metadata": {},
   "outputs": [],
   "source": [
    "copied_list = color_names.copy()"
   ]
  },
  {
   "cell_type": "code",
   "execution_count": 204,
   "id": "00cd684f-de3a-499d-b7f4-5906e7739578",
   "metadata": {},
   "outputs": [
    {
     "data": {
      "text/plain": [
       "['blue', 'green', 'yellow', 'orange', 'red']"
      ]
     },
     "execution_count": 204,
     "metadata": {},
     "output_type": "execute_result"
    }
   ],
   "source": [
    "copied_list"
   ]
  },
  {
   "cell_type": "code",
   "execution_count": 205,
   "id": "26f3acbd-7491-4c7c-86e7-9edd6563ad18",
   "metadata": {},
   "outputs": [],
   "source": [
    "copied_list2 = copied_list[:]"
   ]
  },
  {
   "cell_type": "code",
   "execution_count": 206,
   "id": "009d8317-892e-4367-87cd-3e515d11e60e",
   "metadata": {},
   "outputs": [
    {
     "data": {
      "text/plain": [
       "['blue', 'green', 'yellow', 'orange', 'red']"
      ]
     },
     "execution_count": 206,
     "metadata": {},
     "output_type": "execute_result"
    }
   ],
   "source": [
    "copied_list2"
   ]
  },
  {
   "cell_type": "code",
   "execution_count": 207,
   "id": "3763e7fc-b817-4f76-b03f-ce258279dfd5",
   "metadata": {},
   "outputs": [],
   "source": [
    "colors = ['green','orange','violet']"
   ]
  },
  {
   "cell_type": "code",
   "execution_count": 208,
   "id": "d7af9b5c-1346-480b-84fa-10aa6dd34a23",
   "metadata": {},
   "outputs": [],
   "source": [
    "colors.insert(colors.index('violet'), 'red')"
   ]
  },
  {
   "cell_type": "code",
   "execution_count": 209,
   "id": "64207f8a-77b1-4636-acec-c19137693b1c",
   "metadata": {},
   "outputs": [
    {
     "data": {
      "text/plain": [
       "['green', 'orange', 'red', 'violet']"
      ]
     },
     "execution_count": 209,
     "metadata": {},
     "output_type": "execute_result"
    }
   ],
   "source": [
    "colors"
   ]
  },
  {
   "cell_type": "code",
   "execution_count": 210,
   "id": "c27d94fb-3df0-40d3-9720-cc9d6643a485",
   "metadata": {},
   "outputs": [],
   "source": [
    "colors.append('yellow')"
   ]
  },
  {
   "cell_type": "code",
   "execution_count": 211,
   "id": "7423b252-fd38-45e7-ad05-a2810401502a",
   "metadata": {},
   "outputs": [
    {
     "data": {
      "text/plain": [
       "['green', 'orange', 'red', 'violet', 'yellow']"
      ]
     },
     "execution_count": 211,
     "metadata": {},
     "output_type": "execute_result"
    }
   ],
   "source": [
    "colors"
   ]
  },
  {
   "cell_type": "code",
   "execution_count": 212,
   "id": "3ebed504-5108-4687-9e68-b6153ecf6397",
   "metadata": {},
   "outputs": [],
   "source": [
    "colors.reverse()"
   ]
  },
  {
   "cell_type": "code",
   "execution_count": 213,
   "id": "6c0fde58-9713-4198-a658-61f8bcd5fbc4",
   "metadata": {},
   "outputs": [
    {
     "data": {
      "text/plain": [
       "['yellow', 'violet', 'red', 'orange', 'green']"
      ]
     },
     "execution_count": 213,
     "metadata": {},
     "output_type": "execute_result"
    }
   ],
   "source": [
    "colors"
   ]
  },
  {
   "cell_type": "code",
   "execution_count": 214,
   "id": "4c651213-d584-42c7-8f8b-8befcd423e46",
   "metadata": {},
   "outputs": [],
   "source": [
    "colors.remove('orange')"
   ]
  },
  {
   "cell_type": "code",
   "execution_count": 215,
   "id": "c1d70555-06c1-4bb7-b43c-eb3861a94b2a",
   "metadata": {},
   "outputs": [
    {
     "data": {
      "text/plain": [
       "['yellow', 'violet', 'red', 'green']"
      ]
     },
     "execution_count": 215,
     "metadata": {},
     "output_type": "execute_result"
    }
   ],
   "source": [
    "colors"
   ]
  },
  {
   "cell_type": "code",
   "execution_count": 216,
   "id": "c10fa3b2-e2a9-46e7-afca-0201896b465b",
   "metadata": {},
   "outputs": [],
   "source": [
    "stack = []"
   ]
  },
  {
   "cell_type": "code",
   "execution_count": 217,
   "id": "2438783c-ff3d-4402-937c-73066d2b0bc5",
   "metadata": {},
   "outputs": [],
   "source": [
    "stack.append('red')"
   ]
  },
  {
   "cell_type": "code",
   "execution_count": 218,
   "id": "ba6e1eb4-6366-4a8a-8cba-c76b006f4522",
   "metadata": {},
   "outputs": [
    {
     "data": {
      "text/plain": [
       "['red']"
      ]
     },
     "execution_count": 218,
     "metadata": {},
     "output_type": "execute_result"
    }
   ],
   "source": [
    "stack"
   ]
  },
  {
   "cell_type": "code",
   "execution_count": 219,
   "id": "08e48731-18e8-462e-9ce0-4d02e7dd4d1e",
   "metadata": {},
   "outputs": [],
   "source": [
    "stack.append('green')"
   ]
  },
  {
   "cell_type": "code",
   "execution_count": 220,
   "id": "a285c7d3-7b88-4eb5-b3a1-fcfa669b9a20",
   "metadata": {},
   "outputs": [
    {
     "data": {
      "text/plain": [
       "['red', 'green']"
      ]
     },
     "execution_count": 220,
     "metadata": {},
     "output_type": "execute_result"
    }
   ],
   "source": [
    "stack"
   ]
  },
  {
   "cell_type": "code",
   "execution_count": 221,
   "id": "4558a349-709a-4b02-b55f-80d9ca60a8a2",
   "metadata": {},
   "outputs": [
    {
     "data": {
      "text/plain": [
       "'green'"
      ]
     },
     "execution_count": 221,
     "metadata": {},
     "output_type": "execute_result"
    }
   ],
   "source": [
    "stack.pop()"
   ]
  },
  {
   "cell_type": "code",
   "execution_count": 222,
   "id": "f7274231-839f-4d48-9244-99aa22ed5b56",
   "metadata": {},
   "outputs": [
    {
     "data": {
      "text/plain": [
       "['red']"
      ]
     },
     "execution_count": 222,
     "metadata": {},
     "output_type": "execute_result"
    }
   ],
   "source": [
    "stack"
   ]
  },
  {
   "cell_type": "code",
   "execution_count": 223,
   "id": "601bab67-3f38-495d-a883-a8503a13bd6f",
   "metadata": {},
   "outputs": [
    {
     "data": {
      "text/plain": [
       "'red'"
      ]
     },
     "execution_count": 223,
     "metadata": {},
     "output_type": "execute_result"
    }
   ],
   "source": [
    "stack.pop()"
   ]
  },
  {
   "cell_type": "code",
   "execution_count": 224,
   "id": "5d445231-2a56-41b8-a738-c0d6dab28774",
   "metadata": {},
   "outputs": [
    {
     "data": {
      "text/plain": [
       "[]"
      ]
     },
     "execution_count": 224,
     "metadata": {},
     "output_type": "execute_result"
    }
   ],
   "source": [
    "stack"
   ]
  },
  {
   "cell_type": "code",
   "execution_count": 225,
   "id": "c019838d-fd50-4a3e-b327-40324932d08c",
   "metadata": {},
   "outputs": [
    {
     "ename": "IndexError",
     "evalue": "pop from empty list",
     "output_type": "error",
     "traceback": [
      "\u001b[1;31m---------------------------------------------------------------------------\u001b[0m",
      "\u001b[1;31mIndexError\u001b[0m                                Traceback (most recent call last)",
      "Cell \u001b[1;32mIn[225], line 1\u001b[0m\n\u001b[1;32m----> 1\u001b[0m \u001b[43mstack\u001b[49m\u001b[38;5;241;43m.\u001b[39;49m\u001b[43mpop\u001b[49m\u001b[43m(\u001b[49m\u001b[43m)\u001b[49m\n",
      "\u001b[1;31mIndexError\u001b[0m: pop from empty list"
     ]
    }
   ],
   "source": [
    "stack.pop()"
   ]
  },
  {
   "cell_type": "code",
   "execution_count": 226,
   "id": "8861c986-d975-48dd-bb27-e1911b565e6a",
   "metadata": {},
   "outputs": [],
   "source": [
    "list1 = []"
   ]
  },
  {
   "cell_type": "code",
   "execution_count": 227,
   "id": "31f8abed-d4a7-4976-bdc1-c3fde414bb24",
   "metadata": {},
   "outputs": [],
   "source": [
    "for item in range(1, 6):\n",
    "    list1.append(item)"
   ]
  },
  {
   "cell_type": "code",
   "execution_count": 228,
   "id": "8596cec6-48e9-4b6e-8d23-549092af1feb",
   "metadata": {},
   "outputs": [
    {
     "data": {
      "text/plain": [
       "[1, 2, 3, 4, 5]"
      ]
     },
     "execution_count": 228,
     "metadata": {},
     "output_type": "execute_result"
    }
   ],
   "source": [
    "list1"
   ]
  },
  {
   "cell_type": "code",
   "execution_count": 229,
   "id": "1c7c055f-d8be-4019-b90e-f04ad8a89af4",
   "metadata": {},
   "outputs": [],
   "source": [
    "list2 = [item for item in range(1, 6)]"
   ]
  },
  {
   "cell_type": "code",
   "execution_count": 230,
   "id": "74c6ef76-aac5-4388-a281-969e52a4c7ae",
   "metadata": {},
   "outputs": [
    {
     "data": {
      "text/plain": [
       "[1, 2, 3, 4, 5]"
      ]
     },
     "execution_count": 230,
     "metadata": {},
     "output_type": "execute_result"
    }
   ],
   "source": [
    "list2"
   ]
  },
  {
   "cell_type": "code",
   "execution_count": 231,
   "id": "f828957b-7375-4ef2-a372-4b28d6969a6e",
   "metadata": {},
   "outputs": [],
   "source": [
    "list2 = list(range(1, 6))"
   ]
  },
  {
   "cell_type": "code",
   "execution_count": 232,
   "id": "2da6bceb-e7fe-4d98-aed8-a82454654c6f",
   "metadata": {},
   "outputs": [
    {
     "data": {
      "text/plain": [
       "[1, 2, 3, 4, 5]"
      ]
     },
     "execution_count": 232,
     "metadata": {},
     "output_type": "execute_result"
    }
   ],
   "source": [
    "list2"
   ]
  },
  {
   "cell_type": "code",
   "execution_count": 233,
   "id": "efe09fbf-7d59-4426-a37d-8849b09fd346",
   "metadata": {},
   "outputs": [],
   "source": [
    "list3 = [item ** 3 for item in range(1, 6)]"
   ]
  },
  {
   "cell_type": "code",
   "execution_count": 234,
   "id": "c21de814-08bc-4f8a-a893-0d7865955848",
   "metadata": {},
   "outputs": [
    {
     "data": {
      "text/plain": [
       "[1, 8, 27, 64, 125]"
      ]
     },
     "execution_count": 234,
     "metadata": {},
     "output_type": "execute_result"
    }
   ],
   "source": [
    "list3"
   ]
  },
  {
   "cell_type": "code",
   "execution_count": 235,
   "id": "aff4c220-1d6b-4205-9279-5fd98d3b5e27",
   "metadata": {},
   "outputs": [],
   "source": [
    "list4 = [item for item in range(1, 11) if item % 2 == 0]"
   ]
  },
  {
   "cell_type": "code",
   "execution_count": 236,
   "id": "b4f51d0d-aa0a-4f41-9642-44d4033634e6",
   "metadata": {},
   "outputs": [
    {
     "data": {
      "text/plain": [
       "[2, 4, 6, 8, 10]"
      ]
     },
     "execution_count": 236,
     "metadata": {},
     "output_type": "execute_result"
    }
   ],
   "source": [
    "list4"
   ]
  },
  {
   "cell_type": "code",
   "execution_count": 243,
   "id": "cedf0b56-b010-49a5-93bc-0636bcf2cde3",
   "metadata": {},
   "outputs": [],
   "source": [
    "colors = ['red', 'orange', 'yellow', 'green', 'blue']"
   ]
  },
  {
   "cell_type": "code",
   "execution_count": 244,
   "id": "ec210ca4-b844-4d71-aa98-893da21c1c68",
   "metadata": {},
   "outputs": [
    {
     "data": {
      "text/plain": [
       "['red', 'orange', 'yellow', 'green', 'blue']"
      ]
     },
     "execution_count": 244,
     "metadata": {},
     "output_type": "execute_result"
    }
   ],
   "source": [
    "colors"
   ]
  },
  {
   "cell_type": "code",
   "execution_count": 245,
   "id": "ee2731ed-a145-45a1-909b-3c041d7210bd",
   "metadata": {},
   "outputs": [],
   "source": [
    "colors2 = [item.upper() for item in colors]"
   ]
  },
  {
   "cell_type": "code",
   "execution_count": 246,
   "id": "870caa0f-f30e-4a53-9337-1cec79615b88",
   "metadata": {},
   "outputs": [
    {
     "data": {
      "text/plain": [
       "['RED', 'ORANGE', 'YELLOW', 'GREEN', 'BLUE']"
      ]
     },
     "execution_count": 246,
     "metadata": {},
     "output_type": "execute_result"
    }
   ],
   "source": [
    "colors2"
   ]
  },
  {
   "cell_type": "code",
   "execution_count": 247,
   "id": "23e44377-7dec-4d69-a1b2-5b70fd2a136d",
   "metadata": {},
   "outputs": [
    {
     "data": {
      "text/plain": [
       "['red', 'orange', 'yellow', 'green', 'blue']"
      ]
     },
     "execution_count": 247,
     "metadata": {},
     "output_type": "execute_result"
    }
   ],
   "source": [
    "colors"
   ]
  },
  {
   "cell_type": "code",
   "execution_count": 248,
   "id": "78ca1841-94a1-4822-bd95-8a61e7f4024d",
   "metadata": {},
   "outputs": [],
   "source": [
    "cubes = [(x, x ** 3) for x in range(1, 6)]"
   ]
  },
  {
   "cell_type": "code",
   "execution_count": 249,
   "id": "acf2ace7-5711-4123-adbf-0c65dbede2f9",
   "metadata": {},
   "outputs": [
    {
     "data": {
      "text/plain": [
       "[(1, 1), (2, 8), (3, 27), (4, 64), (5, 125)]"
      ]
     },
     "execution_count": 249,
     "metadata": {},
     "output_type": "execute_result"
    }
   ],
   "source": [
    "cubes"
   ]
  },
  {
   "cell_type": "code",
   "execution_count": 250,
   "id": "7216f9d1-7b2a-44f6-a477-fd3159ae2522",
   "metadata": {},
   "outputs": [],
   "source": [
    "multiples = [x for x in range(3, 30, 3)]"
   ]
  },
  {
   "cell_type": "code",
   "execution_count": 251,
   "id": "a7dea29b-93f8-48de-b30a-5c05dd62ffcf",
   "metadata": {},
   "outputs": [
    {
     "data": {
      "text/plain": [
       "[3, 6, 9, 12, 15, 18, 21, 24, 27]"
      ]
     },
     "execution_count": 251,
     "metadata": {},
     "output_type": "execute_result"
    }
   ],
   "source": [
    "multiples"
   ]
  },
  {
   "cell_type": "code",
   "execution_count": 252,
   "id": "4352e1d0-20fe-4f1c-8d94-055a54544e69",
   "metadata": {},
   "outputs": [],
   "source": [
    "numbers = [10, 3, 7, 1, 9, 4, 2, 8, 5, 6]"
   ]
  },
  {
   "cell_type": "code",
   "execution_count": 256,
   "id": "6e62b72a-c016-4cd3-b733-b9d3c2476b13",
   "metadata": {},
   "outputs": [
    {
     "name": "stdout",
     "output_type": "stream",
     "text": [
      "9 49 1 81 25 "
     ]
    }
   ],
   "source": [
    "for value in (x ** 2 for x in numbers if x % 2 != 0):\n",
    "    print(value, end=' ')"
   ]
  },
  {
   "cell_type": "code",
   "execution_count": 258,
   "id": "a9d5d70d-ef9c-4b6d-8fdd-def44d7ca6c6",
   "metadata": {},
   "outputs": [],
   "source": [
    "squares_of_odds = (x ** 2 for x in numbers if x % 2 !=0)"
   ]
  },
  {
   "cell_type": "code",
   "execution_count": 261,
   "id": "3ede6583-4073-4905-92e1-64f0cf9ce950",
   "metadata": {},
   "outputs": [
    {
     "data": {
      "text/plain": [
       "<generator object <genexpr> at 0x000001FDC3A45150>"
      ]
     },
     "execution_count": 261,
     "metadata": {},
     "output_type": "execute_result"
    }
   ],
   "source": [
    "squares_of_odds"
   ]
  },
  {
   "cell_type": "code",
   "execution_count": 262,
   "id": "6b2a2604-2c96-48f3-aa7c-d9f58c13d9c7",
   "metadata": {},
   "outputs": [],
   "source": [
    "numbers = [10, 3, 7, 1, 9, 4, 2]"
   ]
  },
  {
   "cell_type": "code",
   "execution_count": 267,
   "id": "b92ef193-588a-4802-ab92-1a799170641c",
   "metadata": {},
   "outputs": [
    {
     "name": "stdout",
     "output_type": "stream",
     "text": [
      "1000 64 8 "
     ]
    }
   ],
   "source": [
    "for value in (x ** 3 for x in numbers if x % 2 == 0):\n",
    "    print(value, end= ' ')"
   ]
  },
  {
   "cell_type": "code",
   "execution_count": 273,
   "id": "2f94e5b5-8143-470c-b083-52f3e2a85acf",
   "metadata": {},
   "outputs": [],
   "source": [
    "numbers = [10, 3, 7, 1, 9, 4, 2, 8, 5, 6]"
   ]
  },
  {
   "cell_type": "code",
   "execution_count": 274,
   "id": "3051b519-5993-4bcf-b8af-fb43fc3c7369",
   "metadata": {},
   "outputs": [],
   "source": [
    "def is_odd(x):\n",
    "    \"\"\"Returns True only if x is odd.\"\"\"\n",
    "    return x%2 != 0"
   ]
  },
  {
   "cell_type": "code",
   "execution_count": 276,
   "id": "44996a4a-52fd-4574-97f4-ce0caab3dc12",
   "metadata": {},
   "outputs": [
    {
     "data": {
      "text/plain": [
       "[3, 7, 1, 9, 5]"
      ]
     },
     "execution_count": 276,
     "metadata": {},
     "output_type": "execute_result"
    }
   ],
   "source": [
    "list(filter(is_odd, numbers))"
   ]
  },
  {
   "cell_type": "code",
   "execution_count": 277,
   "id": "0c621baf-b4c9-4c88-8d85-6614137dec92",
   "metadata": {},
   "outputs": [
    {
     "data": {
      "text/plain": [
       "[3, 7, 1, 9, 5]"
      ]
     },
     "execution_count": 277,
     "metadata": {},
     "output_type": "execute_result"
    }
   ],
   "source": [
    "[item for item in numbers if is_odd(item)]nu"
   ]
  },
  {
   "cell_type": "code",
   "execution_count": 279,
   "id": "ea34b66e-fc23-4140-b7a2-2ed7722289f1",
   "metadata": {},
   "outputs": [
    {
     "data": {
      "text/plain": [
       "[3, 7, 1, 9, 5]"
      ]
     },
     "execution_count": 279,
     "metadata": {},
     "output_type": "execute_result"
    }
   ],
   "source": [
    "list(filter(lambda x: x % 2 != 0, numbers))"
   ]
  },
  {
   "cell_type": "code",
   "execution_count": 280,
   "id": "a5c43799-6ae7-43fe-a6c8-20344f89bf74",
   "metadata": {},
   "outputs": [
    {
     "data": {
      "text/plain": [
       "\u001b[1;31mInit signature:\u001b[0m \u001b[0mfilter\u001b[0m\u001b[1;33m(\u001b[0m\u001b[0mself\u001b[0m\u001b[1;33m,\u001b[0m \u001b[1;33m/\u001b[0m\u001b[1;33m,\u001b[0m \u001b[1;33m*\u001b[0m\u001b[0margs\u001b[0m\u001b[1;33m,\u001b[0m \u001b[1;33m**\u001b[0m\u001b[0mkwargs\u001b[0m\u001b[1;33m)\u001b[0m\u001b[1;33m\u001b[0m\u001b[1;33m\u001b[0m\u001b[0m\n",
       "\u001b[1;31mDocstring:\u001b[0m     \n",
       "filter(function or None, iterable) --> filter object\n",
       "\n",
       "Return an iterator yielding those items of iterable for which function(item)\n",
       "is true. If function is None, return the items that are true.\n",
       "\u001b[1;31mType:\u001b[0m           type\n",
       "\u001b[1;31mSubclasses:\u001b[0m     "
      ]
     },
     "metadata": {},
     "output_type": "display_data"
    }
   ],
   "source": [
    "filter?"
   ]
  },
  {
   "cell_type": "code",
   "execution_count": 281,
   "id": "6e006cda-1883-449a-93be-ad2b513ad739",
   "metadata": {},
   "outputs": [],
   "source": [
    "numbers = [10, 3, 7, 1, 9, 4, 2, 8, 5, 6]"
   ]
  },
  {
   "cell_type": "code",
   "execution_count": 283,
   "id": "6802193b-634b-402f-b9c2-3439d7deaaa6",
   "metadata": {},
   "outputs": [
    {
     "data": {
      "text/plain": [
       "[100, 9, 49, 1, 81, 16, 4, 64, 25, 36]"
      ]
     },
     "execution_count": 283,
     "metadata": {},
     "output_type": "execute_result"
    }
   ],
   "source": [
    "list(map(lambda x: x ** 2, numbers))"
   ]
  },
  {
   "cell_type": "code",
   "execution_count": 284,
   "id": "d8e8824d-8300-48f6-8eab-d60a63759c9a",
   "metadata": {},
   "outputs": [
    {
     "data": {
      "text/plain": [
       "[100, 9, 49, 1, 81, 16, 4, 64, 25, 36]"
      ]
     },
     "execution_count": 284,
     "metadata": {},
     "output_type": "execute_result"
    }
   ],
   "source": [
    "[item ** 2 for item in numbers]"
   ]
  },
  {
   "cell_type": "code",
   "execution_count": 285,
   "id": "a21152d7-185e-4ccc-9a74-16552259f920",
   "metadata": {},
   "outputs": [
    {
     "data": {
      "text/plain": [
       "[9, 49, 1, 81, 25]"
      ]
     },
     "execution_count": 285,
     "metadata": {},
     "output_type": "execute_result"
    }
   ],
   "source": [
    "list(map(lambda x: x ** 2,\n",
    "         filter(lambda x: x % 2 != 0, numbers)))"
   ]
  },
  {
   "cell_type": "code",
   "execution_count": 286,
   "id": "cafcf17e-97d7-42ed-a05b-7c5d32f9738c",
   "metadata": {},
   "outputs": [
    {
     "data": {
      "text/plain": [
       "[9, 49, 1, 81, 25]"
      ]
     },
     "execution_count": 286,
     "metadata": {},
     "output_type": "execute_result"
    }
   ],
   "source": [
    "[x ** 2 for x in numbers if x % 2 != 0]"
   ]
  },
  {
   "cell_type": "code",
   "execution_count": 288,
   "id": "8b5cfb08-bf81-4dcb-9f5a-38c277777e61",
   "metadata": {},
   "outputs": [],
   "source": [
    "numbers = list(range(1,16))"
   ]
  },
  {
   "cell_type": "code",
   "execution_count": 289,
   "id": "18fd4ca4-f33b-4bb8-97bc-e411a44f7843",
   "metadata": {},
   "outputs": [
    {
     "data": {
      "text/plain": [
       "[1, 2, 3, 4, 5, 6, 7, 8, 9, 10, 11, 12, 13, 14, 15]"
      ]
     },
     "execution_count": 289,
     "metadata": {},
     "output_type": "execute_result"
    }
   ],
   "source": [
    "numbers"
   ]
  },
  {
   "cell_type": "code",
   "execution_count": 292,
   "id": "3c47566a-810c-441a-aad7-73d9efed378c",
   "metadata": {},
   "outputs": [
    {
     "data": {
      "text/plain": [
       "[1, 3, 5, 7, 9, 11, 13, 15]"
      ]
     },
     "execution_count": 292,
     "metadata": {},
     "output_type": "execute_result"
    }
   ],
   "source": [
    "list(filter(lambda x: x % 2 !=0, numbers))"
   ]
  },
  {
   "cell_type": "code",
   "execution_count": 293,
   "id": "dd090496-ed15-4606-a8b3-996954ef4429",
   "metadata": {},
   "outputs": [
    {
     "data": {
      "text/plain": [
       "[1, 4, 9, 16, 25, 36, 49, 64, 81, 100, 121, 144, 169, 196, 225]"
      ]
     },
     "execution_count": 293,
     "metadata": {},
     "output_type": "execute_result"
    }
   ],
   "source": [
    "list(map(lambda x: x**2, numbers))"
   ]
  },
  {
   "cell_type": "code",
   "execution_count": 296,
   "id": "e239bfc0-cb82-47e0-8eca-7bc3f3316a37",
   "metadata": {},
   "outputs": [
    {
     "data": {
      "text/plain": [
       "[4, 16, 36, 64, 100, 144, 196]"
      ]
     },
     "execution_count": 296,
     "metadata": {},
     "output_type": "execute_result"
    }
   ],
   "source": [
    "list(map(lambda x: x**2, filter(lambda x: x%2 == 0, numbers)))"
   ]
  },
  {
   "cell_type": "code",
   "execution_count": 301,
   "id": "1d6dadd6-fca4-4c22-bb00-9127700c758e",
   "metadata": {},
   "outputs": [],
   "source": [
    "ftemp = [41, 32, 212]\n",
    "    "
   ]
  },
  {
   "cell_type": "code",
   "execution_count": 302,
   "id": "8dc97a8e-7d56-4ee8-83de-dc4029b46e3a",
   "metadata": {},
   "outputs": [
    {
     "data": {
      "text/plain": [
       "[(41, 5.0), (32, 0.0), (212, 100.0)]"
      ]
     },
     "execution_count": 302,
     "metadata": {},
     "output_type": "execute_result"
    }
   ],
   "source": [
    "list(map(lambda x: (x, (x-32)*(5/9)), ftemp))"
   ]
  },
  {
   "cell_type": "code",
   "execution_count": 303,
   "id": "cc97964a-d25c-4ea1-a186-cc4865c630ed",
   "metadata": {},
   "outputs": [
    {
     "data": {
      "text/plain": [
       "True"
      ]
     },
     "execution_count": 303,
     "metadata": {},
     "output_type": "execute_result"
    }
   ],
   "source": [
    "'Red' > 'Blue'"
   ]
  },
  {
   "cell_type": "code",
   "execution_count": 304,
   "id": "c03e06e1-f657-4791-809b-81b4c1872b52",
   "metadata": {},
   "outputs": [
    {
     "data": {
      "text/plain": [
       "True"
      ]
     },
     "execution_count": 304,
     "metadata": {},
     "output_type": "execute_result"
    }
   ],
   "source": [
    "'Red' < 'orange'"
   ]
  },
  {
   "cell_type": "code",
   "execution_count": 305,
   "id": "4593a7ce-fcbd-49db-98bc-a5d24c6f3d75",
   "metadata": {},
   "outputs": [
    {
     "data": {
      "text/plain": [
       "82"
      ]
     },
     "execution_count": 305,
     "metadata": {},
     "output_type": "execute_result"
    }
   ],
   "source": [
    "ord('R')"
   ]
  },
  {
   "cell_type": "code",
   "execution_count": 306,
   "id": "c107232d-68de-4be9-b4a6-0b38148544c3",
   "metadata": {},
   "outputs": [
    {
     "data": {
      "text/plain": [
       "\u001b[1;31mSignature:\u001b[0m \u001b[0mord\u001b[0m\u001b[1;33m(\u001b[0m\u001b[0mc\u001b[0m\u001b[1;33m,\u001b[0m \u001b[1;33m/\u001b[0m\u001b[1;33m)\u001b[0m\u001b[1;33m\u001b[0m\u001b[1;33m\u001b[0m\u001b[0m\n",
       "\u001b[1;31mDocstring:\u001b[0m Return the Unicode code point for a one-character string.\n",
       "\u001b[1;31mType:\u001b[0m      builtin_function_or_method"
      ]
     },
     "metadata": {},
     "output_type": "display_data"
    }
   ],
   "source": [
    "ord?"
   ]
  },
  {
   "cell_type": "code",
   "execution_count": 308,
   "id": "a06a8ca5-ab5a-4910-83cb-13335cfe5db1",
   "metadata": {},
   "outputs": [
    {
     "data": {
      "text/plain": [
       "111"
      ]
     },
     "execution_count": 308,
     "metadata": {},
     "output_type": "execute_result"
    }
   ],
   "source": [
    "ord('o')"
   ]
  },
  {
   "cell_type": "code",
   "execution_count": 309,
   "id": "c10a85b3-c9d5-41d6-a9ee-b3be9857b6d9",
   "metadata": {},
   "outputs": [],
   "source": [
    "colors = ['Red','orange','Yellow','green','Blue']"
   ]
  },
  {
   "cell_type": "code",
   "execution_count": 310,
   "id": "43f9b440-13ba-45f3-bc57-8637d85b631f",
   "metadata": {},
   "outputs": [
    {
     "data": {
      "text/plain": [
       "'Blue'"
      ]
     },
     "execution_count": 310,
     "metadata": {},
     "output_type": "execute_result"
    }
   ],
   "source": [
    "min(colors)"
   ]
  },
  {
   "cell_type": "code",
   "execution_count": 314,
   "id": "2d23d079-aa7f-45a9-bfda-32931d76563a",
   "metadata": {},
   "outputs": [
    {
     "data": {
      "text/plain": [
       "'Yellow'"
      ]
     },
     "execution_count": 314,
     "metadata": {},
     "output_type": "execute_result"
    }
   ],
   "source": [
    "max(colors, key = lambda s: s.upper())"
   ]
  },
  {
   "cell_type": "code",
   "execution_count": 316,
   "id": "277295b3-7232-45bc-b8a5-0e21944afdd5",
   "metadata": {},
   "outputs": [],
   "source": [
    "numbers = [10, 3, 7, 1, 9, 4, 2, 8, 5, 6]"
   ]
  },
  {
   "cell_type": "code",
   "execution_count": 317,
   "id": "c9ae703c-4e27-41c9-a6b1-0719f1edab14",
   "metadata": {},
   "outputs": [],
   "source": [
    "reversed_numbers = [item ** 2 for item in reversed(numbers)]"
   ]
  },
  {
   "cell_type": "code",
   "execution_count": 318,
   "id": "d4ac081c-5132-4bcc-99fc-e39f7b07a850",
   "metadata": {},
   "outputs": [
    {
     "data": {
      "text/plain": [
       "[36, 25, 64, 4, 16, 81, 1, 49, 9, 100]"
      ]
     },
     "execution_count": 318,
     "metadata": {},
     "output_type": "execute_result"
    }
   ],
   "source": [
    "reversed_numbers"
   ]
  },
  {
   "cell_type": "code",
   "execution_count": 5,
   "id": "7df3c540-88f0-4289-ab6a-bf46d3565251",
   "metadata": {},
   "outputs": [],
   "source": [
    "names = ['Bob','Sue','Amanda']"
   ]
  },
  {
   "cell_type": "code",
   "execution_count": 6,
   "id": "0af0cd65-1cd3-448f-8168-c1f011c42f49",
   "metadata": {},
   "outputs": [],
   "source": [
    "grade_point_averages = [3.5, 4.0, 3.75]"
   ]
  },
  {
   "cell_type": "code",
   "execution_count": 7,
   "id": "2a451e7a-c788-4362-bf9b-76ecfbfb0c9f",
   "metadata": {},
   "outputs": [
    {
     "name": "stdout",
     "output_type": "stream",
     "text": [
      "Bob: 3.5\n",
      "Sue: 4.0\n",
      "Amanda: 3.75\n"
     ]
    }
   ],
   "source": [
    "for name, gpa in zip(names, grade_point_averages):\n",
    "    print(f'{name}: {gpa}')"
   ]
  },
  {
   "cell_type": "code",
   "execution_count": 8,
   "id": "8a8ae9ae-51b5-46ad-a1e5-b30286d2d1b8",
   "metadata": {},
   "outputs": [
    {
     "data": {
      "text/plain": [
       "[11, 22, 33]"
      ]
     },
     "execution_count": 8,
     "metadata": {},
     "output_type": "execute_result"
    }
   ],
   "source": [
    "[(a+b) for a, b in zip([10,20,30],[1,2,3])]"
   ]
  },
  {
   "cell_type": "code",
   "execution_count": 25,
   "id": "ece666b6-b8b6-4530-b735-a96bd6347fff",
   "metadata": {},
   "outputs": [],
   "source": [
    "import matplotlib.pyplot as plt"
   ]
  },
  {
   "cell_type": "code",
   "execution_count": 26,
   "id": "423a9ff1-fef0-4b14-9b57-c89d81507c0f",
   "metadata": {},
   "outputs": [],
   "source": [
    "import numpy as np"
   ]
  },
  {
   "cell_type": "code",
   "execution_count": 27,
   "id": "c29da917-3cd2-4fe6-ad5c-0efa623c0d53",
   "metadata": {},
   "outputs": [],
   "source": [
    "import random"
   ]
  },
  {
   "cell_type": "code",
   "execution_count": 28,
   "id": "34fd36a0-1486-4fc8-8083-4531bb2edbf7",
   "metadata": {},
   "outputs": [],
   "source": [
    "import seaborn as sns"
   ]
  },
  {
   "cell_type": "code",
   "execution_count": 29,
   "id": "befd6d72-db16-4f95-9347-b8695e23eafe",
   "metadata": {},
   "outputs": [],
   "source": [
    "rolls = [random.randrange(1,7) for i in range(600)]"
   ]
  },
  {
   "cell_type": "code",
   "execution_count": 30,
   "id": "cae2e729-b665-4dce-bef3-06760425c20d",
   "metadata": {},
   "outputs": [],
   "source": [
    "values, frequencies = np.unique(rolls, return_counts = True)"
   ]
  },
  {
   "cell_type": "code",
   "execution_count": 31,
   "id": "b2290c0d-32ac-466f-bb6d-7a186302713d",
   "metadata": {},
   "outputs": [],
   "source": [
    "title = f'Rolling a Six-Sided Die {len(rolls):,} Times'"
   ]
  },
  {
   "cell_type": "code",
   "execution_count": 32,
   "id": "0bc54d6c-9d91-4ae0-b1d0-858f59243a37",
   "metadata": {},
   "outputs": [],
   "source": [
    "sns.set_style('whitegrid')"
   ]
  },
  {
   "cell_type": "code",
   "execution_count": 41,
   "id": "8028f48d-d0e8-47d8-8fa6-21e05a10391b",
   "metadata": {},
   "outputs": [
    {
     "data": {
      "text/plain": [
       "\u001b[1;31mSignature:\u001b[0m\n",
       "\u001b[0msns\u001b[0m\u001b[1;33m.\u001b[0m\u001b[0mbarplot\u001b[0m\u001b[1;33m(\u001b[0m\u001b[1;33m\n",
       "\u001b[0m    \u001b[0mdata\u001b[0m\u001b[1;33m=\u001b[0m\u001b[1;32mNone\u001b[0m\u001b[1;33m,\u001b[0m\u001b[1;33m\n",
       "\u001b[0m    \u001b[1;33m*\u001b[0m\u001b[1;33m,\u001b[0m\u001b[1;33m\n",
       "\u001b[0m    \u001b[0mx\u001b[0m\u001b[1;33m=\u001b[0m\u001b[1;32mNone\u001b[0m\u001b[1;33m,\u001b[0m\u001b[1;33m\n",
       "\u001b[0m    \u001b[0my\u001b[0m\u001b[1;33m=\u001b[0m\u001b[1;32mNone\u001b[0m\u001b[1;33m,\u001b[0m\u001b[1;33m\n",
       "\u001b[0m    \u001b[0mhue\u001b[0m\u001b[1;33m=\u001b[0m\u001b[1;32mNone\u001b[0m\u001b[1;33m,\u001b[0m\u001b[1;33m\n",
       "\u001b[0m    \u001b[0morder\u001b[0m\u001b[1;33m=\u001b[0m\u001b[1;32mNone\u001b[0m\u001b[1;33m,\u001b[0m\u001b[1;33m\n",
       "\u001b[0m    \u001b[0mhue_order\u001b[0m\u001b[1;33m=\u001b[0m\u001b[1;32mNone\u001b[0m\u001b[1;33m,\u001b[0m\u001b[1;33m\n",
       "\u001b[0m    \u001b[0mestimator\u001b[0m\u001b[1;33m=\u001b[0m\u001b[1;34m'mean'\u001b[0m\u001b[1;33m,\u001b[0m\u001b[1;33m\n",
       "\u001b[0m    \u001b[0merrorbar\u001b[0m\u001b[1;33m=\u001b[0m\u001b[1;33m(\u001b[0m\u001b[1;34m'ci'\u001b[0m\u001b[1;33m,\u001b[0m \u001b[1;36m95\u001b[0m\u001b[1;33m)\u001b[0m\u001b[1;33m,\u001b[0m\u001b[1;33m\n",
       "\u001b[0m    \u001b[0mn_boot\u001b[0m\u001b[1;33m=\u001b[0m\u001b[1;36m1000\u001b[0m\u001b[1;33m,\u001b[0m\u001b[1;33m\n",
       "\u001b[0m    \u001b[0mseed\u001b[0m\u001b[1;33m=\u001b[0m\u001b[1;32mNone\u001b[0m\u001b[1;33m,\u001b[0m\u001b[1;33m\n",
       "\u001b[0m    \u001b[0munits\u001b[0m\u001b[1;33m=\u001b[0m\u001b[1;32mNone\u001b[0m\u001b[1;33m,\u001b[0m\u001b[1;33m\n",
       "\u001b[0m    \u001b[0mweights\u001b[0m\u001b[1;33m=\u001b[0m\u001b[1;32mNone\u001b[0m\u001b[1;33m,\u001b[0m\u001b[1;33m\n",
       "\u001b[0m    \u001b[0morient\u001b[0m\u001b[1;33m=\u001b[0m\u001b[1;32mNone\u001b[0m\u001b[1;33m,\u001b[0m\u001b[1;33m\n",
       "\u001b[0m    \u001b[0mcolor\u001b[0m\u001b[1;33m=\u001b[0m\u001b[1;32mNone\u001b[0m\u001b[1;33m,\u001b[0m\u001b[1;33m\n",
       "\u001b[0m    \u001b[0mpalette\u001b[0m\u001b[1;33m=\u001b[0m\u001b[1;32mNone\u001b[0m\u001b[1;33m,\u001b[0m\u001b[1;33m\n",
       "\u001b[0m    \u001b[0msaturation\u001b[0m\u001b[1;33m=\u001b[0m\u001b[1;36m0.75\u001b[0m\u001b[1;33m,\u001b[0m\u001b[1;33m\n",
       "\u001b[0m    \u001b[0mfill\u001b[0m\u001b[1;33m=\u001b[0m\u001b[1;32mTrue\u001b[0m\u001b[1;33m,\u001b[0m\u001b[1;33m\n",
       "\u001b[0m    \u001b[0mhue_norm\u001b[0m\u001b[1;33m=\u001b[0m\u001b[1;32mNone\u001b[0m\u001b[1;33m,\u001b[0m\u001b[1;33m\n",
       "\u001b[0m    \u001b[0mwidth\u001b[0m\u001b[1;33m=\u001b[0m\u001b[1;36m0.8\u001b[0m\u001b[1;33m,\u001b[0m\u001b[1;33m\n",
       "\u001b[0m    \u001b[0mdodge\u001b[0m\u001b[1;33m=\u001b[0m\u001b[1;34m'auto'\u001b[0m\u001b[1;33m,\u001b[0m\u001b[1;33m\n",
       "\u001b[0m    \u001b[0mgap\u001b[0m\u001b[1;33m=\u001b[0m\u001b[1;36m0\u001b[0m\u001b[1;33m,\u001b[0m\u001b[1;33m\n",
       "\u001b[0m    \u001b[0mlog_scale\u001b[0m\u001b[1;33m=\u001b[0m\u001b[1;32mNone\u001b[0m\u001b[1;33m,\u001b[0m\u001b[1;33m\n",
       "\u001b[0m    \u001b[0mnative_scale\u001b[0m\u001b[1;33m=\u001b[0m\u001b[1;32mFalse\u001b[0m\u001b[1;33m,\u001b[0m\u001b[1;33m\n",
       "\u001b[0m    \u001b[0mformatter\u001b[0m\u001b[1;33m=\u001b[0m\u001b[1;32mNone\u001b[0m\u001b[1;33m,\u001b[0m\u001b[1;33m\n",
       "\u001b[0m    \u001b[0mlegend\u001b[0m\u001b[1;33m=\u001b[0m\u001b[1;34m'auto'\u001b[0m\u001b[1;33m,\u001b[0m\u001b[1;33m\n",
       "\u001b[0m    \u001b[0mcapsize\u001b[0m\u001b[1;33m=\u001b[0m\u001b[1;36m0\u001b[0m\u001b[1;33m,\u001b[0m\u001b[1;33m\n",
       "\u001b[0m    \u001b[0merr_kws\u001b[0m\u001b[1;33m=\u001b[0m\u001b[1;32mNone\u001b[0m\u001b[1;33m,\u001b[0m\u001b[1;33m\n",
       "\u001b[0m    \u001b[0mci\u001b[0m\u001b[1;33m=\u001b[0m\u001b[1;33m<\u001b[0m\u001b[0mdeprecated\u001b[0m\u001b[1;33m>\u001b[0m\u001b[1;33m,\u001b[0m\u001b[1;33m\n",
       "\u001b[0m    \u001b[0merrcolor\u001b[0m\u001b[1;33m=\u001b[0m\u001b[1;33m<\u001b[0m\u001b[0mdeprecated\u001b[0m\u001b[1;33m>\u001b[0m\u001b[1;33m,\u001b[0m\u001b[1;33m\n",
       "\u001b[0m    \u001b[0merrwidth\u001b[0m\u001b[1;33m=\u001b[0m\u001b[1;33m<\u001b[0m\u001b[0mdeprecated\u001b[0m\u001b[1;33m>\u001b[0m\u001b[1;33m,\u001b[0m\u001b[1;33m\n",
       "\u001b[0m    \u001b[0max\u001b[0m\u001b[1;33m=\u001b[0m\u001b[1;32mNone\u001b[0m\u001b[1;33m,\u001b[0m\u001b[1;33m\n",
       "\u001b[0m    \u001b[1;33m**\u001b[0m\u001b[0mkwargs\u001b[0m\u001b[1;33m,\u001b[0m\u001b[1;33m\n",
       "\u001b[0m\u001b[1;33m)\u001b[0m\u001b[1;33m\u001b[0m\u001b[1;33m\u001b[0m\u001b[0m\n",
       "\u001b[1;31mDocstring:\u001b[0m\n",
       "Show point estimates and errors as rectangular bars.\n",
       "\n",
       "A bar plot represents an aggregate or statistical estimate for a numeric\n",
       "variable with the height of each rectangle and indicates the uncertainty\n",
       "around that estimate using an error bar. Bar plots include 0 in the\n",
       "axis range, and they are a good choice when 0 is a meaningful value\n",
       "for the variable to take.\n",
       "\n",
       "See the :ref:`tutorial <categorical_tutorial>` for more information.\n",
       "\n",
       ".. note::\n",
       "    By default, this function treats one of the variables as categorical\n",
       "    and draws data at ordinal positions (0, 1, ... n) on the relevant axis.\n",
       "    As of version 0.13.0, this can be disabled by setting `native_scale=True`.\n",
       "\n",
       "\n",
       "Parameters\n",
       "----------\n",
       "data : DataFrame, Series, dict, array, or list of arrays\n",
       "    Dataset for plotting. If `x` and `y` are absent, this is\n",
       "    interpreted as wide-form. Otherwise it is expected to be long-form.    \n",
       "x, y, hue : names of variables in `data` or vector data\n",
       "    Inputs for plotting long-form data. See examples for interpretation.    \n",
       "order, hue_order : lists of strings\n",
       "    Order to plot the categorical levels in; otherwise the levels are\n",
       "    inferred from the data objects.    \n",
       "estimator : string or callable that maps vector -> scalar\n",
       "    Statistical function to estimate within each categorical bin.\n",
       "errorbar : string, (string, number) tuple, callable or None\n",
       "    Name of errorbar method (either \"ci\", \"pi\", \"se\", or \"sd\"), or a tuple\n",
       "    with a method name and a level parameter, or a function that maps from a\n",
       "    vector to a (min, max) interval, or None to hide errorbar. See the\n",
       "    :doc:`errorbar tutorial </tutorial/error_bars>` for more information.\n",
       "\n",
       "    .. versionadded:: v0.12.0\n",
       "n_boot : int\n",
       "    Number of bootstrap samples used to compute confidence intervals.\n",
       "seed : int, `numpy.random.Generator`, or `numpy.random.RandomState`\n",
       "    Seed or random number generator for reproducible bootstrapping.\n",
       "units : name of variable in `data` or vector data\n",
       "    Identifier of sampling units; used by the errorbar function to\n",
       "    perform a multilevel bootstrap and account for repeated measures\n",
       "weights : name of variable in `data` or vector data\n",
       "    Data values or column used to compute weighted statistics.\n",
       "    Note that the use of weights may limit other statistical options.\n",
       "\n",
       "    .. versionadded:: v0.13.1    \n",
       "orient : \"v\" | \"h\" | \"x\" | \"y\"\n",
       "    Orientation of the plot (vertical or horizontal). This is usually\n",
       "    inferred based on the type of the input variables, but it can be used\n",
       "    to resolve ambiguity when both `x` and `y` are numeric or when\n",
       "    plotting wide-form data.\n",
       "\n",
       "    .. versionchanged:: v0.13.0\n",
       "        Added 'x'/'y' as options, equivalent to 'v'/'h'.    \n",
       "color : matplotlib color\n",
       "    Single color for the elements in the plot.    \n",
       "palette : palette name, list, or dict\n",
       "    Colors to use for the different levels of the ``hue`` variable. Should\n",
       "    be something that can be interpreted by :func:`color_palette`, or a\n",
       "    dictionary mapping hue levels to matplotlib colors.    \n",
       "saturation : float\n",
       "    Proportion of the original saturation to draw fill colors in. Large\n",
       "    patches often look better with desaturated colors, but set this to\n",
       "    `1` if you want the colors to perfectly match the input values.    \n",
       "fill : bool\n",
       "    If True, use a solid patch. Otherwise, draw as line art.\n",
       "\n",
       "    .. versionadded:: v0.13.0    \n",
       "hue_norm : tuple or :class:`matplotlib.colors.Normalize` object\n",
       "    Normalization in data units for colormap applied to the `hue`\n",
       "    variable when it is numeric. Not relevant if `hue` is categorical.\n",
       "\n",
       "    .. versionadded:: v0.12.0    \n",
       "width : float\n",
       "    Width allotted to each element on the orient axis. When `native_scale=True`,\n",
       "    it is relative to the minimum distance between two values in the native scale.    \n",
       "dodge : \"auto\" or bool\n",
       "    When hue mapping is used, whether elements should be narrowed and shifted along\n",
       "    the orient axis to eliminate overlap. If `\"auto\"`, set to `True` when the\n",
       "    orient variable is crossed with the categorical variable or `False` otherwise.\n",
       "\n",
       "    .. versionchanged:: 0.13.0\n",
       "\n",
       "        Added `\"auto\"` mode as a new default.    \n",
       "gap : float\n",
       "    Shrink on the orient axis by this factor to add a gap between dodged elements.\n",
       "\n",
       "    .. versionadded:: 0.13.0    \n",
       "log_scale : bool or number, or pair of bools or numbers\n",
       "    Set axis scale(s) to log. A single value sets the data axis for any numeric\n",
       "    axes in the plot. A pair of values sets each axis independently.\n",
       "    Numeric values are interpreted as the desired base (default 10).\n",
       "    When `None` or `False`, seaborn defers to the existing Axes scale.\n",
       "\n",
       "    .. versionadded:: v0.13.0    \n",
       "native_scale : bool\n",
       "    When True, numeric or datetime values on the categorical axis will maintain\n",
       "    their original scaling rather than being converted to fixed indices.\n",
       "\n",
       "    .. versionadded:: v0.13.0    \n",
       "formatter : callable\n",
       "    Function for converting categorical data into strings. Affects both grouping\n",
       "    and tick labels.\n",
       "\n",
       "    .. versionadded:: v0.13.0    \n",
       "legend : \"auto\", \"brief\", \"full\", or False\n",
       "    How to draw the legend. If \"brief\", numeric `hue` and `size`\n",
       "    variables will be represented with a sample of evenly spaced values.\n",
       "    If \"full\", every group will get an entry in the legend. If \"auto\",\n",
       "    choose between brief or full representation based on number of levels.\n",
       "    If `False`, no legend data is added and no legend is drawn.\n",
       "\n",
       "    .. versionadded:: v0.13.0    \n",
       "capsize : float\n",
       "    Width of the \"caps\" on error bars, relative to bar spacing.    \n",
       "err_kws : dict\n",
       "    Parameters of :class:`matplotlib.lines.Line2D`, for the error bar artists.\n",
       "\n",
       "    .. versionadded:: v0.13.0    \n",
       "ci : float\n",
       "    Level of the confidence interval to show, in [0, 100].\n",
       "\n",
       "    .. deprecated:: v0.12.0\n",
       "        Use `errorbar=(\"ci\", ...)`.    \n",
       "errcolor : matplotlib color\n",
       "    Color used for the error bar lines.\n",
       "\n",
       "    .. deprecated:: 0.13.0\n",
       "        Use `err_kws={'color': ...}`.    \n",
       "errwidth : float\n",
       "    Thickness of error bar lines (and caps), in points.\n",
       "\n",
       "    .. deprecated:: 0.13.0\n",
       "        Use `err_kws={'linewidth': ...}`.    \n",
       "ax : matplotlib Axes\n",
       "    Axes object to draw the plot onto, otherwise uses the current Axes.    \n",
       "kwargs : key, value mappings\n",
       "    Other parameters are passed through to :class:`matplotlib.patches.Rectangle`.\n",
       "\n",
       "Returns\n",
       "-------\n",
       "ax : matplotlib Axes\n",
       "    Returns the Axes object with the plot drawn onto it.    \n",
       "\n",
       "See Also\n",
       "--------\n",
       "countplot : Show the counts of observations in each categorical bin.    \n",
       "pointplot : Show point estimates and confidence intervals using dots.    \n",
       "catplot : Combine a categorical plot with a :class:`FacetGrid`.    \n",
       "\n",
       "Notes\n",
       "-----\n",
       "\n",
       "For datasets where 0 is not a meaningful value, a :func:`pointplot` will\n",
       "allow you to focus on differences between levels of one or more categorical\n",
       "variables.\n",
       "\n",
       "It is also important to keep in mind that a bar plot shows only the mean (or\n",
       "other aggregate) value, but it is often more informative to show the\n",
       "distribution of values at each level of the categorical variables. In those\n",
       "cases, approaches such as a :func:`boxplot` or :func:`violinplot` may be\n",
       "more appropriate.\n",
       "\n",
       "Examples\n",
       "--------\n",
       ".. include:: ../docstrings/barplot.rst\n",
       "\u001b[1;31mFile:\u001b[0m      c:\\users\\timry\\appdata\\local\\packages\\pythonsoftwarefoundation.python.3.12_qbz5n2kfra8p0\\localcache\\local-packages\\python312\\site-packages\\seaborn\\categorical.py\n",
       "\u001b[1;31mType:\u001b[0m      function"
      ]
     },
     "metadata": {},
     "output_type": "display_data"
    }
   ],
   "source": [
    "sns.barplot?"
   ]
  },
  {
   "cell_type": "code",
   "execution_count": 54,
   "id": "fae85253-4275-454b-9646-c1be88e3c1e3",
   "metadata": {},
   "outputs": [
    {
     "name": "stderr",
     "output_type": "stream",
     "text": [
      "C:\\Users\\timry\\AppData\\Local\\Temp\\ipykernel_4664\\1129373514.py:1: FutureWarning: \n",
      "\n",
      "Passing `palette` without assigning `hue` is deprecated and will be removed in v0.14.0. Assign the `x` variable to `hue` and set `legend=False` for the same effect.\n",
      "\n",
      "  axes = sns.barplot(x=values, y=frequencies, palette = 'bright', legend=False)\n"
     ]
    },
    {
     "data": {
      "image/png": "[encoded data removed]",
      "text/plain": [
       "<Figure size 640x480 with 1 Axes>"
      ]
     },
     "metadata": {},
     "output_type": "display_data"
    }
   ],
   "source": [
    "axes = sns.barplot(x=values, y=frequencies, palette = 'bright', legend=False)"
   ]
  },
  {
   "cell_type": "code",
   "execution_count": 55,
   "id": "0688ae2e-bb4f-401d-9896-ec83b88d9093",
   "metadata": {},
   "outputs": [
    {
     "data": {
      "text/plain": [
       "<bound method Axes.set_title of <Axes: >>"
      ]
     },
     "execution_count": 55,
     "metadata": {},
     "output_type": "execute_result"
    }
   ],
   "source": [
    "axes.set_title"
   ]
  },
  {
   "cell_type": "code",
   "execution_count": 56,
   "id": "362a7c30-7f26-4621-82e1-e284017f6ed0",
   "metadata": {},
   "outputs": [
    {
     "data": {
      "text/plain": [
       "[Text(0.5, 4.444444444444445, 'Die Value'),\n",
       " Text(4.444444444444452, 0.5, 'Frequency')]"
      ]
     },
     "execution_count": 56,
     "metadata": {},
     "output_type": "execute_result"
    }
   ],
   "source": [
    "axes.set(xlabel='Die Value', ylabel= 'Frequency')"
   ]
  },
  {
   "cell_type": "code",
   "execution_count": 57,
   "id": "2f2b6132-f6b6-4f30-83ea-763fbc32fc3d",
   "metadata": {},
   "outputs": [
    {
     "data": {
      "text/plain": [
       "(0.0, 117.7)"
      ]
     },
     "execution_count": 57,
     "metadata": {},
     "output_type": "execute_result"
    }
   ],
   "source": [
    "axes.set_ylim(top = max(frequencies) * 1.10)"
   ]
  },
  {
   "cell_type": "raw",
   "id": "73f17d8e-c4b0-41df-8650-6a983bdeff55",
   "metadata": {},
   "source": []
  },
  {
   "cell_type": "code",
   "execution_count": 59,
   "id": "bc0a4804-3082-4c76-80ce-267fb0599f41",
   "metadata": {},
   "outputs": [
    {
     "ename": "SyntaxError",
     "evalue": "incomplete input (3702691648.py, line 1)",
     "output_type": "error",
     "traceback": [
      "\u001b[1;36m  Cell \u001b[1;32mIn[59], line 1\u001b[1;36m\u001b[0m\n\u001b[1;33m    for bar, frequency in zip(patches, frequencies):\u001b[0m\n\u001b[1;37m                                                    ^\u001b[0m\n\u001b[1;31mSyntaxError\u001b[0m\u001b[1;31m:\u001b[0m incomplete input\n"
     ]
    }
   ],
   "source": [
    "for bar, frequency in zip(patches, frequencies):"
   ]
  },
  {
   "cell_type": "code",
   "execution_count": 60,
   "id": "40c4fb63-63e2-47b4-92af-d8ec8058704d",
   "metadata": {},
   "outputs": [
    {
     "ename": "NameError",
     "evalue": "name 'patches' is not defined",
     "output_type": "error",
     "traceback": [
      "\u001b[1;31m---------------------------------------------------------------------------\u001b[0m",
      "\u001b[1;31mNameError\u001b[0m                                 Traceback (most recent call last)",
      "Cell \u001b[1;32mIn[60], line 1\u001b[0m\n\u001b[1;32m----> 1\u001b[0m \u001b[43mpatches\u001b[49m\n",
      "\u001b[1;31mNameError\u001b[0m: name 'patches' is not defined"
     ]
    }
   ],
   "source": [
    "patches"
   ]
  },
  {
   "cell_type": "code",
   "execution_count": 39,
   "id": "cd595162-55e5-4c6d-b283-b83c14ea77dd",
   "metadata": {},
   "outputs": [
    {
     "name": "stdout",
     "output_type": "stream",
     "text": [
      "<Axes.ArtistList of 6 patches>\n"
     ]
    }
   ],
   "source": [
    "print(axes.patches)"
   ]
  },
  {
   "cell_type": "code",
   "execution_count": 40,
   "id": "781f528a-7448-415b-9994-d49a2da3adda",
   "metadata": {},
   "outputs": [
    {
     "data": {
      "text/plain": [
       "array([ 96, 105,  98, 107,  91, 103], dtype=int64)"
      ]
     },
     "execution_count": 40,
     "metadata": {},
     "output_type": "execute_result"
    }
   ],
   "source": [
    "frequencies"
   ]
  },
  {
   "cell_type": "code",
   "execution_count": null,
   "id": "12d0d419-46eb-4892-8d57-691b00f5848e",
   "metadata": {},
   "outputs": [],
   "source": []
  }
 ],
 "metadata": {
  "kernelspec": {
   "display_name": "Python 3 (ipykernel)",
   "language": "python",
   "name": "python3"
  },
  "language_info": {
   "codemirror_mode": {
    "name": "ipython",
    "version": 3
   },
   "file_extension": ".py",
   "mimetype": "text/x-python",
   "name": "python",
   "nbconvert_exporter": "python",
   "pygments_lexer": "ipython3",
   "version": "3.12.2"
  }
 },
 "nbformat": 4,
 "nbformat_minor": 5
}
